{
 "cells": [
  {
   "cell_type": "markdown",
   "metadata": {},
   "source": [
    "Let's try some basic tests of `VB.jl`:"
   ]
  },
  {
   "cell_type": "code",
   "execution_count": 1,
   "metadata": {
    "collapsed": false
   },
   "outputs": [],
   "source": [
    "include(\"VB.jl\")\n",
    "using VB\n",
    "using Distributions"
   ]
  },
  {
   "cell_type": "code",
   "execution_count": 2,
   "metadata": {
    "collapsed": false
   },
   "outputs": [
    {
     "name": "stdout",
     "output_type": "stream",
     "text": [
      "search: "
     ]
    },
    {
     "data": {
      "text/latex": [
       "A Variational Bayesian modeling approach. Models are defined by  bipartite graphs in which factors defining terms in the variational objective are connected to nodes defining variables.\n"
      ],
      "text/markdown": [
       "A Variational Bayesian modeling approach. Models are defined by  bipartite graphs in which factors defining terms in the variational objective are connected to nodes defining variables.\n"
      ],
      "text/plain": [
       "A Variational Bayesian modeling approach. Models are defined by  bipartite graphs in which factors defining terms in the variational objective are connected to nodes defining variables.\n"
      ]
     },
     "execution_count": 2,
     "metadata": {},
     "output_type": "execute_result"
    }
   ],
   "source": [
    "?VB"
   ]
  },
  {
   "cell_type": "markdown",
   "metadata": {},
   "source": [
    "Let's try to make a Gaussian node with several different sizes and parameterizations:"
   ]
  },
  {
   "cell_type": "code",
   "execution_count": 3,
   "metadata": {
    "collapsed": false
   },
   "outputs": [
    {
     "name": "stdout",
     "output_type": "stream",
     "text": [
      "VB VBModel A_rdiv_Bt A_rdiv_Bc A_ldiv_Bt A_ldiv_Bc A_ldiv_B! At_rdiv_B\n",
      "\n"
     ]
    },
    {
     "data": {
      "text/plain": [
       "3"
      ]
     },
     "execution_count": 3,
     "metadata": {},
     "output_type": "execute_result"
    }
   ],
   "source": [
    "ndims = (5, 5)  # node dimensions\n",
    "vardims = 3  # dimension of variable"
   ]
  },
  {
   "cell_type": "code",
   "execution_count": 4,
   "metadata": {
    "collapsed": false
   },
   "outputs": [],
   "source": [
    "μ = Array{Vector{Float64}}(ndims)\n",
    "Σ = Array{Matrix{Float64}}(ndims)\n",
    "\n",
    "for idx in eachindex(μ)\n",
    "    μ[idx] = rand(vardims)\n",
    "end\n",
    "\n",
    "for idx in eachindex(Σ)\n",
    "    C = rand(vardims, vardims)\n",
    "    Σ[idx] = C * C'\n",
    "end"
   ]
  },
  {
   "cell_type": "code",
   "execution_count": 5,
   "metadata": {
    "collapsed": false
   },
   "outputs": [
    {
     "data": {
      "text/plain": [
       "3-element Array{Float64,1}:\n",
       " 0.345982\n",
       " 0.755893\n",
       " 0.338165"
      ]
     },
     "execution_count": 5,
     "metadata": {},
     "output_type": "execute_result"
    }
   ],
   "source": [
    "μ[1]"
   ]
  },
  {
   "cell_type": "code",
   "execution_count": 6,
   "metadata": {
    "collapsed": false
   },
   "outputs": [
    {
     "data": {
      "text/plain": [
       "3x3 Array{Float64,2}:\n",
       " 1.11795  1.07088  1.10594\n",
       " 1.07088  1.05843  1.08453\n",
       " 1.10594  1.08453  1.25027"
      ]
     },
     "execution_count": 6,
     "metadata": {},
     "output_type": "execute_result"
    }
   ],
   "source": [
    "Σ[1]"
   ]
  },
  {
   "cell_type": "code",
   "execution_count": 7,
   "metadata": {
    "collapsed": false
   },
   "outputs": [
    {
     "data": {
      "text/plain": [
       "0.2533429251830818"
      ]
     },
     "execution_count": 7,
     "metadata": {},
     "output_type": "execute_result"
    }
   ],
   "source": [
    "det(Σ[2])"
   ]
  },
  {
   "cell_type": "code",
   "execution_count": 8,
   "metadata": {
    "collapsed": false
   },
   "outputs": [
    {
     "data": {
      "text/plain": [
       "5x5 Array{Distributions.MvNormal{PDMats.PDMat,Array{Float64,1}},2}:\n",
       " FullNormal(\n",
       "dim: 3\n",
       "μ: [0.345982277222981,0.7558932185358773,0.3381648949325049]\n",
       "Σ: 3x3 Array{Float64,2}:\n",
       " 1.11795  1.07088  1.10594\n",
       " 1.07088  1.05843  1.08453\n",
       " 1.10594  1.08453  1.25027\n",
       ")\n",
       "                …  FullNormal(\n",
       "dim: 3\n",
       "μ: [0.9715268525675238,0.2691687652904713,0.21138056359047575]\n",
       "Σ: 3x3 Array{Float64,2}:\n",
       " 1.568     0.884092  0.973069\n",
       " 0.884092  0.603355  0.689183\n",
       " 0.973069  0.689183  0.96286 \n",
       ")\n",
       "\n",
       " FullNormal(\n",
       "dim: 3\n",
       "μ: [0.7463057882776774,0.554817866920561,0.8060909231661433]\n",
       "Σ: 3x3 Array{Float64,2}:\n",
       " 1.52703   1.42094  0.454152\n",
       " 1.42094   2.1124   1.27759 \n",
       " 0.454152  1.27759  1.27014 \n",
       ")\n",
       "             FullNormal(\n",
       "dim: 3\n",
       "μ: [0.17969240257309615,0.4735229588198855,0.8290137563212414]\n",
       "Σ: 3x3 Array{Float64,2}:\n",
       " 1.7875    0.954159  1.4039  \n",
       " 0.954159  0.674016  0.566994\n",
       " 1.4039    0.566994  1.32967 \n",
       ")\n",
       "\n",
       " FullNormal(\n",
       "dim: 3\n",
       "μ: [0.1859191209336013,0.3980968441095367,0.23005385853533733]\n",
       "Σ: 3x3 Array{Float64,2}:\n",
       " 0.217159  0.347827  0.352192\n",
       " 0.347827  0.619295  0.592906\n",
       " 0.352192  0.592906  0.591345\n",
       ")\n",
       "        FullNormal(\n",
       "dim: 3\n",
       "μ: [0.6889090907974094,0.3724431613093391,0.7775566202975501]\n",
       "Σ: 3x3 Array{Float64,2}:\n",
       " 1.57886  1.25755  1.24229\n",
       " 1.25755  1.76648  1.37348\n",
       " 1.24229  1.37348  1.49522\n",
       ")\n",
       "          \n",
       " FullNormal(\n",
       "dim: 3\n",
       "μ: [0.879200944958431,0.7071778411534984,0.594834809315059]\n",
       "Σ: 3x3 Array{Float64,2}:\n",
       " 0.153621   0.194809  0.0868068\n",
       " 0.194809   1.23856   0.355093 \n",
       " 0.0868068  0.355093  0.214903 \n",
       ")\n",
       "     FullNormal(\n",
       "dim: 3\n",
       "μ: [0.291567424429354,0.7069116955182582,0.5611757557877586]\n",
       "Σ: 3x3 Array{Float64,2}:\n",
       " 0.915008  0.310386  0.491789\n",
       " 0.310386  0.92928   1.36738 \n",
       " 0.491789  1.36738   2.05321 \n",
       ")\n",
       "  \n",
       " FullNormal(\n",
       "dim: 3\n",
       "μ: [0.09201178838207502,0.0592821999408748,0.7011015074115228]\n",
       "Σ: 3x3 Array{Float64,2}:\n",
       " 1.57462  1.23351  1.89319\n",
       " 1.23351  1.10836  1.39671\n",
       " 1.89319  1.39671  2.38491\n",
       ")\n",
       "                 FullNormal(\n",
       "dim: 3\n",
       "μ: [0.1221044255260566,0.01104314358201286,0.5612865362448232]\n",
       "Σ: 3x3 Array{Float64,2}:\n",
       " 1.39746   1.32605  0.775788\n",
       " 1.32605   2.20557  1.5482  \n",
       " 0.775788  1.5482   1.14597 \n",
       ")\n",
       "   "
      ]
     },
     "execution_count": 8,
     "metadata": {},
     "output_type": "execute_result"
    }
   ],
   "source": [
    "pars = (μ, Σ)\n",
    "aa = map(MultivariateNormal, pars...)"
   ]
  },
  {
   "cell_type": "code",
   "execution_count": 9,
   "metadata": {
    "collapsed": false
   },
   "outputs": [],
   "source": [
    "rr = RandomNode(aa, Factor[]);"
   ]
  },
  {
   "cell_type": "code",
   "execution_count": 10,
   "metadata": {
    "collapsed": false
   },
   "outputs": [
    {
     "data": {
      "text/plain": [
       "Array{Distributions.MvNormal{PDMats.PDMat,Array{Float64,1}},2}"
      ]
     },
     "execution_count": 10,
     "metadata": {},
     "output_type": "execute_result"
    }
   ],
   "source": [
    "typeof(aa)"
   ]
  },
  {
   "cell_type": "code",
   "execution_count": 11,
   "metadata": {
    "collapsed": false
   },
   "outputs": [
    {
     "data": {
      "text/plain": [
       "true"
      ]
     },
     "execution_count": 11,
     "metadata": {},
     "output_type": "execute_result"
    }
   ],
   "source": [
    "typeof(aa) <: AbstractArray{typeof(aa[1]), 2}"
   ]
  },
  {
   "cell_type": "code",
   "execution_count": 12,
   "metadata": {
    "collapsed": false
   },
   "outputs": [],
   "source": [
    "ss = RandomNode(MultivariateNormal, pars...);"
   ]
  },
  {
   "cell_type": "code",
   "execution_count": 13,
   "metadata": {
    "collapsed": false,
    "scrolled": true
   },
   "outputs": [
    {
     "data": {
      "text/plain": [
       "5x5 Array{Array{Float64,1},2}:\n",
       " [0.345982277222981,0.7558932185358773,0.3381648949325049]    …  [0.9715268525675238,0.2691687652904713,0.21138056359047575]\n",
       " [0.7463057882776774,0.554817866920561,0.8060909231661433]       [0.17969240257309615,0.4735229588198855,0.8290137563212414]\n",
       " [0.1859191209336013,0.3980968441095367,0.23005385853533733]     [0.6889090907974094,0.3724431613093391,0.7775566202975501] \n",
       " [0.879200944958431,0.7071778411534984,0.594834809315059]        [0.291567424429354,0.7069116955182582,0.5611757557877586]  \n",
       " [0.09201178838207502,0.0592821999408748,0.7011015074115228]     [0.1221044255260566,0.01104314358201286,0.5612865362448232]"
      ]
     },
     "execution_count": 13,
     "metadata": {},
     "output_type": "execute_result"
    }
   ],
   "source": [
    "E(ss)"
   ]
  },
  {
   "cell_type": "code",
   "execution_count": 14,
   "metadata": {
    "collapsed": false
   },
   "outputs": [
    {
     "name": "stdout",
     "output_type": "stream",
     "text": [
      "search: "
     ]
    },
    {
     "data": {
      "text/latex": [
       "Calculates the expected value of a Node x.\n"
      ],
      "text/markdown": [
       "Calculates the expected value of a Node x.\n"
      ],
      "text/plain": [
       "Calculates the expected value of a Node x.\n"
      ]
     },
     "execution_count": 14,
     "metadata": {},
     "output_type": "execute_result"
    }
   ],
   "source": [
    "?E"
   ]
  },
  {
   "cell_type": "code",
   "execution_count": 15,
   "metadata": {
    "collapsed": false
   },
   "outputs": [
    {
     "data": {
      "text/plain": [
       "Distributions.MvNormal{PDMats.PDMat,Array{Float64,1}}"
      ]
     },
     "execution_count": 15,
     "metadata": {},
     "output_type": "execute_result"
    }
   ],
   "source": [
    "typeof(ss).parameters[1]"
   ]
  },
  {
   "cell_type": "markdown",
   "metadata": {},
   "source": [
    "# Make a factor and check its value"
   ]
  },
  {
   "cell_type": "code",
   "execution_count": 16,
   "metadata": {
    "collapsed": false
   },
   "outputs": [
    {
     "data": {
      "text/plain": [
       "VB.LogNormalFactor(VB.RandomNode{Distributions.Normal,1}([Distributions.Normal(μ=0.18111805257201152, σ=0.5462740472880714),Distributions.Normal(μ=0.6279427705004468, σ=0.06258819833188611),Distributions.Normal(μ=0.2617511076199648, σ=0.14621711989223973),Distributions.Normal(μ=0.6581629214668996, σ=0.5252931475978668),Distributions.Normal(μ=0.5058524530066031, σ=0.30634874453755123),Distributions.Normal(μ=0.7800316492659343, σ=0.03625620527288498),Distributions.Normal(μ=0.8428490523188681, σ=0.7126230844484527),Distributions.Normal(μ=0.367693529103974, σ=0.015583288047936739),Distributions.Normal(μ=0.9742369141092113, σ=0.5536038031074781),Distributions.Normal(μ=0.597349726626212, σ=0.6491061393704349)],VB.Factor[]),VB.ConstantNode{Float64,1}([0.02254216483223548,0.45759095016315143,0.5939120705825571,0.07575175889429109,0.4748362138149156,0.06744137231969671,0.4653975061177491,0.13646034153088094,0.4781835104362173,0.3276126416054541],VB.Factor[]),VB.ConstantNode{Float64,1}([0.27113549310539775,0.46726911941534555,0.8385207366336063,0.7310447624116774,0.11298280611644862,0.13861048599576908,0.32383973353364337,0.1824150703867995,0.8544308465761865,0.5705750764571487],VB.Factor[]))"
      ]
     },
     "execution_count": 16,
     "metadata": {},
     "output_type": "execute_result"
    },
    {
     "name": "stdout",
     "output_type": "stream",
     "text": [
      "E e eu ENV end Expr eye exp eta esc erf eps eof eig Enum Elog else expm\n",
      "\n"
     ]
    }
   ],
   "source": [
    "μ = rand(10)\n",
    "τ = rand(10)\n",
    "x = RandomNode(Normal, rand(10), rand(10))\n",
    "f = LogNormalFactor(x, μ, τ)"
   ]
  },
  {
   "cell_type": "code",
   "execution_count": 17,
   "metadata": {
    "collapsed": false
   },
   "outputs": [
    {
     "data": {
      "text/plain": [
       "-4.9191638912071305"
      ]
     },
     "execution_count": 17,
     "metadata": {},
     "output_type": "execute_result"
    }
   ],
   "source": [
    "value(f)"
   ]
  },
  {
   "cell_type": "code",
   "execution_count": 18,
   "metadata": {
    "collapsed": false
   },
   "outputs": [
    {
     "data": {
      "text/plain": [
       "VB.LogNormalFactor(VB.RandomNode{Distributions.Normal,1}([Distributions.Normal(μ=0.18111805257201152, σ=0.5462740472880714),Distributions.Normal(μ=0.6279427705004468, σ=0.06258819833188611),Distributions.Normal(μ=0.2617511076199648, σ=0.14621711989223973),Distributions.Normal(μ=0.6581629214668996, σ=0.5252931475978668),Distributions.Normal(μ=0.5058524530066031, σ=0.30634874453755123),Distributions.Normal(μ=0.7800316492659343, σ=0.03625620527288498),Distributions.Normal(μ=0.8428490523188681, σ=0.7126230844484527),Distributions.Normal(μ=0.367693529103974, σ=0.015583288047936739),Distributions.Normal(μ=0.9742369141092113, σ=0.5536038031074781),Distributions.Normal(μ=0.597349726626212, σ=0.6491061393704349)],VB.Factor[VB.LogNormalFactor(#= circular reference =#)]),VB.ConstantNode{Float64,1}([0.02254216483223548,0.45759095016315143,0.5939120705825571,0.07575175889429109,0.4748362138149156,0.06744137231969671,0.4653975061177491,0.13646034153088094,0.4781835104362173,0.3276126416054541],VB.Factor[VB.LogNormalFactor(#= circular reference =#)]),VB.ConstantNode{Float64,1}([0.27113549310539775,0.46726911941534555,0.8385207366336063,0.7310447624116774,0.11298280611644862,0.13861048599576908,0.32383973353364337,0.1824150703867995,0.8544308465761865,0.5705750764571487],VB.Factor[VB.LogNormalFactor(#= circular reference =#)]))"
      ]
     },
     "execution_count": 18,
     "metadata": {},
     "output_type": "execute_result"
    }
   ],
   "source": [
    "register(f)\n",
    "x.factors[1]"
   ]
  },
  {
   "cell_type": "code",
   "execution_count": 21,
   "metadata": {
    "collapsed": false
   },
   "outputs": [
    {
     "data": {
      "text/plain": [
       "VB.EntropyFactor(VB.RandomNode{Distributions.Normal,1}([Distributions.Normal(μ=0.18111805257201152, σ=0.5462740472880714),Distributions.Normal(μ=0.6279427705004468, σ=0.06258819833188611),Distributions.Normal(μ=0.2617511076199648, σ=0.14621711989223973),Distributions.Normal(μ=0.6581629214668996, σ=0.5252931475978668),Distributions.Normal(μ=0.5058524530066031, σ=0.30634874453755123),Distributions.Normal(μ=0.7800316492659343, σ=0.03625620527288498),Distributions.Normal(μ=0.8428490523188681, σ=0.7126230844484527),Distributions.Normal(μ=0.367693529103974, σ=0.015583288047936739),Distributions.Normal(μ=0.9742369141092113, σ=0.5536038031074781),Distributions.Normal(μ=0.597349726626212, σ=0.6491061393704349)],VB.Factor[VB.LogNormalFactor(VB.RandomNode{Distributions.Normal,1}(#= circular reference =#),VB.ConstantNode{Float64,1}([0.02254216483223548,0.45759095016315143,0.5939120705825571,0.07575175889429109,0.4748362138149156,0.06744137231969671,0.4653975061177491,0.13646034153088094,0.4781835104362173,0.3276126416054541],VB.Factor[VB.LogNormalFactor(#= circular reference =#)]),VB.ConstantNode{Float64,1}([0.27113549310539775,0.46726911941534555,0.8385207366336063,0.7310447624116774,0.11298280611644862,0.13861048599576908,0.32383973353364337,0.1824150703867995,0.8544308465761865,0.5705750764571487],VB.Factor[VB.LogNormalFactor(#= circular reference =#)]))]))"
      ]
     },
     "execution_count": 21,
     "metadata": {},
     "output_type": "execute_result"
    }
   ],
   "source": [
    "g = EntropyFactor(x)\n",
    "value(g)"
   ]
  },
  {
   "cell_type": "code",
   "execution_count": null,
   "metadata": {
    "collapsed": true
   },
   "outputs": [],
   "source": []
  }
 ],
 "metadata": {
  "kernelspec": {
   "display_name": "Julia 0.4.1",
   "language": "julia",
   "name": "julia-0.4"
  },
  "language_info": {
   "file_extension": ".jl",
   "mimetype": "application/julia",
   "name": "julia",
   "version": "0.4.1"
  }
 },
 "nbformat": 4,
 "nbformat_minor": 0
}
