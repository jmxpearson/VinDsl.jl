{
 "cells": [
  {
   "cell_type": "markdown",
   "metadata": {},
   "source": [
    "Let's try some basic tests of `VB.jl`:"
   ]
  },
  {
   "cell_type": "code",
   "execution_count": 1,
   "metadata": {
    "collapsed": false
   },
   "outputs": [],
   "source": [
    "include(\"VB.jl\")\n",
    "using VB\n",
    "using Distributions"
   ]
  },
  {
   "cell_type": "markdown",
   "metadata": {},
   "source": [
    "# Make a node"
   ]
  },
  {
   "cell_type": "code",
   "execution_count": 2,
   "metadata": {
    "collapsed": false
   },
   "outputs": [
    {
     "data": {
      "text/plain": [
       "VB.RandomNode{Distributions.Gamma}(:b,[:j,:k],5x3 Array{Distributions.Gamma,2}:\n",
       " Distributions.Gamma(α=0.8344713415168299, θ=0.7872185614222056)   …  Distributions.Gamma(α=0.17612861488218834, θ=0.038251445779690085)\n",
       " Distributions.Gamma(α=0.2392558388843522, θ=0.1780994820783588)      Distributions.Gamma(α=0.3324554094065324, θ=0.6103039857465118)   \n",
       " Distributions.Gamma(α=0.820903968038649, θ=0.7725750492383641)       Distributions.Gamma(α=0.4914950079098066, θ=0.07179905186960855)  \n",
       " Distributions.Gamma(α=0.7081470910079337, θ=0.14603292428654635)     Distributions.Gamma(α=0.570065141009251, θ=0.46922207190131293)   \n",
       " Distributions.Gamma(α=0.8958490411186462, θ=0.9243424780572451)      Distributions.Gamma(α=0.7279441517685241, θ=0.9278618939898446)   )"
      ]
     },
     "execution_count": 2,
     "metadata": {},
     "output_type": "execute_result"
    }
   ],
   "source": [
    "μ = rand(5, 5)\n",
    "σ = rand(5, 5)\n",
    "aa = RandomNode(:a, [:i, :j], Normal, μ, σ)\n",
    "bb = RandomNode(:b, [:j, :k], Gamma, rand(5, 3), rand(5, 3))"
   ]
  },
  {
   "cell_type": "code",
   "execution_count": 3,
   "metadata": {
    "collapsed": false
   },
   "outputs": [
    {
     "data": {
      "text/plain": [
       "VB.ConstantNode{Float64}(:c,[:i,:j],3x4 Array{Float64,2}:\n",
       " 0.855353  0.0470957  0.397108  0.707681\n",
       " 0.900955  0.164339   0.902798  0.653251\n",
       " 0.167275  0.960696   0.380499  0.665275)"
      ]
     },
     "execution_count": 3,
     "metadata": {},
     "output_type": "execute_result"
    }
   ],
   "source": [
    "cc = ConstantNode(:c, [:i, :j], rand(3, 4))"
   ]
  },
  {
   "cell_type": "code",
   "execution_count": 4,
   "metadata": {
    "collapsed": false
   },
   "outputs": [
    {
     "data": {
      "text/plain": [
       "VB.ConstantNode{Float64}(symbol(\"##const#7733\"),[:i,:j],3x4 Array{Float64,2}:\n",
       " 0.489181  0.234274   0.96101   0.855737\n",
       " 0.401874  0.103091   0.385555  0.65996 \n",
       " 0.278337  0.0650815  0.379578  0.221928)"
      ]
     },
     "execution_count": 4,
     "metadata": {},
     "output_type": "execute_result"
    }
   ],
   "source": [
    "cc = ConstantNode(rand(3, 4), [:i, :j])"
   ]
  },
  {
   "cell_type": "code",
   "execution_count": 5,
   "metadata": {
    "collapsed": false
   },
   "outputs": [
    {
     "data": {
      "text/plain": [
       "VB.FactorInds([:i,:j,:k],[5,3,5],Dict(:a=>[1,2],:b=>[2,3]))"
      ]
     },
     "execution_count": 5,
     "metadata": {},
     "output_type": "execute_result"
    }
   ],
   "source": [
    "nodes = Node[aa, bb]\n",
    "fi = get_structure(nodes...)\n",
    "fi"
   ]
  },
  {
   "cell_type": "code",
   "execution_count": 6,
   "metadata": {
    "collapsed": false
   },
   "outputs": [
    {
     "data": {
      "text/plain": [
       "VB.RandomNode{Distributions.Normal}(:a,[:i,:j],5x5 Array{Distributions.Normal,2}:\n",
       " Distributions.Normal(μ=0.8617423272717171, σ=0.926586714205176)    …  Distributions.Normal(μ=0.03503587212704251, σ=0.6525339370541043) \n",
       " Distributions.Normal(μ=0.8227022478698605, σ=0.584724281858988)       Distributions.Normal(μ=0.9374612351685223, σ=0.24786663354613858) \n",
       " Distributions.Normal(μ=0.02546694376610459, σ=0.9442752320371413)     Distributions.Normal(μ=0.24785199606269837, σ=0.09700803177543915)\n",
       " Distributions.Normal(μ=0.5414678592096374, σ=0.5333682639312844)      Distributions.Normal(μ=0.8834293005640899, σ=0.4851605458021737)  \n",
       " Distributions.Normal(μ=0.8486845272239543, σ=0.8616244550352423)      Distributions.Normal(μ=0.22477616748444418, σ=0.24887360569286465))"
      ]
     },
     "execution_count": 6,
     "metadata": {},
     "output_type": "execute_result"
    }
   ],
   "source": [
    "a[i, j] ~ Normal(μ, σ)"
   ]
  },
  {
   "cell_type": "code",
   "execution_count": 7,
   "metadata": {
    "collapsed": false
   },
   "outputs": [
    {
     "data": {
      "text/plain": [
       "VB.ConstantNode{Float64}(:c,[:i,:j],3x4 Array{Float64,2}:\n",
       " 0.207816  0.427011  0.446451  0.789303\n",
       " 0.745235  0.911809  0.967782  0.600531\n",
       " 0.93621   0.276465  0.754275  0.229033)"
      ]
     },
     "execution_count": 7,
     "metadata": {},
     "output_type": "execute_result"
    }
   ],
   "source": [
    "c[i, j] ~ Const(rand(3, 4))"
   ]
  },
  {
   "cell_type": "markdown",
   "metadata": {},
   "source": [
    "# Make a factor"
   ]
  },
  {
   "cell_type": "code",
   "execution_count": 8,
   "metadata": {
    "collapsed": false
   },
   "outputs": [],
   "source": [
    "dims = (10, 2)\n",
    "\n",
    "μ[j] ~ Normal(rand(dims[2]), ones(dims[2]))\n",
    "τ ~ Gamma(1, 1)\n",
    "x[i, j] ~ Normal(rand(dims), ones(dims))\n",
    "\n",
    "f = @factor LogNormalFactor x μ τ;"
   ]
  },
  {
   "cell_type": "markdown",
   "metadata": {},
   "source": [
    "# Make a (generated) value function"
   ]
  },
  {
   "cell_type": "code",
   "execution_count": 9,
   "metadata": {
    "collapsed": false
   },
   "outputs": [
    {
     "data": {
      "text/plain": [
       "-35.32039529167051"
      ]
     },
     "execution_count": 9,
     "metadata": {},
     "output_type": "execute_result"
    }
   ],
   "source": [
    "value(f)"
   ]
  },
  {
   "cell_type": "code",
   "execution_count": 10,
   "metadata": {
    "collapsed": false
   },
   "outputs": [
    {
     "data": {
      "text/plain": [
       "28.378770664093462"
      ]
     },
     "execution_count": 10,
     "metadata": {},
     "output_type": "execute_result"
    }
   ],
   "source": [
    "g = @factor EntropyFactor x\n",
    "value(g)"
   ]
  },
  {
   "cell_type": "markdown",
   "metadata": {},
   "source": [
    "# Let's make a simple model"
   ]
  },
  {
   "cell_type": "markdown",
   "metadata": {},
   "source": [
    "We want a simple model of inference for a normal distribution:\n",
    "\n",
    "$$\n",
    "\\begin{aligned}\n",
    "    y \\sim \\mathcal{N}(\\mu, \\tau) \\\\\n",
    "    \\mu \\sim \\mathcal{N}(\\mu_0, \\tau_0) \\\\\n",
    "    \\tau \\sim \\mathrm{Ga}(\\alpha, \\beta) \\\\\n",
    "    q(\\mu) = \\mathcal{N}(m, t) \\\\\n",
    "    q(\\tau) = \\mathrm{Ga}(a, b)\n",
    "\\end{aligned}\n",
    "$$\n",
    "\n",
    "This model is conjugate, and can be solved by straightforward updates of the natural parameters of the posterior."
   ]
  },
  {
   "cell_type": "markdown",
   "metadata": {},
   "source": [
    "## Make the nodes\n",
    "\n",
    "We need to make nodes for all the random variables that will need to be updated (we can also create nodes for parameter arrays, but these will be converted automatically if we don't)."
   ]
  },
  {
   "cell_type": "code",
   "execution_count": 11,
   "metadata": {
    "collapsed": false
   },
   "outputs": [],
   "source": [
    "dims = (20, 6)\n",
    "\n",
    "# note: it won't matter much how we initialize here\n",
    "μ[j] ~ Normal(zeros(dims[2]), ones(dims[2]))\n",
    "τ[j] ~ Gamma(1.1 * ones(dims[2]), ones(dims[2]))\n",
    "μ0[j] ~ Const(zeros(dims[2]))\n",
    "τ0[j] ~ Const(2 * ones(dims[2]))\n",
    "a0[j] ~ Const(1.1 * ones(dims[2]))\n",
    "b0[j] ~ Const(ones(dims[2]))\n",
    "\n",
    "y[i, j] ~ Const(rand(dims));"
   ]
  },
  {
   "cell_type": "markdown",
   "metadata": {},
   "source": [
    "Now make factors: We need a Normal factor for the observation model plus a prior and an entropy for each node."
   ]
  },
  {
   "cell_type": "code",
   "execution_count": 12,
   "metadata": {
    "collapsed": false
   },
   "outputs": [
    {
     "data": {
      "text/plain": [
       "VB.LogGammaFactor{1}(VB.RandomNode{Distributions.Gamma}(:τ,[:j],[Distributions.Gamma(α=1.1, θ=1.0),Distributions.Gamma(α=1.1, θ=1.0),Distributions.Gamma(α=1.1, θ=1.0),Distributions.Gamma(α=1.1, θ=1.0),Distributions.Gamma(α=1.1, θ=1.0),Distributions.Gamma(α=1.1, θ=1.0)]),VB.ConstantNode{Float64}(:a0,[:j],[1.1,1.1,1.1,1.1,1.1,1.1]),VB.ConstantNode{Float64}(:b0,[:j],[1.0,1.0,1.0,1.0,1.0,1.0]),VB.FactorInds([:j],[6],Dict(:τ=>[1],:b0=>[1],:a0=>[1])),Dict(:τ=>:x,:b0=>:β,:a0=>:α))"
      ]
     },
     "execution_count": 12,
     "metadata": {},
     "output_type": "execute_result"
    }
   ],
   "source": [
    "obs = @factor LogNormalFactor y μ τ\n",
    "μ_prior = @factor LogNormalFactor μ μ0 τ0\n",
    "τ_prior = @factor LogGammaFactor τ a0 b0"
   ]
  },
  {
   "cell_type": "code",
   "execution_count": 13,
   "metadata": {
    "collapsed": false
   },
   "outputs": [
    {
     "data": {
      "text/plain": [
       "(-174.78259193013588,-13.593072740907873,0.0449816833123928)"
      ]
     },
     "execution_count": 13,
     "metadata": {},
     "output_type": "execute_result"
    }
   ],
   "source": [
    "value(obs), value(μ_prior), value(τ_prior)"
   ]
  },
  {
   "cell_type": "code",
   "execution_count": 14,
   "metadata": {
    "collapsed": false
   },
   "outputs": [
    {
     "data": {
      "text/plain": [
       "VB.VBModel(VB.Node[VB.RandomNode{Distributions.Normal}(:μ,[:j],[Distributions.Normal(μ=0.0, σ=1.0),Distributions.Normal(μ=0.0, σ=1.0),Distributions.Normal(μ=0.0, σ=1.0),Distributions.Normal(μ=0.0, σ=1.0),Distributions.Normal(μ=0.0, σ=1.0),Distributions.Normal(μ=0.0, σ=1.0)]),VB.RandomNode{Distributions.Gamma}(:τ,[:j],[Distributions.Gamma(α=1.1, θ=1.0),Distributions.Gamma(α=1.1, θ=1.0),Distributions.Gamma(α=1.1, θ=1.0),Distributions.Gamma(α=1.1, θ=1.0),Distributions.Gamma(α=1.1, θ=1.0),Distributions.Gamma(α=1.1, θ=1.0)]),VB.ConstantNode{Float64}(:μ0,[:j],[0.0,0.0,0.0,0.0,0.0,0.0]),VB.ConstantNode{Float64}(:τ0,[:j],[2.0,2.0,2.0,2.0,2.0,2.0]),VB.ConstantNode{Float64}(:a0,[:j],[1.1,1.1,1.1,1.1,1.1,1.1]),VB.ConstantNode{Float64}(:b0,[:j],[1.0,1.0,1.0,1.0,1.0,1.0]),VB.ConstantNode{Float64}(:y,[:i,:j],20x6 Array{Float64,2}:\n",
       " 0.945483  0.0745032  0.155597  0.599954   0.601484   0.0594112\n",
       " 0.414233  0.938643   0.853749  0.0607691  0.679546   0.846634 \n",
       " 0.994395  0.19247    0.461456  0.986473   0.670165   0.756336 \n",
       " 0.214716  0.84873    0.554177  0.3269     0.333603   0.271146 \n",
       " 0.308702  0.694604   0.892044  0.575981   0.603237   0.577343 \n",
       " 0.848671  0.478389   0.396269  0.853931   0.330873   0.028632 \n",
       " 0.537847  0.900221   0.124815  0.362665   0.725865   0.310599 \n",
       " 0.425018  0.801397   0.160719  0.891282   0.204538   0.911633 \n",
       " 0.160896  0.865822   0.296499  0.929926   0.847831   0.688751 \n",
       " 0.794618  0.687343   0.340321  0.745268   0.851188   0.849714 \n",
       " 0.810003  0.934078   0.216948  0.152038   0.456255   0.343743 \n",
       " 0.3873    0.955644   0.41591   0.167046   0.727931   0.807312 \n",
       " 0.809287  0.313803   0.677047  0.196581   0.467776   0.0585075\n",
       " 0.764492  0.624629   0.307253  0.0371436  0.183074   0.289049 \n",
       " 0.688563  0.943409   0.248774  0.347459   0.844931   0.113674 \n",
       " 0.752291  0.0445915  0.981986  0.435591   0.0396925  0.845439 \n",
       " 0.345911  0.767009   0.548015  0.595323   0.794637   0.6864   \n",
       " 0.874816  0.250543   0.828979  0.181613   0.584499   0.163899 \n",
       " 0.980274  0.116542   0.26596   0.330852   0.635133   0.555425 \n",
       " 0.818446  0.767832   0.095753  0.163218   0.0393814  0.376725 )],VB.Factor[VB.LogNormalFactor{2}(VB.ConstantNode{Float64}(:y,[:i,:j],20x6 Array{Float64,2}:\n",
       " 0.945483  0.0745032  0.155597  0.599954   0.601484   0.0594112\n",
       " 0.414233  0.938643   0.853749  0.0607691  0.679546   0.846634 \n",
       " 0.994395  0.19247    0.461456  0.986473   0.670165   0.756336 \n",
       " 0.214716  0.84873    0.554177  0.3269     0.333603   0.271146 \n",
       " 0.308702  0.694604   0.892044  0.575981   0.603237   0.577343 \n",
       " 0.848671  0.478389   0.396269  0.853931   0.330873   0.028632 \n",
       " 0.537847  0.900221   0.124815  0.362665   0.725865   0.310599 \n",
       " 0.425018  0.801397   0.160719  0.891282   0.204538   0.911633 \n",
       " 0.160896  0.865822   0.296499  0.929926   0.847831   0.688751 \n",
       " 0.794618  0.687343   0.340321  0.745268   0.851188   0.849714 \n",
       " 0.810003  0.934078   0.216948  0.152038   0.456255   0.343743 \n",
       " 0.3873    0.955644   0.41591   0.167046   0.727931   0.807312 \n",
       " 0.809287  0.313803   0.677047  0.196581   0.467776   0.0585075\n",
       " 0.764492  0.624629   0.307253  0.0371436  0.183074   0.289049 \n",
       " 0.688563  0.943409   0.248774  0.347459   0.844931   0.113674 \n",
       " 0.752291  0.0445915  0.981986  0.435591   0.0396925  0.845439 \n",
       " 0.345911  0.767009   0.548015  0.595323   0.794637   0.6864   \n",
       " 0.874816  0.250543   0.828979  0.181613   0.584499   0.163899 \n",
       " 0.980274  0.116542   0.26596   0.330852   0.635133   0.555425 \n",
       " 0.818446  0.767832   0.095753  0.163218   0.0393814  0.376725 ),VB.RandomNode{Distributions.Normal}(:μ,[:j],[Distributions.Normal(μ=0.0, σ=1.0),Distributions.Normal(μ=0.0, σ=1.0),Distributions.Normal(μ=0.0, σ=1.0),Distributions.Normal(μ=0.0, σ=1.0),Distributions.Normal(μ=0.0, σ=1.0),Distributions.Normal(μ=0.0, σ=1.0)]),VB.RandomNode{Distributions.Gamma}(:τ,[:j],[Distributions.Gamma(α=1.1, θ=1.0),Distributions.Gamma(α=1.1, θ=1.0),Distributions.Gamma(α=1.1, θ=1.0),Distributions.Gamma(α=1.1, θ=1.0),Distributions.Gamma(α=1.1, θ=1.0),Distributions.Gamma(α=1.1, θ=1.0)]),VB.FactorInds([:i,:j],[20,6],Dict(:τ=>[2],:μ=>[2],:y=>[1,2])),Dict(:τ=>:τ,:μ=>:μ,:y=>:x)),VB.LogNormalFactor{1}(VB.RandomNode{Distributions.Normal}(:μ,[:j],[Distributions.Normal(μ=0.0, σ=1.0),Distributions.Normal(μ=0.0, σ=1.0),Distributions.Normal(μ=0.0, σ=1.0),Distributions.Normal(μ=0.0, σ=1.0),Distributions.Normal(μ=0.0, σ=1.0),Distributions.Normal(μ=0.0, σ=1.0)]),VB.ConstantNode{Float64}(:μ0,[:j],[0.0,0.0,0.0,0.0,0.0,0.0]),VB.ConstantNode{Float64}(:τ0,[:j],[2.0,2.0,2.0,2.0,2.0,2.0]),VB.FactorInds([:j],[6],Dict(:τ0=>[1],:μ=>[1],:μ0=>[1])),Dict(:τ0=>:τ,:μ=>:x,:μ0=>:μ)),VB.LogGammaFactor{1}(VB.RandomNode{Distributions.Gamma}(:τ,[:j],[Distributions.Gamma(α=1.1, θ=1.0),Distributions.Gamma(α=1.1, θ=1.0),Distributions.Gamma(α=1.1, θ=1.0),Distributions.Gamma(α=1.1, θ=1.0),Distributions.Gamma(α=1.1, θ=1.0),Distributions.Gamma(α=1.1, θ=1.0)]),VB.ConstantNode{Float64}(:a0,[:j],[1.1,1.1,1.1,1.1,1.1,1.1]),VB.ConstantNode{Float64}(:b0,[:j],[1.0,1.0,1.0,1.0,1.0,1.0]),VB.FactorInds([:j],[6],Dict(:τ=>[1],:b0=>[1],:a0=>[1])),Dict(:τ=>:x,:b0=>:β,:a0=>:α))],Dict{VB.Node,Array{Tuple{VB.Factor{N},Symbol},1}}(VB.RandomNode{Distributions.Normal}(:μ,[:j],[Distributions.Normal(μ=0.0, σ=1.0),Distributions.Normal(μ=0.0, σ=1.0),Distributions.Normal(μ=0.0, σ=1.0),Distributions.Normal(μ=0.0, σ=1.0),Distributions.Normal(μ=0.0, σ=1.0),Distributions.Normal(μ=0.0, σ=1.0)])=>Tuple{VB.Factor{N},Symbol}[(VB.LogNormalFactor{2}(VB.ConstantNode{Float64}(:y,[:i,:j],20x6 Array{Float64,2}:\n",
       " 0.945483  0.0745032  0.155597  0.599954   0.601484   0.0594112\n",
       " 0.414233  0.938643   0.853749  0.0607691  0.679546   0.846634 \n",
       " 0.994395  0.19247    0.461456  0.986473   0.670165   0.756336 \n",
       " 0.214716  0.84873    0.554177  0.3269     0.333603   0.271146 \n",
       " 0.308702  0.694604   0.892044  0.575981   0.603237   0.577343 \n",
       " 0.848671  0.478389   0.396269  0.853931   0.330873   0.028632 \n",
       " 0.537847  0.900221   0.124815  0.362665   0.725865   0.310599 \n",
       " 0.425018  0.801397   0.160719  0.891282   0.204538   0.911633 \n",
       " 0.160896  0.865822   0.296499  0.929926   0.847831   0.688751 \n",
       " 0.794618  0.687343   0.340321  0.745268   0.851188   0.849714 \n",
       " 0.810003  0.934078   0.216948  0.152038   0.456255   0.343743 \n",
       " 0.3873    0.955644   0.41591   0.167046   0.727931   0.807312 \n",
       " 0.809287  0.313803   0.677047  0.196581   0.467776   0.0585075\n",
       " 0.764492  0.624629   0.307253  0.0371436  0.183074   0.289049 \n",
       " 0.688563  0.943409   0.248774  0.347459   0.844931   0.113674 \n",
       " 0.752291  0.0445915  0.981986  0.435591   0.0396925  0.845439 \n",
       " 0.345911  0.767009   0.548015  0.595323   0.794637   0.6864   \n",
       " 0.874816  0.250543   0.828979  0.181613   0.584499   0.163899 \n",
       " 0.980274  0.116542   0.26596   0.330852   0.635133   0.555425 \n",
       " 0.818446  0.767832   0.095753  0.163218   0.0393814  0.376725 ),VB.RandomNode{Distributions.Normal}(:μ,[:j],[Distributions.Normal(μ=0.0, σ=1.0),Distributions.Normal(μ=0.0, σ=1.0),Distributions.Normal(μ=0.0, σ=1.0),Distributions.Normal(μ=0.0, σ=1.0),Distributions.Normal(μ=0.0, σ=1.0),Distributions.Normal(μ=0.0, σ=1.0)]),VB.RandomNode{Distributions.Gamma}(:τ,[:j],[Distributions.Gamma(α=1.1, θ=1.0),Distributions.Gamma(α=1.1, θ=1.0),Distributions.Gamma(α=1.1, θ=1.0),Distributions.Gamma(α=1.1, θ=1.0),Distributions.Gamma(α=1.1, θ=1.0),Distributions.Gamma(α=1.1, θ=1.0)]),VB.FactorInds([:i,:j],[20,6],Dict(:τ=>[2],:μ=>[2],:y=>[1,2])),Dict(:τ=>:τ,:μ=>:μ,:y=>:x)),:μ),(VB.LogNormalFactor{1}(VB.RandomNode{Distributions.Normal}(:μ,[:j],[Distributions.Normal(μ=0.0, σ=1.0),Distributions.Normal(μ=0.0, σ=1.0),Distributions.Normal(μ=0.0, σ=1.0),Distributions.Normal(μ=0.0, σ=1.0),Distributions.Normal(μ=0.0, σ=1.0),Distributions.Normal(μ=0.0, σ=1.0)]),VB.ConstantNode{Float64}(:μ0,[:j],[0.0,0.0,0.0,0.0,0.0,0.0]),VB.ConstantNode{Float64}(:τ0,[:j],[2.0,2.0,2.0,2.0,2.0,2.0]),VB.FactorInds([:j],[6],Dict(:τ0=>[1],:μ=>[1],:μ0=>[1])),Dict(:τ0=>:τ,:μ=>:x,:μ0=>:μ)),:x)],VB.ConstantNode{Float64}(:a0,[:j],[1.1,1.1,1.1,1.1,1.1,1.1])=>Tuple{VB.Factor{N},Symbol}[(VB.LogGammaFactor{1}(VB.RandomNode{Distributions.Gamma}(:τ,[:j],[Distributions.Gamma(α=1.1, θ=1.0),Distributions.Gamma(α=1.1, θ=1.0),Distributions.Gamma(α=1.1, θ=1.0),Distributions.Gamma(α=1.1, θ=1.0),Distributions.Gamma(α=1.1, θ=1.0),Distributions.Gamma(α=1.1, θ=1.0)]),VB.ConstantNode{Float64}(:a0,[:j],[1.1,1.1,1.1,1.1,1.1,1.1]),VB.ConstantNode{Float64}(:b0,[:j],[1.0,1.0,1.0,1.0,1.0,1.0]),VB.FactorInds([:j],[6],Dict(:τ=>[1],:b0=>[1],:a0=>[1])),Dict(:τ=>:x,:b0=>:β,:a0=>:α)),:α)],VB.RandomNode{Distributions.Gamma}(:τ,[:j],[Distributions.Gamma(α=1.1, θ=1.0),Distributions.Gamma(α=1.1, θ=1.0),Distributions.Gamma(α=1.1, θ=1.0),Distributions.Gamma(α=1.1, θ=1.0),Distributions.Gamma(α=1.1, θ=1.0),Distributions.Gamma(α=1.1, θ=1.0)])=>Tuple{VB.Factor{N},Symbol}[(VB.LogNormalFactor{2}(VB.ConstantNode{Float64}(:y,[:i,:j],20x6 Array{Float64,2}:\n",
       " 0.945483  0.0745032  0.155597  0.599954   0.601484   0.0594112\n",
       " 0.414233  0.938643   0.853749  0.0607691  0.679546   0.846634 \n",
       " 0.994395  0.19247    0.461456  0.986473   0.670165   0.756336 \n",
       " 0.214716  0.84873    0.554177  0.3269     0.333603   0.271146 \n",
       " 0.308702  0.694604   0.892044  0.575981   0.603237   0.577343 \n",
       " 0.848671  0.478389   0.396269  0.853931   0.330873   0.028632 \n",
       " 0.537847  0.900221   0.124815  0.362665   0.725865   0.310599 \n",
       " 0.425018  0.801397   0.160719  0.891282   0.204538   0.911633 \n",
       " 0.160896  0.865822   0.296499  0.929926   0.847831   0.688751 \n",
       " 0.794618  0.687343   0.340321  0.745268   0.851188   0.849714 \n",
       " 0.810003  0.934078   0.216948  0.152038   0.456255   0.343743 \n",
       " 0.3873    0.955644   0.41591   0.167046   0.727931   0.807312 \n",
       " 0.809287  0.313803   0.677047  0.196581   0.467776   0.0585075\n",
       " 0.764492  0.624629   0.307253  0.0371436  0.183074   0.289049 \n",
       " 0.688563  0.943409   0.248774  0.347459   0.844931   0.113674 \n",
       " 0.752291  0.0445915  0.981986  0.435591   0.0396925  0.845439 \n",
       " 0.345911  0.767009   0.548015  0.595323   0.794637   0.6864   \n",
       " 0.874816  0.250543   0.828979  0.181613   0.584499   0.163899 \n",
       " 0.980274  0.116542   0.26596   0.330852   0.635133   0.555425 \n",
       " 0.818446  0.767832   0.095753  0.163218   0.0393814  0.376725 ),VB.RandomNode{Distributions.Normal}(:μ,[:j],[Distributions.Normal(μ=0.0, σ=1.0),Distributions.Normal(μ=0.0, σ=1.0),Distributions.Normal(μ=0.0, σ=1.0),Distributions.Normal(μ=0.0, σ=1.0),Distributions.Normal(μ=0.0, σ=1.0),Distributions.Normal(μ=0.0, σ=1.0)]),VB.RandomNode{Distributions.Gamma}(:τ,[:j],[Distributions.Gamma(α=1.1, θ=1.0),Distributions.Gamma(α=1.1, θ=1.0),Distributions.Gamma(α=1.1, θ=1.0),Distributions.Gamma(α=1.1, θ=1.0),Distributions.Gamma(α=1.1, θ=1.0),Distributions.Gamma(α=1.1, θ=1.0)]),VB.FactorInds([:i,:j],[20,6],Dict(:τ=>[2],:μ=>[2],:y=>[1,2])),Dict(:τ=>:τ,:μ=>:μ,:y=>:x)),:τ),(VB.LogGammaFactor{1}(VB.RandomNode{Distributions.Gamma}(:τ,[:j],[Distributions.Gamma(α=1.1, θ=1.0),Distributions.Gamma(α=1.1, θ=1.0),Distributions.Gamma(α=1.1, θ=1.0),Distributions.Gamma(α=1.1, θ=1.0),Distributions.Gamma(α=1.1, θ=1.0),Distributions.Gamma(α=1.1, θ=1.0)]),VB.ConstantNode{Float64}(:a0,[:j],[1.1,1.1,1.1,1.1,1.1,1.1]),VB.ConstantNode{Float64}(:b0,[:j],[1.0,1.0,1.0,1.0,1.0,1.0]),VB.FactorInds([:j],[6],Dict(:τ=>[1],:b0=>[1],:a0=>[1])),Dict(:τ=>:x,:b0=>:β,:a0=>:α)),:x)],VB.ConstantNode{Float64}(:b0,[:j],[1.0,1.0,1.0,1.0,1.0,1.0])=>Tuple{VB.Factor{N},Symbol}[(VB.LogGammaFactor{1}(VB.RandomNode{Distributions.Gamma}(:τ,[:j],[Distributions.Gamma(α=1.1, θ=1.0),Distributions.Gamma(α=1.1, θ=1.0),Distributions.Gamma(α=1.1, θ=1.0),Distributions.Gamma(α=1.1, θ=1.0),Distributions.Gamma(α=1.1, θ=1.0),Distributions.Gamma(α=1.1, θ=1.0)]),VB.ConstantNode{Float64}(:a0,[:j],[1.1,1.1,1.1,1.1,1.1,1.1]),VB.ConstantNode{Float64}(:b0,[:j],[1.0,1.0,1.0,1.0,1.0,1.0]),VB.FactorInds([:j],[6],Dict(:τ=>[1],:b0=>[1],:a0=>[1])),Dict(:τ=>:x,:b0=>:β,:a0=>:α)),:β)],VB.ConstantNode{Float64}(:y,[:i,:j],20x6 Array{Float64,2}:\n",
       " 0.945483  0.0745032  0.155597  0.599954   0.601484   0.0594112\n",
       " 0.414233  0.938643   0.853749  0.0607691  0.679546   0.846634 \n",
       " 0.994395  0.19247    0.461456  0.986473   0.670165   0.756336 \n",
       " 0.214716  0.84873    0.554177  0.3269     0.333603   0.271146 \n",
       " 0.308702  0.694604   0.892044  0.575981   0.603237   0.577343 \n",
       " 0.848671  0.478389   0.396269  0.853931   0.330873   0.028632 \n",
       " 0.537847  0.900221   0.124815  0.362665   0.725865   0.310599 \n",
       " 0.425018  0.801397   0.160719  0.891282   0.204538   0.911633 \n",
       " 0.160896  0.865822   0.296499  0.929926   0.847831   0.688751 \n",
       " 0.794618  0.687343   0.340321  0.745268   0.851188   0.849714 \n",
       " 0.810003  0.934078   0.216948  0.152038   0.456255   0.343743 \n",
       " 0.3873    0.955644   0.41591   0.167046   0.727931   0.807312 \n",
       " 0.809287  0.313803   0.677047  0.196581   0.467776   0.0585075\n",
       " 0.764492  0.624629   0.307253  0.0371436  0.183074   0.289049 \n",
       " 0.688563  0.943409   0.248774  0.347459   0.844931   0.113674 \n",
       " 0.752291  0.0445915  0.981986  0.435591   0.0396925  0.845439 \n",
       " 0.345911  0.767009   0.548015  0.595323   0.794637   0.6864   \n",
       " 0.874816  0.250543   0.828979  0.181613   0.584499   0.163899 \n",
       " 0.980274  0.116542   0.26596   0.330852   0.635133   0.555425 \n",
       " 0.818446  0.767832   0.095753  0.163218   0.0393814  0.376725 )=>Tuple{VB.Factor{N},Symbol}[(VB.LogNormalFactor{2}(VB.ConstantNode{Float64}(:y,[:i,:j],20x6 Array{Float64,2}:\n",
       " 0.945483  0.0745032  0.155597  0.599954   0.601484   0.0594112\n",
       " 0.414233  0.938643   0.853749  0.0607691  0.679546   0.846634 \n",
       " 0.994395  0.19247    0.461456  0.986473   0.670165   0.756336 \n",
       " 0.214716  0.84873    0.554177  0.3269     0.333603   0.271146 \n",
       " 0.308702  0.694604   0.892044  0.575981   0.603237   0.577343 \n",
       " 0.848671  0.478389   0.396269  0.853931   0.330873   0.028632 \n",
       " 0.537847  0.900221   0.124815  0.362665   0.725865   0.310599 \n",
       " 0.425018  0.801397   0.160719  0.891282   0.204538   0.911633 \n",
       " 0.160896  0.865822   0.296499  0.929926   0.847831   0.688751 \n",
       " 0.794618  0.687343   0.340321  0.745268   0.851188   0.849714 \n",
       " 0.810003  0.934078   0.216948  0.152038   0.456255   0.343743 \n",
       " 0.3873    0.955644   0.41591   0.167046   0.727931   0.807312 \n",
       " 0.809287  0.313803   0.677047  0.196581   0.467776   0.0585075\n",
       " 0.764492  0.624629   0.307253  0.0371436  0.183074   0.289049 \n",
       " 0.688563  0.943409   0.248774  0.347459   0.844931   0.113674 \n",
       " 0.752291  0.0445915  0.981986  0.435591   0.0396925  0.845439 \n",
       " 0.345911  0.767009   0.548015  0.595323   0.794637   0.6864   \n",
       " 0.874816  0.250543   0.828979  0.181613   0.584499   0.163899 \n",
       " 0.980274  0.116542   0.26596   0.330852   0.635133   0.555425 \n",
       " 0.818446  0.767832   0.095753  0.163218   0.0393814  0.376725 ),VB.RandomNode{Distributions.Normal}(:μ,[:j],[Distributions.Normal(μ=0.0, σ=1.0),Distributions.Normal(μ=0.0, σ=1.0),Distributions.Normal(μ=0.0, σ=1.0),Distributions.Normal(μ=0.0, σ=1.0),Distributions.Normal(μ=0.0, σ=1.0),Distributions.Normal(μ=0.0, σ=1.0)]),VB.RandomNode{Distributions.Gamma}(:τ,[:j],[Distributions.Gamma(α=1.1, θ=1.0),Distributions.Gamma(α=1.1, θ=1.0),Distributions.Gamma(α=1.1, θ=1.0),Distributions.Gamma(α=1.1, θ=1.0),Distributions.Gamma(α=1.1, θ=1.0),Distributions.Gamma(α=1.1, θ=1.0)]),VB.FactorInds([:i,:j],[20,6],Dict(:τ=>[2],:μ=>[2],:y=>[1,2])),Dict(:τ=>:τ,:μ=>:μ,:y=>:x)),:x)],VB.ConstantNode{Float64}(:μ0,[:j],[0.0,0.0,0.0,0.0,0.0,0.0])=>Tuple{VB.Factor{N},Symbol}[(VB.LogNormalFactor{1}(VB.RandomNode{Distributions.Normal}(:μ,[:j],[Distributions.Normal(μ=0.0, σ=1.0),Distributions.Normal(μ=0.0, σ=1.0),Distributions.Normal(μ=0.0, σ=1.0),Distributions.Normal(μ=0.0, σ=1.0),Distributions.Normal(μ=0.0, σ=1.0),Distributions.Normal(μ=0.0, σ=1.0)]),VB.ConstantNode{Float64}(:μ0,[:j],[0.0,0.0,0.0,0.0,0.0,0.0]),VB.ConstantNode{Float64}(:τ0,[:j],[2.0,2.0,2.0,2.0,2.0,2.0]),VB.FactorInds([:j],[6],Dict(:τ0=>[1],:μ=>[1],:μ0=>[1])),Dict(:τ0=>:τ,:μ=>:x,:μ0=>:μ)),:μ)],VB.ConstantNode{Float64}(:τ0,[:j],[2.0,2.0,2.0,2.0,2.0,2.0])=>Tuple{VB.Factor{N},Symbol}[(VB.LogNormalFactor{1}(VB.RandomNode{Distributions.Normal}(:μ,[:j],[Distributions.Normal(μ=0.0, σ=1.0),Distributions.Normal(μ=0.0, σ=1.0),Distributions.Normal(μ=0.0, σ=1.0),Distributions.Normal(μ=0.0, σ=1.0),Distributions.Normal(μ=0.0, σ=1.0),Distributions.Normal(μ=0.0, σ=1.0)]),VB.ConstantNode{Float64}(:μ0,[:j],[0.0,0.0,0.0,0.0,0.0,0.0]),VB.ConstantNode{Float64}(:τ0,[:j],[2.0,2.0,2.0,2.0,2.0,2.0]),VB.FactorInds([:j],[6],Dict(:τ0=>[1],:μ=>[1],:μ0=>[1])),Dict(:τ0=>:τ,:μ=>:x,:μ0=>:μ)),:τ)]))"
      ]
     },
     "execution_count": 14,
     "metadata": {},
     "output_type": "execute_result"
    }
   ],
   "source": [
    "m = VBModel([μ, τ, μ0, τ0, a0, b0, y], [obs, μ_prior, τ_prior])"
   ]
  },
  {
   "cell_type": "code",
   "execution_count": 15,
   "metadata": {
    "collapsed": false
   },
   "outputs": [
    {
     "data": {
      "text/plain": [
       "7-element Array{Any,1}:\n",
       " :μ \n",
       " :τ \n",
       " :μ0\n",
       " :τ0\n",
       " :a0\n",
       " :b0\n",
       " :y "
      ]
     },
     "execution_count": 15,
     "metadata": {},
     "output_type": "execute_result"
    }
   ],
   "source": [
    "[n.name for n in m.nodes]"
   ]
  },
  {
   "cell_type": "code",
   "execution_count": 16,
   "metadata": {
    "collapsed": false
   },
   "outputs": [
    {
     "data": {
      "text/plain": [
       "3-element Array{DataType,1}:\n",
       " VB.LogNormalFactor{2}\n",
       " VB.LogNormalFactor{1}\n",
       " VB.LogGammaFactor{1} "
      ]
     },
     "execution_count": 16,
     "metadata": {},
     "output_type": "execute_result"
    }
   ],
   "source": [
    "[typeof(f) for f in m.factors]"
   ]
  },
  {
   "cell_type": "code",
   "execution_count": 17,
   "metadata": {
    "collapsed": false
   },
   "outputs": [
    {
     "data": {
      "text/plain": [
       "Dict{VB.Node,Array{Tuple{VB.Factor{N},Symbol},1}} with 7 entries:\n",
       "  VB.RandomNode{Distribut… => Tuple{VB.Factor{N},Symbol}[(VB.LogNormalFactor{2}…\n",
       "  VB.ConstantNode{Float64… => Tuple{VB.Factor{N},Symbol}[(VB.LogGammaFactor{1}(…\n",
       "  VB.RandomNode{Distribut… => Tuple{VB.Factor{N},Symbol}[(VB.LogNormalFactor{2}…\n",
       "  VB.ConstantNode{Float64… => Tuple{VB.Factor{N},Symbol}[(VB.LogGammaFactor{1}(…\n",
       "  VB.ConstantNode{Float64… => Tuple{VB.Factor{N},Symbol}[(VB.LogNormalFactor{2}…\n",
       "  VB.ConstantNode{Float64… => Tuple{VB.Factor{N},Symbol}[(VB.LogNormalFactor{1}…\n",
       "  VB.ConstantNode{Float64… => Tuple{VB.Factor{N},Symbol}[(VB.LogNormalFactor{1}…"
      ]
     },
     "execution_count": 17,
     "metadata": {},
     "output_type": "execute_result"
    }
   ],
   "source": [
    "m.graph"
   ]
  },
  {
   "cell_type": "code",
   "execution_count": 18,
   "metadata": {
    "collapsed": false
   },
   "outputs": [
    {
     "data": {
      "text/plain": [
       "6-element Array{Tuple{Float64,Float64},1}:\n",
       " (14.163555960376293,-11.000000000000002)\n",
       " (13.420224103504797,-11.000000000000002)\n",
       " (9.70449875156132,-11.000000000000002)  \n",
       " (9.834016297979943,-11.000000000000002) \n",
       " (11.683802974512052,-11.000000000000002)\n",
       " (10.49440835323131,-11.000000000000002) "
      ]
     },
     "execution_count": 18,
     "metadata": {},
     "output_type": "execute_result"
    }
   ],
   "source": [
    "naturals(obs, μ)"
   ]
  },
  {
   "cell_type": "code",
   "execution_count": 19,
   "metadata": {
    "collapsed": false
   },
   "outputs": [
    {
     "data": {
      "text/plain": [
       "6-element Array{Tuple{Float64,Float64},1}:\n",
       " (10.0,14.822260742742055)\n",
       " (10.0,14.725333092837271)\n",
       " (10.0,12.668761117329007)\n",
       " (10.0,12.887843428246299)\n",
       " (10.0,13.47665058594978) \n",
       " (10.0,13.178482278567948)"
      ]
     },
     "execution_count": 19,
     "metadata": {},
     "output_type": "execute_result"
    }
   ],
   "source": [
    "naturals(obs, τ)"
   ]
  },
  {
   "cell_type": "code",
   "execution_count": 20,
   "metadata": {
    "collapsed": false
   },
   "outputs": [
    {
     "data": {
      "text/plain": [
       "true"
      ]
     },
     "execution_count": 20,
     "metadata": {},
     "output_type": "execute_result"
    }
   ],
   "source": [
    "check_conjugate(τ, m)"
   ]
  },
  {
   "cell_type": "code",
   "execution_count": 21,
   "metadata": {
    "collapsed": false
   },
   "outputs": [
    {
     "data": {
      "text/plain": [
       "true"
      ]
     },
     "execution_count": 21,
     "metadata": {},
     "output_type": "execute_result"
    }
   ],
   "source": [
    "check_conjugate(μ, m)"
   ]
  },
  {
   "cell_type": "code",
   "execution_count": 22,
   "metadata": {
    "collapsed": false
   },
   "outputs": [
    {
     "data": {
      "text/plain": [
       "6-element Array{Distributions.Normal,1}:\n",
       " Distributions.Normal(μ=0.0, σ=1.0)\n",
       " Distributions.Normal(μ=0.0, σ=1.0)\n",
       " Distributions.Normal(μ=0.0, σ=1.0)\n",
       " Distributions.Normal(μ=0.0, σ=1.0)\n",
       " Distributions.Normal(μ=0.0, σ=1.0)\n",
       " Distributions.Normal(μ=0.0, σ=1.0)"
      ]
     },
     "execution_count": 22,
     "metadata": {},
     "output_type": "execute_result"
    }
   ],
   "source": [
    "μ.data"
   ]
  },
  {
   "cell_type": "code",
   "execution_count": 23,
   "metadata": {
    "collapsed": false
   },
   "outputs": [
    {
     "ename": "LoadError",
     "evalue": "LoadError: UndefVarError: update! not defined\nwhile loading In[23], in expression starting on line 1",
     "output_type": "error",
     "traceback": [
      "LoadError: UndefVarError: update! not defined\nwhile loading In[23], in expression starting on line 1",
      ""
     ]
    }
   ],
   "source": [
    "update!(μ, Val{:conjugate})"
   ]
  },
  {
   "cell_type": "code",
   "execution_count": 24,
   "metadata": {
    "collapsed": false
   },
   "outputs": [
    {
     "data": {
      "text/plain": [
       "6-element Array{Distributions.Normal,1}:\n",
       " Distributions.Normal(μ=0.0, σ=1.0)\n",
       " Distributions.Normal(μ=0.0, σ=1.0)\n",
       " Distributions.Normal(μ=0.0, σ=1.0)\n",
       " Distributions.Normal(μ=0.0, σ=1.0)\n",
       " Distributions.Normal(μ=0.0, σ=1.0)\n",
       " Distributions.Normal(μ=0.0, σ=1.0)"
      ]
     },
     "execution_count": 24,
     "metadata": {},
     "output_type": "execute_result"
    }
   ],
   "source": [
    "μ.data"
   ]
  },
  {
   "cell_type": "code",
   "execution_count": null,
   "metadata": {
    "collapsed": true
   },
   "outputs": [],
   "source": []
  }
 ],
 "metadata": {
  "kernelspec": {
   "display_name": "Julia 0.4.1",
   "language": "julia",
   "name": "julia-0.4"
  },
  "language_info": {
   "file_extension": ".jl",
   "mimetype": "application/julia",
   "name": "julia",
   "version": "0.4.1"
  }
 },
 "nbformat": 4,
 "nbformat_minor": 0
}
