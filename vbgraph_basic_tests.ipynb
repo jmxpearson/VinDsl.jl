{
 "cells": [
  {
   "cell_type": "markdown",
   "metadata": {},
   "source": [
    "Let's try some basic tests of `VB.jl`:"
   ]
  },
  {
   "cell_type": "code",
   "execution_count": 1,
   "metadata": {
    "collapsed": false
   },
   "outputs": [],
   "source": [
    "include(\"VB.jl\")\n",
    "using VB\n",
    "using Distributions"
   ]
  },
  {
   "cell_type": "markdown",
   "metadata": {},
   "source": [
    "# Make a node"
   ]
  },
  {
   "cell_type": "code",
   "execution_count": 2,
   "metadata": {
    "collapsed": false
   },
   "outputs": [
    {
     "data": {
      "text/plain": [
       "VB.RandomNode{Distributions.Gamma}(:b,[:j,:k],5x3 Array{Distributions.Gamma,2}:\n",
       " Distributions.Gamma(α=0.35605574756886527, θ=0.590984531049549)     …  Distributions.Gamma(α=0.16592550267966266, θ=0.21431415469287596) \n",
       " Distributions.Gamma(α=0.0071272850750627725, θ=0.5798013693671358)     Distributions.Gamma(α=0.5381103291721503, θ=0.6348784094066386)   \n",
       " Distributions.Gamma(α=0.8985568845705709, θ=0.7009424593727227)        Distributions.Gamma(α=0.20371731655127134, θ=0.025895262513009776)\n",
       " Distributions.Gamma(α=0.8106878794285928, θ=0.9268960474104413)        Distributions.Gamma(α=0.7898292144967123, θ=0.7310776997085937)   \n",
       " Distributions.Gamma(α=0.5234555657100284, θ=0.9057207948205108)        Distributions.Gamma(α=0.6746708411267228, θ=0.30636178554996496)  )"
      ]
     },
     "execution_count": 2,
     "metadata": {},
     "output_type": "execute_result"
    }
   ],
   "source": [
    "μ = rand(5, 5)\n",
    "σ = rand(5, 5)\n",
    "aa = RandomNode(:a, [:i, :j], Normal, μ, σ)\n",
    "bb = RandomNode(:b, [:j, :k], Gamma, rand(5, 3), rand(5, 3))"
   ]
  },
  {
   "cell_type": "code",
   "execution_count": 3,
   "metadata": {
    "collapsed": false
   },
   "outputs": [
    {
     "data": {
      "text/plain": [
       "VB.ConstantNode{Float64}(:c,[:i,:j],3x4 Array{Float64,2}:\n",
       " 0.124463  0.922355   0.448002  0.12264 \n",
       " 0.209865  0.338072   0.230992  0.827531\n",
       " 0.142302  0.0639229  0.993829  0.565913)"
      ]
     },
     "execution_count": 3,
     "metadata": {},
     "output_type": "execute_result"
    }
   ],
   "source": [
    "cc = ConstantNode(:c, [:i, :j], rand(3, 4))"
   ]
  },
  {
   "cell_type": "code",
   "execution_count": 4,
   "metadata": {
    "collapsed": false
   },
   "outputs": [
    {
     "data": {
      "text/plain": [
       "VB.ConstantNode{Float64}(symbol(\"##const#7735\"),[:i,:j],3x4 Array{Float64,2}:\n",
       " 0.196672  0.872916  0.0743068  0.834964\n",
       " 0.967775  0.767241  0.764598   0.757284\n",
       " 0.327708  0.595233  0.78208    0.950987)"
      ]
     },
     "execution_count": 4,
     "metadata": {},
     "output_type": "execute_result"
    }
   ],
   "source": [
    "cc = ConstantNode(rand(3, 4), [:i, :j])"
   ]
  },
  {
   "cell_type": "code",
   "execution_count": 5,
   "metadata": {
    "collapsed": false
   },
   "outputs": [
    {
     "data": {
      "text/plain": [
       "VB.FactorInds([:i,:j,:k],[5,3,5],Dict(:a=>[1,2],:b=>[2,3]))"
      ]
     },
     "execution_count": 5,
     "metadata": {},
     "output_type": "execute_result"
    }
   ],
   "source": [
    "nodes = Node[aa, bb]\n",
    "fi = get_structure(nodes...)\n",
    "fi"
   ]
  },
  {
   "cell_type": "code",
   "execution_count": 6,
   "metadata": {
    "collapsed": false
   },
   "outputs": [
    {
     "data": {
      "text/plain": [
       "VB.RandomNode{Distributions.Normal}(:a,[:i,:j],5x5 Array{Distributions.Normal,2}:\n",
       " Distributions.Normal(μ=0.7629787660085989, σ=0.9496204636564747)  …  Distributions.Normal(μ=0.5545830017150288, σ=0.4819055725258383) \n",
       " Distributions.Normal(μ=0.7121983592383938, σ=0.77164509267781)       Distributions.Normal(μ=0.5479000134455572, σ=0.3954419462583958) \n",
       " Distributions.Normal(μ=0.3468491482199798, σ=0.7769480362139563)     Distributions.Normal(μ=0.7961740035981721, σ=0.37067372152918376)\n",
       " Distributions.Normal(μ=0.7999399512970777, σ=0.5045433569747941)     Distributions.Normal(μ=0.8080869186596182, σ=0.42903420516168556)\n",
       " Distributions.Normal(μ=0.9176232497470909, σ=0.3900040025843241)     Distributions.Normal(μ=0.5173321545429217, σ=0.25237028619669766))"
      ]
     },
     "execution_count": 6,
     "metadata": {},
     "output_type": "execute_result"
    }
   ],
   "source": [
    "a[i, j] ~ Normal(μ, σ)"
   ]
  },
  {
   "cell_type": "code",
   "execution_count": 7,
   "metadata": {
    "collapsed": false
   },
   "outputs": [
    {
     "data": {
      "text/plain": [
       "VB.ConstantNode{Float64}(:c,[:i,:j],3x4 Array{Float64,2}:\n",
       " 0.550413  0.66825   0.0247327  0.682582 \n",
       " 0.343088  0.239031  0.462462   0.0698694\n",
       " 0.973105  0.221424  0.827344   0.886473 )"
      ]
     },
     "execution_count": 7,
     "metadata": {},
     "output_type": "execute_result"
    }
   ],
   "source": [
    "c[i, j] ~ Const(rand(3, 4))"
   ]
  },
  {
   "cell_type": "markdown",
   "metadata": {},
   "source": [
    "# Make a factor"
   ]
  },
  {
   "cell_type": "code",
   "execution_count": 8,
   "metadata": {
    "collapsed": false
   },
   "outputs": [],
   "source": [
    "dims = (10, 2)\n",
    "\n",
    "μ[j] ~ Normal(rand(dims[2]), ones(dims[2]))\n",
    "τ ~ Gamma(1, 1)\n",
    "x[i, j] ~ Normal(rand(dims), ones(dims))\n",
    "\n",
    "f = @factor LogNormalFactor x μ τ;"
   ]
  },
  {
   "cell_type": "markdown",
   "metadata": {},
   "source": [
    "# Make a (generated) value function"
   ]
  },
  {
   "cell_type": "code",
   "execution_count": 9,
   "metadata": {
    "collapsed": false
   },
   "outputs": [
    {
     "data": {
      "text/plain": [
       "-34.61227021312123"
      ]
     },
     "execution_count": 9,
     "metadata": {},
     "output_type": "execute_result"
    }
   ],
   "source": [
    "value(f)"
   ]
  },
  {
   "cell_type": "code",
   "execution_count": 10,
   "metadata": {
    "collapsed": false
   },
   "outputs": [
    {
     "data": {
      "text/plain": [
       "28.378770664093462"
      ]
     },
     "execution_count": 10,
     "metadata": {},
     "output_type": "execute_result"
    }
   ],
   "source": [
    "g = @factor EntropyFactor x\n",
    "value(g)"
   ]
  },
  {
   "cell_type": "markdown",
   "metadata": {},
   "source": [
    "# Let's make a simple model"
   ]
  },
  {
   "cell_type": "markdown",
   "metadata": {},
   "source": [
    "We want a simple model of inference for a normal distribution:\n",
    "\n",
    "$$\n",
    "\\begin{aligned}\n",
    "    y \\sim \\mathcal{N}(\\mu, \\tau) \\\\\n",
    "    \\mu \\sim \\mathcal{N}(\\mu_0, \\tau_0) \\\\\n",
    "    \\tau \\sim \\mathrm{Ga}(\\alpha, \\beta) \\\\\n",
    "    q(\\mu) = \\mathcal{N}(m, t) \\\\\n",
    "    q(\\tau) = \\mathrm{Ga}(a, b)\n",
    "\\end{aligned}\n",
    "$$\n",
    "\n",
    "This model is conjugate, and can be solved by straightforward updates of the natural parameters of the posterior."
   ]
  },
  {
   "cell_type": "markdown",
   "metadata": {},
   "source": [
    "## Make the nodes\n",
    "\n",
    "We need to make nodes for all the random variables that will need to be updated (we can also create nodes for parameter arrays, but these will be converted automatically if we don't)."
   ]
  },
  {
   "cell_type": "code",
   "execution_count": 11,
   "metadata": {
    "collapsed": false
   },
   "outputs": [],
   "source": [
    "dims = (20, 6)\n",
    "\n",
    "# note: it won't matter much how we initialize here\n",
    "μ[j] ~ Normal(zeros(dims[2]), ones(dims[2]))\n",
    "τ[j] ~ Gamma(1.1 * ones(dims[2]), ones(dims[2]))\n",
    "μ0[j] ~ Const(zeros(dims[2]))\n",
    "τ0[j] ~ Const(2 * ones(dims[2]))\n",
    "a0[j] ~ Const(1.1 * ones(dims[2]))\n",
    "b0[j] ~ Const(ones(dims[2]))\n",
    "\n",
    "y[i, j] ~ Const(rand(dims));"
   ]
  },
  {
   "cell_type": "markdown",
   "metadata": {},
   "source": [
    "Now make factors: We need a Normal factor for the observation model plus a prior and an entropy for each node."
   ]
  },
  {
   "cell_type": "code",
   "execution_count": 12,
   "metadata": {
    "collapsed": false
   },
   "outputs": [
    {
     "data": {
      "text/plain": [
       "VB.LogGammaFactor{1}(VB.RandomNode{Distributions.Gamma}(:τ,[:j],[Distributions.Gamma(α=1.1, θ=1.0),Distributions.Gamma(α=1.1, θ=1.0),Distributions.Gamma(α=1.1, θ=1.0),Distributions.Gamma(α=1.1, θ=1.0),Distributions.Gamma(α=1.1, θ=1.0),Distributions.Gamma(α=1.1, θ=1.0)]),VB.ConstantNode{Float64}(:a0,[:j],[1.1,1.1,1.1,1.1,1.1,1.1]),VB.ConstantNode{Float64}(:b0,[:j],[1.0,1.0,1.0,1.0,1.0,1.0]),VB.FactorInds([:j],[6],Dict(:τ=>[1],:b0=>[1],:a0=>[1])),Dict(:τ=>:x,:b0=>:β,:a0=>:α))"
      ]
     },
     "execution_count": 12,
     "metadata": {},
     "output_type": "execute_result"
    }
   ],
   "source": [
    "obs = @factor LogNormalFactor y μ τ\n",
    "μ_prior = @factor LogNormalFactor μ μ0 τ0\n",
    "τ_prior = @factor LogGammaFactor τ a0 b0"
   ]
  },
  {
   "cell_type": "code",
   "execution_count": 13,
   "metadata": {
    "collapsed": false
   },
   "outputs": [
    {
     "data": {
      "text/plain": [
       "(-171.26136081974116,-13.593072740907873,0.0449816833123928)"
      ]
     },
     "execution_count": 13,
     "metadata": {},
     "output_type": "execute_result"
    }
   ],
   "source": [
    "value(obs), value(μ_prior), value(τ_prior)"
   ]
  },
  {
   "cell_type": "code",
   "execution_count": 14,
   "metadata": {
    "collapsed": false
   },
   "outputs": [
    {
     "data": {
      "text/plain": [
       "VB.VBModel(VB.Node[VB.RandomNode{Distributions.Normal}(:μ,[:j],[Distributions.Normal(μ=0.0, σ=1.0),Distributions.Normal(μ=0.0, σ=1.0),Distributions.Normal(μ=0.0, σ=1.0),Distributions.Normal(μ=0.0, σ=1.0),Distributions.Normal(μ=0.0, σ=1.0),Distributions.Normal(μ=0.0, σ=1.0)]),VB.RandomNode{Distributions.Gamma}(:τ,[:j],[Distributions.Gamma(α=1.1, θ=1.0),Distributions.Gamma(α=1.1, θ=1.0),Distributions.Gamma(α=1.1, θ=1.0),Distributions.Gamma(α=1.1, θ=1.0),Distributions.Gamma(α=1.1, θ=1.0),Distributions.Gamma(α=1.1, θ=1.0)]),VB.ConstantNode{Float64}(:μ0,[:j],[0.0,0.0,0.0,0.0,0.0,0.0]),VB.ConstantNode{Float64}(:τ0,[:j],[2.0,2.0,2.0,2.0,2.0,2.0]),VB.ConstantNode{Float64}(:a0,[:j],[1.1,1.1,1.1,1.1,1.1,1.1]),VB.ConstantNode{Float64}(:b0,[:j],[1.0,1.0,1.0,1.0,1.0,1.0]),VB.ConstantNode{Float64}(:y,[:i,:j],20x6 Array{Float64,2}:\n",
       " 0.0072136  0.251249   0.809277   0.988777   0.137172  0.711034 \n",
       " 0.642755   0.393941   0.31775    0.311519   0.39197   0.434079 \n",
       " 0.156588   0.625304   0.401468   0.65933    0.278085  0.28307  \n",
       " 0.644714   0.429251   0.963579   0.938235   0.55442   0.26093  \n",
       " 0.595496   0.958262   0.0587927  0.511912   0.331721  0.0788303\n",
       " 0.0951986  0.955634   0.583976   0.257836   0.911878  0.138845 \n",
       " 0.975497   0.0304056  0.656746   0.853767   0.33965   0.814423 \n",
       " 0.212154   0.470276   0.779387   0.0949056  0.435111  0.484261 \n",
       " 0.399679   0.252366   0.978536   0.0369242  0.938269  0.546072 \n",
       " 0.0291271  0.733509   0.116543   0.434662   0.179048  0.649155 \n",
       " 0.358847   0.012797   0.032375   0.282503   0.867805  0.670099 \n",
       " 0.905483   0.0885206  0.674004   0.332438   0.738742  0.241263 \n",
       " 0.865034   0.806601   0.310774   0.286454   0.92406   0.260603 \n",
       " 0.543344   0.492992   0.215636   0.930021   0.535383  0.737349 \n",
       " 0.244527   0.394569   0.955834   0.955075   0.382621  0.124504 \n",
       " 0.0454015  0.806321   0.0929813  0.56971    0.662316  0.710308 \n",
       " 0.0902002  0.556023   0.769793   0.634857   0.319374  0.260064 \n",
       " 0.621866   0.388073   0.360669   0.46374    0.100391  0.238134 \n",
       " 0.703516   0.045083   0.725011   0.825799   0.018861  0.136444 \n",
       " 0.809074   0.535432   0.60317    0.101666   0.670612  0.0774126)],VB.Factor[VB.LogNormalFactor{2}(VB.ConstantNode{Float64}(:y,[:i,:j],20x6 Array{Float64,2}:\n",
       " 0.0072136  0.251249   0.809277   0.988777   0.137172  0.711034 \n",
       " 0.642755   0.393941   0.31775    0.311519   0.39197   0.434079 \n",
       " 0.156588   0.625304   0.401468   0.65933    0.278085  0.28307  \n",
       " 0.644714   0.429251   0.963579   0.938235   0.55442   0.26093  \n",
       " 0.595496   0.958262   0.0587927  0.511912   0.331721  0.0788303\n",
       " 0.0951986  0.955634   0.583976   0.257836   0.911878  0.138845 \n",
       " 0.975497   0.0304056  0.656746   0.853767   0.33965   0.814423 \n",
       " 0.212154   0.470276   0.779387   0.0949056  0.435111  0.484261 \n",
       " 0.399679   0.252366   0.978536   0.0369242  0.938269  0.546072 \n",
       " 0.0291271  0.733509   0.116543   0.434662   0.179048  0.649155 \n",
       " 0.358847   0.012797   0.032375   0.282503   0.867805  0.670099 \n",
       " 0.905483   0.0885206  0.674004   0.332438   0.738742  0.241263 \n",
       " 0.865034   0.806601   0.310774   0.286454   0.92406   0.260603 \n",
       " 0.543344   0.492992   0.215636   0.930021   0.535383  0.737349 \n",
       " 0.244527   0.394569   0.955834   0.955075   0.382621  0.124504 \n",
       " 0.0454015  0.806321   0.0929813  0.56971    0.662316  0.710308 \n",
       " 0.0902002  0.556023   0.769793   0.634857   0.319374  0.260064 \n",
       " 0.621866   0.388073   0.360669   0.46374    0.100391  0.238134 \n",
       " 0.703516   0.045083   0.725011   0.825799   0.018861  0.136444 \n",
       " 0.809074   0.535432   0.60317    0.101666   0.670612  0.0774126),VB.RandomNode{Distributions.Normal}(:μ,[:j],[Distributions.Normal(μ=0.0, σ=1.0),Distributions.Normal(μ=0.0, σ=1.0),Distributions.Normal(μ=0.0, σ=1.0),Distributions.Normal(μ=0.0, σ=1.0),Distributions.Normal(μ=0.0, σ=1.0),Distributions.Normal(μ=0.0, σ=1.0)]),VB.RandomNode{Distributions.Gamma}(:τ,[:j],[Distributions.Gamma(α=1.1, θ=1.0),Distributions.Gamma(α=1.1, θ=1.0),Distributions.Gamma(α=1.1, θ=1.0),Distributions.Gamma(α=1.1, θ=1.0),Distributions.Gamma(α=1.1, θ=1.0),Distributions.Gamma(α=1.1, θ=1.0)]),VB.FactorInds([:i,:j],[20,6],Dict(:τ=>[2],:μ=>[2],:y=>[1,2])),Dict(:τ=>:τ,:μ=>:μ,:y=>:x)),VB.LogNormalFactor{1}(VB.RandomNode{Distributions.Normal}(:μ,[:j],[Distributions.Normal(μ=0.0, σ=1.0),Distributions.Normal(μ=0.0, σ=1.0),Distributions.Normal(μ=0.0, σ=1.0),Distributions.Normal(μ=0.0, σ=1.0),Distributions.Normal(μ=0.0, σ=1.0),Distributions.Normal(μ=0.0, σ=1.0)]),VB.ConstantNode{Float64}(:μ0,[:j],[0.0,0.0,0.0,0.0,0.0,0.0]),VB.ConstantNode{Float64}(:τ0,[:j],[2.0,2.0,2.0,2.0,2.0,2.0]),VB.FactorInds([:j],[6],Dict(:τ0=>[1],:μ=>[1],:μ0=>[1])),Dict(:τ0=>:τ,:μ=>:x,:μ0=>:μ)),VB.LogGammaFactor{1}(VB.RandomNode{Distributions.Gamma}(:τ,[:j],[Distributions.Gamma(α=1.1, θ=1.0),Distributions.Gamma(α=1.1, θ=1.0),Distributions.Gamma(α=1.1, θ=1.0),Distributions.Gamma(α=1.1, θ=1.0),Distributions.Gamma(α=1.1, θ=1.0),Distributions.Gamma(α=1.1, θ=1.0)]),VB.ConstantNode{Float64}(:a0,[:j],[1.1,1.1,1.1,1.1,1.1,1.1]),VB.ConstantNode{Float64}(:b0,[:j],[1.0,1.0,1.0,1.0,1.0,1.0]),VB.FactorInds([:j],[6],Dict(:τ=>[1],:b0=>[1],:a0=>[1])),Dict(:τ=>:x,:b0=>:β,:a0=>:α))],Dict{VB.Node,Array{Tuple{VB.Factor{N},Symbol},1}}(VB.ConstantNode{Float64}(:y,[:i,:j],20x6 Array{Float64,2}:\n",
       " 0.0072136  0.251249   0.809277   0.988777   0.137172  0.711034 \n",
       " 0.642755   0.393941   0.31775    0.311519   0.39197   0.434079 \n",
       " 0.156588   0.625304   0.401468   0.65933    0.278085  0.28307  \n",
       " 0.644714   0.429251   0.963579   0.938235   0.55442   0.26093  \n",
       " 0.595496   0.958262   0.0587927  0.511912   0.331721  0.0788303\n",
       " 0.0951986  0.955634   0.583976   0.257836   0.911878  0.138845 \n",
       " 0.975497   0.0304056  0.656746   0.853767   0.33965   0.814423 \n",
       " 0.212154   0.470276   0.779387   0.0949056  0.435111  0.484261 \n",
       " 0.399679   0.252366   0.978536   0.0369242  0.938269  0.546072 \n",
       " 0.0291271  0.733509   0.116543   0.434662   0.179048  0.649155 \n",
       " 0.358847   0.012797   0.032375   0.282503   0.867805  0.670099 \n",
       " 0.905483   0.0885206  0.674004   0.332438   0.738742  0.241263 \n",
       " 0.865034   0.806601   0.310774   0.286454   0.92406   0.260603 \n",
       " 0.543344   0.492992   0.215636   0.930021   0.535383  0.737349 \n",
       " 0.244527   0.394569   0.955834   0.955075   0.382621  0.124504 \n",
       " 0.0454015  0.806321   0.0929813  0.56971    0.662316  0.710308 \n",
       " 0.0902002  0.556023   0.769793   0.634857   0.319374  0.260064 \n",
       " 0.621866   0.388073   0.360669   0.46374    0.100391  0.238134 \n",
       " 0.703516   0.045083   0.725011   0.825799   0.018861  0.136444 \n",
       " 0.809074   0.535432   0.60317    0.101666   0.670612  0.0774126)=>Tuple{VB.Factor{N},Symbol}[(VB.LogNormalFactor{2}(VB.ConstantNode{Float64}(:y,[:i,:j],20x6 Array{Float64,2}:\n",
       " 0.0072136  0.251249   0.809277   0.988777   0.137172  0.711034 \n",
       " 0.642755   0.393941   0.31775    0.311519   0.39197   0.434079 \n",
       " 0.156588   0.625304   0.401468   0.65933    0.278085  0.28307  \n",
       " 0.644714   0.429251   0.963579   0.938235   0.55442   0.26093  \n",
       " 0.595496   0.958262   0.0587927  0.511912   0.331721  0.0788303\n",
       " 0.0951986  0.955634   0.583976   0.257836   0.911878  0.138845 \n",
       " 0.975497   0.0304056  0.656746   0.853767   0.33965   0.814423 \n",
       " 0.212154   0.470276   0.779387   0.0949056  0.435111  0.484261 \n",
       " 0.399679   0.252366   0.978536   0.0369242  0.938269  0.546072 \n",
       " 0.0291271  0.733509   0.116543   0.434662   0.179048  0.649155 \n",
       " 0.358847   0.012797   0.032375   0.282503   0.867805  0.670099 \n",
       " 0.905483   0.0885206  0.674004   0.332438   0.738742  0.241263 \n",
       " 0.865034   0.806601   0.310774   0.286454   0.92406   0.260603 \n",
       " 0.543344   0.492992   0.215636   0.930021   0.535383  0.737349 \n",
       " 0.244527   0.394569   0.955834   0.955075   0.382621  0.124504 \n",
       " 0.0454015  0.806321   0.0929813  0.56971    0.662316  0.710308 \n",
       " 0.0902002  0.556023   0.769793   0.634857   0.319374  0.260064 \n",
       " 0.621866   0.388073   0.360669   0.46374    0.100391  0.238134 \n",
       " 0.703516   0.045083   0.725011   0.825799   0.018861  0.136444 \n",
       " 0.809074   0.535432   0.60317    0.101666   0.670612  0.0774126),VB.RandomNode{Distributions.Normal}(:μ,[:j],[Distributions.Normal(μ=0.0, σ=1.0),Distributions.Normal(μ=0.0, σ=1.0),Distributions.Normal(μ=0.0, σ=1.0),Distributions.Normal(μ=0.0, σ=1.0),Distributions.Normal(μ=0.0, σ=1.0),Distributions.Normal(μ=0.0, σ=1.0)]),VB.RandomNode{Distributions.Gamma}(:τ,[:j],[Distributions.Gamma(α=1.1, θ=1.0),Distributions.Gamma(α=1.1, θ=1.0),Distributions.Gamma(α=1.1, θ=1.0),Distributions.Gamma(α=1.1, θ=1.0),Distributions.Gamma(α=1.1, θ=1.0),Distributions.Gamma(α=1.1, θ=1.0)]),VB.FactorInds([:i,:j],[20,6],Dict(:τ=>[2],:μ=>[2],:y=>[1,2])),Dict(:τ=>:τ,:μ=>:μ,:y=>:x)),:x)],VB.ConstantNode{Float64}(:b0,[:j],[1.0,1.0,1.0,1.0,1.0,1.0])=>Tuple{VB.Factor{N},Symbol}[(VB.LogGammaFactor{1}(VB.RandomNode{Distributions.Gamma}(:τ,[:j],[Distributions.Gamma(α=1.1, θ=1.0),Distributions.Gamma(α=1.1, θ=1.0),Distributions.Gamma(α=1.1, θ=1.0),Distributions.Gamma(α=1.1, θ=1.0),Distributions.Gamma(α=1.1, θ=1.0),Distributions.Gamma(α=1.1, θ=1.0)]),VB.ConstantNode{Float64}(:a0,[:j],[1.1,1.1,1.1,1.1,1.1,1.1]),VB.ConstantNode{Float64}(:b0,[:j],[1.0,1.0,1.0,1.0,1.0,1.0]),VB.FactorInds([:j],[6],Dict(:τ=>[1],:b0=>[1],:a0=>[1])),Dict(:τ=>:x,:b0=>:β,:a0=>:α)),:β)],VB.RandomNode{Distributions.Normal}(:μ,[:j],[Distributions.Normal(μ=0.0, σ=1.0),Distributions.Normal(μ=0.0, σ=1.0),Distributions.Normal(μ=0.0, σ=1.0),Distributions.Normal(μ=0.0, σ=1.0),Distributions.Normal(μ=0.0, σ=1.0),Distributions.Normal(μ=0.0, σ=1.0)])=>Tuple{VB.Factor{N},Symbol}[(VB.LogNormalFactor{2}(VB.ConstantNode{Float64}(:y,[:i,:j],20x6 Array{Float64,2}:\n",
       " 0.0072136  0.251249   0.809277   0.988777   0.137172  0.711034 \n",
       " 0.642755   0.393941   0.31775    0.311519   0.39197   0.434079 \n",
       " 0.156588   0.625304   0.401468   0.65933    0.278085  0.28307  \n",
       " 0.644714   0.429251   0.963579   0.938235   0.55442   0.26093  \n",
       " 0.595496   0.958262   0.0587927  0.511912   0.331721  0.0788303\n",
       " 0.0951986  0.955634   0.583976   0.257836   0.911878  0.138845 \n",
       " 0.975497   0.0304056  0.656746   0.853767   0.33965   0.814423 \n",
       " 0.212154   0.470276   0.779387   0.0949056  0.435111  0.484261 \n",
       " 0.399679   0.252366   0.978536   0.0369242  0.938269  0.546072 \n",
       " 0.0291271  0.733509   0.116543   0.434662   0.179048  0.649155 \n",
       " 0.358847   0.012797   0.032375   0.282503   0.867805  0.670099 \n",
       " 0.905483   0.0885206  0.674004   0.332438   0.738742  0.241263 \n",
       " 0.865034   0.806601   0.310774   0.286454   0.92406   0.260603 \n",
       " 0.543344   0.492992   0.215636   0.930021   0.535383  0.737349 \n",
       " 0.244527   0.394569   0.955834   0.955075   0.382621  0.124504 \n",
       " 0.0454015  0.806321   0.0929813  0.56971    0.662316  0.710308 \n",
       " 0.0902002  0.556023   0.769793   0.634857   0.319374  0.260064 \n",
       " 0.621866   0.388073   0.360669   0.46374    0.100391  0.238134 \n",
       " 0.703516   0.045083   0.725011   0.825799   0.018861  0.136444 \n",
       " 0.809074   0.535432   0.60317    0.101666   0.670612  0.0774126),VB.RandomNode{Distributions.Normal}(:μ,[:j],[Distributions.Normal(μ=0.0, σ=1.0),Distributions.Normal(μ=0.0, σ=1.0),Distributions.Normal(μ=0.0, σ=1.0),Distributions.Normal(μ=0.0, σ=1.0),Distributions.Normal(μ=0.0, σ=1.0),Distributions.Normal(μ=0.0, σ=1.0)]),VB.RandomNode{Distributions.Gamma}(:τ,[:j],[Distributions.Gamma(α=1.1, θ=1.0),Distributions.Gamma(α=1.1, θ=1.0),Distributions.Gamma(α=1.1, θ=1.0),Distributions.Gamma(α=1.1, θ=1.0),Distributions.Gamma(α=1.1, θ=1.0),Distributions.Gamma(α=1.1, θ=1.0)]),VB.FactorInds([:i,:j],[20,6],Dict(:τ=>[2],:μ=>[2],:y=>[1,2])),Dict(:τ=>:τ,:μ=>:μ,:y=>:x)),:μ),(VB.LogNormalFactor{1}(VB.RandomNode{Distributions.Normal}(:μ,[:j],[Distributions.Normal(μ=0.0, σ=1.0),Distributions.Normal(μ=0.0, σ=1.0),Distributions.Normal(μ=0.0, σ=1.0),Distributions.Normal(μ=0.0, σ=1.0),Distributions.Normal(μ=0.0, σ=1.0),Distributions.Normal(μ=0.0, σ=1.0)]),VB.ConstantNode{Float64}(:μ0,[:j],[0.0,0.0,0.0,0.0,0.0,0.0]),VB.ConstantNode{Float64}(:τ0,[:j],[2.0,2.0,2.0,2.0,2.0,2.0]),VB.FactorInds([:j],[6],Dict(:τ0=>[1],:μ=>[1],:μ0=>[1])),Dict(:τ0=>:τ,:μ=>:x,:μ0=>:μ)),:x)],VB.ConstantNode{Float64}(:a0,[:j],[1.1,1.1,1.1,1.1,1.1,1.1])=>Tuple{VB.Factor{N},Symbol}[(VB.LogGammaFactor{1}(VB.RandomNode{Distributions.Gamma}(:τ,[:j],[Distributions.Gamma(α=1.1, θ=1.0),Distributions.Gamma(α=1.1, θ=1.0),Distributions.Gamma(α=1.1, θ=1.0),Distributions.Gamma(α=1.1, θ=1.0),Distributions.Gamma(α=1.1, θ=1.0),Distributions.Gamma(α=1.1, θ=1.0)]),VB.ConstantNode{Float64}(:a0,[:j],[1.1,1.1,1.1,1.1,1.1,1.1]),VB.ConstantNode{Float64}(:b0,[:j],[1.0,1.0,1.0,1.0,1.0,1.0]),VB.FactorInds([:j],[6],Dict(:τ=>[1],:b0=>[1],:a0=>[1])),Dict(:τ=>:x,:b0=>:β,:a0=>:α)),:α)],VB.ConstantNode{Float64}(:τ0,[:j],[2.0,2.0,2.0,2.0,2.0,2.0])=>Tuple{VB.Factor{N},Symbol}[(VB.LogNormalFactor{1}(VB.RandomNode{Distributions.Normal}(:μ,[:j],[Distributions.Normal(μ=0.0, σ=1.0),Distributions.Normal(μ=0.0, σ=1.0),Distributions.Normal(μ=0.0, σ=1.0),Distributions.Normal(μ=0.0, σ=1.0),Distributions.Normal(μ=0.0, σ=1.0),Distributions.Normal(μ=0.0, σ=1.0)]),VB.ConstantNode{Float64}(:μ0,[:j],[0.0,0.0,0.0,0.0,0.0,0.0]),VB.ConstantNode{Float64}(:τ0,[:j],[2.0,2.0,2.0,2.0,2.0,2.0]),VB.FactorInds([:j],[6],Dict(:τ0=>[1],:μ=>[1],:μ0=>[1])),Dict(:τ0=>:τ,:μ=>:x,:μ0=>:μ)),:τ)],VB.RandomNode{Distributions.Gamma}(:τ,[:j],[Distributions.Gamma(α=1.1, θ=1.0),Distributions.Gamma(α=1.1, θ=1.0),Distributions.Gamma(α=1.1, θ=1.0),Distributions.Gamma(α=1.1, θ=1.0),Distributions.Gamma(α=1.1, θ=1.0),Distributions.Gamma(α=1.1, θ=1.0)])=>Tuple{VB.Factor{N},Symbol}[(VB.LogNormalFactor{2}(VB.ConstantNode{Float64}(:y,[:i,:j],20x6 Array{Float64,2}:\n",
       " 0.0072136  0.251249   0.809277   0.988777   0.137172  0.711034 \n",
       " 0.642755   0.393941   0.31775    0.311519   0.39197   0.434079 \n",
       " 0.156588   0.625304   0.401468   0.65933    0.278085  0.28307  \n",
       " 0.644714   0.429251   0.963579   0.938235   0.55442   0.26093  \n",
       " 0.595496   0.958262   0.0587927  0.511912   0.331721  0.0788303\n",
       " 0.0951986  0.955634   0.583976   0.257836   0.911878  0.138845 \n",
       " 0.975497   0.0304056  0.656746   0.853767   0.33965   0.814423 \n",
       " 0.212154   0.470276   0.779387   0.0949056  0.435111  0.484261 \n",
       " 0.399679   0.252366   0.978536   0.0369242  0.938269  0.546072 \n",
       " 0.0291271  0.733509   0.116543   0.434662   0.179048  0.649155 \n",
       " 0.358847   0.012797   0.032375   0.282503   0.867805  0.670099 \n",
       " 0.905483   0.0885206  0.674004   0.332438   0.738742  0.241263 \n",
       " 0.865034   0.806601   0.310774   0.286454   0.92406   0.260603 \n",
       " 0.543344   0.492992   0.215636   0.930021   0.535383  0.737349 \n",
       " 0.244527   0.394569   0.955834   0.955075   0.382621  0.124504 \n",
       " 0.0454015  0.806321   0.0929813  0.56971    0.662316  0.710308 \n",
       " 0.0902002  0.556023   0.769793   0.634857   0.319374  0.260064 \n",
       " 0.621866   0.388073   0.360669   0.46374    0.100391  0.238134 \n",
       " 0.703516   0.045083   0.725011   0.825799   0.018861  0.136444 \n",
       " 0.809074   0.535432   0.60317    0.101666   0.670612  0.0774126),VB.RandomNode{Distributions.Normal}(:μ,[:j],[Distributions.Normal(μ=0.0, σ=1.0),Distributions.Normal(μ=0.0, σ=1.0),Distributions.Normal(μ=0.0, σ=1.0),Distributions.Normal(μ=0.0, σ=1.0),Distributions.Normal(μ=0.0, σ=1.0),Distributions.Normal(μ=0.0, σ=1.0)]),VB.RandomNode{Distributions.Gamma}(:τ,[:j],[Distributions.Gamma(α=1.1, θ=1.0),Distributions.Gamma(α=1.1, θ=1.0),Distributions.Gamma(α=1.1, θ=1.0),Distributions.Gamma(α=1.1, θ=1.0),Distributions.Gamma(α=1.1, θ=1.0),Distributions.Gamma(α=1.1, θ=1.0)]),VB.FactorInds([:i,:j],[20,6],Dict(:τ=>[2],:μ=>[2],:y=>[1,2])),Dict(:τ=>:τ,:μ=>:μ,:y=>:x)),:τ),(VB.LogGammaFactor{1}(VB.RandomNode{Distributions.Gamma}(:τ,[:j],[Distributions.Gamma(α=1.1, θ=1.0),Distributions.Gamma(α=1.1, θ=1.0),Distributions.Gamma(α=1.1, θ=1.0),Distributions.Gamma(α=1.1, θ=1.0),Distributions.Gamma(α=1.1, θ=1.0),Distributions.Gamma(α=1.1, θ=1.0)]),VB.ConstantNode{Float64}(:a0,[:j],[1.1,1.1,1.1,1.1,1.1,1.1]),VB.ConstantNode{Float64}(:b0,[:j],[1.0,1.0,1.0,1.0,1.0,1.0]),VB.FactorInds([:j],[6],Dict(:τ=>[1],:b0=>[1],:a0=>[1])),Dict(:τ=>:x,:b0=>:β,:a0=>:α)),:x)],VB.ConstantNode{Float64}(:μ0,[:j],[0.0,0.0,0.0,0.0,0.0,0.0])=>Tuple{VB.Factor{N},Symbol}[(VB.LogNormalFactor{1}(VB.RandomNode{Distributions.Normal}(:μ,[:j],[Distributions.Normal(μ=0.0, σ=1.0),Distributions.Normal(μ=0.0, σ=1.0),Distributions.Normal(μ=0.0, σ=1.0),Distributions.Normal(μ=0.0, σ=1.0),Distributions.Normal(μ=0.0, σ=1.0),Distributions.Normal(μ=0.0, σ=1.0)]),VB.ConstantNode{Float64}(:μ0,[:j],[0.0,0.0,0.0,0.0,0.0,0.0]),VB.ConstantNode{Float64}(:τ0,[:j],[2.0,2.0,2.0,2.0,2.0,2.0]),VB.FactorInds([:j],[6],Dict(:τ0=>[1],:μ=>[1],:μ0=>[1])),Dict(:τ0=>:τ,:μ=>:x,:μ0=>:μ)),:μ)]),Dict{VB.Node,Symbol}(VB.ConstantNode{Float64}(:y,[:i,:j],20x6 Array{Float64,2}:\n",
       " 0.0072136  0.251249   0.809277   0.988777   0.137172  0.711034 \n",
       " 0.642755   0.393941   0.31775    0.311519   0.39197   0.434079 \n",
       " 0.156588   0.625304   0.401468   0.65933    0.278085  0.28307  \n",
       " 0.644714   0.429251   0.963579   0.938235   0.55442   0.26093  \n",
       " 0.595496   0.958262   0.0587927  0.511912   0.331721  0.0788303\n",
       " 0.0951986  0.955634   0.583976   0.257836   0.911878  0.138845 \n",
       " 0.975497   0.0304056  0.656746   0.853767   0.33965   0.814423 \n",
       " 0.212154   0.470276   0.779387   0.0949056  0.435111  0.484261 \n",
       " 0.399679   0.252366   0.978536   0.0369242  0.938269  0.546072 \n",
       " 0.0291271  0.733509   0.116543   0.434662   0.179048  0.649155 \n",
       " 0.358847   0.012797   0.032375   0.282503   0.867805  0.670099 \n",
       " 0.905483   0.0885206  0.674004   0.332438   0.738742  0.241263 \n",
       " 0.865034   0.806601   0.310774   0.286454   0.92406   0.260603 \n",
       " 0.543344   0.492992   0.215636   0.930021   0.535383  0.737349 \n",
       " 0.244527   0.394569   0.955834   0.955075   0.382621  0.124504 \n",
       " 0.0454015  0.806321   0.0929813  0.56971    0.662316  0.710308 \n",
       " 0.0902002  0.556023   0.769793   0.634857   0.319374  0.260064 \n",
       " 0.621866   0.388073   0.360669   0.46374    0.100391  0.238134 \n",
       " 0.703516   0.045083   0.725011   0.825799   0.018861  0.136444 \n",
       " 0.809074   0.535432   0.60317    0.101666   0.670612  0.0774126)=>:constant,VB.ConstantNode{Float64}(:b0,[:j],[1.0,1.0,1.0,1.0,1.0,1.0])=>:constant,VB.RandomNode{Distributions.Normal}(:μ,[:j],[Distributions.Normal(μ=0.0, σ=1.0),Distributions.Normal(μ=0.0, σ=1.0),Distributions.Normal(μ=0.0, σ=1.0),Distributions.Normal(μ=0.0, σ=1.0),Distributions.Normal(μ=0.0, σ=1.0),Distributions.Normal(μ=0.0, σ=1.0)])=>:conjugate,VB.ConstantNode{Float64}(:a0,[:j],[1.1,1.1,1.1,1.1,1.1,1.1])=>:constant,VB.ConstantNode{Float64}(:τ0,[:j],[2.0,2.0,2.0,2.0,2.0,2.0])=>:constant,VB.RandomNode{Distributions.Gamma}(:τ,[:j],[Distributions.Gamma(α=1.1, θ=1.0),Distributions.Gamma(α=1.1, θ=1.0),Distributions.Gamma(α=1.1, θ=1.0),Distributions.Gamma(α=1.1, θ=1.0),Distributions.Gamma(α=1.1, θ=1.0),Distributions.Gamma(α=1.1, θ=1.0)])=>:conjugate,VB.ConstantNode{Float64}(:μ0,[:j],[0.0,0.0,0.0,0.0,0.0,0.0])=>:constant))"
      ]
     },
     "execution_count": 14,
     "metadata": {},
     "output_type": "execute_result"
    }
   ],
   "source": [
    "m = VBModel([μ, τ, μ0, τ0, a0, b0, y], [obs, μ_prior, τ_prior])"
   ]
  },
  {
   "cell_type": "code",
   "execution_count": 15,
   "metadata": {
    "collapsed": false
   },
   "outputs": [
    {
     "data": {
      "text/plain": [
       "7-element Array{Any,1}:\n",
       " :μ \n",
       " :τ \n",
       " :μ0\n",
       " :τ0\n",
       " :a0\n",
       " :b0\n",
       " :y "
      ]
     },
     "execution_count": 15,
     "metadata": {},
     "output_type": "execute_result"
    }
   ],
   "source": [
    "[n.name for n in m.nodes]"
   ]
  },
  {
   "cell_type": "code",
   "execution_count": 16,
   "metadata": {
    "collapsed": false
   },
   "outputs": [
    {
     "data": {
      "text/plain": [
       "3-element Array{DataType,1}:\n",
       " VB.LogNormalFactor{2}\n",
       " VB.LogNormalFactor{1}\n",
       " VB.LogGammaFactor{1} "
      ]
     },
     "execution_count": 16,
     "metadata": {},
     "output_type": "execute_result"
    }
   ],
   "source": [
    "[typeof(f) for f in m.factors]"
   ]
  },
  {
   "cell_type": "code",
   "execution_count": 17,
   "metadata": {
    "collapsed": false
   },
   "outputs": [
    {
     "data": {
      "text/plain": [
       "Dict{VB.Node,Array{Tuple{VB.Factor{N},Symbol},1}} with 7 entries:\n",
       "  VB.ConstantNode{Float64… => Tuple{VB.Factor{N},Symbol}[(VB.LogNormalFactor{2}…\n",
       "  VB.ConstantNode{Float64… => Tuple{VB.Factor{N},Symbol}[(VB.LogGammaFactor{1}(…\n",
       "  VB.RandomNode{Distribut… => Tuple{VB.Factor{N},Symbol}[(VB.LogNormalFactor{2}…\n",
       "  VB.ConstantNode{Float64… => Tuple{VB.Factor{N},Symbol}[(VB.LogGammaFactor{1}(…\n",
       "  VB.ConstantNode{Float64… => Tuple{VB.Factor{N},Symbol}[(VB.LogNormalFactor{1}…\n",
       "  VB.RandomNode{Distribut… => Tuple{VB.Factor{N},Symbol}[(VB.LogNormalFactor{2}…\n",
       "  VB.ConstantNode{Float64… => Tuple{VB.Factor{N},Symbol}[(VB.LogNormalFactor{1}…"
      ]
     },
     "execution_count": 17,
     "metadata": {},
     "output_type": "execute_result"
    }
   ],
   "source": [
    "m.graph"
   ]
  },
  {
   "cell_type": "code",
   "execution_count": 18,
   "metadata": {
    "collapsed": false
   },
   "outputs": [
    {
     "data": {
      "text/plain": [
       "6-element Array{Tuple{Float64,Float64},1}:\n",
       " (9.8402860670654,-11.000000000000002)   \n",
       " (10.14927041517417,-11.000000000000002) \n",
       " (11.44693078084976,-11.000000000000002) \n",
       " (11.517143112785575,-11.000000000000002)\n",
       " (10.689238169860024,-11.000000000000002)\n",
       " (8.642564743319356,-11.000000000000002) "
      ]
     },
     "execution_count": 18,
     "metadata": {},
     "output_type": "execute_result"
    }
   ],
   "source": [
    "naturals(obs, μ)"
   ]
  },
  {
   "cell_type": "code",
   "execution_count": 19,
   "metadata": {
    "collapsed": false
   },
   "outputs": [
    {
     "data": {
      "text/plain": [
       "6-element Array{Tuple{Float64,Float64},1}:\n",
       " (10.0,12.986328066415775)\n",
       " (10.0,12.952426900577697)\n",
       " (10.0,13.666352185132364)\n",
       " (10.0,13.665455336730794)\n",
       " (10.0,13.151192067085534)\n",
       " (10.0,12.13645749846231) "
      ]
     },
     "execution_count": 19,
     "metadata": {},
     "output_type": "execute_result"
    }
   ],
   "source": [
    "naturals(obs, τ)"
   ]
  },
  {
   "cell_type": "code",
   "execution_count": 20,
   "metadata": {
    "collapsed": false
   },
   "outputs": [
    {
     "data": {
      "text/plain": [
       "true"
      ]
     },
     "execution_count": 20,
     "metadata": {},
     "output_type": "execute_result"
    }
   ],
   "source": [
    "check_conjugate(τ, m)"
   ]
  },
  {
   "cell_type": "code",
   "execution_count": 21,
   "metadata": {
    "collapsed": false
   },
   "outputs": [
    {
     "data": {
      "text/plain": [
       "true"
      ]
     },
     "execution_count": 21,
     "metadata": {},
     "output_type": "execute_result"
    }
   ],
   "source": [
    "check_conjugate(μ, m)"
   ]
  },
  {
   "cell_type": "code",
   "execution_count": 22,
   "metadata": {
    "collapsed": false
   },
   "outputs": [
    {
     "data": {
      "text/plain": [
       "6-element Array{Distributions.Normal,1}:\n",
       " Distributions.Normal(μ=0.0, σ=1.0)\n",
       " Distributions.Normal(μ=0.0, σ=1.0)\n",
       " Distributions.Normal(μ=0.0, σ=1.0)\n",
       " Distributions.Normal(μ=0.0, σ=1.0)\n",
       " Distributions.Normal(μ=0.0, σ=1.0)\n",
       " Distributions.Normal(μ=0.0, σ=1.0)"
      ]
     },
     "execution_count": 22,
     "metadata": {},
     "output_type": "execute_result"
    }
   ],
   "source": [
    "μ.data"
   ]
  },
  {
   "cell_type": "code",
   "execution_count": 23,
   "metadata": {
    "collapsed": false
   },
   "outputs": [
    {
     "data": {
      "text/plain": [
       "6-element Array{Distributions.Gamma,1}:\n",
       " Distributions.Gamma(α=1.1, θ=1.0)\n",
       " Distributions.Gamma(α=1.1, θ=1.0)\n",
       " Distributions.Gamma(α=1.1, θ=1.0)\n",
       " Distributions.Gamma(α=1.1, θ=1.0)\n",
       " Distributions.Gamma(α=1.1, θ=1.0)\n",
       " Distributions.Gamma(α=1.1, θ=1.0)"
      ]
     },
     "execution_count": 23,
     "metadata": {},
     "output_type": "execute_result"
    }
   ],
   "source": [
    "τ.data"
   ]
  },
  {
   "cell_type": "code",
   "execution_count": 24,
   "metadata": {
    "collapsed": false
   },
   "outputs": [],
   "source": [
    "update!(m)"
   ]
  },
  {
   "cell_type": "code",
   "execution_count": 25,
   "metadata": {
    "collapsed": false
   },
   "outputs": [
    {
     "data": {
      "text/plain": [
       "6-element Array{Distributions.Normal,1}:\n",
       " Distributions.Normal(μ=-0.8200415862145785, σ=0.7071067811865476) \n",
       " Distributions.Normal(μ=-0.6015566583863617, σ=0.7071067811865476) \n",
       " Distributions.Normal(μ=0.31602778585986285, σ=0.7071067811865476) \n",
       " Distributions.Normal(μ=0.36567540189459874, σ=0.7071067811865476) \n",
       " Distributions.Normal(μ=-0.21974179742592012, σ=0.7071067811865476)\n",
       " Distributions.Normal(μ=-1.6669584562071338, σ=0.7071067811865476) "
      ]
     },
     "execution_count": 25,
     "metadata": {},
     "output_type": "execute_result"
    }
   ],
   "source": [
    "μ.data"
   ]
  },
  {
   "cell_type": "code",
   "execution_count": 26,
   "metadata": {
    "collapsed": false
   },
   "outputs": [
    {
     "data": {
      "text/plain": [
       "6-element Array{Distributions.Gamma,1}:\n",
       " Distributions.Gamma(α=33.046868093303104, θ=0.8999999999999999)\n",
       " Distributions.Gamma(α=28.121459393078027, θ=0.8999999999999999)\n",
       " Distributions.Gamma(α=17.376407627157185, θ=0.8999999999999999)\n",
       " Distributions.Gamma(α=17.17397129910631, θ=0.8999999999999999) \n",
       " Distributions.Gamma(α=21.76939519568054, θ=0.8999999999999999) \n",
       " Distributions.Gamma(α=59.02105006584324, θ=0.8999999999999999) "
      ]
     },
     "execution_count": 26,
     "metadata": {},
     "output_type": "execute_result"
    }
   ],
   "source": [
    "τ.data"
   ]
  },
  {
   "cell_type": "code",
   "execution_count": null,
   "metadata": {
    "collapsed": true
   },
   "outputs": [],
   "source": []
  }
 ],
 "metadata": {
  "kernelspec": {
   "display_name": "Julia 0.4.1",
   "language": "julia",
   "name": "julia-0.4"
  },
  "language_info": {
   "file_extension": ".jl",
   "mimetype": "application/julia",
   "name": "julia",
   "version": "0.4.1"
  }
 },
 "nbformat": 4,
 "nbformat_minor": 0
}
