{
 "cells": [
  {
   "cell_type": "markdown",
   "metadata": {},
   "source": [
    "Let's try some basic tests of `VB.jl`:"
   ]
  },
  {
   "cell_type": "code",
   "execution_count": 1,
   "metadata": {
    "collapsed": false
   },
   "outputs": [],
   "source": [
    "include(\"VB.jl\")\n",
    "using VB"
   ]
  },
  {
   "cell_type": "markdown",
   "metadata": {},
   "source": [
    "Let's try to make a Gaussian node with several different sizes and parameterizations:"
   ]
  },
  {
   "cell_type": "code",
   "execution_count": 2,
   "metadata": {
    "collapsed": false
   },
   "outputs": [
    {
     "data": {
      "text/plain": [
       "3"
      ]
     },
     "execution_count": 2,
     "metadata": {},
     "output_type": "execute_result"
    }
   ],
   "source": [
    "ndims = (5, 5)  # node dimensions\n",
    "vardims = 3  # dimension of variable"
   ]
  },
  {
   "cell_type": "code",
   "execution_count": 3,
   "metadata": {
    "collapsed": false
   },
   "outputs": [],
   "source": [
    "μ = Array{Vector{Float64}}(ndims)\n",
    "Σ = Array{Matrix{Float64}}(ndims)\n",
    "\n",
    "for idx in eachindex(μ)\n",
    "    μ[idx] = rand(vardims)\n",
    "end\n",
    "\n",
    "for idx in eachindex(Σ)\n",
    "    C = rand(vardims, vardims)\n",
    "    Σ[idx] = C * C'\n",
    "end"
   ]
  },
  {
   "cell_type": "code",
   "execution_count": 4,
   "metadata": {
    "collapsed": false
   },
   "outputs": [
    {
     "data": {
      "text/plain": [
       "3-element Array{Float64,1}:\n",
       " 0.124232\n",
       " 0.20371 \n",
       " 0.213106"
      ]
     },
     "execution_count": 4,
     "metadata": {},
     "output_type": "execute_result"
    }
   ],
   "source": [
    "μ[1]"
   ]
  },
  {
   "cell_type": "code",
   "execution_count": 5,
   "metadata": {
    "collapsed": false
   },
   "outputs": [
    {
     "data": {
      "text/plain": [
       "3x3 Array{Float64,2}:\n",
       " 1.49543   1.20489   0.953785\n",
       " 1.20489   1.15408   0.838758\n",
       " 0.953785  0.838758  0.638243"
      ]
     },
     "execution_count": 5,
     "metadata": {},
     "output_type": "execute_result"
    }
   ],
   "source": [
    "Σ[1]"
   ]
  },
  {
   "cell_type": "code",
   "execution_count": 6,
   "metadata": {
    "collapsed": false
   },
   "outputs": [
    {
     "data": {
      "text/plain": [
       "0.02126852628725841"
      ]
     },
     "execution_count": 6,
     "metadata": {},
     "output_type": "execute_result"
    }
   ],
   "source": [
    "det(Σ[2])"
   ]
  },
  {
   "cell_type": "code",
   "execution_count": 7,
   "metadata": {
    "collapsed": false
   },
   "outputs": [
    {
     "ename": "LoadError",
     "evalue": "LoadError: UndefVarError: MultivariateNormal not defined\nwhile loading In[7], in expression starting on line 2",
     "output_type": "error",
     "traceback": [
      "LoadError: UndefVarError: MultivariateNormal not defined\nwhile loading In[7], in expression starting on line 2",
      ""
     ]
    }
   ],
   "source": [
    "pars = (μ, Σ)\n",
    "aa = map(MultivariateNormal, pars...)"
   ]
  },
  {
   "cell_type": "code",
   "execution_count": 8,
   "metadata": {
    "collapsed": false
   },
   "outputs": [],
   "source": [
    "rr = RandomNode(aa, Factor[]);"
   ]
  },
  {
   "cell_type": "code",
   "execution_count": 9,
   "metadata": {
    "collapsed": false
   },
   "outputs": [
    {
     "data": {
      "text/plain": [
       "Array{Distributions.MvNormal{PDMats.PDMat,Array{Float64,1}},2}"
      ]
     },
     "execution_count": 9,
     "metadata": {},
     "output_type": "execute_result"
    }
   ],
   "source": [
    "typeof(aa)"
   ]
  },
  {
   "cell_type": "code",
   "execution_count": 10,
   "metadata": {
    "collapsed": false
   },
   "outputs": [
    {
     "data": {
      "text/plain": [
       "true"
      ]
     },
     "execution_count": 10,
     "metadata": {},
     "output_type": "execute_result"
    }
   ],
   "source": [
    "typeof(aa) <: AbstractArray{typeof(aa[1]), 2}"
   ]
  },
  {
   "cell_type": "code",
   "execution_count": 11,
   "metadata": {
    "collapsed": false
   },
   "outputs": [],
   "source": [
    "ss = RandomNode(MultivariateNormal, pars...);"
   ]
  },
  {
   "cell_type": "code",
   "execution_count": 12,
   "metadata": {
    "collapsed": false
   },
   "outputs": [
    {
     "data": {
      "text/plain": [
       "5x5 Array{Array{Float64,1},2}:\n",
       " [0.654580803585662,0.002082610838291199,0.46904245725046945]  …  [0.2873768581650793,0.6641040963768385,0.950732530779683]   \n",
       " [0.04149202311334266,0.9208919227014258,0.9669079688025559]      [0.013508199068207327,0.7109722567114416,0.6920752443361871]\n",
       " [0.6357933951330921,0.4788095987493908,0.8595479973621487]       [0.2716502042236484,0.6828627487985028,0.018648969519561076]\n",
       " [0.10702062862787032,0.49155223402422155,0.3586245163943229]     [0.5900206142682802,0.20775631188197363,0.13093060230215348]\n",
       " [0.8368950681274876,0.6478403061283988,0.6371474485902417]       [0.7034115931075446,0.15449806787263998,0.5087403968761628] "
      ]
     },
     "execution_count": 12,
     "metadata": {},
     "output_type": "execute_result"
    }
   ],
   "source": [
    "E(ss)"
   ]
  },
  {
   "cell_type": "code",
   "execution_count": 13,
   "metadata": {
    "collapsed": false
   },
   "outputs": [
    {
     "name": "stdout",
     "output_type": "stream",
     "text": [
      "search: "
     ]
    },
    {
     "data": {
      "text/latex": [
       "Calculates the expected value of a Node x.\n"
      ],
      "text/markdown": [
       "Calculates the expected value of a Node x.\n"
      ],
      "text/plain": [
       "Calculates the expected value of a Node x.\n"
      ]
     },
     "execution_count": 13,
     "metadata": {},
     "output_type": "execute_result"
    },
    {
     "name": "stdout",
     "output_type": "stream",
     "text": [
      "E e eu ENV end Expr eye exp eta esc erf eps eof eig Enum else expm exp2\n",
      "\n"
     ]
    }
   ],
   "source": [
    "?E"
   ]
  },
  {
   "cell_type": "code",
   "execution_count": 20,
   "metadata": {
    "collapsed": false
   },
   "outputs": [
    {
     "data": {
      "text/plain": [
       "Distributions.MvNormal{PDMats.PDMat,Array{Float64,1}}"
      ]
     },
     "execution_count": 20,
     "metadata": {},
     "output_type": "execute_result"
    }
   ],
   "source": [
    "typeof(ss).parameters[1]"
   ]
  },
  {
   "cell_type": "code",
   "execution_count": null,
   "metadata": {
    "collapsed": true
   },
   "outputs": [],
   "source": []
  }
 ],
 "metadata": {
  "kernelspec": {
   "display_name": "Julia 0.4.1",
   "language": "julia",
   "name": "julia-0.4"
  },
  "language_info": {
   "file_extension": ".jl",
   "mimetype": "application/julia",
   "name": "julia",
   "version": "0.4.1"
  }
 },
 "nbformat": 4,
 "nbformat_minor": 0
}
