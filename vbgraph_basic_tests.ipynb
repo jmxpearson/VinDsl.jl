{
 "cells": [
  {
   "cell_type": "markdown",
   "metadata": {},
   "source": [
    "Let's try some basic tests of `VB.jl`:"
   ]
  },
  {
   "cell_type": "code",
   "execution_count": 1,
   "metadata": {
    "collapsed": false
   },
   "outputs": [],
   "source": [
    "include(\"VB.jl\")\n",
    "using VB\n",
    "using Distributions"
   ]
  },
  {
   "cell_type": "markdown",
   "metadata": {},
   "source": [
    "Let's try to make a Gaussian node with several different sizes and parameterizations:"
   ]
  },
  {
   "cell_type": "code",
   "execution_count": 2,
   "metadata": {
    "collapsed": false
   },
   "outputs": [
    {
     "data": {
      "text/plain": [
       "3"
      ]
     },
     "execution_count": 2,
     "metadata": {},
     "output_type": "execute_result"
    }
   ],
   "source": [
    "ndims = (5, 5)  # node dimensions\n",
    "vardims = 3  # dimension of variable"
   ]
  },
  {
   "cell_type": "code",
   "execution_count": 3,
   "metadata": {
    "collapsed": false
   },
   "outputs": [],
   "source": [
    "μ = Array{Vector{Float64}}(ndims)\n",
    "Σ = Array{Matrix{Float64}}(ndims)\n",
    "\n",
    "for idx in eachindex(μ)\n",
    "    μ[idx] = rand(vardims)\n",
    "end\n",
    "\n",
    "for idx in eachindex(Σ)\n",
    "    C = rand(vardims, vardims)\n",
    "    Σ[idx] = C * C'\n",
    "end"
   ]
  },
  {
   "cell_type": "code",
   "execution_count": 4,
   "metadata": {
    "collapsed": false
   },
   "outputs": [
    {
     "data": {
      "text/plain": [
       "3-element Array{Float64,1}:\n",
       " 0.876951\n",
       " 0.246102\n",
       " 0.170345"
      ]
     },
     "execution_count": 4,
     "metadata": {},
     "output_type": "execute_result"
    }
   ],
   "source": [
    "μ[1]"
   ]
  },
  {
   "cell_type": "code",
   "execution_count": 5,
   "metadata": {
    "collapsed": false
   },
   "outputs": [
    {
     "data": {
      "text/plain": [
       "3x3 Array{Float64,2}:\n",
       " 0.11082   0.313655  0.13769 \n",
       " 0.313655  1.47799   0.863618\n",
       " 0.13769   0.863618  0.567495"
      ]
     },
     "execution_count": 5,
     "metadata": {},
     "output_type": "execute_result"
    }
   ],
   "source": [
    "Σ[1]"
   ]
  },
  {
   "cell_type": "code",
   "execution_count": 6,
   "metadata": {
    "collapsed": false
   },
   "outputs": [
    {
     "data": {
      "text/plain": [
       "0.003663163183413293"
      ]
     },
     "execution_count": 6,
     "metadata": {},
     "output_type": "execute_result"
    }
   ],
   "source": [
    "det(Σ[2])"
   ]
  },
  {
   "cell_type": "code",
   "execution_count": 7,
   "metadata": {
    "collapsed": false
   },
   "outputs": [
    {
     "data": {
      "text/plain": [
       "5x5 Array{Distributions.MvNormal{PDMats.PDMat,Array{Float64,1}},2}:\n",
       " FullNormal(\n",
       "dim: 3\n",
       "μ: [0.8769514067157775,0.24610182410180603,0.17034472341320228]\n",
       "Σ: 3x3 Array{Float64,2}:\n",
       " 0.11082   0.313655  0.13769 \n",
       " 0.313655  1.47799   0.863618\n",
       " 0.13769   0.863618  0.567495\n",
       ")\n",
       "   …  FullNormal(\n",
       "dim: 3\n",
       "μ: [0.14054895334245132,0.5344265758469189,0.5236294477024335]\n",
       "Σ: 3x3 Array{Float64,2}:\n",
       " 0.87475  1.09703  1.00861\n",
       " 1.09703  1.65314  1.07342\n",
       " 1.00861  1.07342  1.29564\n",
       ")\n",
       "                \n",
       " FullNormal(\n",
       "dim: 3\n",
       "μ: [0.2578569633176675,0.5168009987733992,0.10258019147309838]\n",
       "Σ: 3x3 Array{Float64,2}:\n",
       " 1.76268  1.96304  1.98282\n",
       " 1.96304  2.21833  2.24754\n",
       " 1.98282  2.24754  2.3432 \n",
       ")\n",
       "                FullNormal(\n",
       "dim: 3\n",
       "μ: [0.06223556338032199,0.3050166982764879,0.6431749444853827]\n",
       "Σ: 3x3 Array{Float64,2}:\n",
       " 1.71214  1.03858   1.09902 \n",
       " 1.03858  0.857874  0.761257\n",
       " 1.09902  0.761257  0.941897\n",
       ")\n",
       "          \n",
       " FullNormal(\n",
       "dim: 3\n",
       "μ: [0.49382316987651187,0.9139222205703994,0.15847265988555437]\n",
       "Σ: 3x3 Array{Float64,2}:\n",
       " 1.05578   0.904175  1.04596 \n",
       " 0.904175  0.875218  0.867481\n",
       " 1.04596   0.867481  1.07668 \n",
       ")\n",
       "      FullNormal(\n",
       "dim: 3\n",
       "μ: [0.9298564828706564,0.30809463360635125,0.29156221340511457]\n",
       "Σ: 3x3 Array{Float64,2}:\n",
       " 0.567709  0.305059   0.337696 \n",
       " 0.305059  0.431363   0.0813595\n",
       " 0.337696  0.0813595  0.240671 \n",
       ")\n",
       "\n",
       " FullNormal(\n",
       "dim: 3\n",
       "μ: [0.19200739056107285,0.017806487114024883,0.5574408167418736]\n",
       "Σ: 3x3 Array{Float64,2}:\n",
       " 1.45188   0.737047  1.18993 \n",
       " 0.737047  0.867228  0.644336\n",
       " 1.18993   0.644336  1.08476 \n",
       ")\n",
       "     FullNormal(\n",
       "dim: 3\n",
       "μ: [0.9642842274627401,0.39214466926153513,0.4271547176352064]\n",
       "Σ: 3x3 Array{Float64,2}:\n",
       " 0.441757  0.687589  0.38702 \n",
       " 0.687589  1.32717   0.562911\n",
       " 0.38702   0.562911  1.01876 \n",
       ")\n",
       "       \n",
       " FullNormal(\n",
       "dim: 3\n",
       "μ: [0.9210975655648572,0.483853308771236,0.34637624608772777]\n",
       "Σ: 3x3 Array{Float64,2}:\n",
       " 1.13588   1.53739   0.564605\n",
       " 1.53739   2.0819    0.736374\n",
       " 0.564605  0.736374  1.00108 \n",
       ")\n",
       "        FullNormal(\n",
       "dim: 3\n",
       "μ: [0.7106397549752725,0.05252345917543333,0.7909222852785438]\n",
       "Σ: 3x3 Array{Float64,2}:\n",
       " 1.79093   1.19733   0.772006\n",
       " 1.19733   0.906515  0.443113\n",
       " 0.772006  0.443113  0.424296\n",
       ")\n",
       "       "
      ]
     },
     "execution_count": 7,
     "metadata": {},
     "output_type": "execute_result"
    }
   ],
   "source": [
    "pars = (μ, Σ)\n",
    "aa = map(MultivariateNormal, pars...)"
   ]
  },
  {
   "cell_type": "code",
   "execution_count": 8,
   "metadata": {
    "collapsed": false
   },
   "outputs": [],
   "source": [
    "rr = RandomNode(aa, Factor[]);"
   ]
  },
  {
   "cell_type": "code",
   "execution_count": 9,
   "metadata": {
    "collapsed": false
   },
   "outputs": [
    {
     "data": {
      "text/plain": [
       "Array{Distributions.MvNormal{PDMats.PDMat,Array{Float64,1}},2}"
      ]
     },
     "execution_count": 9,
     "metadata": {},
     "output_type": "execute_result"
    }
   ],
   "source": [
    "typeof(aa)"
   ]
  },
  {
   "cell_type": "code",
   "execution_count": 10,
   "metadata": {
    "collapsed": false
   },
   "outputs": [
    {
     "data": {
      "text/plain": [
       "true"
      ]
     },
     "execution_count": 10,
     "metadata": {},
     "output_type": "execute_result"
    }
   ],
   "source": [
    "typeof(aa) <: AbstractArray{typeof(aa[1]), 2}"
   ]
  },
  {
   "cell_type": "code",
   "execution_count": 11,
   "metadata": {
    "collapsed": false
   },
   "outputs": [],
   "source": [
    "ss = RandomNode(MultivariateNormal, pars...);"
   ]
  },
  {
   "cell_type": "code",
   "execution_count": 12,
   "metadata": {
    "collapsed": false,
    "scrolled": true
   },
   "outputs": [
    {
     "data": {
      "text/plain": [
       "5x5 Array{Array{Float64,1},2}:\n",
       " [0.8769514067157775,0.24610182410180603,0.17034472341320228]   …  [0.14054895334245132,0.5344265758469189,0.5236294477024335] \n",
       " [0.2578569633176675,0.5168009987733992,0.10258019147309838]       [0.06223556338032199,0.3050166982764879,0.6431749444853827] \n",
       " [0.49382316987651187,0.9139222205703994,0.15847265988555437]      [0.9298564828706564,0.30809463360635125,0.29156221340511457]\n",
       " [0.19200739056107285,0.017806487114024883,0.5574408167418736]     [0.9642842274627401,0.39214466926153513,0.4271547176352064] \n",
       " [0.9210975655648572,0.483853308771236,0.34637624608772777]        [0.7106397549752725,0.05252345917543333,0.7909222852785438] "
      ]
     },
     "execution_count": 12,
     "metadata": {},
     "output_type": "execute_result"
    }
   ],
   "source": [
    "E(ss)"
   ]
  },
  {
   "cell_type": "code",
   "execution_count": 13,
   "metadata": {
    "collapsed": false
   },
   "outputs": [
    {
     "data": {
      "text/plain": [
       "Distributions.MvNormal{PDMats.PDMat,Array{Float64,1}}"
      ]
     },
     "execution_count": 13,
     "metadata": {},
     "output_type": "execute_result"
    }
   ],
   "source": [
    "typeof(ss).parameters[1]"
   ]
  },
  {
   "cell_type": "markdown",
   "metadata": {},
   "source": [
    "# Make a factor and check its value"
   ]
  },
  {
   "cell_type": "code",
   "execution_count": 14,
   "metadata": {
    "collapsed": false
   },
   "outputs": [
    {
     "data": {
      "text/plain": [
       "VB.LogNormalFactor(VB.RandomNode{Distributions.Normal,1}([Distributions.Normal(μ=0.341959405459622, σ=0.606879148847915),Distributions.Normal(μ=0.1850374718292518, σ=0.8437327026884118),Distributions.Normal(μ=0.10712656765468065, σ=0.2650652511792124),Distributions.Normal(μ=0.8663521378621362, σ=0.6705701026184843),Distributions.Normal(μ=0.7065726120003488, σ=0.17087848630307745),Distributions.Normal(μ=0.0006678253967637993, σ=0.3246955078714904),Distributions.Normal(μ=0.8263261030449367, σ=0.838127521128402),Distributions.Normal(μ=0.5624636690699945, σ=0.23923320306551976),Distributions.Normal(μ=0.2392464009436892, σ=0.08704080613575349),Distributions.Normal(μ=0.09108875883746137, σ=0.7414352925757048)],VB.Factor[]),VB.ConstantNode{Float64,1}([0.014969247827551824,0.18917567687512205,0.974081344659411,0.27854296371745635,0.20247636612269293,0.48785482298274907,0.2579793148669802,0.37656250049370477,0.00046455313810178644,0.7418800594226185],VB.Factor[]),VB.ConstantNode{Float64,1}([0.4388465766710463,0.38784422524166073,0.1793386220531472,0.9453469481619543,0.5660620084413028,0.9115395253839187,0.16405510589254968,0.2577620759357959,0.29453347834806753,0.9432414202907129],VB.Factor[]))"
      ]
     },
     "execution_count": 14,
     "metadata": {},
     "output_type": "execute_result"
    }
   ],
   "source": [
    "μ = rand(10)\n",
    "τ = rand(10)\n",
    "x = RandomNode(Normal, rand(10), rand(10))\n",
    "f = LogNormalFactor(x, μ, τ)"
   ]
  },
  {
   "cell_type": "code",
   "execution_count": 15,
   "metadata": {
    "collapsed": false
   },
   "outputs": [
    {
     "data": {
      "text/plain": [
       "-6.356565480041587"
      ]
     },
     "execution_count": 15,
     "metadata": {},
     "output_type": "execute_result"
    }
   ],
   "source": [
    "value(f)"
   ]
  },
  {
   "cell_type": "code",
   "execution_count": 16,
   "metadata": {
    "collapsed": false
   },
   "outputs": [
    {
     "data": {
      "text/plain": [
       "VB.LogNormalFactor(VB.RandomNode{Distributions.Normal,1}([Distributions.Normal(μ=0.341959405459622, σ=0.606879148847915),Distributions.Normal(μ=0.1850374718292518, σ=0.8437327026884118),Distributions.Normal(μ=0.10712656765468065, σ=0.2650652511792124),Distributions.Normal(μ=0.8663521378621362, σ=0.6705701026184843),Distributions.Normal(μ=0.7065726120003488, σ=0.17087848630307745),Distributions.Normal(μ=0.0006678253967637993, σ=0.3246955078714904),Distributions.Normal(μ=0.8263261030449367, σ=0.838127521128402),Distributions.Normal(μ=0.5624636690699945, σ=0.23923320306551976),Distributions.Normal(μ=0.2392464009436892, σ=0.08704080613575349),Distributions.Normal(μ=0.09108875883746137, σ=0.7414352925757048)],VB.Factor[VB.LogNormalFactor(#= circular reference =#)]),VB.ConstantNode{Float64,1}([0.014969247827551824,0.18917567687512205,0.974081344659411,0.27854296371745635,0.20247636612269293,0.48785482298274907,0.2579793148669802,0.37656250049370477,0.00046455313810178644,0.7418800594226185],VB.Factor[]),VB.ConstantNode{Float64,1}([0.4388465766710463,0.38784422524166073,0.1793386220531472,0.9453469481619543,0.5660620084413028,0.9115395253839187,0.16405510589254968,0.2577620759357959,0.29453347834806753,0.9432414202907129],VB.Factor[]))"
      ]
     },
     "execution_count": 16,
     "metadata": {},
     "output_type": "execute_result"
    }
   ],
   "source": [
    "register(f)\n",
    "x.factors[1]"
   ]
  },
  {
   "cell_type": "code",
   "execution_count": 17,
   "metadata": {
    "collapsed": false
   },
   "outputs": [
    {
     "data": {
      "text/plain": [
       "4.553516797727002"
      ]
     },
     "execution_count": 17,
     "metadata": {},
     "output_type": "execute_result"
    }
   ],
   "source": [
    "g = EntropyFactor(x)\n",
    "value(g)"
   ]
  },
  {
   "cell_type": "code",
   "execution_count": 18,
   "metadata": {
    "collapsed": false
   },
   "outputs": [
    {
     "data": {
      "text/plain": [
       "10-element Array{Tuple{Float64,Float64},1}:\n",
       " (0.9284747997682625,-1.3575804392926623)  \n",
       " (0.2599261182460372,-0.7023607588140063)  \n",
       " (1.5247252602149493,-7.1164665012411135)  \n",
       " (1.9266644251331773,-1.1119407114799376)  \n",
       " (24.198142110475167,-17.123606052298573)  \n",
       " (0.0063344712641442555,-4.742610340098126)\n",
       " (1.176335676900813,-0.7117865891965186)   \n",
       " (9.827692639062775,-8.73629105264023)     \n",
       " (31.579089493120556,-65.9970000981399)    \n",
       " (0.16569838478643087,-0.9095435424809267) "
      ]
     },
     "execution_count": 18,
     "metadata": {},
     "output_type": "execute_result"
    }
   ],
   "source": [
    "naturals(x)"
   ]
  },
  {
   "cell_type": "markdown",
   "metadata": {},
   "source": [
    "# Let's make a simple model"
   ]
  },
  {
   "cell_type": "markdown",
   "metadata": {},
   "source": [
    "We want a simple model of inference for a normal distribution:\n",
    "\n",
    "$$\n",
    "\\begin{aligned}\n",
    "    y \\sim \\mathcal{N}(\\mu, \\tau) \\\\\n",
    "    \\mu \\sim \\mathcal{N}(\\mu_0, \\tau_0) \\\\\n",
    "    \\tau \\sim \\mathrm{Ga}(\\alpha, \\beta) \\\\\n",
    "    q(\\mu) = \\mathcal{N}(m, t) \\\\\n",
    "    q(\\tau) = \\mathrm{Ga}(a, b)\n",
    "\\end{aligned}\n",
    "$$\n",
    "\n",
    "This model is conjugate, and can be solved by straightforward updates of the natural parameters of the posterior."
   ]
  },
  {
   "cell_type": "markdown",
   "metadata": {},
   "source": [
    "## Make the nodes\n",
    "\n",
    "We need to make nodes for all the random variables that will need to be updated (we can also create nodes for parameter arrays, but these will be converted automatically if we don't)."
   ]
  },
  {
   "cell_type": "code",
   "execution_count": 19,
   "metadata": {
    "collapsed": false
   },
   "outputs": [
    {
     "data": {
      "text/plain": [
       "5x6 Array{Float64,2}:\n",
       " 0.40263   0.958446  0.209475  0.769511  0.443911  0.469015\n",
       " 0.810418  0.53836   0.966693  0.454408  0.219621  0.364902\n",
       " 0.14952   0.688689  0.769968  0.686289  0.84506   0.615569\n",
       " 0.42307   0.4824    0.857419  0.404556  0.304068  0.344346\n",
       " 0.38416   0.956978  0.271889  0.296278  0.601463  0.939776"
      ]
     },
     "execution_count": 19,
     "metadata": {},
     "output_type": "execute_result"
    }
   ],
   "source": [
    "dims = (5, 6)\n",
    "\n",
    "# note: it won't matter much how we initialize here\n",
    "μ = RandomNode(Normal, zeros(dims), ones(dims))\n",
    "τ = RandomNode(Gamma, ones(dims), ones(dims))\n",
    "\n",
    "y = rand(dims)"
   ]
  },
  {
   "cell_type": "markdown",
   "metadata": {},
   "source": [
    "Now make factors: We need a Normal factor for the observation model plus a prior and an entropy for each node."
   ]
  },
  {
   "cell_type": "code",
   "execution_count": 22,
   "metadata": {
    "collapsed": false
   },
   "outputs": [
    {
     "data": {
      "text/plain": [
       "VB.LogGammaFactor(VB.RandomNode{Distributions.Gamma,2}(5x6 Array{Distributions.Gamma,2}:\n",
       " Distributions.Gamma(α=1.0, θ=1.0)  …  Distributions.Gamma(α=1.0, θ=1.0)\n",
       " Distributions.Gamma(α=1.0, θ=1.0)     Distributions.Gamma(α=1.0, θ=1.0)\n",
       " Distributions.Gamma(α=1.0, θ=1.0)     Distributions.Gamma(α=1.0, θ=1.0)\n",
       " Distributions.Gamma(α=1.0, θ=1.0)     Distributions.Gamma(α=1.0, θ=1.0)\n",
       " Distributions.Gamma(α=1.0, θ=1.0)     Distributions.Gamma(α=1.0, θ=1.0),VB.Factor[]),VB.ConstantNode{Float64,2}(5x6 Array{Float64,2}:\n",
       " 1.1  1.1  1.1  1.1  1.1  1.1\n",
       " 1.1  1.1  1.1  1.1  1.1  1.1\n",
       " 1.1  1.1  1.1  1.1  1.1  1.1\n",
       " 1.1  1.1  1.1  1.1  1.1  1.1\n",
       " 1.1  1.1  1.1  1.1  1.1  1.1,VB.Factor[]),VB.ConstantNode{Float64,2}(5x6 Array{Float64,2}:\n",
       " 1.0  1.0  1.0  1.0  1.0  1.0\n",
       " 1.0  1.0  1.0  1.0  1.0  1.0\n",
       " 1.0  1.0  1.0  1.0  1.0  1.0\n",
       " 1.0  1.0  1.0  1.0  1.0  1.0\n",
       " 1.0  1.0  1.0  1.0  1.0  1.0,VB.Factor[]))"
      ]
     },
     "execution_count": 22,
     "metadata": {},
     "output_type": "execute_result"
    }
   ],
   "source": [
    "obs = LogNormalFactor(y, μ, τ)\n",
    "μ_prior = LogNormalFactor(μ, zeros(dims), 2 * ones(dims))\n",
    "τ_prior = LogGammaFactor(τ, 1.1 * ones(dims), ones(dims))"
   ]
  },
  {
   "cell_type": "code",
   "execution_count": 23,
   "metadata": {
    "collapsed": false
   },
   "outputs": [
    {
     "data": {
      "text/plain": [
       "(-39.43387035146723,-67.96536370453937,7.496173237795199)"
      ]
     },
     "execution_count": 23,
     "metadata": {},
     "output_type": "execute_result"
    }
   ],
   "source": [
    "value(obs), value(μ_prior), value(τ_prior)"
   ]
  },
  {
   "cell_type": "code",
   "execution_count": null,
   "metadata": {
    "collapsed": true
   },
   "outputs": [],
   "source": []
  }
 ],
 "metadata": {
  "kernelspec": {
   "display_name": "Julia 0.4.1",
   "language": "julia",
   "name": "julia-0.4"
  },
  "language_info": {
   "file_extension": ".jl",
   "mimetype": "application/julia",
   "name": "julia",
   "version": "0.4.1"
  }
 },
 "nbformat": 4,
 "nbformat_minor": 0
}
