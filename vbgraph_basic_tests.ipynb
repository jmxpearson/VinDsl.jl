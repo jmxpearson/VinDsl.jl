{
 "cells": [
  {
   "cell_type": "markdown",
   "metadata": {},
   "source": [
    "Let's try some basic tests of `VB.jl`:"
   ]
  },
  {
   "cell_type": "code",
   "execution_count": 1,
   "metadata": {
    "collapsed": false
   },
   "outputs": [
    {
     "name": "stderr",
     "output_type": "stream",
     "text": [
      "WARNING: Method definition var(Any) in module Base at statistics.jl:42 overwritten in module VB at /Users/jmxp/code/vbgraph/types.jl:258.\n"
     ]
    }
   ],
   "source": [
    "include(\"VB.jl\")\n",
    "using VB\n",
    "using Distributions"
   ]
  },
  {
   "cell_type": "markdown",
   "metadata": {},
   "source": [
    "# Make a node"
   ]
  },
  {
   "cell_type": "code",
   "execution_count": 2,
   "metadata": {
    "collapsed": false
   },
   "outputs": [
    {
     "data": {
      "text/plain": [
       "VB.RandomNode{Distributions.Gamma}(:b,[:j,:k],5x3 Array{Distributions.Gamma,2}:\n",
       " Distributions.Gamma(α=0.2341186135210911, θ=0.9649351422758639)    …  Distributions.Gamma(α=0.728473678139731, θ=0.20010813276703399) \n",
       " Distributions.Gamma(α=0.41560934007418204, θ=0.54016709350839)        Distributions.Gamma(α=0.3203071526069097, θ=0.19353926641853625)\n",
       " Distributions.Gamma(α=0.6902259590274851, θ=0.35684467900676764)      Distributions.Gamma(α=0.8366446754218231, θ=0.31033518271365734)\n",
       " Distributions.Gamma(α=0.6592764108950029, θ=0.6195766435991592)       Distributions.Gamma(α=0.26608819055600175, θ=0.364990448570903) \n",
       " Distributions.Gamma(α=0.33551478040407545, θ=0.05088839846332349)     Distributions.Gamma(α=0.6151885476213583, θ=0.7675949926064045) )"
      ]
     },
     "execution_count": 2,
     "metadata": {},
     "output_type": "execute_result"
    }
   ],
   "source": [
    "μ = rand(5, 5)\n",
    "σ = rand(5, 5)\n",
    "aa = RandomNode(:a, [:i, :j], Normal, μ, σ)\n",
    "bb = RandomNode(:b, [:j, :k], Gamma, rand(5, 3), rand(5, 3))"
   ]
  },
  {
   "cell_type": "code",
   "execution_count": 3,
   "metadata": {
    "collapsed": false
   },
   "outputs": [
    {
     "data": {
      "text/plain": [
       "VB.ConstantNode{Float64}(:c,[:i,:j],3x4 Array{Float64,2}:\n",
       " 0.243325   0.0772761  0.241217   0.957576\n",
       " 0.0367407  0.365397   0.0699679  0.272531\n",
       " 0.197855   0.216555   0.461437   0.564383)"
      ]
     },
     "execution_count": 3,
     "metadata": {},
     "output_type": "execute_result"
    }
   ],
   "source": [
    "cc = ConstantNode(:c, [:i, :j], rand(3, 4))"
   ]
  },
  {
   "cell_type": "code",
   "execution_count": 4,
   "metadata": {
    "collapsed": false
   },
   "outputs": [
    {
     "data": {
      "text/plain": [
       "VB.ConstantNode{Float64}(symbol(\"##const#7733\"),[:i,:j],3x4 Array{Float64,2}:\n",
       " 0.878628  0.873428  0.766667  0.362   \n",
       " 0.239706  0.165815  0.590161  0.304251\n",
       " 0.296727  0.93509   0.903521  0.971144)"
      ]
     },
     "execution_count": 4,
     "metadata": {},
     "output_type": "execute_result"
    }
   ],
   "source": [
    "cc = ConstantNode(rand(3, 4), [:i, :j])"
   ]
  },
  {
   "cell_type": "code",
   "execution_count": 5,
   "metadata": {
    "collapsed": false
   },
   "outputs": [
    {
     "data": {
      "text/plain": [
       "VB.FactorInds([:i,:j,:k],[5,3,5],Dict(:a=>[1,2],:b=>[2,3]))"
      ]
     },
     "execution_count": 5,
     "metadata": {},
     "output_type": "execute_result"
    }
   ],
   "source": [
    "nodes = Node[aa, bb]\n",
    "fi = get_structure(nodes...)\n",
    "fi"
   ]
  },
  {
   "cell_type": "code",
   "execution_count": 6,
   "metadata": {
    "collapsed": false
   },
   "outputs": [
    {
     "data": {
      "text/plain": [
       "VB.RandomNode{Distributions.Normal}(:a,[:i,:j],5x5 Array{Distributions.Normal,2}:\n",
       " Distributions.Normal(μ=0.1185012991601706, σ=0.90490595532671)       …  Distributions.Normal(μ=0.029945924375680333, σ=0.2688991851605318)\n",
       " Distributions.Normal(μ=0.94911665449286, σ=0.4163768154900689)          Distributions.Normal(μ=0.22862114650527077, σ=0.8117504427017941) \n",
       " Distributions.Normal(μ=0.46997490469945813, σ=0.8348782760294375)       Distributions.Normal(μ=0.09273785326034156, σ=0.8792796596573758) \n",
       " Distributions.Normal(μ=0.058602979077367445, σ=0.24822385690532078)     Distributions.Normal(μ=0.5899085840114116, σ=0.9514491545264085)  \n",
       " Distributions.Normal(μ=0.499322999672686, σ=0.7042926545486448)         Distributions.Normal(μ=0.8589886667315245, σ=0.7996934773990938)  )"
      ]
     },
     "execution_count": 6,
     "metadata": {},
     "output_type": "execute_result"
    }
   ],
   "source": [
    "a[i, j] ~ Normal(μ, σ)"
   ]
  },
  {
   "cell_type": "code",
   "execution_count": 7,
   "metadata": {
    "collapsed": false
   },
   "outputs": [
    {
     "data": {
      "text/plain": [
       "VB.ConstantNode{Float64}(:c,[:i,:j],3x4 Array{Float64,2}:\n",
       " 0.382011  0.675517   0.0783089  0.29593  \n",
       " 0.14824   0.839248   0.81254    0.0167539\n",
       " 0.2083    0.0787781  0.380514   0.180021 )"
      ]
     },
     "execution_count": 7,
     "metadata": {},
     "output_type": "execute_result"
    }
   ],
   "source": [
    "c[i, j] ~ Const(rand(3, 4))"
   ]
  },
  {
   "cell_type": "markdown",
   "metadata": {},
   "source": [
    "# Make a factor"
   ]
  },
  {
   "cell_type": "code",
   "execution_count": 8,
   "metadata": {
    "collapsed": false
   },
   "outputs": [],
   "source": [
    "dims = (10, 2)\n",
    "\n",
    "μ[j] ~ Normal(rand(dims[2]), ones(dims[2]))\n",
    "τ ~ Gamma(1, 1)\n",
    "x[i, j] ~ Normal(rand(dims), ones(dims))\n",
    "\n",
    "f = @factor LogNormalFactor x μ τ;"
   ]
  },
  {
   "cell_type": "markdown",
   "metadata": {},
   "source": [
    "# Make a (generated) value function"
   ]
  },
  {
   "cell_type": "code",
   "execution_count": 9,
   "metadata": {
    "collapsed": false
   },
   "outputs": [
    {
     "data": {
      "text/plain": [
       "-1.7570090928522661"
      ]
     },
     "execution_count": 9,
     "metadata": {},
     "output_type": "execute_result"
    }
   ],
   "source": [
    "value(f)"
   ]
  },
  {
   "cell_type": "code",
   "execution_count": 10,
   "metadata": {
    "collapsed": false
   },
   "outputs": [
    {
     "data": {
      "text/plain": [
       "1.4189385332046727"
      ]
     },
     "execution_count": 10,
     "metadata": {},
     "output_type": "execute_result"
    }
   ],
   "source": [
    "g = @factor EntropyFactor x\n",
    "value(g)"
   ]
  },
  {
   "cell_type": "markdown",
   "metadata": {},
   "source": [
    "# Let's make a simple model"
   ]
  },
  {
   "cell_type": "markdown",
   "metadata": {},
   "source": [
    "We want a simple model of inference for a normal distribution:\n",
    "\n",
    "$$\n",
    "\\begin{aligned}\n",
    "    y \\sim \\mathcal{N}(\\mu, \\tau) \\\\\n",
    "    \\mu \\sim \\mathcal{N}(\\mu_0, \\tau_0) \\\\\n",
    "    \\tau \\sim \\mathrm{Ga}(\\alpha, \\beta) \\\\\n",
    "    q(\\mu) = \\mathcal{N}(m, t) \\\\\n",
    "    q(\\tau) = \\mathrm{Ga}(a, b)\n",
    "\\end{aligned}\n",
    "$$\n",
    "\n",
    "This model is conjugate, and can be solved by straightforward updates of the natural parameters of the posterior."
   ]
  },
  {
   "cell_type": "markdown",
   "metadata": {},
   "source": [
    "## Make the nodes\n",
    "\n",
    "We need to make nodes for all the random variables that will need to be updated (we can also create nodes for parameter arrays, but these will be converted automatically if we don't)."
   ]
  },
  {
   "cell_type": "code",
   "execution_count": 11,
   "metadata": {
    "collapsed": false
   },
   "outputs": [],
   "source": [
    "dims = (20, 6)\n",
    "\n",
    "# note: it won't matter much how we initialize here\n",
    "μ[j] ~ Normal(zeros(dims[2]), ones(dims[2]))\n",
    "τ[j] ~ Gamma(1.1 * ones(dims[2]), ones(dims[2]))\n",
    "μ0[j] ~ Const(zeros(dims[2]))\n",
    "τ0[j] ~ Const(2 * ones(dims[2]))\n",
    "a0[j] ~ Const(1.1 * ones(dims[2]))\n",
    "b0[j] ~ Const(ones(dims[2]))\n",
    "\n",
    "y[i, j] ~ Const(rand(dims));"
   ]
  },
  {
   "cell_type": "markdown",
   "metadata": {},
   "source": [
    "Now make factors: We need a Normal factor for the observation model plus a prior and an entropy for each node."
   ]
  },
  {
   "cell_type": "code",
   "execution_count": 12,
   "metadata": {
    "collapsed": false
   },
   "outputs": [
    {
     "data": {
      "text/plain": [
       "VB.LogGammaFactor{1}(VB.FactorInds([:j],[6],Dict(:τ=>[1],:b0=>[1],:a0=>[1])),VB.RandomNode{Distributions.Gamma}(:τ,[:j],[Distributions.Gamma(α=1.1, θ=1.0),Distributions.Gamma(α=1.1, θ=1.0),Distributions.Gamma(α=1.1, θ=1.0),Distributions.Gamma(α=1.1, θ=1.0),Distributions.Gamma(α=1.1, θ=1.0),Distributions.Gamma(α=1.1, θ=1.0)]),VB.ConstantNode{Float64}(:a0,[:j],[1.1,1.1,1.1,1.1,1.1,1.1]),VB.ConstantNode{Float64}(:b0,[:j],[1.0,1.0,1.0,1.0,1.0,1.0]))"
      ]
     },
     "execution_count": 12,
     "metadata": {},
     "output_type": "execute_result"
    }
   ],
   "source": [
    "obs = @factor LogNormalFactor y μ τ\n",
    "μ_prior = @factor LogNormalFactor μ μ0 τ0\n",
    "τ_prior = @factor LogGammaFactor τ a0 b0"
   ]
  },
  {
   "cell_type": "code",
   "execution_count": 13,
   "metadata": {
    "collapsed": false
   },
   "outputs": [
    {
     "data": {
      "text/plain": [
       "(-1.344692382811822,-2.2655121234846454,0.007496947218732133)"
      ]
     },
     "execution_count": 13,
     "metadata": {},
     "output_type": "execute_result"
    }
   ],
   "source": [
    "value(obs), value(μ_prior), value(τ_prior)"
   ]
  },
  {
   "cell_type": "code",
   "execution_count": 22,
   "metadata": {
    "collapsed": false
   },
   "outputs": [
    {
     "data": {
      "text/plain": [
       "VB.VBModel(Dict{Symbol,VB.Node}(:τ=>VB.RandomNode{Distributions.Gamma,2}(5x6 Array{Distributions.Gamma,2}:\n",
       " Distributions.Gamma(α=1.0, θ=1.0)  …  Distributions.Gamma(α=1.0, θ=1.0)\n",
       " Distributions.Gamma(α=1.0, θ=1.0)     Distributions.Gamma(α=1.0, θ=1.0)\n",
       " Distributions.Gamma(α=1.0, θ=1.0)     Distributions.Gamma(α=1.0, θ=1.0)\n",
       " Distributions.Gamma(α=1.0, θ=1.0)     Distributions.Gamma(α=1.0, θ=1.0)\n",
       " Distributions.Gamma(α=1.0, θ=1.0)     Distributions.Gamma(α=1.0, θ=1.0),Dict{VB.Factor,Symbol}(VB.LogGammaFactor(VB.RandomNode{Distributions.Gamma,2}(#= circular reference =#),VB.ConstantNode{Float64,2}(5x6 Array{Float64,2}:\n",
       " 1.1  1.1  1.1  1.1  1.1  1.1\n",
       " 1.1  1.1  1.1  1.1  1.1  1.1\n",
       " 1.1  1.1  1.1  1.1  1.1  1.1\n",
       " 1.1  1.1  1.1  1.1  1.1  1.1\n",
       " 1.1  1.1  1.1  1.1  1.1  1.1,Dict{VB.Factor,Symbol}()),VB.ConstantNode{Float64,2}(5x6 Array{Float64,2}:\n",
       " 1.0  1.0  1.0  1.0  1.0  1.0\n",
       " 1.0  1.0  1.0  1.0  1.0  1.0\n",
       " 1.0  1.0  1.0  1.0  1.0  1.0\n",
       " 1.0  1.0  1.0  1.0  1.0  1.0\n",
       " 1.0  1.0  1.0  1.0  1.0  1.0,Dict{VB.Factor,Symbol}()))=>:x,VB.LogNormalFactor(VB.ConstantNode{Float64,2}(5x6 Array{Float64,2}:\n",
       " 0.019526  0.64192   0.920968   0.221961  0.497111  0.376147\n",
       " 0.645838  0.886014  0.635094   0.86881   0.173711  0.234695\n",
       " 0.571483  0.605633  0.240604   0.252273  0.424832  0.433595\n",
       " 0.246642  0.580497  0.81434    0.503185  0.399902  0.499845\n",
       " 0.8564    0.315123  0.0795404  0.555742  0.340429  0.753323,Dict{VB.Factor,Symbol}()),VB.RandomNode{Distributions.Normal,2}(5x6 Array{Distributions.Normal,2}:\n",
       " Distributions.Normal(μ=0.0, σ=1.0)  …  Distributions.Normal(μ=0.0, σ=1.0)\n",
       " Distributions.Normal(μ=0.0, σ=1.0)     Distributions.Normal(μ=0.0, σ=1.0)\n",
       " Distributions.Normal(μ=0.0, σ=1.0)     Distributions.Normal(μ=0.0, σ=1.0)\n",
       " Distributions.Normal(μ=0.0, σ=1.0)     Distributions.Normal(μ=0.0, σ=1.0)\n",
       " Distributions.Normal(μ=0.0, σ=1.0)     Distributions.Normal(μ=0.0, σ=1.0),Dict{VB.Factor,Symbol}(VB.LogNormalFactor(#= circular reference =#)=>:μ,VB.LogNormalFactor(VB.RandomNode{Distributions.Normal,2}(#= circular reference =#),VB.ConstantNode{Float64,2}(5x6 Array{Float64,2}:\n",
       " 0.0  0.0  0.0  0.0  0.0  0.0\n",
       " 0.0  0.0  0.0  0.0  0.0  0.0\n",
       " 0.0  0.0  0.0  0.0  0.0  0.0\n",
       " 0.0  0.0  0.0  0.0  0.0  0.0\n",
       " 0.0  0.0  0.0  0.0  0.0  0.0,Dict{VB.Factor,Symbol}()),VB.ConstantNode{Float64,2}(5x6 Array{Float64,2}:\n",
       " 2.0  2.0  2.0  2.0  2.0  2.0\n",
       " 2.0  2.0  2.0  2.0  2.0  2.0\n",
       " 2.0  2.0  2.0  2.0  2.0  2.0\n",
       " 2.0  2.0  2.0  2.0  2.0  2.0\n",
       " 2.0  2.0  2.0  2.0  2.0  2.0,Dict{VB.Factor,Symbol}()))=>:x)),VB.RandomNode{Distributions.Gamma,2}(#= circular reference =#))=>:τ)),:μ=>VB.RandomNode{Distributions.Normal,2}(5x6 Array{Distributions.Normal,2}:\n",
       " Distributions.Normal(μ=0.0, σ=1.0)  …  Distributions.Normal(μ=0.0, σ=1.0)\n",
       " Distributions.Normal(μ=0.0, σ=1.0)     Distributions.Normal(μ=0.0, σ=1.0)\n",
       " Distributions.Normal(μ=0.0, σ=1.0)     Distributions.Normal(μ=0.0, σ=1.0)\n",
       " Distributions.Normal(μ=0.0, σ=1.0)     Distributions.Normal(μ=0.0, σ=1.0)\n",
       " Distributions.Normal(μ=0.0, σ=1.0)     Distributions.Normal(μ=0.0, σ=1.0),Dict{VB.Factor,Symbol}(VB.LogNormalFactor(VB.ConstantNode{Float64,2}(5x6 Array{Float64,2}:\n",
       " 0.019526  0.64192   0.920968   0.221961  0.497111  0.376147\n",
       " 0.645838  0.886014  0.635094   0.86881   0.173711  0.234695\n",
       " 0.571483  0.605633  0.240604   0.252273  0.424832  0.433595\n",
       " 0.246642  0.580497  0.81434    0.503185  0.399902  0.499845\n",
       " 0.8564    0.315123  0.0795404  0.555742  0.340429  0.753323,Dict{VB.Factor,Symbol}()),VB.RandomNode{Distributions.Normal,2}(#= circular reference =#),VB.RandomNode{Distributions.Gamma,2}(5x6 Array{Distributions.Gamma,2}:\n",
       " Distributions.Gamma(α=1.0, θ=1.0)  …  Distributions.Gamma(α=1.0, θ=1.0)\n",
       " Distributions.Gamma(α=1.0, θ=1.0)     Distributions.Gamma(α=1.0, θ=1.0)\n",
       " Distributions.Gamma(α=1.0, θ=1.0)     Distributions.Gamma(α=1.0, θ=1.0)\n",
       " Distributions.Gamma(α=1.0, θ=1.0)     Distributions.Gamma(α=1.0, θ=1.0)\n",
       " Distributions.Gamma(α=1.0, θ=1.0)     Distributions.Gamma(α=1.0, θ=1.0),Dict{VB.Factor,Symbol}(VB.LogGammaFactor(VB.RandomNode{Distributions.Gamma,2}(#= circular reference =#),VB.ConstantNode{Float64,2}(5x6 Array{Float64,2}:\n",
       " 1.1  1.1  1.1  1.1  1.1  1.1\n",
       " 1.1  1.1  1.1  1.1  1.1  1.1\n",
       " 1.1  1.1  1.1  1.1  1.1  1.1\n",
       " 1.1  1.1  1.1  1.1  1.1  1.1\n",
       " 1.1  1.1  1.1  1.1  1.1  1.1,Dict{VB.Factor,Symbol}()),VB.ConstantNode{Float64,2}(5x6 Array{Float64,2}:\n",
       " 1.0  1.0  1.0  1.0  1.0  1.0\n",
       " 1.0  1.0  1.0  1.0  1.0  1.0\n",
       " 1.0  1.0  1.0  1.0  1.0  1.0\n",
       " 1.0  1.0  1.0  1.0  1.0  1.0\n",
       " 1.0  1.0  1.0  1.0  1.0  1.0,Dict{VB.Factor,Symbol}()))=>:x,VB.LogNormalFactor(#= circular reference =#)=>:τ)))=>:μ,VB.LogNormalFactor(VB.RandomNode{Distributions.Normal,2}(#= circular reference =#),VB.ConstantNode{Float64,2}(5x6 Array{Float64,2}:\n",
       " 0.0  0.0  0.0  0.0  0.0  0.0\n",
       " 0.0  0.0  0.0  0.0  0.0  0.0\n",
       " 0.0  0.0  0.0  0.0  0.0  0.0\n",
       " 0.0  0.0  0.0  0.0  0.0  0.0\n",
       " 0.0  0.0  0.0  0.0  0.0  0.0,Dict{VB.Factor,Symbol}()),VB.ConstantNode{Float64,2}(5x6 Array{Float64,2}:\n",
       " 2.0  2.0  2.0  2.0  2.0  2.0\n",
       " 2.0  2.0  2.0  2.0  2.0  2.0\n",
       " 2.0  2.0  2.0  2.0  2.0  2.0\n",
       " 2.0  2.0  2.0  2.0  2.0  2.0\n",
       " 2.0  2.0  2.0  2.0  2.0  2.0,Dict{VB.Factor,Symbol}()))=>:x))),VB.Factor[VB.LogNormalFactor(VB.ConstantNode{Float64,2}(5x6 Array{Float64,2}:\n",
       " 0.019526  0.64192   0.920968   0.221961  0.497111  0.376147\n",
       " 0.645838  0.886014  0.635094   0.86881   0.173711  0.234695\n",
       " 0.571483  0.605633  0.240604   0.252273  0.424832  0.433595\n",
       " 0.246642  0.580497  0.81434    0.503185  0.399902  0.499845\n",
       " 0.8564    0.315123  0.0795404  0.555742  0.340429  0.753323,Dict{VB.Factor,Symbol}()),VB.RandomNode{Distributions.Normal,2}(5x6 Array{Distributions.Normal,2}:\n",
       " Distributions.Normal(μ=0.0, σ=1.0)  …  Distributions.Normal(μ=0.0, σ=1.0)\n",
       " Distributions.Normal(μ=0.0, σ=1.0)     Distributions.Normal(μ=0.0, σ=1.0)\n",
       " Distributions.Normal(μ=0.0, σ=1.0)     Distributions.Normal(μ=0.0, σ=1.0)\n",
       " Distributions.Normal(μ=0.0, σ=1.0)     Distributions.Normal(μ=0.0, σ=1.0)\n",
       " Distributions.Normal(μ=0.0, σ=1.0)     Distributions.Normal(μ=0.0, σ=1.0),Dict{VB.Factor,Symbol}(VB.LogNormalFactor(#= circular reference =#)=>:μ,VB.LogNormalFactor(VB.RandomNode{Distributions.Normal,2}(#= circular reference =#),VB.ConstantNode{Float64,2}(5x6 Array{Float64,2}:\n",
       " 0.0  0.0  0.0  0.0  0.0  0.0\n",
       " 0.0  0.0  0.0  0.0  0.0  0.0\n",
       " 0.0  0.0  0.0  0.0  0.0  0.0\n",
       " 0.0  0.0  0.0  0.0  0.0  0.0\n",
       " 0.0  0.0  0.0  0.0  0.0  0.0,Dict{VB.Factor,Symbol}()),VB.ConstantNode{Float64,2}(5x6 Array{Float64,2}:\n",
       " 2.0  2.0  2.0  2.0  2.0  2.0\n",
       " 2.0  2.0  2.0  2.0  2.0  2.0\n",
       " 2.0  2.0  2.0  2.0  2.0  2.0\n",
       " 2.0  2.0  2.0  2.0  2.0  2.0\n",
       " 2.0  2.0  2.0  2.0  2.0  2.0,Dict{VB.Factor,Symbol}()))=>:x)),VB.RandomNode{Distributions.Gamma,2}(5x6 Array{Distributions.Gamma,2}:\n",
       " Distributions.Gamma(α=1.0, θ=1.0)  …  Distributions.Gamma(α=1.0, θ=1.0)\n",
       " Distributions.Gamma(α=1.0, θ=1.0)     Distributions.Gamma(α=1.0, θ=1.0)\n",
       " Distributions.Gamma(α=1.0, θ=1.0)     Distributions.Gamma(α=1.0, θ=1.0)\n",
       " Distributions.Gamma(α=1.0, θ=1.0)     Distributions.Gamma(α=1.0, θ=1.0)\n",
       " Distributions.Gamma(α=1.0, θ=1.0)     Distributions.Gamma(α=1.0, θ=1.0),Dict{VB.Factor,Symbol}(VB.LogGammaFactor(VB.RandomNode{Distributions.Gamma,2}(#= circular reference =#),VB.ConstantNode{Float64,2}(5x6 Array{Float64,2}:\n",
       " 1.1  1.1  1.1  1.1  1.1  1.1\n",
       " 1.1  1.1  1.1  1.1  1.1  1.1\n",
       " 1.1  1.1  1.1  1.1  1.1  1.1\n",
       " 1.1  1.1  1.1  1.1  1.1  1.1\n",
       " 1.1  1.1  1.1  1.1  1.1  1.1,Dict{VB.Factor,Symbol}()),VB.ConstantNode{Float64,2}(5x6 Array{Float64,2}:\n",
       " 1.0  1.0  1.0  1.0  1.0  1.0\n",
       " 1.0  1.0  1.0  1.0  1.0  1.0\n",
       " 1.0  1.0  1.0  1.0  1.0  1.0\n",
       " 1.0  1.0  1.0  1.0  1.0  1.0\n",
       " 1.0  1.0  1.0  1.0  1.0  1.0,Dict{VB.Factor,Symbol}()))=>:x,VB.LogNormalFactor(#= circular reference =#)=>:τ))),VB.LogNormalFactor(VB.RandomNode{Distributions.Normal,2}(5x6 Array{Distributions.Normal,2}:\n",
       " Distributions.Normal(μ=0.0, σ=1.0)  …  Distributions.Normal(μ=0.0, σ=1.0)\n",
       " Distributions.Normal(μ=0.0, σ=1.0)     Distributions.Normal(μ=0.0, σ=1.0)\n",
       " Distributions.Normal(μ=0.0, σ=1.0)     Distributions.Normal(μ=0.0, σ=1.0)\n",
       " Distributions.Normal(μ=0.0, σ=1.0)     Distributions.Normal(μ=0.0, σ=1.0)\n",
       " Distributions.Normal(μ=0.0, σ=1.0)     Distributions.Normal(μ=0.0, σ=1.0),Dict{VB.Factor,Symbol}(VB.LogNormalFactor(VB.ConstantNode{Float64,2}(5x6 Array{Float64,2}:\n",
       " 0.019526  0.64192   0.920968   0.221961  0.497111  0.376147\n",
       " 0.645838  0.886014  0.635094   0.86881   0.173711  0.234695\n",
       " 0.571483  0.605633  0.240604   0.252273  0.424832  0.433595\n",
       " 0.246642  0.580497  0.81434    0.503185  0.399902  0.499845\n",
       " 0.8564    0.315123  0.0795404  0.555742  0.340429  0.753323,Dict{VB.Factor,Symbol}()),VB.RandomNode{Distributions.Normal,2}(#= circular reference =#),VB.RandomNode{Distributions.Gamma,2}(5x6 Array{Distributions.Gamma,2}:\n",
       " Distributions.Gamma(α=1.0, θ=1.0)  …  Distributions.Gamma(α=1.0, θ=1.0)\n",
       " Distributions.Gamma(α=1.0, θ=1.0)     Distributions.Gamma(α=1.0, θ=1.0)\n",
       " Distributions.Gamma(α=1.0, θ=1.0)     Distributions.Gamma(α=1.0, θ=1.0)\n",
       " Distributions.Gamma(α=1.0, θ=1.0)     Distributions.Gamma(α=1.0, θ=1.0)\n",
       " Distributions.Gamma(α=1.0, θ=1.0)     Distributions.Gamma(α=1.0, θ=1.0),Dict{VB.Factor,Symbol}(VB.LogGammaFactor(VB.RandomNode{Distributions.Gamma,2}(#= circular reference =#),VB.ConstantNode{Float64,2}(5x6 Array{Float64,2}:\n",
       " 1.1  1.1  1.1  1.1  1.1  1.1\n",
       " 1.1  1.1  1.1  1.1  1.1  1.1\n",
       " 1.1  1.1  1.1  1.1  1.1  1.1\n",
       " 1.1  1.1  1.1  1.1  1.1  1.1\n",
       " 1.1  1.1  1.1  1.1  1.1  1.1,Dict{VB.Factor,Symbol}()),VB.ConstantNode{Float64,2}(5x6 Array{Float64,2}:\n",
       " 1.0  1.0  1.0  1.0  1.0  1.0\n",
       " 1.0  1.0  1.0  1.0  1.0  1.0\n",
       " 1.0  1.0  1.0  1.0  1.0  1.0\n",
       " 1.0  1.0  1.0  1.0  1.0  1.0\n",
       " 1.0  1.0  1.0  1.0  1.0  1.0,Dict{VB.Factor,Symbol}()))=>:x,VB.LogNormalFactor(#= circular reference =#)=>:τ)))=>:μ,VB.LogNormalFactor(#= circular reference =#)=>:x)),VB.ConstantNode{Float64,2}(5x6 Array{Float64,2}:\n",
       " 0.0  0.0  0.0  0.0  0.0  0.0\n",
       " 0.0  0.0  0.0  0.0  0.0  0.0\n",
       " 0.0  0.0  0.0  0.0  0.0  0.0\n",
       " 0.0  0.0  0.0  0.0  0.0  0.0\n",
       " 0.0  0.0  0.0  0.0  0.0  0.0,Dict{VB.Factor,Symbol}()),VB.ConstantNode{Float64,2}(5x6 Array{Float64,2}:\n",
       " 2.0  2.0  2.0  2.0  2.0  2.0\n",
       " 2.0  2.0  2.0  2.0  2.0  2.0\n",
       " 2.0  2.0  2.0  2.0  2.0  2.0\n",
       " 2.0  2.0  2.0  2.0  2.0  2.0\n",
       " 2.0  2.0  2.0  2.0  2.0  2.0,Dict{VB.Factor,Symbol}())),VB.LogGammaFactor(VB.RandomNode{Distributions.Gamma,2}(5x6 Array{Distributions.Gamma,2}:\n",
       " Distributions.Gamma(α=1.0, θ=1.0)  …  Distributions.Gamma(α=1.0, θ=1.0)\n",
       " Distributions.Gamma(α=1.0, θ=1.0)     Distributions.Gamma(α=1.0, θ=1.0)\n",
       " Distributions.Gamma(α=1.0, θ=1.0)     Distributions.Gamma(α=1.0, θ=1.0)\n",
       " Distributions.Gamma(α=1.0, θ=1.0)     Distributions.Gamma(α=1.0, θ=1.0)\n",
       " Distributions.Gamma(α=1.0, θ=1.0)     Distributions.Gamma(α=1.0, θ=1.0),Dict{VB.Factor,Symbol}(VB.LogGammaFactor(#= circular reference =#)=>:x,VB.LogNormalFactor(VB.ConstantNode{Float64,2}(5x6 Array{Float64,2}:\n",
       " 0.019526  0.64192   0.920968   0.221961  0.497111  0.376147\n",
       " 0.645838  0.886014  0.635094   0.86881   0.173711  0.234695\n",
       " 0.571483  0.605633  0.240604   0.252273  0.424832  0.433595\n",
       " 0.246642  0.580497  0.81434    0.503185  0.399902  0.499845\n",
       " 0.8564    0.315123  0.0795404  0.555742  0.340429  0.753323,Dict{VB.Factor,Symbol}()),VB.RandomNode{Distributions.Normal,2}(5x6 Array{Distributions.Normal,2}:\n",
       " Distributions.Normal(μ=0.0, σ=1.0)  …  Distributions.Normal(μ=0.0, σ=1.0)\n",
       " Distributions.Normal(μ=0.0, σ=1.0)     Distributions.Normal(μ=0.0, σ=1.0)\n",
       " Distributions.Normal(μ=0.0, σ=1.0)     Distributions.Normal(μ=0.0, σ=1.0)\n",
       " Distributions.Normal(μ=0.0, σ=1.0)     Distributions.Normal(μ=0.0, σ=1.0)\n",
       " Distributions.Normal(μ=0.0, σ=1.0)     Distributions.Normal(μ=0.0, σ=1.0),Dict{VB.Factor,Symbol}(VB.LogNormalFactor(#= circular reference =#)=>:μ,VB.LogNormalFactor(VB.RandomNode{Distributions.Normal,2}(#= circular reference =#),VB.ConstantNode{Float64,2}(5x6 Array{Float64,2}:\n",
       " 0.0  0.0  0.0  0.0  0.0  0.0\n",
       " 0.0  0.0  0.0  0.0  0.0  0.0\n",
       " 0.0  0.0  0.0  0.0  0.0  0.0\n",
       " 0.0  0.0  0.0  0.0  0.0  0.0\n",
       " 0.0  0.0  0.0  0.0  0.0  0.0,Dict{VB.Factor,Symbol}()),VB.ConstantNode{Float64,2}(5x6 Array{Float64,2}:\n",
       " 2.0  2.0  2.0  2.0  2.0  2.0\n",
       " 2.0  2.0  2.0  2.0  2.0  2.0\n",
       " 2.0  2.0  2.0  2.0  2.0  2.0\n",
       " 2.0  2.0  2.0  2.0  2.0  2.0\n",
       " 2.0  2.0  2.0  2.0  2.0  2.0,Dict{VB.Factor,Symbol}()))=>:x)),VB.RandomNode{Distributions.Gamma,2}(#= circular reference =#))=>:τ)),VB.ConstantNode{Float64,2}(5x6 Array{Float64,2}:\n",
       " 1.1  1.1  1.1  1.1  1.1  1.1\n",
       " 1.1  1.1  1.1  1.1  1.1  1.1\n",
       " 1.1  1.1  1.1  1.1  1.1  1.1\n",
       " 1.1  1.1  1.1  1.1  1.1  1.1\n",
       " 1.1  1.1  1.1  1.1  1.1  1.1,Dict{VB.Factor,Symbol}()),VB.ConstantNode{Float64,2}(5x6 Array{Float64,2}:\n",
       " 1.0  1.0  1.0  1.0  1.0  1.0\n",
       " 1.0  1.0  1.0  1.0  1.0  1.0\n",
       " 1.0  1.0  1.0  1.0  1.0  1.0\n",
       " 1.0  1.0  1.0  1.0  1.0  1.0\n",
       " 1.0  1.0  1.0  1.0  1.0  1.0,Dict{VB.Factor,Symbol}()))])"
      ]
     },
     "execution_count": 22,
     "metadata": {},
     "output_type": "execute_result"
    }
   ],
   "source": [
    "m = VBModel(Dict(:μ => μ, :τ => τ), [obs, μ_prior, τ_prior])"
   ]
  },
  {
   "cell_type": "code",
   "execution_count": 23,
   "metadata": {
    "collapsed": false
   },
   "outputs": [
    {
     "data": {
      "text/plain": [
       "Dict{VB.Factor,Symbol} with 2 entries:\n",
       "  VB.LogNormalFactor(VB.C… => :μ\n",
       "  VB.LogNormalFactor(VB.R… => :x"
      ]
     },
     "execution_count": 23,
     "metadata": {},
     "output_type": "execute_result"
    }
   ],
   "source": [
    "m.nodes[:μ].factormap"
   ]
  },
  {
   "cell_type": "code",
   "execution_count": 24,
   "metadata": {
    "collapsed": false
   },
   "outputs": [
    {
     "data": {
      "text/plain": [
       "(\n",
       "5x6 Array{Float64,2}:\n",
       " 0.0  0.0  0.0  0.0  0.0  0.0\n",
       " 0.0  0.0  0.0  0.0  0.0  0.0\n",
       " 0.0  0.0  0.0  0.0  0.0  0.0\n",
       " 0.0  0.0  0.0  0.0  0.0  0.0\n",
       " 0.0  0.0  0.0  0.0  0.0  0.0,\n",
       "\n",
       "5x6 Array{Float64,2}:\n",
       " -0.5  -0.5  -0.5  -0.5  -0.5  -0.5\n",
       " -0.5  -0.5  -0.5  -0.5  -0.5  -0.5\n",
       " -0.5  -0.5  -0.5  -0.5  -0.5  -0.5\n",
       " -0.5  -0.5  -0.5  -0.5  -0.5  -0.5\n",
       " -0.5  -0.5  -0.5  -0.5  -0.5  -0.5)"
      ]
     },
     "execution_count": 24,
     "metadata": {},
     "output_type": "execute_result"
    }
   ],
   "source": [
    "naturals(obs, Val{:x}, μ)"
   ]
  },
  {
   "cell_type": "code",
   "execution_count": 25,
   "metadata": {
    "collapsed": false
   },
   "outputs": [
    {
     "data": {
      "text/plain": [
       "(\n",
       "5x6 Array{Float64,2}:\n",
       " 0.019526  0.64192   0.920968   0.221961  0.497111  0.376147\n",
       " 0.645838  0.886014  0.635094   0.86881   0.173711  0.234695\n",
       " 0.571483  0.605633  0.240604   0.252273  0.424832  0.433595\n",
       " 0.246642  0.580497  0.81434    0.503185  0.399902  0.499845\n",
       " 0.8564    0.315123  0.0795404  0.555742  0.340429  0.753323,\n",
       "\n",
       "5x6 Array{Float64,2}:\n",
       " -0.5  -0.5  -0.5  -0.5  -0.5  -0.5\n",
       " -0.5  -0.5  -0.5  -0.5  -0.5  -0.5\n",
       " -0.5  -0.5  -0.5  -0.5  -0.5  -0.5\n",
       " -0.5  -0.5  -0.5  -0.5  -0.5  -0.5\n",
       " -0.5  -0.5  -0.5  -0.5  -0.5  -0.5)"
      ]
     },
     "execution_count": 25,
     "metadata": {},
     "output_type": "execute_result"
    }
   ],
   "source": [
    "naturals(obs, Val{:μ}, μ)"
   ]
  },
  {
   "cell_type": "code",
   "execution_count": 26,
   "metadata": {
    "collapsed": false
   },
   "outputs": [
    {
     "data": {
      "text/plain": [
       "(0.5,\n",
       "5x6 Array{Float64,2}:\n",
       " 0.500191  0.706031  0.924091  0.524633  0.62356   0.570743\n",
       " 0.708553  0.89251   0.701672  0.877416  0.515088  0.527541\n",
       " 0.663296  0.683396  0.528945  0.531821  0.590241  0.594002\n",
       " 0.530416  0.668488  0.831575  0.626598  0.579961  0.624922\n",
       " 0.86671   0.549651  0.503163  0.654425  0.557946  0.783748)"
      ]
     },
     "execution_count": 26,
     "metadata": {},
     "output_type": "execute_result"
    }
   ],
   "source": [
    "naturals(obs, Val{:τ}, τ)"
   ]
  },
  {
   "cell_type": "code",
   "execution_count": 27,
   "metadata": {
    "collapsed": false
   },
   "outputs": [
    {
     "data": {
      "text/plain": [
       "true"
      ]
     },
     "execution_count": 27,
     "metadata": {},
     "output_type": "execute_result"
    }
   ],
   "source": [
    "method_exists(naturals, (LogNormalFactor, Type{Val{:x}}, RandomNode{Normal}))"
   ]
  },
  {
   "cell_type": "code",
   "execution_count": 28,
   "metadata": {
    "collapsed": false
   },
   "outputs": [
    {
     "data": {
      "text/plain": [
       "true"
      ]
     },
     "execution_count": 28,
     "metadata": {},
     "output_type": "execute_result"
    }
   ],
   "source": [
    "check_conjugate(m.nodes[:τ])"
   ]
  },
  {
   "cell_type": "code",
   "execution_count": 29,
   "metadata": {
    "collapsed": false
   },
   "outputs": [
    {
     "data": {
      "text/plain": [
       "5x6 Array{Distributions.Normal,2}:\n",
       " Distributions.Normal(μ=0.0, σ=1.0)  …  Distributions.Normal(μ=0.0, σ=1.0)\n",
       " Distributions.Normal(μ=0.0, σ=1.0)     Distributions.Normal(μ=0.0, σ=1.0)\n",
       " Distributions.Normal(μ=0.0, σ=1.0)     Distributions.Normal(μ=0.0, σ=1.0)\n",
       " Distributions.Normal(μ=0.0, σ=1.0)     Distributions.Normal(μ=0.0, σ=1.0)\n",
       " Distributions.Normal(μ=0.0, σ=1.0)     Distributions.Normal(μ=0.0, σ=1.0)"
      ]
     },
     "execution_count": 29,
     "metadata": {},
     "output_type": "execute_result"
    }
   ],
   "source": [
    "μ.data"
   ]
  },
  {
   "cell_type": "code",
   "execution_count": 30,
   "metadata": {
    "collapsed": false
   },
   "outputs": [],
   "source": [
    "update!(μ, Val{:conjugate})"
   ]
  },
  {
   "cell_type": "code",
   "execution_count": 31,
   "metadata": {
    "collapsed": false
   },
   "outputs": [
    {
     "data": {
      "text/plain": [
       "5x6 Array{Distributions.Normal,2}:\n",
       " Distributions.Normal(μ=-0.33974642587876164, σ=0.7071067811865476)  …  Distributions.Normal(μ=-0.08757735964789944, σ=0.7071067811865476)   \n",
       " Distributions.Normal(μ=0.1031230083822061, σ=0.7071067811865476)       Distributions.Normal(μ=-0.18759892024976002, σ=0.7071067811865476)   \n",
       " Distributions.Normal(μ=0.05054604661844582, σ=0.7071067811865476)      Distributions.Normal(μ=-0.046955363717725414, σ=0.7071067811865476)  \n",
       " Distributions.Normal(μ=-0.17915149839257358, σ=0.7071067811865476)     Distributions.Normal(μ=-0.00010971345274074199, σ=0.7071067811865476)\n",
       " Distributions.Normal(μ=0.2520128176967853, σ=0.7071067811865476)       Distributions.Normal(μ=0.17912620274862429, σ=0.7071067811865476)    "
      ]
     },
     "execution_count": 31,
     "metadata": {},
     "output_type": "execute_result"
    }
   ],
   "source": [
    "μ.data"
   ]
  },
  {
   "cell_type": "code",
   "execution_count": null,
   "metadata": {
    "collapsed": true
   },
   "outputs": [],
   "source": []
  }
 ],
 "metadata": {
  "kernelspec": {
   "display_name": "Julia 0.4.1",
   "language": "julia",
   "name": "julia-0.4"
  },
  "language_info": {
   "file_extension": ".jl",
   "mimetype": "application/julia",
   "name": "julia",
   "version": "0.4.1"
  }
 },
 "nbformat": 4,
 "nbformat_minor": 0
}
