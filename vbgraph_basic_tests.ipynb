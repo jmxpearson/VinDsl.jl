{
 "cells": [
  {
   "cell_type": "markdown",
   "metadata": {},
   "source": [
    "Let's try some basic tests of `VB.jl`:"
   ]
  },
  {
   "cell_type": "code",
   "execution_count": 1,
   "metadata": {
    "collapsed": false
   },
   "outputs": [],
   "source": [
    "include(\"VB.jl\")\n",
    "using VB\n",
    "using Distributions"
   ]
  },
  {
   "cell_type": "markdown",
   "metadata": {},
   "source": [
    "# Make a node"
   ]
  },
  {
   "cell_type": "code",
   "execution_count": 2,
   "metadata": {
    "collapsed": false
   },
   "outputs": [
    {
     "data": {
      "text/plain": [
       "VB.RandomNode{Distributions.Gamma}(:b,[:j,:k],5x3 Array{Distributions.Gamma,2}:\n",
       " Distributions.Gamma(α=0.28797366136020197, θ=0.36229129671396176)   …  Distributions.Gamma(α=0.17405770026310874, θ=0.4715545515324626)\n",
       " Distributions.Gamma(α=0.033815470745805376, θ=0.02925160690571227)     Distributions.Gamma(α=0.2127655143692322, θ=0.21492302099117366)\n",
       " Distributions.Gamma(α=0.9986712283436712, θ=0.6541169080105216)        Distributions.Gamma(α=0.8910758944267789, θ=0.07474774716357402)\n",
       " Distributions.Gamma(α=0.7180366683732657, θ=0.40060000929797357)       Distributions.Gamma(α=0.9797349524042074, θ=0.14215853381704213)\n",
       " Distributions.Gamma(α=0.14307967355221618, θ=0.6233977022883894)       Distributions.Gamma(α=0.35719911187410114, θ=0.7532154780159808))"
      ]
     },
     "execution_count": 2,
     "metadata": {},
     "output_type": "execute_result"
    }
   ],
   "source": [
    "μ = rand(5, 5)\n",
    "σ = rand(5, 5)\n",
    "aa = RandomNode(:a, [:i, :j], Normal, μ, σ)\n",
    "bb = RandomNode(:b, [:j, :k], Gamma, rand(5, 3), rand(5, 3))"
   ]
  },
  {
   "cell_type": "code",
   "execution_count": 3,
   "metadata": {
    "collapsed": false
   },
   "outputs": [
    {
     "data": {
      "text/plain": [
       "VB.ConstantNode{Float64}(:c,[:i,:j],3x4 Array{Float64,2}:\n",
       " 0.67921    0.816944  0.0218626  0.728487\n",
       " 0.0274611  0.517911  0.215145   0.444458\n",
       " 0.715433   0.130255  0.373087   0.237667)"
      ]
     },
     "execution_count": 3,
     "metadata": {},
     "output_type": "execute_result"
    }
   ],
   "source": [
    "cc = ConstantNode(:c, [:i, :j], rand(3, 4))"
   ]
  },
  {
   "cell_type": "code",
   "execution_count": 4,
   "metadata": {
    "collapsed": false
   },
   "outputs": [
    {
     "data": {
      "text/plain": [
       "VB.ConstantNode{Float64}(symbol(\"##const#7733\"),[:i,:j],3x4 Array{Float64,2}:\n",
       " 0.428808  0.578368   0.514897  0.703365\n",
       " 0.859959  0.0622464  0.988834  0.220225\n",
       " 0.110366  0.772437   0.54893   0.80651 )"
      ]
     },
     "execution_count": 4,
     "metadata": {},
     "output_type": "execute_result"
    }
   ],
   "source": [
    "cc = ConstantNode(rand(3, 4), [:i, :j])"
   ]
  },
  {
   "cell_type": "code",
   "execution_count": 5,
   "metadata": {
    "collapsed": false
   },
   "outputs": [
    {
     "data": {
      "text/plain": [
       "VB.FactorInds([:i,:j,:k],[5,3,5],Dict(:a=>[1,2],:b=>[2,3]))"
      ]
     },
     "execution_count": 5,
     "metadata": {},
     "output_type": "execute_result"
    }
   ],
   "source": [
    "nodes = Node[aa, bb]\n",
    "fi = get_structure(nodes...)\n",
    "fi"
   ]
  },
  {
   "cell_type": "code",
   "execution_count": 6,
   "metadata": {
    "collapsed": false
   },
   "outputs": [
    {
     "data": {
      "text/plain": [
       "VB.RandomNode{Distributions.Normal}(:a,[:i,:j],5x5 Array{Distributions.Normal,2}:\n",
       " Distributions.Normal(μ=0.45028111357557177, σ=0.0658350902734941)   …  Distributions.Normal(μ=0.7593855677186776, σ=0.7030559924689803)\n",
       " Distributions.Normal(μ=0.3682617719227985, σ=0.5437498162157315)       Distributions.Normal(μ=0.8757450187565858, σ=0.7324270777492721)\n",
       " Distributions.Normal(μ=0.4158074685790558, σ=0.18472090989997958)      Distributions.Normal(μ=0.5214744172693209, σ=0.8364054569181432)\n",
       " Distributions.Normal(μ=0.5139572814375037, σ=0.7797368671195515)       Distributions.Normal(μ=0.7884693659229178, σ=0.6578873677540704)\n",
       " Distributions.Normal(μ=0.04652781980624421, σ=0.28507036255517115)     Distributions.Normal(μ=0.7922040052489325, σ=0.859484738400832) )"
      ]
     },
     "execution_count": 6,
     "metadata": {},
     "output_type": "execute_result"
    }
   ],
   "source": [
    "a[i, j] ~ Normal(μ, σ)"
   ]
  },
  {
   "cell_type": "code",
   "execution_count": 7,
   "metadata": {
    "collapsed": false
   },
   "outputs": [
    {
     "data": {
      "text/plain": [
       "VB.ConstantNode{Float64}(:c,[:i,:j],3x4 Array{Float64,2}:\n",
       " 0.0796852  0.995124  0.323916  0.0763783\n",
       " 0.0619586  0.418177  0.14606   0.168157 \n",
       " 0.207559   0.185558  0.460469  0.963826 )"
      ]
     },
     "execution_count": 7,
     "metadata": {},
     "output_type": "execute_result"
    }
   ],
   "source": [
    "c[i, j] ~ Const(rand(3, 4))"
   ]
  },
  {
   "cell_type": "markdown",
   "metadata": {},
   "source": [
    "# Make a factor"
   ]
  },
  {
   "cell_type": "code",
   "execution_count": 8,
   "metadata": {
    "collapsed": false
   },
   "outputs": [],
   "source": [
    "dims = (10, 2)\n",
    "\n",
    "μ[j] ~ Normal(rand(dims[2]), ones(dims[2]))\n",
    "τ ~ Gamma(1, 1)\n",
    "x[i, j] ~ Normal(rand(dims), ones(dims))\n",
    "\n",
    "f = @factor LogNormalFactor x μ τ;"
   ]
  },
  {
   "cell_type": "markdown",
   "metadata": {},
   "source": [
    "# Make a (generated) value function"
   ]
  },
  {
   "cell_type": "code",
   "execution_count": 9,
   "metadata": {
    "collapsed": false
   },
   "outputs": [
    {
     "data": {
      "text/plain": [
       "-34.2450283244113"
      ]
     },
     "execution_count": 9,
     "metadata": {},
     "output_type": "execute_result"
    }
   ],
   "source": [
    "value(f)"
   ]
  },
  {
   "cell_type": "code",
   "execution_count": 10,
   "metadata": {
    "collapsed": false
   },
   "outputs": [
    {
     "data": {
      "text/plain": [
       "28.378770664093462"
      ]
     },
     "execution_count": 10,
     "metadata": {},
     "output_type": "execute_result"
    }
   ],
   "source": [
    "g = @factor EntropyFactor x\n",
    "value(g)"
   ]
  },
  {
   "cell_type": "markdown",
   "metadata": {},
   "source": [
    "# Let's make a simple model"
   ]
  },
  {
   "cell_type": "markdown",
   "metadata": {},
   "source": [
    "We want a simple model of inference for a normal distribution:\n",
    "\n",
    "$$\n",
    "\\begin{aligned}\n",
    "    y \\sim \\mathcal{N}(\\mu, \\tau) \\\\\n",
    "    \\mu \\sim \\mathcal{N}(\\mu_0, \\tau_0) \\\\\n",
    "    \\tau \\sim \\mathrm{Ga}(\\alpha, \\beta) \\\\\n",
    "    q(\\mu) = \\mathcal{N}(m, t) \\\\\n",
    "    q(\\tau) = \\mathrm{Ga}(a, b)\n",
    "\\end{aligned}\n",
    "$$\n",
    "\n",
    "This model is conjugate, and can be solved by straightforward updates of the natural parameters of the posterior."
   ]
  },
  {
   "cell_type": "markdown",
   "metadata": {},
   "source": [
    "## Make the nodes\n",
    "\n",
    "We need to make nodes for all the random variables that will need to be updated (we can also create nodes for parameter arrays, but these will be converted automatically if we don't)."
   ]
  },
  {
   "cell_type": "code",
   "execution_count": 11,
   "metadata": {
    "collapsed": false
   },
   "outputs": [],
   "source": [
    "dims = (20, 6)\n",
    "\n",
    "# note: it won't matter much how we initialize here\n",
    "μ[j] ~ Normal(zeros(dims[2]), ones(dims[2]))\n",
    "τ[j] ~ Gamma(1.1 * ones(dims[2]), ones(dims[2]))\n",
    "μ0[j] ~ Const(zeros(dims[2]))\n",
    "τ0[j] ~ Const(2 * ones(dims[2]))\n",
    "a0[j] ~ Const(1.1 * ones(dims[2]))\n",
    "b0[j] ~ Const(ones(dims[2]))\n",
    "\n",
    "y[i, j] ~ Const(rand(dims));"
   ]
  },
  {
   "cell_type": "markdown",
   "metadata": {},
   "source": [
    "Now make factors: We need a Normal factor for the observation model plus a prior and an entropy for each node."
   ]
  },
  {
   "cell_type": "code",
   "execution_count": 12,
   "metadata": {
    "collapsed": false
   },
   "outputs": [
    {
     "data": {
      "text/plain": [
       "VB.LogGammaFactor{1}(VB.RandomNode{Distributions.Gamma}(:τ,[:j],[Distributions.Gamma(α=1.1, θ=1.0),Distributions.Gamma(α=1.1, θ=1.0),Distributions.Gamma(α=1.1, θ=1.0),Distributions.Gamma(α=1.1, θ=1.0),Distributions.Gamma(α=1.1, θ=1.0),Distributions.Gamma(α=1.1, θ=1.0)]),VB.ConstantNode{Float64}(:a0,[:j],[1.1,1.1,1.1,1.1,1.1,1.1]),VB.ConstantNode{Float64}(:b0,[:j],[1.0,1.0,1.0,1.0,1.0,1.0]),VB.FactorInds([:j],[6],Dict(:τ=>[1],:b0=>[1],:a0=>[1])),Dict(:τ=>:x,:b0=>:β,:a0=>:α))"
      ]
     },
     "execution_count": 12,
     "metadata": {},
     "output_type": "execute_result"
    }
   ],
   "source": [
    "obs = @factor LogNormalFactor y μ τ\n",
    "μ_prior = @factor LogNormalFactor μ μ0 τ0\n",
    "τ_prior = @factor LogGammaFactor τ a0 b0"
   ]
  },
  {
   "cell_type": "code",
   "execution_count": 13,
   "metadata": {
    "collapsed": false
   },
   "outputs": [
    {
     "data": {
      "text/plain": [
       "(-172.5668211295474,-13.593072740907873,0.0449816833123928)"
      ]
     },
     "execution_count": 13,
     "metadata": {},
     "output_type": "execute_result"
    }
   ],
   "source": [
    "value(obs), value(μ_prior), value(τ_prior)"
   ]
  },
  {
   "cell_type": "code",
   "execution_count": 14,
   "metadata": {
    "collapsed": false
   },
   "outputs": [
    {
     "data": {
      "text/plain": [
       "VB.VBModel(VB.Node[VB.RandomNode{Distributions.Normal}(:μ,[:j],[Distributions.Normal(μ=0.0, σ=1.0),Distributions.Normal(μ=0.0, σ=1.0),Distributions.Normal(μ=0.0, σ=1.0),Distributions.Normal(μ=0.0, σ=1.0),Distributions.Normal(μ=0.0, σ=1.0),Distributions.Normal(μ=0.0, σ=1.0)]),VB.RandomNode{Distributions.Gamma}(:τ,[:j],[Distributions.Gamma(α=1.1, θ=1.0),Distributions.Gamma(α=1.1, θ=1.0),Distributions.Gamma(α=1.1, θ=1.0),Distributions.Gamma(α=1.1, θ=1.0),Distributions.Gamma(α=1.1, θ=1.0),Distributions.Gamma(α=1.1, θ=1.0)]),VB.ConstantNode{Float64}(:μ0,[:j],[0.0,0.0,0.0,0.0,0.0,0.0]),VB.ConstantNode{Float64}(:τ0,[:j],[2.0,2.0,2.0,2.0,2.0,2.0]),VB.ConstantNode{Float64}(:a0,[:j],[1.1,1.1,1.1,1.1,1.1,1.1]),VB.ConstantNode{Float64}(:b0,[:j],[1.0,1.0,1.0,1.0,1.0,1.0]),VB.ConstantNode{Float64}(:y,[:i,:j],20x6 Array{Float64,2}:\n",
       " 0.255162   0.949913   0.764261   0.954222   0.630461   0.767552 \n",
       " 0.342531   0.470748   0.239497   0.641009   0.101936   0.111441 \n",
       " 0.488642   0.0199235  0.60681    0.960078   0.937054   0.653024 \n",
       " 0.952239   0.0929969  0.407585   0.317006   0.348477   0.74712  \n",
       " 0.574811   0.728143   0.202961   0.166558   0.554626   0.761454 \n",
       " 0.0961705  0.0886928  0.323678   0.10783    0.586216   0.836367 \n",
       " 0.430403   0.687004   0.0153375  0.022281   0.342986   0.0548552\n",
       " 0.7615     0.407917   0.456839   0.999519   0.762189   0.760189 \n",
       " 0.856169   0.0774909  0.0630531  0.389319   0.0838438  0.441015 \n",
       " 0.17853    0.204791   0.921677   0.592904   0.509481   0.137502 \n",
       " 0.929497   0.270833   0.444656   0.0677813  0.615903   0.225118 \n",
       " 0.532457   0.518142   0.567336   0.426084   0.372648   0.676325 \n",
       " 0.302661   0.367402   0.58086    0.578863   0.580978   0.152627 \n",
       " 0.696865   0.700355   0.668825   0.316105   0.346556   0.995835 \n",
       " 0.554216   0.373273   0.721357   0.891365   0.833612   0.189094 \n",
       " 0.187981   0.279958   0.872556   0.474105   0.872278   0.239505 \n",
       " 0.0588006  0.457141   0.280691   0.557681   0.214373   0.662003 \n",
       " 0.0803267  0.588102   0.879977   0.119064   0.710852   0.95183  \n",
       " 0.713669   0.87265    0.362983   0.336926   0.782677   0.389553 \n",
       " 0.352204   0.942521   0.887586   0.974139   0.865865   0.192698 )],VB.Factor[VB.LogNormalFactor{2}(VB.ConstantNode{Float64}(:y,[:i,:j],20x6 Array{Float64,2}:\n",
       " 0.255162   0.949913   0.764261   0.954222   0.630461   0.767552 \n",
       " 0.342531   0.470748   0.239497   0.641009   0.101936   0.111441 \n",
       " 0.488642   0.0199235  0.60681    0.960078   0.937054   0.653024 \n",
       " 0.952239   0.0929969  0.407585   0.317006   0.348477   0.74712  \n",
       " 0.574811   0.728143   0.202961   0.166558   0.554626   0.761454 \n",
       " 0.0961705  0.0886928  0.323678   0.10783    0.586216   0.836367 \n",
       " 0.430403   0.687004   0.0153375  0.022281   0.342986   0.0548552\n",
       " 0.7615     0.407917   0.456839   0.999519   0.762189   0.760189 \n",
       " 0.856169   0.0774909  0.0630531  0.389319   0.0838438  0.441015 \n",
       " 0.17853    0.204791   0.921677   0.592904   0.509481   0.137502 \n",
       " 0.929497   0.270833   0.444656   0.0677813  0.615903   0.225118 \n",
       " 0.532457   0.518142   0.567336   0.426084   0.372648   0.676325 \n",
       " 0.302661   0.367402   0.58086    0.578863   0.580978   0.152627 \n",
       " 0.696865   0.700355   0.668825   0.316105   0.346556   0.995835 \n",
       " 0.554216   0.373273   0.721357   0.891365   0.833612   0.189094 \n",
       " 0.187981   0.279958   0.872556   0.474105   0.872278   0.239505 \n",
       " 0.0588006  0.457141   0.280691   0.557681   0.214373   0.662003 \n",
       " 0.0803267  0.588102   0.879977   0.119064   0.710852   0.95183  \n",
       " 0.713669   0.87265    0.362983   0.336926   0.782677   0.389553 \n",
       " 0.352204   0.942521   0.887586   0.974139   0.865865   0.192698 ),VB.RandomNode{Distributions.Normal}(:μ,[:j],[Distributions.Normal(μ=0.0, σ=1.0),Distributions.Normal(μ=0.0, σ=1.0),Distributions.Normal(μ=0.0, σ=1.0),Distributions.Normal(μ=0.0, σ=1.0),Distributions.Normal(μ=0.0, σ=1.0),Distributions.Normal(μ=0.0, σ=1.0)]),VB.RandomNode{Distributions.Gamma}(:τ,[:j],[Distributions.Gamma(α=1.1, θ=1.0),Distributions.Gamma(α=1.1, θ=1.0),Distributions.Gamma(α=1.1, θ=1.0),Distributions.Gamma(α=1.1, θ=1.0),Distributions.Gamma(α=1.1, θ=1.0),Distributions.Gamma(α=1.1, θ=1.0)]),VB.FactorInds([:i,:j],[20,6],Dict(:τ=>[2],:μ=>[2],:y=>[1,2])),Dict(:τ=>:τ,:μ=>:μ,:y=>:x)),VB.LogNormalFactor{1}(VB.RandomNode{Distributions.Normal}(:μ,[:j],[Distributions.Normal(μ=0.0, σ=1.0),Distributions.Normal(μ=0.0, σ=1.0),Distributions.Normal(μ=0.0, σ=1.0),Distributions.Normal(μ=0.0, σ=1.0),Distributions.Normal(μ=0.0, σ=1.0),Distributions.Normal(μ=0.0, σ=1.0)]),VB.ConstantNode{Float64}(:μ0,[:j],[0.0,0.0,0.0,0.0,0.0,0.0]),VB.ConstantNode{Float64}(:τ0,[:j],[2.0,2.0,2.0,2.0,2.0,2.0]),VB.FactorInds([:j],[6],Dict(:τ0=>[1],:μ=>[1],:μ0=>[1])),Dict(:τ0=>:τ,:μ=>:x,:μ0=>:μ)),VB.LogGammaFactor{1}(VB.RandomNode{Distributions.Gamma}(:τ,[:j],[Distributions.Gamma(α=1.1, θ=1.0),Distributions.Gamma(α=1.1, θ=1.0),Distributions.Gamma(α=1.1, θ=1.0),Distributions.Gamma(α=1.1, θ=1.0),Distributions.Gamma(α=1.1, θ=1.0),Distributions.Gamma(α=1.1, θ=1.0)]),VB.ConstantNode{Float64}(:a0,[:j],[1.1,1.1,1.1,1.1,1.1,1.1]),VB.ConstantNode{Float64}(:b0,[:j],[1.0,1.0,1.0,1.0,1.0,1.0]),VB.FactorInds([:j],[6],Dict(:τ=>[1],:b0=>[1],:a0=>[1])),Dict(:τ=>:x,:b0=>:β,:a0=>:α))],Dict{VB.Node,Array{Tuple{VB.Factor{N},Symbol},1}}(VB.RandomNode{Distributions.Gamma}(:τ,[:j],[Distributions.Gamma(α=1.1, θ=1.0),Distributions.Gamma(α=1.1, θ=1.0),Distributions.Gamma(α=1.1, θ=1.0),Distributions.Gamma(α=1.1, θ=1.0),Distributions.Gamma(α=1.1, θ=1.0),Distributions.Gamma(α=1.1, θ=1.0)])=>Tuple{VB.Factor{N},Symbol}[(VB.LogNormalFactor{2}(VB.ConstantNode{Float64}(:y,[:i,:j],20x6 Array{Float64,2}:\n",
       " 0.255162   0.949913   0.764261   0.954222   0.630461   0.767552 \n",
       " 0.342531   0.470748   0.239497   0.641009   0.101936   0.111441 \n",
       " 0.488642   0.0199235  0.60681    0.960078   0.937054   0.653024 \n",
       " 0.952239   0.0929969  0.407585   0.317006   0.348477   0.74712  \n",
       " 0.574811   0.728143   0.202961   0.166558   0.554626   0.761454 \n",
       " 0.0961705  0.0886928  0.323678   0.10783    0.586216   0.836367 \n",
       " 0.430403   0.687004   0.0153375  0.022281   0.342986   0.0548552\n",
       " 0.7615     0.407917   0.456839   0.999519   0.762189   0.760189 \n",
       " 0.856169   0.0774909  0.0630531  0.389319   0.0838438  0.441015 \n",
       " 0.17853    0.204791   0.921677   0.592904   0.509481   0.137502 \n",
       " 0.929497   0.270833   0.444656   0.0677813  0.615903   0.225118 \n",
       " 0.532457   0.518142   0.567336   0.426084   0.372648   0.676325 \n",
       " 0.302661   0.367402   0.58086    0.578863   0.580978   0.152627 \n",
       " 0.696865   0.700355   0.668825   0.316105   0.346556   0.995835 \n",
       " 0.554216   0.373273   0.721357   0.891365   0.833612   0.189094 \n",
       " 0.187981   0.279958   0.872556   0.474105   0.872278   0.239505 \n",
       " 0.0588006  0.457141   0.280691   0.557681   0.214373   0.662003 \n",
       " 0.0803267  0.588102   0.879977   0.119064   0.710852   0.95183  \n",
       " 0.713669   0.87265    0.362983   0.336926   0.782677   0.389553 \n",
       " 0.352204   0.942521   0.887586   0.974139   0.865865   0.192698 ),VB.RandomNode{Distributions.Normal}(:μ,[:j],[Distributions.Normal(μ=0.0, σ=1.0),Distributions.Normal(μ=0.0, σ=1.0),Distributions.Normal(μ=0.0, σ=1.0),Distributions.Normal(μ=0.0, σ=1.0),Distributions.Normal(μ=0.0, σ=1.0),Distributions.Normal(μ=0.0, σ=1.0)]),VB.RandomNode{Distributions.Gamma}(:τ,[:j],[Distributions.Gamma(α=1.1, θ=1.0),Distributions.Gamma(α=1.1, θ=1.0),Distributions.Gamma(α=1.1, θ=1.0),Distributions.Gamma(α=1.1, θ=1.0),Distributions.Gamma(α=1.1, θ=1.0),Distributions.Gamma(α=1.1, θ=1.0)]),VB.FactorInds([:i,:j],[20,6],Dict(:τ=>[2],:μ=>[2],:y=>[1,2])),Dict(:τ=>:τ,:μ=>:μ,:y=>:x)),:τ),(VB.LogGammaFactor{1}(VB.RandomNode{Distributions.Gamma}(:τ,[:j],[Distributions.Gamma(α=1.1, θ=1.0),Distributions.Gamma(α=1.1, θ=1.0),Distributions.Gamma(α=1.1, θ=1.0),Distributions.Gamma(α=1.1, θ=1.0),Distributions.Gamma(α=1.1, θ=1.0),Distributions.Gamma(α=1.1, θ=1.0)]),VB.ConstantNode{Float64}(:a0,[:j],[1.1,1.1,1.1,1.1,1.1,1.1]),VB.ConstantNode{Float64}(:b0,[:j],[1.0,1.0,1.0,1.0,1.0,1.0]),VB.FactorInds([:j],[6],Dict(:τ=>[1],:b0=>[1],:a0=>[1])),Dict(:τ=>:x,:b0=>:β,:a0=>:α)),:x)],VB.ConstantNode{Float64}(:τ0,[:j],[2.0,2.0,2.0,2.0,2.0,2.0])=>Tuple{VB.Factor{N},Symbol}[(VB.LogNormalFactor{1}(VB.RandomNode{Distributions.Normal}(:μ,[:j],[Distributions.Normal(μ=0.0, σ=1.0),Distributions.Normal(μ=0.0, σ=1.0),Distributions.Normal(μ=0.0, σ=1.0),Distributions.Normal(μ=0.0, σ=1.0),Distributions.Normal(μ=0.0, σ=1.0),Distributions.Normal(μ=0.0, σ=1.0)]),VB.ConstantNode{Float64}(:μ0,[:j],[0.0,0.0,0.0,0.0,0.0,0.0]),VB.ConstantNode{Float64}(:τ0,[:j],[2.0,2.0,2.0,2.0,2.0,2.0]),VB.FactorInds([:j],[6],Dict(:τ0=>[1],:μ=>[1],:μ0=>[1])),Dict(:τ0=>:τ,:μ=>:x,:μ0=>:μ)),:τ)],VB.ConstantNode{Float64}(:y,[:i,:j],20x6 Array{Float64,2}:\n",
       " 0.255162   0.949913   0.764261   0.954222   0.630461   0.767552 \n",
       " 0.342531   0.470748   0.239497   0.641009   0.101936   0.111441 \n",
       " 0.488642   0.0199235  0.60681    0.960078   0.937054   0.653024 \n",
       " 0.952239   0.0929969  0.407585   0.317006   0.348477   0.74712  \n",
       " 0.574811   0.728143   0.202961   0.166558   0.554626   0.761454 \n",
       " 0.0961705  0.0886928  0.323678   0.10783    0.586216   0.836367 \n",
       " 0.430403   0.687004   0.0153375  0.022281   0.342986   0.0548552\n",
       " 0.7615     0.407917   0.456839   0.999519   0.762189   0.760189 \n",
       " 0.856169   0.0774909  0.0630531  0.389319   0.0838438  0.441015 \n",
       " 0.17853    0.204791   0.921677   0.592904   0.509481   0.137502 \n",
       " 0.929497   0.270833   0.444656   0.0677813  0.615903   0.225118 \n",
       " 0.532457   0.518142   0.567336   0.426084   0.372648   0.676325 \n",
       " 0.302661   0.367402   0.58086    0.578863   0.580978   0.152627 \n",
       " 0.696865   0.700355   0.668825   0.316105   0.346556   0.995835 \n",
       " 0.554216   0.373273   0.721357   0.891365   0.833612   0.189094 \n",
       " 0.187981   0.279958   0.872556   0.474105   0.872278   0.239505 \n",
       " 0.0588006  0.457141   0.280691   0.557681   0.214373   0.662003 \n",
       " 0.0803267  0.588102   0.879977   0.119064   0.710852   0.95183  \n",
       " 0.713669   0.87265    0.362983   0.336926   0.782677   0.389553 \n",
       " 0.352204   0.942521   0.887586   0.974139   0.865865   0.192698 )=>Tuple{VB.Factor{N},Symbol}[(VB.LogNormalFactor{2}(VB.ConstantNode{Float64}(:y,[:i,:j],20x6 Array{Float64,2}:\n",
       " 0.255162   0.949913   0.764261   0.954222   0.630461   0.767552 \n",
       " 0.342531   0.470748   0.239497   0.641009   0.101936   0.111441 \n",
       " 0.488642   0.0199235  0.60681    0.960078   0.937054   0.653024 \n",
       " 0.952239   0.0929969  0.407585   0.317006   0.348477   0.74712  \n",
       " 0.574811   0.728143   0.202961   0.166558   0.554626   0.761454 \n",
       " 0.0961705  0.0886928  0.323678   0.10783    0.586216   0.836367 \n",
       " 0.430403   0.687004   0.0153375  0.022281   0.342986   0.0548552\n",
       " 0.7615     0.407917   0.456839   0.999519   0.762189   0.760189 \n",
       " 0.856169   0.0774909  0.0630531  0.389319   0.0838438  0.441015 \n",
       " 0.17853    0.204791   0.921677   0.592904   0.509481   0.137502 \n",
       " 0.929497   0.270833   0.444656   0.0677813  0.615903   0.225118 \n",
       " 0.532457   0.518142   0.567336   0.426084   0.372648   0.676325 \n",
       " 0.302661   0.367402   0.58086    0.578863   0.580978   0.152627 \n",
       " 0.696865   0.700355   0.668825   0.316105   0.346556   0.995835 \n",
       " 0.554216   0.373273   0.721357   0.891365   0.833612   0.189094 \n",
       " 0.187981   0.279958   0.872556   0.474105   0.872278   0.239505 \n",
       " 0.0588006  0.457141   0.280691   0.557681   0.214373   0.662003 \n",
       " 0.0803267  0.588102   0.879977   0.119064   0.710852   0.95183  \n",
       " 0.713669   0.87265    0.362983   0.336926   0.782677   0.389553 \n",
       " 0.352204   0.942521   0.887586   0.974139   0.865865   0.192698 ),VB.RandomNode{Distributions.Normal}(:μ,[:j],[Distributions.Normal(μ=0.0, σ=1.0),Distributions.Normal(μ=0.0, σ=1.0),Distributions.Normal(μ=0.0, σ=1.0),Distributions.Normal(μ=0.0, σ=1.0),Distributions.Normal(μ=0.0, σ=1.0),Distributions.Normal(μ=0.0, σ=1.0)]),VB.RandomNode{Distributions.Gamma}(:τ,[:j],[Distributions.Gamma(α=1.1, θ=1.0),Distributions.Gamma(α=1.1, θ=1.0),Distributions.Gamma(α=1.1, θ=1.0),Distributions.Gamma(α=1.1, θ=1.0),Distributions.Gamma(α=1.1, θ=1.0),Distributions.Gamma(α=1.1, θ=1.0)]),VB.FactorInds([:i,:j],[20,6],Dict(:τ=>[2],:μ=>[2],:y=>[1,2])),Dict(:τ=>:τ,:μ=>:μ,:y=>:x)),:x)],VB.ConstantNode{Float64}(:b0,[:j],[1.0,1.0,1.0,1.0,1.0,1.0])=>Tuple{VB.Factor{N},Symbol}[(VB.LogGammaFactor{1}(VB.RandomNode{Distributions.Gamma}(:τ,[:j],[Distributions.Gamma(α=1.1, θ=1.0),Distributions.Gamma(α=1.1, θ=1.0),Distributions.Gamma(α=1.1, θ=1.0),Distributions.Gamma(α=1.1, θ=1.0),Distributions.Gamma(α=1.1, θ=1.0),Distributions.Gamma(α=1.1, θ=1.0)]),VB.ConstantNode{Float64}(:a0,[:j],[1.1,1.1,1.1,1.1,1.1,1.1]),VB.ConstantNode{Float64}(:b0,[:j],[1.0,1.0,1.0,1.0,1.0,1.0]),VB.FactorInds([:j],[6],Dict(:τ=>[1],:b0=>[1],:a0=>[1])),Dict(:τ=>:x,:b0=>:β,:a0=>:α)),:β)],VB.ConstantNode{Float64}(:μ0,[:j],[0.0,0.0,0.0,0.0,0.0,0.0])=>Tuple{VB.Factor{N},Symbol}[(VB.LogNormalFactor{1}(VB.RandomNode{Distributions.Normal}(:μ,[:j],[Distributions.Normal(μ=0.0, σ=1.0),Distributions.Normal(μ=0.0, σ=1.0),Distributions.Normal(μ=0.0, σ=1.0),Distributions.Normal(μ=0.0, σ=1.0),Distributions.Normal(μ=0.0, σ=1.0),Distributions.Normal(μ=0.0, σ=1.0)]),VB.ConstantNode{Float64}(:μ0,[:j],[0.0,0.0,0.0,0.0,0.0,0.0]),VB.ConstantNode{Float64}(:τ0,[:j],[2.0,2.0,2.0,2.0,2.0,2.0]),VB.FactorInds([:j],[6],Dict(:τ0=>[1],:μ=>[1],:μ0=>[1])),Dict(:τ0=>:τ,:μ=>:x,:μ0=>:μ)),:μ)],VB.RandomNode{Distributions.Normal}(:μ,[:j],[Distributions.Normal(μ=0.0, σ=1.0),Distributions.Normal(μ=0.0, σ=1.0),Distributions.Normal(μ=0.0, σ=1.0),Distributions.Normal(μ=0.0, σ=1.0),Distributions.Normal(μ=0.0, σ=1.0),Distributions.Normal(μ=0.0, σ=1.0)])=>Tuple{VB.Factor{N},Symbol}[(VB.LogNormalFactor{2}(VB.ConstantNode{Float64}(:y,[:i,:j],20x6 Array{Float64,2}:\n",
       " 0.255162   0.949913   0.764261   0.954222   0.630461   0.767552 \n",
       " 0.342531   0.470748   0.239497   0.641009   0.101936   0.111441 \n",
       " 0.488642   0.0199235  0.60681    0.960078   0.937054   0.653024 \n",
       " 0.952239   0.0929969  0.407585   0.317006   0.348477   0.74712  \n",
       " 0.574811   0.728143   0.202961   0.166558   0.554626   0.761454 \n",
       " 0.0961705  0.0886928  0.323678   0.10783    0.586216   0.836367 \n",
       " 0.430403   0.687004   0.0153375  0.022281   0.342986   0.0548552\n",
       " 0.7615     0.407917   0.456839   0.999519   0.762189   0.760189 \n",
       " 0.856169   0.0774909  0.0630531  0.389319   0.0838438  0.441015 \n",
       " 0.17853    0.204791   0.921677   0.592904   0.509481   0.137502 \n",
       " 0.929497   0.270833   0.444656   0.0677813  0.615903   0.225118 \n",
       " 0.532457   0.518142   0.567336   0.426084   0.372648   0.676325 \n",
       " 0.302661   0.367402   0.58086    0.578863   0.580978   0.152627 \n",
       " 0.696865   0.700355   0.668825   0.316105   0.346556   0.995835 \n",
       " 0.554216   0.373273   0.721357   0.891365   0.833612   0.189094 \n",
       " 0.187981   0.279958   0.872556   0.474105   0.872278   0.239505 \n",
       " 0.0588006  0.457141   0.280691   0.557681   0.214373   0.662003 \n",
       " 0.0803267  0.588102   0.879977   0.119064   0.710852   0.95183  \n",
       " 0.713669   0.87265    0.362983   0.336926   0.782677   0.389553 \n",
       " 0.352204   0.942521   0.887586   0.974139   0.865865   0.192698 ),VB.RandomNode{Distributions.Normal}(:μ,[:j],[Distributions.Normal(μ=0.0, σ=1.0),Distributions.Normal(μ=0.0, σ=1.0),Distributions.Normal(μ=0.0, σ=1.0),Distributions.Normal(μ=0.0, σ=1.0),Distributions.Normal(μ=0.0, σ=1.0),Distributions.Normal(μ=0.0, σ=1.0)]),VB.RandomNode{Distributions.Gamma}(:τ,[:j],[Distributions.Gamma(α=1.1, θ=1.0),Distributions.Gamma(α=1.1, θ=1.0),Distributions.Gamma(α=1.1, θ=1.0),Distributions.Gamma(α=1.1, θ=1.0),Distributions.Gamma(α=1.1, θ=1.0),Distributions.Gamma(α=1.1, θ=1.0)]),VB.FactorInds([:i,:j],[20,6],Dict(:τ=>[2],:μ=>[2],:y=>[1,2])),Dict(:τ=>:τ,:μ=>:μ,:y=>:x)),:μ),(VB.LogNormalFactor{1}(VB.RandomNode{Distributions.Normal}(:μ,[:j],[Distributions.Normal(μ=0.0, σ=1.0),Distributions.Normal(μ=0.0, σ=1.0),Distributions.Normal(μ=0.0, σ=1.0),Distributions.Normal(μ=0.0, σ=1.0),Distributions.Normal(μ=0.0, σ=1.0),Distributions.Normal(μ=0.0, σ=1.0)]),VB.ConstantNode{Float64}(:μ0,[:j],[0.0,0.0,0.0,0.0,0.0,0.0]),VB.ConstantNode{Float64}(:τ0,[:j],[2.0,2.0,2.0,2.0,2.0,2.0]),VB.FactorInds([:j],[6],Dict(:τ0=>[1],:μ=>[1],:μ0=>[1])),Dict(:τ0=>:τ,:μ=>:x,:μ0=>:μ)),:x)],VB.ConstantNode{Float64}(:a0,[:j],[1.1,1.1,1.1,1.1,1.1,1.1])=>Tuple{VB.Factor{N},Symbol}[(VB.LogGammaFactor{1}(VB.RandomNode{Distributions.Gamma}(:τ,[:j],[Distributions.Gamma(α=1.1, θ=1.0),Distributions.Gamma(α=1.1, θ=1.0),Distributions.Gamma(α=1.1, θ=1.0),Distributions.Gamma(α=1.1, θ=1.0),Distributions.Gamma(α=1.1, θ=1.0),Distributions.Gamma(α=1.1, θ=1.0)]),VB.ConstantNode{Float64}(:a0,[:j],[1.1,1.1,1.1,1.1,1.1,1.1]),VB.ConstantNode{Float64}(:b0,[:j],[1.0,1.0,1.0,1.0,1.0,1.0]),VB.FactorInds([:j],[6],Dict(:τ=>[1],:b0=>[1],:a0=>[1])),Dict(:τ=>:x,:b0=>:β,:a0=>:α)),:α)]))"
      ]
     },
     "execution_count": 14,
     "metadata": {},
     "output_type": "execute_result"
    }
   ],
   "source": [
    "m = VBModel([μ, τ, μ0, τ0, a0, b0, y], [obs, μ_prior, τ_prior])"
   ]
  },
  {
   "cell_type": "code",
   "execution_count": 15,
   "metadata": {
    "collapsed": false
   },
   "outputs": [
    {
     "data": {
      "text/plain": [
       "7-element Array{Any,1}:\n",
       " :μ \n",
       " :τ \n",
       " :μ0\n",
       " :τ0\n",
       " :a0\n",
       " :b0\n",
       " :y "
      ]
     },
     "execution_count": 15,
     "metadata": {},
     "output_type": "execute_result"
    }
   ],
   "source": [
    "[n.name for n in m.nodes]"
   ]
  },
  {
   "cell_type": "code",
   "execution_count": 16,
   "metadata": {
    "collapsed": false
   },
   "outputs": [
    {
     "data": {
      "text/plain": [
       "3-element Array{DataType,1}:\n",
       " VB.LogNormalFactor{2}\n",
       " VB.LogNormalFactor{1}\n",
       " VB.LogGammaFactor{1} "
      ]
     },
     "execution_count": 16,
     "metadata": {},
     "output_type": "execute_result"
    }
   ],
   "source": [
    "[typeof(f) for f in m.factors]"
   ]
  },
  {
   "cell_type": "code",
   "execution_count": 17,
   "metadata": {
    "collapsed": false
   },
   "outputs": [
    {
     "data": {
      "text/plain": [
       "Dict{VB.Node,Array{Tuple{VB.Factor{N},Symbol},1}} with 7 entries:\n",
       "  VB.RandomNode{Distribut… => Tuple{VB.Factor{N},Symbol}[(VB.LogNormalFactor{2}…\n",
       "  VB.ConstantNode{Float64… => Tuple{VB.Factor{N},Symbol}[(VB.LogNormalFactor{1}…\n",
       "  VB.ConstantNode{Float64… => Tuple{VB.Factor{N},Symbol}[(VB.LogNormalFactor{2}…\n",
       "  VB.ConstantNode{Float64… => Tuple{VB.Factor{N},Symbol}[(VB.LogGammaFactor{1}(…\n",
       "  VB.ConstantNode{Float64… => Tuple{VB.Factor{N},Symbol}[(VB.LogNormalFactor{1}…\n",
       "  VB.RandomNode{Distribut… => Tuple{VB.Factor{N},Symbol}[(VB.LogNormalFactor{2}…\n",
       "  VB.ConstantNode{Float64… => Tuple{VB.Factor{N},Symbol}[(VB.LogGammaFactor{1}(…"
      ]
     },
     "execution_count": 17,
     "metadata": {},
     "output_type": "execute_result"
    }
   ],
   "source": [
    "m.graph"
   ]
  },
  {
   "cell_type": "code",
   "execution_count": 18,
   "metadata": {
    "collapsed": false
   },
   "outputs": [
    {
     "data": {
      "text/plain": [
       "6-element Array{Tuple{Float64,Float64},1}:\n",
       " (10.279317603470545,-11.000000000000002)\n",
       " (10.00779704017968,-11.000000000000002) \n",
       " (11.295378796907194,-11.000000000000002)\n",
       " (10.882123543799786,-11.000000000000002)\n",
       " (12.158313566087239,-11.000000000000002)\n",
       " (10.939615855041415,-11.000000000000002)"
      ]
     },
     "execution_count": 18,
     "metadata": {},
     "output_type": "execute_result"
    }
   ],
   "source": [
    "naturals(obs, μ)"
   ]
  },
  {
   "cell_type": "code",
   "execution_count": 19,
   "metadata": {
    "collapsed": false
   },
   "outputs": [
    {
     "data": {
      "text/plain": [
       "6-element Array{Tuple{Float64,Float64},1}:\n",
       " (10.0,12.954060138250975)\n",
       " (10.0,12.873537918079544)\n",
       " (10.0,13.371448627470127)\n",
       " (10.0,13.456892645340707)\n",
       " (10.0,13.684500546689065)\n",
       " (10.0,13.404554278397937)"
      ]
     },
     "execution_count": 19,
     "metadata": {},
     "output_type": "execute_result"
    }
   ],
   "source": [
    "naturals(obs, τ)"
   ]
  },
  {
   "cell_type": "code",
   "execution_count": 20,
   "metadata": {
    "collapsed": false
   },
   "outputs": [
    {
     "data": {
      "text/plain": [
       "true"
      ]
     },
     "execution_count": 20,
     "metadata": {},
     "output_type": "execute_result"
    }
   ],
   "source": [
    "check_conjugate(τ, m)"
   ]
  },
  {
   "cell_type": "code",
   "execution_count": 21,
   "metadata": {
    "collapsed": false
   },
   "outputs": [
    {
     "data": {
      "text/plain": [
       "true"
      ]
     },
     "execution_count": 21,
     "metadata": {},
     "output_type": "execute_result"
    }
   ],
   "source": [
    "check_conjugate(μ, m)"
   ]
  },
  {
   "cell_type": "code",
   "execution_count": 22,
   "metadata": {
    "collapsed": false
   },
   "outputs": [
    {
     "data": {
      "text/plain": [
       "6-element Array{Distributions.Normal,1}:\n",
       " Distributions.Normal(μ=0.0, σ=1.0)\n",
       " Distributions.Normal(μ=0.0, σ=1.0)\n",
       " Distributions.Normal(μ=0.0, σ=1.0)\n",
       " Distributions.Normal(μ=0.0, σ=1.0)\n",
       " Distributions.Normal(μ=0.0, σ=1.0)\n",
       " Distributions.Normal(μ=0.0, σ=1.0)"
      ]
     },
     "execution_count": 22,
     "metadata": {},
     "output_type": "execute_result"
    }
   ],
   "source": [
    "μ.data"
   ]
  },
  {
   "cell_type": "code",
   "execution_count": 23,
   "metadata": {
    "collapsed": false
   },
   "outputs": [
    {
     "data": {
      "text/plain": [
       "6-element Array{Distributions.Gamma,1}:\n",
       " Distributions.Gamma(α=1.1, θ=1.0)\n",
       " Distributions.Gamma(α=1.1, θ=1.0)\n",
       " Distributions.Gamma(α=1.1, θ=1.0)\n",
       " Distributions.Gamma(α=1.1, θ=1.0)\n",
       " Distributions.Gamma(α=1.1, θ=1.0)\n",
       " Distributions.Gamma(α=1.1, θ=1.0)"
      ]
     },
     "execution_count": 23,
     "metadata": {},
     "output_type": "execute_result"
    }
   ],
   "source": [
    "τ.data"
   ]
  },
  {
   "cell_type": "code",
   "execution_count": 27,
   "metadata": {
    "collapsed": false
   },
   "outputs": [],
   "source": [
    "update!(m)"
   ]
  },
  {
   "cell_type": "code",
   "execution_count": 28,
   "metadata": {
    "collapsed": false
   },
   "outputs": [
    {
     "data": {
      "text/plain": [
       "6-element Array{Distributions.Normal,1}:\n",
       " Distributions.Normal(μ=-0.5095994096677511, σ=0.7071067811865476)  \n",
       " Distributions.Normal(μ=-0.701593441202313, σ=0.7071067811865476)   \n",
       " Distributions.Normal(μ=0.2088643503117996, σ=0.7071067811865476)   \n",
       " Distributions.Normal(μ=-0.08335124152141189, σ=0.7071067811865476) \n",
       " Distributions.Normal(μ=0.8190513773206577, σ=0.7071067811865476)   \n",
       " Distributions.Normal(μ=-0.042698038376367965, σ=0.7071067811865476)"
      ]
     },
     "execution_count": 28,
     "metadata": {},
     "output_type": "execute_result"
    }
   ],
   "source": [
    "μ.data"
   ]
  },
  {
   "cell_type": "code",
   "execution_count": 29,
   "metadata": {
    "collapsed": false
   },
   "outputs": [
    {
     "data": {
      "text/plain": [
       "6-element Array{Distributions.Gamma,1}:\n",
       " Distributions.Gamma(α=26.313097705693558, θ=0.8999999999999999)\n",
       " Distributions.Gamma(α=30.178966725709653, θ=0.8999999999999999)\n",
       " Distributions.Gamma(α=17.662962746743922, θ=0.8999999999999999)\n",
       " Distributions.Gamma(α=20.350947401576953, θ=0.8999999999999999)\n",
       " Distributions.Gamma(α=17.33996715887029, θ=0.8999999999999999) \n",
       " Distributions.Gamma(α=19.847421991938276, θ=0.8999999999999999)"
      ]
     },
     "execution_count": 29,
     "metadata": {},
     "output_type": "execute_result"
    }
   ],
   "source": [
    "τ.data"
   ]
  },
  {
   "cell_type": "code",
   "execution_count": null,
   "metadata": {
    "collapsed": true
   },
   "outputs": [],
   "source": []
  }
 ],
 "metadata": {
  "kernelspec": {
   "display_name": "Julia 0.4.1",
   "language": "julia",
   "name": "julia-0.4"
  },
  "language_info": {
   "file_extension": ".jl",
   "mimetype": "application/julia",
   "name": "julia",
   "version": "0.4.1"
  }
 },
 "nbformat": 4,
 "nbformat_minor": 0
}
