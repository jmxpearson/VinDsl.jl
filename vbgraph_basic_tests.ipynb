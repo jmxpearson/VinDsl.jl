{
 "cells": [
  {
   "cell_type": "markdown",
   "metadata": {},
   "source": [
    "Let's try some basic tests of `VB.jl`:"
   ]
  },
  {
   "cell_type": "code",
   "execution_count": 1,
   "metadata": {
    "collapsed": false
   },
   "outputs": [],
   "source": [
    "include(\"VB.jl\")\n",
    "using VB\n",
    "using Distributions"
   ]
  },
  {
   "cell_type": "markdown",
   "metadata": {},
   "source": [
    "# Make a node"
   ]
  },
  {
   "cell_type": "code",
   "execution_count": 2,
   "metadata": {
    "collapsed": false
   },
   "outputs": [
    {
     "data": {
      "text/plain": [
       "VB.RandomNode{Distributions.Gamma}(:b,Symbol[],[:j,:k],5x3 Array{Distributions.Gamma,2}:\n",
       " Distributions.Gamma(α=0.13638566100548855, θ=0.8018813834080356)  …  Distributions.Gamma(α=0.14540369181497925, θ=0.920714109129249)  \n",
       " Distributions.Gamma(α=0.5683098363905281, θ=0.26458106788743474)     Distributions.Gamma(α=0.44170181692639443, θ=0.3687087748255915) \n",
       " Distributions.Gamma(α=0.7021951551666563, θ=0.1923911896720767)      Distributions.Gamma(α=0.7092153221114026, θ=0.0516499051914967)  \n",
       " Distributions.Gamma(α=0.6573255127559685, θ=0.8360241801493695)      Distributions.Gamma(α=0.7048726270375734, θ=0.9490856202855753)  \n",
       " Distributions.Gamma(α=0.8360608141005736, θ=0.5636500764361374)      Distributions.Gamma(α=0.02119830958930291, θ=0.02832553971149654))"
      ]
     },
     "execution_count": 2,
     "metadata": {},
     "output_type": "execute_result"
    }
   ],
   "source": [
    "μ = rand(5, 5)\n",
    "σ = rand(5, 5)\n",
    "aa = RandomNode(:a, [:i, :j], Normal, μ, σ)\n",
    "bb = RandomNode(:b, [:j, :k], Gamma, rand(5, 3), rand(5, 3))"
   ]
  },
  {
   "cell_type": "code",
   "execution_count": 3,
   "metadata": {
    "collapsed": false
   },
   "outputs": [
    {
     "data": {
      "text/plain": [
       "VB.ConstantNode{Float64}(:c,Symbol[],[:i,:j],3x4 Array{Float64,2}:\n",
       " 0.916423  0.930129  0.770073  0.253645\n",
       " 0.187273  0.628995  0.647929  0.861867\n",
       " 0.313491  0.416397  0.233424  0.395664)"
      ]
     },
     "execution_count": 3,
     "metadata": {},
     "output_type": "execute_result"
    }
   ],
   "source": [
    "cc = ConstantNode(:c, [:i, :j], rand(3, 4))"
   ]
  },
  {
   "cell_type": "code",
   "execution_count": 4,
   "metadata": {
    "collapsed": false
   },
   "outputs": [
    {
     "data": {
      "text/plain": [
       "VB.ConstantNode{Float64}(symbol(\"##const#7761\"),Symbol[],[:i,:j],3x4 Array{Float64,2}:\n",
       " 0.0386357  0.0860728  0.296822  0.41982  \n",
       " 0.955746   0.900698   0.998355  0.701448 \n",
       " 0.477431   0.386723   0.262832  0.0167867)"
      ]
     },
     "execution_count": 4,
     "metadata": {},
     "output_type": "execute_result"
    }
   ],
   "source": [
    "cc = ConstantNode(rand(3, 4), [:i, :j])"
   ]
  },
  {
   "cell_type": "code",
   "execution_count": 5,
   "metadata": {
    "collapsed": false
   },
   "outputs": [
    {
     "data": {
      "text/plain": [
       "VB.FactorInds([:i,:j,:k],[5,5,3],Dict(:a=>[1,2],:b=>[2,3]),Dict(:a=>[1,2],:b=>[1,2]))"
      ]
     },
     "execution_count": 5,
     "metadata": {},
     "output_type": "execute_result"
    }
   ],
   "source": [
    "nodes = Node[aa, bb]\n",
    "fi = get_structure(nodes...)\n",
    "fi"
   ]
  },
  {
   "cell_type": "code",
   "execution_count": 6,
   "metadata": {
    "collapsed": false
   },
   "outputs": [
    {
     "data": {
      "text/plain": [
       "VB.RandomNode{Distributions.Normal}(:a,Symbol[],[:i,:j],5x5 Array{Distributions.Normal,2}:\n",
       " Distributions.Normal(μ=0.07632574353190402, σ=0.3400599882275994)   …  Distributions.Normal(μ=0.03438855312623201, σ=0.36527619463125327)\n",
       " Distributions.Normal(μ=0.3526251808574472, σ=0.8204298579161173)       Distributions.Normal(μ=0.26180156342404115, σ=0.5971632520058308) \n",
       " Distributions.Normal(μ=0.18075051271968312, σ=0.03144904996358644)     Distributions.Normal(μ=0.6031311850584007, σ=0.6851951588100942)  \n",
       " Distributions.Normal(μ=0.05146043513964349, σ=0.09653902391947944)     Distributions.Normal(μ=0.16389720892133286, σ=0.07314697019794503)\n",
       " Distributions.Normal(μ=0.6675520285212306, σ=0.38028060434646016)      Distributions.Normal(μ=0.7596581036600256, σ=0.5321032890544464)  )"
      ]
     },
     "execution_count": 6,
     "metadata": {},
     "output_type": "execute_result"
    }
   ],
   "source": [
    "a[i, j] ~ Normal(μ, σ)"
   ]
  },
  {
   "cell_type": "code",
   "execution_count": 7,
   "metadata": {
    "collapsed": false
   },
   "outputs": [
    {
     "data": {
      "text/plain": [
       "VB.ConstantNode{Float64}(:c,Symbol[],[:i,:j],3x4 Array{Float64,2}:\n",
       " 0.72423   0.167492  0.416346  0.338683\n",
       " 0.682916  0.536808  0.652409  0.230596\n",
       " 0.864777  0.626077  0.996534  0.40275 )"
      ]
     },
     "execution_count": 7,
     "metadata": {},
     "output_type": "execute_result"
    }
   ],
   "source": [
    "c[i, j] ~ Const(rand(3, 4))"
   ]
  },
  {
   "cell_type": "markdown",
   "metadata": {},
   "source": [
    "Make a multivariate node"
   ]
  },
  {
   "cell_type": "code",
   "execution_count": 8,
   "metadata": {
    "collapsed": false
   },
   "outputs": [
    {
     "data": {
      "text/plain": [
       "([:i],[:j])"
      ]
     },
     "execution_count": 8,
     "metadata": {},
     "output_type": "execute_result"
    }
   ],
   "source": [
    "dims = (5, 3)\n",
    "m = [rand(dims[1]) for x in 1:dims[2]]\n",
    "VV = [diagm(rand(dims[1])) for x in 1:dims[2]]\n",
    "d[i, j] ~ MvNormal(m, VV)\n",
    "d.innerinds, d.outerinds"
   ]
  },
  {
   "cell_type": "markdown",
   "metadata": {},
   "source": [
    "# Make a factor"
   ]
  },
  {
   "cell_type": "code",
   "execution_count": 9,
   "metadata": {
    "collapsed": false
   },
   "outputs": [
    {
     "data": {
      "text/plain": [
       "-34.26473617198157"
      ]
     },
     "execution_count": 9,
     "metadata": {},
     "output_type": "execute_result"
    }
   ],
   "source": [
    "dims = (10, 2)\n",
    "\n",
    "μ[j] ~ Normal(rand(dims[2]), ones(dims[2]))\n",
    "τ ~ Gamma(1, 1)\n",
    "x[i, j] ~ Normal(rand(dims), ones(dims))\n",
    "\n",
    "f = @factor LogNormalFactor x μ τ;\n",
    "value(f)"
   ]
  },
  {
   "cell_type": "markdown",
   "metadata": {},
   "source": [
    "and a multivariate factor..."
   ]
  },
  {
   "cell_type": "code",
   "execution_count": 10,
   "metadata": {
    "collapsed": false
   },
   "outputs": [
    {
     "data": {
      "text/plain": [
       "-28.184517682447847"
      ]
     },
     "execution_count": 10,
     "metadata": {},
     "output_type": "execute_result"
    }
   ],
   "source": [
    "dims = (5, 3)\n",
    "m = [rand(dims[1]) for x in 1:dims[2]]\n",
    "VV = [diagm(rand(dims[1])) for x in 1:dims[2]]\n",
    "\n",
    "y[i, j] ~ MvNormal(m, VV)\n",
    "μ[i] ~ Normal(zeros(dims[1]), ones(dims[1]))\n",
    "Σ[j] ~ Const([diagm(rand(dims[1])) for x in 1:dims[2]])\n",
    "\n",
    "f = @factor LogMvNormalCanonFactor y μ Σ\n",
    "value(f)"
   ]
  },
  {
   "cell_type": "code",
   "execution_count": 11,
   "metadata": {
    "collapsed": false
   },
   "outputs": [
    {
     "data": {
      "text/plain": [
       "quote  # /Users/jmxp/code/vbgraph/types.jl, line 367:\n",
       "    δ = E(project(f,:x,(i_1,))) - E(project(f,:μ,(i_1,))) # /Users/jmxp/code/vbgraph/types.jl, line 368:\n",
       "    EΛ = E(project(f,:Λ,(i_1,))) # /Users/jmxp/code/vbgraph/types.jl, line 369:\n",
       "    -(1 / 2) * ((trace(EΛ * ((V(project(f,:x,(i_1,))) .+ V(project(f,:μ,(i_1,)))) .+ δ * δ')) + length(project(f,:x,(i_1,))) * log(2π)) - Elogdet(project(f,:Λ,(i_1,))))\n",
       "end"
      ]
     },
     "execution_count": 11,
     "metadata": {},
     "output_type": "execute_result"
    }
   ],
   "source": [
    "vars = fieldnames(f)\n",
    "val_expr = value(typeof(f))\n",
    "using Base.Cartesian\n",
    "macroexpand(:(@wrapvars $vars $val_expr (@ntuple 1 i)))"
   ]
  },
  {
   "cell_type": "code",
   "execution_count": 12,
   "metadata": {
    "collapsed": false
   },
   "outputs": [
    {
     "data": {
      "text/plain": [
       "([:j],Dict(:μ=>Int64[],:y=>[1],:Σ=>[1]),Dict(:μ=>Int64[],:y=>[1],:Σ=>[1]))"
      ]
     },
     "execution_count": 12,
     "metadata": {},
     "output_type": "execute_result"
    }
   ],
   "source": [
    "f.inds.indices, f.inds.inds_in_factor, f.inds.inds_in_node"
   ]
  },
  {
   "cell_type": "code",
   "execution_count": 13,
   "metadata": {
    "collapsed": false
   },
   "outputs": [
    {
     "data": {
      "text/plain": [
       "(Any[5],Any[Colon()])"
      ]
     },
     "execution_count": 13,
     "metadata": {},
     "output_type": "execute_result"
    }
   ],
   "source": [
    "project_inds(f, :x, (5,)), project_inds(f, :μ, (5,))"
   ]
  },
  {
   "cell_type": "code",
   "execution_count": 14,
   "metadata": {
    "collapsed": false
   },
   "outputs": [
    {
     "data": {
      "text/plain": [
       "VB.RandomNode{Distributions.Normal}(:μ,Symbol[],[:i],[Distributions.Normal(μ=0.0, σ=1.0),Distributions.Normal(μ=0.0, σ=1.0),Distributions.Normal(μ=0.0, σ=1.0),Distributions.Normal(μ=0.0, σ=1.0),Distributions.Normal(μ=0.0, σ=1.0)])"
      ]
     },
     "execution_count": 14,
     "metadata": {},
     "output_type": "execute_result"
    }
   ],
   "source": [
    "μ"
   ]
  },
  {
   "cell_type": "code",
   "execution_count": 15,
   "metadata": {
    "collapsed": false
   },
   "outputs": [
    {
     "data": {
      "text/plain": [
       "28.378770664093462"
      ]
     },
     "execution_count": 15,
     "metadata": {},
     "output_type": "execute_result"
    }
   ],
   "source": [
    "g = @factor EntropyFactor x\n",
    "value(g)"
   ]
  },
  {
   "cell_type": "markdown",
   "metadata": {},
   "source": [
    "# Let's make a simple model"
   ]
  },
  {
   "cell_type": "markdown",
   "metadata": {},
   "source": [
    "We want a simple model of inference for a normal distribution:\n",
    "\n",
    "$$\n",
    "\\begin{aligned}\n",
    "    y \\sim \\mathcal{N}(\\mu, \\tau) \\\\\n",
    "    \\mu \\sim \\mathcal{N}(\\mu_0, \\tau_0) \\\\\n",
    "    \\tau \\sim \\mathrm{Ga}(\\alpha, \\beta) \\\\\n",
    "    q(\\mu) = \\mathcal{N}(m, t) \\\\\n",
    "    q(\\tau) = \\mathrm{Ga}(a, b)\n",
    "\\end{aligned}\n",
    "$$\n",
    "\n",
    "This model is conjugate, and can be solved by straightforward updates of the natural parameters of the posterior."
   ]
  },
  {
   "cell_type": "markdown",
   "metadata": {},
   "source": [
    "## Make the nodes\n",
    "\n",
    "We need to make nodes for all the random variables that will need to be updated (we can also create nodes for parameter arrays, but these will be converted automatically if we don't)."
   ]
  },
  {
   "cell_type": "code",
   "execution_count": 16,
   "metadata": {
    "collapsed": false
   },
   "outputs": [],
   "source": [
    "dims = (20, 6)\n",
    "\n",
    "# note: it won't matter much how we initialize here\n",
    "μ[j] ~ Normal(zeros(dims[2]), ones(dims[2]))\n",
    "τ[j] ~ Gamma(1.1 * ones(dims[2]), ones(dims[2]))\n",
    "μ0[j] ~ Const(zeros(dims[2]))\n",
    "τ0[j] ~ Const(2 * ones(dims[2]))\n",
    "a0[j] ~ Const(1.1 * ones(dims[2]))\n",
    "b0[j] ~ Const(ones(dims[2]))\n",
    "\n",
    "y[i, j] ~ Const(rand(dims));"
   ]
  },
  {
   "cell_type": "markdown",
   "metadata": {},
   "source": [
    "Now make factors: We need a Normal factor for the observation model plus a prior and an entropy for each node."
   ]
  },
  {
   "cell_type": "code",
   "execution_count": 17,
   "metadata": {
    "collapsed": false
   },
   "outputs": [
    {
     "data": {
      "text/plain": [
       "VB.LogGammaFactor{1}(VB.RandomNode{Distributions.Gamma}(:τ,Symbol[],[:j],[Distributions.Gamma(α=1.1, θ=1.0),Distributions.Gamma(α=1.1, θ=1.0),Distributions.Gamma(α=1.1, θ=1.0),Distributions.Gamma(α=1.1, θ=1.0),Distributions.Gamma(α=1.1, θ=1.0),Distributions.Gamma(α=1.1, θ=1.0)]),VB.ConstantNode{Float64}(:a0,Symbol[],[:j],[1.1,1.1,1.1,1.1,1.1,1.1]),VB.ConstantNode{Float64}(:b0,Symbol[],[:j],[1.0,1.0,1.0,1.0,1.0,1.0]),VB.FactorInds([:j],[6],Dict(:τ=>[1],:b0=>[1],:a0=>[1]),Dict(:τ=>[1],:b0=>[1],:a0=>[1])),Dict(:τ=>:x,:b0=>:β,:a0=>:α))"
      ]
     },
     "execution_count": 17,
     "metadata": {},
     "output_type": "execute_result"
    }
   ],
   "source": [
    "obs = @factor LogNormalFactor y μ τ\n",
    "μ_prior = @factor LogNormalFactor μ μ0 τ0\n",
    "τ_prior = @factor LogGammaFactor τ a0 b0"
   ]
  },
  {
   "cell_type": "code",
   "execution_count": 18,
   "metadata": {
    "collapsed": false
   },
   "outputs": [
    {
     "data": {
      "text/plain": [
       "(-171.53863818342148,-13.593072740907873,0.0449816833123928)"
      ]
     },
     "execution_count": 18,
     "metadata": {},
     "output_type": "execute_result"
    }
   ],
   "source": [
    "value(obs), value(μ_prior), value(τ_prior)"
   ]
  },
  {
   "cell_type": "code",
   "execution_count": 19,
   "metadata": {
    "collapsed": false
   },
   "outputs": [
    {
     "data": {
      "text/plain": [
       "VB.VBModel(VB.Node[VB.RandomNode{Distributions.Normal}(:μ,Symbol[],[:j],[Distributions.Normal(μ=0.0, σ=1.0),Distributions.Normal(μ=0.0, σ=1.0),Distributions.Normal(μ=0.0, σ=1.0),Distributions.Normal(μ=0.0, σ=1.0),Distributions.Normal(μ=0.0, σ=1.0),Distributions.Normal(μ=0.0, σ=1.0)]),VB.RandomNode{Distributions.Gamma}(:τ,Symbol[],[:j],[Distributions.Gamma(α=1.1, θ=1.0),Distributions.Gamma(α=1.1, θ=1.0),Distributions.Gamma(α=1.1, θ=1.0),Distributions.Gamma(α=1.1, θ=1.0),Distributions.Gamma(α=1.1, θ=1.0),Distributions.Gamma(α=1.1, θ=1.0)]),VB.ConstantNode{Float64}(:μ0,Symbol[],[:j],[0.0,0.0,0.0,0.0,0.0,0.0]),VB.ConstantNode{Float64}(:τ0,Symbol[],[:j],[2.0,2.0,2.0,2.0,2.0,2.0]),VB.ConstantNode{Float64}(:a0,Symbol[],[:j],[1.1,1.1,1.1,1.1,1.1,1.1]),VB.ConstantNode{Float64}(:b0,Symbol[],[:j],[1.0,1.0,1.0,1.0,1.0,1.0]),VB.ConstantNode{Float64}(:y,Symbol[],[:i,:j],20x6 Array{Float64,2}:\n",
       " 0.0923143  0.0358772  0.998653   0.812654    0.234527   0.622584 \n",
       " 0.261483   0.638221   0.932688   0.63704     0.461024   0.106167 \n",
       " 0.576703   0.514944   0.963112   0.783098    0.0572533  0.451325 \n",
       " 0.96988    0.363703   0.304189   0.445834    0.495883   0.976778 \n",
       " 0.381564   0.994768   0.688573   0.931993    0.0922519  0.488026 \n",
       " 0.36548    0.899434   0.273259   0.00964252  0.833958   0.192363 \n",
       " 0.656171   0.930363   0.855211   0.472638    0.293917   0.352475 \n",
       " 0.016836   0.316792   0.893653   0.307874    0.486326   0.684504 \n",
       " 0.991493   0.0314691  0.679118   0.359247    0.0770567  0.540388 \n",
       " 0.348087   0.161122   0.0580959  0.0753484   0.319749   0.242144 \n",
       " 0.166087   0.818848   0.497862   0.762345    0.516921   0.123904 \n",
       " 0.580006   0.789716   0.422199   0.586163    0.584681   0.0127722\n",
       " 0.0155122  0.482765   0.683341   0.844223    0.104516   0.224331 \n",
       " 0.932105   0.417955   0.319607   0.204292    0.852496   0.0344555\n",
       " 0.02708    0.920543   0.0131323  0.128518    0.327768   0.455326 \n",
       " 0.590773   0.952047   0.549013   0.915207    0.471796   0.913682 \n",
       " 0.353463   0.515241   0.793821   0.188381    0.346407   0.518807 \n",
       " 0.141622   0.441868   0.390525   0.349986    0.971881   0.688867 \n",
       " 0.302814   0.137398   0.866264   0.21618     0.738798   0.508408 \n",
       " 0.344749   0.224253   0.186568   0.764345    0.248857   0.47934  )],VB.Factor[VB.LogNormalFactor{2}(VB.ConstantNode{Float64}(:y,Symbol[],[:i,:j],20x6 Array{Float64,2}:\n",
       " 0.0923143  0.0358772  0.998653   0.812654    0.234527   0.622584 \n",
       " 0.261483   0.638221   0.932688   0.63704     0.461024   0.106167 \n",
       " 0.576703   0.514944   0.963112   0.783098    0.0572533  0.451325 \n",
       " 0.96988    0.363703   0.304189   0.445834    0.495883   0.976778 \n",
       " 0.381564   0.994768   0.688573   0.931993    0.0922519  0.488026 \n",
       " 0.36548    0.899434   0.273259   0.00964252  0.833958   0.192363 \n",
       " 0.656171   0.930363   0.855211   0.472638    0.293917   0.352475 \n",
       " 0.016836   0.316792   0.893653   0.307874    0.486326   0.684504 \n",
       " 0.991493   0.0314691  0.679118   0.359247    0.0770567  0.540388 \n",
       " 0.348087   0.161122   0.0580959  0.0753484   0.319749   0.242144 \n",
       " 0.166087   0.818848   0.497862   0.762345    0.516921   0.123904 \n",
       " 0.580006   0.789716   0.422199   0.586163    0.584681   0.0127722\n",
       " 0.0155122  0.482765   0.683341   0.844223    0.104516   0.224331 \n",
       " 0.932105   0.417955   0.319607   0.204292    0.852496   0.0344555\n",
       " 0.02708    0.920543   0.0131323  0.128518    0.327768   0.455326 \n",
       " 0.590773   0.952047   0.549013   0.915207    0.471796   0.913682 \n",
       " 0.353463   0.515241   0.793821   0.188381    0.346407   0.518807 \n",
       " 0.141622   0.441868   0.390525   0.349986    0.971881   0.688867 \n",
       " 0.302814   0.137398   0.866264   0.21618     0.738798   0.508408 \n",
       " 0.344749   0.224253   0.186568   0.764345    0.248857   0.47934  ),VB.RandomNode{Distributions.Normal}(:μ,Symbol[],[:j],[Distributions.Normal(μ=0.0, σ=1.0),Distributions.Normal(μ=0.0, σ=1.0),Distributions.Normal(μ=0.0, σ=1.0),Distributions.Normal(μ=0.0, σ=1.0),Distributions.Normal(μ=0.0, σ=1.0),Distributions.Normal(μ=0.0, σ=1.0)]),VB.RandomNode{Distributions.Gamma}(:τ,Symbol[],[:j],[Distributions.Gamma(α=1.1, θ=1.0),Distributions.Gamma(α=1.1, θ=1.0),Distributions.Gamma(α=1.1, θ=1.0),Distributions.Gamma(α=1.1, θ=1.0),Distributions.Gamma(α=1.1, θ=1.0),Distributions.Gamma(α=1.1, θ=1.0)]),VB.FactorInds([:i,:j],[20,6],Dict(:τ=>[2],:μ=>[2],:y=>[1,2]),Dict(:τ=>[1],:μ=>[1],:y=>[1,2])),Dict(:τ=>:τ,:μ=>:μ,:y=>:x)),VB.LogNormalFactor{1}(VB.RandomNode{Distributions.Normal}(:μ,Symbol[],[:j],[Distributions.Normal(μ=0.0, σ=1.0),Distributions.Normal(μ=0.0, σ=1.0),Distributions.Normal(μ=0.0, σ=1.0),Distributions.Normal(μ=0.0, σ=1.0),Distributions.Normal(μ=0.0, σ=1.0),Distributions.Normal(μ=0.0, σ=1.0)]),VB.ConstantNode{Float64}(:μ0,Symbol[],[:j],[0.0,0.0,0.0,0.0,0.0,0.0]),VB.ConstantNode{Float64}(:τ0,Symbol[],[:j],[2.0,2.0,2.0,2.0,2.0,2.0]),VB.FactorInds([:j],[6],Dict(:τ0=>[1],:μ=>[1],:μ0=>[1]),Dict(:τ0=>[1],:μ=>[1],:μ0=>[1])),Dict(:τ0=>:τ,:μ=>:x,:μ0=>:μ)),VB.LogGammaFactor{1}(VB.RandomNode{Distributions.Gamma}(:τ,Symbol[],[:j],[Distributions.Gamma(α=1.1, θ=1.0),Distributions.Gamma(α=1.1, θ=1.0),Distributions.Gamma(α=1.1, θ=1.0),Distributions.Gamma(α=1.1, θ=1.0),Distributions.Gamma(α=1.1, θ=1.0),Distributions.Gamma(α=1.1, θ=1.0)]),VB.ConstantNode{Float64}(:a0,Symbol[],[:j],[1.1,1.1,1.1,1.1,1.1,1.1]),VB.ConstantNode{Float64}(:b0,Symbol[],[:j],[1.0,1.0,1.0,1.0,1.0,1.0]),VB.FactorInds([:j],[6],Dict(:τ=>[1],:b0=>[1],:a0=>[1]),Dict(:τ=>[1],:b0=>[1],:a0=>[1])),Dict(:τ=>:x,:b0=>:β,:a0=>:α))],Dict{VB.Node,Array{Tuple{VB.Factor{N},Symbol},1}}(VB.ConstantNode{Float64}(:y,Symbol[],[:i,:j],20x6 Array{Float64,2}:\n",
       " 0.0923143  0.0358772  0.998653   0.812654    0.234527   0.622584 \n",
       " 0.261483   0.638221   0.932688   0.63704     0.461024   0.106167 \n",
       " 0.576703   0.514944   0.963112   0.783098    0.0572533  0.451325 \n",
       " 0.96988    0.363703   0.304189   0.445834    0.495883   0.976778 \n",
       " 0.381564   0.994768   0.688573   0.931993    0.0922519  0.488026 \n",
       " 0.36548    0.899434   0.273259   0.00964252  0.833958   0.192363 \n",
       " 0.656171   0.930363   0.855211   0.472638    0.293917   0.352475 \n",
       " 0.016836   0.316792   0.893653   0.307874    0.486326   0.684504 \n",
       " 0.991493   0.0314691  0.679118   0.359247    0.0770567  0.540388 \n",
       " 0.348087   0.161122   0.0580959  0.0753484   0.319749   0.242144 \n",
       " 0.166087   0.818848   0.497862   0.762345    0.516921   0.123904 \n",
       " 0.580006   0.789716   0.422199   0.586163    0.584681   0.0127722\n",
       " 0.0155122  0.482765   0.683341   0.844223    0.104516   0.224331 \n",
       " 0.932105   0.417955   0.319607   0.204292    0.852496   0.0344555\n",
       " 0.02708    0.920543   0.0131323  0.128518    0.327768   0.455326 \n",
       " 0.590773   0.952047   0.549013   0.915207    0.471796   0.913682 \n",
       " 0.353463   0.515241   0.793821   0.188381    0.346407   0.518807 \n",
       " 0.141622   0.441868   0.390525   0.349986    0.971881   0.688867 \n",
       " 0.302814   0.137398   0.866264   0.21618     0.738798   0.508408 \n",
       " 0.344749   0.224253   0.186568   0.764345    0.248857   0.47934  )=>Tuple{VB.Factor{N},Symbol}[(VB.LogNormalFactor{2}(VB.ConstantNode{Float64}(:y,Symbol[],[:i,:j],20x6 Array{Float64,2}:\n",
       " 0.0923143  0.0358772  0.998653   0.812654    0.234527   0.622584 \n",
       " 0.261483   0.638221   0.932688   0.63704     0.461024   0.106167 \n",
       " 0.576703   0.514944   0.963112   0.783098    0.0572533  0.451325 \n",
       " 0.96988    0.363703   0.304189   0.445834    0.495883   0.976778 \n",
       " 0.381564   0.994768   0.688573   0.931993    0.0922519  0.488026 \n",
       " 0.36548    0.899434   0.273259   0.00964252  0.833958   0.192363 \n",
       " 0.656171   0.930363   0.855211   0.472638    0.293917   0.352475 \n",
       " 0.016836   0.316792   0.893653   0.307874    0.486326   0.684504 \n",
       " 0.991493   0.0314691  0.679118   0.359247    0.0770567  0.540388 \n",
       " 0.348087   0.161122   0.0580959  0.0753484   0.319749   0.242144 \n",
       " 0.166087   0.818848   0.497862   0.762345    0.516921   0.123904 \n",
       " 0.580006   0.789716   0.422199   0.586163    0.584681   0.0127722\n",
       " 0.0155122  0.482765   0.683341   0.844223    0.104516   0.224331 \n",
       " 0.932105   0.417955   0.319607   0.204292    0.852496   0.0344555\n",
       " 0.02708    0.920543   0.0131323  0.128518    0.327768   0.455326 \n",
       " 0.590773   0.952047   0.549013   0.915207    0.471796   0.913682 \n",
       " 0.353463   0.515241   0.793821   0.188381    0.346407   0.518807 \n",
       " 0.141622   0.441868   0.390525   0.349986    0.971881   0.688867 \n",
       " 0.302814   0.137398   0.866264   0.21618     0.738798   0.508408 \n",
       " 0.344749   0.224253   0.186568   0.764345    0.248857   0.47934  ),VB.RandomNode{Distributions.Normal}(:μ,Symbol[],[:j],[Distributions.Normal(μ=0.0, σ=1.0),Distributions.Normal(μ=0.0, σ=1.0),Distributions.Normal(μ=0.0, σ=1.0),Distributions.Normal(μ=0.0, σ=1.0),Distributions.Normal(μ=0.0, σ=1.0),Distributions.Normal(μ=0.0, σ=1.0)]),VB.RandomNode{Distributions.Gamma}(:τ,Symbol[],[:j],[Distributions.Gamma(α=1.1, θ=1.0),Distributions.Gamma(α=1.1, θ=1.0),Distributions.Gamma(α=1.1, θ=1.0),Distributions.Gamma(α=1.1, θ=1.0),Distributions.Gamma(α=1.1, θ=1.0),Distributions.Gamma(α=1.1, θ=1.0)]),VB.FactorInds([:i,:j],[20,6],Dict(:τ=>[2],:μ=>[2],:y=>[1,2]),Dict(:τ=>[1],:μ=>[1],:y=>[1,2])),Dict(:τ=>:τ,:μ=>:μ,:y=>:x)),:x)],VB.ConstantNode{Float64}(:μ0,Symbol[],[:j],[0.0,0.0,0.0,0.0,0.0,0.0])=>Tuple{VB.Factor{N},Symbol}[(VB.LogNormalFactor{1}(VB.RandomNode{Distributions.Normal}(:μ,Symbol[],[:j],[Distributions.Normal(μ=0.0, σ=1.0),Distributions.Normal(μ=0.0, σ=1.0),Distributions.Normal(μ=0.0, σ=1.0),Distributions.Normal(μ=0.0, σ=1.0),Distributions.Normal(μ=0.0, σ=1.0),Distributions.Normal(μ=0.0, σ=1.0)]),VB.ConstantNode{Float64}(:μ0,Symbol[],[:j],[0.0,0.0,0.0,0.0,0.0,0.0]),VB.ConstantNode{Float64}(:τ0,Symbol[],[:j],[2.0,2.0,2.0,2.0,2.0,2.0]),VB.FactorInds([:j],[6],Dict(:τ0=>[1],:μ=>[1],:μ0=>[1]),Dict(:τ0=>[1],:μ=>[1],:μ0=>[1])),Dict(:τ0=>:τ,:μ=>:x,:μ0=>:μ)),:μ)],VB.ConstantNode{Float64}(:τ0,Symbol[],[:j],[2.0,2.0,2.0,2.0,2.0,2.0])=>Tuple{VB.Factor{N},Symbol}[(VB.LogNormalFactor{1}(VB.RandomNode{Distributions.Normal}(:μ,Symbol[],[:j],[Distributions.Normal(μ=0.0, σ=1.0),Distributions.Normal(μ=0.0, σ=1.0),Distributions.Normal(μ=0.0, σ=1.0),Distributions.Normal(μ=0.0, σ=1.0),Distributions.Normal(μ=0.0, σ=1.0),Distributions.Normal(μ=0.0, σ=1.0)]),VB.ConstantNode{Float64}(:μ0,Symbol[],[:j],[0.0,0.0,0.0,0.0,0.0,0.0]),VB.ConstantNode{Float64}(:τ0,Symbol[],[:j],[2.0,2.0,2.0,2.0,2.0,2.0]),VB.FactorInds([:j],[6],Dict(:τ0=>[1],:μ=>[1],:μ0=>[1]),Dict(:τ0=>[1],:μ=>[1],:μ0=>[1])),Dict(:τ0=>:τ,:μ=>:x,:μ0=>:μ)),:τ)],VB.RandomNode{Distributions.Gamma}(:τ,Symbol[],[:j],[Distributions.Gamma(α=1.1, θ=1.0),Distributions.Gamma(α=1.1, θ=1.0),Distributions.Gamma(α=1.1, θ=1.0),Distributions.Gamma(α=1.1, θ=1.0),Distributions.Gamma(α=1.1, θ=1.0),Distributions.Gamma(α=1.1, θ=1.0)])=>Tuple{VB.Factor{N},Symbol}[(VB.LogNormalFactor{2}(VB.ConstantNode{Float64}(:y,Symbol[],[:i,:j],20x6 Array{Float64,2}:\n",
       " 0.0923143  0.0358772  0.998653   0.812654    0.234527   0.622584 \n",
       " 0.261483   0.638221   0.932688   0.63704     0.461024   0.106167 \n",
       " 0.576703   0.514944   0.963112   0.783098    0.0572533  0.451325 \n",
       " 0.96988    0.363703   0.304189   0.445834    0.495883   0.976778 \n",
       " 0.381564   0.994768   0.688573   0.931993    0.0922519  0.488026 \n",
       " 0.36548    0.899434   0.273259   0.00964252  0.833958   0.192363 \n",
       " 0.656171   0.930363   0.855211   0.472638    0.293917   0.352475 \n",
       " 0.016836   0.316792   0.893653   0.307874    0.486326   0.684504 \n",
       " 0.991493   0.0314691  0.679118   0.359247    0.0770567  0.540388 \n",
       " 0.348087   0.161122   0.0580959  0.0753484   0.319749   0.242144 \n",
       " 0.166087   0.818848   0.497862   0.762345    0.516921   0.123904 \n",
       " 0.580006   0.789716   0.422199   0.586163    0.584681   0.0127722\n",
       " 0.0155122  0.482765   0.683341   0.844223    0.104516   0.224331 \n",
       " 0.932105   0.417955   0.319607   0.204292    0.852496   0.0344555\n",
       " 0.02708    0.920543   0.0131323  0.128518    0.327768   0.455326 \n",
       " 0.590773   0.952047   0.549013   0.915207    0.471796   0.913682 \n",
       " 0.353463   0.515241   0.793821   0.188381    0.346407   0.518807 \n",
       " 0.141622   0.441868   0.390525   0.349986    0.971881   0.688867 \n",
       " 0.302814   0.137398   0.866264   0.21618     0.738798   0.508408 \n",
       " 0.344749   0.224253   0.186568   0.764345    0.248857   0.47934  ),VB.RandomNode{Distributions.Normal}(:μ,Symbol[],[:j],[Distributions.Normal(μ=0.0, σ=1.0),Distributions.Normal(μ=0.0, σ=1.0),Distributions.Normal(μ=0.0, σ=1.0),Distributions.Normal(μ=0.0, σ=1.0),Distributions.Normal(μ=0.0, σ=1.0),Distributions.Normal(μ=0.0, σ=1.0)]),VB.RandomNode{Distributions.Gamma}(:τ,Symbol[],[:j],[Distributions.Gamma(α=1.1, θ=1.0),Distributions.Gamma(α=1.1, θ=1.0),Distributions.Gamma(α=1.1, θ=1.0),Distributions.Gamma(α=1.1, θ=1.0),Distributions.Gamma(α=1.1, θ=1.0),Distributions.Gamma(α=1.1, θ=1.0)]),VB.FactorInds([:i,:j],[20,6],Dict(:τ=>[2],:μ=>[2],:y=>[1,2]),Dict(:τ=>[1],:μ=>[1],:y=>[1,2])),Dict(:τ=>:τ,:μ=>:μ,:y=>:x)),:τ),(VB.LogGammaFactor{1}(VB.RandomNode{Distributions.Gamma}(:τ,Symbol[],[:j],[Distributions.Gamma(α=1.1, θ=1.0),Distributions.Gamma(α=1.1, θ=1.0),Distributions.Gamma(α=1.1, θ=1.0),Distributions.Gamma(α=1.1, θ=1.0),Distributions.Gamma(α=1.1, θ=1.0),Distributions.Gamma(α=1.1, θ=1.0)]),VB.ConstantNode{Float64}(:a0,Symbol[],[:j],[1.1,1.1,1.1,1.1,1.1,1.1]),VB.ConstantNode{Float64}(:b0,Symbol[],[:j],[1.0,1.0,1.0,1.0,1.0,1.0]),VB.FactorInds([:j],[6],Dict(:τ=>[1],:b0=>[1],:a0=>[1]),Dict(:τ=>[1],:b0=>[1],:a0=>[1])),Dict(:τ=>:x,:b0=>:β,:a0=>:α)),:x)],VB.ConstantNode{Float64}(:b0,Symbol[],[:j],[1.0,1.0,1.0,1.0,1.0,1.0])=>Tuple{VB.Factor{N},Symbol}[(VB.LogGammaFactor{1}(VB.RandomNode{Distributions.Gamma}(:τ,Symbol[],[:j],[Distributions.Gamma(α=1.1, θ=1.0),Distributions.Gamma(α=1.1, θ=1.0),Distributions.Gamma(α=1.1, θ=1.0),Distributions.Gamma(α=1.1, θ=1.0),Distributions.Gamma(α=1.1, θ=1.0),Distributions.Gamma(α=1.1, θ=1.0)]),VB.ConstantNode{Float64}(:a0,Symbol[],[:j],[1.1,1.1,1.1,1.1,1.1,1.1]),VB.ConstantNode{Float64}(:b0,Symbol[],[:j],[1.0,1.0,1.0,1.0,1.0,1.0]),VB.FactorInds([:j],[6],Dict(:τ=>[1],:b0=>[1],:a0=>[1]),Dict(:τ=>[1],:b0=>[1],:a0=>[1])),Dict(:τ=>:x,:b0=>:β,:a0=>:α)),:β)],VB.RandomNode{Distributions.Normal}(:μ,Symbol[],[:j],[Distributions.Normal(μ=0.0, σ=1.0),Distributions.Normal(μ=0.0, σ=1.0),Distributions.Normal(μ=0.0, σ=1.0),Distributions.Normal(μ=0.0, σ=1.0),Distributions.Normal(μ=0.0, σ=1.0),Distributions.Normal(μ=0.0, σ=1.0)])=>Tuple{VB.Factor{N},Symbol}[(VB.LogNormalFactor{2}(VB.ConstantNode{Float64}(:y,Symbol[],[:i,:j],20x6 Array{Float64,2}:\n",
       " 0.0923143  0.0358772  0.998653   0.812654    0.234527   0.622584 \n",
       " 0.261483   0.638221   0.932688   0.63704     0.461024   0.106167 \n",
       " 0.576703   0.514944   0.963112   0.783098    0.0572533  0.451325 \n",
       " 0.96988    0.363703   0.304189   0.445834    0.495883   0.976778 \n",
       " 0.381564   0.994768   0.688573   0.931993    0.0922519  0.488026 \n",
       " 0.36548    0.899434   0.273259   0.00964252  0.833958   0.192363 \n",
       " 0.656171   0.930363   0.855211   0.472638    0.293917   0.352475 \n",
       " 0.016836   0.316792   0.893653   0.307874    0.486326   0.684504 \n",
       " 0.991493   0.0314691  0.679118   0.359247    0.0770567  0.540388 \n",
       " 0.348087   0.161122   0.0580959  0.0753484   0.319749   0.242144 \n",
       " 0.166087   0.818848   0.497862   0.762345    0.516921   0.123904 \n",
       " 0.580006   0.789716   0.422199   0.586163    0.584681   0.0127722\n",
       " 0.0155122  0.482765   0.683341   0.844223    0.104516   0.224331 \n",
       " 0.932105   0.417955   0.319607   0.204292    0.852496   0.0344555\n",
       " 0.02708    0.920543   0.0131323  0.128518    0.327768   0.455326 \n",
       " 0.590773   0.952047   0.549013   0.915207    0.471796   0.913682 \n",
       " 0.353463   0.515241   0.793821   0.188381    0.346407   0.518807 \n",
       " 0.141622   0.441868   0.390525   0.349986    0.971881   0.688867 \n",
       " 0.302814   0.137398   0.866264   0.21618     0.738798   0.508408 \n",
       " 0.344749   0.224253   0.186568   0.764345    0.248857   0.47934  ),VB.RandomNode{Distributions.Normal}(:μ,Symbol[],[:j],[Distributions.Normal(μ=0.0, σ=1.0),Distributions.Normal(μ=0.0, σ=1.0),Distributions.Normal(μ=0.0, σ=1.0),Distributions.Normal(μ=0.0, σ=1.0),Distributions.Normal(μ=0.0, σ=1.0),Distributions.Normal(μ=0.0, σ=1.0)]),VB.RandomNode{Distributions.Gamma}(:τ,Symbol[],[:j],[Distributions.Gamma(α=1.1, θ=1.0),Distributions.Gamma(α=1.1, θ=1.0),Distributions.Gamma(α=1.1, θ=1.0),Distributions.Gamma(α=1.1, θ=1.0),Distributions.Gamma(α=1.1, θ=1.0),Distributions.Gamma(α=1.1, θ=1.0)]),VB.FactorInds([:i,:j],[20,6],Dict(:τ=>[2],:μ=>[2],:y=>[1,2]),Dict(:τ=>[1],:μ=>[1],:y=>[1,2])),Dict(:τ=>:τ,:μ=>:μ,:y=>:x)),:μ),(VB.LogNormalFactor{1}(VB.RandomNode{Distributions.Normal}(:μ,Symbol[],[:j],[Distributions.Normal(μ=0.0, σ=1.0),Distributions.Normal(μ=0.0, σ=1.0),Distributions.Normal(μ=0.0, σ=1.0),Distributions.Normal(μ=0.0, σ=1.0),Distributions.Normal(μ=0.0, σ=1.0),Distributions.Normal(μ=0.0, σ=1.0)]),VB.ConstantNode{Float64}(:μ0,Symbol[],[:j],[0.0,0.0,0.0,0.0,0.0,0.0]),VB.ConstantNode{Float64}(:τ0,Symbol[],[:j],[2.0,2.0,2.0,2.0,2.0,2.0]),VB.FactorInds([:j],[6],Dict(:τ0=>[1],:μ=>[1],:μ0=>[1]),Dict(:τ0=>[1],:μ=>[1],:μ0=>[1])),Dict(:τ0=>:τ,:μ=>:x,:μ0=>:μ)),:x)],VB.ConstantNode{Float64}(:a0,Symbol[],[:j],[1.1,1.1,1.1,1.1,1.1,1.1])=>Tuple{VB.Factor{N},Symbol}[(VB.LogGammaFactor{1}(VB.RandomNode{Distributions.Gamma}(:τ,Symbol[],[:j],[Distributions.Gamma(α=1.1, θ=1.0),Distributions.Gamma(α=1.1, θ=1.0),Distributions.Gamma(α=1.1, θ=1.0),Distributions.Gamma(α=1.1, θ=1.0),Distributions.Gamma(α=1.1, θ=1.0),Distributions.Gamma(α=1.1, θ=1.0)]),VB.ConstantNode{Float64}(:a0,Symbol[],[:j],[1.1,1.1,1.1,1.1,1.1,1.1]),VB.ConstantNode{Float64}(:b0,Symbol[],[:j],[1.0,1.0,1.0,1.0,1.0,1.0]),VB.FactorInds([:j],[6],Dict(:τ=>[1],:b0=>[1],:a0=>[1]),Dict(:τ=>[1],:b0=>[1],:a0=>[1])),Dict(:τ=>:x,:b0=>:β,:a0=>:α)),:α)]),Dict{VB.Node,Symbol}(VB.ConstantNode{Float64}(:y,Symbol[],[:i,:j],20x6 Array{Float64,2}:\n",
       " 0.0923143  0.0358772  0.998653   0.812654    0.234527   0.622584 \n",
       " 0.261483   0.638221   0.932688   0.63704     0.461024   0.106167 \n",
       " 0.576703   0.514944   0.963112   0.783098    0.0572533  0.451325 \n",
       " 0.96988    0.363703   0.304189   0.445834    0.495883   0.976778 \n",
       " 0.381564   0.994768   0.688573   0.931993    0.0922519  0.488026 \n",
       " 0.36548    0.899434   0.273259   0.00964252  0.833958   0.192363 \n",
       " 0.656171   0.930363   0.855211   0.472638    0.293917   0.352475 \n",
       " 0.016836   0.316792   0.893653   0.307874    0.486326   0.684504 \n",
       " 0.991493   0.0314691  0.679118   0.359247    0.0770567  0.540388 \n",
       " 0.348087   0.161122   0.0580959  0.0753484   0.319749   0.242144 \n",
       " 0.166087   0.818848   0.497862   0.762345    0.516921   0.123904 \n",
       " 0.580006   0.789716   0.422199   0.586163    0.584681   0.0127722\n",
       " 0.0155122  0.482765   0.683341   0.844223    0.104516   0.224331 \n",
       " 0.932105   0.417955   0.319607   0.204292    0.852496   0.0344555\n",
       " 0.02708    0.920543   0.0131323  0.128518    0.327768   0.455326 \n",
       " 0.590773   0.952047   0.549013   0.915207    0.471796   0.913682 \n",
       " 0.353463   0.515241   0.793821   0.188381    0.346407   0.518807 \n",
       " 0.141622   0.441868   0.390525   0.349986    0.971881   0.688867 \n",
       " 0.302814   0.137398   0.866264   0.21618     0.738798   0.508408 \n",
       " 0.344749   0.224253   0.186568   0.764345    0.248857   0.47934  )=>:constant,VB.ConstantNode{Float64}(:μ0,Symbol[],[:j],[0.0,0.0,0.0,0.0,0.0,0.0])=>:constant,VB.ConstantNode{Float64}(:τ0,Symbol[],[:j],[2.0,2.0,2.0,2.0,2.0,2.0])=>:constant,VB.RandomNode{Distributions.Gamma}(:τ,Symbol[],[:j],[Distributions.Gamma(α=1.1, θ=1.0),Distributions.Gamma(α=1.1, θ=1.0),Distributions.Gamma(α=1.1, θ=1.0),Distributions.Gamma(α=1.1, θ=1.0),Distributions.Gamma(α=1.1, θ=1.0),Distributions.Gamma(α=1.1, θ=1.0)])=>:conjugate,VB.ConstantNode{Float64}(:b0,Symbol[],[:j],[1.0,1.0,1.0,1.0,1.0,1.0])=>:constant,VB.RandomNode{Distributions.Normal}(:μ,Symbol[],[:j],[Distributions.Normal(μ=0.0, σ=1.0),Distributions.Normal(μ=0.0, σ=1.0),Distributions.Normal(μ=0.0, σ=1.0),Distributions.Normal(μ=0.0, σ=1.0),Distributions.Normal(μ=0.0, σ=1.0),Distributions.Normal(μ=0.0, σ=1.0)])=>:conjugate,VB.ConstantNode{Float64}(:a0,Symbol[],[:j],[1.1,1.1,1.1,1.1,1.1,1.1])=>:constant))"
      ]
     },
     "execution_count": 19,
     "metadata": {},
     "output_type": "execute_result"
    }
   ],
   "source": [
    "m = VBModel([μ, τ, μ0, τ0, a0, b0, y], [obs, μ_prior, τ_prior])"
   ]
  },
  {
   "cell_type": "code",
   "execution_count": 20,
   "metadata": {
    "collapsed": false
   },
   "outputs": [
    {
     "data": {
      "text/plain": [
       "7-element Array{Any,1}:\n",
       " :μ \n",
       " :τ \n",
       " :μ0\n",
       " :τ0\n",
       " :a0\n",
       " :b0\n",
       " :y "
      ]
     },
     "execution_count": 20,
     "metadata": {},
     "output_type": "execute_result"
    }
   ],
   "source": [
    "[n.name for n in m.nodes]"
   ]
  },
  {
   "cell_type": "code",
   "execution_count": 21,
   "metadata": {
    "collapsed": false
   },
   "outputs": [
    {
     "data": {
      "text/plain": [
       "3-element Array{DataType,1}:\n",
       " VB.LogNormalFactor{2}\n",
       " VB.LogNormalFactor{1}\n",
       " VB.LogGammaFactor{1} "
      ]
     },
     "execution_count": 21,
     "metadata": {},
     "output_type": "execute_result"
    }
   ],
   "source": [
    "[typeof(f) for f in m.factors]"
   ]
  },
  {
   "cell_type": "code",
   "execution_count": 22,
   "metadata": {
    "collapsed": false
   },
   "outputs": [
    {
     "data": {
      "text/plain": [
       "Dict{VB.Node,Array{Tuple{VB.Factor{N},Symbol},1}} with 7 entries:\n",
       "  VB.ConstantNode{Float64… => Tuple{VB.Factor{N},Symbol}[(VB.LogNormalFactor{2}…\n",
       "  VB.ConstantNode{Float64… => Tuple{VB.Factor{N},Symbol}[(VB.LogNormalFactor{1}…\n",
       "  VB.ConstantNode{Float64… => Tuple{VB.Factor{N},Symbol}[(VB.LogNormalFactor{1}…\n",
       "  VB.RandomNode{Distribut… => Tuple{VB.Factor{N},Symbol}[(VB.LogNormalFactor{2}…\n",
       "  VB.ConstantNode{Float64… => Tuple{VB.Factor{N},Symbol}[(VB.LogGammaFactor{1}(…\n",
       "  VB.RandomNode{Distribut… => Tuple{VB.Factor{N},Symbol}[(VB.LogNormalFactor{2}…\n",
       "  VB.ConstantNode{Float64… => Tuple{VB.Factor{N},Symbol}[(VB.LogGammaFactor{1}(…"
      ]
     },
     "execution_count": 22,
     "metadata": {},
     "output_type": "execute_result"
    }
   ],
   "source": [
    "m.graph"
   ]
  },
  {
   "cell_type": "code",
   "execution_count": 23,
   "metadata": {
    "collapsed": false
   },
   "outputs": [
    {
     "data": {
      "text/plain": [
       "6-element Array{Tuple{Float64,Float64},1}:\n",
       " (8.925646096724032,-11.000000000000002) \n",
       " (11.64606069800854,-11.000000000000002) \n",
       " (12.505773789050734,-11.000000000000002)\n",
       " (10.774510890667383,-11.000000000000002)\n",
       " (9.367672632241714,-11.000000000000002) \n",
       " (9.478312132275542,-11.000000000000002) "
      ]
     },
     "execution_count": 23,
     "metadata": {},
     "output_type": "execute_result"
    }
   ],
   "source": [
    "naturals(obs, μ)"
   ]
  },
  {
   "cell_type": "code",
   "execution_count": 24,
   "metadata": {
    "collapsed": false
   },
   "outputs": [
    {
     "data": {
      "text/plain": [
       "6-element Array{Tuple{Float64,Float64},1}:\n",
       " (10.0,12.551361349336622)\n",
       " (10.0,13.791541155783877)\n",
       " (10.0,14.14770258684757) \n",
       " (10.0,13.26105464982084) \n",
       " (10.0,12.500427726428931)\n",
       " (10.0,12.558194916805142)"
      ]
     },
     "execution_count": 24,
     "metadata": {},
     "output_type": "execute_result"
    }
   ],
   "source": [
    "naturals(obs, τ)"
   ]
  },
  {
   "cell_type": "code",
   "execution_count": 25,
   "metadata": {
    "collapsed": false
   },
   "outputs": [
    {
     "data": {
      "text/plain": [
       "true"
      ]
     },
     "execution_count": 25,
     "metadata": {},
     "output_type": "execute_result"
    }
   ],
   "source": [
    "check_conjugate(τ, m)"
   ]
  },
  {
   "cell_type": "code",
   "execution_count": 26,
   "metadata": {
    "collapsed": false
   },
   "outputs": [
    {
     "data": {
      "text/plain": [
       "true"
      ]
     },
     "execution_count": 26,
     "metadata": {},
     "output_type": "execute_result"
    }
   ],
   "source": [
    "check_conjugate(μ, m)"
   ]
  },
  {
   "cell_type": "code",
   "execution_count": 27,
   "metadata": {
    "collapsed": false
   },
   "outputs": [
    {
     "data": {
      "text/plain": [
       "6-element Array{Distributions.Normal,1}:\n",
       " Distributions.Normal(μ=0.0, σ=1.0)\n",
       " Distributions.Normal(μ=0.0, σ=1.0)\n",
       " Distributions.Normal(μ=0.0, σ=1.0)\n",
       " Distributions.Normal(μ=0.0, σ=1.0)\n",
       " Distributions.Normal(μ=0.0, σ=1.0)\n",
       " Distributions.Normal(μ=0.0, σ=1.0)"
      ]
     },
     "execution_count": 27,
     "metadata": {},
     "output_type": "execute_result"
    }
   ],
   "source": [
    "μ.data"
   ]
  },
  {
   "cell_type": "code",
   "execution_count": 28,
   "metadata": {
    "collapsed": false
   },
   "outputs": [
    {
     "data": {
      "text/plain": [
       "6-element Array{Distributions.Gamma,1}:\n",
       " Distributions.Gamma(α=1.1, θ=1.0)\n",
       " Distributions.Gamma(α=1.1, θ=1.0)\n",
       " Distributions.Gamma(α=1.1, θ=1.0)\n",
       " Distributions.Gamma(α=1.1, θ=1.0)\n",
       " Distributions.Gamma(α=1.1, θ=1.0)\n",
       " Distributions.Gamma(α=1.1, θ=1.0)"
      ]
     },
     "execution_count": 28,
     "metadata": {},
     "output_type": "execute_result"
    }
   ],
   "source": [
    "τ.data"
   ]
  },
  {
   "cell_type": "code",
   "execution_count": 29,
   "metadata": {
    "collapsed": false
   },
   "outputs": [],
   "source": [
    "update!(m)"
   ]
  },
  {
   "cell_type": "code",
   "execution_count": 30,
   "metadata": {
    "collapsed": false
   },
   "outputs": [
    {
     "data": {
      "text/plain": [
       "6-element Array{Distributions.Normal,1}:\n",
       " Distributions.Normal(μ=-1.4667897115872222, σ=0.7071067811865476) \n",
       " Distributions.Normal(μ=0.4568339006199517, σ=0.7071067811865476)  \n",
       " Distributions.Normal(μ=1.0647428571707345, σ=0.7071067811865476)  \n",
       " Distributions.Normal(μ=-0.15944487829280973, σ=0.7071067811865476)\n",
       " Distributions.Normal(μ=-1.1542297508582728, σ=0.7071067811865476) \n",
       " Distributions.Normal(μ=-1.0759958101172635, σ=0.7071067811865476) "
      ]
     },
     "execution_count": 30,
     "metadata": {},
     "output_type": "execute_result"
    }
   ],
   "source": [
    "μ.data"
   ]
  },
  {
   "cell_type": "code",
   "execution_count": 31,
   "metadata": {
    "collapsed": false
   },
   "outputs": [
    {
     "data": {
      "text/plain": [
       "6-element Array{Distributions.Gamma,1}:\n",
       " Distributions.Gamma(α=51.96794180583013, θ=0.8999999999999999) \n",
       " Distributions.Gamma(α=17.04186297831486, θ=0.8999999999999999) \n",
       " Distributions.Gamma(α=19.37953672827696, θ=0.8999999999999999) \n",
       " Distributions.Gamma(α=21.07704550343803, θ=0.8999999999999999) \n",
       " Distributions.Gamma(α=41.65238767539627, θ=0.8999999999999999) \n",
       " Distributions.Gamma(α=39.407341242806126, θ=0.8999999999999999)"
      ]
     },
     "execution_count": 31,
     "metadata": {},
     "output_type": "execute_result"
    }
   ],
   "source": [
    "τ.data"
   ]
  },
  {
   "cell_type": "markdown",
   "metadata": {},
   "source": [
    "# A Multivariate Model"
   ]
  },
  {
   "cell_type": "markdown",
   "metadata": {},
   "source": [
    "We want a simple model of inference for a multivariate normal distribution:\n",
    "\n",
    "$$\n",
    "\\begin{aligned}\n",
    "    y \\sim \\mathcal{N}(\\pmb{\\mu}, \\Sigma) \\\\\n",
    "    \\mu_i \\sim \\mathcal{N}(\\mu_0, \\tau_0) \\\\\n",
    "    \\tau \\sim \\mathrm{Ga}(\\alpha, \\beta) \\\\\n",
    "    q(\\mu) = \\mathcal{N}(m, t) \\\\\n",
    "    q(\\tau) = \\mathrm{Ga}(a, b)\n",
    "\\end{aligned}\n",
    "$$\n",
    "\n",
    "This model is conjugate, and can be solved by straightforward updates of the natural parameters of the posterior."
   ]
  },
  {
   "cell_type": "code",
   "execution_count": 32,
   "metadata": {
    "collapsed": false
   },
   "outputs": [
    {
     "data": {
      "text/plain": [
       "VB.LogMvNormalCanonFactor{2}(VB.ConstantNode{Float64}(:x,Symbol[],[:i,:j],5x20 Array{Float64,2}:\n",
       " -1.51329    -0.0296913  -1.02286   …  -0.437649    0.479336  -1.50745  \n",
       " -1.50736     0.0322825   1.17619       0.758332   -0.261801   0.0445372\n",
       " -0.0148582   1.11657     0.864689      0.823882    1.21968   -0.996886 \n",
       " -0.279171   -0.46222    -0.181406      0.0155962   0.85111   -0.328733 \n",
       "  0.560821   -0.50859     0.479136      1.17261     0.146444  -0.279035 ),VB.RandomNode{Distributions.MvNormalCanon{P<:PDMats.AbstractPDMat,V<:Union{Array{Float64,1},Distributions.ZeroVector{Float64}}}}(:μ,[:i],[:scalar],Distributions.MvNormalCanon[FullNormalCanon(\n",
       "μ: [0.0,0.0,0.0,0.0,0.0]\n",
       "h: [0.0,0.0,0.0,0.0,0.0]\n",
       "J: PDMats.PDMat(5,5x5 Array{Float64,2}:\n",
       " 1.0  0.0  0.0  0.0  0.0\n",
       " 0.0  1.0  0.0  0.0  0.0\n",
       " 0.0  0.0  1.0  0.0  0.0\n",
       " 0.0  0.0  0.0  1.0  0.0\n",
       " 0.0  0.0  0.0  0.0  1.0,5x5 UpperTriangular{Float64,Array{Float64,2}}:\n",
       " 1.0  0.0  0.0  0.0  0.0\n",
       " 0.0  1.0  0.0  0.0  0.0\n",
       " 0.0  0.0  1.0  0.0  0.0\n",
       " 0.0  0.0  0.0  1.0  0.0\n",
       " 0.0  0.0  0.0  0.0  1.0)\n",
       ")\n",
       "]),VB.RandomNode{Distributions.Wishart{ST<:PDMats.AbstractPDMat}}(:Λ,[:i,:i],[:scalar],Distributions.Wishart[Distributions.Wishart{PDMats.PDMat}(\n",
       "df: 5.0\n",
       "S: 5x5 Array{Float64,2}:\n",
       " 1.0  0.0  0.0  0.0  0.0\n",
       " 0.0  1.0  0.0  0.0  0.0\n",
       " 0.0  0.0  1.0  0.0  0.0\n",
       " 0.0  0.0  0.0  1.0  0.0\n",
       " 0.0  0.0  0.0  0.0  1.0\n",
       ")\n",
       "]),VB.FactorInds([:j,:scalar],[20,1],Dict(:μ=>[2],:x=>[1],:Λ=>[2]),Dict(:μ=>[1],:x=>[2],:Λ=>[1])),Dict(:μ=>:μ,:x=>:x,:Λ=>:Λ))"
      ]
     },
     "execution_count": 32,
     "metadata": {},
     "output_type": "execute_result"
    }
   ],
   "source": [
    "d = 5\n",
    "μ[i] ~ MvNormalCanon(zeros(d), diagm(ones(d)))\n",
    "Λ[i, i] ~ Wishart(float(d), diagm(ones(d)))\n",
    "x[i, j] ~ Const(randn(d, 20))\n",
    "f = @factor LogMvNormalCanonFactor x μ Λ"
   ]
  },
  {
   "cell_type": "code",
   "execution_count": 33,
   "metadata": {
    "collapsed": false
   },
   "outputs": [
    {
     "name": "stdout",
     "output_type": "stream",
     "text": [
      "Base.LinAlg.Cholesky{Float64,Array{Float64,2}} with factor:\n"
     ]
    },
    {
     "data": {
      "text/plain": [
       "1-element Array{Tuple{Array{Float64,1},Array{Float64,2}},1}:\n",
       " ([-43.96907501735852,-5.203230293406979,21.87939115780263,0.9259604655304567,3.2303924983325754],\n",
       "5x5 Array{Float64,2}:\n",
       " -50.0    0.0    0.0    0.0    0.0\n",
       "   0.0  -50.0    0.0    0.0    0.0\n",
       "   0.0    0.0  -50.0    0.0    0.0\n",
       "   0.0    0.0    0.0  -50.0    0.0\n",
       "   0.0    0.0    0.0    0.0  -50.0)"
      ]
     },
     "execution_count": 33,
     "metadata": {},
     "output_type": "execute_result"
    }
   ],
   "source": [
    "naturals(f, μ)"
   ]
  },
  {
   "cell_type": "code",
   "execution_count": 34,
   "metadata": {
    "collapsed": false
   },
   "outputs": [
    {
     "data": {
      "text/plain": [
       "1-element Array{Tuple{Array{Float64,2},Float64},1}:\n",
       " (\n",
       "5x5 Array{Float64,2}:\n",
       " 22.1248   -2.36063   -1.19156   2.00649  -1.23204 \n",
       " -2.36063  20.189      3.42585   2.50784   0.641481\n",
       " -1.19156   3.42585   19.3336    1.68971  -0.32105 \n",
       "  2.00649   2.50784    1.68971  18.981    -2.55833 \n",
       " -1.23204   0.641481  -0.32105  -2.55833  15.2965  ,\n",
       "\n",
       "0.0)"
      ]
     },
     "execution_count": 34,
     "metadata": {},
     "output_type": "execute_result"
    }
   ],
   "source": [
    "naturals(f, Λ)"
   ]
  },
  {
   "cell_type": "code",
   "execution_count": 35,
   "metadata": {
    "collapsed": false
   },
   "outputs": [
    {
     "data": {
      "text/plain": [
       "VB.LogMvNormalCanonFactor{2}(VB.ConstantNode{Float64}(:x,Symbol[],[:i,:j],5x20 Array{Float64,2}:\n",
       "  0.763593  0.23016   -0.435491  …   0.745407  -0.328972   0.621371\n",
       "  0.790728  1.98126   -1.99939       1.74411   -0.28976   -0.23514 \n",
       "  0.217324  0.117391  -0.453773      0.616475   1.05743    0.471274\n",
       " -2.48535   0.883187  -0.201658      0.88273    1.23261    0.293245\n",
       " -1.27185   1.36899    0.120966     -1.04567   -0.93001    0.384197),VB.RandomNode{Distributions.MvNormal{Cov<:PDMats.AbstractPDMat,Mean<:Union{Array{Float64,1},Distributions.ZeroVector{Float64}}}}(:μ,[:i],[:scalar],Distributions.MvNormal[FullNormal(\n",
       "dim: 5\n",
       "μ: [0.0,0.0,0.0,0.0,0.0]\n",
       "Σ: 5x5 Array{Float64,2}:\n",
       " 1.0  0.0  0.0  0.0  0.0\n",
       " 0.0  1.0  0.0  0.0  0.0\n",
       " 0.0  0.0  1.0  0.0  0.0\n",
       " 0.0  0.0  0.0  1.0  0.0\n",
       " 0.0  0.0  0.0  0.0  1.0\n",
       ")\n",
       "]),VB.RandomNode{Distributions.Gamma}(:τ,Symbol[],[:i],[Distributions.Gamma(α=1.1, θ=1.0),Distributions.Gamma(α=1.1, θ=1.0),Distributions.Gamma(α=1.1, θ=1.0),Distributions.Gamma(α=1.1, θ=1.0),Distributions.Gamma(α=1.1, θ=1.0)]),VB.FactorInds([:j,:scalar],[20,1],Dict(:τ=>Int64[],:μ=>[2],:x=>[1]),Dict(:τ=>Int64[],:μ=>[1],:x=>[2])),Dict(:τ=>:Λ,:μ=>:μ,:x=>:x))"
      ]
     },
     "execution_count": 35,
     "metadata": {},
     "output_type": "execute_result"
    }
   ],
   "source": [
    "d = 5\n",
    "μ[i] ~ MvNormal(zeros(d), diagm(ones(d)))\n",
    "        τ[i] ~ Gamma(1.1 * ones(d), ones(d))\n",
    "        x[i, j] ~ Const(randn(d, 20))\n",
    "        f = @factor LogMvNormalCanonFactor x μ τ\n"
   ]
  },
  {
   "cell_type": "code",
   "execution_count": null,
   "metadata": {
    "collapsed": true
   },
   "outputs": [],
   "source": []
  }
 ],
 "metadata": {
  "kernelspec": {
   "display_name": "Julia 0.4.1",
   "language": "julia",
   "name": "julia-0.4"
  },
  "language_info": {
   "file_extension": ".jl",
   "mimetype": "application/julia",
   "name": "julia",
   "version": "0.4.1"
  }
 },
 "nbformat": 4,
 "nbformat_minor": 0
}
