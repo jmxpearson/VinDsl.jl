{
 "cells": [
  {
   "cell_type": "markdown",
   "metadata": {},
   "source": [
    "Let's try some basic tests of `VB.jl`:"
   ]
  },
  {
   "cell_type": "code",
   "execution_count": 1,
   "metadata": {
    "collapsed": false
   },
   "outputs": [],
   "source": [
    "include(\"VB.jl\")\n",
    "using VB\n",
    "using Distributions"
   ]
  },
  {
   "cell_type": "markdown",
   "metadata": {},
   "source": [
    "# Make a node"
   ]
  },
  {
   "cell_type": "code",
   "execution_count": 2,
   "metadata": {
    "collapsed": false
   },
   "outputs": [
    {
     "data": {
      "text/plain": [
       "VB.RandomNode{Distributions.Gamma}(:b,[:j,:k],5x3 Array{Distributions.Gamma,2}:\n",
       " Distributions.Gamma(α=0.6263186462630275, θ=0.9534418243171701)    …  Distributions.Gamma(α=0.3275565592854046, θ=0.5863923962387416)  \n",
       " Distributions.Gamma(α=0.03961130706474658, θ=0.40073635560976495)     Distributions.Gamma(α=0.30460199383506104, θ=0.10186046624088863)\n",
       " Distributions.Gamma(α=0.7707484790399473, θ=0.4643344472295512)       Distributions.Gamma(α=0.4498593894995624, θ=0.9799046203134645)  \n",
       " Distributions.Gamma(α=0.5939627954333706, θ=0.11547983427254782)      Distributions.Gamma(α=0.9802957128331022, θ=0.980047330210698)   \n",
       " Distributions.Gamma(α=0.09311145179897995, θ=0.6053485072397164)      Distributions.Gamma(α=0.8954091046484047, θ=0.8028325976531183)  )"
      ]
     },
     "execution_count": 2,
     "metadata": {},
     "output_type": "execute_result"
    }
   ],
   "source": [
    "μ = rand(5, 5)\n",
    "σ = rand(5, 5)\n",
    "aa = RandomNode(:a, [:i, :j], Normal, μ, σ)\n",
    "bb = RandomNode(:b, [:j, :k], Gamma, rand(5, 3), rand(5, 3))"
   ]
  },
  {
   "cell_type": "code",
   "execution_count": 3,
   "metadata": {
    "collapsed": false
   },
   "outputs": [
    {
     "data": {
      "text/plain": [
       "VB.ConstantNode{Float64}(:c,[:i,:j],3x4 Array{Float64,2}:\n",
       " 0.902903  0.388126    0.59634   0.366495\n",
       " 0.724881  0.00997577  0.492124  0.816894\n",
       " 0.210572  0.342047    0.59424   0.950445)"
      ]
     },
     "execution_count": 3,
     "metadata": {},
     "output_type": "execute_result"
    }
   ],
   "source": [
    "cc = ConstantNode(:c, [:i, :j], rand(3, 4))"
   ]
  },
  {
   "cell_type": "code",
   "execution_count": 4,
   "metadata": {
    "collapsed": false
   },
   "outputs": [
    {
     "data": {
      "text/plain": [
       "VB.ConstantNode{Float64}(symbol(\"##const#7733\"),[:i,:j],3x4 Array{Float64,2}:\n",
       " 0.880535  0.534407  0.0241815  0.725902\n",
       " 0.261593  0.853768  0.745726   0.326537\n",
       " 0.870482  0.848399  0.153521   0.101801)"
      ]
     },
     "execution_count": 4,
     "metadata": {},
     "output_type": "execute_result"
    }
   ],
   "source": [
    "cc = ConstantNode(rand(3, 4), [:i, :j])"
   ]
  },
  {
   "cell_type": "code",
   "execution_count": 5,
   "metadata": {
    "collapsed": false
   },
   "outputs": [
    {
     "data": {
      "text/plain": [
       "VB.FactorInds([:i,:j,:k],[5,3,5],Dict(:a=>[1,2],:b=>[2,3]))"
      ]
     },
     "execution_count": 5,
     "metadata": {},
     "output_type": "execute_result"
    }
   ],
   "source": [
    "nodes = Node[aa, bb]\n",
    "fi = get_structure(nodes...)\n",
    "fi"
   ]
  },
  {
   "cell_type": "code",
   "execution_count": 6,
   "metadata": {
    "collapsed": false
   },
   "outputs": [
    {
     "data": {
      "text/plain": [
       "VB.RandomNode{Distributions.Normal}(:a,[:i,:j],5x5 Array{Distributions.Normal,2}:\n",
       " Distributions.Normal(μ=0.6764640891912204, σ=0.7545066092957078)   …  Distributions.Normal(μ=0.17912217669270336, σ=0.20081243549418892)\n",
       " Distributions.Normal(μ=0.9967496495318295, σ=0.11531979151713645)     Distributions.Normal(μ=0.6534010257873324, σ=0.893354926929401)   \n",
       " Distributions.Normal(μ=0.6254554630345308, σ=0.08115473827572872)     Distributions.Normal(μ=0.30434172223395173, σ=0.9585711690985244) \n",
       " Distributions.Normal(μ=0.24219095370981347, σ=0.2698105619792166)     Distributions.Normal(μ=0.19777310233027845, σ=0.23589127602496807)\n",
       " Distributions.Normal(μ=0.1183986151418468, σ=0.37314848935794465)     Distributions.Normal(μ=0.5701596514154066, σ=0.5719746362181353)  )"
      ]
     },
     "execution_count": 6,
     "metadata": {},
     "output_type": "execute_result"
    }
   ],
   "source": [
    "a[i, j] ~ Normal(μ, σ)"
   ]
  },
  {
   "cell_type": "code",
   "execution_count": 7,
   "metadata": {
    "collapsed": false
   },
   "outputs": [
    {
     "data": {
      "text/plain": [
       "VB.ConstantNode{Float64}(:c,[:i,:j],3x4 Array{Float64,2}:\n",
       " 0.0508784  0.812961  0.110793   0.39773 \n",
       " 0.832096   0.133756  0.398302   0.108764\n",
       " 0.184122   0.234593  0.0608306  0.235719)"
      ]
     },
     "execution_count": 7,
     "metadata": {},
     "output_type": "execute_result"
    }
   ],
   "source": [
    "c[i, j] ~ Const(rand(3, 4))"
   ]
  },
  {
   "cell_type": "markdown",
   "metadata": {},
   "source": [
    "# Make a factor"
   ]
  },
  {
   "cell_type": "code",
   "execution_count": 8,
   "metadata": {
    "collapsed": false
   },
   "outputs": [],
   "source": [
    "dims = (10, 2)\n",
    "\n",
    "μ[j] ~ Normal(rand(dims[2]), ones(dims[2]))\n",
    "τ ~ Gamma(1, 1)\n",
    "x[i, j] ~ Normal(rand(dims), ones(dims))\n",
    "\n",
    "f = @factor LogNormalFactor x μ τ;"
   ]
  },
  {
   "cell_type": "markdown",
   "metadata": {},
   "source": [
    "# Make a (generated) value function"
   ]
  },
  {
   "cell_type": "code",
   "execution_count": 9,
   "metadata": {
    "collapsed": false
   },
   "outputs": [
    {
     "data": {
      "text/plain": [
       "-34.832382724980974"
      ]
     },
     "execution_count": 9,
     "metadata": {},
     "output_type": "execute_result"
    }
   ],
   "source": [
    "value(f)"
   ]
  },
  {
   "cell_type": "code",
   "execution_count": 10,
   "metadata": {
    "collapsed": false
   },
   "outputs": [
    {
     "data": {
      "text/plain": [
       "28.378770664093462"
      ]
     },
     "execution_count": 10,
     "metadata": {},
     "output_type": "execute_result"
    }
   ],
   "source": [
    "g = @factor EntropyFactor x\n",
    "value(g)"
   ]
  },
  {
   "cell_type": "markdown",
   "metadata": {},
   "source": [
    "# Let's make a simple model"
   ]
  },
  {
   "cell_type": "markdown",
   "metadata": {},
   "source": [
    "We want a simple model of inference for a normal distribution:\n",
    "\n",
    "$$\n",
    "\\begin{aligned}\n",
    "    y \\sim \\mathcal{N}(\\mu, \\tau) \\\\\n",
    "    \\mu \\sim \\mathcal{N}(\\mu_0, \\tau_0) \\\\\n",
    "    \\tau \\sim \\mathrm{Ga}(\\alpha, \\beta) \\\\\n",
    "    q(\\mu) = \\mathcal{N}(m, t) \\\\\n",
    "    q(\\tau) = \\mathrm{Ga}(a, b)\n",
    "\\end{aligned}\n",
    "$$\n",
    "\n",
    "This model is conjugate, and can be solved by straightforward updates of the natural parameters of the posterior."
   ]
  },
  {
   "cell_type": "markdown",
   "metadata": {},
   "source": [
    "## Make the nodes\n",
    "\n",
    "We need to make nodes for all the random variables that will need to be updated (we can also create nodes for parameter arrays, but these will be converted automatically if we don't)."
   ]
  },
  {
   "cell_type": "code",
   "execution_count": 11,
   "metadata": {
    "collapsed": false
   },
   "outputs": [],
   "source": [
    "dims = (20, 6)\n",
    "\n",
    "# note: it won't matter much how we initialize here\n",
    "μ[j] ~ Normal(zeros(dims[2]), ones(dims[2]))\n",
    "τ[j] ~ Gamma(1.1 * ones(dims[2]), ones(dims[2]))\n",
    "μ0[j] ~ Const(zeros(dims[2]))\n",
    "τ0[j] ~ Const(2 * ones(dims[2]))\n",
    "a0[j] ~ Const(1.1 * ones(dims[2]))\n",
    "b0[j] ~ Const(ones(dims[2]))\n",
    "\n",
    "y[i, j] ~ Const(rand(dims));"
   ]
  },
  {
   "cell_type": "markdown",
   "metadata": {},
   "source": [
    "Now make factors: We need a Normal factor for the observation model plus a prior and an entropy for each node."
   ]
  },
  {
   "cell_type": "code",
   "execution_count": 12,
   "metadata": {
    "collapsed": false
   },
   "outputs": [
    {
     "data": {
      "text/plain": [
       "VB.LogGammaFactor{1}(VB.RandomNode{Distributions.Gamma}(:τ,[:j],[Distributions.Gamma(α=1.1, θ=1.0),Distributions.Gamma(α=1.1, θ=1.0),Distributions.Gamma(α=1.1, θ=1.0),Distributions.Gamma(α=1.1, θ=1.0),Distributions.Gamma(α=1.1, θ=1.0),Distributions.Gamma(α=1.1, θ=1.0)]),VB.ConstantNode{Float64}(:a0,[:j],[1.1,1.1,1.1,1.1,1.1,1.1]),VB.ConstantNode{Float64}(:b0,[:j],[1.0,1.0,1.0,1.0,1.0,1.0]),VB.FactorInds([:j],[6],Dict(:τ=>[1],:b0=>[1],:a0=>[1])),Dict(:τ=>:x,:b0=>:β,:a0=>:α))"
      ]
     },
     "execution_count": 12,
     "metadata": {},
     "output_type": "execute_result"
    }
   ],
   "source": [
    "obs = @factor LogNormalFactor y μ τ\n",
    "μ_prior = @factor LogNormalFactor μ μ0 τ0\n",
    "τ_prior = @factor LogGammaFactor τ a0 b0"
   ]
  },
  {
   "cell_type": "code",
   "execution_count": 13,
   "metadata": {
    "collapsed": false
   },
   "outputs": [
    {
     "data": {
      "text/plain": [
       "(-174.17772843646506,-13.593072740907873,0.0449816833123928)"
      ]
     },
     "execution_count": 13,
     "metadata": {},
     "output_type": "execute_result"
    }
   ],
   "source": [
    "value(obs), value(μ_prior), value(τ_prior)"
   ]
  },
  {
   "cell_type": "code",
   "execution_count": 14,
   "metadata": {
    "collapsed": false
   },
   "outputs": [
    {
     "data": {
      "text/plain": [
       "VB.VBModel(VB.Node[VB.RandomNode{Distributions.Normal}(:μ,[:j],[Distributions.Normal(μ=0.0, σ=1.0),Distributions.Normal(μ=0.0, σ=1.0),Distributions.Normal(μ=0.0, σ=1.0),Distributions.Normal(μ=0.0, σ=1.0),Distributions.Normal(μ=0.0, σ=1.0),Distributions.Normal(μ=0.0, σ=1.0)]),VB.RandomNode{Distributions.Gamma}(:τ,[:j],[Distributions.Gamma(α=1.1, θ=1.0),Distributions.Gamma(α=1.1, θ=1.0),Distributions.Gamma(α=1.1, θ=1.0),Distributions.Gamma(α=1.1, θ=1.0),Distributions.Gamma(α=1.1, θ=1.0),Distributions.Gamma(α=1.1, θ=1.0)]),VB.ConstantNode{Float64}(:μ0,[:j],[0.0,0.0,0.0,0.0,0.0,0.0]),VB.ConstantNode{Float64}(:τ0,[:j],[2.0,2.0,2.0,2.0,2.0,2.0]),VB.ConstantNode{Float64}(:a0,[:j],[1.1,1.1,1.1,1.1,1.1,1.1]),VB.ConstantNode{Float64}(:b0,[:j],[1.0,1.0,1.0,1.0,1.0,1.0]),VB.ConstantNode{Float64}(:y,[:i,:j],20x6 Array{Float64,2}:\n",
       " 0.384504    0.114404   0.951399    0.114746    0.0932579  0.815197 \n",
       " 0.0866127   0.71266    0.268901    0.625316    0.152168   0.0191707\n",
       " 0.533531    0.205955   0.00483902  0.393682    0.324667   0.404216 \n",
       " 0.00820373  0.97798    0.0542439   0.00335958  0.733016   0.111385 \n",
       " 0.344992    0.820456   0.979527    0.273284    0.104061   0.980868 \n",
       " 0.25699     0.763136   0.771089    0.517726    0.0695366  0.883507 \n",
       " 0.862059    0.943865   0.513901    0.53546     0.237812   0.0660545\n",
       " 0.708098    0.919058   0.279454    0.831335    0.0281315  0.82762  \n",
       " 0.0372723   0.132678   0.367436    0.894005    0.965252   0.919163 \n",
       " 0.827719    0.329342   0.641004    0.388938    0.26761    0.97431  \n",
       " 0.801448    0.537629   0.887523    0.282524    0.846208   0.179692 \n",
       " 0.86341     0.27154    0.640021    0.355246    0.280304   0.56511  \n",
       " 0.464666    0.0138079  0.944946    0.531632    0.638219   0.758676 \n",
       " 0.424058    0.899311   0.622775    0.00679769  0.580118   0.0147829\n",
       " 0.0806717   0.967409   0.818236    0.122092    0.34558    0.483801 \n",
       " 0.482546    0.112444   0.100192    0.562147    0.158741   0.840305 \n",
       " 0.790266    0.50615    0.548879    0.294635    0.27521    0.983211 \n",
       " 0.196037    0.664978   0.898709    0.848954    0.751071   0.554981 \n",
       " 0.976603    0.176798   0.581682    0.467776    0.99938    0.219989 \n",
       " 0.640402    0.682914   0.934148    0.224217    0.942576   0.120216 )],VB.Factor[VB.LogNormalFactor{2}(VB.ConstantNode{Float64}(:y,[:i,:j],20x6 Array{Float64,2}:\n",
       " 0.384504    0.114404   0.951399    0.114746    0.0932579  0.815197 \n",
       " 0.0866127   0.71266    0.268901    0.625316    0.152168   0.0191707\n",
       " 0.533531    0.205955   0.00483902  0.393682    0.324667   0.404216 \n",
       " 0.00820373  0.97798    0.0542439   0.00335958  0.733016   0.111385 \n",
       " 0.344992    0.820456   0.979527    0.273284    0.104061   0.980868 \n",
       " 0.25699     0.763136   0.771089    0.517726    0.0695366  0.883507 \n",
       " 0.862059    0.943865   0.513901    0.53546     0.237812   0.0660545\n",
       " 0.708098    0.919058   0.279454    0.831335    0.0281315  0.82762  \n",
       " 0.0372723   0.132678   0.367436    0.894005    0.965252   0.919163 \n",
       " 0.827719    0.329342   0.641004    0.388938    0.26761    0.97431  \n",
       " 0.801448    0.537629   0.887523    0.282524    0.846208   0.179692 \n",
       " 0.86341     0.27154    0.640021    0.355246    0.280304   0.56511  \n",
       " 0.464666    0.0138079  0.944946    0.531632    0.638219   0.758676 \n",
       " 0.424058    0.899311   0.622775    0.00679769  0.580118   0.0147829\n",
       " 0.0806717   0.967409   0.818236    0.122092    0.34558    0.483801 \n",
       " 0.482546    0.112444   0.100192    0.562147    0.158741   0.840305 \n",
       " 0.790266    0.50615    0.548879    0.294635    0.27521    0.983211 \n",
       " 0.196037    0.664978   0.898709    0.848954    0.751071   0.554981 \n",
       " 0.976603    0.176798   0.581682    0.467776    0.99938    0.219989 \n",
       " 0.640402    0.682914   0.934148    0.224217    0.942576   0.120216 ),VB.RandomNode{Distributions.Normal}(:μ,[:j],[Distributions.Normal(μ=0.0, σ=1.0),Distributions.Normal(μ=0.0, σ=1.0),Distributions.Normal(μ=0.0, σ=1.0),Distributions.Normal(μ=0.0, σ=1.0),Distributions.Normal(μ=0.0, σ=1.0),Distributions.Normal(μ=0.0, σ=1.0)]),VB.RandomNode{Distributions.Gamma}(:τ,[:j],[Distributions.Gamma(α=1.1, θ=1.0),Distributions.Gamma(α=1.1, θ=1.0),Distributions.Gamma(α=1.1, θ=1.0),Distributions.Gamma(α=1.1, θ=1.0),Distributions.Gamma(α=1.1, θ=1.0),Distributions.Gamma(α=1.1, θ=1.0)]),VB.FactorInds([:i,:j],[20,6],Dict(:τ=>[2],:μ=>[2],:y=>[1,2])),Dict(:τ=>:τ,:μ=>:μ,:y=>:x)),VB.LogNormalFactor{1}(VB.RandomNode{Distributions.Normal}(:μ,[:j],[Distributions.Normal(μ=0.0, σ=1.0),Distributions.Normal(μ=0.0, σ=1.0),Distributions.Normal(μ=0.0, σ=1.0),Distributions.Normal(μ=0.0, σ=1.0),Distributions.Normal(μ=0.0, σ=1.0),Distributions.Normal(μ=0.0, σ=1.0)]),VB.ConstantNode{Float64}(:μ0,[:j],[0.0,0.0,0.0,0.0,0.0,0.0]),VB.ConstantNode{Float64}(:τ0,[:j],[2.0,2.0,2.0,2.0,2.0,2.0]),VB.FactorInds([:j],[6],Dict(:τ0=>[1],:μ=>[1],:μ0=>[1])),Dict(:τ0=>:τ,:μ=>:x,:μ0=>:μ)),VB.LogGammaFactor{1}(VB.RandomNode{Distributions.Gamma}(:τ,[:j],[Distributions.Gamma(α=1.1, θ=1.0),Distributions.Gamma(α=1.1, θ=1.0),Distributions.Gamma(α=1.1, θ=1.0),Distributions.Gamma(α=1.1, θ=1.0),Distributions.Gamma(α=1.1, θ=1.0),Distributions.Gamma(α=1.1, θ=1.0)]),VB.ConstantNode{Float64}(:a0,[:j],[1.1,1.1,1.1,1.1,1.1,1.1]),VB.ConstantNode{Float64}(:b0,[:j],[1.0,1.0,1.0,1.0,1.0,1.0]),VB.FactorInds([:j],[6],Dict(:τ=>[1],:b0=>[1],:a0=>[1])),Dict(:τ=>:x,:b0=>:β,:a0=>:α))],Dict{VB.Node,Array{Tuple{VB.Factor{N},Symbol},1}}(VB.ConstantNode{Float64}(:a0,[:j],[1.1,1.1,1.1,1.1,1.1,1.1])=>Tuple{VB.Factor{N},Symbol}[(VB.LogGammaFactor{1}(VB.RandomNode{Distributions.Gamma}(:τ,[:j],[Distributions.Gamma(α=1.1, θ=1.0),Distributions.Gamma(α=1.1, θ=1.0),Distributions.Gamma(α=1.1, θ=1.0),Distributions.Gamma(α=1.1, θ=1.0),Distributions.Gamma(α=1.1, θ=1.0),Distributions.Gamma(α=1.1, θ=1.0)]),VB.ConstantNode{Float64}(:a0,[:j],[1.1,1.1,1.1,1.1,1.1,1.1]),VB.ConstantNode{Float64}(:b0,[:j],[1.0,1.0,1.0,1.0,1.0,1.0]),VB.FactorInds([:j],[6],Dict(:τ=>[1],:b0=>[1],:a0=>[1])),Dict(:τ=>:x,:b0=>:β,:a0=>:α)),:α)],VB.RandomNode{Distributions.Gamma}(:τ,[:j],[Distributions.Gamma(α=1.1, θ=1.0),Distributions.Gamma(α=1.1, θ=1.0),Distributions.Gamma(α=1.1, θ=1.0),Distributions.Gamma(α=1.1, θ=1.0),Distributions.Gamma(α=1.1, θ=1.0),Distributions.Gamma(α=1.1, θ=1.0)])=>Tuple{VB.Factor{N},Symbol}[(VB.LogNormalFactor{2}(VB.ConstantNode{Float64}(:y,[:i,:j],20x6 Array{Float64,2}:\n",
       " 0.384504    0.114404   0.951399    0.114746    0.0932579  0.815197 \n",
       " 0.0866127   0.71266    0.268901    0.625316    0.152168   0.0191707\n",
       " 0.533531    0.205955   0.00483902  0.393682    0.324667   0.404216 \n",
       " 0.00820373  0.97798    0.0542439   0.00335958  0.733016   0.111385 \n",
       " 0.344992    0.820456   0.979527    0.273284    0.104061   0.980868 \n",
       " 0.25699     0.763136   0.771089    0.517726    0.0695366  0.883507 \n",
       " 0.862059    0.943865   0.513901    0.53546     0.237812   0.0660545\n",
       " 0.708098    0.919058   0.279454    0.831335    0.0281315  0.82762  \n",
       " 0.0372723   0.132678   0.367436    0.894005    0.965252   0.919163 \n",
       " 0.827719    0.329342   0.641004    0.388938    0.26761    0.97431  \n",
       " 0.801448    0.537629   0.887523    0.282524    0.846208   0.179692 \n",
       " 0.86341     0.27154    0.640021    0.355246    0.280304   0.56511  \n",
       " 0.464666    0.0138079  0.944946    0.531632    0.638219   0.758676 \n",
       " 0.424058    0.899311   0.622775    0.00679769  0.580118   0.0147829\n",
       " 0.0806717   0.967409   0.818236    0.122092    0.34558    0.483801 \n",
       " 0.482546    0.112444   0.100192    0.562147    0.158741   0.840305 \n",
       " 0.790266    0.50615    0.548879    0.294635    0.27521    0.983211 \n",
       " 0.196037    0.664978   0.898709    0.848954    0.751071   0.554981 \n",
       " 0.976603    0.176798   0.581682    0.467776    0.99938    0.219989 \n",
       " 0.640402    0.682914   0.934148    0.224217    0.942576   0.120216 ),VB.RandomNode{Distributions.Normal}(:μ,[:j],[Distributions.Normal(μ=0.0, σ=1.0),Distributions.Normal(μ=0.0, σ=1.0),Distributions.Normal(μ=0.0, σ=1.0),Distributions.Normal(μ=0.0, σ=1.0),Distributions.Normal(μ=0.0, σ=1.0),Distributions.Normal(μ=0.0, σ=1.0)]),VB.RandomNode{Distributions.Gamma}(:τ,[:j],[Distributions.Gamma(α=1.1, θ=1.0),Distributions.Gamma(α=1.1, θ=1.0),Distributions.Gamma(α=1.1, θ=1.0),Distributions.Gamma(α=1.1, θ=1.0),Distributions.Gamma(α=1.1, θ=1.0),Distributions.Gamma(α=1.1, θ=1.0)]),VB.FactorInds([:i,:j],[20,6],Dict(:τ=>[2],:μ=>[2],:y=>[1,2])),Dict(:τ=>:τ,:μ=>:μ,:y=>:x)),:τ),(VB.LogGammaFactor{1}(VB.RandomNode{Distributions.Gamma}(:τ,[:j],[Distributions.Gamma(α=1.1, θ=1.0),Distributions.Gamma(α=1.1, θ=1.0),Distributions.Gamma(α=1.1, θ=1.0),Distributions.Gamma(α=1.1, θ=1.0),Distributions.Gamma(α=1.1, θ=1.0),Distributions.Gamma(α=1.1, θ=1.0)]),VB.ConstantNode{Float64}(:a0,[:j],[1.1,1.1,1.1,1.1,1.1,1.1]),VB.ConstantNode{Float64}(:b0,[:j],[1.0,1.0,1.0,1.0,1.0,1.0]),VB.FactorInds([:j],[6],Dict(:τ=>[1],:b0=>[1],:a0=>[1])),Dict(:τ=>:x,:b0=>:β,:a0=>:α)),:x)],VB.ConstantNode{Float64}(:y,[:i,:j],20x6 Array{Float64,2}:\n",
       " 0.384504    0.114404   0.951399    0.114746    0.0932579  0.815197 \n",
       " 0.0866127   0.71266    0.268901    0.625316    0.152168   0.0191707\n",
       " 0.533531    0.205955   0.00483902  0.393682    0.324667   0.404216 \n",
       " 0.00820373  0.97798    0.0542439   0.00335958  0.733016   0.111385 \n",
       " 0.344992    0.820456   0.979527    0.273284    0.104061   0.980868 \n",
       " 0.25699     0.763136   0.771089    0.517726    0.0695366  0.883507 \n",
       " 0.862059    0.943865   0.513901    0.53546     0.237812   0.0660545\n",
       " 0.708098    0.919058   0.279454    0.831335    0.0281315  0.82762  \n",
       " 0.0372723   0.132678   0.367436    0.894005    0.965252   0.919163 \n",
       " 0.827719    0.329342   0.641004    0.388938    0.26761    0.97431  \n",
       " 0.801448    0.537629   0.887523    0.282524    0.846208   0.179692 \n",
       " 0.86341     0.27154    0.640021    0.355246    0.280304   0.56511  \n",
       " 0.464666    0.0138079  0.944946    0.531632    0.638219   0.758676 \n",
       " 0.424058    0.899311   0.622775    0.00679769  0.580118   0.0147829\n",
       " 0.0806717   0.967409   0.818236    0.122092    0.34558    0.483801 \n",
       " 0.482546    0.112444   0.100192    0.562147    0.158741   0.840305 \n",
       " 0.790266    0.50615    0.548879    0.294635    0.27521    0.983211 \n",
       " 0.196037    0.664978   0.898709    0.848954    0.751071   0.554981 \n",
       " 0.976603    0.176798   0.581682    0.467776    0.99938    0.219989 \n",
       " 0.640402    0.682914   0.934148    0.224217    0.942576   0.120216 )=>Tuple{VB.Factor{N},Symbol}[(VB.LogNormalFactor{2}(VB.ConstantNode{Float64}(:y,[:i,:j],20x6 Array{Float64,2}:\n",
       " 0.384504    0.114404   0.951399    0.114746    0.0932579  0.815197 \n",
       " 0.0866127   0.71266    0.268901    0.625316    0.152168   0.0191707\n",
       " 0.533531    0.205955   0.00483902  0.393682    0.324667   0.404216 \n",
       " 0.00820373  0.97798    0.0542439   0.00335958  0.733016   0.111385 \n",
       " 0.344992    0.820456   0.979527    0.273284    0.104061   0.980868 \n",
       " 0.25699     0.763136   0.771089    0.517726    0.0695366  0.883507 \n",
       " 0.862059    0.943865   0.513901    0.53546     0.237812   0.0660545\n",
       " 0.708098    0.919058   0.279454    0.831335    0.0281315  0.82762  \n",
       " 0.0372723   0.132678   0.367436    0.894005    0.965252   0.919163 \n",
       " 0.827719    0.329342   0.641004    0.388938    0.26761    0.97431  \n",
       " 0.801448    0.537629   0.887523    0.282524    0.846208   0.179692 \n",
       " 0.86341     0.27154    0.640021    0.355246    0.280304   0.56511  \n",
       " 0.464666    0.0138079  0.944946    0.531632    0.638219   0.758676 \n",
       " 0.424058    0.899311   0.622775    0.00679769  0.580118   0.0147829\n",
       " 0.0806717   0.967409   0.818236    0.122092    0.34558    0.483801 \n",
       " 0.482546    0.112444   0.100192    0.562147    0.158741   0.840305 \n",
       " 0.790266    0.50615    0.548879    0.294635    0.27521    0.983211 \n",
       " 0.196037    0.664978   0.898709    0.848954    0.751071   0.554981 \n",
       " 0.976603    0.176798   0.581682    0.467776    0.99938    0.219989 \n",
       " 0.640402    0.682914   0.934148    0.224217    0.942576   0.120216 ),VB.RandomNode{Distributions.Normal}(:μ,[:j],[Distributions.Normal(μ=0.0, σ=1.0),Distributions.Normal(μ=0.0, σ=1.0),Distributions.Normal(μ=0.0, σ=1.0),Distributions.Normal(μ=0.0, σ=1.0),Distributions.Normal(μ=0.0, σ=1.0),Distributions.Normal(μ=0.0, σ=1.0)]),VB.RandomNode{Distributions.Gamma}(:τ,[:j],[Distributions.Gamma(α=1.1, θ=1.0),Distributions.Gamma(α=1.1, θ=1.0),Distributions.Gamma(α=1.1, θ=1.0),Distributions.Gamma(α=1.1, θ=1.0),Distributions.Gamma(α=1.1, θ=1.0),Distributions.Gamma(α=1.1, θ=1.0)]),VB.FactorInds([:i,:j],[20,6],Dict(:τ=>[2],:μ=>[2],:y=>[1,2])),Dict(:τ=>:τ,:μ=>:μ,:y=>:x)),:x)],VB.ConstantNode{Float64}(:τ0,[:j],[2.0,2.0,2.0,2.0,2.0,2.0])=>Tuple{VB.Factor{N},Symbol}[(VB.LogNormalFactor{1}(VB.RandomNode{Distributions.Normal}(:μ,[:j],[Distributions.Normal(μ=0.0, σ=1.0),Distributions.Normal(μ=0.0, σ=1.0),Distributions.Normal(μ=0.0, σ=1.0),Distributions.Normal(μ=0.0, σ=1.0),Distributions.Normal(μ=0.0, σ=1.0),Distributions.Normal(μ=0.0, σ=1.0)]),VB.ConstantNode{Float64}(:μ0,[:j],[0.0,0.0,0.0,0.0,0.0,0.0]),VB.ConstantNode{Float64}(:τ0,[:j],[2.0,2.0,2.0,2.0,2.0,2.0]),VB.FactorInds([:j],[6],Dict(:τ0=>[1],:μ=>[1],:μ0=>[1])),Dict(:τ0=>:τ,:μ=>:x,:μ0=>:μ)),:τ)],VB.ConstantNode{Float64}(:b0,[:j],[1.0,1.0,1.0,1.0,1.0,1.0])=>Tuple{VB.Factor{N},Symbol}[(VB.LogGammaFactor{1}(VB.RandomNode{Distributions.Gamma}(:τ,[:j],[Distributions.Gamma(α=1.1, θ=1.0),Distributions.Gamma(α=1.1, θ=1.0),Distributions.Gamma(α=1.1, θ=1.0),Distributions.Gamma(α=1.1, θ=1.0),Distributions.Gamma(α=1.1, θ=1.0),Distributions.Gamma(α=1.1, θ=1.0)]),VB.ConstantNode{Float64}(:a0,[:j],[1.1,1.1,1.1,1.1,1.1,1.1]),VB.ConstantNode{Float64}(:b0,[:j],[1.0,1.0,1.0,1.0,1.0,1.0]),VB.FactorInds([:j],[6],Dict(:τ=>[1],:b0=>[1],:a0=>[1])),Dict(:τ=>:x,:b0=>:β,:a0=>:α)),:β)],VB.RandomNode{Distributions.Normal}(:μ,[:j],[Distributions.Normal(μ=0.0, σ=1.0),Distributions.Normal(μ=0.0, σ=1.0),Distributions.Normal(μ=0.0, σ=1.0),Distributions.Normal(μ=0.0, σ=1.0),Distributions.Normal(μ=0.0, σ=1.0),Distributions.Normal(μ=0.0, σ=1.0)])=>Tuple{VB.Factor{N},Symbol}[(VB.LogNormalFactor{2}(VB.ConstantNode{Float64}(:y,[:i,:j],20x6 Array{Float64,2}:\n",
       " 0.384504    0.114404   0.951399    0.114746    0.0932579  0.815197 \n",
       " 0.0866127   0.71266    0.268901    0.625316    0.152168   0.0191707\n",
       " 0.533531    0.205955   0.00483902  0.393682    0.324667   0.404216 \n",
       " 0.00820373  0.97798    0.0542439   0.00335958  0.733016   0.111385 \n",
       " 0.344992    0.820456   0.979527    0.273284    0.104061   0.980868 \n",
       " 0.25699     0.763136   0.771089    0.517726    0.0695366  0.883507 \n",
       " 0.862059    0.943865   0.513901    0.53546     0.237812   0.0660545\n",
       " 0.708098    0.919058   0.279454    0.831335    0.0281315  0.82762  \n",
       " 0.0372723   0.132678   0.367436    0.894005    0.965252   0.919163 \n",
       " 0.827719    0.329342   0.641004    0.388938    0.26761    0.97431  \n",
       " 0.801448    0.537629   0.887523    0.282524    0.846208   0.179692 \n",
       " 0.86341     0.27154    0.640021    0.355246    0.280304   0.56511  \n",
       " 0.464666    0.0138079  0.944946    0.531632    0.638219   0.758676 \n",
       " 0.424058    0.899311   0.622775    0.00679769  0.580118   0.0147829\n",
       " 0.0806717   0.967409   0.818236    0.122092    0.34558    0.483801 \n",
       " 0.482546    0.112444   0.100192    0.562147    0.158741   0.840305 \n",
       " 0.790266    0.50615    0.548879    0.294635    0.27521    0.983211 \n",
       " 0.196037    0.664978   0.898709    0.848954    0.751071   0.554981 \n",
       " 0.976603    0.176798   0.581682    0.467776    0.99938    0.219989 \n",
       " 0.640402    0.682914   0.934148    0.224217    0.942576   0.120216 ),VB.RandomNode{Distributions.Normal}(:μ,[:j],[Distributions.Normal(μ=0.0, σ=1.0),Distributions.Normal(μ=0.0, σ=1.0),Distributions.Normal(μ=0.0, σ=1.0),Distributions.Normal(μ=0.0, σ=1.0),Distributions.Normal(μ=0.0, σ=1.0),Distributions.Normal(μ=0.0, σ=1.0)]),VB.RandomNode{Distributions.Gamma}(:τ,[:j],[Distributions.Gamma(α=1.1, θ=1.0),Distributions.Gamma(α=1.1, θ=1.0),Distributions.Gamma(α=1.1, θ=1.0),Distributions.Gamma(α=1.1, θ=1.0),Distributions.Gamma(α=1.1, θ=1.0),Distributions.Gamma(α=1.1, θ=1.0)]),VB.FactorInds([:i,:j],[20,6],Dict(:τ=>[2],:μ=>[2],:y=>[1,2])),Dict(:τ=>:τ,:μ=>:μ,:y=>:x)),:μ),(VB.LogNormalFactor{1}(VB.RandomNode{Distributions.Normal}(:μ,[:j],[Distributions.Normal(μ=0.0, σ=1.0),Distributions.Normal(μ=0.0, σ=1.0),Distributions.Normal(μ=0.0, σ=1.0),Distributions.Normal(μ=0.0, σ=1.0),Distributions.Normal(μ=0.0, σ=1.0),Distributions.Normal(μ=0.0, σ=1.0)]),VB.ConstantNode{Float64}(:μ0,[:j],[0.0,0.0,0.0,0.0,0.0,0.0]),VB.ConstantNode{Float64}(:τ0,[:j],[2.0,2.0,2.0,2.0,2.0,2.0]),VB.FactorInds([:j],[6],Dict(:τ0=>[1],:μ=>[1],:μ0=>[1])),Dict(:τ0=>:τ,:μ=>:x,:μ0=>:μ)),:x)],VB.ConstantNode{Float64}(:μ0,[:j],[0.0,0.0,0.0,0.0,0.0,0.0])=>Tuple{VB.Factor{N},Symbol}[(VB.LogNormalFactor{1}(VB.RandomNode{Distributions.Normal}(:μ,[:j],[Distributions.Normal(μ=0.0, σ=1.0),Distributions.Normal(μ=0.0, σ=1.0),Distributions.Normal(μ=0.0, σ=1.0),Distributions.Normal(μ=0.0, σ=1.0),Distributions.Normal(μ=0.0, σ=1.0),Distributions.Normal(μ=0.0, σ=1.0)]),VB.ConstantNode{Float64}(:μ0,[:j],[0.0,0.0,0.0,0.0,0.0,0.0]),VB.ConstantNode{Float64}(:τ0,[:j],[2.0,2.0,2.0,2.0,2.0,2.0]),VB.FactorInds([:j],[6],Dict(:τ0=>[1],:μ=>[1],:μ0=>[1])),Dict(:τ0=>:τ,:μ=>:x,:μ0=>:μ)),:μ)]))"
      ]
     },
     "execution_count": 14,
     "metadata": {},
     "output_type": "execute_result"
    }
   ],
   "source": [
    "m = VBModel([μ, τ, μ0, τ0, a0, b0, y], [obs, μ_prior, τ_prior])"
   ]
  },
  {
   "cell_type": "code",
   "execution_count": 15,
   "metadata": {
    "collapsed": false
   },
   "outputs": [
    {
     "data": {
      "text/plain": [
       "7-element Array{Any,1}:\n",
       " :μ \n",
       " :τ \n",
       " :μ0\n",
       " :τ0\n",
       " :a0\n",
       " :b0\n",
       " :y "
      ]
     },
     "execution_count": 15,
     "metadata": {},
     "output_type": "execute_result"
    }
   ],
   "source": [
    "[n.name for n in m.nodes]"
   ]
  },
  {
   "cell_type": "code",
   "execution_count": 16,
   "metadata": {
    "collapsed": false
   },
   "outputs": [
    {
     "data": {
      "text/plain": [
       "3-element Array{DataType,1}:\n",
       " VB.LogNormalFactor{2}\n",
       " VB.LogNormalFactor{1}\n",
       " VB.LogGammaFactor{1} "
      ]
     },
     "execution_count": 16,
     "metadata": {},
     "output_type": "execute_result"
    }
   ],
   "source": [
    "[typeof(f) for f in m.factors]"
   ]
  },
  {
   "cell_type": "code",
   "execution_count": 17,
   "metadata": {
    "collapsed": false
   },
   "outputs": [
    {
     "data": {
      "text/plain": [
       "Dict{VB.Node,Array{Tuple{VB.Factor{N},Symbol},1}} with 7 entries:\n",
       "  VB.ConstantNode{Float64… => Tuple{VB.Factor{N},Symbol}[(VB.LogGammaFactor{1}(…\n",
       "  VB.RandomNode{Distribut… => Tuple{VB.Factor{N},Symbol}[(VB.LogNormalFactor{2}…\n",
       "  VB.ConstantNode{Float64… => Tuple{VB.Factor{N},Symbol}[(VB.LogNormalFactor{2}…\n",
       "  VB.ConstantNode{Float64… => Tuple{VB.Factor{N},Symbol}[(VB.LogNormalFactor{1}…\n",
       "  VB.ConstantNode{Float64… => Tuple{VB.Factor{N},Symbol}[(VB.LogGammaFactor{1}(…\n",
       "  VB.RandomNode{Distribut… => Tuple{VB.Factor{N},Symbol}[(VB.LogNormalFactor{2}…\n",
       "  VB.ConstantNode{Float64… => Tuple{VB.Factor{N},Symbol}[(VB.LogNormalFactor{1}…"
      ]
     },
     "execution_count": 17,
     "metadata": {},
     "output_type": "execute_result"
    }
   ],
   "source": [
    "m.graph"
   ]
  },
  {
   "cell_type": "code",
   "execution_count": 18,
   "metadata": {
    "collapsed": false
   },
   "outputs": [
    {
     "data": {
      "text/plain": [
       "6-element Array{Tuple{Float64,Float64},1}:\n",
       " (10.747098263763775,-11.000000000000002)\n",
       " (11.827766830175905,-11.000000000000002)\n",
       " (12.989794210899973,-11.000000000000002)\n",
       " (9.101258377976134,-11.000000000000002) \n",
       " (9.672210347578188,-11.000000000000002) \n",
       " (11.794481875532338,-11.000000000000002)"
      ]
     },
     "execution_count": 18,
     "metadata": {},
     "output_type": "execute_result"
    }
   ],
   "source": [
    "naturals(obs, μ)"
   ]
  },
  {
   "cell_type": "code",
   "execution_count": 19,
   "metadata": {
    "collapsed": false
   },
   "outputs": [
    {
     "data": {
      "text/plain": [
       "6-element Array{Tuple{Float64,Float64},1}:\n",
       " (10.0,13.302950010206423)\n",
       " (10.0,13.976622767663539)\n",
       " (10.0,14.450072618332413)\n",
       " (10.0,12.363247212945705)\n",
       " (10.0,12.98054512709643) \n",
       " (10.0,14.136017606090698)"
      ]
     },
     "execution_count": 19,
     "metadata": {},
     "output_type": "execute_result"
    }
   ],
   "source": [
    "naturals(obs, τ)"
   ]
  },
  {
   "cell_type": "code",
   "execution_count": 20,
   "metadata": {
    "collapsed": false
   },
   "outputs": [
    {
     "data": {
      "text/plain": [
       "true"
      ]
     },
     "execution_count": 20,
     "metadata": {},
     "output_type": "execute_result"
    }
   ],
   "source": [
    "check_conjugate(τ, m)"
   ]
  },
  {
   "cell_type": "code",
   "execution_count": 21,
   "metadata": {
    "collapsed": false
   },
   "outputs": [
    {
     "data": {
      "text/plain": [
       "true"
      ]
     },
     "execution_count": 21,
     "metadata": {},
     "output_type": "execute_result"
    }
   ],
   "source": [
    "check_conjugate(μ, m)"
   ]
  },
  {
   "cell_type": "code",
   "execution_count": 22,
   "metadata": {
    "collapsed": false
   },
   "outputs": [
    {
     "data": {
      "text/plain": [
       "6-element Array{Distributions.Normal,1}:\n",
       " Distributions.Normal(μ=0.0, σ=1.0)\n",
       " Distributions.Normal(μ=0.0, σ=1.0)\n",
       " Distributions.Normal(μ=0.0, σ=1.0)\n",
       " Distributions.Normal(μ=0.0, σ=1.0)\n",
       " Distributions.Normal(μ=0.0, σ=1.0)\n",
       " Distributions.Normal(μ=0.0, σ=1.0)"
      ]
     },
     "execution_count": 22,
     "metadata": {},
     "output_type": "execute_result"
    }
   ],
   "source": [
    "μ.data"
   ]
  },
  {
   "cell_type": "code",
   "execution_count": 23,
   "metadata": {
    "collapsed": false
   },
   "outputs": [],
   "source": [
    "update!(μ, m, Val{:conjugate})"
   ]
  },
  {
   "cell_type": "code",
   "execution_count": 24,
   "metadata": {
    "collapsed": false
   },
   "outputs": [
    {
     "data": {
      "text/plain": [
       "6-element Array{Distributions.Normal,1}:\n",
       " Distributions.Normal(μ=-0.17882853266648782, σ=0.7071067811865476)\n",
       " Distributions.Normal(μ=0.5853195388586747, σ=0.7071067811865476)  \n",
       " Distributions.Normal(μ=1.406996979693105, σ=0.7071067811865476)   \n",
       " Distributions.Normal(μ=-1.3426130766542217, σ=0.7071067811865476) \n",
       " Distributions.Normal(μ=-0.9388890672167934, σ=0.7071067811865476) \n",
       " Distributions.Normal(μ=0.5617835217187213, σ=0.7071067811865476)  "
      ]
     },
     "execution_count": 24,
     "metadata": {},
     "output_type": "execute_result"
    }
   ],
   "source": [
    "μ.data"
   ]
  },
  {
   "cell_type": "code",
   "execution_count": null,
   "metadata": {
    "collapsed": true
   },
   "outputs": [],
   "source": []
  }
 ],
 "metadata": {
  "kernelspec": {
   "display_name": "Julia 0.4.1",
   "language": "julia",
   "name": "julia-0.4"
  },
  "language_info": {
   "file_extension": ".jl",
   "mimetype": "application/julia",
   "name": "julia",
   "version": "0.4.1"
  }
 },
 "nbformat": 4,
 "nbformat_minor": 0
}
