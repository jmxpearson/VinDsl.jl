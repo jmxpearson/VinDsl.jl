{
 "cells": [
  {
   "cell_type": "markdown",
   "metadata": {},
   "source": [
    "Let's try some basic tests of `VB.jl`:"
   ]
  },
  {
   "cell_type": "code",
   "execution_count": 1,
   "metadata": {
    "collapsed": false
   },
   "outputs": [],
   "source": [
    "include(\"VB.jl\")\n",
    "using VB\n",
    "using Distributions"
   ]
  },
  {
   "cell_type": "code",
   "execution_count": 2,
   "metadata": {
    "collapsed": false
   },
   "outputs": [
    {
     "name": "stdout",
     "output_type": "stream",
     "text": [
      "search: "
     ]
    },
    {
     "data": {
      "text/latex": [
       "A Variational Bayesian modeling approach. Models are defined by  bipartite graphs in which factors defining terms in the variational objective are connected to nodes defining variables.\n"
      ],
      "text/markdown": [
       "A Variational Bayesian modeling approach. Models are defined by  bipartite graphs in which factors defining terms in the variational objective are connected to nodes defining variables.\n"
      ],
      "text/plain": [
       "A Variational Bayesian modeling approach. Models are defined by  bipartite graphs in which factors defining terms in the variational objective are connected to nodes defining variables.\n"
      ]
     },
     "execution_count": 2,
     "metadata": {},
     "output_type": "execute_result"
    },
    {
     "name": "stdout",
     "output_type": "stream",
     "text": [
      "VB VBModel A_rdiv_Bt A_rdiv_Bc A_ldiv_Bt A_ldiv_Bc A_ldiv_B! At_rdiv_B\n",
      "\n"
     ]
    }
   ],
   "source": [
    "?VB"
   ]
  },
  {
   "cell_type": "markdown",
   "metadata": {},
   "source": [
    "Let's try to make a Gaussian node with several different sizes and parameterizations:"
   ]
  },
  {
   "cell_type": "code",
   "execution_count": 3,
   "metadata": {
    "collapsed": false
   },
   "outputs": [
    {
     "data": {
      "text/plain": [
       "3"
      ]
     },
     "execution_count": 3,
     "metadata": {},
     "output_type": "execute_result"
    }
   ],
   "source": [
    "ndims = (5, 5)  # node dimensions\n",
    "vardims = 3  # dimension of variable"
   ]
  },
  {
   "cell_type": "code",
   "execution_count": 4,
   "metadata": {
    "collapsed": false
   },
   "outputs": [],
   "source": [
    "μ = Array{Vector{Float64}}(ndims)\n",
    "Σ = Array{Matrix{Float64}}(ndims)\n",
    "\n",
    "for idx in eachindex(μ)\n",
    "    μ[idx] = rand(vardims)\n",
    "end\n",
    "\n",
    "for idx in eachindex(Σ)\n",
    "    C = rand(vardims, vardims)\n",
    "    Σ[idx] = C * C'\n",
    "end"
   ]
  },
  {
   "cell_type": "code",
   "execution_count": 5,
   "metadata": {
    "collapsed": false
   },
   "outputs": [
    {
     "data": {
      "text/plain": [
       "3-element Array{Float64,1}:\n",
       " 0.720048\n",
       " 0.314559\n",
       " 0.652488"
      ]
     },
     "execution_count": 5,
     "metadata": {},
     "output_type": "execute_result"
    }
   ],
   "source": [
    "μ[1]"
   ]
  },
  {
   "cell_type": "code",
   "execution_count": 6,
   "metadata": {
    "collapsed": false
   },
   "outputs": [
    {
     "data": {
      "text/plain": [
       "3x3 Array{Float64,2}:\n",
       " 0.136961  0.35471   0.165383\n",
       " 0.35471   1.43069   0.452166\n",
       " 0.165383  0.452166  0.478905"
      ]
     },
     "execution_count": 6,
     "metadata": {},
     "output_type": "execute_result"
    }
   ],
   "source": [
    "Σ[1]"
   ]
  },
  {
   "cell_type": "code",
   "execution_count": 7,
   "metadata": {
    "collapsed": false
   },
   "outputs": [
    {
     "data": {
      "text/plain": [
       "0.02934456965698479"
      ]
     },
     "execution_count": 7,
     "metadata": {},
     "output_type": "execute_result"
    }
   ],
   "source": [
    "det(Σ[2])"
   ]
  },
  {
   "cell_type": "code",
   "execution_count": 8,
   "metadata": {
    "collapsed": false
   },
   "outputs": [
    {
     "data": {
      "text/plain": [
       "5x5 Array{Distributions.MvNormal{PDMats.PDMat,Array{Float64,1}},2}:\n",
       " FullNormal(\n",
       "dim: 3\n",
       "μ: [0.7200481158970189,0.31455935400122126,0.6524880003299676]\n",
       "Σ: 3x3 Array{Float64,2}:\n",
       " 0.136961  0.35471   0.165383\n",
       " 0.35471   1.43069   0.452166\n",
       " 0.165383  0.452166  0.478905\n",
       ")\n",
       "   …  FullNormal(\n",
       "dim: 3\n",
       "μ: [0.6272607783132158,0.7759185944110354,0.003611624194325147]\n",
       "Σ: 3x3 Array{Float64,2}:\n",
       " 0.885208  0.977873  0.457397\n",
       " 0.977873  1.12024   0.39697 \n",
       " 0.457397  0.39697   0.541515\n",
       ")\n",
       "\n",
       " FullNormal(\n",
       "dim: 3\n",
       "μ: [0.4090587615519383,0.01872949414367464,0.22755534539464395]\n",
       "Σ: 3x3 Array{Float64,2}:\n",
       " 1.1205    0.804299  0.646437\n",
       " 0.804299  1.14864   1.05553 \n",
       " 0.646437  1.05553   1.0312  \n",
       ")\n",
       "     FullNormal(\n",
       "dim: 3\n",
       "μ: [0.029704938052093288,0.7406146263203168,0.845196619300917]\n",
       "Σ: 3x3 Array{Float64,2}:\n",
       " 1.17715   0.479757  0.960111\n",
       " 0.479757  0.203115  0.383751\n",
       " 0.960111  0.383751  1.57785 \n",
       ")\n",
       " \n",
       " FullNormal(\n",
       "dim: 3\n",
       "μ: [0.5449660109946102,0.38426214806573045,0.2599979564991193]\n",
       "Σ: 3x3 Array{Float64,2}:\n",
       " 0.850382  0.455378  0.111347\n",
       " 0.455378  0.523039  0.457679\n",
       " 0.111347  0.457679  0.617142\n",
       ")\n",
       "      FullNormal(\n",
       "dim: 3\n",
       "μ: [0.9037670888473266,0.6283776964154486,0.9756615261026564]\n",
       "Σ: 3x3 Array{Float64,2}:\n",
       " 1.26835   1.32934   0.650742\n",
       " 1.32934   1.45236   0.778039\n",
       " 0.650742  0.778039  0.49494 \n",
       ")\n",
       "  \n",
       " FullNormal(\n",
       "dim: 3\n",
       "μ: [0.47634021975956276,0.9862431891887227,0.4595751593567998]\n",
       "Σ: 3x3 Array{Float64,2}:\n",
       " 0.707304  0.198685  0.941696\n",
       " 0.198685  0.671895  1.02541 \n",
       " 0.941696  1.02541   2.22629 \n",
       ")\n",
       "      FullNormal(\n",
       "dim: 3\n",
       "μ: [0.5182185262709909,0.5845869068389591,0.4827343934347623]\n",
       "Σ: 3x3 Array{Float64,2}:\n",
       " 0.584141  0.557624  0.745069\n",
       " 0.557624  1.47315   1.111   \n",
       " 0.745069  1.111     1.37997 \n",
       ")\n",
       "  \n",
       " FullNormal(\n",
       "dim: 3\n",
       "μ: [0.5792039948690257,0.045380698682431,0.3790780181248168]\n",
       "Σ: 3x3 Array{Float64,2}:\n",
       " 1.80442  1.44423   1.02582 \n",
       " 1.44423  2.03489   0.834792\n",
       " 1.02582  0.834792  0.824704\n",
       ")\n",
       "           FullNormal(\n",
       "dim: 3\n",
       "μ: [0.553813874754997,0.07656472504329326,0.4105883266909225]\n",
       "Σ: 3x3 Array{Float64,2}:\n",
       " 0.930426  0.609921  1.20155 \n",
       " 0.609921  0.541821  0.806156\n",
       " 1.20155   0.806156  1.56062 \n",
       ")\n",
       "  "
      ]
     },
     "execution_count": 8,
     "metadata": {},
     "output_type": "execute_result"
    }
   ],
   "source": [
    "pars = (μ, Σ)\n",
    "aa = map(MultivariateNormal, pars...)"
   ]
  },
  {
   "cell_type": "code",
   "execution_count": 9,
   "metadata": {
    "collapsed": false
   },
   "outputs": [],
   "source": [
    "rr = RandomNode(aa, Factor[]);"
   ]
  },
  {
   "cell_type": "code",
   "execution_count": 10,
   "metadata": {
    "collapsed": false
   },
   "outputs": [
    {
     "data": {
      "text/plain": [
       "Array{Distributions.MvNormal{PDMats.PDMat,Array{Float64,1}},2}"
      ]
     },
     "execution_count": 10,
     "metadata": {},
     "output_type": "execute_result"
    }
   ],
   "source": [
    "typeof(aa)"
   ]
  },
  {
   "cell_type": "code",
   "execution_count": 11,
   "metadata": {
    "collapsed": false
   },
   "outputs": [
    {
     "data": {
      "text/plain": [
       "true"
      ]
     },
     "execution_count": 11,
     "metadata": {},
     "output_type": "execute_result"
    }
   ],
   "source": [
    "typeof(aa) <: AbstractArray{typeof(aa[1]), 2}"
   ]
  },
  {
   "cell_type": "code",
   "execution_count": 12,
   "metadata": {
    "collapsed": false
   },
   "outputs": [],
   "source": [
    "ss = RandomNode(MultivariateNormal, pars...);"
   ]
  },
  {
   "cell_type": "code",
   "execution_count": 13,
   "metadata": {
    "collapsed": false,
    "scrolled": true
   },
   "outputs": [
    {
     "data": {
      "text/plain": [
       "5x5 Array{Array{Float64,1},2}:\n",
       " [0.7200481158970189,0.31455935400122126,0.6524880003299676]   …  [0.6272607783132158,0.7759185944110354,0.003611624194325147]\n",
       " [0.4090587615519383,0.01872949414367464,0.22755534539464395]     [0.029704938052093288,0.7406146263203168,0.845196619300917] \n",
       " [0.5449660109946102,0.38426214806573045,0.2599979564991193]      [0.9037670888473266,0.6283776964154486,0.9756615261026564]  \n",
       " [0.47634021975956276,0.9862431891887227,0.4595751593567998]      [0.5182185262709909,0.5845869068389591,0.4827343934347623]  \n",
       " [0.5792039948690257,0.045380698682431,0.3790780181248168]        [0.553813874754997,0.07656472504329326,0.4105883266909225]  "
      ]
     },
     "execution_count": 13,
     "metadata": {},
     "output_type": "execute_result"
    }
   ],
   "source": [
    "E(ss)"
   ]
  },
  {
   "cell_type": "code",
   "execution_count": 14,
   "metadata": {
    "collapsed": false
   },
   "outputs": [
    {
     "name": "stdout",
     "output_type": "stream",
     "text": [
      "search: "
     ]
    },
    {
     "data": {
      "text/latex": [
       "Calculates the expected value of a Node x.\n"
      ],
      "text/markdown": [
       "Calculates the expected value of a Node x.\n"
      ],
      "text/plain": [
       "Calculates the expected value of a Node x.\n"
      ]
     },
     "execution_count": 14,
     "metadata": {},
     "output_type": "execute_result"
    }
   ],
   "source": [
    "?E"
   ]
  },
  {
   "cell_type": "code",
   "execution_count": 15,
   "metadata": {
    "collapsed": false
   },
   "outputs": [
    {
     "data": {
      "text/plain": [
       "Distributions.MvNormal{PDMats.PDMat,Array{Float64,1}}"
      ]
     },
     "execution_count": 15,
     "metadata": {},
     "output_type": "execute_result"
    }
   ],
   "source": [
    "typeof(ss).parameters[1]"
   ]
  },
  {
   "cell_type": "markdown",
   "metadata": {},
   "source": [
    "# Make a factor and check its value"
   ]
  },
  {
   "cell_type": "code",
   "execution_count": 16,
   "metadata": {
    "collapsed": false
   },
   "outputs": [
    {
     "ename": "LoadError",
     "evalue": "LoadError: MethodError: `convert` has no method matching convert(::Type{Union{VB.ConstantNode{T<:Number,N},VB.RandomNode{D<:Distributions.Distribution{F<:Distributions.VariateForm,S<:Distributions.ValueSupport},N}}}, ::Array{Float64,1})\nThis may have arisen from a call to the constructor Union{VB.ConstantNode{T<:Number,N},VB.RandomNode{D<:Distributions.Distribution{F<:Distributions.VariateForm,S<:Distributions.ValueSupport},N}}(...),\nsince type constructors fall back to convert methods.\nClosest candidates are:\n  call{T}(::Type{T}, ::Any)\n  convert{T}(::Type{T}, !Matched::T)\nwhile loading In[16], in expression starting on line 4",
     "output_type": "error",
     "traceback": [
      "LoadError: MethodError: `convert` has no method matching convert(::Type{Union{VB.ConstantNode{T<:Number,N},VB.RandomNode{D<:Distributions.Distribution{F<:Distributions.VariateForm,S<:Distributions.ValueSupport},N}}}, ::Array{Float64,1})\nThis may have arisen from a call to the constructor Union{VB.ConstantNode{T<:Number,N},VB.RandomNode{D<:Distributions.Distribution{F<:Distributions.VariateForm,S<:Distributions.ValueSupport},N}}(...),\nsince type constructors fall back to convert methods.\nClosest candidates are:\n  call{T}(::Type{T}, ::Any)\n  convert{T}(::Type{T}, !Matched::T)\nwhile loading In[16], in expression starting on line 4",
      "",
      " in call at /Users/jmxp/code/vbgraph/types.jl:44"
     ]
    }
   ],
   "source": [
    "μ = rand(10)\n",
    "τ = rand(10)\n",
    "x = RandomNode(Normal, rand(10), rand(10))\n",
    "f = LogNormalFactor(x, μ, τ)"
   ]
  },
  {
   "cell_type": "code",
   "execution_count": 17,
   "metadata": {
    "collapsed": false
   },
   "outputs": [
    {
     "data": {
      "text/plain": [
       "VB.ConstantNode{Float64,1}([0.42971973365110383,0.03166049107083846,0.6925697375152744,0.719932209970078,0.20650517194051732,0.9386185743587601,0.2879769780446111,0.7197382089444124,0.5887029181557208,0.253605921938421],VB.Factor[])"
      ]
     },
     "execution_count": 17,
     "metadata": {},
     "output_type": "execute_result"
    },
    {
     "name": "stdout",
     "output_type": "stream",
     "text": [
      "E e eu ENV end Expr eye exp eta esc erf eps eof eig Enum Elog else expm\n",
      "\n"
     ]
    }
   ],
   "source": [
    "convert(ConstantNode, μ)"
   ]
  },
  {
   "cell_type": "code",
   "execution_count": null,
   "metadata": {
    "collapsed": true
   },
   "outputs": [],
   "source": []
  }
 ],
 "metadata": {
  "kernelspec": {
   "display_name": "Julia 0.4.1",
   "language": "julia",
   "name": "julia-0.4"
  },
  "language_info": {
   "file_extension": ".jl",
   "mimetype": "application/julia",
   "name": "julia",
   "version": "0.4.1"
  }
 },
 "nbformat": 4,
 "nbformat_minor": 0
}
