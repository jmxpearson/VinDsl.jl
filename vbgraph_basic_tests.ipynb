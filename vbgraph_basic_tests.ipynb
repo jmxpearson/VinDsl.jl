{
 "cells": [
  {
   "cell_type": "markdown",
   "metadata": {},
   "source": [
    "Let's try some basic tests of `VB.jl`:"
   ]
  },
  {
   "cell_type": "code",
   "execution_count": 1,
   "metadata": {
    "collapsed": false
   },
   "outputs": [],
   "source": [
    "include(\"VB.jl\")\n",
    "using VB\n",
    "using Distributions"
   ]
  },
  {
   "cell_type": "markdown",
   "metadata": {},
   "source": [
    "Let's try to make a Gaussian node with several different sizes and parameterizations:"
   ]
  },
  {
   "cell_type": "code",
   "execution_count": 2,
   "metadata": {
    "collapsed": false
   },
   "outputs": [
    {
     "data": {
      "text/plain": [
       "3"
      ]
     },
     "execution_count": 2,
     "metadata": {},
     "output_type": "execute_result"
    }
   ],
   "source": [
    "ndims = (5, 5)  # node dimensions\n",
    "vardims = 3  # dimension of variable"
   ]
  },
  {
   "cell_type": "code",
   "execution_count": 3,
   "metadata": {
    "collapsed": false
   },
   "outputs": [],
   "source": [
    "μ = Array{Vector{Float64}}(ndims)\n",
    "Σ = Array{Matrix{Float64}}(ndims)\n",
    "\n",
    "for idx in eachindex(μ)\n",
    "    μ[idx] = rand(vardims)\n",
    "end\n",
    "\n",
    "for idx in eachindex(Σ)\n",
    "    C = rand(vardims, vardims)\n",
    "    Σ[idx] = C * C'\n",
    "end"
   ]
  },
  {
   "cell_type": "code",
   "execution_count": 4,
   "metadata": {
    "collapsed": false
   },
   "outputs": [
    {
     "data": {
      "text/plain": [
       "3-element Array{Float64,1}:\n",
       " 0.489093\n",
       " 0.998578\n",
       " 0.744676"
      ]
     },
     "execution_count": 4,
     "metadata": {},
     "output_type": "execute_result"
    }
   ],
   "source": [
    "μ[1]"
   ]
  },
  {
   "cell_type": "code",
   "execution_count": 5,
   "metadata": {
    "collapsed": false
   },
   "outputs": [
    {
     "data": {
      "text/plain": [
       "3x3 Array{Float64,2}:\n",
       " 0.395888  0.230217  0.304566\n",
       " 0.230217  0.32755   0.566262\n",
       " 0.304566  0.566262  1.0931  "
      ]
     },
     "execution_count": 5,
     "metadata": {},
     "output_type": "execute_result"
    }
   ],
   "source": [
    "Σ[1]"
   ]
  },
  {
   "cell_type": "code",
   "execution_count": 6,
   "metadata": {
    "collapsed": false
   },
   "outputs": [
    {
     "data": {
      "text/plain": [
       "0.00030061369156356263"
      ]
     },
     "execution_count": 6,
     "metadata": {},
     "output_type": "execute_result"
    }
   ],
   "source": [
    "det(Σ[2])"
   ]
  },
  {
   "cell_type": "code",
   "execution_count": 7,
   "metadata": {
    "collapsed": false
   },
   "outputs": [
    {
     "data": {
      "text/plain": [
       "5x5 Array{Distributions.MvNormal{PDMats.PDMat,Array{Float64,1}},2}:\n",
       " FullNormal(\n",
       "dim: 3\n",
       "μ: [0.4890929542019471,0.998577679606065,0.7446756880651466]\n",
       "Σ: 3x3 Array{Float64,2}:\n",
       " 0.395888  0.230217  0.304566\n",
       " 0.230217  0.32755   0.566262\n",
       " 0.304566  0.566262  1.0931  \n",
       ")\n",
       "      …  FullNormal(\n",
       "dim: 3\n",
       "μ: [0.30407479081971056,0.26079777830213957,0.7417299669493711]\n",
       "Σ: 3x3 Array{Float64,2}:\n",
       " 0.361004  0.46349   0.533587\n",
       " 0.46349   0.610091  0.638928\n",
       " 0.533587  0.638928  1.03284 \n",
       ")\n",
       " \n",
       " FullNormal(\n",
       "dim: 3\n",
       "μ: [0.8026314802997097,0.3860228677191042,0.5292625645608557]\n",
       "Σ: 3x3 Array{Float64,2}:\n",
       " 0.536032  0.113482   0.882543\n",
       " 0.113482  0.0492483  0.26625 \n",
       " 0.882543  0.26625    1.72529 \n",
       ")\n",
       "     FullNormal(\n",
       "dim: 3\n",
       "μ: [0.4057394593878376,0.09781189889808206,0.8516684170410216]\n",
       "Σ: 3x3 Array{Float64,2}:\n",
       " 1.25973   0.867413  1.07445 \n",
       " 0.867413  0.890426  0.568102\n",
       " 1.07445   0.568102  1.07685 \n",
       ")\n",
       "  \n",
       " FullNormal(\n",
       "dim: 3\n",
       "μ: [0.9391739582596152,0.323968995631434,0.6807634983253039]\n",
       "Σ: 3x3 Array{Float64,2}:\n",
       " 1.17425   1.3633    0.760144\n",
       " 1.3633    1.66484   0.966118\n",
       " 0.760144  0.966118  0.605326\n",
       ")\n",
       "         FullNormal(\n",
       "dim: 3\n",
       "μ: [0.7055173442542546,0.424503045209506,0.22836912808623655]\n",
       "Σ: 3x3 Array{Float64,2}:\n",
       " 0.801136  0.52767   0.577763\n",
       " 0.52767   0.671246  0.671255\n",
       " 0.577763  0.671255  0.796063\n",
       ")\n",
       "   \n",
       " FullNormal(\n",
       "dim: 3\n",
       "μ: [0.3417482444823985,0.9348047947286058,0.9093173482226728]\n",
       "Σ: 3x3 Array{Float64,2}:\n",
       " 1.90028   0.956351  0.45376 \n",
       " 0.956351  0.626311  0.207932\n",
       " 0.45376   0.207932  0.11581 \n",
       ")\n",
       "        FullNormal(\n",
       "dim: 3\n",
       "μ: [0.5924901520286041,0.8993221753367155,0.9705102940101789]\n",
       "Σ: 3x3 Array{Float64,2}:\n",
       " 0.0568234  0.121733  0.243793\n",
       " 0.121733   0.305892  0.524453\n",
       " 0.243793   0.524453  1.14693 \n",
       ")\n",
       "\n",
       " FullNormal(\n",
       "dim: 3\n",
       "μ: [0.655461017461884,0.45635369650208024,0.16343599632859274]\n",
       "Σ: 3x3 Array{Float64,2}:\n",
       " 0.482805  0.246646  0.378754\n",
       " 0.246646  0.184887  0.151745\n",
       " 0.378754  0.151745  0.35656 \n",
       ")\n",
       "       FullNormal(\n",
       "dim: 3\n",
       "μ: [0.4276855543986968,0.4698946020639341,0.1945845438023972]\n",
       "Σ: 3x3 Array{Float64,2}:\n",
       " 0.81725   0.615711  0.911736\n",
       " 0.615711  1.3394    1.26643 \n",
       " 0.911736  1.26643   1.51974 \n",
       ")\n",
       "   "
      ]
     },
     "execution_count": 7,
     "metadata": {},
     "output_type": "execute_result"
    }
   ],
   "source": [
    "pars = (μ, Σ)\n",
    "aa = map(MultivariateNormal, pars...)"
   ]
  },
  {
   "cell_type": "code",
   "execution_count": 8,
   "metadata": {
    "collapsed": false
   },
   "outputs": [],
   "source": [
    "rr = RandomNode(aa, Factor[]);"
   ]
  },
  {
   "cell_type": "code",
   "execution_count": 9,
   "metadata": {
    "collapsed": false
   },
   "outputs": [
    {
     "data": {
      "text/plain": [
       "Array{Distributions.MvNormal{PDMats.PDMat,Array{Float64,1}},2}"
      ]
     },
     "execution_count": 9,
     "metadata": {},
     "output_type": "execute_result"
    }
   ],
   "source": [
    "typeof(aa)"
   ]
  },
  {
   "cell_type": "code",
   "execution_count": 10,
   "metadata": {
    "collapsed": false
   },
   "outputs": [
    {
     "data": {
      "text/plain": [
       "true"
      ]
     },
     "execution_count": 10,
     "metadata": {},
     "output_type": "execute_result"
    }
   ],
   "source": [
    "typeof(aa) <: AbstractArray{typeof(aa[1]), 2}"
   ]
  },
  {
   "cell_type": "code",
   "execution_count": 11,
   "metadata": {
    "collapsed": false
   },
   "outputs": [],
   "source": [
    "ss = RandomNode(MultivariateNormal, pars...);"
   ]
  },
  {
   "cell_type": "code",
   "execution_count": 12,
   "metadata": {
    "collapsed": false,
    "scrolled": true
   },
   "outputs": [
    {
     "data": {
      "text/plain": [
       "5x5 Array{Array{Float64,1},2}:\n",
       " [0.4890929542019471,0.998577679606065,0.7446756880651466]    …  [0.30407479081971056,0.26079777830213957,0.7417299669493711]\n",
       " [0.8026314802997097,0.3860228677191042,0.5292625645608557]      [0.4057394593878376,0.09781189889808206,0.8516684170410216] \n",
       " [0.9391739582596152,0.323968995631434,0.6807634983253039]       [0.7055173442542546,0.424503045209506,0.22836912808623655]  \n",
       " [0.3417482444823985,0.9348047947286058,0.9093173482226728]      [0.5924901520286041,0.8993221753367155,0.9705102940101789]  \n",
       " [0.655461017461884,0.45635369650208024,0.16343599632859274]     [0.4276855543986968,0.4698946020639341,0.1945845438023972]  "
      ]
     },
     "execution_count": 12,
     "metadata": {},
     "output_type": "execute_result"
    }
   ],
   "source": [
    "E(ss)"
   ]
  },
  {
   "cell_type": "code",
   "execution_count": 14,
   "metadata": {
    "collapsed": false
   },
   "outputs": [
    {
     "data": {
      "text/plain": [
       "Distributions.MvNormal{PDMats.PDMat,Array{Float64,1}}"
      ]
     },
     "execution_count": 14,
     "metadata": {},
     "output_type": "execute_result"
    }
   ],
   "source": [
    "typeof(ss).parameters[1]"
   ]
  },
  {
   "cell_type": "markdown",
   "metadata": {},
   "source": [
    "# Make a factor and check its value"
   ]
  },
  {
   "cell_type": "code",
   "execution_count": 15,
   "metadata": {
    "collapsed": false
   },
   "outputs": [
    {
     "name": "stdout",
     "output_type": "stream",
     "text": [
      "E e eu ENV end Expr eye exp eta esc erf eps eof eig Enum Elog else expm\n",
      "\n"
     ]
    },
    {
     "data": {
      "text/plain": [
       "VB.LogNormalFactor(VB.RandomNode{Distributions.Normal,1}([Distributions.Normal(μ=0.30656922939689357, σ=0.7570414125730647),Distributions.Normal(μ=0.9075813510966417, σ=0.04646121851637797),Distributions.Normal(μ=0.4064100269195168, σ=0.09281022537270722),Distributions.Normal(μ=0.6451472102296509, σ=0.7509903228619179),Distributions.Normal(μ=0.1924355598680565, σ=0.5591951824171295),Distributions.Normal(μ=0.6234720180209079, σ=0.6803830112563782),Distributions.Normal(μ=0.6684461190157414, σ=0.6130311594168114),Distributions.Normal(μ=0.9677655423967626, σ=0.6992227421550465),Distributions.Normal(μ=0.41313094343213796, σ=0.5546138310497941),Distributions.Normal(μ=0.029127897279531467, σ=0.0878966907875709)],VB.Factor[]),VB.ConstantNode{Float64,1}([0.9723005968820346,0.8208454455574141,0.5961188491605391,0.4413263881912213,0.9185093014419807,0.7850265716626164,0.6348436867891509,0.2924318309804952,0.8111268452634459,0.8170486312948004],VB.Factor[]),VB.ConstantNode{Float64,1}([0.9089515916047479,0.7120157707504442,0.46806505378117746,0.9977528462716581,0.9622676764945528,0.0346382835957908,0.8793125441711622,0.4131473579487013,0.3308683957966385,0.5297450709056415],VB.Factor[]))"
      ]
     },
     "execution_count": 15,
     "metadata": {},
     "output_type": "execute_result"
    }
   ],
   "source": [
    "μ = rand(10)\n",
    "τ = rand(10)\n",
    "x = RandomNode(Normal, rand(10), rand(10))\n",
    "f = LogNormalFactor(x, μ, τ)"
   ]
  },
  {
   "cell_type": "code",
   "execution_count": 16,
   "metadata": {
    "collapsed": false
   },
   "outputs": [
    {
     "data": {
      "text/plain": [
       "-7.308449555975237"
      ]
     },
     "execution_count": 16,
     "metadata": {},
     "output_type": "execute_result"
    }
   ],
   "source": [
    "value(f)"
   ]
  },
  {
   "cell_type": "code",
   "execution_count": 17,
   "metadata": {
    "collapsed": false
   },
   "outputs": [
    {
     "data": {
      "text/plain": [
       "VB.LogNormalFactor(VB.RandomNode{Distributions.Normal,1}([Distributions.Normal(μ=0.30656922939689357, σ=0.7570414125730647),Distributions.Normal(μ=0.9075813510966417, σ=0.04646121851637797),Distributions.Normal(μ=0.4064100269195168, σ=0.09281022537270722),Distributions.Normal(μ=0.6451472102296509, σ=0.7509903228619179),Distributions.Normal(μ=0.1924355598680565, σ=0.5591951824171295),Distributions.Normal(μ=0.6234720180209079, σ=0.6803830112563782),Distributions.Normal(μ=0.6684461190157414, σ=0.6130311594168114),Distributions.Normal(μ=0.9677655423967626, σ=0.6992227421550465),Distributions.Normal(μ=0.41313094343213796, σ=0.5546138310497941),Distributions.Normal(μ=0.029127897279531467, σ=0.0878966907875709)],VB.Factor[VB.LogNormalFactor(#= circular reference =#)]),VB.ConstantNode{Float64,1}([0.9723005968820346,0.8208454455574141,0.5961188491605391,0.4413263881912213,0.9185093014419807,0.7850265716626164,0.6348436867891509,0.2924318309804952,0.8111268452634459,0.8170486312948004],VB.Factor[VB.LogNormalFactor(#= circular reference =#)]),VB.ConstantNode{Float64,1}([0.9089515916047479,0.7120157707504442,0.46806505378117746,0.9977528462716581,0.9622676764945528,0.0346382835957908,0.8793125441711622,0.4131473579487013,0.3308683957966385,0.5297450709056415],VB.Factor[VB.LogNormalFactor(#= circular reference =#)]))"
      ]
     },
     "execution_count": 17,
     "metadata": {},
     "output_type": "execute_result"
    }
   ],
   "source": [
    "register(f)\n",
    "x.factors[1]"
   ]
  },
  {
   "cell_type": "code",
   "execution_count": 18,
   "metadata": {
    "collapsed": false
   },
   "outputs": [
    {
     "data": {
      "text/plain": [
       "3.343791852305291"
      ]
     },
     "execution_count": 18,
     "metadata": {},
     "output_type": "execute_result"
    }
   ],
   "source": [
    "g = EntropyFactor(x)\n",
    "value(g)"
   ]
  },
  {
   "cell_type": "code",
   "execution_count": null,
   "metadata": {
    "collapsed": true
   },
   "outputs": [],
   "source": []
  }
 ],
 "metadata": {
  "kernelspec": {
   "display_name": "Julia 0.4.1",
   "language": "julia",
   "name": "julia-0.4"
  },
  "language_info": {
   "file_extension": ".jl",
   "mimetype": "application/julia",
   "name": "julia",
   "version": "0.4.1"
  }
 },
 "nbformat": 4,
 "nbformat_minor": 0
}
