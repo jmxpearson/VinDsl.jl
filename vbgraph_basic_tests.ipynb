{
 "cells": [
  {
   "cell_type": "markdown",
   "metadata": {},
   "source": [
    "Let's try some basic tests of `VB.jl`:"
   ]
  },
  {
   "cell_type": "code",
   "execution_count": 1,
   "metadata": {
    "collapsed": false
   },
   "outputs": [],
   "source": [
    "include(\"VB.jl\")\n",
    "using VB\n",
    "using Distributions"
   ]
  },
  {
   "cell_type": "markdown",
   "metadata": {},
   "source": [
    "Let's try to make a Gaussian node with several different sizes and parameterizations:"
   ]
  },
  {
   "cell_type": "code",
   "execution_count": 2,
   "metadata": {
    "collapsed": false
   },
   "outputs": [
    {
     "data": {
      "text/plain": [
       "3"
      ]
     },
     "execution_count": 2,
     "metadata": {},
     "output_type": "execute_result"
    }
   ],
   "source": [
    "ndims = (5, 5)  # node dimensions\n",
    "vardims = 3  # dimension of variable"
   ]
  },
  {
   "cell_type": "code",
   "execution_count": 3,
   "metadata": {
    "collapsed": false
   },
   "outputs": [],
   "source": [
    "μ = Array{Vector{Float64}}(ndims)\n",
    "Σ = Array{Matrix{Float64}}(ndims)\n",
    "\n",
    "for idx in eachindex(μ)\n",
    "    μ[idx] = rand(vardims)\n",
    "end\n",
    "\n",
    "for idx in eachindex(Σ)\n",
    "    C = rand(vardims, vardims)\n",
    "    Σ[idx] = C * C'\n",
    "end"
   ]
  },
  {
   "cell_type": "code",
   "execution_count": 4,
   "metadata": {
    "collapsed": false
   },
   "outputs": [
    {
     "data": {
      "text/plain": [
       "3-element Array{Float64,1}:\n",
       " 0.83747 \n",
       " 0.46995 \n",
       " 0.686269"
      ]
     },
     "execution_count": 4,
     "metadata": {},
     "output_type": "execute_result"
    }
   ],
   "source": [
    "μ[1]"
   ]
  },
  {
   "cell_type": "code",
   "execution_count": 5,
   "metadata": {
    "collapsed": false
   },
   "outputs": [
    {
     "data": {
      "text/plain": [
       "3x3 Array{Float64,2}:\n",
       " 1.31002   0.882374  1.05186 \n",
       " 0.882374  0.803627  0.858332\n",
       " 1.05186   0.858332  0.96975 "
      ]
     },
     "execution_count": 5,
     "metadata": {},
     "output_type": "execute_result"
    }
   ],
   "source": [
    "Σ[1]"
   ]
  },
  {
   "cell_type": "code",
   "execution_count": 6,
   "metadata": {
    "collapsed": false
   },
   "outputs": [
    {
     "data": {
      "text/plain": [
       "0.014012860947621825"
      ]
     },
     "execution_count": 6,
     "metadata": {},
     "output_type": "execute_result"
    }
   ],
   "source": [
    "det(Σ[2])"
   ]
  },
  {
   "cell_type": "code",
   "execution_count": 7,
   "metadata": {
    "collapsed": false
   },
   "outputs": [],
   "source": [
    "pars = (μ, Σ)\n",
    "aa = map(MultivariateNormal, pars...);"
   ]
  },
  {
   "cell_type": "code",
   "execution_count": 8,
   "metadata": {
    "collapsed": false
   },
   "outputs": [],
   "source": [
    "rr = RandomNode(aa, Dict{Factor, Symbol}());"
   ]
  },
  {
   "cell_type": "code",
   "execution_count": 9,
   "metadata": {
    "collapsed": false
   },
   "outputs": [
    {
     "data": {
      "text/plain": [
       "Array{Distributions.MvNormal{PDMats.PDMat,Array{Float64,1}},2}"
      ]
     },
     "execution_count": 9,
     "metadata": {},
     "output_type": "execute_result"
    }
   ],
   "source": [
    "typeof(aa)"
   ]
  },
  {
   "cell_type": "code",
   "execution_count": 10,
   "metadata": {
    "collapsed": false
   },
   "outputs": [
    {
     "data": {
      "text/plain": [
       "true"
      ]
     },
     "execution_count": 10,
     "metadata": {},
     "output_type": "execute_result"
    }
   ],
   "source": [
    "typeof(aa) <: AbstractArray{typeof(aa[1]), 2}"
   ]
  },
  {
   "cell_type": "code",
   "execution_count": 11,
   "metadata": {
    "collapsed": false
   },
   "outputs": [],
   "source": [
    "ss = RandomNode(MultivariateNormal, pars...);"
   ]
  },
  {
   "cell_type": "code",
   "execution_count": 12,
   "metadata": {
    "collapsed": false,
    "scrolled": true
   },
   "outputs": [
    {
     "data": {
      "text/plain": [
       "5x5 Array{Array{Float64,1},2}:\n",
       " [0.8374697546443692,0.4699503976380863,0.6862686254399861]    …  [0.6701571375371376,0.2727827252436228,0.6972640349466082]  \n",
       " [0.6105544249506991,0.25707085004064023,0.3117256038822125]      [0.669778919191172,0.5462262991069637,0.591383545681128]    \n",
       " [0.839448192682124,0.5893122654111265,0.10826080911230251]       [0.2335471392073163,0.827141037840821,0.8548403767573183]   \n",
       " [0.18124070071910303,0.2188128607196349,0.9388624459689845]      [0.5531960244258731,0.03327988531334092,0.43849622959790846]\n",
       " [0.04065274921084261,0.8129384972043578,0.05392478595882122]     [0.9107168155186103,0.268730669897596,0.006926652906375619] "
      ]
     },
     "execution_count": 12,
     "metadata": {},
     "output_type": "execute_result"
    }
   ],
   "source": [
    "E(ss)"
   ]
  },
  {
   "cell_type": "code",
   "execution_count": 13,
   "metadata": {
    "collapsed": false
   },
   "outputs": [
    {
     "data": {
      "text/plain": [
       "Distributions.MvNormal{PDMats.PDMat,Array{Float64,1}}"
      ]
     },
     "execution_count": 13,
     "metadata": {},
     "output_type": "execute_result"
    }
   ],
   "source": [
    "typeof(ss).parameters[1]"
   ]
  },
  {
   "cell_type": "markdown",
   "metadata": {},
   "source": [
    "# Make a factor and check its value"
   ]
  },
  {
   "cell_type": "code",
   "execution_count": 14,
   "metadata": {
    "collapsed": false
   },
   "outputs": [
    {
     "data": {
      "text/plain": [
       "VB.LogNormalFactor(VB.RandomNode{Distributions.Normal,1}([Distributions.Normal(μ=0.5768655548197468, σ=0.4637209586860651),Distributions.Normal(μ=0.08826648224037292, σ=0.8927779042993595),Distributions.Normal(μ=0.8030736627243291, σ=0.5721874906817204),Distributions.Normal(μ=0.15928670574916048, σ=0.18963004494103775),Distributions.Normal(μ=0.1390278916551868, σ=0.059081698497177815),Distributions.Normal(μ=0.5742430168391397, σ=0.20311847303268937),Distributions.Normal(μ=0.23189709030724837, σ=0.8385544068074888),Distributions.Normal(μ=0.597365908599919, σ=0.89069025593726),Distributions.Normal(μ=0.4125069579334055, σ=0.9600758170143087),Distributions.Normal(μ=0.6289884559362433, σ=0.6567286254894267)],Dict{VB.Factor,Symbol}()),VB.ConstantNode{Float64,1}([0.8829454447584395,0.12597182089718695,0.8443555517614145,0.8919572544311152,0.3784100880232084,0.6456179635872199,0.6010315534708042,0.6438729791615216,0.3056312389704643,0.02048756743332003],Dict{VB.Factor,Symbol}()),VB.ConstantNode{Float64,1}([0.3037487752286989,0.9151004481391609,0.7729023608069732,0.8029981758581632,0.17651584176491908,0.4161428825248521,0.6313121342022996,0.7249628132835562,0.4603280504988976,0.4135360871019582],Dict{VB.Factor,Symbol}()))"
      ]
     },
     "execution_count": 14,
     "metadata": {},
     "output_type": "execute_result"
    }
   ],
   "source": [
    "μ = rand(10)\n",
    "τ = rand(10)\n",
    "x = RandomNode(Normal, rand(10), rand(10))\n",
    "f = LogNormalFactor(x, μ, τ)"
   ]
  },
  {
   "cell_type": "code",
   "execution_count": 15,
   "metadata": {
    "collapsed": false
   },
   "outputs": [
    {
     "data": {
      "text/plain": [
       "-7.503230381747649"
      ]
     },
     "execution_count": 15,
     "metadata": {},
     "output_type": "execute_result"
    }
   ],
   "source": [
    "value(f)"
   ]
  },
  {
   "cell_type": "code",
   "execution_count": 16,
   "metadata": {
    "collapsed": false
   },
   "outputs": [
    {
     "data": {
      "text/plain": [
       "Dict{VB.Factor,Symbol} with 1 entry:\n",
       "  VB.LogNormalFactor(VB.R… => :x"
      ]
     },
     "execution_count": 16,
     "metadata": {},
     "output_type": "execute_result"
    }
   ],
   "source": [
    "register(f)\n",
    "x.factormap"
   ]
  },
  {
   "cell_type": "code",
   "execution_count": 17,
   "metadata": {
    "collapsed": false
   },
   "outputs": [
    {
     "data": {
      "text/plain": [
       "5.91066509603152"
      ]
     },
     "execution_count": 17,
     "metadata": {},
     "output_type": "execute_result"
    }
   ],
   "source": [
    "g = EntropyFactor(x)\n",
    "value(g)"
   ]
  },
  {
   "cell_type": "code",
   "execution_count": 18,
   "metadata": {
    "collapsed": false
   },
   "outputs": [
    {
     "data": {
      "text/plain": [
       "10-element Array{Tuple{Float64,Float64},1}:\n",
       " (2.6826323503294716,-2.32517986896246)   \n",
       " (0.11074113037722648,-0.6273113392898629)\n",
       " (2.452893347545838,-1.5271907555931403)  \n",
       " (4.4296073860012966,-13.904510628077455) \n",
       " (39.82868728330323,-143.23991685814116)  \n",
       " (13.918642385562631,-12.119122024483932) \n",
       " (0.32978645036769094,-0.7110620705303927)\n",
       " (0.752986225373693,-0.6302554385288829)  \n",
       " (0.4475280048888758,-0.5424490378670461) \n",
       " (1.4583802735074198,-1.1593060729044975) "
      ]
     },
     "execution_count": 18,
     "metadata": {},
     "output_type": "execute_result"
    }
   ],
   "source": [
    "naturals(x)"
   ]
  },
  {
   "cell_type": "markdown",
   "metadata": {},
   "source": [
    "# Let's make a simple model"
   ]
  },
  {
   "cell_type": "markdown",
   "metadata": {},
   "source": [
    "We want a simple model of inference for a normal distribution:\n",
    "\n",
    "$$\n",
    "\\begin{aligned}\n",
    "    y \\sim \\mathcal{N}(\\mu, \\tau) \\\\\n",
    "    \\mu \\sim \\mathcal{N}(\\mu_0, \\tau_0) \\\\\n",
    "    \\tau \\sim \\mathrm{Ga}(\\alpha, \\beta) \\\\\n",
    "    q(\\mu) = \\mathcal{N}(m, t) \\\\\n",
    "    q(\\tau) = \\mathrm{Ga}(a, b)\n",
    "\\end{aligned}\n",
    "$$\n",
    "\n",
    "This model is conjugate, and can be solved by straightforward updates of the natural parameters of the posterior."
   ]
  },
  {
   "cell_type": "markdown",
   "metadata": {},
   "source": [
    "## Make the nodes\n",
    "\n",
    "We need to make nodes for all the random variables that will need to be updated (we can also create nodes for parameter arrays, but these will be converted automatically if we don't)."
   ]
  },
  {
   "cell_type": "code",
   "execution_count": 19,
   "metadata": {
    "collapsed": false
   },
   "outputs": [
    {
     "data": {
      "text/plain": [
       "5x6 Array{Float64,2}:\n",
       " 0.0570032  0.418675  0.0178485  0.0017706  0.795433  0.140515\n",
       " 0.277428   0.456211  0.304502   0.843995   0.867431  0.763381\n",
       " 0.243259   0.807357  0.803148   0.365147   0.633817  0.8252  \n",
       " 0.52402    0.34655   0.914809   0.928525   0.319981  0.326039\n",
       " 0.673777   0.369792  0.739706   0.75043    0.584376  0.108832"
      ]
     },
     "execution_count": 19,
     "metadata": {},
     "output_type": "execute_result"
    }
   ],
   "source": [
    "dims = (5, 6)\n",
    "\n",
    "# note: it won't matter much how we initialize here\n",
    "μ = RandomNode(Normal, zeros(dims), ones(dims))\n",
    "τ = RandomNode(Gamma, ones(dims), ones(dims))\n",
    "\n",
    "y = rand(dims)"
   ]
  },
  {
   "cell_type": "markdown",
   "metadata": {},
   "source": [
    "Now make factors: We need a Normal factor for the observation model plus a prior and an entropy for each node."
   ]
  },
  {
   "cell_type": "code",
   "execution_count": 20,
   "metadata": {
    "collapsed": false
   },
   "outputs": [
    {
     "data": {
      "text/plain": [
       "VB.LogGammaFactor(VB.RandomNode{Distributions.Gamma,2}(5x6 Array{Distributions.Gamma,2}:\n",
       " Distributions.Gamma(α=1.0, θ=1.0)  …  Distributions.Gamma(α=1.0, θ=1.0)\n",
       " Distributions.Gamma(α=1.0, θ=1.0)     Distributions.Gamma(α=1.0, θ=1.0)\n",
       " Distributions.Gamma(α=1.0, θ=1.0)     Distributions.Gamma(α=1.0, θ=1.0)\n",
       " Distributions.Gamma(α=1.0, θ=1.0)     Distributions.Gamma(α=1.0, θ=1.0)\n",
       " Distributions.Gamma(α=1.0, θ=1.0)     Distributions.Gamma(α=1.0, θ=1.0),Dict{VB.Factor,Symbol}()),VB.ConstantNode{Float64,2}(5x6 Array{Float64,2}:\n",
       " 1.1  1.1  1.1  1.1  1.1  1.1\n",
       " 1.1  1.1  1.1  1.1  1.1  1.1\n",
       " 1.1  1.1  1.1  1.1  1.1  1.1\n",
       " 1.1  1.1  1.1  1.1  1.1  1.1\n",
       " 1.1  1.1  1.1  1.1  1.1  1.1,Dict{VB.Factor,Symbol}()),VB.ConstantNode{Float64,2}(5x6 Array{Float64,2}:\n",
       " 1.0  1.0  1.0  1.0  1.0  1.0\n",
       " 1.0  1.0  1.0  1.0  1.0  1.0\n",
       " 1.0  1.0  1.0  1.0  1.0  1.0\n",
       " 1.0  1.0  1.0  1.0  1.0  1.0\n",
       " 1.0  1.0  1.0  1.0  1.0  1.0,Dict{VB.Factor,Symbol}()))"
      ]
     },
     "execution_count": 20,
     "metadata": {},
     "output_type": "execute_result"
    }
   ],
   "source": [
    "obs = LogNormalFactor(y, μ, τ)\n",
    "μ_prior = LogNormalFactor(μ, zeros(dims), 2 * ones(dims))\n",
    "τ_prior = LogGammaFactor(τ, 1.1 * ones(dims), ones(dims))"
   ]
  },
  {
   "cell_type": "code",
   "execution_count": 21,
   "metadata": {
    "collapsed": false
   },
   "outputs": [
    {
     "data": {
      "text/plain": [
       "(-39.00266898410522,-67.96536370453937,7.496173237795199)"
      ]
     },
     "execution_count": 21,
     "metadata": {},
     "output_type": "execute_result"
    }
   ],
   "source": [
    "value(obs), value(μ_prior), value(τ_prior)"
   ]
  },
  {
   "cell_type": "code",
   "execution_count": 22,
   "metadata": {
    "collapsed": false
   },
   "outputs": [
    {
     "data": {
      "text/plain": [
       "VB.VBModel(Dict{Symbol,VB.Node}(:τ=>VB.RandomNode{Distributions.Gamma,2}(5x6 Array{Distributions.Gamma,2}:\n",
       " Distributions.Gamma(α=1.0, θ=1.0)  …  Distributions.Gamma(α=1.0, θ=1.0)\n",
       " Distributions.Gamma(α=1.0, θ=1.0)     Distributions.Gamma(α=1.0, θ=1.0)\n",
       " Distributions.Gamma(α=1.0, θ=1.0)     Distributions.Gamma(α=1.0, θ=1.0)\n",
       " Distributions.Gamma(α=1.0, θ=1.0)     Distributions.Gamma(α=1.0, θ=1.0)\n",
       " Distributions.Gamma(α=1.0, θ=1.0)     Distributions.Gamma(α=1.0, θ=1.0),Dict{VB.Factor,Symbol}(VB.LogGammaFactor(VB.RandomNode{Distributions.Gamma,2}(#= circular reference =#),VB.ConstantNode{Float64,2}(5x6 Array{Float64,2}:\n",
       " 1.1  1.1  1.1  1.1  1.1  1.1\n",
       " 1.1  1.1  1.1  1.1  1.1  1.1\n",
       " 1.1  1.1  1.1  1.1  1.1  1.1\n",
       " 1.1  1.1  1.1  1.1  1.1  1.1\n",
       " 1.1  1.1  1.1  1.1  1.1  1.1,Dict{VB.Factor,Symbol}()),VB.ConstantNode{Float64,2}(5x6 Array{Float64,2}:\n",
       " 1.0  1.0  1.0  1.0  1.0  1.0\n",
       " 1.0  1.0  1.0  1.0  1.0  1.0\n",
       " 1.0  1.0  1.0  1.0  1.0  1.0\n",
       " 1.0  1.0  1.0  1.0  1.0  1.0\n",
       " 1.0  1.0  1.0  1.0  1.0  1.0,Dict{VB.Factor,Symbol}()))=>:x,VB.LogNormalFactor(VB.ConstantNode{Float64,2}(5x6 Array{Float64,2}:\n",
       " 0.0570032  0.418675  0.0178485  0.0017706  0.795433  0.140515\n",
       " 0.277428   0.456211  0.304502   0.843995   0.867431  0.763381\n",
       " 0.243259   0.807357  0.803148   0.365147   0.633817  0.8252  \n",
       " 0.52402    0.34655   0.914809   0.928525   0.319981  0.326039\n",
       " 0.673777   0.369792  0.739706   0.75043    0.584376  0.108832,Dict{VB.Factor,Symbol}()),VB.RandomNode{Distributions.Normal,2}(5x6 Array{Distributions.Normal,2}:\n",
       " Distributions.Normal(μ=0.0, σ=1.0)  …  Distributions.Normal(μ=0.0, σ=1.0)\n",
       " Distributions.Normal(μ=0.0, σ=1.0)     Distributions.Normal(μ=0.0, σ=1.0)\n",
       " Distributions.Normal(μ=0.0, σ=1.0)     Distributions.Normal(μ=0.0, σ=1.0)\n",
       " Distributions.Normal(μ=0.0, σ=1.0)     Distributions.Normal(μ=0.0, σ=1.0)\n",
       " Distributions.Normal(μ=0.0, σ=1.0)     Distributions.Normal(μ=0.0, σ=1.0),Dict{VB.Factor,Symbol}(VB.LogNormalFactor(VB.RandomNode{Distributions.Normal,2}(#= circular reference =#),VB.ConstantNode{Float64,2}(5x6 Array{Float64,2}:\n",
       " 0.0  0.0  0.0  0.0  0.0  0.0\n",
       " 0.0  0.0  0.0  0.0  0.0  0.0\n",
       " 0.0  0.0  0.0  0.0  0.0  0.0\n",
       " 0.0  0.0  0.0  0.0  0.0  0.0\n",
       " 0.0  0.0  0.0  0.0  0.0  0.0,Dict{VB.Factor,Symbol}()),VB.ConstantNode{Float64,2}(5x6 Array{Float64,2}:\n",
       " 2.0  2.0  2.0  2.0  2.0  2.0\n",
       " 2.0  2.0  2.0  2.0  2.0  2.0\n",
       " 2.0  2.0  2.0  2.0  2.0  2.0\n",
       " 2.0  2.0  2.0  2.0  2.0  2.0\n",
       " 2.0  2.0  2.0  2.0  2.0  2.0,Dict{VB.Factor,Symbol}()))=>:x,VB.LogNormalFactor(#= circular reference =#)=>:μ)),VB.RandomNode{Distributions.Gamma,2}(#= circular reference =#))=>:τ)),:μ=>VB.RandomNode{Distributions.Normal,2}(5x6 Array{Distributions.Normal,2}:\n",
       " Distributions.Normal(μ=0.0, σ=1.0)  …  Distributions.Normal(μ=0.0, σ=1.0)\n",
       " Distributions.Normal(μ=0.0, σ=1.0)     Distributions.Normal(μ=0.0, σ=1.0)\n",
       " Distributions.Normal(μ=0.0, σ=1.0)     Distributions.Normal(μ=0.0, σ=1.0)\n",
       " Distributions.Normal(μ=0.0, σ=1.0)     Distributions.Normal(μ=0.0, σ=1.0)\n",
       " Distributions.Normal(μ=0.0, σ=1.0)     Distributions.Normal(μ=0.0, σ=1.0),Dict{VB.Factor,Symbol}(VB.LogNormalFactor(VB.RandomNode{Distributions.Normal,2}(#= circular reference =#),VB.ConstantNode{Float64,2}(5x6 Array{Float64,2}:\n",
       " 0.0  0.0  0.0  0.0  0.0  0.0\n",
       " 0.0  0.0  0.0  0.0  0.0  0.0\n",
       " 0.0  0.0  0.0  0.0  0.0  0.0\n",
       " 0.0  0.0  0.0  0.0  0.0  0.0\n",
       " 0.0  0.0  0.0  0.0  0.0  0.0,Dict{VB.Factor,Symbol}()),VB.ConstantNode{Float64,2}(5x6 Array{Float64,2}:\n",
       " 2.0  2.0  2.0  2.0  2.0  2.0\n",
       " 2.0  2.0  2.0  2.0  2.0  2.0\n",
       " 2.0  2.0  2.0  2.0  2.0  2.0\n",
       " 2.0  2.0  2.0  2.0  2.0  2.0\n",
       " 2.0  2.0  2.0  2.0  2.0  2.0,Dict{VB.Factor,Symbol}()))=>:x,VB.LogNormalFactor(VB.ConstantNode{Float64,2}(5x6 Array{Float64,2}:\n",
       " 0.0570032  0.418675  0.0178485  0.0017706  0.795433  0.140515\n",
       " 0.277428   0.456211  0.304502   0.843995   0.867431  0.763381\n",
       " 0.243259   0.807357  0.803148   0.365147   0.633817  0.8252  \n",
       " 0.52402    0.34655   0.914809   0.928525   0.319981  0.326039\n",
       " 0.673777   0.369792  0.739706   0.75043    0.584376  0.108832,Dict{VB.Factor,Symbol}()),VB.RandomNode{Distributions.Normal,2}(#= circular reference =#),VB.RandomNode{Distributions.Gamma,2}(5x6 Array{Distributions.Gamma,2}:\n",
       " Distributions.Gamma(α=1.0, θ=1.0)  …  Distributions.Gamma(α=1.0, θ=1.0)\n",
       " Distributions.Gamma(α=1.0, θ=1.0)     Distributions.Gamma(α=1.0, θ=1.0)\n",
       " Distributions.Gamma(α=1.0, θ=1.0)     Distributions.Gamma(α=1.0, θ=1.0)\n",
       " Distributions.Gamma(α=1.0, θ=1.0)     Distributions.Gamma(α=1.0, θ=1.0)\n",
       " Distributions.Gamma(α=1.0, θ=1.0)     Distributions.Gamma(α=1.0, θ=1.0),Dict{VB.Factor,Symbol}(VB.LogGammaFactor(VB.RandomNode{Distributions.Gamma,2}(#= circular reference =#),VB.ConstantNode{Float64,2}(5x6 Array{Float64,2}:\n",
       " 1.1  1.1  1.1  1.1  1.1  1.1\n",
       " 1.1  1.1  1.1  1.1  1.1  1.1\n",
       " 1.1  1.1  1.1  1.1  1.1  1.1\n",
       " 1.1  1.1  1.1  1.1  1.1  1.1\n",
       " 1.1  1.1  1.1  1.1  1.1  1.1,Dict{VB.Factor,Symbol}()),VB.ConstantNode{Float64,2}(5x6 Array{Float64,2}:\n",
       " 1.0  1.0  1.0  1.0  1.0  1.0\n",
       " 1.0  1.0  1.0  1.0  1.0  1.0\n",
       " 1.0  1.0  1.0  1.0  1.0  1.0\n",
       " 1.0  1.0  1.0  1.0  1.0  1.0\n",
       " 1.0  1.0  1.0  1.0  1.0  1.0,Dict{VB.Factor,Symbol}()))=>:x,VB.LogNormalFactor(#= circular reference =#)=>:τ)))=>:μ))),VB.Factor[VB.LogNormalFactor(VB.ConstantNode{Float64,2}(5x6 Array{Float64,2}:\n",
       " 0.0570032  0.418675  0.0178485  0.0017706  0.795433  0.140515\n",
       " 0.277428   0.456211  0.304502   0.843995   0.867431  0.763381\n",
       " 0.243259   0.807357  0.803148   0.365147   0.633817  0.8252  \n",
       " 0.52402    0.34655   0.914809   0.928525   0.319981  0.326039\n",
       " 0.673777   0.369792  0.739706   0.75043    0.584376  0.108832,Dict{VB.Factor,Symbol}()),VB.RandomNode{Distributions.Normal,2}(5x6 Array{Distributions.Normal,2}:\n",
       " Distributions.Normal(μ=0.0, σ=1.0)  …  Distributions.Normal(μ=0.0, σ=1.0)\n",
       " Distributions.Normal(μ=0.0, σ=1.0)     Distributions.Normal(μ=0.0, σ=1.0)\n",
       " Distributions.Normal(μ=0.0, σ=1.0)     Distributions.Normal(μ=0.0, σ=1.0)\n",
       " Distributions.Normal(μ=0.0, σ=1.0)     Distributions.Normal(μ=0.0, σ=1.0)\n",
       " Distributions.Normal(μ=0.0, σ=1.0)     Distributions.Normal(μ=0.0, σ=1.0),Dict{VB.Factor,Symbol}(VB.LogNormalFactor(VB.RandomNode{Distributions.Normal,2}(#= circular reference =#),VB.ConstantNode{Float64,2}(5x6 Array{Float64,2}:\n",
       " 0.0  0.0  0.0  0.0  0.0  0.0\n",
       " 0.0  0.0  0.0  0.0  0.0  0.0\n",
       " 0.0  0.0  0.0  0.0  0.0  0.0\n",
       " 0.0  0.0  0.0  0.0  0.0  0.0\n",
       " 0.0  0.0  0.0  0.0  0.0  0.0,Dict{VB.Factor,Symbol}()),VB.ConstantNode{Float64,2}(5x6 Array{Float64,2}:\n",
       " 2.0  2.0  2.0  2.0  2.0  2.0\n",
       " 2.0  2.0  2.0  2.0  2.0  2.0\n",
       " 2.0  2.0  2.0  2.0  2.0  2.0\n",
       " 2.0  2.0  2.0  2.0  2.0  2.0\n",
       " 2.0  2.0  2.0  2.0  2.0  2.0,Dict{VB.Factor,Symbol}()))=>:x,VB.LogNormalFactor(#= circular reference =#)=>:μ)),VB.RandomNode{Distributions.Gamma,2}(5x6 Array{Distributions.Gamma,2}:\n",
       " Distributions.Gamma(α=1.0, θ=1.0)  …  Distributions.Gamma(α=1.0, θ=1.0)\n",
       " Distributions.Gamma(α=1.0, θ=1.0)     Distributions.Gamma(α=1.0, θ=1.0)\n",
       " Distributions.Gamma(α=1.0, θ=1.0)     Distributions.Gamma(α=1.0, θ=1.0)\n",
       " Distributions.Gamma(α=1.0, θ=1.0)     Distributions.Gamma(α=1.0, θ=1.0)\n",
       " Distributions.Gamma(α=1.0, θ=1.0)     Distributions.Gamma(α=1.0, θ=1.0),Dict{VB.Factor,Symbol}(VB.LogGammaFactor(VB.RandomNode{Distributions.Gamma,2}(#= circular reference =#),VB.ConstantNode{Float64,2}(5x6 Array{Float64,2}:\n",
       " 1.1  1.1  1.1  1.1  1.1  1.1\n",
       " 1.1  1.1  1.1  1.1  1.1  1.1\n",
       " 1.1  1.1  1.1  1.1  1.1  1.1\n",
       " 1.1  1.1  1.1  1.1  1.1  1.1\n",
       " 1.1  1.1  1.1  1.1  1.1  1.1,Dict{VB.Factor,Symbol}()),VB.ConstantNode{Float64,2}(5x6 Array{Float64,2}:\n",
       " 1.0  1.0  1.0  1.0  1.0  1.0\n",
       " 1.0  1.0  1.0  1.0  1.0  1.0\n",
       " 1.0  1.0  1.0  1.0  1.0  1.0\n",
       " 1.0  1.0  1.0  1.0  1.0  1.0\n",
       " 1.0  1.0  1.0  1.0  1.0  1.0,Dict{VB.Factor,Symbol}()))=>:x,VB.LogNormalFactor(#= circular reference =#)=>:τ))),VB.LogNormalFactor(VB.RandomNode{Distributions.Normal,2}(5x6 Array{Distributions.Normal,2}:\n",
       " Distributions.Normal(μ=0.0, σ=1.0)  …  Distributions.Normal(μ=0.0, σ=1.0)\n",
       " Distributions.Normal(μ=0.0, σ=1.0)     Distributions.Normal(μ=0.0, σ=1.0)\n",
       " Distributions.Normal(μ=0.0, σ=1.0)     Distributions.Normal(μ=0.0, σ=1.0)\n",
       " Distributions.Normal(μ=0.0, σ=1.0)     Distributions.Normal(μ=0.0, σ=1.0)\n",
       " Distributions.Normal(μ=0.0, σ=1.0)     Distributions.Normal(μ=0.0, σ=1.0),Dict{VB.Factor,Symbol}(VB.LogNormalFactor(#= circular reference =#)=>:x,VB.LogNormalFactor(VB.ConstantNode{Float64,2}(5x6 Array{Float64,2}:\n",
       " 0.0570032  0.418675  0.0178485  0.0017706  0.795433  0.140515\n",
       " 0.277428   0.456211  0.304502   0.843995   0.867431  0.763381\n",
       " 0.243259   0.807357  0.803148   0.365147   0.633817  0.8252  \n",
       " 0.52402    0.34655   0.914809   0.928525   0.319981  0.326039\n",
       " 0.673777   0.369792  0.739706   0.75043    0.584376  0.108832,Dict{VB.Factor,Symbol}()),VB.RandomNode{Distributions.Normal,2}(#= circular reference =#),VB.RandomNode{Distributions.Gamma,2}(5x6 Array{Distributions.Gamma,2}:\n",
       " Distributions.Gamma(α=1.0, θ=1.0)  …  Distributions.Gamma(α=1.0, θ=1.0)\n",
       " Distributions.Gamma(α=1.0, θ=1.0)     Distributions.Gamma(α=1.0, θ=1.0)\n",
       " Distributions.Gamma(α=1.0, θ=1.0)     Distributions.Gamma(α=1.0, θ=1.0)\n",
       " Distributions.Gamma(α=1.0, θ=1.0)     Distributions.Gamma(α=1.0, θ=1.0)\n",
       " Distributions.Gamma(α=1.0, θ=1.0)     Distributions.Gamma(α=1.0, θ=1.0),Dict{VB.Factor,Symbol}(VB.LogGammaFactor(VB.RandomNode{Distributions.Gamma,2}(#= circular reference =#),VB.ConstantNode{Float64,2}(5x6 Array{Float64,2}:\n",
       " 1.1  1.1  1.1  1.1  1.1  1.1\n",
       " 1.1  1.1  1.1  1.1  1.1  1.1\n",
       " 1.1  1.1  1.1  1.1  1.1  1.1\n",
       " 1.1  1.1  1.1  1.1  1.1  1.1\n",
       " 1.1  1.1  1.1  1.1  1.1  1.1,Dict{VB.Factor,Symbol}()),VB.ConstantNode{Float64,2}(5x6 Array{Float64,2}:\n",
       " 1.0  1.0  1.0  1.0  1.0  1.0\n",
       " 1.0  1.0  1.0  1.0  1.0  1.0\n",
       " 1.0  1.0  1.0  1.0  1.0  1.0\n",
       " 1.0  1.0  1.0  1.0  1.0  1.0\n",
       " 1.0  1.0  1.0  1.0  1.0  1.0,Dict{VB.Factor,Symbol}()))=>:x,VB.LogNormalFactor(#= circular reference =#)=>:τ)))=>:μ)),VB.ConstantNode{Float64,2}(5x6 Array{Float64,2}:\n",
       " 0.0  0.0  0.0  0.0  0.0  0.0\n",
       " 0.0  0.0  0.0  0.0  0.0  0.0\n",
       " 0.0  0.0  0.0  0.0  0.0  0.0\n",
       " 0.0  0.0  0.0  0.0  0.0  0.0\n",
       " 0.0  0.0  0.0  0.0  0.0  0.0,Dict{VB.Factor,Symbol}()),VB.ConstantNode{Float64,2}(5x6 Array{Float64,2}:\n",
       " 2.0  2.0  2.0  2.0  2.0  2.0\n",
       " 2.0  2.0  2.0  2.0  2.0  2.0\n",
       " 2.0  2.0  2.0  2.0  2.0  2.0\n",
       " 2.0  2.0  2.0  2.0  2.0  2.0\n",
       " 2.0  2.0  2.0  2.0  2.0  2.0,Dict{VB.Factor,Symbol}())),VB.LogGammaFactor(VB.RandomNode{Distributions.Gamma,2}(5x6 Array{Distributions.Gamma,2}:\n",
       " Distributions.Gamma(α=1.0, θ=1.0)  …  Distributions.Gamma(α=1.0, θ=1.0)\n",
       " Distributions.Gamma(α=1.0, θ=1.0)     Distributions.Gamma(α=1.0, θ=1.0)\n",
       " Distributions.Gamma(α=1.0, θ=1.0)     Distributions.Gamma(α=1.0, θ=1.0)\n",
       " Distributions.Gamma(α=1.0, θ=1.0)     Distributions.Gamma(α=1.0, θ=1.0)\n",
       " Distributions.Gamma(α=1.0, θ=1.0)     Distributions.Gamma(α=1.0, θ=1.0),Dict{VB.Factor,Symbol}(VB.LogGammaFactor(#= circular reference =#)=>:x,VB.LogNormalFactor(VB.ConstantNode{Float64,2}(5x6 Array{Float64,2}:\n",
       " 0.0570032  0.418675  0.0178485  0.0017706  0.795433  0.140515\n",
       " 0.277428   0.456211  0.304502   0.843995   0.867431  0.763381\n",
       " 0.243259   0.807357  0.803148   0.365147   0.633817  0.8252  \n",
       " 0.52402    0.34655   0.914809   0.928525   0.319981  0.326039\n",
       " 0.673777   0.369792  0.739706   0.75043    0.584376  0.108832,Dict{VB.Factor,Symbol}()),VB.RandomNode{Distributions.Normal,2}(5x6 Array{Distributions.Normal,2}:\n",
       " Distributions.Normal(μ=0.0, σ=1.0)  …  Distributions.Normal(μ=0.0, σ=1.0)\n",
       " Distributions.Normal(μ=0.0, σ=1.0)     Distributions.Normal(μ=0.0, σ=1.0)\n",
       " Distributions.Normal(μ=0.0, σ=1.0)     Distributions.Normal(μ=0.0, σ=1.0)\n",
       " Distributions.Normal(μ=0.0, σ=1.0)     Distributions.Normal(μ=0.0, σ=1.0)\n",
       " Distributions.Normal(μ=0.0, σ=1.0)     Distributions.Normal(μ=0.0, σ=1.0),Dict{VB.Factor,Symbol}(VB.LogNormalFactor(VB.RandomNode{Distributions.Normal,2}(#= circular reference =#),VB.ConstantNode{Float64,2}(5x6 Array{Float64,2}:\n",
       " 0.0  0.0  0.0  0.0  0.0  0.0\n",
       " 0.0  0.0  0.0  0.0  0.0  0.0\n",
       " 0.0  0.0  0.0  0.0  0.0  0.0\n",
       " 0.0  0.0  0.0  0.0  0.0  0.0\n",
       " 0.0  0.0  0.0  0.0  0.0  0.0,Dict{VB.Factor,Symbol}()),VB.ConstantNode{Float64,2}(5x6 Array{Float64,2}:\n",
       " 2.0  2.0  2.0  2.0  2.0  2.0\n",
       " 2.0  2.0  2.0  2.0  2.0  2.0\n",
       " 2.0  2.0  2.0  2.0  2.0  2.0\n",
       " 2.0  2.0  2.0  2.0  2.0  2.0\n",
       " 2.0  2.0  2.0  2.0  2.0  2.0,Dict{VB.Factor,Symbol}()))=>:x,VB.LogNormalFactor(#= circular reference =#)=>:μ)),VB.RandomNode{Distributions.Gamma,2}(#= circular reference =#))=>:τ)),VB.ConstantNode{Float64,2}(5x6 Array{Float64,2}:\n",
       " 1.1  1.1  1.1  1.1  1.1  1.1\n",
       " 1.1  1.1  1.1  1.1  1.1  1.1\n",
       " 1.1  1.1  1.1  1.1  1.1  1.1\n",
       " 1.1  1.1  1.1  1.1  1.1  1.1\n",
       " 1.1  1.1  1.1  1.1  1.1  1.1,Dict{VB.Factor,Symbol}()),VB.ConstantNode{Float64,2}(5x6 Array{Float64,2}:\n",
       " 1.0  1.0  1.0  1.0  1.0  1.0\n",
       " 1.0  1.0  1.0  1.0  1.0  1.0\n",
       " 1.0  1.0  1.0  1.0  1.0  1.0\n",
       " 1.0  1.0  1.0  1.0  1.0  1.0\n",
       " 1.0  1.0  1.0  1.0  1.0  1.0,Dict{VB.Factor,Symbol}()))])"
      ]
     },
     "execution_count": 22,
     "metadata": {},
     "output_type": "execute_result"
    }
   ],
   "source": [
    "m = VBModel(Dict(:μ => μ, :τ => τ), [obs, μ_prior, τ_prior])"
   ]
  },
  {
   "cell_type": "code",
   "execution_count": 23,
   "metadata": {
    "collapsed": false
   },
   "outputs": [
    {
     "data": {
      "text/plain": [
       "Dict{VB.Factor,Symbol} with 2 entries:\n",
       "  VB.LogNormalFactor(VB.R… => :x\n",
       "  VB.LogNormalFactor(VB.C… => :μ"
      ]
     },
     "execution_count": 23,
     "metadata": {},
     "output_type": "execute_result"
    }
   ],
   "source": [
    "m.nodes[:μ].factormap"
   ]
  }
 ],
 "metadata": {
  "kernelspec": {
   "display_name": "Julia 0.4.1",
   "language": "julia",
   "name": "julia-0.4"
  },
  "language_info": {
   "file_extension": ".jl",
   "mimetype": "application/julia",
   "name": "julia",
   "version": "0.4.1"
  }
 },
 "nbformat": 4,
 "nbformat_minor": 0
}
