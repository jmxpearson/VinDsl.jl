{
 "cells": [
  {
   "cell_type": "markdown",
   "metadata": {},
   "source": [
    "Let's try some basic tests of `VB.jl`:"
   ]
  },
  {
   "cell_type": "code",
   "execution_count": 1,
   "metadata": {
    "collapsed": false
   },
   "outputs": [],
   "source": [
    "include(\"VB.jl\")\n",
    "using VB\n",
    "using Distributions"
   ]
  },
  {
   "cell_type": "code",
   "execution_count": 2,
   "metadata": {
    "collapsed": false
   },
   "outputs": [
    {
     "name": "stdout",
     "output_type": "stream",
     "text": [
      "search: "
     ]
    },
    {
     "data": {
      "text/latex": [
       "A Variational Bayesian modeling approach. Models are defined by  bipartite graphs in which factors defining terms in the variational objective are connected to nodes defining variables.\n"
      ],
      "text/markdown": [
       "A Variational Bayesian modeling approach. Models are defined by  bipartite graphs in which factors defining terms in the variational objective are connected to nodes defining variables.\n"
      ],
      "text/plain": [
       "A Variational Bayesian modeling approach. Models are defined by  bipartite graphs in which factors defining terms in the variational objective are connected to nodes defining variables.\n"
      ]
     },
     "execution_count": 2,
     "metadata": {},
     "output_type": "execute_result"
    }
   ],
   "source": [
    "?VB"
   ]
  },
  {
   "cell_type": "markdown",
   "metadata": {},
   "source": [
    "Let's try to make a Gaussian node with several different sizes and parameterizations:"
   ]
  },
  {
   "cell_type": "code",
   "execution_count": 3,
   "metadata": {
    "collapsed": false
   },
   "outputs": [
    {
     "name": "stdout",
     "output_type": "stream",
     "text": [
      "VB VBModel A_rdiv_Bt A_rdiv_Bc A_ldiv_Bt A_ldiv_Bc A_ldiv_B! At_rdiv_B\n",
      "\n"
     ]
    },
    {
     "data": {
      "text/plain": [
       "3"
      ]
     },
     "execution_count": 3,
     "metadata": {},
     "output_type": "execute_result"
    }
   ],
   "source": [
    "ndims = (5, 5)  # node dimensions\n",
    "vardims = 3  # dimension of variable"
   ]
  },
  {
   "cell_type": "code",
   "execution_count": 4,
   "metadata": {
    "collapsed": false
   },
   "outputs": [],
   "source": [
    "μ = Array{Vector{Float64}}(ndims)\n",
    "Σ = Array{Matrix{Float64}}(ndims)\n",
    "\n",
    "for idx in eachindex(μ)\n",
    "    μ[idx] = rand(vardims)\n",
    "end\n",
    "\n",
    "for idx in eachindex(Σ)\n",
    "    C = rand(vardims, vardims)\n",
    "    Σ[idx] = C * C'\n",
    "end"
   ]
  },
  {
   "cell_type": "code",
   "execution_count": 5,
   "metadata": {
    "collapsed": false
   },
   "outputs": [
    {
     "data": {
      "text/plain": [
       "3-element Array{Float64,1}:\n",
       " 0.693778\n",
       " 0.846083\n",
       " 0.285281"
      ]
     },
     "execution_count": 5,
     "metadata": {},
     "output_type": "execute_result"
    }
   ],
   "source": [
    "μ[1]"
   ]
  },
  {
   "cell_type": "code",
   "execution_count": 6,
   "metadata": {
    "collapsed": false
   },
   "outputs": [
    {
     "data": {
      "text/plain": [
       "3x3 Array{Float64,2}:\n",
       " 1.11992   0.430546  0.897836\n",
       " 0.430546  0.932812  0.864311\n",
       " 0.897836  0.864311  1.07162 "
      ]
     },
     "execution_count": 6,
     "metadata": {},
     "output_type": "execute_result"
    }
   ],
   "source": [
    "Σ[1]"
   ]
  },
  {
   "cell_type": "code",
   "execution_count": 7,
   "metadata": {
    "collapsed": false
   },
   "outputs": [
    {
     "data": {
      "text/plain": [
       "0.0006307935080160916"
      ]
     },
     "execution_count": 7,
     "metadata": {},
     "output_type": "execute_result"
    }
   ],
   "source": [
    "det(Σ[2])"
   ]
  },
  {
   "cell_type": "code",
   "execution_count": 8,
   "metadata": {
    "collapsed": false
   },
   "outputs": [
    {
     "data": {
      "text/plain": [
       "5x5 Array{Distributions.MvNormal{PDMats.PDMat,Array{Float64,1}},2}:\n",
       " FullNormal(\n",
       "dim: 3\n",
       "μ: [0.6937780686967863,0.8460827861341069,0.2852809669274383]\n",
       "Σ: 3x3 Array{Float64,2}:\n",
       " 1.11992   0.430546  0.897836\n",
       " 0.430546  0.932812  0.864311\n",
       " 0.897836  0.864311  1.07162 \n",
       ")\n",
       "    …  FullNormal(\n",
       "dim: 3\n",
       "μ: [0.37379098119520604,0.09685385334345331,0.3521010149172945]\n",
       "Σ: 3x3 Array{Float64,2}:\n",
       " 0.876821  1.00603  1.07148\n",
       " 1.00603   1.20758  1.28356\n",
       " 1.07148   1.28356  1.36461\n",
       ")\n",
       "        \n",
       " FullNormal(\n",
       "dim: 3\n",
       "μ: [0.3087986313106983,0.5336099483043908,0.7880573717722976]\n",
       "Σ: 3x3 Array{Float64,2}:\n",
       " 0.658865  0.678777  0.484801\n",
       " 0.678777  0.737977  0.350301\n",
       " 0.484801  0.350301  0.956508\n",
       ")\n",
       "       FullNormal(\n",
       "dim: 3\n",
       "μ: [0.5712514622041094,0.9946211213990779,0.30063262516487543]\n",
       "Σ: 3x3 Array{Float64,2}:\n",
       " 0.240004  0.250571  0.28831 \n",
       " 0.250571  1.00154   0.866256\n",
       " 0.28831   0.866256  1.43344 \n",
       ")\n",
       "   \n",
       " FullNormal(\n",
       "dim: 3\n",
       "μ: [0.9905728302141985,0.2856840126620319,0.320741175856051]\n",
       "Σ: 3x3 Array{Float64,2}:\n",
       " 1.68521   1.20851   0.726613\n",
       " 1.20851   1.02184   0.401405\n",
       " 0.726613  0.401405  0.514448\n",
       ")\n",
       "        FullNormal(\n",
       "dim: 3\n",
       "μ: [0.5134554738571968,0.6458511750969451,0.5701092446222313]\n",
       "Σ: 3x3 Array{Float64,2}:\n",
       " 0.785016  0.684454  0.64787 \n",
       " 0.684454  1.05576   0.809011\n",
       " 0.64787   0.809011  0.682427\n",
       ")\n",
       "    \n",
       " FullNormal(\n",
       "dim: 3\n",
       "μ: [0.22606701150402198,0.8210840359088869,0.22819730313042408]\n",
       "Σ: 3x3 Array{Float64,2}:\n",
       " 0.46343   0.982141  0.878242\n",
       " 0.982141  2.23842   1.99379 \n",
       " 0.878242  1.99379   1.78204 \n",
       ")\n",
       "     FullNormal(\n",
       "dim: 3\n",
       "μ: [0.49357423824578484,0.9940624338815678,0.4151485652228162]\n",
       "Σ: 3x3 Array{Float64,2}:\n",
       " 0.0557456  0.236625  0.223556\n",
       " 0.236625   1.00888   0.90187 \n",
       " 0.223556   0.90187   1.64961 \n",
       ")\n",
       "\n",
       " FullNormal(\n",
       "dim: 3\n",
       "μ: [0.7289226272079101,0.4882246131718575,0.29955869567838844]\n",
       "Σ: 3x3 Array{Float64,2}:\n",
       " 0.369899  0.508326  0.721103\n",
       " 0.508326  0.850856  0.880695\n",
       " 0.721103  0.880695  1.62724 \n",
       ")\n",
       "      FullNormal(\n",
       "dim: 3\n",
       "μ: [0.3174759484605427,0.8514061901130703,0.7502074052500889]\n",
       "Σ: 3x3 Array{Float64,2}:\n",
       " 0.116081  0.296123  0.393643\n",
       " 0.296123  1.12029   1.22023 \n",
       " 0.393643  1.22023   1.52678 \n",
       ")\n",
       "    "
      ]
     },
     "execution_count": 8,
     "metadata": {},
     "output_type": "execute_result"
    }
   ],
   "source": [
    "pars = (μ, Σ)\n",
    "aa = map(MultivariateNormal, pars...)"
   ]
  },
  {
   "cell_type": "code",
   "execution_count": 9,
   "metadata": {
    "collapsed": false
   },
   "outputs": [],
   "source": [
    "rr = RandomNode(aa, Factor[]);"
   ]
  },
  {
   "cell_type": "code",
   "execution_count": 10,
   "metadata": {
    "collapsed": false
   },
   "outputs": [
    {
     "data": {
      "text/plain": [
       "Array{Distributions.MvNormal{PDMats.PDMat,Array{Float64,1}},2}"
      ]
     },
     "execution_count": 10,
     "metadata": {},
     "output_type": "execute_result"
    }
   ],
   "source": [
    "typeof(aa)"
   ]
  },
  {
   "cell_type": "code",
   "execution_count": 11,
   "metadata": {
    "collapsed": false
   },
   "outputs": [
    {
     "data": {
      "text/plain": [
       "true"
      ]
     },
     "execution_count": 11,
     "metadata": {},
     "output_type": "execute_result"
    }
   ],
   "source": [
    "typeof(aa) <: AbstractArray{typeof(aa[1]), 2}"
   ]
  },
  {
   "cell_type": "code",
   "execution_count": 12,
   "metadata": {
    "collapsed": false
   },
   "outputs": [],
   "source": [
    "ss = RandomNode(MultivariateNormal, pars...);"
   ]
  },
  {
   "cell_type": "code",
   "execution_count": 13,
   "metadata": {
    "collapsed": false,
    "scrolled": true
   },
   "outputs": [
    {
     "data": {
      "text/plain": [
       "5x5 Array{Array{Float64,1},2}:\n",
       " [0.6937780686967863,0.8460827861341069,0.2852809669274383]    …  [0.37379098119520604,0.09685385334345331,0.3521010149172945]\n",
       " [0.3087986313106983,0.5336099483043908,0.7880573717722976]       [0.5712514622041094,0.9946211213990779,0.30063262516487543] \n",
       " [0.9905728302141985,0.2856840126620319,0.320741175856051]        [0.5134554738571968,0.6458511750969451,0.5701092446222313]  \n",
       " [0.22606701150402198,0.8210840359088869,0.22819730313042408]     [0.49357423824578484,0.9940624338815678,0.4151485652228162] \n",
       " [0.7289226272079101,0.4882246131718575,0.29955869567838844]      [0.3174759484605427,0.8514061901130703,0.7502074052500889]  "
      ]
     },
     "execution_count": 13,
     "metadata": {},
     "output_type": "execute_result"
    }
   ],
   "source": [
    "E(ss)"
   ]
  },
  {
   "cell_type": "code",
   "execution_count": 14,
   "metadata": {
    "collapsed": false
   },
   "outputs": [
    {
     "name": "stdout",
     "output_type": "stream",
     "text": [
      "search: "
     ]
    },
    {
     "data": {
      "text/latex": [
       "Calculates the expected value of a Node x.\n"
      ],
      "text/markdown": [
       "Calculates the expected value of a Node x.\n"
      ],
      "text/plain": [
       "Calculates the expected value of a Node x.\n"
      ]
     },
     "execution_count": 14,
     "metadata": {},
     "output_type": "execute_result"
    }
   ],
   "source": [
    "?E"
   ]
  },
  {
   "cell_type": "code",
   "execution_count": 15,
   "metadata": {
    "collapsed": false
   },
   "outputs": [
    {
     "data": {
      "text/plain": [
       "Distributions.MvNormal{PDMats.PDMat,Array{Float64,1}}"
      ]
     },
     "execution_count": 15,
     "metadata": {},
     "output_type": "execute_result"
    }
   ],
   "source": [
    "typeof(ss).parameters[1]"
   ]
  },
  {
   "cell_type": "markdown",
   "metadata": {},
   "source": [
    "# Make a factor and check its value"
   ]
  },
  {
   "cell_type": "code",
   "execution_count": 16,
   "metadata": {
    "collapsed": false
   },
   "outputs": [
    {
     "data": {
      "text/plain": [
       "VB.LogNormalFactor(VB.RandomNode{Distributions.Normal,1}([Distributions.Normal(μ=0.21053116128424132, σ=0.3566024518831339),Distributions.Normal(μ=0.891285361977286, σ=0.6442949243350777),Distributions.Normal(μ=0.9190711480513318, σ=0.5847535950545695),Distributions.Normal(μ=0.8357027050511385, σ=0.9588584490678307),Distributions.Normal(μ=0.7011301523093227, σ=0.11988256254636265),Distributions.Normal(μ=0.4936985944104011, σ=0.49515232739001),Distributions.Normal(μ=0.43476857161658544, σ=0.06006314188566453),Distributions.Normal(μ=0.9057559221849028, σ=0.5939495004821511),Distributions.Normal(μ=0.08371485686139835, σ=0.6412695407108462),Distributions.Normal(μ=0.09628303073445155, σ=0.8367931299182829)],VB.Factor[]),VB.ConstantNode{Float64,1}([0.8960777324549798,0.2703005448728435,0.6288387723162663,0.5732161023467082,0.8203815274260202,0.9540175015140073,0.8874567679777285,0.02546966967547748,0.04665785891317231,0.7887935071010339],VB.Factor[]),VB.ConstantNode{Float64,1}([0.4979807621407115,0.6521957269790415,0.46972299327000555,0.5759025740211783,0.19508728971400058,0.93610471086111,0.7293495848711586,0.27489339472382723,0.19501745535334702,0.44906522550930195],VB.Factor[]))"
      ]
     },
     "execution_count": 16,
     "metadata": {},
     "output_type": "execute_result"
    },
    {
     "name": "stdout",
     "output_type": "stream",
     "text": [
      "E e eu ENV end Expr eye exp eta esc erf eps eof eig Enum Elog else expm\n",
      "\n"
     ]
    }
   ],
   "source": [
    "μ = rand(10)\n",
    "τ = rand(10)\n",
    "x = RandomNode(Normal, rand(10), rand(10))\n",
    "f = LogNormalFactor(x, μ, τ)"
   ]
  },
  {
   "cell_type": "code",
   "execution_count": 17,
   "metadata": {
    "collapsed": false
   },
   "outputs": [
    {
     "data": {
      "text/plain": [
       "10-element Array{Float64,1}:\n",
       " -0.719024\n",
       " -0.966352\n",
       " -0.641224\n",
       " -0.927615\n",
       " -0.104573\n",
       " -1.09986 \n",
       " -0.837185\n",
       " -0.428248\n",
       " -0.141838\n",
       " -0.783547"
      ]
     },
     "execution_count": 17,
     "metadata": {},
     "output_type": "execute_result"
    }
   ],
   "source": [
    "value(f)"
   ]
  },
  {
   "cell_type": "code",
   "execution_count": 18,
   "metadata": {
    "collapsed": false
   },
   "outputs": [
    {
     "data": {
      "text/plain": [
       "10-element Array{Float64,1}:\n",
       " 0.127165  \n",
       " 0.415116  \n",
       " 0.341937  \n",
       " 0.91941   \n",
       " 0.0143718 \n",
       " 0.245176  \n",
       " 0.00360758\n",
       " 0.352776  \n",
       " 0.411227  \n",
       " 0.700223  "
      ]
     },
     "execution_count": 18,
     "metadata": {},
     "output_type": "execute_result"
    }
   ],
   "source": [
    "VB.var(f.x)"
   ]
  },
  {
   "cell_type": "code",
   "execution_count": null,
   "metadata": {
    "collapsed": true
   },
   "outputs": [],
   "source": []
  }
 ],
 "metadata": {
  "kernelspec": {
   "display_name": "Julia 0.4.1",
   "language": "julia",
   "name": "julia-0.4"
  },
  "language_info": {
   "file_extension": ".jl",
   "mimetype": "application/julia",
   "name": "julia",
   "version": "0.4.1"
  }
 },
 "nbformat": 4,
 "nbformat_minor": 0
}
