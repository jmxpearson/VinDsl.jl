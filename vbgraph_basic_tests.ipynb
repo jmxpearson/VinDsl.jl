{
 "cells": [
  {
   "cell_type": "markdown",
   "metadata": {},
   "source": [
    "Let's try some basic tests of `VB.jl`:"
   ]
  },
  {
   "cell_type": "code",
   "execution_count": 1,
   "metadata": {
    "collapsed": false
   },
   "outputs": [],
   "source": [
    "include(\"VB.jl\")\n",
    "using VB\n",
    "using Distributions"
   ]
  },
  {
   "cell_type": "markdown",
   "metadata": {},
   "source": [
    "# Make a node"
   ]
  },
  {
   "cell_type": "code",
   "execution_count": 2,
   "metadata": {
    "collapsed": false
   },
   "outputs": [
    {
     "data": {
      "text/plain": [
       "VB.RandomNode{Distributions.Gamma}(:b,[:j,:k],5x3 Array{Distributions.Gamma,2}:\n",
       " Distributions.Gamma(α=0.7173687384069132, θ=0.13269804264364593)  …  Distributions.Gamma(α=0.6204217061574602, θ=0.458661340786815)  \n",
       " Distributions.Gamma(α=0.028181280157484112, θ=0.574443713743908)     Distributions.Gamma(α=0.1913771929914556, θ=0.22530770518147158)\n",
       " Distributions.Gamma(α=0.4925727068335153, θ=0.3385610244382222)      Distributions.Gamma(α=0.7781809217838502, θ=0.24181305057566682)\n",
       " Distributions.Gamma(α=0.36858795350830786, θ=0.6552631755824636)     Distributions.Gamma(α=0.7691396702272097, θ=0.6227295831535526) \n",
       " Distributions.Gamma(α=0.7866182800526011, θ=0.5638663855554993)      Distributions.Gamma(α=0.656072614293141, θ=0.25216500765095384) )"
      ]
     },
     "execution_count": 2,
     "metadata": {},
     "output_type": "execute_result"
    }
   ],
   "source": [
    "μ = rand(5, 5)\n",
    "σ = rand(5, 5)\n",
    "aa = RandomNode(:a, [:i, :j], Normal, μ, σ)\n",
    "bb = RandomNode(:b, [:j, :k], Gamma, rand(5, 3), rand(5, 3))"
   ]
  },
  {
   "cell_type": "code",
   "execution_count": 3,
   "metadata": {
    "collapsed": false
   },
   "outputs": [
    {
     "data": {
      "text/plain": [
       "VB.ConstantNode{Float64}(:c,[:i,:j],3x4 Array{Float64,2}:\n",
       " 0.730082  0.187215  0.473082   0.753872\n",
       " 0.83677   0.894245  0.0278103  0.520485\n",
       " 0.807294  0.470275  0.287478   0.134075)"
      ]
     },
     "execution_count": 3,
     "metadata": {},
     "output_type": "execute_result"
    }
   ],
   "source": [
    "cc = ConstantNode(:c, [:i, :j], rand(3, 4))"
   ]
  },
  {
   "cell_type": "code",
   "execution_count": 4,
   "metadata": {
    "collapsed": false
   },
   "outputs": [
    {
     "data": {
      "text/plain": [
       "VB.ConstantNode{Float64}(symbol(\"##const#7733\"),[:i,:j],3x4 Array{Float64,2}:\n",
       " 0.189825  0.589654  0.0637865  0.284751 \n",
       " 0.151476  0.174609  0.104013   0.0121357\n",
       " 0.882755  0.812735  0.976195   0.332184 )"
      ]
     },
     "execution_count": 4,
     "metadata": {},
     "output_type": "execute_result"
    }
   ],
   "source": [
    "cc = ConstantNode(rand(3, 4), [:i, :j])"
   ]
  },
  {
   "cell_type": "code",
   "execution_count": 5,
   "metadata": {
    "collapsed": false
   },
   "outputs": [
    {
     "data": {
      "text/plain": [
       "VB.FactorInds([:i,:j,:k],[5,3,5],Dict(:a=>[1,2],:b=>[2,3]))"
      ]
     },
     "execution_count": 5,
     "metadata": {},
     "output_type": "execute_result"
    }
   ],
   "source": [
    "nodes = Node[aa, bb]\n",
    "fi = get_structure(nodes...)\n",
    "fi"
   ]
  },
  {
   "cell_type": "code",
   "execution_count": 6,
   "metadata": {
    "collapsed": false
   },
   "outputs": [
    {
     "data": {
      "text/plain": [
       "VB.RandomNode{Distributions.Normal}(:a,[:i,:j],5x5 Array{Distributions.Normal,2}:\n",
       " Distributions.Normal(μ=0.8772290159796459, σ=0.5233160580742797)    …  Distributions.Normal(μ=0.46147530599420183, σ=0.4817106421487254)\n",
       " Distributions.Normal(μ=0.36274940750131734, σ=0.3625378041259075)      Distributions.Normal(μ=0.5977336508553064, σ=0.07912952931660544)\n",
       " Distributions.Normal(μ=0.20792728699737406, σ=0.16477166352282757)     Distributions.Normal(μ=0.6028150112069881, σ=0.5873109536670349) \n",
       " Distributions.Normal(μ=0.06283042773333558, σ=0.595361598986397)       Distributions.Normal(μ=0.28098735396260377, σ=0.6023263345294803)\n",
       " Distributions.Normal(μ=0.35703364117355285, σ=0.03772399253939307)     Distributions.Normal(μ=0.6987265789483412, σ=0.8574152100287735) )"
      ]
     },
     "execution_count": 6,
     "metadata": {},
     "output_type": "execute_result"
    }
   ],
   "source": [
    "a[i, j] ~ Normal(μ, σ)"
   ]
  },
  {
   "cell_type": "code",
   "execution_count": 7,
   "metadata": {
    "collapsed": false
   },
   "outputs": [
    {
     "data": {
      "text/plain": [
       "VB.ConstantNode{Float64}(:c,[:i,:j],3x4 Array{Float64,2}:\n",
       " 0.751465  0.214966  0.0279364  0.254294\n",
       " 0.814174  0.470719  0.207949   0.577387\n",
       " 0.973404  0.085687  0.38713    0.679353)"
      ]
     },
     "execution_count": 7,
     "metadata": {},
     "output_type": "execute_result"
    }
   ],
   "source": [
    "c[i, j] ~ Const(rand(3, 4))"
   ]
  },
  {
   "cell_type": "markdown",
   "metadata": {},
   "source": [
    "# Make a factor"
   ]
  },
  {
   "cell_type": "code",
   "execution_count": 8,
   "metadata": {
    "collapsed": false
   },
   "outputs": [],
   "source": [
    "dims = (10, 2)\n",
    "\n",
    "μ[j] ~ Normal(rand(dims[2]), ones(dims[2]))\n",
    "τ ~ Gamma(1, 1)\n",
    "x[i, j] ~ Normal(rand(dims), ones(dims))\n",
    "\n",
    "f = @factor LogNormalFactor x μ τ;"
   ]
  },
  {
   "cell_type": "markdown",
   "metadata": {},
   "source": [
    "# Make a (generated) value function"
   ]
  },
  {
   "cell_type": "code",
   "execution_count": 9,
   "metadata": {
    "collapsed": false
   },
   "outputs": [
    {
     "data": {
      "text/plain": [
       "-34.223623859949456"
      ]
     },
     "execution_count": 9,
     "metadata": {},
     "output_type": "execute_result"
    }
   ],
   "source": [
    "value(f)"
   ]
  },
  {
   "cell_type": "code",
   "execution_count": 10,
   "metadata": {
    "collapsed": false
   },
   "outputs": [
    {
     "data": {
      "text/plain": [
       "28.378770664093462"
      ]
     },
     "execution_count": 10,
     "metadata": {},
     "output_type": "execute_result"
    }
   ],
   "source": [
    "g = @factor EntropyFactor x\n",
    "value(g)"
   ]
  },
  {
   "cell_type": "markdown",
   "metadata": {},
   "source": [
    "# Let's make a simple model"
   ]
  },
  {
   "cell_type": "markdown",
   "metadata": {},
   "source": [
    "We want a simple model of inference for a normal distribution:\n",
    "\n",
    "$$\n",
    "\\begin{aligned}\n",
    "    y \\sim \\mathcal{N}(\\mu, \\tau) \\\\\n",
    "    \\mu \\sim \\mathcal{N}(\\mu_0, \\tau_0) \\\\\n",
    "    \\tau \\sim \\mathrm{Ga}(\\alpha, \\beta) \\\\\n",
    "    q(\\mu) = \\mathcal{N}(m, t) \\\\\n",
    "    q(\\tau) = \\mathrm{Ga}(a, b)\n",
    "\\end{aligned}\n",
    "$$\n",
    "\n",
    "This model is conjugate, and can be solved by straightforward updates of the natural parameters of the posterior."
   ]
  },
  {
   "cell_type": "markdown",
   "metadata": {},
   "source": [
    "## Make the nodes\n",
    "\n",
    "We need to make nodes for all the random variables that will need to be updated (we can also create nodes for parameter arrays, but these will be converted automatically if we don't)."
   ]
  },
  {
   "cell_type": "code",
   "execution_count": 11,
   "metadata": {
    "collapsed": false
   },
   "outputs": [],
   "source": [
    "dims = (20, 6)\n",
    "\n",
    "# note: it won't matter much how we initialize here\n",
    "μ[j] ~ Normal(zeros(dims[2]), ones(dims[2]))\n",
    "τ[j] ~ Gamma(1.1 * ones(dims[2]), ones(dims[2]))\n",
    "μ0[j] ~ Const(zeros(dims[2]))\n",
    "τ0[j] ~ Const(2 * ones(dims[2]))\n",
    "a0[j] ~ Const(1.1 * ones(dims[2]))\n",
    "b0[j] ~ Const(ones(dims[2]))\n",
    "\n",
    "y[i, j] ~ Const(rand(dims));"
   ]
  },
  {
   "cell_type": "markdown",
   "metadata": {},
   "source": [
    "Now make factors: We need a Normal factor for the observation model plus a prior and an entropy for each node."
   ]
  },
  {
   "cell_type": "code",
   "execution_count": 12,
   "metadata": {
    "collapsed": false
   },
   "outputs": [
    {
     "data": {
      "text/plain": [
       "VB.LogGammaFactor{1}(VB.RandomNode{Distributions.Gamma}(:τ,[:j],[Distributions.Gamma(α=1.1, θ=1.0),Distributions.Gamma(α=1.1, θ=1.0),Distributions.Gamma(α=1.1, θ=1.0),Distributions.Gamma(α=1.1, θ=1.0),Distributions.Gamma(α=1.1, θ=1.0),Distributions.Gamma(α=1.1, θ=1.0)]),VB.ConstantNode{Float64}(:a0,[:j],[1.1,1.1,1.1,1.1,1.1,1.1]),VB.ConstantNode{Float64}(:b0,[:j],[1.0,1.0,1.0,1.0,1.0,1.0]),VB.FactorInds([:j],[6],Dict(:τ=>[1],:b0=>[1],:a0=>[1])),Dict(:τ=>:x,:b0=>:β,:a0=>:α))"
      ]
     },
     "execution_count": 12,
     "metadata": {},
     "output_type": "execute_result"
    }
   ],
   "source": [
    "obs = @factor LogNormalFactor y μ τ\n",
    "μ_prior = @factor LogNormalFactor μ μ0 τ0\n",
    "τ_prior = @factor LogGammaFactor τ a0 b0"
   ]
  },
  {
   "cell_type": "code",
   "execution_count": 13,
   "metadata": {
    "collapsed": false
   },
   "outputs": [
    {
     "data": {
      "text/plain": [
       "(-169.54616636749657,-13.593072740907873,0.0449816833123928)"
      ]
     },
     "execution_count": 13,
     "metadata": {},
     "output_type": "execute_result"
    }
   ],
   "source": [
    "value(obs), value(μ_prior), value(τ_prior)"
   ]
  },
  {
   "cell_type": "code",
   "execution_count": 14,
   "metadata": {
    "collapsed": false
   },
   "outputs": [
    {
     "data": {
      "text/plain": [
       "VB.VBModel(VB.Node[VB.RandomNode{Distributions.Normal}(:μ,[:j],[Distributions.Normal(μ=0.0, σ=1.0),Distributions.Normal(μ=0.0, σ=1.0),Distributions.Normal(μ=0.0, σ=1.0),Distributions.Normal(μ=0.0, σ=1.0),Distributions.Normal(μ=0.0, σ=1.0),Distributions.Normal(μ=0.0, σ=1.0)]),VB.RandomNode{Distributions.Gamma}(:τ,[:j],[Distributions.Gamma(α=1.1, θ=1.0),Distributions.Gamma(α=1.1, θ=1.0),Distributions.Gamma(α=1.1, θ=1.0),Distributions.Gamma(α=1.1, θ=1.0),Distributions.Gamma(α=1.1, θ=1.0),Distributions.Gamma(α=1.1, θ=1.0)]),VB.ConstantNode{Float64}(:μ0,[:j],[0.0,0.0,0.0,0.0,0.0,0.0]),VB.ConstantNode{Float64}(:τ0,[:j],[2.0,2.0,2.0,2.0,2.0,2.0]),VB.ConstantNode{Float64}(:a0,[:j],[1.1,1.1,1.1,1.1,1.1,1.1]),VB.ConstantNode{Float64}(:b0,[:j],[1.0,1.0,1.0,1.0,1.0,1.0]),VB.ConstantNode{Float64}(:y,[:i,:j],20x6 Array{Float64,2}:\n",
       " 0.505511   0.752059    0.282409   0.0859192  0.782239    0.528333 \n",
       " 0.797145   0.780359    0.50581    0.781343   0.288489    0.134635 \n",
       " 0.898277   0.406798    0.0488168  0.552645   0.3027      0.916782 \n",
       " 0.349867   0.0631687   0.1453     0.139414   0.333579    0.871865 \n",
       " 0.13294    0.525149    0.130696   0.285396   0.107787    0.596442 \n",
       " 0.150184   0.231329    0.611302   0.276005   0.334523    0.500059 \n",
       " 0.748287   0.462516    0.188662   0.666035   0.525834    0.567935 \n",
       " 0.33318    0.285623    0.152614   0.670996   0.00809904  0.241611 \n",
       " 0.590238   0.995671    0.632163   0.24236    0.595902    0.705977 \n",
       " 0.906803   0.484502    0.405185   0.164747   0.115472    0.393226 \n",
       " 0.944098   0.816248    0.146687   0.43725    0.31717     0.0288064\n",
       " 0.0199412  0.750476    0.983925   0.272857   0.564622    0.959827 \n",
       " 0.276664   0.213718    0.969866   0.615896   0.0843774   0.373363 \n",
       " 0.764727   0.472156    0.464658   0.903974   0.5214      0.0268155\n",
       " 0.365957   0.377049    0.533805   0.248874   0.560505    0.303803 \n",
       " 0.523626   0.445678    0.87101    0.616872   0.943907    0.874783 \n",
       " 0.495053   0.412013    0.173131   0.762415   0.524176    0.534513 \n",
       " 0.974956   0.00520051  0.0452487  0.116539   0.0376322   0.235107 \n",
       " 0.905076   0.844713    0.500029   0.205137   0.136124    0.0536032\n",
       " 0.811818   0.229381    0.415941   0.239554   0.475918    0.319511 )],VB.Factor[VB.LogNormalFactor{2}(VB.ConstantNode{Float64}(:y,[:i,:j],20x6 Array{Float64,2}:\n",
       " 0.505511   0.752059    0.282409   0.0859192  0.782239    0.528333 \n",
       " 0.797145   0.780359    0.50581    0.781343   0.288489    0.134635 \n",
       " 0.898277   0.406798    0.0488168  0.552645   0.3027      0.916782 \n",
       " 0.349867   0.0631687   0.1453     0.139414   0.333579    0.871865 \n",
       " 0.13294    0.525149    0.130696   0.285396   0.107787    0.596442 \n",
       " 0.150184   0.231329    0.611302   0.276005   0.334523    0.500059 \n",
       " 0.748287   0.462516    0.188662   0.666035   0.525834    0.567935 \n",
       " 0.33318    0.285623    0.152614   0.670996   0.00809904  0.241611 \n",
       " 0.590238   0.995671    0.632163   0.24236    0.595902    0.705977 \n",
       " 0.906803   0.484502    0.405185   0.164747   0.115472    0.393226 \n",
       " 0.944098   0.816248    0.146687   0.43725    0.31717     0.0288064\n",
       " 0.0199412  0.750476    0.983925   0.272857   0.564622    0.959827 \n",
       " 0.276664   0.213718    0.969866   0.615896   0.0843774   0.373363 \n",
       " 0.764727   0.472156    0.464658   0.903974   0.5214      0.0268155\n",
       " 0.365957   0.377049    0.533805   0.248874   0.560505    0.303803 \n",
       " 0.523626   0.445678    0.87101    0.616872   0.943907    0.874783 \n",
       " 0.495053   0.412013    0.173131   0.762415   0.524176    0.534513 \n",
       " 0.974956   0.00520051  0.0452487  0.116539   0.0376322   0.235107 \n",
       " 0.905076   0.844713    0.500029   0.205137   0.136124    0.0536032\n",
       " 0.811818   0.229381    0.415941   0.239554   0.475918    0.319511 ),VB.RandomNode{Distributions.Normal}(:μ,[:j],[Distributions.Normal(μ=0.0, σ=1.0),Distributions.Normal(μ=0.0, σ=1.0),Distributions.Normal(μ=0.0, σ=1.0),Distributions.Normal(μ=0.0, σ=1.0),Distributions.Normal(μ=0.0, σ=1.0),Distributions.Normal(μ=0.0, σ=1.0)]),VB.RandomNode{Distributions.Gamma}(:τ,[:j],[Distributions.Gamma(α=1.1, θ=1.0),Distributions.Gamma(α=1.1, θ=1.0),Distributions.Gamma(α=1.1, θ=1.0),Distributions.Gamma(α=1.1, θ=1.0),Distributions.Gamma(α=1.1, θ=1.0),Distributions.Gamma(α=1.1, θ=1.0)]),VB.FactorInds([:i,:j],[20,6],Dict(:τ=>[2],:μ=>[2],:y=>[1,2])),Dict(:τ=>:τ,:μ=>:μ,:y=>:x)),VB.LogNormalFactor{1}(VB.RandomNode{Distributions.Normal}(:μ,[:j],[Distributions.Normal(μ=0.0, σ=1.0),Distributions.Normal(μ=0.0, σ=1.0),Distributions.Normal(μ=0.0, σ=1.0),Distributions.Normal(μ=0.0, σ=1.0),Distributions.Normal(μ=0.0, σ=1.0),Distributions.Normal(μ=0.0, σ=1.0)]),VB.ConstantNode{Float64}(:μ0,[:j],[0.0,0.0,0.0,0.0,0.0,0.0]),VB.ConstantNode{Float64}(:τ0,[:j],[2.0,2.0,2.0,2.0,2.0,2.0]),VB.FactorInds([:j],[6],Dict(:τ0=>[1],:μ=>[1],:μ0=>[1])),Dict(:τ0=>:τ,:μ=>:x,:μ0=>:μ)),VB.LogGammaFactor{1}(VB.RandomNode{Distributions.Gamma}(:τ,[:j],[Distributions.Gamma(α=1.1, θ=1.0),Distributions.Gamma(α=1.1, θ=1.0),Distributions.Gamma(α=1.1, θ=1.0),Distributions.Gamma(α=1.1, θ=1.0),Distributions.Gamma(α=1.1, θ=1.0),Distributions.Gamma(α=1.1, θ=1.0)]),VB.ConstantNode{Float64}(:a0,[:j],[1.1,1.1,1.1,1.1,1.1,1.1]),VB.ConstantNode{Float64}(:b0,[:j],[1.0,1.0,1.0,1.0,1.0,1.0]),VB.FactorInds([:j],[6],Dict(:τ=>[1],:b0=>[1],:a0=>[1])),Dict(:τ=>:x,:b0=>:β,:a0=>:α))],Dict{VB.Node,Array{Tuple{VB.Factor{N},Symbol},1}}(VB.ConstantNode{Float64}(:a0,[:j],[1.1,1.1,1.1,1.1,1.1,1.1])=>Tuple{VB.Factor{N},Symbol}[(VB.LogGammaFactor{1}(VB.RandomNode{Distributions.Gamma}(:τ,[:j],[Distributions.Gamma(α=1.1, θ=1.0),Distributions.Gamma(α=1.1, θ=1.0),Distributions.Gamma(α=1.1, θ=1.0),Distributions.Gamma(α=1.1, θ=1.0),Distributions.Gamma(α=1.1, θ=1.0),Distributions.Gamma(α=1.1, θ=1.0)]),VB.ConstantNode{Float64}(:a0,[:j],[1.1,1.1,1.1,1.1,1.1,1.1]),VB.ConstantNode{Float64}(:b0,[:j],[1.0,1.0,1.0,1.0,1.0,1.0]),VB.FactorInds([:j],[6],Dict(:τ=>[1],:b0=>[1],:a0=>[1])),Dict(:τ=>:x,:b0=>:β,:a0=>:α)),:α)],VB.ConstantNode{Float64}(:μ0,[:j],[0.0,0.0,0.0,0.0,0.0,0.0])=>Tuple{VB.Factor{N},Symbol}[(VB.LogNormalFactor{1}(VB.RandomNode{Distributions.Normal}(:μ,[:j],[Distributions.Normal(μ=0.0, σ=1.0),Distributions.Normal(μ=0.0, σ=1.0),Distributions.Normal(μ=0.0, σ=1.0),Distributions.Normal(μ=0.0, σ=1.0),Distributions.Normal(μ=0.0, σ=1.0),Distributions.Normal(μ=0.0, σ=1.0)]),VB.ConstantNode{Float64}(:μ0,[:j],[0.0,0.0,0.0,0.0,0.0,0.0]),VB.ConstantNode{Float64}(:τ0,[:j],[2.0,2.0,2.0,2.0,2.0,2.0]),VB.FactorInds([:j],[6],Dict(:τ0=>[1],:μ=>[1],:μ0=>[1])),Dict(:τ0=>:τ,:μ=>:x,:μ0=>:μ)),:μ)],VB.ConstantNode{Float64}(:τ0,[:j],[2.0,2.0,2.0,2.0,2.0,2.0])=>Tuple{VB.Factor{N},Symbol}[(VB.LogNormalFactor{1}(VB.RandomNode{Distributions.Normal}(:μ,[:j],[Distributions.Normal(μ=0.0, σ=1.0),Distributions.Normal(μ=0.0, σ=1.0),Distributions.Normal(μ=0.0, σ=1.0),Distributions.Normal(μ=0.0, σ=1.0),Distributions.Normal(μ=0.0, σ=1.0),Distributions.Normal(μ=0.0, σ=1.0)]),VB.ConstantNode{Float64}(:μ0,[:j],[0.0,0.0,0.0,0.0,0.0,0.0]),VB.ConstantNode{Float64}(:τ0,[:j],[2.0,2.0,2.0,2.0,2.0,2.0]),VB.FactorInds([:j],[6],Dict(:τ0=>[1],:μ=>[1],:μ0=>[1])),Dict(:τ0=>:τ,:μ=>:x,:μ0=>:μ)),:τ)],VB.RandomNode{Distributions.Normal}(:μ,[:j],[Distributions.Normal(μ=0.0, σ=1.0),Distributions.Normal(μ=0.0, σ=1.0),Distributions.Normal(μ=0.0, σ=1.0),Distributions.Normal(μ=0.0, σ=1.0),Distributions.Normal(μ=0.0, σ=1.0),Distributions.Normal(μ=0.0, σ=1.0)])=>Tuple{VB.Factor{N},Symbol}[(VB.LogNormalFactor{2}(VB.ConstantNode{Float64}(:y,[:i,:j],20x6 Array{Float64,2}:\n",
       " 0.505511   0.752059    0.282409   0.0859192  0.782239    0.528333 \n",
       " 0.797145   0.780359    0.50581    0.781343   0.288489    0.134635 \n",
       " 0.898277   0.406798    0.0488168  0.552645   0.3027      0.916782 \n",
       " 0.349867   0.0631687   0.1453     0.139414   0.333579    0.871865 \n",
       " 0.13294    0.525149    0.130696   0.285396   0.107787    0.596442 \n",
       " 0.150184   0.231329    0.611302   0.276005   0.334523    0.500059 \n",
       " 0.748287   0.462516    0.188662   0.666035   0.525834    0.567935 \n",
       " 0.33318    0.285623    0.152614   0.670996   0.00809904  0.241611 \n",
       " 0.590238   0.995671    0.632163   0.24236    0.595902    0.705977 \n",
       " 0.906803   0.484502    0.405185   0.164747   0.115472    0.393226 \n",
       " 0.944098   0.816248    0.146687   0.43725    0.31717     0.0288064\n",
       " 0.0199412  0.750476    0.983925   0.272857   0.564622    0.959827 \n",
       " 0.276664   0.213718    0.969866   0.615896   0.0843774   0.373363 \n",
       " 0.764727   0.472156    0.464658   0.903974   0.5214      0.0268155\n",
       " 0.365957   0.377049    0.533805   0.248874   0.560505    0.303803 \n",
       " 0.523626   0.445678    0.87101    0.616872   0.943907    0.874783 \n",
       " 0.495053   0.412013    0.173131   0.762415   0.524176    0.534513 \n",
       " 0.974956   0.00520051  0.0452487  0.116539   0.0376322   0.235107 \n",
       " 0.905076   0.844713    0.500029   0.205137   0.136124    0.0536032\n",
       " 0.811818   0.229381    0.415941   0.239554   0.475918    0.319511 ),VB.RandomNode{Distributions.Normal}(:μ,[:j],[Distributions.Normal(μ=0.0, σ=1.0),Distributions.Normal(μ=0.0, σ=1.0),Distributions.Normal(μ=0.0, σ=1.0),Distributions.Normal(μ=0.0, σ=1.0),Distributions.Normal(μ=0.0, σ=1.0),Distributions.Normal(μ=0.0, σ=1.0)]),VB.RandomNode{Distributions.Gamma}(:τ,[:j],[Distributions.Gamma(α=1.1, θ=1.0),Distributions.Gamma(α=1.1, θ=1.0),Distributions.Gamma(α=1.1, θ=1.0),Distributions.Gamma(α=1.1, θ=1.0),Distributions.Gamma(α=1.1, θ=1.0),Distributions.Gamma(α=1.1, θ=1.0)]),VB.FactorInds([:i,:j],[20,6],Dict(:τ=>[2],:μ=>[2],:y=>[1,2])),Dict(:τ=>:τ,:μ=>:μ,:y=>:x)),:μ),(VB.LogNormalFactor{1}(VB.RandomNode{Distributions.Normal}(:μ,[:j],[Distributions.Normal(μ=0.0, σ=1.0),Distributions.Normal(μ=0.0, σ=1.0),Distributions.Normal(μ=0.0, σ=1.0),Distributions.Normal(μ=0.0, σ=1.0),Distributions.Normal(μ=0.0, σ=1.0),Distributions.Normal(μ=0.0, σ=1.0)]),VB.ConstantNode{Float64}(:μ0,[:j],[0.0,0.0,0.0,0.0,0.0,0.0]),VB.ConstantNode{Float64}(:τ0,[:j],[2.0,2.0,2.0,2.0,2.0,2.0]),VB.FactorInds([:j],[6],Dict(:τ0=>[1],:μ=>[1],:μ0=>[1])),Dict(:τ0=>:τ,:μ=>:x,:μ0=>:μ)),:x)],VB.ConstantNode{Float64}(:b0,[:j],[1.0,1.0,1.0,1.0,1.0,1.0])=>Tuple{VB.Factor{N},Symbol}[(VB.LogGammaFactor{1}(VB.RandomNode{Distributions.Gamma}(:τ,[:j],[Distributions.Gamma(α=1.1, θ=1.0),Distributions.Gamma(α=1.1, θ=1.0),Distributions.Gamma(α=1.1, θ=1.0),Distributions.Gamma(α=1.1, θ=1.0),Distributions.Gamma(α=1.1, θ=1.0),Distributions.Gamma(α=1.1, θ=1.0)]),VB.ConstantNode{Float64}(:a0,[:j],[1.1,1.1,1.1,1.1,1.1,1.1]),VB.ConstantNode{Float64}(:b0,[:j],[1.0,1.0,1.0,1.0,1.0,1.0]),VB.FactorInds([:j],[6],Dict(:τ=>[1],:b0=>[1],:a0=>[1])),Dict(:τ=>:x,:b0=>:β,:a0=>:α)),:β)],VB.ConstantNode{Float64}(:y,[:i,:j],20x6 Array{Float64,2}:\n",
       " 0.505511   0.752059    0.282409   0.0859192  0.782239    0.528333 \n",
       " 0.797145   0.780359    0.50581    0.781343   0.288489    0.134635 \n",
       " 0.898277   0.406798    0.0488168  0.552645   0.3027      0.916782 \n",
       " 0.349867   0.0631687   0.1453     0.139414   0.333579    0.871865 \n",
       " 0.13294    0.525149    0.130696   0.285396   0.107787    0.596442 \n",
       " 0.150184   0.231329    0.611302   0.276005   0.334523    0.500059 \n",
       " 0.748287   0.462516    0.188662   0.666035   0.525834    0.567935 \n",
       " 0.33318    0.285623    0.152614   0.670996   0.00809904  0.241611 \n",
       " 0.590238   0.995671    0.632163   0.24236    0.595902    0.705977 \n",
       " 0.906803   0.484502    0.405185   0.164747   0.115472    0.393226 \n",
       " 0.944098   0.816248    0.146687   0.43725    0.31717     0.0288064\n",
       " 0.0199412  0.750476    0.983925   0.272857   0.564622    0.959827 \n",
       " 0.276664   0.213718    0.969866   0.615896   0.0843774   0.373363 \n",
       " 0.764727   0.472156    0.464658   0.903974   0.5214      0.0268155\n",
       " 0.365957   0.377049    0.533805   0.248874   0.560505    0.303803 \n",
       " 0.523626   0.445678    0.87101    0.616872   0.943907    0.874783 \n",
       " 0.495053   0.412013    0.173131   0.762415   0.524176    0.534513 \n",
       " 0.974956   0.00520051  0.0452487  0.116539   0.0376322   0.235107 \n",
       " 0.905076   0.844713    0.500029   0.205137   0.136124    0.0536032\n",
       " 0.811818   0.229381    0.415941   0.239554   0.475918    0.319511 )=>Tuple{VB.Factor{N},Symbol}[(VB.LogNormalFactor{2}(VB.ConstantNode{Float64}(:y,[:i,:j],20x6 Array{Float64,2}:\n",
       " 0.505511   0.752059    0.282409   0.0859192  0.782239    0.528333 \n",
       " 0.797145   0.780359    0.50581    0.781343   0.288489    0.134635 \n",
       " 0.898277   0.406798    0.0488168  0.552645   0.3027      0.916782 \n",
       " 0.349867   0.0631687   0.1453     0.139414   0.333579    0.871865 \n",
       " 0.13294    0.525149    0.130696   0.285396   0.107787    0.596442 \n",
       " 0.150184   0.231329    0.611302   0.276005   0.334523    0.500059 \n",
       " 0.748287   0.462516    0.188662   0.666035   0.525834    0.567935 \n",
       " 0.33318    0.285623    0.152614   0.670996   0.00809904  0.241611 \n",
       " 0.590238   0.995671    0.632163   0.24236    0.595902    0.705977 \n",
       " 0.906803   0.484502    0.405185   0.164747   0.115472    0.393226 \n",
       " 0.944098   0.816248    0.146687   0.43725    0.31717     0.0288064\n",
       " 0.0199412  0.750476    0.983925   0.272857   0.564622    0.959827 \n",
       " 0.276664   0.213718    0.969866   0.615896   0.0843774   0.373363 \n",
       " 0.764727   0.472156    0.464658   0.903974   0.5214      0.0268155\n",
       " 0.365957   0.377049    0.533805   0.248874   0.560505    0.303803 \n",
       " 0.523626   0.445678    0.87101    0.616872   0.943907    0.874783 \n",
       " 0.495053   0.412013    0.173131   0.762415   0.524176    0.534513 \n",
       " 0.974956   0.00520051  0.0452487  0.116539   0.0376322   0.235107 \n",
       " 0.905076   0.844713    0.500029   0.205137   0.136124    0.0536032\n",
       " 0.811818   0.229381    0.415941   0.239554   0.475918    0.319511 ),VB.RandomNode{Distributions.Normal}(:μ,[:j],[Distributions.Normal(μ=0.0, σ=1.0),Distributions.Normal(μ=0.0, σ=1.0),Distributions.Normal(μ=0.0, σ=1.0),Distributions.Normal(μ=0.0, σ=1.0),Distributions.Normal(μ=0.0, σ=1.0),Distributions.Normal(μ=0.0, σ=1.0)]),VB.RandomNode{Distributions.Gamma}(:τ,[:j],[Distributions.Gamma(α=1.1, θ=1.0),Distributions.Gamma(α=1.1, θ=1.0),Distributions.Gamma(α=1.1, θ=1.0),Distributions.Gamma(α=1.1, θ=1.0),Distributions.Gamma(α=1.1, θ=1.0),Distributions.Gamma(α=1.1, θ=1.0)]),VB.FactorInds([:i,:j],[20,6],Dict(:τ=>[2],:μ=>[2],:y=>[1,2])),Dict(:τ=>:τ,:μ=>:μ,:y=>:x)),:x)],VB.RandomNode{Distributions.Gamma}(:τ,[:j],[Distributions.Gamma(α=1.1, θ=1.0),Distributions.Gamma(α=1.1, θ=1.0),Distributions.Gamma(α=1.1, θ=1.0),Distributions.Gamma(α=1.1, θ=1.0),Distributions.Gamma(α=1.1, θ=1.0),Distributions.Gamma(α=1.1, θ=1.0)])=>Tuple{VB.Factor{N},Symbol}[(VB.LogNormalFactor{2}(VB.ConstantNode{Float64}(:y,[:i,:j],20x6 Array{Float64,2}:\n",
       " 0.505511   0.752059    0.282409   0.0859192  0.782239    0.528333 \n",
       " 0.797145   0.780359    0.50581    0.781343   0.288489    0.134635 \n",
       " 0.898277   0.406798    0.0488168  0.552645   0.3027      0.916782 \n",
       " 0.349867   0.0631687   0.1453     0.139414   0.333579    0.871865 \n",
       " 0.13294    0.525149    0.130696   0.285396   0.107787    0.596442 \n",
       " 0.150184   0.231329    0.611302   0.276005   0.334523    0.500059 \n",
       " 0.748287   0.462516    0.188662   0.666035   0.525834    0.567935 \n",
       " 0.33318    0.285623    0.152614   0.670996   0.00809904  0.241611 \n",
       " 0.590238   0.995671    0.632163   0.24236    0.595902    0.705977 \n",
       " 0.906803   0.484502    0.405185   0.164747   0.115472    0.393226 \n",
       " 0.944098   0.816248    0.146687   0.43725    0.31717     0.0288064\n",
       " 0.0199412  0.750476    0.983925   0.272857   0.564622    0.959827 \n",
       " 0.276664   0.213718    0.969866   0.615896   0.0843774   0.373363 \n",
       " 0.764727   0.472156    0.464658   0.903974   0.5214      0.0268155\n",
       " 0.365957   0.377049    0.533805   0.248874   0.560505    0.303803 \n",
       " 0.523626   0.445678    0.87101    0.616872   0.943907    0.874783 \n",
       " 0.495053   0.412013    0.173131   0.762415   0.524176    0.534513 \n",
       " 0.974956   0.00520051  0.0452487  0.116539   0.0376322   0.235107 \n",
       " 0.905076   0.844713    0.500029   0.205137   0.136124    0.0536032\n",
       " 0.811818   0.229381    0.415941   0.239554   0.475918    0.319511 ),VB.RandomNode{Distributions.Normal}(:μ,[:j],[Distributions.Normal(μ=0.0, σ=1.0),Distributions.Normal(μ=0.0, σ=1.0),Distributions.Normal(μ=0.0, σ=1.0),Distributions.Normal(μ=0.0, σ=1.0),Distributions.Normal(μ=0.0, σ=1.0),Distributions.Normal(μ=0.0, σ=1.0)]),VB.RandomNode{Distributions.Gamma}(:τ,[:j],[Distributions.Gamma(α=1.1, θ=1.0),Distributions.Gamma(α=1.1, θ=1.0),Distributions.Gamma(α=1.1, θ=1.0),Distributions.Gamma(α=1.1, θ=1.0),Distributions.Gamma(α=1.1, θ=1.0),Distributions.Gamma(α=1.1, θ=1.0)]),VB.FactorInds([:i,:j],[20,6],Dict(:τ=>[2],:μ=>[2],:y=>[1,2])),Dict(:τ=>:τ,:μ=>:μ,:y=>:x)),:τ),(VB.LogGammaFactor{1}(VB.RandomNode{Distributions.Gamma}(:τ,[:j],[Distributions.Gamma(α=1.1, θ=1.0),Distributions.Gamma(α=1.1, θ=1.0),Distributions.Gamma(α=1.1, θ=1.0),Distributions.Gamma(α=1.1, θ=1.0),Distributions.Gamma(α=1.1, θ=1.0),Distributions.Gamma(α=1.1, θ=1.0)]),VB.ConstantNode{Float64}(:a0,[:j],[1.1,1.1,1.1,1.1,1.1,1.1]),VB.ConstantNode{Float64}(:b0,[:j],[1.0,1.0,1.0,1.0,1.0,1.0]),VB.FactorInds([:j],[6],Dict(:τ=>[1],:b0=>[1],:a0=>[1])),Dict(:τ=>:x,:b0=>:β,:a0=>:α)),:x)]),Dict{VB.Node,Symbol}(VB.ConstantNode{Float64}(:a0,[:j],[1.1,1.1,1.1,1.1,1.1,1.1])=>:constant,VB.ConstantNode{Float64}(:μ0,[:j],[0.0,0.0,0.0,0.0,0.0,0.0])=>:constant,VB.ConstantNode{Float64}(:τ0,[:j],[2.0,2.0,2.0,2.0,2.0,2.0])=>:constant,VB.RandomNode{Distributions.Normal}(:μ,[:j],[Distributions.Normal(μ=0.0, σ=1.0),Distributions.Normal(μ=0.0, σ=1.0),Distributions.Normal(μ=0.0, σ=1.0),Distributions.Normal(μ=0.0, σ=1.0),Distributions.Normal(μ=0.0, σ=1.0),Distributions.Normal(μ=0.0, σ=1.0)])=>:conjugate,VB.ConstantNode{Float64}(:b0,[:j],[1.0,1.0,1.0,1.0,1.0,1.0])=>:constant,VB.ConstantNode{Float64}(:y,[:i,:j],20x6 Array{Float64,2}:\n",
       " 0.505511   0.752059    0.282409   0.0859192  0.782239    0.528333 \n",
       " 0.797145   0.780359    0.50581    0.781343   0.288489    0.134635 \n",
       " 0.898277   0.406798    0.0488168  0.552645   0.3027      0.916782 \n",
       " 0.349867   0.0631687   0.1453     0.139414   0.333579    0.871865 \n",
       " 0.13294    0.525149    0.130696   0.285396   0.107787    0.596442 \n",
       " 0.150184   0.231329    0.611302   0.276005   0.334523    0.500059 \n",
       " 0.748287   0.462516    0.188662   0.666035   0.525834    0.567935 \n",
       " 0.33318    0.285623    0.152614   0.670996   0.00809904  0.241611 \n",
       " 0.590238   0.995671    0.632163   0.24236    0.595902    0.705977 \n",
       " 0.906803   0.484502    0.405185   0.164747   0.115472    0.393226 \n",
       " 0.944098   0.816248    0.146687   0.43725    0.31717     0.0288064\n",
       " 0.0199412  0.750476    0.983925   0.272857   0.564622    0.959827 \n",
       " 0.276664   0.213718    0.969866   0.615896   0.0843774   0.373363 \n",
       " 0.764727   0.472156    0.464658   0.903974   0.5214      0.0268155\n",
       " 0.365957   0.377049    0.533805   0.248874   0.560505    0.303803 \n",
       " 0.523626   0.445678    0.87101    0.616872   0.943907    0.874783 \n",
       " 0.495053   0.412013    0.173131   0.762415   0.524176    0.534513 \n",
       " 0.974956   0.00520051  0.0452487  0.116539   0.0376322   0.235107 \n",
       " 0.905076   0.844713    0.500029   0.205137   0.136124    0.0536032\n",
       " 0.811818   0.229381    0.415941   0.239554   0.475918    0.319511 )=>:constant,VB.RandomNode{Distributions.Gamma}(:τ,[:j],[Distributions.Gamma(α=1.1, θ=1.0),Distributions.Gamma(α=1.1, θ=1.0),Distributions.Gamma(α=1.1, θ=1.0),Distributions.Gamma(α=1.1, θ=1.0),Distributions.Gamma(α=1.1, θ=1.0),Distributions.Gamma(α=1.1, θ=1.0)])=>:conjugate))"
      ]
     },
     "execution_count": 14,
     "metadata": {},
     "output_type": "execute_result"
    }
   ],
   "source": [
    "m = VBModel([μ, τ, μ0, τ0, a0, b0, y], [obs, μ_prior, τ_prior])"
   ]
  },
  {
   "cell_type": "code",
   "execution_count": 15,
   "metadata": {
    "collapsed": false
   },
   "outputs": [
    {
     "data": {
      "text/plain": [
       "7-element Array{Any,1}:\n",
       " :μ \n",
       " :τ \n",
       " :μ0\n",
       " :τ0\n",
       " :a0\n",
       " :b0\n",
       " :y "
      ]
     },
     "execution_count": 15,
     "metadata": {},
     "output_type": "execute_result"
    }
   ],
   "source": [
    "[n.name for n in m.nodes]"
   ]
  },
  {
   "cell_type": "code",
   "execution_count": 16,
   "metadata": {
    "collapsed": false
   },
   "outputs": [
    {
     "data": {
      "text/plain": [
       "3-element Array{DataType,1}:\n",
       " VB.LogNormalFactor{2}\n",
       " VB.LogNormalFactor{1}\n",
       " VB.LogGammaFactor{1} "
      ]
     },
     "execution_count": 16,
     "metadata": {},
     "output_type": "execute_result"
    }
   ],
   "source": [
    "[typeof(f) for f in m.factors]"
   ]
  },
  {
   "cell_type": "code",
   "execution_count": 17,
   "metadata": {
    "collapsed": false
   },
   "outputs": [
    {
     "data": {
      "text/plain": [
       "Dict{VB.Node,Array{Tuple{VB.Factor{N},Symbol},1}} with 7 entries:\n",
       "  VB.ConstantNode{Float64… => Tuple{VB.Factor{N},Symbol}[(VB.LogGammaFactor{1}(…\n",
       "  VB.ConstantNode{Float64… => Tuple{VB.Factor{N},Symbol}[(VB.LogNormalFactor{1}…\n",
       "  VB.ConstantNode{Float64… => Tuple{VB.Factor{N},Symbol}[(VB.LogNormalFactor{1}…\n",
       "  VB.RandomNode{Distribut… => Tuple{VB.Factor{N},Symbol}[(VB.LogNormalFactor{2}…\n",
       "  VB.ConstantNode{Float64… => Tuple{VB.Factor{N},Symbol}[(VB.LogGammaFactor{1}(…\n",
       "  VB.ConstantNode{Float64… => Tuple{VB.Factor{N},Symbol}[(VB.LogNormalFactor{2}…\n",
       "  VB.RandomNode{Distribut… => Tuple{VB.Factor{N},Symbol}[(VB.LogNormalFactor{2}…"
      ]
     },
     "execution_count": 17,
     "metadata": {},
     "output_type": "execute_result"
    }
   ],
   "source": [
    "m.graph"
   ]
  },
  {
   "cell_type": "code",
   "execution_count": 18,
   "metadata": {
    "collapsed": false
   },
   "outputs": [
    {
     "data": {
      "text/plain": [
       "6-element Array{Tuple{Float64,Float64},1}:\n",
       " (12.64378189096637,-11.000000000000002) \n",
       " (10.50918712643105,-11.000000000000002) \n",
       " (9.027984416721933,-11.000000000000002) \n",
       " (9.11265189368914,-11.000000000000002)  \n",
       " (8.316503083015334,-11.000000000000002) \n",
       " (10.083696731233921,-11.000000000000002)"
      ]
     },
     "execution_count": 18,
     "metadata": {},
     "output_type": "execute_result"
    }
   ],
   "source": [
    "naturals(obs, μ)"
   ]
  },
  {
   "cell_type": "code",
   "execution_count": 19,
   "metadata": {
    "collapsed": false
   },
   "outputs": [
    {
     "data": {
      "text/plain": [
       "6-element Array{Tuple{Float64,Float64},1}:\n",
       " (10.0,14.168568950237152)\n",
       " (10.0,12.984869853439548)\n",
       " (10.0,12.50869560118426) \n",
       " (10.0,12.339505246753953)\n",
       " (10.0,12.045626866883062)\n",
       " (10.0,12.951677852047776)"
      ]
     },
     "execution_count": 19,
     "metadata": {},
     "output_type": "execute_result"
    }
   ],
   "source": [
    "naturals(obs, τ)"
   ]
  },
  {
   "cell_type": "code",
   "execution_count": 20,
   "metadata": {
    "collapsed": false
   },
   "outputs": [
    {
     "data": {
      "text/plain": [
       "true"
      ]
     },
     "execution_count": 20,
     "metadata": {},
     "output_type": "execute_result"
    }
   ],
   "source": [
    "check_conjugate(τ, m)"
   ]
  },
  {
   "cell_type": "code",
   "execution_count": 21,
   "metadata": {
    "collapsed": false
   },
   "outputs": [
    {
     "data": {
      "text/plain": [
       "true"
      ]
     },
     "execution_count": 21,
     "metadata": {},
     "output_type": "execute_result"
    }
   ],
   "source": [
    "check_conjugate(μ, m)"
   ]
  },
  {
   "cell_type": "code",
   "execution_count": 22,
   "metadata": {
    "collapsed": false
   },
   "outputs": [
    {
     "data": {
      "text/plain": [
       "6-element Array{Distributions.Normal,1}:\n",
       " Distributions.Normal(μ=0.0, σ=1.0)\n",
       " Distributions.Normal(μ=0.0, σ=1.0)\n",
       " Distributions.Normal(μ=0.0, σ=1.0)\n",
       " Distributions.Normal(μ=0.0, σ=1.0)\n",
       " Distributions.Normal(μ=0.0, σ=1.0)\n",
       " Distributions.Normal(μ=0.0, σ=1.0)"
      ]
     },
     "execution_count": 22,
     "metadata": {},
     "output_type": "execute_result"
    }
   ],
   "source": [
    "μ.data"
   ]
  },
  {
   "cell_type": "code",
   "execution_count": 23,
   "metadata": {
    "collapsed": false
   },
   "outputs": [
    {
     "data": {
      "text/plain": [
       "6-element Array{Distributions.Gamma,1}:\n",
       " Distributions.Gamma(α=1.1, θ=1.0)\n",
       " Distributions.Gamma(α=1.1, θ=1.0)\n",
       " Distributions.Gamma(α=1.1, θ=1.0)\n",
       " Distributions.Gamma(α=1.1, θ=1.0)\n",
       " Distributions.Gamma(α=1.1, θ=1.0)\n",
       " Distributions.Gamma(α=1.1, θ=1.0)"
      ]
     },
     "execution_count": 23,
     "metadata": {},
     "output_type": "execute_result"
    }
   ],
   "source": [
    "τ.data"
   ]
  },
  {
   "cell_type": "code",
   "execution_count": 24,
   "metadata": {
    "collapsed": false
   },
   "outputs": [],
   "source": [
    "update!(m)"
   ]
  },
  {
   "cell_type": "code",
   "execution_count": 25,
   "metadata": {
    "collapsed": false
   },
   "outputs": [
    {
     "data": {
      "text/plain": [
       "6-element Array{Distributions.Normal,1}:\n",
       " Distributions.Normal(μ=1.162329321893965, σ=0.7071067811865476)  \n",
       " Distributions.Normal(μ=-0.3470571111942618, σ=0.7071067811865476)\n",
       " Distributions.Normal(μ=-1.3944255915414672, σ=0.7071067811865476)\n",
       " Distributions.Normal(μ=-1.3345566444319994, σ=0.7071067811865476)\n",
       " Distributions.Normal(μ=-1.8975188672930523, σ=0.7071067811865476)\n",
       " Distributions.Normal(μ=-0.6479242549678952, σ=0.7071067811865476)"
      ]
     },
     "execution_count": 25,
     "metadata": {},
     "output_type": "execute_result"
    }
   ],
   "source": [
    "μ.data"
   ]
  },
  {
   "cell_type": "code",
   "execution_count": 26,
   "metadata": {
    "collapsed": false
   },
   "outputs": [
    {
     "data": {
      "text/plain": [
       "6-element Array{Distributions.Gamma,1}:\n",
       " Distributions.Gamma(α=20.318446719670966, θ=0.8999999999999999)\n",
       " Distributions.Gamma(α=23.505072715107417, θ=0.8999999999999999)\n",
       " Distributions.Gamma(α=49.3973342780189, θ=0.8999999999999999)  \n",
       " Distributions.Gamma(α=47.20569246701965, θ=0.8999999999999999) \n",
       " Distributions.Gamma(α=68.39751584778, θ=0.8999999999999999)    \n",
       " Distributions.Gamma(α=29.089255973720203, θ=0.8999999999999999)"
      ]
     },
     "execution_count": 26,
     "metadata": {},
     "output_type": "execute_result"
    }
   ],
   "source": [
    "τ.data"
   ]
  },
  {
   "cell_type": "code",
   "execution_count": null,
   "metadata": {
    "collapsed": true
   },
   "outputs": [],
   "source": []
  }
 ],
 "metadata": {
  "kernelspec": {
   "display_name": "Julia 0.4.1",
   "language": "julia",
   "name": "julia-0.4"
  },
  "language_info": {
   "file_extension": ".jl",
   "mimetype": "application/julia",
   "name": "julia",
   "version": "0.4.1"
  }
 },
 "nbformat": 4,
 "nbformat_minor": 0
}
