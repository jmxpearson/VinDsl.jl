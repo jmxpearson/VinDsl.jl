{
 "cells": [
  {
   "cell_type": "markdown",
   "metadata": {},
   "source": [
    "Let's try some basic tests of `VB.jl`:"
   ]
  },
  {
   "cell_type": "code",
   "execution_count": 1,
   "metadata": {
    "collapsed": false
   },
   "outputs": [],
   "source": [
    "include(\"VB.jl\")\n",
    "using VB\n",
    "using Distributions"
   ]
  },
  {
   "cell_type": "markdown",
   "metadata": {},
   "source": [
    "# Make a node"
   ]
  },
  {
   "cell_type": "code",
   "execution_count": 2,
   "metadata": {
    "collapsed": false
   },
   "outputs": [
    {
     "data": {
      "text/plain": [
       "VB.RandomNode{Distributions.Gamma}(:b,[:j,:k],5x3 Array{Distributions.Gamma,2}:\n",
       " Distributions.Gamma(α=0.8225398267228907, θ=0.8584304657497792)    …  Distributions.Gamma(α=0.3606401453221473, θ=0.15151542985924848) \n",
       " Distributions.Gamma(α=0.05599631607771682, θ=0.3922461956006653)      Distributions.Gamma(α=0.7087847386107868, θ=0.8291211245866301)  \n",
       " Distributions.Gamma(α=0.38429159886572317, θ=0.5725989367646205)      Distributions.Gamma(α=0.017431730376731513, θ=0.7165399480113663)\n",
       " Distributions.Gamma(α=0.9587703842060975, θ=0.19297109342034435)      Distributions.Gamma(α=0.7934263128874701, θ=0.19700410740799357) \n",
       " Distributions.Gamma(α=0.19320343883602065, θ=0.00689721672956245)     Distributions.Gamma(α=0.6809037930093542, θ=0.3799426809934008)  )"
      ]
     },
     "execution_count": 2,
     "metadata": {},
     "output_type": "execute_result"
    }
   ],
   "source": [
    "μ = rand(5, 5)\n",
    "σ = rand(5, 5)\n",
    "aa = RandomNode(:a, [:i, :j], Normal, μ, σ)\n",
    "bb = RandomNode(:b, [:j, :k], Gamma, rand(5, 3), rand(5, 3))"
   ]
  },
  {
   "cell_type": "code",
   "execution_count": 3,
   "metadata": {
    "collapsed": false
   },
   "outputs": [
    {
     "data": {
      "text/plain": [
       "VB.ConstantNode{Float64}(:c,[:i,:j],3x4 Array{Float64,2}:\n",
       " 0.145608  0.682094  0.717286  0.704467 \n",
       " 0.330691  0.36507   0.760436  0.22653  \n",
       " 0.229008  0.50359   0.338089  0.0122321)"
      ]
     },
     "execution_count": 3,
     "metadata": {},
     "output_type": "execute_result"
    }
   ],
   "source": [
    "cc = ConstantNode(:c, [:i, :j], rand(3, 4))"
   ]
  },
  {
   "cell_type": "code",
   "execution_count": 4,
   "metadata": {
    "collapsed": false
   },
   "outputs": [
    {
     "data": {
      "text/plain": [
       "VB.ConstantNode{Float64}(symbol(\"##const#7733\"),[:i,:j],3x4 Array{Float64,2}:\n",
       " 0.822215  0.599053  0.340469   0.401605\n",
       " 0.167959  0.445955  0.0301111  0.544941\n",
       " 0.173532  0.735027  0.806086   0.922456)"
      ]
     },
     "execution_count": 4,
     "metadata": {},
     "output_type": "execute_result"
    }
   ],
   "source": [
    "cc = ConstantNode(rand(3, 4), [:i, :j])"
   ]
  },
  {
   "cell_type": "code",
   "execution_count": 5,
   "metadata": {
    "collapsed": false
   },
   "outputs": [
    {
     "data": {
      "text/plain": [
       "VB.FactorInds([:i,:j,:k],[5,3,5],Dict(:a=>[1,2],:b=>[2,3]))"
      ]
     },
     "execution_count": 5,
     "metadata": {},
     "output_type": "execute_result"
    }
   ],
   "source": [
    "nodes = Node[aa, bb]\n",
    "fi = get_structure(nodes...)\n",
    "fi"
   ]
  },
  {
   "cell_type": "code",
   "execution_count": 6,
   "metadata": {
    "collapsed": false
   },
   "outputs": [
    {
     "data": {
      "text/plain": [
       "VB.RandomNode{Distributions.Normal}(:a,[:i,:j],5x5 Array{Distributions.Normal,2}:\n",
       " Distributions.Normal(μ=0.9013908456106465, σ=0.9057925842112056)    …  Distributions.Normal(μ=0.5191741014593745, σ=0.2948596692203165)   \n",
       " Distributions.Normal(μ=0.5975995118397195, σ=0.7659525281619526)       Distributions.Normal(μ=0.806833297995853, σ=0.8745642083959155)    \n",
       " Distributions.Normal(μ=0.32274080370260605, σ=0.3563431494088556)      Distributions.Normal(μ=0.020094073128067436, σ=0.10903164334654636)\n",
       " Distributions.Normal(μ=0.588565160920703, σ=0.4679676597201161)        Distributions.Normal(μ=0.30569008719145985, σ=0.21757495478936084) \n",
       " Distributions.Normal(μ=0.6424126834124049, σ=0.007147020953811145)     Distributions.Normal(μ=0.16605745163452656, σ=0.8623412191342432)  )"
      ]
     },
     "execution_count": 6,
     "metadata": {},
     "output_type": "execute_result"
    }
   ],
   "source": [
    "a[i, j] ~ Normal(μ, σ)"
   ]
  },
  {
   "cell_type": "code",
   "execution_count": 7,
   "metadata": {
    "collapsed": false
   },
   "outputs": [
    {
     "data": {
      "text/plain": [
       "VB.ConstantNode{Float64}(:c,[:i,:j],3x4 Array{Float64,2}:\n",
       " 0.0552068  0.524623  0.156848  0.737092\n",
       " 0.958227   0.675943  0.240383  0.471283\n",
       " 0.770456   0.373231  0.709254  0.522452)"
      ]
     },
     "execution_count": 7,
     "metadata": {},
     "output_type": "execute_result"
    }
   ],
   "source": [
    "c[i, j] ~ Const(rand(3, 4))"
   ]
  },
  {
   "cell_type": "markdown",
   "metadata": {},
   "source": [
    "# Make a factor"
   ]
  },
  {
   "cell_type": "code",
   "execution_count": 8,
   "metadata": {
    "collapsed": false
   },
   "outputs": [],
   "source": [
    "dims = (10, 2)\n",
    "\n",
    "μ[j] ~ Normal(rand(dims[2]), ones(dims[2]))\n",
    "τ ~ Gamma(1, 1)\n",
    "x[i, j] ~ Normal(rand(dims), ones(dims))\n",
    "\n",
    "f = @factor LogNormalFactor x μ τ;"
   ]
  },
  {
   "cell_type": "markdown",
   "metadata": {},
   "source": [
    "# Make a (generated) value function"
   ]
  },
  {
   "cell_type": "code",
   "execution_count": 9,
   "metadata": {
    "collapsed": false
   },
   "outputs": [
    {
     "data": {
      "text/plain": [
       "-35.36597143116796"
      ]
     },
     "execution_count": 9,
     "metadata": {},
     "output_type": "execute_result"
    }
   ],
   "source": [
    "value(f)"
   ]
  },
  {
   "cell_type": "code",
   "execution_count": 10,
   "metadata": {
    "collapsed": false
   },
   "outputs": [
    {
     "data": {
      "text/plain": [
       "28.378770664093462"
      ]
     },
     "execution_count": 10,
     "metadata": {},
     "output_type": "execute_result"
    }
   ],
   "source": [
    "g = @factor EntropyFactor x\n",
    "value(g)"
   ]
  },
  {
   "cell_type": "markdown",
   "metadata": {},
   "source": [
    "# Let's make a simple model"
   ]
  },
  {
   "cell_type": "markdown",
   "metadata": {},
   "source": [
    "We want a simple model of inference for a normal distribution:\n",
    "\n",
    "$$\n",
    "\\begin{aligned}\n",
    "    y \\sim \\mathcal{N}(\\mu, \\tau) \\\\\n",
    "    \\mu \\sim \\mathcal{N}(\\mu_0, \\tau_0) \\\\\n",
    "    \\tau \\sim \\mathrm{Ga}(\\alpha, \\beta) \\\\\n",
    "    q(\\mu) = \\mathcal{N}(m, t) \\\\\n",
    "    q(\\tau) = \\mathrm{Ga}(a, b)\n",
    "\\end{aligned}\n",
    "$$\n",
    "\n",
    "This model is conjugate, and can be solved by straightforward updates of the natural parameters of the posterior."
   ]
  },
  {
   "cell_type": "markdown",
   "metadata": {},
   "source": [
    "## Make the nodes\n",
    "\n",
    "We need to make nodes for all the random variables that will need to be updated (we can also create nodes for parameter arrays, but these will be converted automatically if we don't)."
   ]
  },
  {
   "cell_type": "code",
   "execution_count": 11,
   "metadata": {
    "collapsed": false
   },
   "outputs": [],
   "source": [
    "dims = (20, 6)\n",
    "\n",
    "# note: it won't matter much how we initialize here\n",
    "μ[j] ~ Normal(zeros(dims[2]), ones(dims[2]))\n",
    "τ[j] ~ Gamma(1.1 * ones(dims[2]), ones(dims[2]))\n",
    "μ0[j] ~ Const(zeros(dims[2]))\n",
    "τ0[j] ~ Const(2 * ones(dims[2]))\n",
    "a0[j] ~ Const(1.1 * ones(dims[2]))\n",
    "b0[j] ~ Const(ones(dims[2]))\n",
    "\n",
    "y[i, j] ~ Const(rand(dims));"
   ]
  },
  {
   "cell_type": "markdown",
   "metadata": {},
   "source": [
    "Now make factors: We need a Normal factor for the observation model plus a prior and an entropy for each node."
   ]
  },
  {
   "cell_type": "code",
   "execution_count": 12,
   "metadata": {
    "collapsed": false
   },
   "outputs": [
    {
     "data": {
      "text/plain": [
       "VB.LogGammaFactor{1}(VB.RandomNode{Distributions.Gamma}(:τ,[:j],[Distributions.Gamma(α=1.1, θ=1.0),Distributions.Gamma(α=1.1, θ=1.0),Distributions.Gamma(α=1.1, θ=1.0),Distributions.Gamma(α=1.1, θ=1.0),Distributions.Gamma(α=1.1, θ=1.0),Distributions.Gamma(α=1.1, θ=1.0)]),VB.ConstantNode{Float64}(:a0,[:j],[1.1,1.1,1.1,1.1,1.1,1.1]),VB.ConstantNode{Float64}(:b0,[:j],[1.0,1.0,1.0,1.0,1.0,1.0]),VB.FactorInds([:j],[6],Dict(:τ=>[1],:b0=>[1],:a0=>[1])),Dict(:τ=>:x,:b0=>:β,:a0=>:α))"
      ]
     },
     "execution_count": 12,
     "metadata": {},
     "output_type": "execute_result"
    }
   ],
   "source": [
    "obs = @factor LogNormalFactor y μ τ\n",
    "μ_prior = @factor LogNormalFactor μ μ0 τ0\n",
    "τ_prior = @factor LogGammaFactor τ a0 b0"
   ]
  },
  {
   "cell_type": "code",
   "execution_count": 13,
   "metadata": {
    "collapsed": false
   },
   "outputs": [
    {
     "data": {
      "text/plain": [
       "(-173.3965810005201,-13.593072740907873,0.0449816833123928)"
      ]
     },
     "execution_count": 13,
     "metadata": {},
     "output_type": "execute_result"
    }
   ],
   "source": [
    "value(obs), value(μ_prior), value(τ_prior)"
   ]
  },
  {
   "cell_type": "code",
   "execution_count": 14,
   "metadata": {
    "collapsed": false
   },
   "outputs": [
    {
     "data": {
      "text/plain": [
       "VB.VBModel(VB.Node[VB.RandomNode{Distributions.Normal}(:μ,[:j],[Distributions.Normal(μ=0.0, σ=1.0),Distributions.Normal(μ=0.0, σ=1.0),Distributions.Normal(μ=0.0, σ=1.0),Distributions.Normal(μ=0.0, σ=1.0),Distributions.Normal(μ=0.0, σ=1.0),Distributions.Normal(μ=0.0, σ=1.0)]),VB.RandomNode{Distributions.Gamma}(:τ,[:j],[Distributions.Gamma(α=1.1, θ=1.0),Distributions.Gamma(α=1.1, θ=1.0),Distributions.Gamma(α=1.1, θ=1.0),Distributions.Gamma(α=1.1, θ=1.0),Distributions.Gamma(α=1.1, θ=1.0),Distributions.Gamma(α=1.1, θ=1.0)]),VB.ConstantNode{Float64}(:μ0,[:j],[0.0,0.0,0.0,0.0,0.0,0.0]),VB.ConstantNode{Float64}(:τ0,[:j],[2.0,2.0,2.0,2.0,2.0,2.0]),VB.ConstantNode{Float64}(:a0,[:j],[1.1,1.1,1.1,1.1,1.1,1.1]),VB.ConstantNode{Float64}(:b0,[:j],[1.0,1.0,1.0,1.0,1.0,1.0]),VB.ConstantNode{Float64}(:y,[:i,:j],20x6 Array{Float64,2}:\n",
       " 0.904512   0.0884127  0.167459    0.686012   0.181552  0.459253\n",
       " 0.022691   0.778186   0.541389    0.626844   0.397803  0.411249\n",
       " 0.295733   0.704995   0.0518976   0.627556   0.616398  0.893151\n",
       " 0.157214   0.0201435  0.608738    0.524767   0.391051  0.563684\n",
       " 0.935745   0.0361448  0.961626    0.430485   0.746951  0.453125\n",
       " 0.890714   0.695621   0.313172    0.106968   0.762546  0.836533\n",
       " 0.247637   0.679816   0.541043    0.648895   0.629722  0.59519 \n",
       " 0.435654   0.316492   0.440203    0.802498   0.498322  0.497286\n",
       " 0.173361   0.372168   0.0501745   0.548916   0.277411  0.417271\n",
       " 0.809233   0.584363   0.829686    0.359933   0.103296  0.799695\n",
       " 0.79869    0.227136   0.0154125   0.0905577  0.461017  0.931706\n",
       " 0.987896   0.238052   0.00562887  0.875917   0.300407  0.875745\n",
       " 0.96793    0.380237   0.938734    0.367883   0.649443  0.893643\n",
       " 0.585282   0.417965   0.489215    0.838784   0.367105  0.1624  \n",
       " 0.69429    0.350591   0.768042    0.298719   0.540029  0.793412\n",
       " 0.787962   0.329412   0.504155    0.0111757  0.955259  0.111902\n",
       " 0.643929   0.568615   0.454824    0.830413   0.270919  0.845801\n",
       " 0.105573   0.94331    0.207739    0.744482   0.866784  0.247901\n",
       " 0.0925378  0.278078   0.690563    0.917153   0.810725  0.450196\n",
       " 0.93422    0.569667   0.18542     0.458914   0.561993  0.21702 )],VB.Factor[VB.LogNormalFactor{2}(VB.ConstantNode{Float64}(:y,[:i,:j],20x6 Array{Float64,2}:\n",
       " 0.904512   0.0884127  0.167459    0.686012   0.181552  0.459253\n",
       " 0.022691   0.778186   0.541389    0.626844   0.397803  0.411249\n",
       " 0.295733   0.704995   0.0518976   0.627556   0.616398  0.893151\n",
       " 0.157214   0.0201435  0.608738    0.524767   0.391051  0.563684\n",
       " 0.935745   0.0361448  0.961626    0.430485   0.746951  0.453125\n",
       " 0.890714   0.695621   0.313172    0.106968   0.762546  0.836533\n",
       " 0.247637   0.679816   0.541043    0.648895   0.629722  0.59519 \n",
       " 0.435654   0.316492   0.440203    0.802498   0.498322  0.497286\n",
       " 0.173361   0.372168   0.0501745   0.548916   0.277411  0.417271\n",
       " 0.809233   0.584363   0.829686    0.359933   0.103296  0.799695\n",
       " 0.79869    0.227136   0.0154125   0.0905577  0.461017  0.931706\n",
       " 0.987896   0.238052   0.00562887  0.875917   0.300407  0.875745\n",
       " 0.96793    0.380237   0.938734    0.367883   0.649443  0.893643\n",
       " 0.585282   0.417965   0.489215    0.838784   0.367105  0.1624  \n",
       " 0.69429    0.350591   0.768042    0.298719   0.540029  0.793412\n",
       " 0.787962   0.329412   0.504155    0.0111757  0.955259  0.111902\n",
       " 0.643929   0.568615   0.454824    0.830413   0.270919  0.845801\n",
       " 0.105573   0.94331    0.207739    0.744482   0.866784  0.247901\n",
       " 0.0925378  0.278078   0.690563    0.917153   0.810725  0.450196\n",
       " 0.93422    0.569667   0.18542     0.458914   0.561993  0.21702 ),VB.RandomNode{Distributions.Normal}(:μ,[:j],[Distributions.Normal(μ=0.0, σ=1.0),Distributions.Normal(μ=0.0, σ=1.0),Distributions.Normal(μ=0.0, σ=1.0),Distributions.Normal(μ=0.0, σ=1.0),Distributions.Normal(μ=0.0, σ=1.0),Distributions.Normal(μ=0.0, σ=1.0)]),VB.RandomNode{Distributions.Gamma}(:τ,[:j],[Distributions.Gamma(α=1.1, θ=1.0),Distributions.Gamma(α=1.1, θ=1.0),Distributions.Gamma(α=1.1, θ=1.0),Distributions.Gamma(α=1.1, θ=1.0),Distributions.Gamma(α=1.1, θ=1.0),Distributions.Gamma(α=1.1, θ=1.0)]),VB.FactorInds([:i,:j],[20,6],Dict(:τ=>[2],:μ=>[2],:y=>[1,2])),Dict(:τ=>:τ,:μ=>:μ,:y=>:x)),VB.LogNormalFactor{1}(VB.RandomNode{Distributions.Normal}(:μ,[:j],[Distributions.Normal(μ=0.0, σ=1.0),Distributions.Normal(μ=0.0, σ=1.0),Distributions.Normal(μ=0.0, σ=1.0),Distributions.Normal(μ=0.0, σ=1.0),Distributions.Normal(μ=0.0, σ=1.0),Distributions.Normal(μ=0.0, σ=1.0)]),VB.ConstantNode{Float64}(:μ0,[:j],[0.0,0.0,0.0,0.0,0.0,0.0]),VB.ConstantNode{Float64}(:τ0,[:j],[2.0,2.0,2.0,2.0,2.0,2.0]),VB.FactorInds([:j],[6],Dict(:τ0=>[1],:μ=>[1],:μ0=>[1])),Dict(:τ0=>:τ,:μ=>:x,:μ0=>:μ)),VB.LogGammaFactor{1}(VB.RandomNode{Distributions.Gamma}(:τ,[:j],[Distributions.Gamma(α=1.1, θ=1.0),Distributions.Gamma(α=1.1, θ=1.0),Distributions.Gamma(α=1.1, θ=1.0),Distributions.Gamma(α=1.1, θ=1.0),Distributions.Gamma(α=1.1, θ=1.0),Distributions.Gamma(α=1.1, θ=1.0)]),VB.ConstantNode{Float64}(:a0,[:j],[1.1,1.1,1.1,1.1,1.1,1.1]),VB.ConstantNode{Float64}(:b0,[:j],[1.0,1.0,1.0,1.0,1.0,1.0]),VB.FactorInds([:j],[6],Dict(:τ=>[1],:b0=>[1],:a0=>[1])),Dict(:τ=>:x,:b0=>:β,:a0=>:α))],Dict{VB.Node,Array{Tuple{VB.Factor{N},Symbol},1}}(VB.ConstantNode{Float64}(:μ0,[:j],[0.0,0.0,0.0,0.0,0.0,0.0])=>Tuple{VB.Factor{N},Symbol}[(VB.LogNormalFactor{1}(VB.RandomNode{Distributions.Normal}(:μ,[:j],[Distributions.Normal(μ=0.0, σ=1.0),Distributions.Normal(μ=0.0, σ=1.0),Distributions.Normal(μ=0.0, σ=1.0),Distributions.Normal(μ=0.0, σ=1.0),Distributions.Normal(μ=0.0, σ=1.0),Distributions.Normal(μ=0.0, σ=1.0)]),VB.ConstantNode{Float64}(:μ0,[:j],[0.0,0.0,0.0,0.0,0.0,0.0]),VB.ConstantNode{Float64}(:τ0,[:j],[2.0,2.0,2.0,2.0,2.0,2.0]),VB.FactorInds([:j],[6],Dict(:τ0=>[1],:μ=>[1],:μ0=>[1])),Dict(:τ0=>:τ,:μ=>:x,:μ0=>:μ)),:μ)],VB.RandomNode{Distributions.Gamma}(:τ,[:j],[Distributions.Gamma(α=1.1, θ=1.0),Distributions.Gamma(α=1.1, θ=1.0),Distributions.Gamma(α=1.1, θ=1.0),Distributions.Gamma(α=1.1, θ=1.0),Distributions.Gamma(α=1.1, θ=1.0),Distributions.Gamma(α=1.1, θ=1.0)])=>Tuple{VB.Factor{N},Symbol}[(VB.LogNormalFactor{2}(VB.ConstantNode{Float64}(:y,[:i,:j],20x6 Array{Float64,2}:\n",
       " 0.904512   0.0884127  0.167459    0.686012   0.181552  0.459253\n",
       " 0.022691   0.778186   0.541389    0.626844   0.397803  0.411249\n",
       " 0.295733   0.704995   0.0518976   0.627556   0.616398  0.893151\n",
       " 0.157214   0.0201435  0.608738    0.524767   0.391051  0.563684\n",
       " 0.935745   0.0361448  0.961626    0.430485   0.746951  0.453125\n",
       " 0.890714   0.695621   0.313172    0.106968   0.762546  0.836533\n",
       " 0.247637   0.679816   0.541043    0.648895   0.629722  0.59519 \n",
       " 0.435654   0.316492   0.440203    0.802498   0.498322  0.497286\n",
       " 0.173361   0.372168   0.0501745   0.548916   0.277411  0.417271\n",
       " 0.809233   0.584363   0.829686    0.359933   0.103296  0.799695\n",
       " 0.79869    0.227136   0.0154125   0.0905577  0.461017  0.931706\n",
       " 0.987896   0.238052   0.00562887  0.875917   0.300407  0.875745\n",
       " 0.96793    0.380237   0.938734    0.367883   0.649443  0.893643\n",
       " 0.585282   0.417965   0.489215    0.838784   0.367105  0.1624  \n",
       " 0.69429    0.350591   0.768042    0.298719   0.540029  0.793412\n",
       " 0.787962   0.329412   0.504155    0.0111757  0.955259  0.111902\n",
       " 0.643929   0.568615   0.454824    0.830413   0.270919  0.845801\n",
       " 0.105573   0.94331    0.207739    0.744482   0.866784  0.247901\n",
       " 0.0925378  0.278078   0.690563    0.917153   0.810725  0.450196\n",
       " 0.93422    0.569667   0.18542     0.458914   0.561993  0.21702 ),VB.RandomNode{Distributions.Normal}(:μ,[:j],[Distributions.Normal(μ=0.0, σ=1.0),Distributions.Normal(μ=0.0, σ=1.0),Distributions.Normal(μ=0.0, σ=1.0),Distributions.Normal(μ=0.0, σ=1.0),Distributions.Normal(μ=0.0, σ=1.0),Distributions.Normal(μ=0.0, σ=1.0)]),VB.RandomNode{Distributions.Gamma}(:τ,[:j],[Distributions.Gamma(α=1.1, θ=1.0),Distributions.Gamma(α=1.1, θ=1.0),Distributions.Gamma(α=1.1, θ=1.0),Distributions.Gamma(α=1.1, θ=1.0),Distributions.Gamma(α=1.1, θ=1.0),Distributions.Gamma(α=1.1, θ=1.0)]),VB.FactorInds([:i,:j],[20,6],Dict(:τ=>[2],:μ=>[2],:y=>[1,2])),Dict(:τ=>:τ,:μ=>:μ,:y=>:x)),:τ),(VB.LogGammaFactor{1}(VB.RandomNode{Distributions.Gamma}(:τ,[:j],[Distributions.Gamma(α=1.1, θ=1.0),Distributions.Gamma(α=1.1, θ=1.0),Distributions.Gamma(α=1.1, θ=1.0),Distributions.Gamma(α=1.1, θ=1.0),Distributions.Gamma(α=1.1, θ=1.0),Distributions.Gamma(α=1.1, θ=1.0)]),VB.ConstantNode{Float64}(:a0,[:j],[1.1,1.1,1.1,1.1,1.1,1.1]),VB.ConstantNode{Float64}(:b0,[:j],[1.0,1.0,1.0,1.0,1.0,1.0]),VB.FactorInds([:j],[6],Dict(:τ=>[1],:b0=>[1],:a0=>[1])),Dict(:τ=>:x,:b0=>:β,:a0=>:α)),:x)],VB.ConstantNode{Float64}(:b0,[:j],[1.0,1.0,1.0,1.0,1.0,1.0])=>Tuple{VB.Factor{N},Symbol}[(VB.LogGammaFactor{1}(VB.RandomNode{Distributions.Gamma}(:τ,[:j],[Distributions.Gamma(α=1.1, θ=1.0),Distributions.Gamma(α=1.1, θ=1.0),Distributions.Gamma(α=1.1, θ=1.0),Distributions.Gamma(α=1.1, θ=1.0),Distributions.Gamma(α=1.1, θ=1.0),Distributions.Gamma(α=1.1, θ=1.0)]),VB.ConstantNode{Float64}(:a0,[:j],[1.1,1.1,1.1,1.1,1.1,1.1]),VB.ConstantNode{Float64}(:b0,[:j],[1.0,1.0,1.0,1.0,1.0,1.0]),VB.FactorInds([:j],[6],Dict(:τ=>[1],:b0=>[1],:a0=>[1])),Dict(:τ=>:x,:b0=>:β,:a0=>:α)),:β)],VB.RandomNode{Distributions.Normal}(:μ,[:j],[Distributions.Normal(μ=0.0, σ=1.0),Distributions.Normal(μ=0.0, σ=1.0),Distributions.Normal(μ=0.0, σ=1.0),Distributions.Normal(μ=0.0, σ=1.0),Distributions.Normal(μ=0.0, σ=1.0),Distributions.Normal(μ=0.0, σ=1.0)])=>Tuple{VB.Factor{N},Symbol}[(VB.LogNormalFactor{2}(VB.ConstantNode{Float64}(:y,[:i,:j],20x6 Array{Float64,2}:\n",
       " 0.904512   0.0884127  0.167459    0.686012   0.181552  0.459253\n",
       " 0.022691   0.778186   0.541389    0.626844   0.397803  0.411249\n",
       " 0.295733   0.704995   0.0518976   0.627556   0.616398  0.893151\n",
       " 0.157214   0.0201435  0.608738    0.524767   0.391051  0.563684\n",
       " 0.935745   0.0361448  0.961626    0.430485   0.746951  0.453125\n",
       " 0.890714   0.695621   0.313172    0.106968   0.762546  0.836533\n",
       " 0.247637   0.679816   0.541043    0.648895   0.629722  0.59519 \n",
       " 0.435654   0.316492   0.440203    0.802498   0.498322  0.497286\n",
       " 0.173361   0.372168   0.0501745   0.548916   0.277411  0.417271\n",
       " 0.809233   0.584363   0.829686    0.359933   0.103296  0.799695\n",
       " 0.79869    0.227136   0.0154125   0.0905577  0.461017  0.931706\n",
       " 0.987896   0.238052   0.00562887  0.875917   0.300407  0.875745\n",
       " 0.96793    0.380237   0.938734    0.367883   0.649443  0.893643\n",
       " 0.585282   0.417965   0.489215    0.838784   0.367105  0.1624  \n",
       " 0.69429    0.350591   0.768042    0.298719   0.540029  0.793412\n",
       " 0.787962   0.329412   0.504155    0.0111757  0.955259  0.111902\n",
       " 0.643929   0.568615   0.454824    0.830413   0.270919  0.845801\n",
       " 0.105573   0.94331    0.207739    0.744482   0.866784  0.247901\n",
       " 0.0925378  0.278078   0.690563    0.917153   0.810725  0.450196\n",
       " 0.93422    0.569667   0.18542     0.458914   0.561993  0.21702 ),VB.RandomNode{Distributions.Normal}(:μ,[:j],[Distributions.Normal(μ=0.0, σ=1.0),Distributions.Normal(μ=0.0, σ=1.0),Distributions.Normal(μ=0.0, σ=1.0),Distributions.Normal(μ=0.0, σ=1.0),Distributions.Normal(μ=0.0, σ=1.0),Distributions.Normal(μ=0.0, σ=1.0)]),VB.RandomNode{Distributions.Gamma}(:τ,[:j],[Distributions.Gamma(α=1.1, θ=1.0),Distributions.Gamma(α=1.1, θ=1.0),Distributions.Gamma(α=1.1, θ=1.0),Distributions.Gamma(α=1.1, θ=1.0),Distributions.Gamma(α=1.1, θ=1.0),Distributions.Gamma(α=1.1, θ=1.0)]),VB.FactorInds([:i,:j],[20,6],Dict(:τ=>[2],:μ=>[2],:y=>[1,2])),Dict(:τ=>:τ,:μ=>:μ,:y=>:x)),:μ),(VB.LogNormalFactor{1}(VB.RandomNode{Distributions.Normal}(:μ,[:j],[Distributions.Normal(μ=0.0, σ=1.0),Distributions.Normal(μ=0.0, σ=1.0),Distributions.Normal(μ=0.0, σ=1.0),Distributions.Normal(μ=0.0, σ=1.0),Distributions.Normal(μ=0.0, σ=1.0),Distributions.Normal(μ=0.0, σ=1.0)]),VB.ConstantNode{Float64}(:μ0,[:j],[0.0,0.0,0.0,0.0,0.0,0.0]),VB.ConstantNode{Float64}(:τ0,[:j],[2.0,2.0,2.0,2.0,2.0,2.0]),VB.FactorInds([:j],[6],Dict(:τ0=>[1],:μ=>[1],:μ0=>[1])),Dict(:τ0=>:τ,:μ=>:x,:μ0=>:μ)),:x)],VB.ConstantNode{Float64}(:a0,[:j],[1.1,1.1,1.1,1.1,1.1,1.1])=>Tuple{VB.Factor{N},Symbol}[(VB.LogGammaFactor{1}(VB.RandomNode{Distributions.Gamma}(:τ,[:j],[Distributions.Gamma(α=1.1, θ=1.0),Distributions.Gamma(α=1.1, θ=1.0),Distributions.Gamma(α=1.1, θ=1.0),Distributions.Gamma(α=1.1, θ=1.0),Distributions.Gamma(α=1.1, θ=1.0),Distributions.Gamma(α=1.1, θ=1.0)]),VB.ConstantNode{Float64}(:a0,[:j],[1.1,1.1,1.1,1.1,1.1,1.1]),VB.ConstantNode{Float64}(:b0,[:j],[1.0,1.0,1.0,1.0,1.0,1.0]),VB.FactorInds([:j],[6],Dict(:τ=>[1],:b0=>[1],:a0=>[1])),Dict(:τ=>:x,:b0=>:β,:a0=>:α)),:α)],VB.ConstantNode{Float64}(:τ0,[:j],[2.0,2.0,2.0,2.0,2.0,2.0])=>Tuple{VB.Factor{N},Symbol}[(VB.LogNormalFactor{1}(VB.RandomNode{Distributions.Normal}(:μ,[:j],[Distributions.Normal(μ=0.0, σ=1.0),Distributions.Normal(μ=0.0, σ=1.0),Distributions.Normal(μ=0.0, σ=1.0),Distributions.Normal(μ=0.0, σ=1.0),Distributions.Normal(μ=0.0, σ=1.0),Distributions.Normal(μ=0.0, σ=1.0)]),VB.ConstantNode{Float64}(:μ0,[:j],[0.0,0.0,0.0,0.0,0.0,0.0]),VB.ConstantNode{Float64}(:τ0,[:j],[2.0,2.0,2.0,2.0,2.0,2.0]),VB.FactorInds([:j],[6],Dict(:τ0=>[1],:μ=>[1],:μ0=>[1])),Dict(:τ0=>:τ,:μ=>:x,:μ0=>:μ)),:τ)],VB.ConstantNode{Float64}(:y,[:i,:j],20x6 Array{Float64,2}:\n",
       " 0.904512   0.0884127  0.167459    0.686012   0.181552  0.459253\n",
       " 0.022691   0.778186   0.541389    0.626844   0.397803  0.411249\n",
       " 0.295733   0.704995   0.0518976   0.627556   0.616398  0.893151\n",
       " 0.157214   0.0201435  0.608738    0.524767   0.391051  0.563684\n",
       " 0.935745   0.0361448  0.961626    0.430485   0.746951  0.453125\n",
       " 0.890714   0.695621   0.313172    0.106968   0.762546  0.836533\n",
       " 0.247637   0.679816   0.541043    0.648895   0.629722  0.59519 \n",
       " 0.435654   0.316492   0.440203    0.802498   0.498322  0.497286\n",
       " 0.173361   0.372168   0.0501745   0.548916   0.277411  0.417271\n",
       " 0.809233   0.584363   0.829686    0.359933   0.103296  0.799695\n",
       " 0.79869    0.227136   0.0154125   0.0905577  0.461017  0.931706\n",
       " 0.987896   0.238052   0.00562887  0.875917   0.300407  0.875745\n",
       " 0.96793    0.380237   0.938734    0.367883   0.649443  0.893643\n",
       " 0.585282   0.417965   0.489215    0.838784   0.367105  0.1624  \n",
       " 0.69429    0.350591   0.768042    0.298719   0.540029  0.793412\n",
       " 0.787962   0.329412   0.504155    0.0111757  0.955259  0.111902\n",
       " 0.643929   0.568615   0.454824    0.830413   0.270919  0.845801\n",
       " 0.105573   0.94331    0.207739    0.744482   0.866784  0.247901\n",
       " 0.0925378  0.278078   0.690563    0.917153   0.810725  0.450196\n",
       " 0.93422    0.569667   0.18542     0.458914   0.561993  0.21702 )=>Tuple{VB.Factor{N},Symbol}[(VB.LogNormalFactor{2}(VB.ConstantNode{Float64}(:y,[:i,:j],20x6 Array{Float64,2}:\n",
       " 0.904512   0.0884127  0.167459    0.686012   0.181552  0.459253\n",
       " 0.022691   0.778186   0.541389    0.626844   0.397803  0.411249\n",
       " 0.295733   0.704995   0.0518976   0.627556   0.616398  0.893151\n",
       " 0.157214   0.0201435  0.608738    0.524767   0.391051  0.563684\n",
       " 0.935745   0.0361448  0.961626    0.430485   0.746951  0.453125\n",
       " 0.890714   0.695621   0.313172    0.106968   0.762546  0.836533\n",
       " 0.247637   0.679816   0.541043    0.648895   0.629722  0.59519 \n",
       " 0.435654   0.316492   0.440203    0.802498   0.498322  0.497286\n",
       " 0.173361   0.372168   0.0501745   0.548916   0.277411  0.417271\n",
       " 0.809233   0.584363   0.829686    0.359933   0.103296  0.799695\n",
       " 0.79869    0.227136   0.0154125   0.0905577  0.461017  0.931706\n",
       " 0.987896   0.238052   0.00562887  0.875917   0.300407  0.875745\n",
       " 0.96793    0.380237   0.938734    0.367883   0.649443  0.893643\n",
       " 0.585282   0.417965   0.489215    0.838784   0.367105  0.1624  \n",
       " 0.69429    0.350591   0.768042    0.298719   0.540029  0.793412\n",
       " 0.787962   0.329412   0.504155    0.0111757  0.955259  0.111902\n",
       " 0.643929   0.568615   0.454824    0.830413   0.270919  0.845801\n",
       " 0.105573   0.94331    0.207739    0.744482   0.866784  0.247901\n",
       " 0.0925378  0.278078   0.690563    0.917153   0.810725  0.450196\n",
       " 0.93422    0.569667   0.18542     0.458914   0.561993  0.21702 ),VB.RandomNode{Distributions.Normal}(:μ,[:j],[Distributions.Normal(μ=0.0, σ=1.0),Distributions.Normal(μ=0.0, σ=1.0),Distributions.Normal(μ=0.0, σ=1.0),Distributions.Normal(μ=0.0, σ=1.0),Distributions.Normal(μ=0.0, σ=1.0),Distributions.Normal(μ=0.0, σ=1.0)]),VB.RandomNode{Distributions.Gamma}(:τ,[:j],[Distributions.Gamma(α=1.1, θ=1.0),Distributions.Gamma(α=1.1, θ=1.0),Distributions.Gamma(α=1.1, θ=1.0),Distributions.Gamma(α=1.1, θ=1.0),Distributions.Gamma(α=1.1, θ=1.0),Distributions.Gamma(α=1.1, θ=1.0)]),VB.FactorInds([:i,:j],[20,6],Dict(:τ=>[2],:μ=>[2],:y=>[1,2])),Dict(:τ=>:τ,:μ=>:μ,:y=>:x)),:x)]))"
      ]
     },
     "execution_count": 14,
     "metadata": {},
     "output_type": "execute_result"
    }
   ],
   "source": [
    "m = VBModel([μ, τ, μ0, τ0, a0, b0, y], [obs, μ_prior, τ_prior])"
   ]
  },
  {
   "cell_type": "code",
   "execution_count": 15,
   "metadata": {
    "collapsed": false
   },
   "outputs": [
    {
     "data": {
      "text/plain": [
       "7-element Array{Any,1}:\n",
       " :μ \n",
       " :τ \n",
       " :μ0\n",
       " :τ0\n",
       " :a0\n",
       " :b0\n",
       " :y "
      ]
     },
     "execution_count": 15,
     "metadata": {},
     "output_type": "execute_result"
    }
   ],
   "source": [
    "[n.name for n in m.nodes]"
   ]
  },
  {
   "cell_type": "code",
   "execution_count": 16,
   "metadata": {
    "collapsed": false
   },
   "outputs": [
    {
     "data": {
      "text/plain": [
       "3-element Array{DataType,1}:\n",
       " VB.LogNormalFactor{2}\n",
       " VB.LogNormalFactor{1}\n",
       " VB.LogGammaFactor{1} "
      ]
     },
     "execution_count": 16,
     "metadata": {},
     "output_type": "execute_result"
    }
   ],
   "source": [
    "[typeof(f) for f in m.factors]"
   ]
  },
  {
   "cell_type": "code",
   "execution_count": 17,
   "metadata": {
    "collapsed": false
   },
   "outputs": [
    {
     "data": {
      "text/plain": [
       "Dict{VB.Node,Array{Tuple{VB.Factor{N},Symbol},1}} with 7 entries:\n",
       "  VB.ConstantNode{Float64… => Tuple{VB.Factor{N},Symbol}[(VB.LogNormalFactor{1}…\n",
       "  VB.RandomNode{Distribut… => Tuple{VB.Factor{N},Symbol}[(VB.LogNormalFactor{2}…\n",
       "  VB.ConstantNode{Float64… => Tuple{VB.Factor{N},Symbol}[(VB.LogGammaFactor{1}(…\n",
       "  VB.RandomNode{Distribut… => Tuple{VB.Factor{N},Symbol}[(VB.LogNormalFactor{2}…\n",
       "  VB.ConstantNode{Float64… => Tuple{VB.Factor{N},Symbol}[(VB.LogGammaFactor{1}(…\n",
       "  VB.ConstantNode{Float64… => Tuple{VB.Factor{N},Symbol}[(VB.LogNormalFactor{1}…\n",
       "  VB.ConstantNode{Float64… => Tuple{VB.Factor{N},Symbol}[(VB.LogNormalFactor{2}…"
      ]
     },
     "execution_count": 17,
     "metadata": {},
     "output_type": "execute_result"
    }
   ],
   "source": [
    "m.graph"
   ]
  },
  {
   "cell_type": "code",
   "execution_count": 18,
   "metadata": {
    "collapsed": false
   },
   "outputs": [
    {
     "data": {
      "text/plain": [
       "quote  # /Users/jmxp/code/vbgraph/types.jl, line 335:\n",
       "    (Eμ,Eτ) = (E(project(f,:μ,(i_1,i_2))),E(project(f,:τ,(i_1,i_2)))) # /Users/jmxp/code/vbgraph/types.jl, line 336:\n",
       "    (Eμ .* Eτ,-Eτ / 2)\n",
       "end"
      ]
     },
     "execution_count": 18,
     "metadata": {},
     "output_type": "execute_result"
    }
   ],
   "source": [
    "vars = fieldnames(obs)\n",
    "macroexpand(:(@wrapvars $vars $(naturals(typeof(obs), Val{:x}, Normal)) (i_1, i_2)))"
   ]
  },
  {
   "cell_type": "code",
   "execution_count": 19,
   "metadata": {
    "collapsed": false
   },
   "outputs": [
    {
     "data": {
      "text/plain": [
       "6-element Array{Tuple{Float64,Float64},1}:\n",
       " (12.617885859516003,-11.000000000000002)\n",
       " (9.437346427583906,-11.000000000000002) \n",
       " (9.64163321182307,-11.000000000000002)  \n",
       " (11.876559994678296,-11.000000000000002)\n",
       " (11.427606303774803,-11.000000000000002)\n",
       " (12.601778355646031,-11.000000000000002)"
      ]
     },
     "execution_count": 19,
     "metadata": {},
     "output_type": "execute_result"
    }
   ],
   "source": [
    "naturals(obs, μ)"
   ]
  },
  {
   "cell_type": "code",
   "execution_count": 19,
   "metadata": {
    "collapsed": false
   },
   "outputs": [
    {
     "ename": "LoadError",
     "evalue": "LoadError: MethodError: `naturals` has no method matching naturals(::VB.LogNormalFactor{2}, ::Type{Val{:τ}}, ::VB.RandomNode{Distributions.Gamma})\nwhile loading In[19], in expression starting on line 1",
     "output_type": "error",
     "traceback": [
      "LoadError: MethodError: `naturals` has no method matching naturals(::VB.LogNormalFactor{2}, ::Type{Val{:τ}}, ::VB.RandomNode{Distributions.Gamma})\nwhile loading In[19], in expression starting on line 1",
      ""
     ]
    }
   ],
   "source": [
    "naturals(obs, Val{:τ}, τ)"
   ]
  },
  {
   "cell_type": "code",
   "execution_count": 20,
   "metadata": {
    "collapsed": false
   },
   "outputs": [
    {
     "data": {
      "text/plain": [
       "false"
      ]
     },
     "execution_count": 20,
     "metadata": {},
     "output_type": "execute_result"
    }
   ],
   "source": [
    "method_exists(naturals, (LogNormalFactor, Type{Val{:x}}, RandomNode{Normal}))"
   ]
  },
  {
   "cell_type": "code",
   "execution_count": 21,
   "metadata": {
    "collapsed": false
   },
   "outputs": [
    {
     "ename": "LoadError",
     "evalue": "LoadError: UndefVarError: check_conjugate not defined\nwhile loading In[21], in expression starting on line 1",
     "output_type": "error",
     "traceback": [
      "LoadError: UndefVarError: check_conjugate not defined\nwhile loading In[21], in expression starting on line 1",
      ""
     ]
    }
   ],
   "source": [
    "check_conjugate(m.nodes[:τ])"
   ]
  },
  {
   "cell_type": "code",
   "execution_count": 22,
   "metadata": {
    "collapsed": false
   },
   "outputs": [
    {
     "data": {
      "text/plain": [
       "6-element Array{Distributions.Normal,1}:\n",
       " Distributions.Normal(μ=0.0, σ=1.0)\n",
       " Distributions.Normal(μ=0.0, σ=1.0)\n",
       " Distributions.Normal(μ=0.0, σ=1.0)\n",
       " Distributions.Normal(μ=0.0, σ=1.0)\n",
       " Distributions.Normal(μ=0.0, σ=1.0)\n",
       " Distributions.Normal(μ=0.0, σ=1.0)"
      ]
     },
     "execution_count": 22,
     "metadata": {},
     "output_type": "execute_result"
    }
   ],
   "source": [
    "μ.data"
   ]
  },
  {
   "cell_type": "code",
   "execution_count": 23,
   "metadata": {
    "collapsed": false
   },
   "outputs": [
    {
     "ename": "LoadError",
     "evalue": "LoadError: UndefVarError: update! not defined\nwhile loading In[23], in expression starting on line 1",
     "output_type": "error",
     "traceback": [
      "LoadError: UndefVarError: update! not defined\nwhile loading In[23], in expression starting on line 1",
      ""
     ]
    }
   ],
   "source": [
    "update!(μ, Val{:conjugate})"
   ]
  },
  {
   "cell_type": "code",
   "execution_count": 24,
   "metadata": {
    "collapsed": false
   },
   "outputs": [
    {
     "data": {
      "text/plain": [
       "6-element Array{Distributions.Normal,1}:\n",
       " Distributions.Normal(μ=0.0, σ=1.0)\n",
       " Distributions.Normal(μ=0.0, σ=1.0)\n",
       " Distributions.Normal(μ=0.0, σ=1.0)\n",
       " Distributions.Normal(μ=0.0, σ=1.0)\n",
       " Distributions.Normal(μ=0.0, σ=1.0)\n",
       " Distributions.Normal(μ=0.0, σ=1.0)"
      ]
     },
     "execution_count": 24,
     "metadata": {},
     "output_type": "execute_result"
    }
   ],
   "source": [
    "μ.data"
   ]
  },
  {
   "cell_type": "code",
   "execution_count": null,
   "metadata": {
    "collapsed": true
   },
   "outputs": [],
   "source": []
  }
 ],
 "metadata": {
  "kernelspec": {
   "display_name": "Julia 0.4.1",
   "language": "julia",
   "name": "julia-0.4"
  },
  "language_info": {
   "file_extension": ".jl",
   "mimetype": "application/julia",
   "name": "julia",
   "version": "0.4.1"
  }
 },
 "nbformat": 4,
 "nbformat_minor": 0
}
