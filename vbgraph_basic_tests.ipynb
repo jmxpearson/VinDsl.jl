{
 "cells": [
  {
   "cell_type": "markdown",
   "metadata": {},
   "source": [
    "Let's try some basic tests of `vbgraph.jl`:"
   ]
  },
  {
   "cell_type": "code",
   "execution_count": 1,
   "metadata": {
    "collapsed": false
   },
   "outputs": [
    {
     "data": {
      "text/plain": [
       "E (generic function with 1 method)"
      ]
     },
     "execution_count": 1,
     "metadata": {},
     "output_type": "execute_result"
    }
   ],
   "source": [
    "include(\"vbgraph.jl\")"
   ]
  },
  {
   "cell_type": "markdown",
   "metadata": {},
   "source": [
    "Let's try to make a Gaussian node with several different sizes and parameterizations:"
   ]
  },
  {
   "cell_type": "code",
   "execution_count": 2,
   "metadata": {
    "collapsed": false
   },
   "outputs": [
    {
     "data": {
      "text/plain": [
       "3"
      ]
     },
     "execution_count": 2,
     "metadata": {},
     "output_type": "execute_result"
    }
   ],
   "source": [
    "ndims = (5, 5)  # node dimensions\n",
    "vardims = 3  # dimension of variable"
   ]
  },
  {
   "cell_type": "code",
   "execution_count": 3,
   "metadata": {
    "collapsed": false
   },
   "outputs": [],
   "source": [
    "μ = Array{Vector{Float64}}(ndims)\n",
    "Σ = Array{Matrix{Float64}}(ndims)\n",
    "\n",
    "for idx in eachindex(μ)\n",
    "    μ[idx] = rand(vardims)\n",
    "end\n",
    "\n",
    "for idx in eachindex(Σ)\n",
    "    C = rand(vardims, vardims)\n",
    "    Σ[idx] = C * C'\n",
    "end"
   ]
  },
  {
   "cell_type": "code",
   "execution_count": 4,
   "metadata": {
    "collapsed": false
   },
   "outputs": [
    {
     "data": {
      "text/plain": [
       "3-element Array{Float64,1}:\n",
       " 0.7137  \n",
       " 0.93228 \n",
       " 0.983038"
      ]
     },
     "execution_count": 4,
     "metadata": {},
     "output_type": "execute_result"
    }
   ],
   "source": [
    "μ[1]"
   ]
  },
  {
   "cell_type": "code",
   "execution_count": 5,
   "metadata": {
    "collapsed": false
   },
   "outputs": [
    {
     "data": {
      "text/plain": [
       "3x3 Array{Float64,2}:\n",
       " 1.07128   0.656745  0.309996\n",
       " 0.656745  0.765685  0.288767\n",
       " 0.309996  0.288767  0.31453 "
      ]
     },
     "execution_count": 5,
     "metadata": {},
     "output_type": "execute_result"
    }
   ],
   "source": [
    "Σ[1]"
   ]
  },
  {
   "cell_type": "code",
   "execution_count": 6,
   "metadata": {
    "collapsed": false
   },
   "outputs": [
    {
     "data": {
      "text/plain": [
       "0.06398447848039057"
      ]
     },
     "execution_count": 6,
     "metadata": {},
     "output_type": "execute_result"
    }
   ],
   "source": [
    "det(Σ[2])"
   ]
  },
  {
   "cell_type": "code",
   "execution_count": 7,
   "metadata": {
    "collapsed": false
   },
   "outputs": [
    {
     "data": {
      "text/plain": [
       "5x5 Array{Distributions.MvNormal{PDMats.PDMat,Array{Float64,1}},2}:\n",
       " FullNormal(\n",
       "dim: 3\n",
       "μ: [0.7136997033264394,0.9322795320075157,0.9830376060634602]\n",
       "Σ: 3x3 Array{Float64,2}:\n",
       " 1.07128   0.656745  0.309996\n",
       " 0.656745  0.765685  0.288767\n",
       " 0.309996  0.288767  0.31453 \n",
       ")\n",
       "   …  FullNormal(\n",
       "dim: 3\n",
       "μ: [0.8653547499344048,0.12793633209141264,0.6176918508539582]\n",
       "Σ: 3x3 Array{Float64,2}:\n",
       " 1.09935   0.750438  1.115   \n",
       " 0.750438  0.513072  0.758835\n",
       " 1.115     0.758835  1.14877 \n",
       ")\n",
       " \n",
       " FullNormal(\n",
       "dim: 3\n",
       "μ: [0.2300723257005466,0.012749336997825544,0.9851931269677983]\n",
       "Σ: 3x3 Array{Float64,2}:\n",
       " 0.302462  0.36545  0.422055\n",
       " 0.36545   1.52536  1.2389  \n",
       " 0.422055  1.2389   1.2744  \n",
       ")\n",
       "       FullNormal(\n",
       "dim: 3\n",
       "μ: [0.42765819437484365,0.9533440773520776,0.8038423300331985]\n",
       "Σ: 3x3 Array{Float64,2}:\n",
       " 1.27197   0.556267  0.620212\n",
       " 0.556267  0.534958  0.608186\n",
       " 0.620212  0.608186  0.843594\n",
       ")\n",
       " \n",
       " FullNormal(\n",
       "dim: 3\n",
       "μ: [0.1531479416081567,0.24493876254222813,0.4184946506977618]\n",
       "Σ: 3x3 Array{Float64,2}:\n",
       " 1.19231   0.599474  1.36145\n",
       " 0.599474  1.12335   1.12457\n",
       " 1.36145   1.12457   1.94073\n",
       ")\n",
       "        FullNormal(\n",
       "dim: 3\n",
       "μ: [0.7947241660126982,0.006077981979288882,0.4928546861223293]\n",
       "Σ: 3x3 Array{Float64,2}:\n",
       " 0.632251  0.749427  0.709265\n",
       " 0.749427  1.42139   0.645164\n",
       " 0.709265  0.645164  0.871449\n",
       ")\n",
       "\n",
       " FullNormal(\n",
       "dim: 3\n",
       "μ: [0.21154329808457395,0.45656504166272893,0.916757339552382]\n",
       "Σ: 3x3 Array{Float64,2}:\n",
       " 0.57555   0.358482  0.538722\n",
       " 0.358482  0.267925  0.411051\n",
       " 0.538722  0.411051  0.67672 \n",
       ")\n",
       "     FullNormal(\n",
       "dim: 3\n",
       "μ: [0.9057419562397029,0.23337930905661297,0.7055802078211781]\n",
       "Σ: 3x3 Array{Float64,2}:\n",
       " 1.87377  1.30552   1.54768\n",
       " 1.30552  0.971748  1.0195 \n",
       " 1.54768  1.0195    1.42034\n",
       ")\n",
       "       \n",
       " FullNormal(\n",
       "dim: 3\n",
       "μ: [0.46005731205173417,0.4740865938361418,0.7623417501061427]\n",
       "Σ: 3x3 Array{Float64,2}:\n",
       " 0.598482  0.987921  0.623134\n",
       " 0.987921  1.7682    0.831834\n",
       " 0.623134  0.831834  0.955818\n",
       ")\n",
       "     FullNormal(\n",
       "dim: 3\n",
       "μ: [0.9607337568522356,0.9179510075830799,0.45287409013420166]\n",
       "Σ: 3x3 Array{Float64,2}:\n",
       " 1.26027   0.904367  0.516241\n",
       " 0.904367  0.683871  0.335525\n",
       " 0.516241  0.335525  0.329566\n",
       ")\n",
       " "
      ]
     },
     "execution_count": 7,
     "metadata": {},
     "output_type": "execute_result"
    }
   ],
   "source": [
    "pars = (μ, Σ)\n",
    "aa = map(MultivariateNormal, pars...)"
   ]
  },
  {
   "cell_type": "code",
   "execution_count": 8,
   "metadata": {
    "collapsed": false
   },
   "outputs": [],
   "source": [
    "rr = RandomNode(aa, Factor[]);"
   ]
  },
  {
   "cell_type": "code",
   "execution_count": 9,
   "metadata": {
    "collapsed": false
   },
   "outputs": [
    {
     "data": {
      "text/plain": [
       "Array{Distributions.MvNormal{PDMats.PDMat,Array{Float64,1}},2}"
      ]
     },
     "execution_count": 9,
     "metadata": {},
     "output_type": "execute_result"
    }
   ],
   "source": [
    "typeof(aa)"
   ]
  },
  {
   "cell_type": "code",
   "execution_count": 10,
   "metadata": {
    "collapsed": false
   },
   "outputs": [
    {
     "data": {
      "text/plain": [
       "true"
      ]
     },
     "execution_count": 10,
     "metadata": {},
     "output_type": "execute_result"
    }
   ],
   "source": [
    "typeof(aa) <: AbstractArray{typeof(aa[1]), 2}"
   ]
  },
  {
   "cell_type": "code",
   "execution_count": 11,
   "metadata": {
    "collapsed": false
   },
   "outputs": [],
   "source": [
    "ss = RandomNode(MultivariateNormal, pars...);"
   ]
  },
  {
   "cell_type": "code",
   "execution_count": 12,
   "metadata": {
    "collapsed": false
   },
   "outputs": [
    {
     "data": {
      "text/plain": [
       "5x5 Array{Array{Float64,1},2}:\n",
       " [0.7136997033264394,0.9322795320075157,0.9830376060634602]    …  [0.8653547499344048,0.12793633209141264,0.6176918508539582] \n",
       " [0.2300723257005466,0.012749336997825544,0.9851931269677983]     [0.42765819437484365,0.9533440773520776,0.8038423300331985] \n",
       " [0.1531479416081567,0.24493876254222813,0.4184946506977618]      [0.7947241660126982,0.006077981979288882,0.4928546861223293]\n",
       " [0.21154329808457395,0.45656504166272893,0.916757339552382]      [0.9057419562397029,0.23337930905661297,0.7055802078211781] \n",
       " [0.46005731205173417,0.4740865938361418,0.7623417501061427]      [0.9607337568522356,0.9179510075830799,0.45287409013420166] "
      ]
     },
     "execution_count": 12,
     "metadata": {},
     "output_type": "execute_result"
    }
   ],
   "source": [
    "E(ss)"
   ]
  },
  {
   "cell_type": "code",
   "execution_count": 14,
   "metadata": {
    "collapsed": false
   },
   "outputs": [
    {
     "data": {
      "text/html": [
       "1 method for generic function <b>E</b>:<ul><li> E(x::<b>RandomNode{D<:Distributions.Distribution{F<:Distributions.VariateForm,S<:Distributions.ValueSupport},N}</b>) at <a href=\"file:///Users/jmxp/code/vbgraph/vbgraph.jl\" target=\"_blank\">/Users/jmxp/code/vbgraph/vbgraph.jl:26</a></ul>"
      ],
      "text/plain": [
       "# 1 method for generic function \"E\":\n",
       "E(x::RandomNode{D<:Distributions.Distribution{F<:Distributions.VariateForm,S<:Distributions.ValueSupport},N}) at /Users/jmxp/code/vbgraph/vbgraph.jl:26"
      ]
     },
     "execution_count": 14,
     "metadata": {},
     "output_type": "execute_result"
    }
   ],
   "source": [
    "methods(E)"
   ]
  },
  {
   "cell_type": "code",
   "execution_count": null,
   "metadata": {
    "collapsed": true
   },
   "outputs": [],
   "source": []
  }
 ],
 "metadata": {
  "kernelspec": {
   "display_name": "Julia 0.4.1",
   "language": "julia",
   "name": "julia-0.4"
  },
  "language_info": {
   "file_extension": ".jl",
   "mimetype": "application/julia",
   "name": "julia",
   "version": "0.4.1"
  }
 },
 "nbformat": 4,
 "nbformat_minor": 0
}
