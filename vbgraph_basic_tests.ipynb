{
 "cells": [
  {
   "cell_type": "markdown",
   "metadata": {},
   "source": [
    "Let's try some basic tests of `VB.jl`:"
   ]
  },
  {
   "cell_type": "code",
   "execution_count": 1,
   "metadata": {
    "collapsed": false
   },
   "outputs": [],
   "source": [
    "include(\"VB.jl\")\n",
    "using VB\n",
    "using Distributions"
   ]
  },
  {
   "cell_type": "markdown",
   "metadata": {},
   "source": [
    "# Make a node"
   ]
  },
  {
   "cell_type": "code",
   "execution_count": 2,
   "metadata": {
    "collapsed": false
   },
   "outputs": [
    {
     "data": {
      "text/plain": [
       "VB.RandomNode{Distributions.Gamma}(:b,[:j,:k],5x3 Array{Distributions.Gamma,2}:\n",
       " Distributions.Gamma(α=0.6835825409163594, θ=0.8302434075817287)    …  Distributions.Gamma(α=0.5374911369304947, θ=0.3911655757982906) \n",
       " Distributions.Gamma(α=0.5339856582890734, θ=0.9673379525374954)       Distributions.Gamma(α=0.5746172372406446, θ=0.42086587965651656)\n",
       " Distributions.Gamma(α=0.3845902716593208, θ=0.04316228514278886)      Distributions.Gamma(α=0.7030116194386717, θ=0.5579484513988313) \n",
       " Distributions.Gamma(α=0.7762307915066216, θ=0.7260466602168107)       Distributions.Gamma(α=0.7025900648946914, θ=0.824479320512072)  \n",
       " Distributions.Gamma(α=0.9730315925117083, θ=0.005543988674875822)     Distributions.Gamma(α=0.1055892432007155, θ=0.3141398998744296) )"
      ]
     },
     "execution_count": 2,
     "metadata": {},
     "output_type": "execute_result"
    }
   ],
   "source": [
    "μ = rand(5, 5)\n",
    "σ = rand(5, 5)\n",
    "aa = RandomNode(:a, [:i, :j], Normal, μ, σ)\n",
    "bb = RandomNode(:b, [:j, :k], Gamma, rand(5, 3), rand(5, 3))"
   ]
  },
  {
   "cell_type": "code",
   "execution_count": 3,
   "metadata": {
    "collapsed": false
   },
   "outputs": [
    {
     "data": {
      "text/plain": [
       "VB.ConstantNode{Float64}(symbol(\"##const#7589\"),[:i,:j],3x4 Array{Float64,2}:\n",
       " 0.105611  0.371904  0.63345    0.6777   \n",
       " 0.126563  0.603875  0.039767   0.611282 \n",
       " 0.244376  0.813678  0.0800067  0.0887114)"
      ]
     },
     "execution_count": 3,
     "metadata": {},
     "output_type": "execute_result"
    }
   ],
   "source": [
    "cc = ConstantNode(rand(3, 4), [:i, :j])"
   ]
  },
  {
   "cell_type": "code",
   "execution_count": 4,
   "metadata": {
    "collapsed": false
   },
   "outputs": [
    {
     "data": {
      "text/plain": [
       "VB.FactorInds([:i,:j,:k],[5,3,5],Dict(:a=>[1,2],:b=>[2,3]))"
      ]
     },
     "execution_count": 4,
     "metadata": {},
     "output_type": "execute_result"
    }
   ],
   "source": [
    "nodes = Node[aa, bb]\n",
    "fi = get_structure(nodes...)\n",
    "fi"
   ]
  },
  {
   "cell_type": "code",
   "execution_count": 5,
   "metadata": {
    "collapsed": false
   },
   "outputs": [
    {
     "name": "stdout",
     "output_type": "stream",
     "text": [
      "Expr "
     ]
    }
   ],
   "source": [
    "dump(:([i, j, k]))"
   ]
  },
  {
   "cell_type": "code",
   "execution_count": 6,
   "metadata": {
    "collapsed": false
   },
   "outputs": [],
   "source": [
    "dump(:(a[i, j] ~ B[x]))"
   ]
  },
  {
   "cell_type": "raw",
   "metadata": {},
   "source": [
    "macro node(name, inds, ntype, pars...)\n",
    "    local symname = Expr(:quote, name)\n",
    "    \n",
    "#     local syminds = \n",
    "    :(Node($symname, $inds))\n",
    "end"
   ]
  },
  {
   "cell_type": "raw",
   "metadata": {},
   "source": [
    "macroexpand(:(@node μ [:i :j :k] Normal ))"
   ]
  },
  {
   "cell_type": "markdown",
   "metadata": {},
   "source": [
    "# Make a factor"
   ]
  },
  {
   "cell_type": "code",
   "execution_count": 2,
   "metadata": {
    "collapsed": false
   },
   "outputs": [
    {
     "data": {
      "text/plain": [
       "VB.LogNormalFactor{3}(VB.FactorInds([:i,:j,:scalar],[10,2,1],Dict(:τ=>[3],:μ=>[2],:x=>[1,2])),VB.RandomNode{Distributions.Normal}(:x,[:i,:j],10x2 Array{Distributions.Normal,2}:\n",
       " Distributions.Normal(μ=0.24066657971648442, σ=1.0)  …  Distributions.Normal(μ=0.1376198246566982, σ=1.0)  \n",
       " Distributions.Normal(μ=0.37644750877443056, σ=1.0)     Distributions.Normal(μ=0.3996162277927855, σ=1.0)  \n",
       " Distributions.Normal(μ=0.9641029723202366, σ=1.0)      Distributions.Normal(μ=0.9987506888688007, σ=1.0)  \n",
       " Distributions.Normal(μ=0.03479771894599404, σ=1.0)     Distributions.Normal(μ=0.9580003289950512, σ=1.0)  \n",
       " Distributions.Normal(μ=0.32676780986611087, σ=1.0)     Distributions.Normal(μ=0.6068062541292154, σ=1.0)  \n",
       " Distributions.Normal(μ=0.44437861702291204, σ=1.0)  …  Distributions.Normal(μ=0.140598030358138, σ=1.0)   \n",
       " Distributions.Normal(μ=0.8210015353830207, σ=1.0)      Distributions.Normal(μ=0.8329649939648256, σ=1.0)  \n",
       " Distributions.Normal(μ=0.31395905333350393, σ=1.0)     Distributions.Normal(μ=0.9578358101976301, σ=1.0)  \n",
       " Distributions.Normal(μ=0.49902644059193557, σ=1.0)     Distributions.Normal(μ=0.008814535169303417, σ=1.0)\n",
       " Distributions.Normal(μ=0.6349349194019793, σ=1.0)      Distributions.Normal(μ=0.6121571499880925, σ=1.0)  ),VB.RandomNode{Distributions.Normal}(:μ,[:j],[Distributions.Normal(μ=0.05789151855421126, σ=1.0),Distributions.Normal(μ=0.7230744203257156, σ=1.0)]),VB.RandomNode{Distributions.Gamma}(:τ,[:scalar],[Distributions.Gamma(α=1.0, θ=1.0)]))"
      ]
     },
     "execution_count": 2,
     "metadata": {},
     "output_type": "execute_result"
    }
   ],
   "source": [
    "dims = (10, 2)\n",
    "μ = RandomNode(:μ, [:j], Normal, rand(dims[2]), ones(dims[2]))\n",
    "τ = RandomNode(:τ, [:scalar], Gamma, 1, 1)\n",
    "x = RandomNode(:x, [:i, :j], Normal, rand(dims), ones(dims))\n",
    "f = @factor LogNormalFactor x μ τ"
   ]
  },
  {
   "cell_type": "code",
   "execution_count": 25,
   "metadata": {
    "collapsed": false
   },
   "outputs": [
    {
     "data": {
      "text/plain": [
       "quote  # /Users/jmxp/code/vbgraph/types.jl, line 41:\n",
       "    fi = get_structure(x,μ,τ) # /Users/jmxp/code/vbgraph/types.jl, line 42:\n",
       "    LogNormalFactor{length(fi.indices)}(fi,x,μ,τ)\n",
       "end"
      ]
     },
     "execution_count": 25,
     "metadata": {},
     "output_type": "execute_result"
    }
   ],
   "source": [
    "macroexpand(:(@factor LogNormalFactor x μ τ))"
   ]
  },
  {
   "cell_type": "code",
   "execution_count": 27,
   "metadata": {
    "collapsed": false
   },
   "outputs": [
    {
     "data": {
      "text/plain": [
       "Distributions.Normal(μ=0.5215420301621809, σ=1.0)"
      ]
     },
     "execution_count": 27,
     "metadata": {},
     "output_type": "execute_result"
    }
   ],
   "source": [
    "project(f, :x, (3, 2, 5, 7, 9))"
   ]
  },
  {
   "cell_type": "markdown",
   "metadata": {},
   "source": [
    "# Make a (generated) value function"
   ]
  },
  {
   "cell_type": "code",
   "execution_count": 3,
   "metadata": {
    "collapsed": false
   },
   "outputs": [
    {
     "data": {
      "text/plain": [
       "-1.6364820211834816"
      ]
     },
     "execution_count": 3,
     "metadata": {},
     "output_type": "execute_result"
    }
   ],
   "source": [
    "value(f)"
   ]
  },
  {
   "cell_type": "code",
   "execution_count": 4,
   "metadata": {
    "collapsed": false
   },
   "outputs": [
    {
     "data": {
      "text/plain": [
       "-1.537827013900917"
      ]
     },
     "execution_count": 4,
     "metadata": {},
     "output_type": "execute_result"
    }
   ],
   "source": [
    "g = EntropyFactor(x)\n",
    "value(g)"
   ]
  },
  {
   "cell_type": "code",
   "execution_count": 5,
   "metadata": {
    "collapsed": false
   },
   "outputs": [
    {
     "data": {
      "text/plain": [
       "(31.131686486597527,-185.00519645896833)"
      ]
     },
     "execution_count": 5,
     "metadata": {},
     "output_type": "execute_result"
    }
   ],
   "source": [
    "naturals(x)"
   ]
  },
  {
   "cell_type": "markdown",
   "metadata": {},
   "source": [
    "# Let's make a simple model"
   ]
  },
  {
   "cell_type": "markdown",
   "metadata": {},
   "source": [
    "We want a simple model of inference for a normal distribution:\n",
    "\n",
    "$$\n",
    "\\begin{aligned}\n",
    "    y \\sim \\mathcal{N}(\\mu, \\tau) \\\\\n",
    "    \\mu \\sim \\mathcal{N}(\\mu_0, \\tau_0) \\\\\n",
    "    \\tau \\sim \\mathrm{Ga}(\\alpha, \\beta) \\\\\n",
    "    q(\\mu) = \\mathcal{N}(m, t) \\\\\n",
    "    q(\\tau) = \\mathrm{Ga}(a, b)\n",
    "\\end{aligned}\n",
    "$$\n",
    "\n",
    "This model is conjugate, and can be solved by straightforward updates of the natural parameters of the posterior."
   ]
  },
  {
   "cell_type": "markdown",
   "metadata": {},
   "source": [
    "## Make the nodes\n",
    "\n",
    "We need to make nodes for all the random variables that will need to be updated (we can also create nodes for parameter arrays, but these will be converted automatically if we don't)."
   ]
  },
  {
   "cell_type": "code",
   "execution_count": 12,
   "metadata": {
    "collapsed": false
   },
   "outputs": [],
   "source": [
    "dims = (5, 6)\n",
    "\n",
    "# note: it won't matter much how we initialize here\n",
    "μ = NodeArray(Normal, zeros(dims), ones(dims))\n",
    "τ = NodeArray(Gamma, ones(dims), ones(dims))\n",
    "\n",
    "nobs = 20\n",
    "y = rand(nobs, dims...);"
   ]
  },
  {
   "cell_type": "markdown",
   "metadata": {},
   "source": [
    "Now make factors: We need a Normal factor for the observation model plus a prior and an entropy for each node."
   ]
  },
  {
   "cell_type": "code",
   "execution_count": 13,
   "metadata": {
    "collapsed": false
   },
   "outputs": [
    {
     "data": {
      "text/plain": [
       "VB.LogGammaFactor(5x6 Array{Distributions.Gamma,2}:\n",
       " Distributions.Gamma(α=1.0, θ=1.0)  …  Distributions.Gamma(α=1.0, θ=1.0)\n",
       " Distributions.Gamma(α=1.0, θ=1.0)     Distributions.Gamma(α=1.0, θ=1.0)\n",
       " Distributions.Gamma(α=1.0, θ=1.0)     Distributions.Gamma(α=1.0, θ=1.0)\n",
       " Distributions.Gamma(α=1.0, θ=1.0)     Distributions.Gamma(α=1.0, θ=1.0)\n",
       " Distributions.Gamma(α=1.0, θ=1.0)     Distributions.Gamma(α=1.0, θ=1.0),5x6 Array{Float64,2}:\n",
       " 1.1  1.1  1.1  1.1  1.1  1.1\n",
       " 1.1  1.1  1.1  1.1  1.1  1.1\n",
       " 1.1  1.1  1.1  1.1  1.1  1.1\n",
       " 1.1  1.1  1.1  1.1  1.1  1.1\n",
       " 1.1  1.1  1.1  1.1  1.1  1.1,5x6 Array{Float64,2}:\n",
       " 1.0  1.0  1.0  1.0  1.0  1.0\n",
       " 1.0  1.0  1.0  1.0  1.0  1.0\n",
       " 1.0  1.0  1.0  1.0  1.0  1.0\n",
       " 1.0  1.0  1.0  1.0  1.0  1.0\n",
       " 1.0  1.0  1.0  1.0  1.0  1.0)"
      ]
     },
     "execution_count": 13,
     "metadata": {},
     "output_type": "execute_result"
    }
   ],
   "source": [
    "obs = LogNormalFactor(y, μ, τ)\n",
    "μ_prior = LogNormalFactor(μ, zeros(dims), 2 * ones(dims))\n",
    "τ_prior = LogGammaFactor(τ, 1.1 * ones(dims), ones(dims))"
   ]
  },
  {
   "cell_type": "code",
   "execution_count": 21,
   "metadata": {
    "collapsed": false
   },
   "outputs": [
    {
     "data": {
      "text/plain": [
       "(-38.35125483195037,-67.96536370453937,7.496173237795199)"
      ]
     },
     "execution_count": 21,
     "metadata": {},
     "output_type": "execute_result"
    }
   ],
   "source": [
    "value(obs), value(μ_prior), value(τ_prior)"
   ]
  },
  {
   "cell_type": "code",
   "execution_count": 22,
   "metadata": {
    "collapsed": false
   },
   "outputs": [
    {
     "data": {
      "text/plain": [
       "VB.VBModel(Dict{Symbol,VB.Node}(:τ=>VB.RandomNode{Distributions.Gamma,2}(5x6 Array{Distributions.Gamma,2}:\n",
       " Distributions.Gamma(α=1.0, θ=1.0)  …  Distributions.Gamma(α=1.0, θ=1.0)\n",
       " Distributions.Gamma(α=1.0, θ=1.0)     Distributions.Gamma(α=1.0, θ=1.0)\n",
       " Distributions.Gamma(α=1.0, θ=1.0)     Distributions.Gamma(α=1.0, θ=1.0)\n",
       " Distributions.Gamma(α=1.0, θ=1.0)     Distributions.Gamma(α=1.0, θ=1.0)\n",
       " Distributions.Gamma(α=1.0, θ=1.0)     Distributions.Gamma(α=1.0, θ=1.0),Dict{VB.Factor,Symbol}(VB.LogGammaFactor(VB.RandomNode{Distributions.Gamma,2}(#= circular reference =#),VB.ConstantNode{Float64,2}(5x6 Array{Float64,2}:\n",
       " 1.1  1.1  1.1  1.1  1.1  1.1\n",
       " 1.1  1.1  1.1  1.1  1.1  1.1\n",
       " 1.1  1.1  1.1  1.1  1.1  1.1\n",
       " 1.1  1.1  1.1  1.1  1.1  1.1\n",
       " 1.1  1.1  1.1  1.1  1.1  1.1,Dict{VB.Factor,Symbol}()),VB.ConstantNode{Float64,2}(5x6 Array{Float64,2}:\n",
       " 1.0  1.0  1.0  1.0  1.0  1.0\n",
       " 1.0  1.0  1.0  1.0  1.0  1.0\n",
       " 1.0  1.0  1.0  1.0  1.0  1.0\n",
       " 1.0  1.0  1.0  1.0  1.0  1.0\n",
       " 1.0  1.0  1.0  1.0  1.0  1.0,Dict{VB.Factor,Symbol}()))=>:x,VB.LogNormalFactor(VB.ConstantNode{Float64,2}(5x6 Array{Float64,2}:\n",
       " 0.019526  0.64192   0.920968   0.221961  0.497111  0.376147\n",
       " 0.645838  0.886014  0.635094   0.86881   0.173711  0.234695\n",
       " 0.571483  0.605633  0.240604   0.252273  0.424832  0.433595\n",
       " 0.246642  0.580497  0.81434    0.503185  0.399902  0.499845\n",
       " 0.8564    0.315123  0.0795404  0.555742  0.340429  0.753323,Dict{VB.Factor,Symbol}()),VB.RandomNode{Distributions.Normal,2}(5x6 Array{Distributions.Normal,2}:\n",
       " Distributions.Normal(μ=0.0, σ=1.0)  …  Distributions.Normal(μ=0.0, σ=1.0)\n",
       " Distributions.Normal(μ=0.0, σ=1.0)     Distributions.Normal(μ=0.0, σ=1.0)\n",
       " Distributions.Normal(μ=0.0, σ=1.0)     Distributions.Normal(μ=0.0, σ=1.0)\n",
       " Distributions.Normal(μ=0.0, σ=1.0)     Distributions.Normal(μ=0.0, σ=1.0)\n",
       " Distributions.Normal(μ=0.0, σ=1.0)     Distributions.Normal(μ=0.0, σ=1.0),Dict{VB.Factor,Symbol}(VB.LogNormalFactor(#= circular reference =#)=>:μ,VB.LogNormalFactor(VB.RandomNode{Distributions.Normal,2}(#= circular reference =#),VB.ConstantNode{Float64,2}(5x6 Array{Float64,2}:\n",
       " 0.0  0.0  0.0  0.0  0.0  0.0\n",
       " 0.0  0.0  0.0  0.0  0.0  0.0\n",
       " 0.0  0.0  0.0  0.0  0.0  0.0\n",
       " 0.0  0.0  0.0  0.0  0.0  0.0\n",
       " 0.0  0.0  0.0  0.0  0.0  0.0,Dict{VB.Factor,Symbol}()),VB.ConstantNode{Float64,2}(5x6 Array{Float64,2}:\n",
       " 2.0  2.0  2.0  2.0  2.0  2.0\n",
       " 2.0  2.0  2.0  2.0  2.0  2.0\n",
       " 2.0  2.0  2.0  2.0  2.0  2.0\n",
       " 2.0  2.0  2.0  2.0  2.0  2.0\n",
       " 2.0  2.0  2.0  2.0  2.0  2.0,Dict{VB.Factor,Symbol}()))=>:x)),VB.RandomNode{Distributions.Gamma,2}(#= circular reference =#))=>:τ)),:μ=>VB.RandomNode{Distributions.Normal,2}(5x6 Array{Distributions.Normal,2}:\n",
       " Distributions.Normal(μ=0.0, σ=1.0)  …  Distributions.Normal(μ=0.0, σ=1.0)\n",
       " Distributions.Normal(μ=0.0, σ=1.0)     Distributions.Normal(μ=0.0, σ=1.0)\n",
       " Distributions.Normal(μ=0.0, σ=1.0)     Distributions.Normal(μ=0.0, σ=1.0)\n",
       " Distributions.Normal(μ=0.0, σ=1.0)     Distributions.Normal(μ=0.0, σ=1.0)\n",
       " Distributions.Normal(μ=0.0, σ=1.0)     Distributions.Normal(μ=0.0, σ=1.0),Dict{VB.Factor,Symbol}(VB.LogNormalFactor(VB.ConstantNode{Float64,2}(5x6 Array{Float64,2}:\n",
       " 0.019526  0.64192   0.920968   0.221961  0.497111  0.376147\n",
       " 0.645838  0.886014  0.635094   0.86881   0.173711  0.234695\n",
       " 0.571483  0.605633  0.240604   0.252273  0.424832  0.433595\n",
       " 0.246642  0.580497  0.81434    0.503185  0.399902  0.499845\n",
       " 0.8564    0.315123  0.0795404  0.555742  0.340429  0.753323,Dict{VB.Factor,Symbol}()),VB.RandomNode{Distributions.Normal,2}(#= circular reference =#),VB.RandomNode{Distributions.Gamma,2}(5x6 Array{Distributions.Gamma,2}:\n",
       " Distributions.Gamma(α=1.0, θ=1.0)  …  Distributions.Gamma(α=1.0, θ=1.0)\n",
       " Distributions.Gamma(α=1.0, θ=1.0)     Distributions.Gamma(α=1.0, θ=1.0)\n",
       " Distributions.Gamma(α=1.0, θ=1.0)     Distributions.Gamma(α=1.0, θ=1.0)\n",
       " Distributions.Gamma(α=1.0, θ=1.0)     Distributions.Gamma(α=1.0, θ=1.0)\n",
       " Distributions.Gamma(α=1.0, θ=1.0)     Distributions.Gamma(α=1.0, θ=1.0),Dict{VB.Factor,Symbol}(VB.LogGammaFactor(VB.RandomNode{Distributions.Gamma,2}(#= circular reference =#),VB.ConstantNode{Float64,2}(5x6 Array{Float64,2}:\n",
       " 1.1  1.1  1.1  1.1  1.1  1.1\n",
       " 1.1  1.1  1.1  1.1  1.1  1.1\n",
       " 1.1  1.1  1.1  1.1  1.1  1.1\n",
       " 1.1  1.1  1.1  1.1  1.1  1.1\n",
       " 1.1  1.1  1.1  1.1  1.1  1.1,Dict{VB.Factor,Symbol}()),VB.ConstantNode{Float64,2}(5x6 Array{Float64,2}:\n",
       " 1.0  1.0  1.0  1.0  1.0  1.0\n",
       " 1.0  1.0  1.0  1.0  1.0  1.0\n",
       " 1.0  1.0  1.0  1.0  1.0  1.0\n",
       " 1.0  1.0  1.0  1.0  1.0  1.0\n",
       " 1.0  1.0  1.0  1.0  1.0  1.0,Dict{VB.Factor,Symbol}()))=>:x,VB.LogNormalFactor(#= circular reference =#)=>:τ)))=>:μ,VB.LogNormalFactor(VB.RandomNode{Distributions.Normal,2}(#= circular reference =#),VB.ConstantNode{Float64,2}(5x6 Array{Float64,2}:\n",
       " 0.0  0.0  0.0  0.0  0.0  0.0\n",
       " 0.0  0.0  0.0  0.0  0.0  0.0\n",
       " 0.0  0.0  0.0  0.0  0.0  0.0\n",
       " 0.0  0.0  0.0  0.0  0.0  0.0\n",
       " 0.0  0.0  0.0  0.0  0.0  0.0,Dict{VB.Factor,Symbol}()),VB.ConstantNode{Float64,2}(5x6 Array{Float64,2}:\n",
       " 2.0  2.0  2.0  2.0  2.0  2.0\n",
       " 2.0  2.0  2.0  2.0  2.0  2.0\n",
       " 2.0  2.0  2.0  2.0  2.0  2.0\n",
       " 2.0  2.0  2.0  2.0  2.0  2.0\n",
       " 2.0  2.0  2.0  2.0  2.0  2.0,Dict{VB.Factor,Symbol}()))=>:x))),VB.Factor[VB.LogNormalFactor(VB.ConstantNode{Float64,2}(5x6 Array{Float64,2}:\n",
       " 0.019526  0.64192   0.920968   0.221961  0.497111  0.376147\n",
       " 0.645838  0.886014  0.635094   0.86881   0.173711  0.234695\n",
       " 0.571483  0.605633  0.240604   0.252273  0.424832  0.433595\n",
       " 0.246642  0.580497  0.81434    0.503185  0.399902  0.499845\n",
       " 0.8564    0.315123  0.0795404  0.555742  0.340429  0.753323,Dict{VB.Factor,Symbol}()),VB.RandomNode{Distributions.Normal,2}(5x6 Array{Distributions.Normal,2}:\n",
       " Distributions.Normal(μ=0.0, σ=1.0)  …  Distributions.Normal(μ=0.0, σ=1.0)\n",
       " Distributions.Normal(μ=0.0, σ=1.0)     Distributions.Normal(μ=0.0, σ=1.0)\n",
       " Distributions.Normal(μ=0.0, σ=1.0)     Distributions.Normal(μ=0.0, σ=1.0)\n",
       " Distributions.Normal(μ=0.0, σ=1.0)     Distributions.Normal(μ=0.0, σ=1.0)\n",
       " Distributions.Normal(μ=0.0, σ=1.0)     Distributions.Normal(μ=0.0, σ=1.0),Dict{VB.Factor,Symbol}(VB.LogNormalFactor(#= circular reference =#)=>:μ,VB.LogNormalFactor(VB.RandomNode{Distributions.Normal,2}(#= circular reference =#),VB.ConstantNode{Float64,2}(5x6 Array{Float64,2}:\n",
       " 0.0  0.0  0.0  0.0  0.0  0.0\n",
       " 0.0  0.0  0.0  0.0  0.0  0.0\n",
       " 0.0  0.0  0.0  0.0  0.0  0.0\n",
       " 0.0  0.0  0.0  0.0  0.0  0.0\n",
       " 0.0  0.0  0.0  0.0  0.0  0.0,Dict{VB.Factor,Symbol}()),VB.ConstantNode{Float64,2}(5x6 Array{Float64,2}:\n",
       " 2.0  2.0  2.0  2.0  2.0  2.0\n",
       " 2.0  2.0  2.0  2.0  2.0  2.0\n",
       " 2.0  2.0  2.0  2.0  2.0  2.0\n",
       " 2.0  2.0  2.0  2.0  2.0  2.0\n",
       " 2.0  2.0  2.0  2.0  2.0  2.0,Dict{VB.Factor,Symbol}()))=>:x)),VB.RandomNode{Distributions.Gamma,2}(5x6 Array{Distributions.Gamma,2}:\n",
       " Distributions.Gamma(α=1.0, θ=1.0)  …  Distributions.Gamma(α=1.0, θ=1.0)\n",
       " Distributions.Gamma(α=1.0, θ=1.0)     Distributions.Gamma(α=1.0, θ=1.0)\n",
       " Distributions.Gamma(α=1.0, θ=1.0)     Distributions.Gamma(α=1.0, θ=1.0)\n",
       " Distributions.Gamma(α=1.0, θ=1.0)     Distributions.Gamma(α=1.0, θ=1.0)\n",
       " Distributions.Gamma(α=1.0, θ=1.0)     Distributions.Gamma(α=1.0, θ=1.0),Dict{VB.Factor,Symbol}(VB.LogGammaFactor(VB.RandomNode{Distributions.Gamma,2}(#= circular reference =#),VB.ConstantNode{Float64,2}(5x6 Array{Float64,2}:\n",
       " 1.1  1.1  1.1  1.1  1.1  1.1\n",
       " 1.1  1.1  1.1  1.1  1.1  1.1\n",
       " 1.1  1.1  1.1  1.1  1.1  1.1\n",
       " 1.1  1.1  1.1  1.1  1.1  1.1\n",
       " 1.1  1.1  1.1  1.1  1.1  1.1,Dict{VB.Factor,Symbol}()),VB.ConstantNode{Float64,2}(5x6 Array{Float64,2}:\n",
       " 1.0  1.0  1.0  1.0  1.0  1.0\n",
       " 1.0  1.0  1.0  1.0  1.0  1.0\n",
       " 1.0  1.0  1.0  1.0  1.0  1.0\n",
       " 1.0  1.0  1.0  1.0  1.0  1.0\n",
       " 1.0  1.0  1.0  1.0  1.0  1.0,Dict{VB.Factor,Symbol}()))=>:x,VB.LogNormalFactor(#= circular reference =#)=>:τ))),VB.LogNormalFactor(VB.RandomNode{Distributions.Normal,2}(5x6 Array{Distributions.Normal,2}:\n",
       " Distributions.Normal(μ=0.0, σ=1.0)  …  Distributions.Normal(μ=0.0, σ=1.0)\n",
       " Distributions.Normal(μ=0.0, σ=1.0)     Distributions.Normal(μ=0.0, σ=1.0)\n",
       " Distributions.Normal(μ=0.0, σ=1.0)     Distributions.Normal(μ=0.0, σ=1.0)\n",
       " Distributions.Normal(μ=0.0, σ=1.0)     Distributions.Normal(μ=0.0, σ=1.0)\n",
       " Distributions.Normal(μ=0.0, σ=1.0)     Distributions.Normal(μ=0.0, σ=1.0),Dict{VB.Factor,Symbol}(VB.LogNormalFactor(VB.ConstantNode{Float64,2}(5x6 Array{Float64,2}:\n",
       " 0.019526  0.64192   0.920968   0.221961  0.497111  0.376147\n",
       " 0.645838  0.886014  0.635094   0.86881   0.173711  0.234695\n",
       " 0.571483  0.605633  0.240604   0.252273  0.424832  0.433595\n",
       " 0.246642  0.580497  0.81434    0.503185  0.399902  0.499845\n",
       " 0.8564    0.315123  0.0795404  0.555742  0.340429  0.753323,Dict{VB.Factor,Symbol}()),VB.RandomNode{Distributions.Normal,2}(#= circular reference =#),VB.RandomNode{Distributions.Gamma,2}(5x6 Array{Distributions.Gamma,2}:\n",
       " Distributions.Gamma(α=1.0, θ=1.0)  …  Distributions.Gamma(α=1.0, θ=1.0)\n",
       " Distributions.Gamma(α=1.0, θ=1.0)     Distributions.Gamma(α=1.0, θ=1.0)\n",
       " Distributions.Gamma(α=1.0, θ=1.0)     Distributions.Gamma(α=1.0, θ=1.0)\n",
       " Distributions.Gamma(α=1.0, θ=1.0)     Distributions.Gamma(α=1.0, θ=1.0)\n",
       " Distributions.Gamma(α=1.0, θ=1.0)     Distributions.Gamma(α=1.0, θ=1.0),Dict{VB.Factor,Symbol}(VB.LogGammaFactor(VB.RandomNode{Distributions.Gamma,2}(#= circular reference =#),VB.ConstantNode{Float64,2}(5x6 Array{Float64,2}:\n",
       " 1.1  1.1  1.1  1.1  1.1  1.1\n",
       " 1.1  1.1  1.1  1.1  1.1  1.1\n",
       " 1.1  1.1  1.1  1.1  1.1  1.1\n",
       " 1.1  1.1  1.1  1.1  1.1  1.1\n",
       " 1.1  1.1  1.1  1.1  1.1  1.1,Dict{VB.Factor,Symbol}()),VB.ConstantNode{Float64,2}(5x6 Array{Float64,2}:\n",
       " 1.0  1.0  1.0  1.0  1.0  1.0\n",
       " 1.0  1.0  1.0  1.0  1.0  1.0\n",
       " 1.0  1.0  1.0  1.0  1.0  1.0\n",
       " 1.0  1.0  1.0  1.0  1.0  1.0\n",
       " 1.0  1.0  1.0  1.0  1.0  1.0,Dict{VB.Factor,Symbol}()))=>:x,VB.LogNormalFactor(#= circular reference =#)=>:τ)))=>:μ,VB.LogNormalFactor(#= circular reference =#)=>:x)),VB.ConstantNode{Float64,2}(5x6 Array{Float64,2}:\n",
       " 0.0  0.0  0.0  0.0  0.0  0.0\n",
       " 0.0  0.0  0.0  0.0  0.0  0.0\n",
       " 0.0  0.0  0.0  0.0  0.0  0.0\n",
       " 0.0  0.0  0.0  0.0  0.0  0.0\n",
       " 0.0  0.0  0.0  0.0  0.0  0.0,Dict{VB.Factor,Symbol}()),VB.ConstantNode{Float64,2}(5x6 Array{Float64,2}:\n",
       " 2.0  2.0  2.0  2.0  2.0  2.0\n",
       " 2.0  2.0  2.0  2.0  2.0  2.0\n",
       " 2.0  2.0  2.0  2.0  2.0  2.0\n",
       " 2.0  2.0  2.0  2.0  2.0  2.0\n",
       " 2.0  2.0  2.0  2.0  2.0  2.0,Dict{VB.Factor,Symbol}())),VB.LogGammaFactor(VB.RandomNode{Distributions.Gamma,2}(5x6 Array{Distributions.Gamma,2}:\n",
       " Distributions.Gamma(α=1.0, θ=1.0)  …  Distributions.Gamma(α=1.0, θ=1.0)\n",
       " Distributions.Gamma(α=1.0, θ=1.0)     Distributions.Gamma(α=1.0, θ=1.0)\n",
       " Distributions.Gamma(α=1.0, θ=1.0)     Distributions.Gamma(α=1.0, θ=1.0)\n",
       " Distributions.Gamma(α=1.0, θ=1.0)     Distributions.Gamma(α=1.0, θ=1.0)\n",
       " Distributions.Gamma(α=1.0, θ=1.0)     Distributions.Gamma(α=1.0, θ=1.0),Dict{VB.Factor,Symbol}(VB.LogGammaFactor(#= circular reference =#)=>:x,VB.LogNormalFactor(VB.ConstantNode{Float64,2}(5x6 Array{Float64,2}:\n",
       " 0.019526  0.64192   0.920968   0.221961  0.497111  0.376147\n",
       " 0.645838  0.886014  0.635094   0.86881   0.173711  0.234695\n",
       " 0.571483  0.605633  0.240604   0.252273  0.424832  0.433595\n",
       " 0.246642  0.580497  0.81434    0.503185  0.399902  0.499845\n",
       " 0.8564    0.315123  0.0795404  0.555742  0.340429  0.753323,Dict{VB.Factor,Symbol}()),VB.RandomNode{Distributions.Normal,2}(5x6 Array{Distributions.Normal,2}:\n",
       " Distributions.Normal(μ=0.0, σ=1.0)  …  Distributions.Normal(μ=0.0, σ=1.0)\n",
       " Distributions.Normal(μ=0.0, σ=1.0)     Distributions.Normal(μ=0.0, σ=1.0)\n",
       " Distributions.Normal(μ=0.0, σ=1.0)     Distributions.Normal(μ=0.0, σ=1.0)\n",
       " Distributions.Normal(μ=0.0, σ=1.0)     Distributions.Normal(μ=0.0, σ=1.0)\n",
       " Distributions.Normal(μ=0.0, σ=1.0)     Distributions.Normal(μ=0.0, σ=1.0),Dict{VB.Factor,Symbol}(VB.LogNormalFactor(#= circular reference =#)=>:μ,VB.LogNormalFactor(VB.RandomNode{Distributions.Normal,2}(#= circular reference =#),VB.ConstantNode{Float64,2}(5x6 Array{Float64,2}:\n",
       " 0.0  0.0  0.0  0.0  0.0  0.0\n",
       " 0.0  0.0  0.0  0.0  0.0  0.0\n",
       " 0.0  0.0  0.0  0.0  0.0  0.0\n",
       " 0.0  0.0  0.0  0.0  0.0  0.0\n",
       " 0.0  0.0  0.0  0.0  0.0  0.0,Dict{VB.Factor,Symbol}()),VB.ConstantNode{Float64,2}(5x6 Array{Float64,2}:\n",
       " 2.0  2.0  2.0  2.0  2.0  2.0\n",
       " 2.0  2.0  2.0  2.0  2.0  2.0\n",
       " 2.0  2.0  2.0  2.0  2.0  2.0\n",
       " 2.0  2.0  2.0  2.0  2.0  2.0\n",
       " 2.0  2.0  2.0  2.0  2.0  2.0,Dict{VB.Factor,Symbol}()))=>:x)),VB.RandomNode{Distributions.Gamma,2}(#= circular reference =#))=>:τ)),VB.ConstantNode{Float64,2}(5x6 Array{Float64,2}:\n",
       " 1.1  1.1  1.1  1.1  1.1  1.1\n",
       " 1.1  1.1  1.1  1.1  1.1  1.1\n",
       " 1.1  1.1  1.1  1.1  1.1  1.1\n",
       " 1.1  1.1  1.1  1.1  1.1  1.1\n",
       " 1.1  1.1  1.1  1.1  1.1  1.1,Dict{VB.Factor,Symbol}()),VB.ConstantNode{Float64,2}(5x6 Array{Float64,2}:\n",
       " 1.0  1.0  1.0  1.0  1.0  1.0\n",
       " 1.0  1.0  1.0  1.0  1.0  1.0\n",
       " 1.0  1.0  1.0  1.0  1.0  1.0\n",
       " 1.0  1.0  1.0  1.0  1.0  1.0\n",
       " 1.0  1.0  1.0  1.0  1.0  1.0,Dict{VB.Factor,Symbol}()))])"
      ]
     },
     "execution_count": 22,
     "metadata": {},
     "output_type": "execute_result"
    }
   ],
   "source": [
    "m = VBModel(Dict(:μ => μ, :τ => τ), [obs, μ_prior, τ_prior])"
   ]
  },
  {
   "cell_type": "code",
   "execution_count": 23,
   "metadata": {
    "collapsed": false
   },
   "outputs": [
    {
     "data": {
      "text/plain": [
       "Dict{VB.Factor,Symbol} with 2 entries:\n",
       "  VB.LogNormalFactor(VB.C… => :μ\n",
       "  VB.LogNormalFactor(VB.R… => :x"
      ]
     },
     "execution_count": 23,
     "metadata": {},
     "output_type": "execute_result"
    }
   ],
   "source": [
    "m.nodes[:μ].factormap"
   ]
  },
  {
   "cell_type": "code",
   "execution_count": 24,
   "metadata": {
    "collapsed": false
   },
   "outputs": [
    {
     "data": {
      "text/plain": [
       "(\n",
       "5x6 Array{Float64,2}:\n",
       " 0.0  0.0  0.0  0.0  0.0  0.0\n",
       " 0.0  0.0  0.0  0.0  0.0  0.0\n",
       " 0.0  0.0  0.0  0.0  0.0  0.0\n",
       " 0.0  0.0  0.0  0.0  0.0  0.0\n",
       " 0.0  0.0  0.0  0.0  0.0  0.0,\n",
       "\n",
       "5x6 Array{Float64,2}:\n",
       " -0.5  -0.5  -0.5  -0.5  -0.5  -0.5\n",
       " -0.5  -0.5  -0.5  -0.5  -0.5  -0.5\n",
       " -0.5  -0.5  -0.5  -0.5  -0.5  -0.5\n",
       " -0.5  -0.5  -0.5  -0.5  -0.5  -0.5\n",
       " -0.5  -0.5  -0.5  -0.5  -0.5  -0.5)"
      ]
     },
     "execution_count": 24,
     "metadata": {},
     "output_type": "execute_result"
    }
   ],
   "source": [
    "naturals(obs, Val{:x}, μ)"
   ]
  },
  {
   "cell_type": "code",
   "execution_count": 25,
   "metadata": {
    "collapsed": false
   },
   "outputs": [
    {
     "data": {
      "text/plain": [
       "(\n",
       "5x6 Array{Float64,2}:\n",
       " 0.019526  0.64192   0.920968   0.221961  0.497111  0.376147\n",
       " 0.645838  0.886014  0.635094   0.86881   0.173711  0.234695\n",
       " 0.571483  0.605633  0.240604   0.252273  0.424832  0.433595\n",
       " 0.246642  0.580497  0.81434    0.503185  0.399902  0.499845\n",
       " 0.8564    0.315123  0.0795404  0.555742  0.340429  0.753323,\n",
       "\n",
       "5x6 Array{Float64,2}:\n",
       " -0.5  -0.5  -0.5  -0.5  -0.5  -0.5\n",
       " -0.5  -0.5  -0.5  -0.5  -0.5  -0.5\n",
       " -0.5  -0.5  -0.5  -0.5  -0.5  -0.5\n",
       " -0.5  -0.5  -0.5  -0.5  -0.5  -0.5\n",
       " -0.5  -0.5  -0.5  -0.5  -0.5  -0.5)"
      ]
     },
     "execution_count": 25,
     "metadata": {},
     "output_type": "execute_result"
    }
   ],
   "source": [
    "naturals(obs, Val{:μ}, μ)"
   ]
  },
  {
   "cell_type": "code",
   "execution_count": 26,
   "metadata": {
    "collapsed": false
   },
   "outputs": [
    {
     "data": {
      "text/plain": [
       "(0.5,\n",
       "5x6 Array{Float64,2}:\n",
       " 0.500191  0.706031  0.924091  0.524633  0.62356   0.570743\n",
       " 0.708553  0.89251   0.701672  0.877416  0.515088  0.527541\n",
       " 0.663296  0.683396  0.528945  0.531821  0.590241  0.594002\n",
       " 0.530416  0.668488  0.831575  0.626598  0.579961  0.624922\n",
       " 0.86671   0.549651  0.503163  0.654425  0.557946  0.783748)"
      ]
     },
     "execution_count": 26,
     "metadata": {},
     "output_type": "execute_result"
    }
   ],
   "source": [
    "naturals(obs, Val{:τ}, τ)"
   ]
  },
  {
   "cell_type": "code",
   "execution_count": 27,
   "metadata": {
    "collapsed": false
   },
   "outputs": [
    {
     "data": {
      "text/plain": [
       "true"
      ]
     },
     "execution_count": 27,
     "metadata": {},
     "output_type": "execute_result"
    }
   ],
   "source": [
    "method_exists(naturals, (LogNormalFactor, Type{Val{:x}}, RandomNode{Normal}))"
   ]
  },
  {
   "cell_type": "code",
   "execution_count": 28,
   "metadata": {
    "collapsed": false
   },
   "outputs": [
    {
     "data": {
      "text/plain": [
       "true"
      ]
     },
     "execution_count": 28,
     "metadata": {},
     "output_type": "execute_result"
    }
   ],
   "source": [
    "check_conjugate(m.nodes[:τ])"
   ]
  },
  {
   "cell_type": "code",
   "execution_count": 29,
   "metadata": {
    "collapsed": false
   },
   "outputs": [
    {
     "data": {
      "text/plain": [
       "5x6 Array{Distributions.Normal,2}:\n",
       " Distributions.Normal(μ=0.0, σ=1.0)  …  Distributions.Normal(μ=0.0, σ=1.0)\n",
       " Distributions.Normal(μ=0.0, σ=1.0)     Distributions.Normal(μ=0.0, σ=1.0)\n",
       " Distributions.Normal(μ=0.0, σ=1.0)     Distributions.Normal(μ=0.0, σ=1.0)\n",
       " Distributions.Normal(μ=0.0, σ=1.0)     Distributions.Normal(μ=0.0, σ=1.0)\n",
       " Distributions.Normal(μ=0.0, σ=1.0)     Distributions.Normal(μ=0.0, σ=1.0)"
      ]
     },
     "execution_count": 29,
     "metadata": {},
     "output_type": "execute_result"
    }
   ],
   "source": [
    "μ.data"
   ]
  },
  {
   "cell_type": "code",
   "execution_count": 30,
   "metadata": {
    "collapsed": false
   },
   "outputs": [],
   "source": [
    "update!(μ, Val{:conjugate})"
   ]
  },
  {
   "cell_type": "code",
   "execution_count": 31,
   "metadata": {
    "collapsed": false
   },
   "outputs": [
    {
     "data": {
      "text/plain": [
       "5x6 Array{Distributions.Normal,2}:\n",
       " Distributions.Normal(μ=-0.33974642587876164, σ=0.7071067811865476)  …  Distributions.Normal(μ=-0.08757735964789944, σ=0.7071067811865476)   \n",
       " Distributions.Normal(μ=0.1031230083822061, σ=0.7071067811865476)       Distributions.Normal(μ=-0.18759892024976002, σ=0.7071067811865476)   \n",
       " Distributions.Normal(μ=0.05054604661844582, σ=0.7071067811865476)      Distributions.Normal(μ=-0.046955363717725414, σ=0.7071067811865476)  \n",
       " Distributions.Normal(μ=-0.17915149839257358, σ=0.7071067811865476)     Distributions.Normal(μ=-0.00010971345274074199, σ=0.7071067811865476)\n",
       " Distributions.Normal(μ=0.2520128176967853, σ=0.7071067811865476)       Distributions.Normal(μ=0.17912620274862429, σ=0.7071067811865476)    "
      ]
     },
     "execution_count": 31,
     "metadata": {},
     "output_type": "execute_result"
    }
   ],
   "source": [
    "μ.data"
   ]
  },
  {
   "cell_type": "code",
   "execution_count": null,
   "metadata": {
    "collapsed": true
   },
   "outputs": [],
   "source": []
  }
 ],
 "metadata": {
  "kernelspec": {
   "display_name": "Julia 0.4.1",
   "language": "julia",
   "name": "julia-0.4"
  },
  "language_info": {
   "file_extension": ".jl",
   "mimetype": "application/julia",
   "name": "julia",
   "version": "0.4.1"
  }
 },
 "nbformat": 4,
 "nbformat_minor": 0
}
