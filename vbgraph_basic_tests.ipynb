{
 "cells": [
  {
   "cell_type": "markdown",
   "metadata": {},
   "source": [
    "Let's try some basic tests of `vbgraph.jl`:"
   ]
  },
  {
   "cell_type": "code",
   "execution_count": 1,
   "metadata": {
    "collapsed": false
   },
   "outputs": [],
   "source": [
    "include(\"vbgraph.jl\")"
   ]
  },
  {
   "cell_type": "markdown",
   "metadata": {},
   "source": [
    "Let's try to make a Gaussian node with several different sizes and parameterizations:"
   ]
  },
  {
   "cell_type": "code",
   "execution_count": 2,
   "metadata": {
    "collapsed": false
   },
   "outputs": [
    {
     "data": {
      "text/plain": [
       "3"
      ]
     },
     "execution_count": 2,
     "metadata": {},
     "output_type": "execute_result"
    }
   ],
   "source": [
    "ndims = (5, 5)  # node dimensions\n",
    "vardims = 3  # dimension of variable"
   ]
  },
  {
   "cell_type": "code",
   "execution_count": 3,
   "metadata": {
    "collapsed": false
   },
   "outputs": [],
   "source": [
    "μ = Array{Vector{Float64}}(ndims)\n",
    "Σ = Array{Matrix{Float64}}(ndims)\n",
    "\n",
    "for idx in eachindex(μ)\n",
    "    μ[idx] = rand(vardims)\n",
    "end\n",
    "\n",
    "for idx in eachindex(Σ)\n",
    "    C = rand(vardims, vardims)\n",
    "    Σ[idx] = C * C'\n",
    "end"
   ]
  },
  {
   "cell_type": "code",
   "execution_count": 4,
   "metadata": {
    "collapsed": false
   },
   "outputs": [
    {
     "data": {
      "text/plain": [
       "3-element Array{Float64,1}:\n",
       " 0.150363\n",
       " 0.940933\n",
       " 0.360343"
      ]
     },
     "execution_count": 4,
     "metadata": {},
     "output_type": "execute_result"
    }
   ],
   "source": [
    "μ[1]"
   ]
  },
  {
   "cell_type": "code",
   "execution_count": 5,
   "metadata": {
    "collapsed": false
   },
   "outputs": [
    {
     "data": {
      "text/plain": [
       "3x3 Array{Float64,2}:\n",
       " 0.9477    0.707345  1.12777\n",
       " 0.707345  0.942082  1.13008\n",
       " 1.12777   1.13008   1.60086"
      ]
     },
     "execution_count": 5,
     "metadata": {},
     "output_type": "execute_result"
    }
   ],
   "source": [
    "Σ[1]"
   ]
  },
  {
   "cell_type": "code",
   "execution_count": 6,
   "metadata": {
    "collapsed": false
   },
   "outputs": [
    {
     "data": {
      "text/plain": [
       "0.0007367037796127104"
      ]
     },
     "execution_count": 6,
     "metadata": {},
     "output_type": "execute_result"
    }
   ],
   "source": [
    "det(Σ[2])"
   ]
  },
  {
   "cell_type": "code",
   "execution_count": 7,
   "metadata": {
    "collapsed": false
   },
   "outputs": [
    {
     "data": {
      "text/plain": [
       "5x5 Array{Distributions.MvNormal{PDMats.PDMat,Array{Float64,1}},2}:\n",
       " FullNormal(\n",
       "dim: 3\n",
       "μ: [0.15036283770005543,0.9409328520444713,0.3603433478233937]\n",
       "Σ: 3x3 Array{Float64,2}:\n",
       " 0.9477    0.707345  1.12777\n",
       " 0.707345  0.942082  1.13008\n",
       " 1.12777   1.13008   1.60086\n",
       ")\n",
       "     …  FullNormal(\n",
       "dim: 3\n",
       "μ: [0.6216528932467331,0.25992317009623234,0.9131081367176188]\n",
       "Σ: 3x3 Array{Float64,2}:\n",
       " 1.62215   1.04346   0.538243\n",
       " 1.04346   1.70547   0.368588\n",
       " 0.538243  0.368588  0.261057\n",
       ")\n",
       "\n",
       " FullNormal(\n",
       "dim: 3\n",
       "μ: [0.701350127045336,0.5144044472558258,0.24229430092094795]\n",
       "Σ: 3x3 Array{Float64,2}:\n",
       " 0.457368  0.650166  0.815844\n",
       " 0.650166  0.956508  1.17558 \n",
       " 0.815844  1.17558   1.51296 \n",
       ")\n",
       "      FullNormal(\n",
       "dim: 3\n",
       "μ: [0.38219511544506535,0.9453906205138853,0.21124208015455959]\n",
       "Σ: 3x3 Array{Float64,2}:\n",
       " 0.23745   0.407955  0.57381\n",
       " 0.407955  0.746279  1.01247\n",
       " 0.57381   1.01247   1.43159\n",
       ")\n",
       "  \n",
       " FullNormal(\n",
       "dim: 3\n",
       "μ: [0.4333416496895155,0.656419059463901,0.3118475896207493]\n",
       "Σ: 3x3 Array{Float64,2}:\n",
       " 1.22776   0.870237  1.04428 \n",
       " 0.870237  1.10026   0.877011\n",
       " 1.04428   0.877011  0.951945\n",
       ")\n",
       "       FullNormal(\n",
       "dim: 3\n",
       "μ: [0.7862210661568452,0.38042542886300645,0.7288666989129267]\n",
       "Σ: 3x3 Array{Float64,2}:\n",
       " 1.9183    1.34231   0.643644\n",
       " 1.34231   1.06283   0.563097\n",
       " 0.643644  0.563097  0.318782\n",
       ")\n",
       "\n",
       " FullNormal(\n",
       "dim: 3\n",
       "μ: [0.4244110939604173,0.31333650560035897,0.8145300767802208]\n",
       "Σ: 3x3 Array{Float64,2}:\n",
       " 0.739398  0.870887  0.886949\n",
       " 0.870887  1.54041   1.70542 \n",
       " 0.886949  1.70542   2.05039 \n",
       ")\n",
       "     FullNormal(\n",
       "dim: 3\n",
       "μ: [0.03154990977538663,0.45811960327362744,0.4050102109996738]\n",
       "Σ: 3x3 Array{Float64,2}:\n",
       " 0.956909  1.19786  0.732556\n",
       " 1.19786   1.81594  1.02629 \n",
       " 0.732556  1.02629  0.703958\n",
       ")\n",
       "  \n",
       " FullNormal(\n",
       "dim: 3\n",
       "μ: [0.2717023012003057,0.8078099308497722,0.45251612025152754]\n",
       "Σ: 3x3 Array{Float64,2}:\n",
       " 1.14774  0.28169   1.09194 \n",
       " 0.28169  0.577153  0.674452\n",
       " 1.09194  0.674452  1.37863 \n",
       ")\n",
       "        FullNormal(\n",
       "dim: 3\n",
       "μ: [0.8298961588449425,0.8484720008077027,0.6379756827018639]\n",
       "Σ: 3x3 Array{Float64,2}:\n",
       " 0.246917  0.247835  0.151645\n",
       " 0.247835  0.356458  0.430443\n",
       " 0.151645  0.430443  1.12578 \n",
       ")\n",
       " "
      ]
     },
     "execution_count": 7,
     "metadata": {},
     "output_type": "execute_result"
    }
   ],
   "source": [
    "pars = (μ, Σ)\n",
    "aa = map(MultivariateNormal, pars...)"
   ]
  },
  {
   "cell_type": "code",
   "execution_count": 8,
   "metadata": {
    "collapsed": false
   },
   "outputs": [
    {
     "ename": "LoadError",
     "evalue": "LoadError: MethodError: `convert` has no method matching convert(::Type{RandomNode{D<:Distributions.Distribution{F<:Distributions.VariateForm,S<:Distributions.ValueSupport},N,A<:AbstractArray{T,N}}}, ::Array{Distributions.MvNormal{PDMats.PDMat,Array{Float64,1}},2}, ::Array{Factor,1})\nThis may have arisen from a call to the constructor RandomNode{D<:Distributions.Distribution{F<:Distributions.VariateForm,S<:Distributions.ValueSupport},N,A<:AbstractArray{T,N}}(...),\nsince type constructors fall back to convert methods.\nClosest candidates are:\n  call{T}(::Type{T}, ::Any)\n  convert{T}(::Type{T}, !Matched::T)\nwhile loading In[8], in expression starting on line 1",
     "output_type": "error",
     "traceback": [
      "LoadError: MethodError: `convert` has no method matching convert(::Type{RandomNode{D<:Distributions.Distribution{F<:Distributions.VariateForm,S<:Distributions.ValueSupport},N,A<:AbstractArray{T,N}}}, ::Array{Distributions.MvNormal{PDMats.PDMat,Array{Float64,1}},2}, ::Array{Factor,1})\nThis may have arisen from a call to the constructor RandomNode{D<:Distributions.Distribution{F<:Distributions.VariateForm,S<:Distributions.ValueSupport},N,A<:AbstractArray{T,N}}(...),\nsince type constructors fall back to convert methods.\nClosest candidates are:\n  call{T}(::Type{T}, ::Any)\n  convert{T}(::Type{T}, !Matched::T)\nwhile loading In[8], in expression starting on line 1",
      "",
      " in call at essentials.jl:57"
     ]
    }
   ],
   "source": [
    "rr = RandomNode(aa, Factor[])"
   ]
  },
  {
   "cell_type": "code",
   "execution_count": 9,
   "metadata": {
    "collapsed": false
   },
   "outputs": [
    {
     "data": {
      "text/plain": [
       "Array{Distributions.MvNormal{PDMats.PDMat,Array{Float64,1}},2}"
      ]
     },
     "execution_count": 9,
     "metadata": {},
     "output_type": "execute_result"
    }
   ],
   "source": [
    "typeof(aa)"
   ]
  },
  {
   "cell_type": "code",
   "execution_count": 10,
   "metadata": {
    "collapsed": false
   },
   "outputs": [
    {
     "data": {
      "text/plain": [
       "true"
      ]
     },
     "execution_count": 10,
     "metadata": {},
     "output_type": "execute_result"
    }
   ],
   "source": [
    "typeof(aa) <: AbstractArray{typeof(aa[1]), 2}"
   ]
  },
  {
   "cell_type": "code",
   "execution_count": 11,
   "metadata": {
    "collapsed": false
   },
   "outputs": [
    {
     "data": {
      "text/plain": [
       "RandomNode{Distributions.MvNormal{PDMats.PDMat,Array{Float64,1}},2}(5x5 Array{Distributions.MvNormal{PDMats.PDMat,Array{Float64,1}},2}:\n",
       " FullNormal(\n",
       "dim: 3\n",
       "μ: [0.17511908291078537,0.9250255394812403,0.4328455990818858]\n",
       "Σ: 3x3 Array{Float64,2}:\n",
       " 0.865937  1.03344   0.580606\n",
       " 1.03344   1.26273   0.786931\n",
       " 0.580606  0.786931  0.839992\n",
       ")\n",
       "   …  FullNormal(\n",
       "dim: 3\n",
       "μ: [0.4572421699676201,0.9910682583324493,0.3588825998739198]\n",
       "Σ: 3x3 Array{Float64,2}:\n",
       " 1.13069   0.154043   0.925126\n",
       " 0.154043  0.0303103  0.117927\n",
       " 0.925126  0.117927   1.63713 \n",
       ")\n",
       "\n",
       " FullNormal(\n",
       "dim: 3\n",
       "μ: [0.8952293595054748,0.20523356770212087,0.6902354907277803]\n",
       "Σ: 3x3 Array{Float64,2}:\n",
       " 0.456633  0.627108  0.627088\n",
       " 0.627108  0.984303  0.69987 \n",
       " 0.627088  0.69987   1.21318 \n",
       ")\n",
       "      FullNormal(\n",
       "dim: 3\n",
       "μ: [0.8791630447235963,0.9446592392229962,0.6897791575611507]\n",
       "Σ: 3x3 Array{Float64,2}:\n",
       " 0.795506  0.568989  1.07804\n",
       " 0.568989  0.728935  1.00827\n",
       " 1.07804   1.00827   1.63713\n",
       ")\n",
       "      \n",
       " FullNormal(\n",
       "dim: 3\n",
       "μ: [0.11390987828380061,0.06607056434180558,0.8524854232741179]\n",
       "Σ: 3x3 Array{Float64,2}:\n",
       " 0.396642  0.496748  0.440575\n",
       " 0.496748  0.819615  0.484599\n",
       " 0.440575  0.484599  0.535989\n",
       ")\n",
       "     FullNormal(\n",
       "dim: 3\n",
       "μ: [0.9267497077393287,0.4258203983613231,0.6151885528606216]\n",
       "Σ: 3x3 Array{Float64,2}:\n",
       " 0.981992  0.862372  0.361548\n",
       " 0.862372  1.77506   0.355517\n",
       " 0.361548  0.355517  0.135425\n",
       ")\n",
       "   \n",
       " FullNormal(\n",
       "dim: 3\n",
       "μ: [0.13589281642876316,0.5503511450526943,0.5508516370837295]\n",
       "Σ: 3x3 Array{Float64,2}:\n",
       " 0.751403  0.773074  0.245152\n",
       " 0.773074  1.29447   0.936622\n",
       " 0.245152  0.936622  1.02317 \n",
       ")\n",
       "      FullNormal(\n",
       "dim: 3\n",
       "μ: [0.8307292054137763,0.8227871028522742,0.030856664305390025]\n",
       "Σ: 3x3 Array{Float64,2}:\n",
       " 1.28067   1.19334   0.585854\n",
       " 1.19334   1.42823   0.616346\n",
       " 0.585854  0.616346  0.323948\n",
       ")\n",
       " \n",
       " FullNormal(\n",
       "dim: 3\n",
       "μ: [0.6708175208536264,0.9927960294667837,0.20183090949949078]\n",
       "Σ: 3x3 Array{Float64,2}:\n",
       " 1.20721  1.2615   1.17096\n",
       " 1.2615   1.52156  1.05357\n",
       " 1.17096  1.05357  1.35656\n",
       ")\n",
       "               FullNormal(\n",
       "dim: 3\n",
       "μ: [0.36715535561468826,0.752489235620412,0.9279289664125996]\n",
       "Σ: 3x3 Array{Float64,2}:\n",
       " 1.42299   0.494461  1.02632 \n",
       " 0.494461  0.895119  0.355086\n",
       " 1.02632   0.355086  0.988791\n",
       ")\n",
       "   ,Factor[])"
      ]
     },
     "execution_count": 11,
     "metadata": {},
     "output_type": "execute_result"
    }
   ],
   "source": [
    "ss = RandomNode(MultivariateNormal, pars...)"
   ]
  },
  {
   "cell_type": "code",
   "execution_count": null,
   "metadata": {
    "collapsed": true
   },
   "outputs": [],
   "source": []
  }
 ],
 "metadata": {
  "kernelspec": {
   "display_name": "Julia 0.4.1",
   "language": "julia",
   "name": "julia-0.4"
  },
  "language_info": {
   "file_extension": ".jl",
   "mimetype": "application/julia",
   "name": "julia",
   "version": "0.4.1"
  }
 },
 "nbformat": 4,
 "nbformat_minor": 0
}
