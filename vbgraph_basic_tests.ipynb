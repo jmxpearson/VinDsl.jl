{
 "cells": [
  {
   "cell_type": "markdown",
   "metadata": {},
   "source": [
    "Let's try some basic tests of `VB.jl`:"
   ]
  },
  {
   "cell_type": "code",
   "execution_count": 1,
   "metadata": {
    "collapsed": false
   },
   "outputs": [],
   "source": [
    "include(\"VB.jl\")\n",
    "using VB\n",
    "using Distributions"
   ]
  },
  {
   "cell_type": "markdown",
   "metadata": {},
   "source": [
    "# Make a node"
   ]
  },
  {
   "cell_type": "code",
   "execution_count": 2,
   "metadata": {
    "collapsed": false
   },
   "outputs": [
    {
     "data": {
      "text/plain": [
       "VB.RandomNode{Distributions.Gamma}(:b,Symbol[],[:j,:k],5x3 Array{Distributions.Gamma,2}:\n",
       " Distributions.Gamma(α=0.9434406323473687, θ=0.14756700584199822)   …  Distributions.Gamma(α=0.9056199266348519, θ=0.574828935152828)   \n",
       " Distributions.Gamma(α=0.9689460438400113, θ=0.3190963679861831)       Distributions.Gamma(α=0.1817685209930895, θ=0.9808739049867006)  \n",
       " Distributions.Gamma(α=0.9392798645505624, θ=0.21077339116585891)      Distributions.Gamma(α=0.20278919214839775, θ=0.47906766924878275)\n",
       " Distributions.Gamma(α=0.6430772007885319, θ=0.21555695269065422)      Distributions.Gamma(α=0.2085796033274807, θ=0.9943555987905646)  \n",
       " Distributions.Gamma(α=0.29067948024865964, θ=0.12893931087508648)     Distributions.Gamma(α=0.30721602758768296, θ=0.3230012748848814) )"
      ]
     },
     "execution_count": 2,
     "metadata": {},
     "output_type": "execute_result"
    }
   ],
   "source": [
    "μ = rand(5, 5)\n",
    "σ = rand(5, 5)\n",
    "aa = RandomNode(:a, [:i, :j], Normal, μ, σ)\n",
    "bb = RandomNode(:b, [:j, :k], Gamma, rand(5, 3), rand(5, 3))"
   ]
  },
  {
   "cell_type": "code",
   "execution_count": 3,
   "metadata": {
    "collapsed": false
   },
   "outputs": [
    {
     "data": {
      "text/plain": [
       "VB.ConstantNode{Float64}(:c,Symbol[],[:i,:j],3x4 Array{Float64,2}:\n",
       " 0.914171  0.0216755  0.107728  0.67686 \n",
       " 0.427475  0.582149   0.984993  0.7092  \n",
       " 0.485808  0.732233   0.621352  0.111843)"
      ]
     },
     "execution_count": 3,
     "metadata": {},
     "output_type": "execute_result"
    }
   ],
   "source": [
    "cc = ConstantNode(:c, [:i, :j], rand(3, 4))"
   ]
  },
  {
   "cell_type": "code",
   "execution_count": 4,
   "metadata": {
    "collapsed": false
   },
   "outputs": [
    {
     "data": {
      "text/plain": [
       "VB.ConstantNode{Float64}(symbol(\"##const#7735\"),Symbol[],[:i,:j],3x4 Array{Float64,2}:\n",
       " 0.0299368  0.53131   0.55386   0.0350722\n",
       " 0.498049   0.293163  0.792412  0.828048 \n",
       " 0.830429   0.313445  0.841221  0.863572 )"
      ]
     },
     "execution_count": 4,
     "metadata": {},
     "output_type": "execute_result"
    }
   ],
   "source": [
    "cc = ConstantNode(rand(3, 4), [:i, :j])"
   ]
  },
  {
   "cell_type": "code",
   "execution_count": 5,
   "metadata": {
    "collapsed": false
   },
   "outputs": [
    {
     "data": {
      "text/plain": [
       "VB.FactorInds([:i,:j,:k],[5,3,5],Dict(:a=>[1,2],:b=>[2,3]),Dict(:a=>[1,2],:b=>[1,2]))"
      ]
     },
     "execution_count": 5,
     "metadata": {},
     "output_type": "execute_result"
    }
   ],
   "source": [
    "nodes = Node[aa, bb]\n",
    "fi = get_structure(nodes...)\n",
    "fi"
   ]
  },
  {
   "cell_type": "code",
   "execution_count": 6,
   "metadata": {
    "collapsed": false
   },
   "outputs": [
    {
     "data": {
      "text/plain": [
       "VB.RandomNode{Distributions.Normal}(:a,Symbol[],[:i,:j],5x5 Array{Distributions.Normal,2}:\n",
       " Distributions.Normal(μ=0.8442194039363558, σ=0.9323780095864198)   …  Distributions.Normal(μ=0.8680633789889216, σ=0.17081250549221072)\n",
       " Distributions.Normal(μ=0.7874535451748825, σ=0.20018721613127166)     Distributions.Normal(μ=0.15064338651266174, σ=0.5859067337693438)\n",
       " Distributions.Normal(μ=0.7437323836260663, σ=0.6457670718819153)      Distributions.Normal(μ=0.4089503338656877, σ=0.597057067671674)  \n",
       " Distributions.Normal(μ=0.5859191580536203, σ=0.27512951776105155)     Distributions.Normal(μ=0.6699764950916043, σ=0.5234763123293376) \n",
       " Distributions.Normal(μ=0.5583784063702517, σ=0.5695621135439943)      Distributions.Normal(μ=0.6809501622282659, σ=0.4422602772248374) )"
      ]
     },
     "execution_count": 6,
     "metadata": {},
     "output_type": "execute_result"
    }
   ],
   "source": [
    "a[i, j] ~ Normal(μ, σ)"
   ]
  },
  {
   "cell_type": "code",
   "execution_count": 7,
   "metadata": {
    "collapsed": false
   },
   "outputs": [
    {
     "data": {
      "text/plain": [
       "VB.ConstantNode{Float64}(:c,Symbol[],[:i,:j],3x4 Array{Float64,2}:\n",
       " 0.717459  0.386429  0.959291   0.945281\n",
       " 0.10788   0.608984  0.3555     0.701513\n",
       " 0.270013  0.35235   0.0308718  0.759846)"
      ]
     },
     "execution_count": 7,
     "metadata": {},
     "output_type": "execute_result"
    }
   ],
   "source": [
    "c[i, j] ~ Const(rand(3, 4))"
   ]
  },
  {
   "cell_type": "markdown",
   "metadata": {},
   "source": [
    "Make a multivariate node"
   ]
  },
  {
   "cell_type": "code",
   "execution_count": 8,
   "metadata": {
    "collapsed": false
   },
   "outputs": [
    {
     "data": {
      "text/plain": [
       "([:i],[:j])"
      ]
     },
     "execution_count": 8,
     "metadata": {},
     "output_type": "execute_result"
    }
   ],
   "source": [
    "dims = (5, 3)\n",
    "m = [rand(dims[1]) for x in 1:dims[2]]\n",
    "VV = [diagm(rand(dims[1])) for x in 1:dims[2]]\n",
    "d[i, j] ~ MvNormal(m, VV)\n",
    "d.innerinds, d.outerinds"
   ]
  },
  {
   "cell_type": "markdown",
   "metadata": {},
   "source": [
    "# Make a factor"
   ]
  },
  {
   "cell_type": "code",
   "execution_count": 9,
   "metadata": {
    "collapsed": false
   },
   "outputs": [
    {
     "data": {
      "text/plain": [
       "-35.199017273048135"
      ]
     },
     "execution_count": 9,
     "metadata": {},
     "output_type": "execute_result"
    }
   ],
   "source": [
    "dims = (10, 2)\n",
    "\n",
    "μ[j] ~ Normal(rand(dims[2]), ones(dims[2]))\n",
    "τ ~ Gamma(1, 1)\n",
    "x[i, j] ~ Normal(rand(dims), ones(dims))\n",
    "\n",
    "f = @factor LogNormalFactor x μ τ;\n",
    "value(f)"
   ]
  },
  {
   "cell_type": "markdown",
   "metadata": {},
   "source": [
    "and a multivariate factor..."
   ]
  },
  {
   "cell_type": "code",
   "execution_count": 10,
   "metadata": {
    "collapsed": false
   },
   "outputs": [
    {
     "data": {
      "text/plain": [
       "-28.915894683085995"
      ]
     },
     "execution_count": 10,
     "metadata": {},
     "output_type": "execute_result"
    }
   ],
   "source": [
    "dims = (5, 3)\n",
    "m = [rand(dims[1]) for x in 1:dims[2]]\n",
    "VV = [diagm(rand(dims[1])) for x in 1:dims[2]]\n",
    "\n",
    "y[i, j] ~ MvNormal(m, VV)\n",
    "μ[i] ~ Normal(zeros(dims[1]), ones(dims[1]))\n",
    "Σ[j] ~ Const([diagm(rand(dims[1])) for x in 1:dims[2]])\n",
    "\n",
    "f = @factor LogMvNormalCanonFactor y μ Σ\n",
    "value(f)"
   ]
  },
  {
   "cell_type": "code",
   "execution_count": 11,
   "metadata": {
    "collapsed": false
   },
   "outputs": [
    {
     "data": {
      "text/plain": [
       "quote  # /Users/jmxp/code/vbgraph/types.jl, line 353:\n",
       "    δ = E(project(f,:x,(i_1,))) - E(project(f,:μ,(i_1,))) # /Users/jmxp/code/vbgraph/types.jl, line 354:\n",
       "    -(1 / 2) * ((trace(E(project(f,:Λ,(i_1,))) * (V(project(f,:x,(i_1,))) + V(project(f,:μ,(i_1,))) + δ * δ')) + length(project(f,:x,(i_1,))) * log(2π)) - Elogdet(project(f,:Λ,(i_1,))))\n",
       "end"
      ]
     },
     "execution_count": 11,
     "metadata": {},
     "output_type": "execute_result"
    }
   ],
   "source": [
    "vars = fieldnames(f)\n",
    "val_expr = value(typeof(f))\n",
    "using Base.Cartesian\n",
    "macroexpand(:(@wrapvars $vars $val_expr (@ntuple 1 i)))"
   ]
  },
  {
   "cell_type": "code",
   "execution_count": 12,
   "metadata": {
    "collapsed": false
   },
   "outputs": [
    {
     "data": {
      "text/plain": [
       "([:j],Dict(:μ=>Int64[],:y=>[1],:Σ=>[1]),Dict(:μ=>Int64[],:y=>[1],:Σ=>[1]))"
      ]
     },
     "execution_count": 12,
     "metadata": {},
     "output_type": "execute_result"
    }
   ],
   "source": [
    "f.inds.indices, f.inds.inds_in_factor, f.inds.inds_in_node"
   ]
  },
  {
   "cell_type": "code",
   "execution_count": 13,
   "metadata": {
    "collapsed": false
   },
   "outputs": [
    {
     "data": {
      "text/plain": [
       "(Any[5],Any[Colon()])"
      ]
     },
     "execution_count": 13,
     "metadata": {},
     "output_type": "execute_result"
    }
   ],
   "source": [
    "project_inds(f, :x, (5,)), project_inds(f, :μ, (5,))"
   ]
  },
  {
   "cell_type": "code",
   "execution_count": 14,
   "metadata": {
    "collapsed": false
   },
   "outputs": [
    {
     "data": {
      "text/plain": [
       "VB.RandomNode{Distributions.Normal}(:μ,Symbol[],[:i],[Distributions.Normal(μ=0.0, σ=1.0),Distributions.Normal(μ=0.0, σ=1.0),Distributions.Normal(μ=0.0, σ=1.0),Distributions.Normal(μ=0.0, σ=1.0),Distributions.Normal(μ=0.0, σ=1.0)])"
      ]
     },
     "execution_count": 14,
     "metadata": {},
     "output_type": "execute_result"
    }
   ],
   "source": [
    "μ"
   ]
  },
  {
   "cell_type": "code",
   "execution_count": 15,
   "metadata": {
    "collapsed": false
   },
   "outputs": [
    {
     "data": {
      "text/plain": [
       "28.378770664093462"
      ]
     },
     "execution_count": 15,
     "metadata": {},
     "output_type": "execute_result"
    }
   ],
   "source": [
    "g = @factor EntropyFactor x\n",
    "value(g)"
   ]
  },
  {
   "cell_type": "markdown",
   "metadata": {},
   "source": [
    "# Let's make a simple model"
   ]
  },
  {
   "cell_type": "markdown",
   "metadata": {},
   "source": [
    "We want a simple model of inference for a normal distribution:\n",
    "\n",
    "$$\n",
    "\\begin{aligned}\n",
    "    y \\sim \\mathcal{N}(\\mu, \\tau) \\\\\n",
    "    \\mu \\sim \\mathcal{N}(\\mu_0, \\tau_0) \\\\\n",
    "    \\tau \\sim \\mathrm{Ga}(\\alpha, \\beta) \\\\\n",
    "    q(\\mu) = \\mathcal{N}(m, t) \\\\\n",
    "    q(\\tau) = \\mathrm{Ga}(a, b)\n",
    "\\end{aligned}\n",
    "$$\n",
    "\n",
    "This model is conjugate, and can be solved by straightforward updates of the natural parameters of the posterior."
   ]
  },
  {
   "cell_type": "markdown",
   "metadata": {},
   "source": [
    "## Make the nodes\n",
    "\n",
    "We need to make nodes for all the random variables that will need to be updated (we can also create nodes for parameter arrays, but these will be converted automatically if we don't)."
   ]
  },
  {
   "cell_type": "code",
   "execution_count": 16,
   "metadata": {
    "collapsed": false
   },
   "outputs": [],
   "source": [
    "dims = (20, 6)\n",
    "\n",
    "# note: it won't matter much how we initialize here\n",
    "μ[j] ~ Normal(zeros(dims[2]), ones(dims[2]))\n",
    "τ[j] ~ Gamma(1.1 * ones(dims[2]), ones(dims[2]))\n",
    "μ0[j] ~ Const(zeros(dims[2]))\n",
    "τ0[j] ~ Const(2 * ones(dims[2]))\n",
    "a0[j] ~ Const(1.1 * ones(dims[2]))\n",
    "b0[j] ~ Const(ones(dims[2]))\n",
    "\n",
    "y[i, j] ~ Const(rand(dims));"
   ]
  },
  {
   "cell_type": "markdown",
   "metadata": {},
   "source": [
    "Now make factors: We need a Normal factor for the observation model plus a prior and an entropy for each node."
   ]
  },
  {
   "cell_type": "code",
   "execution_count": 17,
   "metadata": {
    "collapsed": false
   },
   "outputs": [
    {
     "data": {
      "text/plain": [
       "VB.LogGammaFactor{1}(VB.RandomNode{Distributions.Gamma}(:τ,Symbol[],[:j],[Distributions.Gamma(α=1.1, θ=1.0),Distributions.Gamma(α=1.1, θ=1.0),Distributions.Gamma(α=1.1, θ=1.0),Distributions.Gamma(α=1.1, θ=1.0),Distributions.Gamma(α=1.1, θ=1.0),Distributions.Gamma(α=1.1, θ=1.0)]),VB.ConstantNode{Float64}(:a0,Symbol[],[:j],[1.1,1.1,1.1,1.1,1.1,1.1]),VB.ConstantNode{Float64}(:b0,Symbol[],[:j],[1.0,1.0,1.0,1.0,1.0,1.0]),VB.FactorInds([:j],[6],Dict(:τ=>[1],:b0=>[1],:a0=>[1]),Dict(:τ=>[1],:b0=>[1],:a0=>[1])),Dict(:τ=>:x,:b0=>:β,:a0=>:α))"
      ]
     },
     "execution_count": 17,
     "metadata": {},
     "output_type": "execute_result"
    }
   ],
   "source": [
    "obs = @factor LogNormalFactor y μ τ\n",
    "μ_prior = @factor LogNormalFactor μ μ0 τ0\n",
    "τ_prior = @factor LogGammaFactor τ a0 b0"
   ]
  },
  {
   "cell_type": "code",
   "execution_count": 18,
   "metadata": {
    "collapsed": false
   },
   "outputs": [
    {
     "data": {
      "text/plain": [
       "(-169.83348910132688,-13.593072740907873,0.0449816833123928)"
      ]
     },
     "execution_count": 18,
     "metadata": {},
     "output_type": "execute_result"
    }
   ],
   "source": [
    "value(obs), value(μ_prior), value(τ_prior)"
   ]
  },
  {
   "cell_type": "code",
   "execution_count": 19,
   "metadata": {
    "collapsed": false
   },
   "outputs": [
    {
     "data": {
      "text/plain": [
       "VB.VBModel(VB.Node[VB.RandomNode{Distributions.Normal}(:μ,Symbol[],[:j],[Distributions.Normal(μ=0.0, σ=1.0),Distributions.Normal(μ=0.0, σ=1.0),Distributions.Normal(μ=0.0, σ=1.0),Distributions.Normal(μ=0.0, σ=1.0),Distributions.Normal(μ=0.0, σ=1.0),Distributions.Normal(μ=0.0, σ=1.0)]),VB.RandomNode{Distributions.Gamma}(:τ,Symbol[],[:j],[Distributions.Gamma(α=1.1, θ=1.0),Distributions.Gamma(α=1.1, θ=1.0),Distributions.Gamma(α=1.1, θ=1.0),Distributions.Gamma(α=1.1, θ=1.0),Distributions.Gamma(α=1.1, θ=1.0),Distributions.Gamma(α=1.1, θ=1.0)]),VB.ConstantNode{Float64}(:μ0,Symbol[],[:j],[0.0,0.0,0.0,0.0,0.0,0.0]),VB.ConstantNode{Float64}(:τ0,Symbol[],[:j],[2.0,2.0,2.0,2.0,2.0,2.0]),VB.ConstantNode{Float64}(:a0,Symbol[],[:j],[1.1,1.1,1.1,1.1,1.1,1.1]),VB.ConstantNode{Float64}(:b0,Symbol[],[:j],[1.0,1.0,1.0,1.0,1.0,1.0]),VB.ConstantNode{Float64}(:y,Symbol[],[:i,:j],20x6 Array{Float64,2}:\n",
       " 0.294129   0.935407   0.794249    0.282745   0.713034    0.904565 \n",
       " 0.413497   0.479329   0.891217    0.519459   0.41292     0.418149 \n",
       " 0.727403   0.382671   0.203995    0.19033    0.492872    0.170063 \n",
       " 0.549336   0.351265   0.653816    0.480655   0.267351    0.127805 \n",
       " 0.41224    0.341812   0.701583    0.403493   0.623527    0.665386 \n",
       " 0.0767806  0.206325   0.0363562   0.859263   0.316635    0.780007 \n",
       " 0.354202   0.0796484  0.575637    0.474971   0.647371    0.347545 \n",
       " 0.516181   0.785867   0.0188099   0.947591   0.358454    0.130154 \n",
       " 0.683778   0.321302   0.00929523  0.281219   0.137812    0.302786 \n",
       " 0.296775   0.318794   0.00567532  0.498893   0.549687    0.0909533\n",
       " 0.360296   0.365452   0.372668    0.40589    0.00209795  0.111012 \n",
       " 0.441649   0.177621   0.181547    0.730551   0.39374     0.841912 \n",
       " 0.824044   0.772725   0.87612     0.957662   0.465681    0.0485487\n",
       " 0.248482   0.168062   0.353076    0.0554569  0.309434    0.657168 \n",
       " 0.732538   0.707856   0.871226    0.472056   0.382614    0.554705 \n",
       " 0.794075   0.188165   0.662992    0.554228   0.234348    0.257129 \n",
       " 0.866895   0.0798611  0.92773     0.384726   0.874874    0.366958 \n",
       " 0.629688   0.983483   0.194685    0.736702   0.185782    0.516948 \n",
       " 0.767066   0.92181    0.326709    0.97245    0.370174    0.818065 \n",
       " 0.489526   0.641803   0.249416    0.554484   0.142535    0.397483 )],VB.Factor[VB.LogNormalFactor{2}(VB.ConstantNode{Float64}(:y,Symbol[],[:i,:j],20x6 Array{Float64,2}:\n",
       " 0.294129   0.935407   0.794249    0.282745   0.713034    0.904565 \n",
       " 0.413497   0.479329   0.891217    0.519459   0.41292     0.418149 \n",
       " 0.727403   0.382671   0.203995    0.19033    0.492872    0.170063 \n",
       " 0.549336   0.351265   0.653816    0.480655   0.267351    0.127805 \n",
       " 0.41224    0.341812   0.701583    0.403493   0.623527    0.665386 \n",
       " 0.0767806  0.206325   0.0363562   0.859263   0.316635    0.780007 \n",
       " 0.354202   0.0796484  0.575637    0.474971   0.647371    0.347545 \n",
       " 0.516181   0.785867   0.0188099   0.947591   0.358454    0.130154 \n",
       " 0.683778   0.321302   0.00929523  0.281219   0.137812    0.302786 \n",
       " 0.296775   0.318794   0.00567532  0.498893   0.549687    0.0909533\n",
       " 0.360296   0.365452   0.372668    0.40589    0.00209795  0.111012 \n",
       " 0.441649   0.177621   0.181547    0.730551   0.39374     0.841912 \n",
       " 0.824044   0.772725   0.87612     0.957662   0.465681    0.0485487\n",
       " 0.248482   0.168062   0.353076    0.0554569  0.309434    0.657168 \n",
       " 0.732538   0.707856   0.871226    0.472056   0.382614    0.554705 \n",
       " 0.794075   0.188165   0.662992    0.554228   0.234348    0.257129 \n",
       " 0.866895   0.0798611  0.92773     0.384726   0.874874    0.366958 \n",
       " 0.629688   0.983483   0.194685    0.736702   0.185782    0.516948 \n",
       " 0.767066   0.92181    0.326709    0.97245    0.370174    0.818065 \n",
       " 0.489526   0.641803   0.249416    0.554484   0.142535    0.397483 ),VB.RandomNode{Distributions.Normal}(:μ,Symbol[],[:j],[Distributions.Normal(μ=0.0, σ=1.0),Distributions.Normal(μ=0.0, σ=1.0),Distributions.Normal(μ=0.0, σ=1.0),Distributions.Normal(μ=0.0, σ=1.0),Distributions.Normal(μ=0.0, σ=1.0),Distributions.Normal(μ=0.0, σ=1.0)]),VB.RandomNode{Distributions.Gamma}(:τ,Symbol[],[:j],[Distributions.Gamma(α=1.1, θ=1.0),Distributions.Gamma(α=1.1, θ=1.0),Distributions.Gamma(α=1.1, θ=1.0),Distributions.Gamma(α=1.1, θ=1.0),Distributions.Gamma(α=1.1, θ=1.0),Distributions.Gamma(α=1.1, θ=1.0)]),VB.FactorInds([:i,:j],[20,6],Dict(:τ=>[2],:μ=>[2],:y=>[1,2]),Dict(:τ=>[1],:μ=>[1],:y=>[1,2])),Dict(:τ=>:τ,:μ=>:μ,:y=>:x)),VB.LogNormalFactor{1}(VB.RandomNode{Distributions.Normal}(:μ,Symbol[],[:j],[Distributions.Normal(μ=0.0, σ=1.0),Distributions.Normal(μ=0.0, σ=1.0),Distributions.Normal(μ=0.0, σ=1.0),Distributions.Normal(μ=0.0, σ=1.0),Distributions.Normal(μ=0.0, σ=1.0),Distributions.Normal(μ=0.0, σ=1.0)]),VB.ConstantNode{Float64}(:μ0,Symbol[],[:j],[0.0,0.0,0.0,0.0,0.0,0.0]),VB.ConstantNode{Float64}(:τ0,Symbol[],[:j],[2.0,2.0,2.0,2.0,2.0,2.0]),VB.FactorInds([:j],[6],Dict(:τ0=>[1],:μ=>[1],:μ0=>[1]),Dict(:τ0=>[1],:μ=>[1],:μ0=>[1])),Dict(:τ0=>:τ,:μ=>:x,:μ0=>:μ)),VB.LogGammaFactor{1}(VB.RandomNode{Distributions.Gamma}(:τ,Symbol[],[:j],[Distributions.Gamma(α=1.1, θ=1.0),Distributions.Gamma(α=1.1, θ=1.0),Distributions.Gamma(α=1.1, θ=1.0),Distributions.Gamma(α=1.1, θ=1.0),Distributions.Gamma(α=1.1, θ=1.0),Distributions.Gamma(α=1.1, θ=1.0)]),VB.ConstantNode{Float64}(:a0,Symbol[],[:j],[1.1,1.1,1.1,1.1,1.1,1.1]),VB.ConstantNode{Float64}(:b0,Symbol[],[:j],[1.0,1.0,1.0,1.0,1.0,1.0]),VB.FactorInds([:j],[6],Dict(:τ=>[1],:b0=>[1],:a0=>[1]),Dict(:τ=>[1],:b0=>[1],:a0=>[1])),Dict(:τ=>:x,:b0=>:β,:a0=>:α))],Dict{VB.Node,Array{Tuple{VB.Factor{N},Symbol},1}}(VB.ConstantNode{Float64}(:τ0,Symbol[],[:j],[2.0,2.0,2.0,2.0,2.0,2.0])=>Tuple{VB.Factor{N},Symbol}[(VB.LogNormalFactor{1}(VB.RandomNode{Distributions.Normal}(:μ,Symbol[],[:j],[Distributions.Normal(μ=0.0, σ=1.0),Distributions.Normal(μ=0.0, σ=1.0),Distributions.Normal(μ=0.0, σ=1.0),Distributions.Normal(μ=0.0, σ=1.0),Distributions.Normal(μ=0.0, σ=1.0),Distributions.Normal(μ=0.0, σ=1.0)]),VB.ConstantNode{Float64}(:μ0,Symbol[],[:j],[0.0,0.0,0.0,0.0,0.0,0.0]),VB.ConstantNode{Float64}(:τ0,Symbol[],[:j],[2.0,2.0,2.0,2.0,2.0,2.0]),VB.FactorInds([:j],[6],Dict(:τ0=>[1],:μ=>[1],:μ0=>[1]),Dict(:τ0=>[1],:μ=>[1],:μ0=>[1])),Dict(:τ0=>:τ,:μ=>:x,:μ0=>:μ)),:τ)],VB.ConstantNode{Float64}(:a0,Symbol[],[:j],[1.1,1.1,1.1,1.1,1.1,1.1])=>Tuple{VB.Factor{N},Symbol}[(VB.LogGammaFactor{1}(VB.RandomNode{Distributions.Gamma}(:τ,Symbol[],[:j],[Distributions.Gamma(α=1.1, θ=1.0),Distributions.Gamma(α=1.1, θ=1.0),Distributions.Gamma(α=1.1, θ=1.0),Distributions.Gamma(α=1.1, θ=1.0),Distributions.Gamma(α=1.1, θ=1.0),Distributions.Gamma(α=1.1, θ=1.0)]),VB.ConstantNode{Float64}(:a0,Symbol[],[:j],[1.1,1.1,1.1,1.1,1.1,1.1]),VB.ConstantNode{Float64}(:b0,Symbol[],[:j],[1.0,1.0,1.0,1.0,1.0,1.0]),VB.FactorInds([:j],[6],Dict(:τ=>[1],:b0=>[1],:a0=>[1]),Dict(:τ=>[1],:b0=>[1],:a0=>[1])),Dict(:τ=>:x,:b0=>:β,:a0=>:α)),:α)],VB.RandomNode{Distributions.Gamma}(:τ,Symbol[],[:j],[Distributions.Gamma(α=1.1, θ=1.0),Distributions.Gamma(α=1.1, θ=1.0),Distributions.Gamma(α=1.1, θ=1.0),Distributions.Gamma(α=1.1, θ=1.0),Distributions.Gamma(α=1.1, θ=1.0),Distributions.Gamma(α=1.1, θ=1.0)])=>Tuple{VB.Factor{N},Symbol}[(VB.LogNormalFactor{2}(VB.ConstantNode{Float64}(:y,Symbol[],[:i,:j],20x6 Array{Float64,2}:\n",
       " 0.294129   0.935407   0.794249    0.282745   0.713034    0.904565 \n",
       " 0.413497   0.479329   0.891217    0.519459   0.41292     0.418149 \n",
       " 0.727403   0.382671   0.203995    0.19033    0.492872    0.170063 \n",
       " 0.549336   0.351265   0.653816    0.480655   0.267351    0.127805 \n",
       " 0.41224    0.341812   0.701583    0.403493   0.623527    0.665386 \n",
       " 0.0767806  0.206325   0.0363562   0.859263   0.316635    0.780007 \n",
       " 0.354202   0.0796484  0.575637    0.474971   0.647371    0.347545 \n",
       " 0.516181   0.785867   0.0188099   0.947591   0.358454    0.130154 \n",
       " 0.683778   0.321302   0.00929523  0.281219   0.137812    0.302786 \n",
       " 0.296775   0.318794   0.00567532  0.498893   0.549687    0.0909533\n",
       " 0.360296   0.365452   0.372668    0.40589    0.00209795  0.111012 \n",
       " 0.441649   0.177621   0.181547    0.730551   0.39374     0.841912 \n",
       " 0.824044   0.772725   0.87612     0.957662   0.465681    0.0485487\n",
       " 0.248482   0.168062   0.353076    0.0554569  0.309434    0.657168 \n",
       " 0.732538   0.707856   0.871226    0.472056   0.382614    0.554705 \n",
       " 0.794075   0.188165   0.662992    0.554228   0.234348    0.257129 \n",
       " 0.866895   0.0798611  0.92773     0.384726   0.874874    0.366958 \n",
       " 0.629688   0.983483   0.194685    0.736702   0.185782    0.516948 \n",
       " 0.767066   0.92181    0.326709    0.97245    0.370174    0.818065 \n",
       " 0.489526   0.641803   0.249416    0.554484   0.142535    0.397483 ),VB.RandomNode{Distributions.Normal}(:μ,Symbol[],[:j],[Distributions.Normal(μ=0.0, σ=1.0),Distributions.Normal(μ=0.0, σ=1.0),Distributions.Normal(μ=0.0, σ=1.0),Distributions.Normal(μ=0.0, σ=1.0),Distributions.Normal(μ=0.0, σ=1.0),Distributions.Normal(μ=0.0, σ=1.0)]),VB.RandomNode{Distributions.Gamma}(:τ,Symbol[],[:j],[Distributions.Gamma(α=1.1, θ=1.0),Distributions.Gamma(α=1.1, θ=1.0),Distributions.Gamma(α=1.1, θ=1.0),Distributions.Gamma(α=1.1, θ=1.0),Distributions.Gamma(α=1.1, θ=1.0),Distributions.Gamma(α=1.1, θ=1.0)]),VB.FactorInds([:i,:j],[20,6],Dict(:τ=>[2],:μ=>[2],:y=>[1,2]),Dict(:τ=>[1],:μ=>[1],:y=>[1,2])),Dict(:τ=>:τ,:μ=>:μ,:y=>:x)),:τ),(VB.LogGammaFactor{1}(VB.RandomNode{Distributions.Gamma}(:τ,Symbol[],[:j],[Distributions.Gamma(α=1.1, θ=1.0),Distributions.Gamma(α=1.1, θ=1.0),Distributions.Gamma(α=1.1, θ=1.0),Distributions.Gamma(α=1.1, θ=1.0),Distributions.Gamma(α=1.1, θ=1.0),Distributions.Gamma(α=1.1, θ=1.0)]),VB.ConstantNode{Float64}(:a0,Symbol[],[:j],[1.1,1.1,1.1,1.1,1.1,1.1]),VB.ConstantNode{Float64}(:b0,Symbol[],[:j],[1.0,1.0,1.0,1.0,1.0,1.0]),VB.FactorInds([:j],[6],Dict(:τ=>[1],:b0=>[1],:a0=>[1]),Dict(:τ=>[1],:b0=>[1],:a0=>[1])),Dict(:τ=>:x,:b0=>:β,:a0=>:α)),:x)],VB.ConstantNode{Float64}(:μ0,Symbol[],[:j],[0.0,0.0,0.0,0.0,0.0,0.0])=>Tuple{VB.Factor{N},Symbol}[(VB.LogNormalFactor{1}(VB.RandomNode{Distributions.Normal}(:μ,Symbol[],[:j],[Distributions.Normal(μ=0.0, σ=1.0),Distributions.Normal(μ=0.0, σ=1.0),Distributions.Normal(μ=0.0, σ=1.0),Distributions.Normal(μ=0.0, σ=1.0),Distributions.Normal(μ=0.0, σ=1.0),Distributions.Normal(μ=0.0, σ=1.0)]),VB.ConstantNode{Float64}(:μ0,Symbol[],[:j],[0.0,0.0,0.0,0.0,0.0,0.0]),VB.ConstantNode{Float64}(:τ0,Symbol[],[:j],[2.0,2.0,2.0,2.0,2.0,2.0]),VB.FactorInds([:j],[6],Dict(:τ0=>[1],:μ=>[1],:μ0=>[1]),Dict(:τ0=>[1],:μ=>[1],:μ0=>[1])),Dict(:τ0=>:τ,:μ=>:x,:μ0=>:μ)),:μ)],VB.RandomNode{Distributions.Normal}(:μ,Symbol[],[:j],[Distributions.Normal(μ=0.0, σ=1.0),Distributions.Normal(μ=0.0, σ=1.0),Distributions.Normal(μ=0.0, σ=1.0),Distributions.Normal(μ=0.0, σ=1.0),Distributions.Normal(μ=0.0, σ=1.0),Distributions.Normal(μ=0.0, σ=1.0)])=>Tuple{VB.Factor{N},Symbol}[(VB.LogNormalFactor{2}(VB.ConstantNode{Float64}(:y,Symbol[],[:i,:j],20x6 Array{Float64,2}:\n",
       " 0.294129   0.935407   0.794249    0.282745   0.713034    0.904565 \n",
       " 0.413497   0.479329   0.891217    0.519459   0.41292     0.418149 \n",
       " 0.727403   0.382671   0.203995    0.19033    0.492872    0.170063 \n",
       " 0.549336   0.351265   0.653816    0.480655   0.267351    0.127805 \n",
       " 0.41224    0.341812   0.701583    0.403493   0.623527    0.665386 \n",
       " 0.0767806  0.206325   0.0363562   0.859263   0.316635    0.780007 \n",
       " 0.354202   0.0796484  0.575637    0.474971   0.647371    0.347545 \n",
       " 0.516181   0.785867   0.0188099   0.947591   0.358454    0.130154 \n",
       " 0.683778   0.321302   0.00929523  0.281219   0.137812    0.302786 \n",
       " 0.296775   0.318794   0.00567532  0.498893   0.549687    0.0909533\n",
       " 0.360296   0.365452   0.372668    0.40589    0.00209795  0.111012 \n",
       " 0.441649   0.177621   0.181547    0.730551   0.39374     0.841912 \n",
       " 0.824044   0.772725   0.87612     0.957662   0.465681    0.0485487\n",
       " 0.248482   0.168062   0.353076    0.0554569  0.309434    0.657168 \n",
       " 0.732538   0.707856   0.871226    0.472056   0.382614    0.554705 \n",
       " 0.794075   0.188165   0.662992    0.554228   0.234348    0.257129 \n",
       " 0.866895   0.0798611  0.92773     0.384726   0.874874    0.366958 \n",
       " 0.629688   0.983483   0.194685    0.736702   0.185782    0.516948 \n",
       " 0.767066   0.92181    0.326709    0.97245    0.370174    0.818065 \n",
       " 0.489526   0.641803   0.249416    0.554484   0.142535    0.397483 ),VB.RandomNode{Distributions.Normal}(:μ,Symbol[],[:j],[Distributions.Normal(μ=0.0, σ=1.0),Distributions.Normal(μ=0.0, σ=1.0),Distributions.Normal(μ=0.0, σ=1.0),Distributions.Normal(μ=0.0, σ=1.0),Distributions.Normal(μ=0.0, σ=1.0),Distributions.Normal(μ=0.0, σ=1.0)]),VB.RandomNode{Distributions.Gamma}(:τ,Symbol[],[:j],[Distributions.Gamma(α=1.1, θ=1.0),Distributions.Gamma(α=1.1, θ=1.0),Distributions.Gamma(α=1.1, θ=1.0),Distributions.Gamma(α=1.1, θ=1.0),Distributions.Gamma(α=1.1, θ=1.0),Distributions.Gamma(α=1.1, θ=1.0)]),VB.FactorInds([:i,:j],[20,6],Dict(:τ=>[2],:μ=>[2],:y=>[1,2]),Dict(:τ=>[1],:μ=>[1],:y=>[1,2])),Dict(:τ=>:τ,:μ=>:μ,:y=>:x)),:μ),(VB.LogNormalFactor{1}(VB.RandomNode{Distributions.Normal}(:μ,Symbol[],[:j],[Distributions.Normal(μ=0.0, σ=1.0),Distributions.Normal(μ=0.0, σ=1.0),Distributions.Normal(μ=0.0, σ=1.0),Distributions.Normal(μ=0.0, σ=1.0),Distributions.Normal(μ=0.0, σ=1.0),Distributions.Normal(μ=0.0, σ=1.0)]),VB.ConstantNode{Float64}(:μ0,Symbol[],[:j],[0.0,0.0,0.0,0.0,0.0,0.0]),VB.ConstantNode{Float64}(:τ0,Symbol[],[:j],[2.0,2.0,2.0,2.0,2.0,2.0]),VB.FactorInds([:j],[6],Dict(:τ0=>[1],:μ=>[1],:μ0=>[1]),Dict(:τ0=>[1],:μ=>[1],:μ0=>[1])),Dict(:τ0=>:τ,:μ=>:x,:μ0=>:μ)),:x)],VB.ConstantNode{Float64}(:b0,Symbol[],[:j],[1.0,1.0,1.0,1.0,1.0,1.0])=>Tuple{VB.Factor{N},Symbol}[(VB.LogGammaFactor{1}(VB.RandomNode{Distributions.Gamma}(:τ,Symbol[],[:j],[Distributions.Gamma(α=1.1, θ=1.0),Distributions.Gamma(α=1.1, θ=1.0),Distributions.Gamma(α=1.1, θ=1.0),Distributions.Gamma(α=1.1, θ=1.0),Distributions.Gamma(α=1.1, θ=1.0),Distributions.Gamma(α=1.1, θ=1.0)]),VB.ConstantNode{Float64}(:a0,Symbol[],[:j],[1.1,1.1,1.1,1.1,1.1,1.1]),VB.ConstantNode{Float64}(:b0,Symbol[],[:j],[1.0,1.0,1.0,1.0,1.0,1.0]),VB.FactorInds([:j],[6],Dict(:τ=>[1],:b0=>[1],:a0=>[1]),Dict(:τ=>[1],:b0=>[1],:a0=>[1])),Dict(:τ=>:x,:b0=>:β,:a0=>:α)),:β)],VB.ConstantNode{Float64}(:y,Symbol[],[:i,:j],20x6 Array{Float64,2}:\n",
       " 0.294129   0.935407   0.794249    0.282745   0.713034    0.904565 \n",
       " 0.413497   0.479329   0.891217    0.519459   0.41292     0.418149 \n",
       " 0.727403   0.382671   0.203995    0.19033    0.492872    0.170063 \n",
       " 0.549336   0.351265   0.653816    0.480655   0.267351    0.127805 \n",
       " 0.41224    0.341812   0.701583    0.403493   0.623527    0.665386 \n",
       " 0.0767806  0.206325   0.0363562   0.859263   0.316635    0.780007 \n",
       " 0.354202   0.0796484  0.575637    0.474971   0.647371    0.347545 \n",
       " 0.516181   0.785867   0.0188099   0.947591   0.358454    0.130154 \n",
       " 0.683778   0.321302   0.00929523  0.281219   0.137812    0.302786 \n",
       " 0.296775   0.318794   0.00567532  0.498893   0.549687    0.0909533\n",
       " 0.360296   0.365452   0.372668    0.40589    0.00209795  0.111012 \n",
       " 0.441649   0.177621   0.181547    0.730551   0.39374     0.841912 \n",
       " 0.824044   0.772725   0.87612     0.957662   0.465681    0.0485487\n",
       " 0.248482   0.168062   0.353076    0.0554569  0.309434    0.657168 \n",
       " 0.732538   0.707856   0.871226    0.472056   0.382614    0.554705 \n",
       " 0.794075   0.188165   0.662992    0.554228   0.234348    0.257129 \n",
       " 0.866895   0.0798611  0.92773     0.384726   0.874874    0.366958 \n",
       " 0.629688   0.983483   0.194685    0.736702   0.185782    0.516948 \n",
       " 0.767066   0.92181    0.326709    0.97245    0.370174    0.818065 \n",
       " 0.489526   0.641803   0.249416    0.554484   0.142535    0.397483 )=>Tuple{VB.Factor{N},Symbol}[(VB.LogNormalFactor{2}(VB.ConstantNode{Float64}(:y,Symbol[],[:i,:j],20x6 Array{Float64,2}:\n",
       " 0.294129   0.935407   0.794249    0.282745   0.713034    0.904565 \n",
       " 0.413497   0.479329   0.891217    0.519459   0.41292     0.418149 \n",
       " 0.727403   0.382671   0.203995    0.19033    0.492872    0.170063 \n",
       " 0.549336   0.351265   0.653816    0.480655   0.267351    0.127805 \n",
       " 0.41224    0.341812   0.701583    0.403493   0.623527    0.665386 \n",
       " 0.0767806  0.206325   0.0363562   0.859263   0.316635    0.780007 \n",
       " 0.354202   0.0796484  0.575637    0.474971   0.647371    0.347545 \n",
       " 0.516181   0.785867   0.0188099   0.947591   0.358454    0.130154 \n",
       " 0.683778   0.321302   0.00929523  0.281219   0.137812    0.302786 \n",
       " 0.296775   0.318794   0.00567532  0.498893   0.549687    0.0909533\n",
       " 0.360296   0.365452   0.372668    0.40589    0.00209795  0.111012 \n",
       " 0.441649   0.177621   0.181547    0.730551   0.39374     0.841912 \n",
       " 0.824044   0.772725   0.87612     0.957662   0.465681    0.0485487\n",
       " 0.248482   0.168062   0.353076    0.0554569  0.309434    0.657168 \n",
       " 0.732538   0.707856   0.871226    0.472056   0.382614    0.554705 \n",
       " 0.794075   0.188165   0.662992    0.554228   0.234348    0.257129 \n",
       " 0.866895   0.0798611  0.92773     0.384726   0.874874    0.366958 \n",
       " 0.629688   0.983483   0.194685    0.736702   0.185782    0.516948 \n",
       " 0.767066   0.92181    0.326709    0.97245    0.370174    0.818065 \n",
       " 0.489526   0.641803   0.249416    0.554484   0.142535    0.397483 ),VB.RandomNode{Distributions.Normal}(:μ,Symbol[],[:j],[Distributions.Normal(μ=0.0, σ=1.0),Distributions.Normal(μ=0.0, σ=1.0),Distributions.Normal(μ=0.0, σ=1.0),Distributions.Normal(μ=0.0, σ=1.0),Distributions.Normal(μ=0.0, σ=1.0),Distributions.Normal(μ=0.0, σ=1.0)]),VB.RandomNode{Distributions.Gamma}(:τ,Symbol[],[:j],[Distributions.Gamma(α=1.1, θ=1.0),Distributions.Gamma(α=1.1, θ=1.0),Distributions.Gamma(α=1.1, θ=1.0),Distributions.Gamma(α=1.1, θ=1.0),Distributions.Gamma(α=1.1, θ=1.0),Distributions.Gamma(α=1.1, θ=1.0)]),VB.FactorInds([:i,:j],[20,6],Dict(:τ=>[2],:μ=>[2],:y=>[1,2]),Dict(:τ=>[1],:μ=>[1],:y=>[1,2])),Dict(:τ=>:τ,:μ=>:μ,:y=>:x)),:x)]),Dict{VB.Node,Symbol}(VB.ConstantNode{Float64}(:τ0,Symbol[],[:j],[2.0,2.0,2.0,2.0,2.0,2.0])=>:constant,VB.ConstantNode{Float64}(:a0,Symbol[],[:j],[1.1,1.1,1.1,1.1,1.1,1.1])=>:constant,VB.RandomNode{Distributions.Gamma}(:τ,Symbol[],[:j],[Distributions.Gamma(α=1.1, θ=1.0),Distributions.Gamma(α=1.1, θ=1.0),Distributions.Gamma(α=1.1, θ=1.0),Distributions.Gamma(α=1.1, θ=1.0),Distributions.Gamma(α=1.1, θ=1.0),Distributions.Gamma(α=1.1, θ=1.0)])=>:conjugate,VB.ConstantNode{Float64}(:μ0,Symbol[],[:j],[0.0,0.0,0.0,0.0,0.0,0.0])=>:constant,VB.RandomNode{Distributions.Normal}(:μ,Symbol[],[:j],[Distributions.Normal(μ=0.0, σ=1.0),Distributions.Normal(μ=0.0, σ=1.0),Distributions.Normal(μ=0.0, σ=1.0),Distributions.Normal(μ=0.0, σ=1.0),Distributions.Normal(μ=0.0, σ=1.0),Distributions.Normal(μ=0.0, σ=1.0)])=>:conjugate,VB.ConstantNode{Float64}(:b0,Symbol[],[:j],[1.0,1.0,1.0,1.0,1.0,1.0])=>:constant,VB.ConstantNode{Float64}(:y,Symbol[],[:i,:j],20x6 Array{Float64,2}:\n",
       " 0.294129   0.935407   0.794249    0.282745   0.713034    0.904565 \n",
       " 0.413497   0.479329   0.891217    0.519459   0.41292     0.418149 \n",
       " 0.727403   0.382671   0.203995    0.19033    0.492872    0.170063 \n",
       " 0.549336   0.351265   0.653816    0.480655   0.267351    0.127805 \n",
       " 0.41224    0.341812   0.701583    0.403493   0.623527    0.665386 \n",
       " 0.0767806  0.206325   0.0363562   0.859263   0.316635    0.780007 \n",
       " 0.354202   0.0796484  0.575637    0.474971   0.647371    0.347545 \n",
       " 0.516181   0.785867   0.0188099   0.947591   0.358454    0.130154 \n",
       " 0.683778   0.321302   0.00929523  0.281219   0.137812    0.302786 \n",
       " 0.296775   0.318794   0.00567532  0.498893   0.549687    0.0909533\n",
       " 0.360296   0.365452   0.372668    0.40589    0.00209795  0.111012 \n",
       " 0.441649   0.177621   0.181547    0.730551   0.39374     0.841912 \n",
       " 0.824044   0.772725   0.87612     0.957662   0.465681    0.0485487\n",
       " 0.248482   0.168062   0.353076    0.0554569  0.309434    0.657168 \n",
       " 0.732538   0.707856   0.871226    0.472056   0.382614    0.554705 \n",
       " 0.794075   0.188165   0.662992    0.554228   0.234348    0.257129 \n",
       " 0.866895   0.0798611  0.92773     0.384726   0.874874    0.366958 \n",
       " 0.629688   0.983483   0.194685    0.736702   0.185782    0.516948 \n",
       " 0.767066   0.92181    0.326709    0.97245    0.370174    0.818065 \n",
       " 0.489526   0.641803   0.249416    0.554484   0.142535    0.397483 )=>:constant))"
      ]
     },
     "execution_count": 19,
     "metadata": {},
     "output_type": "execute_result"
    }
   ],
   "source": [
    "m = VBModel([μ, τ, μ0, τ0, a0, b0, y], [obs, μ_prior, τ_prior])"
   ]
  },
  {
   "cell_type": "code",
   "execution_count": 20,
   "metadata": {
    "collapsed": false
   },
   "outputs": [
    {
     "data": {
      "text/plain": [
       "7-element Array{Any,1}:\n",
       " :μ \n",
       " :τ \n",
       " :μ0\n",
       " :τ0\n",
       " :a0\n",
       " :b0\n",
       " :y "
      ]
     },
     "execution_count": 20,
     "metadata": {},
     "output_type": "execute_result"
    }
   ],
   "source": [
    "[n.name for n in m.nodes]"
   ]
  },
  {
   "cell_type": "code",
   "execution_count": 21,
   "metadata": {
    "collapsed": false
   },
   "outputs": [
    {
     "data": {
      "text/plain": [
       "3-element Array{DataType,1}:\n",
       " VB.LogNormalFactor{2}\n",
       " VB.LogNormalFactor{1}\n",
       " VB.LogGammaFactor{1} "
      ]
     },
     "execution_count": 21,
     "metadata": {},
     "output_type": "execute_result"
    }
   ],
   "source": [
    "[typeof(f) for f in m.factors]"
   ]
  },
  {
   "cell_type": "code",
   "execution_count": 22,
   "metadata": {
    "collapsed": false
   },
   "outputs": [
    {
     "data": {
      "text/plain": [
       "Dict{VB.Node,Array{Tuple{VB.Factor{N},Symbol},1}} with 7 entries:\n",
       "  VB.ConstantNode{Float64… => Tuple{VB.Factor{N},Symbol}[(VB.LogNormalFactor{1}…\n",
       "  VB.ConstantNode{Float64… => Tuple{VB.Factor{N},Symbol}[(VB.LogGammaFactor{1}(…\n",
       "  VB.RandomNode{Distribut… => Tuple{VB.Factor{N},Symbol}[(VB.LogNormalFactor{2}…\n",
       "  VB.ConstantNode{Float64… => Tuple{VB.Factor{N},Symbol}[(VB.LogNormalFactor{1}…\n",
       "  VB.RandomNode{Distribut… => Tuple{VB.Factor{N},Symbol}[(VB.LogNormalFactor{2}…\n",
       "  VB.ConstantNode{Float64… => Tuple{VB.Factor{N},Symbol}[(VB.LogGammaFactor{1}(…\n",
       "  VB.ConstantNode{Float64… => Tuple{VB.Factor{N},Symbol}[(VB.LogNormalFactor{2}…"
      ]
     },
     "execution_count": 22,
     "metadata": {},
     "output_type": "execute_result"
    }
   ],
   "source": [
    "m.graph"
   ]
  },
  {
   "cell_type": "code",
   "execution_count": 23,
   "metadata": {
    "collapsed": false
   },
   "outputs": [
    {
     "data": {
      "text/plain": [
       "6-element Array{Tuple{Float64,Float64},1}:\n",
       " (11.526439438927746,-11.000000000000002)\n",
       " (10.130185538555713,-11.000000000000002)\n",
       " (9.797481715522144,-11.000000000000002) \n",
       " (11.839107934768258,-11.000000000000002)\n",
       " (8.669035316940196,-11.000000000000002) \n",
       " (9.35807468380877,-11.000000000000002)  "
      ]
     },
     "execution_count": 23,
     "metadata": {},
     "output_type": "execute_result"
    }
   ],
   "source": [
    "naturals(obs, μ)"
   ]
  },
  {
   "cell_type": "code",
   "execution_count": 24,
   "metadata": {
    "collapsed": false
   },
   "outputs": [
    {
     "data": {
      "text/plain": [
       "6-element Array{Tuple{Float64,Float64},1}:\n",
       " (10.0,13.210305374125424)\n",
       " (10.0,12.96247456893213) \n",
       " (10.0,13.024886447820055)\n",
       " (10.0,13.531093020809829)\n",
       " (10.0,11.988654551161423)\n",
       " (10.0,12.542732892997265)"
      ]
     },
     "execution_count": 24,
     "metadata": {},
     "output_type": "execute_result"
    }
   ],
   "source": [
    "naturals(obs, τ)"
   ]
  },
  {
   "cell_type": "code",
   "execution_count": 25,
   "metadata": {
    "collapsed": false
   },
   "outputs": [
    {
     "data": {
      "text/plain": [
       "true"
      ]
     },
     "execution_count": 25,
     "metadata": {},
     "output_type": "execute_result"
    }
   ],
   "source": [
    "check_conjugate(τ, m)"
   ]
  },
  {
   "cell_type": "code",
   "execution_count": 26,
   "metadata": {
    "collapsed": false
   },
   "outputs": [
    {
     "data": {
      "text/plain": [
       "true"
      ]
     },
     "execution_count": 26,
     "metadata": {},
     "output_type": "execute_result"
    }
   ],
   "source": [
    "check_conjugate(μ, m)"
   ]
  },
  {
   "cell_type": "code",
   "execution_count": 27,
   "metadata": {
    "collapsed": false
   },
   "outputs": [
    {
     "data": {
      "text/plain": [
       "6-element Array{Distributions.Normal,1}:\n",
       " Distributions.Normal(μ=0.0, σ=1.0)\n",
       " Distributions.Normal(μ=0.0, σ=1.0)\n",
       " Distributions.Normal(μ=0.0, σ=1.0)\n",
       " Distributions.Normal(μ=0.0, σ=1.0)\n",
       " Distributions.Normal(μ=0.0, σ=1.0)\n",
       " Distributions.Normal(μ=0.0, σ=1.0)"
      ]
     },
     "execution_count": 27,
     "metadata": {},
     "output_type": "execute_result"
    }
   ],
   "source": [
    "μ.data"
   ]
  },
  {
   "cell_type": "code",
   "execution_count": 28,
   "metadata": {
    "collapsed": false
   },
   "outputs": [
    {
     "data": {
      "text/plain": [
       "6-element Array{Distributions.Gamma,1}:\n",
       " Distributions.Gamma(α=1.1, θ=1.0)\n",
       " Distributions.Gamma(α=1.1, θ=1.0)\n",
       " Distributions.Gamma(α=1.1, θ=1.0)\n",
       " Distributions.Gamma(α=1.1, θ=1.0)\n",
       " Distributions.Gamma(α=1.1, θ=1.0)\n",
       " Distributions.Gamma(α=1.1, θ=1.0)"
      ]
     },
     "execution_count": 28,
     "metadata": {},
     "output_type": "execute_result"
    }
   ],
   "source": [
    "τ.data"
   ]
  },
  {
   "cell_type": "code",
   "execution_count": 29,
   "metadata": {
    "collapsed": false
   },
   "outputs": [],
   "source": [
    "update!(m)"
   ]
  },
  {
   "cell_type": "code",
   "execution_count": 30,
   "metadata": {
    "collapsed": false
   },
   "outputs": [
    {
     "data": {
      "text/plain": [
       "6-element Array{Distributions.Normal,1}:\n",
       " Distributions.Normal(μ=0.372248897149849, σ=0.7071067811865476)  \n",
       " Distributions.Normal(μ=-0.6150517040613815, σ=0.7071067811865476)\n",
       " Distributions.Normal(μ=-0.8503088334551071, σ=0.7071067811865476)\n",
       " Distributions.Normal(μ=0.593338910822073, σ=0.7071067811865476)  \n",
       " Distributions.Normal(μ=-1.6482409340979403, σ=0.7071067811865476)\n",
       " Distributions.Normal(μ=-1.1610165252806863, σ=0.7071067811865476)"
      ]
     },
     "execution_count": 30,
     "metadata": {},
     "output_type": "execute_result"
    }
   ],
   "source": [
    "μ.data"
   ]
  },
  {
   "cell_type": "code",
   "execution_count": 31,
   "metadata": {
    "collapsed": false
   },
   "outputs": [
    {
     "data": {
      "text/plain": [
       "6-element Array{Distributions.Gamma,1}:\n",
       " Distributions.Gamma(α=16.69535745277696, θ=0.8999999999999999) \n",
       " Distributions.Gamma(α=28.40953135375355, θ=0.8999999999999999) \n",
       " Distributions.Gamma(α=33.82866961426824, θ=0.8999999999999999) \n",
       " Distributions.Gamma(α=16.66560055438292, θ=0.8999999999999999) \n",
       " Distributions.Gamma(α=58.145326199996056, θ=0.8999999999999999)\n",
       " Distributions.Gamma(α=41.89948966066639, θ=0.8999999999999999) "
      ]
     },
     "execution_count": 31,
     "metadata": {},
     "output_type": "execute_result"
    }
   ],
   "source": [
    "τ.data"
   ]
  },
  {
   "cell_type": "markdown",
   "metadata": {},
   "source": [
    "# A Multivariate Model"
   ]
  },
  {
   "cell_type": "markdown",
   "metadata": {},
   "source": [
    "We want a simple model of inference for a multivariate normal distribution:\n",
    "\n",
    "$$\n",
    "\\begin{aligned}\n",
    "    y \\sim \\mathcal{N}(\\pmb{\\mu}, \\Sigma) \\\\\n",
    "    \\mu_i \\sim \\mathcal{N}(\\mu_0, \\tau_0) \\\\\n",
    "    \\tau \\sim \\mathrm{Ga}(\\alpha, \\beta) \\\\\n",
    "    q(\\mu) = \\mathcal{N}(m, t) \\\\\n",
    "    q(\\tau) = \\mathrm{Ga}(a, b)\n",
    "\\end{aligned}\n",
    "$$\n",
    "\n",
    "This model is conjugate, and can be solved by straightforward updates of the natural parameters of the posterior."
   ]
  },
  {
   "cell_type": "code",
   "execution_count": null,
   "metadata": {
    "collapsed": true
   },
   "outputs": [],
   "source": []
  }
 ],
 "metadata": {
  "kernelspec": {
   "display_name": "Julia 0.4.1",
   "language": "julia",
   "name": "julia-0.4"
  },
  "language_info": {
   "file_extension": ".jl",
   "mimetype": "application/julia",
   "name": "julia",
   "version": "0.4.1"
  }
 },
 "nbformat": 4,
 "nbformat_minor": 0
}
