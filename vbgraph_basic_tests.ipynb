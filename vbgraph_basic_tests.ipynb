{
 "cells": [
  {
   "cell_type": "markdown",
   "metadata": {},
   "source": [
    "Let's try some basic tests of `VB.jl`:"
   ]
  },
  {
   "cell_type": "code",
   "execution_count": 1,
   "metadata": {
    "collapsed": false
   },
   "outputs": [],
   "source": [
    "include(\"VB.jl\")\n",
    "using VB\n",
    "using Distributions"
   ]
  },
  {
   "cell_type": "markdown",
   "metadata": {},
   "source": [
    "# Make a node"
   ]
  },
  {
   "cell_type": "code",
   "execution_count": 2,
   "metadata": {
    "collapsed": false
   },
   "outputs": [
    {
     "data": {
      "text/plain": [
       "VB.RandomNode{Distributions.Gamma}(:b,[:j,:k],5x3 Array{Distributions.Gamma,2}:\n",
       " Distributions.Gamma(α=0.7014973144332155, θ=0.8083320965354355)   …  Distributions.Gamma(α=0.31533751166972057, θ=0.06491620062297443)\n",
       " Distributions.Gamma(α=0.5849309526397368, θ=0.6028699420612047)      Distributions.Gamma(α=0.7741974319701441, θ=0.3506421384753411)  \n",
       " Distributions.Gamma(α=0.3193475119815765, θ=0.6507414302336967)      Distributions.Gamma(α=0.02617886480985221, θ=0.954945375984442)  \n",
       " Distributions.Gamma(α=0.7797911051866175, θ=0.8309353873833305)      Distributions.Gamma(α=0.7899430389757256, θ=0.2089624685646514)  \n",
       " Distributions.Gamma(α=0.29939003412179255, θ=0.7879635643621248)     Distributions.Gamma(α=0.12567006268742897, θ=0.04760406872741485))"
      ]
     },
     "execution_count": 2,
     "metadata": {},
     "output_type": "execute_result"
    }
   ],
   "source": [
    "μ = rand(5, 5)\n",
    "σ = rand(5, 5)\n",
    "aa = RandomNode(:a, [:i, :j], Normal, μ, σ)\n",
    "bb = RandomNode(:b, [:j, :k], Gamma, rand(5, 3), rand(5, 3))"
   ]
  },
  {
   "cell_type": "code",
   "execution_count": 3,
   "metadata": {
    "collapsed": false
   },
   "outputs": [
    {
     "data": {
      "text/plain": [
       "VB.ConstantNode{Float64}(:c,[:i,:j],3x4 Array{Float64,2}:\n",
       " 0.874865  0.464935  0.434869  0.245545\n",
       " 0.248193  0.318106  0.176542  0.706653\n",
       " 0.720009  0.189135  0.741034  0.616015)"
      ]
     },
     "execution_count": 3,
     "metadata": {},
     "output_type": "execute_result"
    }
   ],
   "source": [
    "cc = ConstantNode(:c, [:i, :j], rand(3, 4))"
   ]
  },
  {
   "cell_type": "code",
   "execution_count": 4,
   "metadata": {
    "collapsed": false
   },
   "outputs": [
    {
     "data": {
      "text/plain": [
       "VB.ConstantNode{Float64}(symbol(\"##const#7733\"),[:i,:j],3x4 Array{Float64,2}:\n",
       " 0.251505   0.851336  0.134329   0.894233\n",
       " 0.221033   0.36679   0.0989635  0.210126\n",
       " 0.0390644  0.405171  0.751634   0.285444)"
      ]
     },
     "execution_count": 4,
     "metadata": {},
     "output_type": "execute_result"
    }
   ],
   "source": [
    "cc = ConstantNode(rand(3, 4), [:i, :j])"
   ]
  },
  {
   "cell_type": "code",
   "execution_count": 5,
   "metadata": {
    "collapsed": false
   },
   "outputs": [
    {
     "data": {
      "text/plain": [
       "VB.FactorInds([:i,:j,:k],[5,3,5],Dict(:a=>[1,2],:b=>[2,3]))"
      ]
     },
     "execution_count": 5,
     "metadata": {},
     "output_type": "execute_result"
    }
   ],
   "source": [
    "nodes = Node[aa, bb]\n",
    "fi = get_structure(nodes...)\n",
    "fi"
   ]
  },
  {
   "cell_type": "code",
   "execution_count": 6,
   "metadata": {
    "collapsed": false
   },
   "outputs": [
    {
     "data": {
      "text/plain": [
       "VB.RandomNode{Distributions.Normal}(:a,[:i,:j],5x5 Array{Distributions.Normal,2}:\n",
       " Distributions.Normal(μ=0.6104151849285111, σ=0.39721623624026314)   …  Distributions.Normal(μ=0.5149989805486088, σ=0.2823113660187977) \n",
       " Distributions.Normal(μ=0.026757027124166166, σ=0.7618618454698423)     Distributions.Normal(μ=0.8678712198491265, σ=0.5725357338544352) \n",
       " Distributions.Normal(μ=0.23410472394305026, σ=0.6178927039257589)      Distributions.Normal(μ=0.7942549749547629, σ=0.7659511696716654) \n",
       " Distributions.Normal(μ=0.6836854399143228, σ=0.1593149301718333)       Distributions.Normal(μ=0.28423924336535, σ=0.6904390694640186)   \n",
       " Distributions.Normal(μ=0.382914848591728, σ=0.04331949175832861)       Distributions.Normal(μ=0.10579699471720705, σ=0.7307051837620491))"
      ]
     },
     "execution_count": 6,
     "metadata": {},
     "output_type": "execute_result"
    }
   ],
   "source": [
    "a[i, j] ~ Normal(μ, σ)"
   ]
  },
  {
   "cell_type": "code",
   "execution_count": 7,
   "metadata": {
    "collapsed": false
   },
   "outputs": [
    {
     "data": {
      "text/plain": [
       "VB.ConstantNode{Float64}(:c,[:i,:j],3x4 Array{Float64,2}:\n",
       " 0.378146    0.552786  0.322886  0.0108842\n",
       " 0.00890148  0.18302   0.890218  0.96874  \n",
       " 0.0497519   0.100489  0.236619  0.228564 )"
      ]
     },
     "execution_count": 7,
     "metadata": {},
     "output_type": "execute_result"
    }
   ],
   "source": [
    "c[i, j] ~ Const(rand(3, 4))"
   ]
  },
  {
   "cell_type": "markdown",
   "metadata": {},
   "source": [
    "# Make a factor"
   ]
  },
  {
   "cell_type": "code",
   "execution_count": 8,
   "metadata": {
    "collapsed": false
   },
   "outputs": [],
   "source": [
    "dims = (10, 2)\n",
    "\n",
    "μ[j] ~ Normal(rand(dims[2]), ones(dims[2]))\n",
    "τ ~ Gamma(1, 1)\n",
    "x[i, j] ~ Normal(rand(dims), ones(dims))\n",
    "\n",
    "f = @factor LogNormalFactor x μ τ;"
   ]
  },
  {
   "cell_type": "markdown",
   "metadata": {},
   "source": [
    "# Make a (generated) value function"
   ]
  },
  {
   "cell_type": "code",
   "execution_count": 9,
   "metadata": {
    "collapsed": false
   },
   "outputs": [
    {
     "data": {
      "text/plain": [
       "-1.6363854053200706"
      ]
     },
     "execution_count": 9,
     "metadata": {},
     "output_type": "execute_result"
    }
   ],
   "source": [
    "value(f)"
   ]
  },
  {
   "cell_type": "code",
   "execution_count": 10,
   "metadata": {
    "collapsed": false
   },
   "outputs": [
    {
     "data": {
      "text/plain": [
       "1.4189385332046727"
      ]
     },
     "execution_count": 10,
     "metadata": {},
     "output_type": "execute_result"
    }
   ],
   "source": [
    "g = @factor EntropyFactor x\n",
    "value(g)"
   ]
  },
  {
   "cell_type": "markdown",
   "metadata": {},
   "source": [
    "# Let's make a simple model"
   ]
  },
  {
   "cell_type": "markdown",
   "metadata": {},
   "source": [
    "We want a simple model of inference for a normal distribution:\n",
    "\n",
    "$$\n",
    "\\begin{aligned}\n",
    "    y \\sim \\mathcal{N}(\\mu, \\tau) \\\\\n",
    "    \\mu \\sim \\mathcal{N}(\\mu_0, \\tau_0) \\\\\n",
    "    \\tau \\sim \\mathrm{Ga}(\\alpha, \\beta) \\\\\n",
    "    q(\\mu) = \\mathcal{N}(m, t) \\\\\n",
    "    q(\\tau) = \\mathrm{Ga}(a, b)\n",
    "\\end{aligned}\n",
    "$$\n",
    "\n",
    "This model is conjugate, and can be solved by straightforward updates of the natural parameters of the posterior."
   ]
  },
  {
   "cell_type": "markdown",
   "metadata": {},
   "source": [
    "## Make the nodes\n",
    "\n",
    "We need to make nodes for all the random variables that will need to be updated (we can also create nodes for parameter arrays, but these will be converted automatically if we don't)."
   ]
  },
  {
   "cell_type": "code",
   "execution_count": 11,
   "metadata": {
    "collapsed": false
   },
   "outputs": [],
   "source": [
    "dims = (20, 6)\n",
    "\n",
    "# note: it won't matter much how we initialize here\n",
    "μ[j] ~ Normal(zeros(dims[2]), ones(dims[2]))\n",
    "τ[j] ~ Gamma(1.1 * ones(dims[2]), ones(dims[2]))\n",
    "μ0[j] ~ Const(zeros(dims[2]))\n",
    "τ0[j] ~ Const(2 * ones(dims[2]))\n",
    "a0[j] ~ Const(1.1 * ones(dims[2]))\n",
    "b0[j] ~ Const(ones(dims[2]))\n",
    "\n",
    "y[i, j] ~ Const(rand(dims));"
   ]
  },
  {
   "cell_type": "markdown",
   "metadata": {},
   "source": [
    "Now make factors: We need a Normal factor for the observation model plus a prior and an entropy for each node."
   ]
  },
  {
   "cell_type": "code",
   "execution_count": 12,
   "metadata": {
    "collapsed": false
   },
   "outputs": [
    {
     "data": {
      "text/plain": [
       "VB.LogGammaFactor{1}(VB.FactorInds([:j],[6],Dict(:τ=>[1],:b0=>[1],:a0=>[1])),VB.RandomNode{Distributions.Gamma}(:τ,[:j],[Distributions.Gamma(α=1.1, θ=1.0),Distributions.Gamma(α=1.1, θ=1.0),Distributions.Gamma(α=1.1, θ=1.0),Distributions.Gamma(α=1.1, θ=1.0),Distributions.Gamma(α=1.1, θ=1.0),Distributions.Gamma(α=1.1, θ=1.0)]),VB.ConstantNode{Float64}(:a0,[:j],[1.1,1.1,1.1,1.1,1.1,1.1]),VB.ConstantNode{Float64}(:b0,[:j],[1.0,1.0,1.0,1.0,1.0,1.0]))"
      ]
     },
     "execution_count": 12,
     "metadata": {},
     "output_type": "execute_result"
    }
   ],
   "source": [
    "obs = @factor LogNormalFactor y μ τ\n",
    "μ_prior = @factor LogNormalFactor μ μ0 τ0\n",
    "τ_prior = @factor LogGammaFactor τ a0 b0"
   ]
  },
  {
   "cell_type": "code",
   "execution_count": 13,
   "metadata": {
    "collapsed": false
   },
   "outputs": [
    {
     "data": {
      "text/plain": [
       "(-1.7746542360483384,-2.2655121234846454,0.007496947218732133)"
      ]
     },
     "execution_count": 13,
     "metadata": {},
     "output_type": "execute_result"
    }
   ],
   "source": [
    "value(obs), value(μ_prior), value(τ_prior)"
   ]
  },
  {
   "cell_type": "code",
   "execution_count": 15,
   "metadata": {
    "collapsed": false
   },
   "outputs": [
    {
     "data": {
      "text/plain": [
       "VB.VBModel(VB.Node[VB.RandomNode{Distributions.Normal}(:μ,[:j],[Distributions.Normal(μ=0.0, σ=1.0),Distributions.Normal(μ=0.0, σ=1.0),Distributions.Normal(μ=0.0, σ=1.0),Distributions.Normal(μ=0.0, σ=1.0),Distributions.Normal(μ=0.0, σ=1.0),Distributions.Normal(μ=0.0, σ=1.0)]),VB.RandomNode{Distributions.Gamma}(:τ,[:j],[Distributions.Gamma(α=1.1, θ=1.0),Distributions.Gamma(α=1.1, θ=1.0),Distributions.Gamma(α=1.1, θ=1.0),Distributions.Gamma(α=1.1, θ=1.0),Distributions.Gamma(α=1.1, θ=1.0),Distributions.Gamma(α=1.1, θ=1.0)]),VB.ConstantNode{Float64}(:μ0,[:j],[0.0,0.0,0.0,0.0,0.0,0.0]),VB.ConstantNode{Float64}(:τ0,[:j],[2.0,2.0,2.0,2.0,2.0,2.0]),VB.ConstantNode{Float64}(:a0,[:j],[1.1,1.1,1.1,1.1,1.1,1.1]),VB.ConstantNode{Float64}(:b0,[:j],[1.0,1.0,1.0,1.0,1.0,1.0]),VB.ConstantNode{Float64}(:y,[:i,:j],20x6 Array{Float64,2}:\n",
       " 0.546135   0.696757   0.896892  0.107747   0.207077   0.488645  \n",
       " 0.0550184  0.0423218  0.145555  0.417331   0.315212   0.405151  \n",
       " 0.657353   0.0331194  0.758347  0.215747   0.276852   0.407049  \n",
       " 0.890422   0.58694    0.131843  0.991091   0.0171036  0.554281  \n",
       " 0.265835   0.590543   0.994137  0.347778   0.649579   0.20604   \n",
       " 0.601698   0.96706    0.613333  0.454261   0.271515   0.198874  \n",
       " 0.0463627  0.910567   0.455497  0.702279   0.679841   0.943471  \n",
       " 0.244822   0.746971   0.225412  0.282587   0.454853   0.396726  \n",
       " 0.716608   0.921152   0.384474  0.891912   0.462675   0.908947  \n",
       " 0.284099   0.161668   0.479933  0.0694868  0.423667   0.443426  \n",
       " 0.371382   0.47033    0.772876  0.895068   0.659642   0.00583772\n",
       " 0.0716601  0.744848   0.884177  0.323723   0.740923   0.979216  \n",
       " 0.543692   0.11418    0.944475  0.230082   0.495601   0.962959  \n",
       " 0.659325   0.791474   0.601671  0.876572   0.487663   0.725951  \n",
       " 0.673923   0.788201   0.894159  0.575548   0.955158   0.319206  \n",
       " 0.876156   0.465445   0.220314  0.423843   0.170656   0.737901  \n",
       " 0.218182   0.120136   0.754934  0.591793   0.315318   0.100926  \n",
       " 0.38915    0.288183   0.784436  0.909685   0.461322   0.627487  \n",
       " 0.613495   0.443239   0.516567  0.579119   0.536762   0.513354  \n",
       " 0.248402   0.0100128  0.208523  0.47954    0.894348   0.970092  )],VB.Factor[VB.LogNormalFactor{2}(VB.FactorInds([:i,:j],[20,6],Dict(:τ=>[2],:μ=>[2],:y=>[1,2])),VB.ConstantNode{Float64}(:y,[:i,:j],20x6 Array{Float64,2}:\n",
       " 0.546135   0.696757   0.896892  0.107747   0.207077   0.488645  \n",
       " 0.0550184  0.0423218  0.145555  0.417331   0.315212   0.405151  \n",
       " 0.657353   0.0331194  0.758347  0.215747   0.276852   0.407049  \n",
       " 0.890422   0.58694    0.131843  0.991091   0.0171036  0.554281  \n",
       " 0.265835   0.590543   0.994137  0.347778   0.649579   0.20604   \n",
       " 0.601698   0.96706    0.613333  0.454261   0.271515   0.198874  \n",
       " 0.0463627  0.910567   0.455497  0.702279   0.679841   0.943471  \n",
       " 0.244822   0.746971   0.225412  0.282587   0.454853   0.396726  \n",
       " 0.716608   0.921152   0.384474  0.891912   0.462675   0.908947  \n",
       " 0.284099   0.161668   0.479933  0.0694868  0.423667   0.443426  \n",
       " 0.371382   0.47033    0.772876  0.895068   0.659642   0.00583772\n",
       " 0.0716601  0.744848   0.884177  0.323723   0.740923   0.979216  \n",
       " 0.543692   0.11418    0.944475  0.230082   0.495601   0.962959  \n",
       " 0.659325   0.791474   0.601671  0.876572   0.487663   0.725951  \n",
       " 0.673923   0.788201   0.894159  0.575548   0.955158   0.319206  \n",
       " 0.876156   0.465445   0.220314  0.423843   0.170656   0.737901  \n",
       " 0.218182   0.120136   0.754934  0.591793   0.315318   0.100926  \n",
       " 0.38915    0.288183   0.784436  0.909685   0.461322   0.627487  \n",
       " 0.613495   0.443239   0.516567  0.579119   0.536762   0.513354  \n",
       " 0.248402   0.0100128  0.208523  0.47954    0.894348   0.970092  ),VB.RandomNode{Distributions.Normal}(:μ,[:j],[Distributions.Normal(μ=0.0, σ=1.0),Distributions.Normal(μ=0.0, σ=1.0),Distributions.Normal(μ=0.0, σ=1.0),Distributions.Normal(μ=0.0, σ=1.0),Distributions.Normal(μ=0.0, σ=1.0),Distributions.Normal(μ=0.0, σ=1.0)]),VB.RandomNode{Distributions.Gamma}(:τ,[:j],[Distributions.Gamma(α=1.1, θ=1.0),Distributions.Gamma(α=1.1, θ=1.0),Distributions.Gamma(α=1.1, θ=1.0),Distributions.Gamma(α=1.1, θ=1.0),Distributions.Gamma(α=1.1, θ=1.0),Distributions.Gamma(α=1.1, θ=1.0)])),VB.LogNormalFactor{1}(VB.FactorInds([:j],[6],Dict(:τ0=>[1],:μ=>[1],:μ0=>[1])),VB.RandomNode{Distributions.Normal}(:μ,[:j],[Distributions.Normal(μ=0.0, σ=1.0),Distributions.Normal(μ=0.0, σ=1.0),Distributions.Normal(μ=0.0, σ=1.0),Distributions.Normal(μ=0.0, σ=1.0),Distributions.Normal(μ=0.0, σ=1.0),Distributions.Normal(μ=0.0, σ=1.0)]),VB.ConstantNode{Float64}(:μ0,[:j],[0.0,0.0,0.0,0.0,0.0,0.0]),VB.ConstantNode{Float64}(:τ0,[:j],[2.0,2.0,2.0,2.0,2.0,2.0])),VB.LogGammaFactor{1}(VB.FactorInds([:j],[6],Dict(:τ=>[1],:b0=>[1],:a0=>[1])),VB.RandomNode{Distributions.Gamma}(:τ,[:j],[Distributions.Gamma(α=1.1, θ=1.0),Distributions.Gamma(α=1.1, θ=1.0),Distributions.Gamma(α=1.1, θ=1.0),Distributions.Gamma(α=1.1, θ=1.0),Distributions.Gamma(α=1.1, θ=1.0),Distributions.Gamma(α=1.1, θ=1.0)]),VB.ConstantNode{Float64}(:a0,[:j],[1.1,1.1,1.1,1.1,1.1,1.1]),VB.ConstantNode{Float64}(:b0,[:j],[1.0,1.0,1.0,1.0,1.0,1.0]))],Dict{VB.Node,Array{Tuple{VB.Factor{N},Symbol},1}}(VB.ConstantNode{Float64}(:b0,[:j],[1.0,1.0,1.0,1.0,1.0,1.0])=>Tuple{VB.Factor{N},Symbol}[(VB.LogGammaFactor{1}(VB.FactorInds([:j],[6],Dict(:τ=>[1],:b0=>[1],:a0=>[1])),VB.RandomNode{Distributions.Gamma}(:τ,[:j],[Distributions.Gamma(α=1.1, θ=1.0),Distributions.Gamma(α=1.1, θ=1.0),Distributions.Gamma(α=1.1, θ=1.0),Distributions.Gamma(α=1.1, θ=1.0),Distributions.Gamma(α=1.1, θ=1.0),Distributions.Gamma(α=1.1, θ=1.0)]),VB.ConstantNode{Float64}(:a0,[:j],[1.1,1.1,1.1,1.1,1.1,1.1]),VB.ConstantNode{Float64}(:b0,[:j],[1.0,1.0,1.0,1.0,1.0,1.0])),:β)],VB.ConstantNode{Float64}(:a0,[:j],[1.1,1.1,1.1,1.1,1.1,1.1])=>Tuple{VB.Factor{N},Symbol}[(VB.LogGammaFactor{1}(VB.FactorInds([:j],[6],Dict(:τ=>[1],:b0=>[1],:a0=>[1])),VB.RandomNode{Distributions.Gamma}(:τ,[:j],[Distributions.Gamma(α=1.1, θ=1.0),Distributions.Gamma(α=1.1, θ=1.0),Distributions.Gamma(α=1.1, θ=1.0),Distributions.Gamma(α=1.1, θ=1.0),Distributions.Gamma(α=1.1, θ=1.0),Distributions.Gamma(α=1.1, θ=1.0)]),VB.ConstantNode{Float64}(:a0,[:j],[1.1,1.1,1.1,1.1,1.1,1.1]),VB.ConstantNode{Float64}(:b0,[:j],[1.0,1.0,1.0,1.0,1.0,1.0])),:α)],VB.ConstantNode{Float64}(:μ0,[:j],[0.0,0.0,0.0,0.0,0.0,0.0])=>Tuple{VB.Factor{N},Symbol}[(VB.LogNormalFactor{1}(VB.FactorInds([:j],[6],Dict(:τ0=>[1],:μ=>[1],:μ0=>[1])),VB.RandomNode{Distributions.Normal}(:μ,[:j],[Distributions.Normal(μ=0.0, σ=1.0),Distributions.Normal(μ=0.0, σ=1.0),Distributions.Normal(μ=0.0, σ=1.0),Distributions.Normal(μ=0.0, σ=1.0),Distributions.Normal(μ=0.0, σ=1.0),Distributions.Normal(μ=0.0, σ=1.0)]),VB.ConstantNode{Float64}(:μ0,[:j],[0.0,0.0,0.0,0.0,0.0,0.0]),VB.ConstantNode{Float64}(:τ0,[:j],[2.0,2.0,2.0,2.0,2.0,2.0])),:μ)],VB.RandomNode{Distributions.Gamma}(:τ,[:j],[Distributions.Gamma(α=1.1, θ=1.0),Distributions.Gamma(α=1.1, θ=1.0),Distributions.Gamma(α=1.1, θ=1.0),Distributions.Gamma(α=1.1, θ=1.0),Distributions.Gamma(α=1.1, θ=1.0),Distributions.Gamma(α=1.1, θ=1.0)])=>Tuple{VB.Factor{N},Symbol}[(VB.LogNormalFactor{2}(VB.FactorInds([:i,:j],[20,6],Dict(:τ=>[2],:μ=>[2],:y=>[1,2])),VB.ConstantNode{Float64}(:y,[:i,:j],20x6 Array{Float64,2}:\n",
       " 0.546135   0.696757   0.896892  0.107747   0.207077   0.488645  \n",
       " 0.0550184  0.0423218  0.145555  0.417331   0.315212   0.405151  \n",
       " 0.657353   0.0331194  0.758347  0.215747   0.276852   0.407049  \n",
       " 0.890422   0.58694    0.131843  0.991091   0.0171036  0.554281  \n",
       " 0.265835   0.590543   0.994137  0.347778   0.649579   0.20604   \n",
       " 0.601698   0.96706    0.613333  0.454261   0.271515   0.198874  \n",
       " 0.0463627  0.910567   0.455497  0.702279   0.679841   0.943471  \n",
       " 0.244822   0.746971   0.225412  0.282587   0.454853   0.396726  \n",
       " 0.716608   0.921152   0.384474  0.891912   0.462675   0.908947  \n",
       " 0.284099   0.161668   0.479933  0.0694868  0.423667   0.443426  \n",
       " 0.371382   0.47033    0.772876  0.895068   0.659642   0.00583772\n",
       " 0.0716601  0.744848   0.884177  0.323723   0.740923   0.979216  \n",
       " 0.543692   0.11418    0.944475  0.230082   0.495601   0.962959  \n",
       " 0.659325   0.791474   0.601671  0.876572   0.487663   0.725951  \n",
       " 0.673923   0.788201   0.894159  0.575548   0.955158   0.319206  \n",
       " 0.876156   0.465445   0.220314  0.423843   0.170656   0.737901  \n",
       " 0.218182   0.120136   0.754934  0.591793   0.315318   0.100926  \n",
       " 0.38915    0.288183   0.784436  0.909685   0.461322   0.627487  \n",
       " 0.613495   0.443239   0.516567  0.579119   0.536762   0.513354  \n",
       " 0.248402   0.0100128  0.208523  0.47954    0.894348   0.970092  ),VB.RandomNode{Distributions.Normal}(:μ,[:j],[Distributions.Normal(μ=0.0, σ=1.0),Distributions.Normal(μ=0.0, σ=1.0),Distributions.Normal(μ=0.0, σ=1.0),Distributions.Normal(μ=0.0, σ=1.0),Distributions.Normal(μ=0.0, σ=1.0),Distributions.Normal(μ=0.0, σ=1.0)]),VB.RandomNode{Distributions.Gamma}(:τ,[:j],[Distributions.Gamma(α=1.1, θ=1.0),Distributions.Gamma(α=1.1, θ=1.0),Distributions.Gamma(α=1.1, θ=1.0),Distributions.Gamma(α=1.1, θ=1.0),Distributions.Gamma(α=1.1, θ=1.0),Distributions.Gamma(α=1.1, θ=1.0)])),:τ),(VB.LogGammaFactor{1}(VB.FactorInds([:j],[6],Dict(:τ=>[1],:b0=>[1],:a0=>[1])),VB.RandomNode{Distributions.Gamma}(:τ,[:j],[Distributions.Gamma(α=1.1, θ=1.0),Distributions.Gamma(α=1.1, θ=1.0),Distributions.Gamma(α=1.1, θ=1.0),Distributions.Gamma(α=1.1, θ=1.0),Distributions.Gamma(α=1.1, θ=1.0),Distributions.Gamma(α=1.1, θ=1.0)]),VB.ConstantNode{Float64}(:a0,[:j],[1.1,1.1,1.1,1.1,1.1,1.1]),VB.ConstantNode{Float64}(:b0,[:j],[1.0,1.0,1.0,1.0,1.0,1.0])),:x)],VB.ConstantNode{Float64}(:τ0,[:j],[2.0,2.0,2.0,2.0,2.0,2.0])=>Tuple{VB.Factor{N},Symbol}[(VB.LogNormalFactor{1}(VB.FactorInds([:j],[6],Dict(:τ0=>[1],:μ=>[1],:μ0=>[1])),VB.RandomNode{Distributions.Normal}(:μ,[:j],[Distributions.Normal(μ=0.0, σ=1.0),Distributions.Normal(μ=0.0, σ=1.0),Distributions.Normal(μ=0.0, σ=1.0),Distributions.Normal(μ=0.0, σ=1.0),Distributions.Normal(μ=0.0, σ=1.0),Distributions.Normal(μ=0.0, σ=1.0)]),VB.ConstantNode{Float64}(:μ0,[:j],[0.0,0.0,0.0,0.0,0.0,0.0]),VB.ConstantNode{Float64}(:τ0,[:j],[2.0,2.0,2.0,2.0,2.0,2.0])),:τ)],VB.RandomNode{Distributions.Normal}(:μ,[:j],[Distributions.Normal(μ=0.0, σ=1.0),Distributions.Normal(μ=0.0, σ=1.0),Distributions.Normal(μ=0.0, σ=1.0),Distributions.Normal(μ=0.0, σ=1.0),Distributions.Normal(μ=0.0, σ=1.0),Distributions.Normal(μ=0.0, σ=1.0)])=>Tuple{VB.Factor{N},Symbol}[(VB.LogNormalFactor{2}(VB.FactorInds([:i,:j],[20,6],Dict(:τ=>[2],:μ=>[2],:y=>[1,2])),VB.ConstantNode{Float64}(:y,[:i,:j],20x6 Array{Float64,2}:\n",
       " 0.546135   0.696757   0.896892  0.107747   0.207077   0.488645  \n",
       " 0.0550184  0.0423218  0.145555  0.417331   0.315212   0.405151  \n",
       " 0.657353   0.0331194  0.758347  0.215747   0.276852   0.407049  \n",
       " 0.890422   0.58694    0.131843  0.991091   0.0171036  0.554281  \n",
       " 0.265835   0.590543   0.994137  0.347778   0.649579   0.20604   \n",
       " 0.601698   0.96706    0.613333  0.454261   0.271515   0.198874  \n",
       " 0.0463627  0.910567   0.455497  0.702279   0.679841   0.943471  \n",
       " 0.244822   0.746971   0.225412  0.282587   0.454853   0.396726  \n",
       " 0.716608   0.921152   0.384474  0.891912   0.462675   0.908947  \n",
       " 0.284099   0.161668   0.479933  0.0694868  0.423667   0.443426  \n",
       " 0.371382   0.47033    0.772876  0.895068   0.659642   0.00583772\n",
       " 0.0716601  0.744848   0.884177  0.323723   0.740923   0.979216  \n",
       " 0.543692   0.11418    0.944475  0.230082   0.495601   0.962959  \n",
       " 0.659325   0.791474   0.601671  0.876572   0.487663   0.725951  \n",
       " 0.673923   0.788201   0.894159  0.575548   0.955158   0.319206  \n",
       " 0.876156   0.465445   0.220314  0.423843   0.170656   0.737901  \n",
       " 0.218182   0.120136   0.754934  0.591793   0.315318   0.100926  \n",
       " 0.38915    0.288183   0.784436  0.909685   0.461322   0.627487  \n",
       " 0.613495   0.443239   0.516567  0.579119   0.536762   0.513354  \n",
       " 0.248402   0.0100128  0.208523  0.47954    0.894348   0.970092  ),VB.RandomNode{Distributions.Normal}(:μ,[:j],[Distributions.Normal(μ=0.0, σ=1.0),Distributions.Normal(μ=0.0, σ=1.0),Distributions.Normal(μ=0.0, σ=1.0),Distributions.Normal(μ=0.0, σ=1.0),Distributions.Normal(μ=0.0, σ=1.0),Distributions.Normal(μ=0.0, σ=1.0)]),VB.RandomNode{Distributions.Gamma}(:τ,[:j],[Distributions.Gamma(α=1.1, θ=1.0),Distributions.Gamma(α=1.1, θ=1.0),Distributions.Gamma(α=1.1, θ=1.0),Distributions.Gamma(α=1.1, θ=1.0),Distributions.Gamma(α=1.1, θ=1.0),Distributions.Gamma(α=1.1, θ=1.0)])),:μ),(VB.LogNormalFactor{1}(VB.FactorInds([:j],[6],Dict(:τ0=>[1],:μ=>[1],:μ0=>[1])),VB.RandomNode{Distributions.Normal}(:μ,[:j],[Distributions.Normal(μ=0.0, σ=1.0),Distributions.Normal(μ=0.0, σ=1.0),Distributions.Normal(μ=0.0, σ=1.0),Distributions.Normal(μ=0.0, σ=1.0),Distributions.Normal(μ=0.0, σ=1.0),Distributions.Normal(μ=0.0, σ=1.0)]),VB.ConstantNode{Float64}(:μ0,[:j],[0.0,0.0,0.0,0.0,0.0,0.0]),VB.ConstantNode{Float64}(:τ0,[:j],[2.0,2.0,2.0,2.0,2.0,2.0])),:x)],VB.ConstantNode{Float64}(:y,[:i,:j],20x6 Array{Float64,2}:\n",
       " 0.546135   0.696757   0.896892  0.107747   0.207077   0.488645  \n",
       " 0.0550184  0.0423218  0.145555  0.417331   0.315212   0.405151  \n",
       " 0.657353   0.0331194  0.758347  0.215747   0.276852   0.407049  \n",
       " 0.890422   0.58694    0.131843  0.991091   0.0171036  0.554281  \n",
       " 0.265835   0.590543   0.994137  0.347778   0.649579   0.20604   \n",
       " 0.601698   0.96706    0.613333  0.454261   0.271515   0.198874  \n",
       " 0.0463627  0.910567   0.455497  0.702279   0.679841   0.943471  \n",
       " 0.244822   0.746971   0.225412  0.282587   0.454853   0.396726  \n",
       " 0.716608   0.921152   0.384474  0.891912   0.462675   0.908947  \n",
       " 0.284099   0.161668   0.479933  0.0694868  0.423667   0.443426  \n",
       " 0.371382   0.47033    0.772876  0.895068   0.659642   0.00583772\n",
       " 0.0716601  0.744848   0.884177  0.323723   0.740923   0.979216  \n",
       " 0.543692   0.11418    0.944475  0.230082   0.495601   0.962959  \n",
       " 0.659325   0.791474   0.601671  0.876572   0.487663   0.725951  \n",
       " 0.673923   0.788201   0.894159  0.575548   0.955158   0.319206  \n",
       " 0.876156   0.465445   0.220314  0.423843   0.170656   0.737901  \n",
       " 0.218182   0.120136   0.754934  0.591793   0.315318   0.100926  \n",
       " 0.38915    0.288183   0.784436  0.909685   0.461322   0.627487  \n",
       " 0.613495   0.443239   0.516567  0.579119   0.536762   0.513354  \n",
       " 0.248402   0.0100128  0.208523  0.47954    0.894348   0.970092  )=>Tuple{VB.Factor{N},Symbol}[(VB.LogNormalFactor{2}(VB.FactorInds([:i,:j],[20,6],Dict(:τ=>[2],:μ=>[2],:y=>[1,2])),VB.ConstantNode{Float64}(:y,[:i,:j],20x6 Array{Float64,2}:\n",
       " 0.546135   0.696757   0.896892  0.107747   0.207077   0.488645  \n",
       " 0.0550184  0.0423218  0.145555  0.417331   0.315212   0.405151  \n",
       " 0.657353   0.0331194  0.758347  0.215747   0.276852   0.407049  \n",
       " 0.890422   0.58694    0.131843  0.991091   0.0171036  0.554281  \n",
       " 0.265835   0.590543   0.994137  0.347778   0.649579   0.20604   \n",
       " 0.601698   0.96706    0.613333  0.454261   0.271515   0.198874  \n",
       " 0.0463627  0.910567   0.455497  0.702279   0.679841   0.943471  \n",
       " 0.244822   0.746971   0.225412  0.282587   0.454853   0.396726  \n",
       " 0.716608   0.921152   0.384474  0.891912   0.462675   0.908947  \n",
       " 0.284099   0.161668   0.479933  0.0694868  0.423667   0.443426  \n",
       " 0.371382   0.47033    0.772876  0.895068   0.659642   0.00583772\n",
       " 0.0716601  0.744848   0.884177  0.323723   0.740923   0.979216  \n",
       " 0.543692   0.11418    0.944475  0.230082   0.495601   0.962959  \n",
       " 0.659325   0.791474   0.601671  0.876572   0.487663   0.725951  \n",
       " 0.673923   0.788201   0.894159  0.575548   0.955158   0.319206  \n",
       " 0.876156   0.465445   0.220314  0.423843   0.170656   0.737901  \n",
       " 0.218182   0.120136   0.754934  0.591793   0.315318   0.100926  \n",
       " 0.38915    0.288183   0.784436  0.909685   0.461322   0.627487  \n",
       " 0.613495   0.443239   0.516567  0.579119   0.536762   0.513354  \n",
       " 0.248402   0.0100128  0.208523  0.47954    0.894348   0.970092  ),VB.RandomNode{Distributions.Normal}(:μ,[:j],[Distributions.Normal(μ=0.0, σ=1.0),Distributions.Normal(μ=0.0, σ=1.0),Distributions.Normal(μ=0.0, σ=1.0),Distributions.Normal(μ=0.0, σ=1.0),Distributions.Normal(μ=0.0, σ=1.0),Distributions.Normal(μ=0.0, σ=1.0)]),VB.RandomNode{Distributions.Gamma}(:τ,[:j],[Distributions.Gamma(α=1.1, θ=1.0),Distributions.Gamma(α=1.1, θ=1.0),Distributions.Gamma(α=1.1, θ=1.0),Distributions.Gamma(α=1.1, θ=1.0),Distributions.Gamma(α=1.1, θ=1.0),Distributions.Gamma(α=1.1, θ=1.0)])),:x)]))"
      ]
     },
     "execution_count": 15,
     "metadata": {},
     "output_type": "execute_result"
    }
   ],
   "source": [
    "m = VBModel([μ, τ, μ0, τ0, a0, b0, y], [obs, μ_prior, τ_prior])"
   ]
  },
  {
   "cell_type": "code",
   "execution_count": 17,
   "metadata": {
    "collapsed": false
   },
   "outputs": [
    {
     "data": {
      "text/plain": [
       "7-element Array{Any,1}:\n",
       " :μ \n",
       " :τ \n",
       " :μ0\n",
       " :τ0\n",
       " :a0\n",
       " :b0\n",
       " :y "
      ]
     },
     "execution_count": 17,
     "metadata": {},
     "output_type": "execute_result"
    }
   ],
   "source": [
    "[n.name for n in m.nodes]"
   ]
  },
  {
   "cell_type": "code",
   "execution_count": 19,
   "metadata": {
    "collapsed": false
   },
   "outputs": [
    {
     "data": {
      "text/plain": [
       "3-element Array{DataType,1}:\n",
       " VB.LogNormalFactor{2}\n",
       " VB.LogNormalFactor{1}\n",
       " VB.LogGammaFactor{1} "
      ]
     },
     "execution_count": 19,
     "metadata": {},
     "output_type": "execute_result"
    }
   ],
   "source": [
    "[typeof(f) for f in m.factors]"
   ]
  },
  {
   "cell_type": "code",
   "execution_count": 20,
   "metadata": {
    "collapsed": false
   },
   "outputs": [
    {
     "data": {
      "text/plain": [
       "Dict{VB.Node,Array{Tuple{VB.Factor{N},Symbol},1}} with 7 entries:\n",
       "  VB.ConstantNode{Float64… => Tuple{VB.Factor{N},Symbol}[(VB.LogGammaFactor{1}(…\n",
       "  VB.ConstantNode{Float64… => Tuple{VB.Factor{N},Symbol}[(VB.LogGammaFactor{1}(…\n",
       "  VB.ConstantNode{Float64… => Tuple{VB.Factor{N},Symbol}[(VB.LogNormalFactor{1}…\n",
       "  VB.RandomNode{Distribut… => Tuple{VB.Factor{N},Symbol}[(VB.LogNormalFactor{2}…\n",
       "  VB.ConstantNode{Float64… => Tuple{VB.Factor{N},Symbol}[(VB.LogNormalFactor{1}…\n",
       "  VB.RandomNode{Distribut… => Tuple{VB.Factor{N},Symbol}[(VB.LogNormalFactor{2}…\n",
       "  VB.ConstantNode{Float64… => Tuple{VB.Factor{N},Symbol}[(VB.LogNormalFactor{2}…"
      ]
     },
     "execution_count": 20,
     "metadata": {},
     "output_type": "execute_result"
    }
   ],
   "source": [
    "m.graph"
   ]
  },
  {
   "cell_type": "code",
   "execution_count": 17,
   "metadata": {
    "collapsed": false
   },
   "outputs": [
    {
     "ename": "LoadError",
     "evalue": "LoadError: MethodError: `naturals` has no method matching naturals(::VB.LogNormalFactor{2}, ::Type{Val{:x}}, ::VB.RandomNode{Distributions.Normal})\nwhile loading In[17], in expression starting on line 1",
     "output_type": "error",
     "traceback": [
      "LoadError: MethodError: `naturals` has no method matching naturals(::VB.LogNormalFactor{2}, ::Type{Val{:x}}, ::VB.RandomNode{Distributions.Normal})\nwhile loading In[17], in expression starting on line 1",
      ""
     ]
    }
   ],
   "source": [
    "naturals(obs, Val{:x}, μ)"
   ]
  },
  {
   "cell_type": "code",
   "execution_count": 18,
   "metadata": {
    "collapsed": false
   },
   "outputs": [
    {
     "ename": "LoadError",
     "evalue": "LoadError: MethodError: `naturals` has no method matching naturals(::VB.LogNormalFactor{2}, ::Type{Val{:μ}}, ::VB.RandomNode{Distributions.Normal})\nwhile loading In[18], in expression starting on line 1",
     "output_type": "error",
     "traceback": [
      "LoadError: MethodError: `naturals` has no method matching naturals(::VB.LogNormalFactor{2}, ::Type{Val{:μ}}, ::VB.RandomNode{Distributions.Normal})\nwhile loading In[18], in expression starting on line 1",
      ""
     ]
    }
   ],
   "source": [
    "naturals(obs, Val{:μ}, μ)"
   ]
  },
  {
   "cell_type": "code",
   "execution_count": 19,
   "metadata": {
    "collapsed": false
   },
   "outputs": [
    {
     "ename": "LoadError",
     "evalue": "LoadError: MethodError: `naturals` has no method matching naturals(::VB.LogNormalFactor{2}, ::Type{Val{:τ}}, ::VB.RandomNode{Distributions.Gamma})\nwhile loading In[19], in expression starting on line 1",
     "output_type": "error",
     "traceback": [
      "LoadError: MethodError: `naturals` has no method matching naturals(::VB.LogNormalFactor{2}, ::Type{Val{:τ}}, ::VB.RandomNode{Distributions.Gamma})\nwhile loading In[19], in expression starting on line 1",
      ""
     ]
    }
   ],
   "source": [
    "naturals(obs, Val{:τ}, τ)"
   ]
  },
  {
   "cell_type": "code",
   "execution_count": 20,
   "metadata": {
    "collapsed": false
   },
   "outputs": [
    {
     "data": {
      "text/plain": [
       "false"
      ]
     },
     "execution_count": 20,
     "metadata": {},
     "output_type": "execute_result"
    }
   ],
   "source": [
    "method_exists(naturals, (LogNormalFactor, Type{Val{:x}}, RandomNode{Normal}))"
   ]
  },
  {
   "cell_type": "code",
   "execution_count": 21,
   "metadata": {
    "collapsed": false
   },
   "outputs": [
    {
     "ename": "LoadError",
     "evalue": "LoadError: UndefVarError: check_conjugate not defined\nwhile loading In[21], in expression starting on line 1",
     "output_type": "error",
     "traceback": [
      "LoadError: UndefVarError: check_conjugate not defined\nwhile loading In[21], in expression starting on line 1",
      ""
     ]
    }
   ],
   "source": [
    "check_conjugate(m.nodes[:τ])"
   ]
  },
  {
   "cell_type": "code",
   "execution_count": 22,
   "metadata": {
    "collapsed": false
   },
   "outputs": [
    {
     "data": {
      "text/plain": [
       "6-element Array{Distributions.Normal,1}:\n",
       " Distributions.Normal(μ=0.0, σ=1.0)\n",
       " Distributions.Normal(μ=0.0, σ=1.0)\n",
       " Distributions.Normal(μ=0.0, σ=1.0)\n",
       " Distributions.Normal(μ=0.0, σ=1.0)\n",
       " Distributions.Normal(μ=0.0, σ=1.0)\n",
       " Distributions.Normal(μ=0.0, σ=1.0)"
      ]
     },
     "execution_count": 22,
     "metadata": {},
     "output_type": "execute_result"
    }
   ],
   "source": [
    "μ.data"
   ]
  },
  {
   "cell_type": "code",
   "execution_count": 23,
   "metadata": {
    "collapsed": false
   },
   "outputs": [
    {
     "ename": "LoadError",
     "evalue": "LoadError: UndefVarError: update! not defined\nwhile loading In[23], in expression starting on line 1",
     "output_type": "error",
     "traceback": [
      "LoadError: UndefVarError: update! not defined\nwhile loading In[23], in expression starting on line 1",
      ""
     ]
    }
   ],
   "source": [
    "update!(μ, Val{:conjugate})"
   ]
  },
  {
   "cell_type": "code",
   "execution_count": 24,
   "metadata": {
    "collapsed": false
   },
   "outputs": [
    {
     "data": {
      "text/plain": [
       "6-element Array{Distributions.Normal,1}:\n",
       " Distributions.Normal(μ=0.0, σ=1.0)\n",
       " Distributions.Normal(μ=0.0, σ=1.0)\n",
       " Distributions.Normal(μ=0.0, σ=1.0)\n",
       " Distributions.Normal(μ=0.0, σ=1.0)\n",
       " Distributions.Normal(μ=0.0, σ=1.0)\n",
       " Distributions.Normal(μ=0.0, σ=1.0)"
      ]
     },
     "execution_count": 24,
     "metadata": {},
     "output_type": "execute_result"
    }
   ],
   "source": [
    "μ.data"
   ]
  },
  {
   "cell_type": "code",
   "execution_count": null,
   "metadata": {
    "collapsed": true
   },
   "outputs": [],
   "source": []
  }
 ],
 "metadata": {
  "kernelspec": {
   "display_name": "Julia 0.4.1",
   "language": "julia",
   "name": "julia-0.4"
  },
  "language_info": {
   "file_extension": ".jl",
   "mimetype": "application/julia",
   "name": "julia",
   "version": "0.4.1"
  }
 },
 "nbformat": 4,
 "nbformat_minor": 0
}
