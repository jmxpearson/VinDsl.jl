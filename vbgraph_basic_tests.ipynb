{
 "cells": [
  {
   "cell_type": "markdown",
   "metadata": {},
   "source": [
    "Let's try some basic tests of `VB.jl`:"
   ]
  },
  {
   "cell_type": "code",
   "execution_count": 1,
   "metadata": {
    "collapsed": false
   },
   "outputs": [],
   "source": [
    "include(\"VB.jl\")\n",
    "using VB\n",
    "using Distributions"
   ]
  },
  {
   "cell_type": "code",
   "execution_count": 2,
   "metadata": {
    "collapsed": false
   },
   "outputs": [
    {
     "name": "stdout",
     "output_type": "stream",
     "text": [
      "search: "
     ]
    },
    {
     "data": {
      "text/latex": [
       "A Variational Bayesian modeling approach. Models are defined by  bipartite graphs in which factors defining terms in the variational objective are connected to nodes defining variables.\n"
      ],
      "text/markdown": [
       "A Variational Bayesian modeling approach. Models are defined by  bipartite graphs in which factors defining terms in the variational objective are connected to nodes defining variables.\n"
      ],
      "text/plain": [
       "A Variational Bayesian modeling approach. Models are defined by  bipartite graphs in which factors defining terms in the variational objective are connected to nodes defining variables.\n"
      ]
     },
     "execution_count": 2,
     "metadata": {},
     "output_type": "execute_result"
    }
   ],
   "source": [
    "?VB"
   ]
  },
  {
   "cell_type": "markdown",
   "metadata": {},
   "source": [
    "Let's try to make a Gaussian node with several different sizes and parameterizations:"
   ]
  },
  {
   "cell_type": "code",
   "execution_count": 3,
   "metadata": {
    "collapsed": false
   },
   "outputs": [
    {
     "name": "stdout",
     "output_type": "stream",
     "text": [
      "VB VBModel A_rdiv_Bt A_rdiv_Bc A_ldiv_Bt A_ldiv_Bc A_ldiv_B! At_rdiv_B\n",
      "\n"
     ]
    },
    {
     "data": {
      "text/plain": [
       "3"
      ]
     },
     "execution_count": 3,
     "metadata": {},
     "output_type": "execute_result"
    }
   ],
   "source": [
    "ndims = (5, 5)  # node dimensions\n",
    "vardims = 3  # dimension of variable"
   ]
  },
  {
   "cell_type": "code",
   "execution_count": 4,
   "metadata": {
    "collapsed": false
   },
   "outputs": [],
   "source": [
    "μ = Array{Vector{Float64}}(ndims)\n",
    "Σ = Array{Matrix{Float64}}(ndims)\n",
    "\n",
    "for idx in eachindex(μ)\n",
    "    μ[idx] = rand(vardims)\n",
    "end\n",
    "\n",
    "for idx in eachindex(Σ)\n",
    "    C = rand(vardims, vardims)\n",
    "    Σ[idx] = C * C'\n",
    "end"
   ]
  },
  {
   "cell_type": "code",
   "execution_count": 5,
   "metadata": {
    "collapsed": false
   },
   "outputs": [
    {
     "data": {
      "text/plain": [
       "3-element Array{Float64,1}:\n",
       " 0.229518\n",
       " 0.401658\n",
       " 0.563177"
      ]
     },
     "execution_count": 5,
     "metadata": {},
     "output_type": "execute_result"
    }
   ],
   "source": [
    "μ[1]"
   ]
  },
  {
   "cell_type": "code",
   "execution_count": 6,
   "metadata": {
    "collapsed": false
   },
   "outputs": [
    {
     "data": {
      "text/plain": [
       "3x3 Array{Float64,2}:\n",
       " 1.33283   0.766849  0.722939\n",
       " 0.766849  0.509968  0.579774\n",
       " 0.722939  0.579774  0.823883"
      ]
     },
     "execution_count": 6,
     "metadata": {},
     "output_type": "execute_result"
    }
   ],
   "source": [
    "Σ[1]"
   ]
  },
  {
   "cell_type": "code",
   "execution_count": 7,
   "metadata": {
    "collapsed": false
   },
   "outputs": [
    {
     "data": {
      "text/plain": [
       "0.003443225933242878"
      ]
     },
     "execution_count": 7,
     "metadata": {},
     "output_type": "execute_result"
    }
   ],
   "source": [
    "det(Σ[2])"
   ]
  },
  {
   "cell_type": "code",
   "execution_count": 8,
   "metadata": {
    "collapsed": false
   },
   "outputs": [
    {
     "data": {
      "text/plain": [
       "5x5 Array{Distributions.MvNormal{PDMats.PDMat,Array{Float64,1}},2}:\n",
       " FullNormal(\n",
       "dim: 3\n",
       "μ: [0.2295180297955579,0.40165775125190173,0.5631772236989734]\n",
       "Σ: 3x3 Array{Float64,2}:\n",
       " 1.33283   0.766849  0.722939\n",
       " 0.766849  0.509968  0.579774\n",
       " 0.722939  0.579774  0.823883\n",
       ")\n",
       "  …  FullNormal(\n",
       "dim: 3\n",
       "μ: [0.3309353499545331,0.5888602898858801,0.1772748010722942]\n",
       "Σ: 3x3 Array{Float64,2}:\n",
       " 1.00514   1.11088  0.791002\n",
       " 1.11088   1.41714  1.00387 \n",
       " 0.791002  1.00387  1.03482 \n",
       ")\n",
       "         \n",
       " FullNormal(\n",
       "dim: 3\n",
       "μ: [0.2681376817822456,0.12710316485688367,0.358412299838444]\n",
       "Σ: 3x3 Array{Float64,2}:\n",
       " 0.250012  0.529797  0.289958\n",
       " 0.529797  1.40391   0.993972\n",
       " 0.289958  0.993972  0.897447\n",
       ")\n",
       "      FullNormal(\n",
       "dim: 3\n",
       "μ: [0.8002978377972811,0.284625937081755,0.19052892735408644]\n",
       "Σ: 3x3 Array{Float64,2}:\n",
       " 0.574814   0.270141  0.0317898\n",
       " 0.270141   0.51816   0.055366 \n",
       " 0.0317898  0.055366  0.0104618\n",
       ")\n",
       "\n",
       " FullNormal(\n",
       "dim: 3\n",
       "μ: [0.09976518649375699,0.9153295948281044,0.8527834469230859]\n",
       "Σ: 3x3 Array{Float64,2}:\n",
       " 0.290507  0.288134  0.446604\n",
       " 0.288134  0.354345  0.655567\n",
       " 0.446604  0.655567  1.4807  \n",
       ")\n",
       "     FullNormal(\n",
       "dim: 3\n",
       "μ: [0.367278613341778,0.5382075778024811,0.24699178052217552]\n",
       "Σ: 3x3 Array{Float64,2}:\n",
       " 1.46418  1.62303  1.0602  \n",
       " 1.62303  2.09085  1.31216 \n",
       " 1.0602   1.31216  0.947588\n",
       ")\n",
       "            \n",
       " FullNormal(\n",
       "dim: 3\n",
       "μ: [0.3302911228067247,0.12543909376523876,0.3188630089136555]\n",
       "Σ: 3x3 Array{Float64,2}:\n",
       " 0.620995  0.490473  0.815217\n",
       " 0.490473  0.495207  0.690305\n",
       " 0.815217  0.690305  1.11703 \n",
       ")\n",
       "     FullNormal(\n",
       "dim: 3\n",
       "μ: [0.07429684007479342,0.8759429881591696,0.7715270435208428]\n",
       "Σ: 3x3 Array{Float64,2}:\n",
       " 0.636827  0.43138   1.03705\n",
       " 0.43138   0.526092  1.05105\n",
       " 1.03705   1.05105   2.31115\n",
       ")\n",
       "        \n",
       " FullNormal(\n",
       "dim: 3\n",
       "μ: [0.12278179200140671,0.9096177149420417,0.988128060975781]\n",
       "Σ: 3x3 Array{Float64,2}:\n",
       " 0.848067  0.744473  0.700637\n",
       " 0.744473  1.07372   0.985436\n",
       " 0.700637  0.985436  0.99024 \n",
       ")\n",
       "      FullNormal(\n",
       "dim: 3\n",
       "μ: [0.6203543932233775,0.8232327856885344,0.05393985440400195]\n",
       "Σ: 3x3 Array{Float64,2}:\n",
       " 1.2339    0.588559  0.641804\n",
       " 0.588559  1.12851   1.15099 \n",
       " 0.641804  1.15099   1.23764 \n",
       ")\n",
       "     "
      ]
     },
     "execution_count": 8,
     "metadata": {},
     "output_type": "execute_result"
    }
   ],
   "source": [
    "pars = (μ, Σ)\n",
    "aa = map(MultivariateNormal, pars...)"
   ]
  },
  {
   "cell_type": "code",
   "execution_count": 9,
   "metadata": {
    "collapsed": false
   },
   "outputs": [],
   "source": [
    "rr = RandomNode(aa, Factor[]);"
   ]
  },
  {
   "cell_type": "code",
   "execution_count": 10,
   "metadata": {
    "collapsed": false
   },
   "outputs": [
    {
     "data": {
      "text/plain": [
       "Array{Distributions.MvNormal{PDMats.PDMat,Array{Float64,1}},2}"
      ]
     },
     "execution_count": 10,
     "metadata": {},
     "output_type": "execute_result"
    }
   ],
   "source": [
    "typeof(aa)"
   ]
  },
  {
   "cell_type": "code",
   "execution_count": 11,
   "metadata": {
    "collapsed": false
   },
   "outputs": [
    {
     "data": {
      "text/plain": [
       "true"
      ]
     },
     "execution_count": 11,
     "metadata": {},
     "output_type": "execute_result"
    }
   ],
   "source": [
    "typeof(aa) <: AbstractArray{typeof(aa[1]), 2}"
   ]
  },
  {
   "cell_type": "code",
   "execution_count": 12,
   "metadata": {
    "collapsed": false
   },
   "outputs": [],
   "source": [
    "ss = RandomNode(MultivariateNormal, pars...);"
   ]
  },
  {
   "cell_type": "code",
   "execution_count": 13,
   "metadata": {
    "collapsed": false,
    "scrolled": true
   },
   "outputs": [
    {
     "data": {
      "text/plain": [
       "5x5 Array{Array{Float64,1},2}:\n",
       " [0.2295180297955579,0.40165775125190173,0.5631772236989734]  …  [0.3309353499545331,0.5888602898858801,0.1772748010722942] \n",
       " [0.2681376817822456,0.12710316485688367,0.358412299838444]      [0.8002978377972811,0.284625937081755,0.19052892735408644] \n",
       " [0.09976518649375699,0.9153295948281044,0.8527834469230859]     [0.367278613341778,0.5382075778024811,0.24699178052217552] \n",
       " [0.3302911228067247,0.12543909376523876,0.3188630089136555]     [0.07429684007479342,0.8759429881591696,0.7715270435208428]\n",
       " [0.12278179200140671,0.9096177149420417,0.988128060975781]      [0.6203543932233775,0.8232327856885344,0.05393985440400195]"
      ]
     },
     "execution_count": 13,
     "metadata": {},
     "output_type": "execute_result"
    }
   ],
   "source": [
    "E(ss)"
   ]
  },
  {
   "cell_type": "code",
   "execution_count": 14,
   "metadata": {
    "collapsed": false
   },
   "outputs": [
    {
     "name": "stdout",
     "output_type": "stream",
     "text": [
      "search: "
     ]
    },
    {
     "data": {
      "text/latex": [
       "Calculates the expected value of a Node x.\n"
      ],
      "text/markdown": [
       "Calculates the expected value of a Node x.\n"
      ],
      "text/plain": [
       "Calculates the expected value of a Node x.\n"
      ]
     },
     "execution_count": 14,
     "metadata": {},
     "output_type": "execute_result"
    }
   ],
   "source": [
    "?E"
   ]
  },
  {
   "cell_type": "code",
   "execution_count": 15,
   "metadata": {
    "collapsed": false
   },
   "outputs": [
    {
     "data": {
      "text/plain": [
       "Distributions.MvNormal{PDMats.PDMat,Array{Float64,1}}"
      ]
     },
     "execution_count": 15,
     "metadata": {},
     "output_type": "execute_result"
    }
   ],
   "source": [
    "typeof(ss).parameters[1]"
   ]
  },
  {
   "cell_type": "markdown",
   "metadata": {},
   "source": [
    "# Make a factor and check its value"
   ]
  },
  {
   "cell_type": "code",
   "execution_count": 19,
   "metadata": {
    "collapsed": false
   },
   "outputs": [
    {
     "data": {
      "text/plain": [
       "VB.LogNormalFactor(VB.RandomNode{Distributions.Normal,1}([Distributions.Normal(μ=0.8169925904273341, σ=0.6493667633068523),Distributions.Normal(μ=0.6814702707915921, σ=0.5938767103086791),Distributions.Normal(μ=0.36870444406349767, σ=0.12560701806679897),Distributions.Normal(μ=0.18382156413885165, σ=0.32779735004274446),Distributions.Normal(μ=0.9826089858966249, σ=0.7450204115829733),Distributions.Normal(μ=0.6468939362295552, σ=0.7131695536667013),Distributions.Normal(μ=0.24260565372817489, σ=0.38637460141050384),Distributions.Normal(μ=0.41427911649527704, σ=0.5115052320958617),Distributions.Normal(μ=0.13884968467110492, σ=0.8262219192312845),Distributions.Normal(μ=0.28524975811986364, σ=0.12271446224920313)],VB.Factor[]),VB.ConstantNode{Float64,1}([0.4680858114408861,0.976824912844177,0.2700955502261062,0.014862481894264867,0.027079877569621935,0.1807897234935656,0.37169055612056723,0.4715735842717028,0.34117414760399867,0.4073257192134978],VB.Factor[]),VB.ConstantNode{Float64,1}([0.6065747645764443,0.9689785622227114,0.7975857489649572,0.8374081853345519,0.9438837161441276,0.7988516664594625,0.07395065233960141,0.5757251913876671,0.006190005989469061,0.2818168732028832],VB.Factor[]))"
      ]
     },
     "execution_count": 19,
     "metadata": {},
     "output_type": "execute_result"
    }
   ],
   "source": [
    "μ = rand(10)\n",
    "τ = rand(10)\n",
    "x = RandomNode(Normal, rand(10), rand(10))\n",
    "f = LogNormalFactor(x, μ, τ)"
   ]
  },
  {
   "cell_type": "code",
   "execution_count": 20,
   "metadata": {
    "collapsed": false
   },
   "outputs": [
    {
     "data": {
      "text/plain": [
       "-5.343496596426723"
      ]
     },
     "execution_count": 20,
     "metadata": {},
     "output_type": "execute_result"
    }
   ],
   "source": [
    "value(f)"
   ]
  },
  {
   "cell_type": "code",
   "execution_count": 22,
   "metadata": {
    "collapsed": false
   },
   "outputs": [
    {
     "data": {
      "text/plain": [
       "VB.LogNormalFactor(VB.RandomNode{Distributions.Normal,1}([Distributions.Normal(μ=0.8169925904273341, σ=0.6493667633068523),Distributions.Normal(μ=0.6814702707915921, σ=0.5938767103086791),Distributions.Normal(μ=0.36870444406349767, σ=0.12560701806679897),Distributions.Normal(μ=0.18382156413885165, σ=0.32779735004274446),Distributions.Normal(μ=0.9826089858966249, σ=0.7450204115829733),Distributions.Normal(μ=0.6468939362295552, σ=0.7131695536667013),Distributions.Normal(μ=0.24260565372817489, σ=0.38637460141050384),Distributions.Normal(μ=0.41427911649527704, σ=0.5115052320958617),Distributions.Normal(μ=0.13884968467110492, σ=0.8262219192312845),Distributions.Normal(μ=0.28524975811986364, σ=0.12271446224920313)],VB.Factor[VB.LogNormalFactor(#= circular reference =#),VB.LogNormalFactor(#= circular reference =#)]),VB.ConstantNode{Float64,1}([0.4680858114408861,0.976824912844177,0.2700955502261062,0.014862481894264867,0.027079877569621935,0.1807897234935656,0.37169055612056723,0.4715735842717028,0.34117414760399867,0.4073257192134978],VB.Factor[VB.LogNormalFactor(#= circular reference =#),VB.LogNormalFactor(#= circular reference =#)]),VB.ConstantNode{Float64,1}([0.6065747645764443,0.9689785622227114,0.7975857489649572,0.8374081853345519,0.9438837161441276,0.7988516664594625,0.07395065233960141,0.5757251913876671,0.006190005989469061,0.2818168732028832],VB.Factor[VB.LogNormalFactor(#= circular reference =#),VB.LogNormalFactor(#= circular reference =#)]))"
      ]
     },
     "execution_count": 22,
     "metadata": {},
     "output_type": "execute_result"
    }
   ],
   "source": [
    "register(f)\n",
    "x.factors[1]"
   ]
  },
  {
   "cell_type": "code",
   "execution_count": null,
   "metadata": {
    "collapsed": true
   },
   "outputs": [],
   "source": []
  }
 ],
 "metadata": {
  "kernelspec": {
   "display_name": "Julia 0.4.1",
   "language": "julia",
   "name": "julia-0.4"
  },
  "language_info": {
   "file_extension": ".jl",
   "mimetype": "application/julia",
   "name": "julia",
   "version": "0.4.1"
  }
 },
 "nbformat": 4,
 "nbformat_minor": 0
}
