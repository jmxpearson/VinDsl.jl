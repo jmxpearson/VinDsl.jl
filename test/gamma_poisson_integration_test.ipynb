{
 "cells": [
  {
   "cell_type": "markdown",
   "metadata": {},
   "source": [
    "# Test the Gamma-Poisson model"
   ]
  },
  {
   "cell_type": "code",
   "execution_count": 1,
   "metadata": {
    "collapsed": false
   },
   "outputs": [],
   "source": [
    "using Distributions\n",
    "include(\"VB.jl\")\n",
    "using VB\n",
    "using PyPlot\n",
    "srand(12345);"
   ]
  },
  {
   "cell_type": "markdown",
   "metadata": {},
   "source": [
    "## Set up some priors and generate fake data"
   ]
  },
  {
   "cell_type": "code",
   "execution_count": 2,
   "metadata": {
    "collapsed": false
   },
   "outputs": [
    {
     "data": {
      "text/plain": [
       "2"
      ]
     },
     "execution_count": 2,
     "metadata": {},
     "output_type": "execute_result"
    }
   ],
   "source": [
    "U = 10  # units\n",
    "T = 100  # time points\n",
    "K = 3  # HMM factors\n",
    "J = 2  # HMM states"
   ]
  },
  {
   "cell_type": "markdown",
   "metadata": {},
   "source": [
    "Generate parameters of HMMs"
   ]
  },
  {
   "cell_type": "code",
   "execution_count": 3,
   "metadata": {
    "collapsed": false
   },
   "outputs": [
    {
     "data": {
      "text/plain": [
       "3-element Array{Array{Float64,2},1}:\n",
       " 2x2 Array{Float64,2}:\n",
       " 0.892411  0.360028\n",
       " 0.107589  0.639972\n",
       " 2x2 Array{Float64,2}:\n",
       " 0.69168  0.441308\n",
       " 0.30832  0.558692  \n",
       " 2x2 Array{Float64,2}:\n",
       " 0.663668  0.409165\n",
       " 0.336332  0.590835"
      ]
     },
     "execution_count": 3,
     "metadata": {},
     "output_type": "execute_result"
    }
   ],
   "source": [
    "π0_data = [rand(Dirichlet(2, 5)) for k in 1:K]\n",
    "A_data = [rand(MarkovMatrix([7.0 4 ; 3 6])) for k in 1:K]"
   ]
  },
  {
   "cell_type": "code",
   "execution_count": 4,
   "metadata": {
    "collapsed": false
   },
   "outputs": [
    {
     "data": {
      "text/plain": [
       "3-element Array{Array{T,N},1}:\n",
       " 2x100 Array{Float64,2}:\n",
       " 0.0  0.0  0.0  1.0  1.0  1.0  1.0  1.0  …  1.0  1.0  1.0  1.0  1.0  1.0  1.0\n",
       " 1.0  1.0  1.0  0.0  0.0  0.0  0.0  0.0     0.0  0.0  0.0  0.0  0.0  0.0  0.0\n",
       " 2x100 Array{Float64,2}:\n",
       " 0.0  1.0  1.0  0.0  0.0  0.0  0.0  1.0  …  1.0  0.0  0.0  1.0  1.0  0.0  0.0\n",
       " 1.0  0.0  0.0  1.0  1.0  1.0  1.0  0.0     0.0  1.0  1.0  0.0  0.0  1.0  1.0\n",
       " 2x100 Array{Float64,2}:\n",
       " 0.0  0.0  0.0  1.0  1.0  1.0  1.0  0.0  …  1.0  0.0  0.0  1.0  0.0  0.0  1.0\n",
       " 1.0  1.0  1.0  0.0  0.0  0.0  0.0  1.0     0.0  1.0  1.0  0.0  1.0  1.0  0.0"
      ]
     },
     "execution_count": 4,
     "metadata": {},
     "output_type": "execute_result"
    }
   ],
   "source": [
    "z_data = [rand(MarkovChain(π0_data[k], A_data[k], T)) for k in 1:K]"
   ]
  },
  {
   "cell_type": "code",
   "execution_count": 5,
   "metadata": {
    "collapsed": false
   },
   "outputs": [
    {
     "data": {
      "text/plain": [
       "3x100 Array{Float64,2}:\n",
       " 0.0  0.0  0.0  1.0  1.0  1.0  1.0  1.0  …  1.0  1.0  1.0  1.0  1.0  1.0  1.0\n",
       " 0.0  1.0  1.0  0.0  0.0  0.0  0.0  1.0     1.0  0.0  0.0  1.0  1.0  0.0  0.0\n",
       " 0.0  0.0  0.0  1.0  1.0  1.0  1.0  0.0     1.0  0.0  0.0  1.0  0.0  0.0  1.0"
      ]
     },
     "execution_count": 5,
     "metadata": {},
     "output_type": "execute_result"
    }
   ],
   "source": [
    "z_unique = vcat([z[1, :] for z in z_data]...)"
   ]
  },
  {
   "cell_type": "code",
   "execution_count": 6,
   "metadata": {
    "collapsed": false
   },
   "outputs": [
    {
     "data": {
      "image/png": "[encoded data removed]",
      "text/plain": [
       "PyPlot.Figure(PyObject <matplotlib.figure.Figure object at 0x3210f8f10>)"
      ]
     },
     "metadata": {},
     "output_type": "display_data"
    },
    {
     "data": {
      "text/plain": [
       "PyObject <matplotlib.image.AxesImage object at 0x323f1a050>"
      ]
     },
     "execution_count": 6,
     "metadata": {},
     "output_type": "execute_result"
    }
   ],
   "source": [
    "matshow(z_unique, cmap=\"gray\", aspect=\"auto\")"
   ]
  },
  {
   "cell_type": "code",
   "execution_count": null,
   "metadata": {
    "collapsed": true
   },
   "outputs": [],
   "source": []
  }
 ],
 "metadata": {
  "kernelspec": {
   "display_name": "Julia 0.4.1",
   "language": "julia",
   "name": "julia-0.4"
  },
  "language_info": {
   "file_extension": ".jl",
   "mimetype": "application/julia",
   "name": "julia",
   "version": "0.4.1"
  }
 },
 "nbformat": 4,
 "nbformat_minor": 0
}
