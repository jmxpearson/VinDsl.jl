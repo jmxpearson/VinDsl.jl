{
 "cells": [
  {
   "cell_type": "markdown",
   "metadata": {},
   "source": [
    "Let's try some basic tests of `VB.jl`:"
   ]
  },
  {
   "cell_type": "code",
   "execution_count": 1,
   "metadata": {
    "collapsed": false
   },
   "outputs": [],
   "source": [
    "include(\"VB.jl\")\n",
    "using VB\n",
    "using Distributions"
   ]
  },
  {
   "cell_type": "markdown",
   "metadata": {},
   "source": [
    "# Make a node"
   ]
  },
  {
   "cell_type": "code",
   "execution_count": 2,
   "metadata": {
    "collapsed": false
   },
   "outputs": [
    {
     "data": {
      "text/plain": [
       "VB.RandomNode{Distributions.Gamma}(:b,Symbol[],[:j,:k],5x3 Array{Distributions.Gamma,2}:\n",
       " Distributions.Gamma(α=0.5816654249399293, θ=0.8118559608309102)    …  Distributions.Gamma(α=0.3659952907787327, θ=0.10180438531923763)\n",
       " Distributions.Gamma(α=0.41945014632224975, θ=0.5854950570843731)      Distributions.Gamma(α=0.872218077405007, θ=0.5292864535009745)  \n",
       " Distributions.Gamma(α=0.46015825907991803, θ=0.2643074710486386)      Distributions.Gamma(α=0.8944299821690787, θ=0.32016065056476095)\n",
       " Distributions.Gamma(α=0.23558590039223604, θ=0.8605725300282003)      Distributions.Gamma(α=0.7911209969577011, θ=0.6166906448938994) \n",
       " Distributions.Gamma(α=0.7049408919115381, θ=0.012859864310270641)     Distributions.Gamma(α=0.3511608201975418, θ=0.8225775598029583) )"
      ]
     },
     "execution_count": 2,
     "metadata": {},
     "output_type": "execute_result"
    }
   ],
   "source": [
    "μ = rand(5, 5)\n",
    "σ = rand(5, 5)\n",
    "aa = RandomNode(:a, [:i, :j], Normal, μ, σ)\n",
    "bb = RandomNode(:b, [:j, :k], Gamma, rand(5, 3), rand(5, 3))"
   ]
  },
  {
   "cell_type": "code",
   "execution_count": 3,
   "metadata": {
    "collapsed": false
   },
   "outputs": [
    {
     "data": {
      "text/plain": [
       "VB.ConstantNode{Float64}(:c,Symbol[],[:i,:j],3x4 Array{Float64,2}:\n",
       " 0.918864  0.227525   0.906902  0.330157\n",
       " 0.02747   0.0338514  0.267962  0.609874\n",
       " 0.891026  0.80223    0.76398   0.249833)"
      ]
     },
     "execution_count": 3,
     "metadata": {},
     "output_type": "execute_result"
    }
   ],
   "source": [
    "cc = ConstantNode(:c, [:i, :j], rand(3, 4))"
   ]
  },
  {
   "cell_type": "code",
   "execution_count": 4,
   "metadata": {
    "collapsed": false
   },
   "outputs": [
    {
     "data": {
      "text/plain": [
       "VB.ConstantNode{Float64}(symbol(\"##const#7769\"),Symbol[],[:i,:j],3x4 Array{Float64,2}:\n",
       " 0.43758    0.203854  0.661685  0.570825\n",
       " 0.662014   0.300279  0.673258  0.925846\n",
       " 0.0131563  0.84656   0.37589   0.352118)"
      ]
     },
     "execution_count": 4,
     "metadata": {},
     "output_type": "execute_result"
    }
   ],
   "source": [
    "cc = ConstantNode(rand(3, 4), [:i, :j])"
   ]
  },
  {
   "cell_type": "code",
   "execution_count": 5,
   "metadata": {
    "collapsed": false
   },
   "outputs": [
    {
     "data": {
      "text/plain": [
       "VB.FactorInds([:i,:j,:k],[5,5,3],Dict(:a=>[1,2],:b=>[2,3]),Dict(:a=>[1,2],:b=>[1,2]))"
      ]
     },
     "execution_count": 5,
     "metadata": {},
     "output_type": "execute_result"
    }
   ],
   "source": [
    "nodes = Node[aa, bb]\n",
    "fi = get_structure(nodes...)\n",
    "fi"
   ]
  },
  {
   "cell_type": "code",
   "execution_count": 6,
   "metadata": {
    "collapsed": false
   },
   "outputs": [
    {
     "data": {
      "text/plain": [
       "VB.RandomNode{Distributions.Normal}(:a,Symbol[],[:i,:j],5x5 Array{Distributions.Normal,2}:\n",
       " Distributions.Normal(μ=0.9595176958009373, σ=0.9413540573472496)   …  Distributions.Normal(μ=0.5158919023258492, σ=0.07401571465540324)\n",
       " Distributions.Normal(μ=0.08495008725807707, σ=0.8775271163579395)     Distributions.Normal(μ=0.3417226685462347, σ=0.8573647663277206) \n",
       " Distributions.Normal(μ=0.9667091205619043, σ=0.9952332191495259)      Distributions.Normal(μ=0.5673580491985311, σ=0.8677224720381846) \n",
       " Distributions.Normal(μ=0.8782725823807305, σ=0.3707667370460299)      Distributions.Normal(μ=0.6918673208378425, σ=0.13326297251622687)\n",
       " Distributions.Normal(μ=0.9073901486262097, σ=0.8820837139485764)      Distributions.Normal(μ=0.31478632316797284, σ=0.803139124662344) )"
      ]
     },
     "execution_count": 6,
     "metadata": {},
     "output_type": "execute_result"
    }
   ],
   "source": [
    "a[i, j] ~ Normal(μ, σ)"
   ]
  },
  {
   "cell_type": "code",
   "execution_count": 7,
   "metadata": {
    "collapsed": false
   },
   "outputs": [
    {
     "data": {
      "text/plain": [
       "VB.ConstantNode{Float64}(:c,Symbol[],[:i,:j],3x4 Array{Float64,2}:\n",
       " 0.0381583  0.414331   0.880829  0.819818 \n",
       " 0.571025   0.0634958  0.811855  0.469022 \n",
       " 0.55277    0.291532   0.88283   0.0877853)"
      ]
     },
     "execution_count": 7,
     "metadata": {},
     "output_type": "execute_result"
    }
   ],
   "source": [
    "c[i, j] ~ Const(rand(3, 4))"
   ]
  },
  {
   "cell_type": "markdown",
   "metadata": {},
   "source": [
    "Make a multivariate node"
   ]
  },
  {
   "cell_type": "code",
   "execution_count": 8,
   "metadata": {
    "collapsed": false
   },
   "outputs": [
    {
     "data": {
      "text/plain": [
       "([:i],[:j])"
      ]
     },
     "execution_count": 8,
     "metadata": {},
     "output_type": "execute_result"
    }
   ],
   "source": [
    "dims = (5, 3)\n",
    "m = [rand(dims[1]) for x in 1:dims[2]]\n",
    "VV = [diagm(rand(dims[1])) for x in 1:dims[2]]\n",
    "d[i, j] ~ MvNormal(m, VV)\n",
    "d.innerinds, d.outerinds"
   ]
  },
  {
   "cell_type": "markdown",
   "metadata": {},
   "source": [
    "# Make a factor"
   ]
  },
  {
   "cell_type": "code",
   "execution_count": 9,
   "metadata": {
    "collapsed": false
   },
   "outputs": [
    {
     "data": {
      "text/plain": [
       "-34.19953709445545"
      ]
     },
     "execution_count": 9,
     "metadata": {},
     "output_type": "execute_result"
    }
   ],
   "source": [
    "dims = (10, 2)\n",
    "\n",
    "μ[j] ~ Normal(rand(dims[2]), ones(dims[2]))\n",
    "τ ~ Gamma(1, 1)\n",
    "x[i, j] ~ Normal(rand(dims), ones(dims))\n",
    "\n",
    "f = @factor LogNormalFactor x μ τ;\n",
    "value(f)"
   ]
  },
  {
   "cell_type": "markdown",
   "metadata": {},
   "source": [
    "and a multivariate factor..."
   ]
  },
  {
   "cell_type": "code",
   "execution_count": 10,
   "metadata": {
    "collapsed": false
   },
   "outputs": [
    {
     "data": {
      "text/plain": [
       "-27.67887571887946"
      ]
     },
     "execution_count": 10,
     "metadata": {},
     "output_type": "execute_result"
    }
   ],
   "source": [
    "dims = (5, 3)\n",
    "m = [rand(dims[1]) for x in 1:dims[2]]\n",
    "VV = [diagm(rand(dims[1])) for x in 1:dims[2]]\n",
    "\n",
    "y[i, j] ~ MvNormal(m, VV)\n",
    "μ[i] ~ Normal(zeros(dims[1]), ones(dims[1]))\n",
    "Σ[j] ~ Const([diagm(rand(dims[1])) for x in 1:dims[2]])\n",
    "\n",
    "f = @factor LogMvNormalCanonFactor y μ Σ\n",
    "value(f)"
   ]
  },
  {
   "cell_type": "code",
   "execution_count": 11,
   "metadata": {
    "collapsed": false
   },
   "outputs": [
    {
     "data": {
      "text/plain": [
       "quote  # /Users/jmxp/code/vbgraph/types.jl, line 380:\n",
       "    δ = E(project(f,:x,(i_1,))) - E(project(f,:μ,(i_1,))) # /Users/jmxp/code/vbgraph/types.jl, line 381:\n",
       "    EΛ = E(project(f,:Λ,(i_1,))) # /Users/jmxp/code/vbgraph/types.jl, line 382:\n",
       "    -(1 / 2) * ((trace(EΛ * ((V(project(f,:x,(i_1,))) .+ V(project(f,:μ,(i_1,)))) .+ δ * δ')) + length(project(f,:x,(i_1,))) * log(2π)) - Elogdet(project(f,:Λ,(i_1,))))\n",
       "end"
      ]
     },
     "execution_count": 11,
     "metadata": {},
     "output_type": "execute_result"
    }
   ],
   "source": [
    "vars = fieldnames(f)\n",
    "val_expr = value(typeof(f))\n",
    "using Base.Cartesian\n",
    "macroexpand(:(@wrapvars $vars $val_expr (@ntuple 1 i)))"
   ]
  },
  {
   "cell_type": "code",
   "execution_count": 12,
   "metadata": {
    "collapsed": false
   },
   "outputs": [
    {
     "data": {
      "text/plain": [
       "([:j],Dict(:μ=>Int64[],:y=>[1],:Σ=>[1]),Dict(:μ=>Int64[],:y=>[1],:Σ=>[1]))"
      ]
     },
     "execution_count": 12,
     "metadata": {},
     "output_type": "execute_result"
    }
   ],
   "source": [
    "f.inds.indices, f.inds.inds_in_factor, f.inds.inds_in_node"
   ]
  },
  {
   "cell_type": "code",
   "execution_count": 13,
   "metadata": {
    "collapsed": false
   },
   "outputs": [
    {
     "data": {
      "text/plain": [
       "(Any[5],Any[Colon()])"
      ]
     },
     "execution_count": 13,
     "metadata": {},
     "output_type": "execute_result"
    }
   ],
   "source": [
    "project_inds(f, :x, (5,)), project_inds(f, :μ, (5,))"
   ]
  },
  {
   "cell_type": "code",
   "execution_count": 14,
   "metadata": {
    "collapsed": false
   },
   "outputs": [
    {
     "data": {
      "text/plain": [
       "VB.RandomNode{Distributions.Normal}(:μ,Symbol[],[:i],[Distributions.Normal(μ=0.0, σ=1.0),Distributions.Normal(μ=0.0, σ=1.0),Distributions.Normal(μ=0.0, σ=1.0),Distributions.Normal(μ=0.0, σ=1.0),Distributions.Normal(μ=0.0, σ=1.0)])"
      ]
     },
     "execution_count": 14,
     "metadata": {},
     "output_type": "execute_result"
    }
   ],
   "source": [
    "μ"
   ]
  },
  {
   "cell_type": "code",
   "execution_count": 15,
   "metadata": {
    "collapsed": false
   },
   "outputs": [
    {
     "data": {
      "text/plain": [
       "28.378770664093462"
      ]
     },
     "execution_count": 15,
     "metadata": {},
     "output_type": "execute_result"
    }
   ],
   "source": [
    "g = @factor EntropyFactor x\n",
    "value(g)"
   ]
  },
  {
   "cell_type": "markdown",
   "metadata": {},
   "source": [
    "# Let's make a simple model"
   ]
  },
  {
   "cell_type": "markdown",
   "metadata": {},
   "source": [
    "We want a simple model of inference for a normal distribution:\n",
    "\n",
    "$$\n",
    "\\begin{aligned}\n",
    "    y \\sim \\mathcal{N}(\\mu, \\tau) \\\\\n",
    "    \\mu \\sim \\mathcal{N}(\\mu_0, \\tau_0) \\\\\n",
    "    \\tau \\sim \\mathrm{Ga}(\\alpha, \\beta) \\\\\n",
    "    q(\\mu) = \\mathcal{N}(m, t) \\\\\n",
    "    q(\\tau) = \\mathrm{Ga}(a, b)\n",
    "\\end{aligned}\n",
    "$$\n",
    "\n",
    "This model is conjugate, and can be solved by straightforward updates of the natural parameters of the posterior."
   ]
  },
  {
   "cell_type": "markdown",
   "metadata": {},
   "source": [
    "## Make the nodes\n",
    "\n",
    "We need to make nodes for all the random variables that will need to be updated (we can also create nodes for parameter arrays, but these will be converted automatically if we don't)."
   ]
  },
  {
   "cell_type": "code",
   "execution_count": 16,
   "metadata": {
    "collapsed": false
   },
   "outputs": [],
   "source": [
    "dims = (20, 6)\n",
    "\n",
    "# note: it won't matter much how we initialize here\n",
    "μ[j] ~ Normal(zeros(dims[2]), ones(dims[2]))\n",
    "τ[j] ~ Gamma(1.1 * ones(dims[2]), ones(dims[2]))\n",
    "μ0[j] ~ Const(zeros(dims[2]))\n",
    "τ0[j] ~ Const(2 * ones(dims[2]))\n",
    "a0[j] ~ Const(1.1 * ones(dims[2]))\n",
    "b0[j] ~ Const(ones(dims[2]))\n",
    "\n",
    "y[i, j] ~ Const(rand(dims));"
   ]
  },
  {
   "cell_type": "markdown",
   "metadata": {},
   "source": [
    "Now make factors: We need a Normal factor for the observation model plus a prior and an entropy for each node."
   ]
  },
  {
   "cell_type": "code",
   "execution_count": 17,
   "metadata": {
    "collapsed": false
   },
   "outputs": [
    {
     "data": {
      "text/plain": [
       "VB.LogGammaFactor{1}(VB.RandomNode{Distributions.Gamma}(:τ,Symbol[],[:j],[Distributions.Gamma(α=1.1, θ=1.0),Distributions.Gamma(α=1.1, θ=1.0),Distributions.Gamma(α=1.1, θ=1.0),Distributions.Gamma(α=1.1, θ=1.0),Distributions.Gamma(α=1.1, θ=1.0),Distributions.Gamma(α=1.1, θ=1.0)]),VB.ConstantNode{Float64}(:a0,Symbol[],[:j],[1.1,1.1,1.1,1.1,1.1,1.1]),VB.ConstantNode{Float64}(:b0,Symbol[],[:j],[1.0,1.0,1.0,1.0,1.0,1.0]),VB.FactorInds([:j],[6],Dict(:τ=>[1],:b0=>[1],:a0=>[1]),Dict(:τ=>[1],:b0=>[1],:a0=>[1])),Dict(:τ=>:x,:b0=>:β,:a0=>:α))"
      ]
     },
     "execution_count": 17,
     "metadata": {},
     "output_type": "execute_result"
    }
   ],
   "source": [
    "obs = @factor LogNormalFactor y μ τ\n",
    "μ_prior = @factor LogNormalFactor μ μ0 τ0\n",
    "τ_prior = @factor LogGammaFactor τ a0 b0"
   ]
  },
  {
   "cell_type": "code",
   "execution_count": 18,
   "metadata": {
    "collapsed": false
   },
   "outputs": [
    {
     "data": {
      "text/plain": [
       "(-174.1830520792865,-13.593072740907873,0.0449816833123928)"
      ]
     },
     "execution_count": 18,
     "metadata": {},
     "output_type": "execute_result"
    }
   ],
   "source": [
    "value(obs), value(μ_prior), value(τ_prior)"
   ]
  },
  {
   "cell_type": "code",
   "execution_count": 19,
   "metadata": {
    "collapsed": false
   },
   "outputs": [
    {
     "data": {
      "text/plain": [
       "VB.VBModel(VB.Node[VB.RandomNode{Distributions.Normal}(:μ,Symbol[],[:j],[Distributions.Normal(μ=0.0, σ=1.0),Distributions.Normal(μ=0.0, σ=1.0),Distributions.Normal(μ=0.0, σ=1.0),Distributions.Normal(μ=0.0, σ=1.0),Distributions.Normal(μ=0.0, σ=1.0),Distributions.Normal(μ=0.0, σ=1.0)]),VB.RandomNode{Distributions.Gamma}(:τ,Symbol[],[:j],[Distributions.Gamma(α=1.1, θ=1.0),Distributions.Gamma(α=1.1, θ=1.0),Distributions.Gamma(α=1.1, θ=1.0),Distributions.Gamma(α=1.1, θ=1.0),Distributions.Gamma(α=1.1, θ=1.0),Distributions.Gamma(α=1.1, θ=1.0)]),VB.ConstantNode{Float64}(:μ0,Symbol[],[:j],[0.0,0.0,0.0,0.0,0.0,0.0]),VB.ConstantNode{Float64}(:τ0,Symbol[],[:j],[2.0,2.0,2.0,2.0,2.0,2.0]),VB.ConstantNode{Float64}(:a0,Symbol[],[:j],[1.1,1.1,1.1,1.1,1.1,1.1]),VB.ConstantNode{Float64}(:b0,Symbol[],[:j],[1.0,1.0,1.0,1.0,1.0,1.0]),VB.ConstantNode{Float64}(:y,Symbol[],[:i,:j],20x6 Array{Float64,2}:\n",
       " 0.0733417  0.593968    0.54841   0.323937    0.0588273  0.45829  \n",
       " 0.307873   0.930857    0.212867  0.272107    0.46514    0.349133 \n",
       " 0.799893   0.00223848  0.690687  0.656691    0.473318   0.0232912\n",
       " 0.738889   0.311048    0.478732  0.366642    0.231588   0.397286 \n",
       " 0.03152    0.37439     0.772013  0.921361    0.902644   0.594926 \n",
       " 0.624651   0.700681    0.117461  0.34059     0.927342   0.553928 \n",
       " 0.709023   0.0387212   0.766119  0.592746    0.483269   0.0308169\n",
       " 0.744086   0.65658     0.603512  0.288501    0.297833   0.969277 \n",
       " 0.881511   0.0164742   0.235339  0.141368    0.575147   0.70981  \n",
       " 0.636991   0.676425    0.381016  0.114897    0.652371   0.399559 \n",
       " 0.868193   0.0909983   0.332177  0.911059    0.667415   0.851067 \n",
       " 0.527216   0.73745     0.972512  0.775838    0.849346   0.831606 \n",
       " 0.78436    0.426522    0.833167  0.70197     0.628288   0.536338 \n",
       " 0.0417828  0.872993    0.917187  0.932481    0.354574   0.463994 \n",
       " 0.0719662  0.231756    0.541593  0.541216    0.852249   0.548334 \n",
       " 0.0689804  0.886836    0.27382   0.843869    0.207225   0.215935 \n",
       " 0.619974   0.0489559   0.449304  0.846662    0.779064   0.049725 \n",
       " 0.264477   0.545123    0.969575  0.00174284  0.408251   0.919598 \n",
       " 0.109967   0.704448    0.787915  0.700465    0.506182   0.8122   \n",
       " 0.221807   0.984778    0.635146  0.486996    0.624884   0.617092 )],VB.Factor[VB.LogNormalFactor{2}(VB.ConstantNode{Float64}(:y,Symbol[],[:i,:j],20x6 Array{Float64,2}:\n",
       " 0.0733417  0.593968    0.54841   0.323937    0.0588273  0.45829  \n",
       " 0.307873   0.930857    0.212867  0.272107    0.46514    0.349133 \n",
       " 0.799893   0.00223848  0.690687  0.656691    0.473318   0.0232912\n",
       " 0.738889   0.311048    0.478732  0.366642    0.231588   0.397286 \n",
       " 0.03152    0.37439     0.772013  0.921361    0.902644   0.594926 \n",
       " 0.624651   0.700681    0.117461  0.34059     0.927342   0.553928 \n",
       " 0.709023   0.0387212   0.766119  0.592746    0.483269   0.0308169\n",
       " 0.744086   0.65658     0.603512  0.288501    0.297833   0.969277 \n",
       " 0.881511   0.0164742   0.235339  0.141368    0.575147   0.70981  \n",
       " 0.636991   0.676425    0.381016  0.114897    0.652371   0.399559 \n",
       " 0.868193   0.0909983   0.332177  0.911059    0.667415   0.851067 \n",
       " 0.527216   0.73745     0.972512  0.775838    0.849346   0.831606 \n",
       " 0.78436    0.426522    0.833167  0.70197     0.628288   0.536338 \n",
       " 0.0417828  0.872993    0.917187  0.932481    0.354574   0.463994 \n",
       " 0.0719662  0.231756    0.541593  0.541216    0.852249   0.548334 \n",
       " 0.0689804  0.886836    0.27382   0.843869    0.207225   0.215935 \n",
       " 0.619974   0.0489559   0.449304  0.846662    0.779064   0.049725 \n",
       " 0.264477   0.545123    0.969575  0.00174284  0.408251   0.919598 \n",
       " 0.109967   0.704448    0.787915  0.700465    0.506182   0.8122   \n",
       " 0.221807   0.984778    0.635146  0.486996    0.624884   0.617092 ),VB.RandomNode{Distributions.Normal}(:μ,Symbol[],[:j],[Distributions.Normal(μ=0.0, σ=1.0),Distributions.Normal(μ=0.0, σ=1.0),Distributions.Normal(μ=0.0, σ=1.0),Distributions.Normal(μ=0.0, σ=1.0),Distributions.Normal(μ=0.0, σ=1.0),Distributions.Normal(μ=0.0, σ=1.0)]),VB.RandomNode{Distributions.Gamma}(:τ,Symbol[],[:j],[Distributions.Gamma(α=1.1, θ=1.0),Distributions.Gamma(α=1.1, θ=1.0),Distributions.Gamma(α=1.1, θ=1.0),Distributions.Gamma(α=1.1, θ=1.0),Distributions.Gamma(α=1.1, θ=1.0),Distributions.Gamma(α=1.1, θ=1.0)]),VB.FactorInds([:i,:j],[20,6],Dict(:τ=>[2],:μ=>[2],:y=>[1,2]),Dict(:τ=>[1],:μ=>[1],:y=>[1,2])),Dict(:τ=>:τ,:μ=>:μ,:y=>:x)),VB.LogNormalFactor{1}(VB.RandomNode{Distributions.Normal}(:μ,Symbol[],[:j],[Distributions.Normal(μ=0.0, σ=1.0),Distributions.Normal(μ=0.0, σ=1.0),Distributions.Normal(μ=0.0, σ=1.0),Distributions.Normal(μ=0.0, σ=1.0),Distributions.Normal(μ=0.0, σ=1.0),Distributions.Normal(μ=0.0, σ=1.0)]),VB.ConstantNode{Float64}(:μ0,Symbol[],[:j],[0.0,0.0,0.0,0.0,0.0,0.0]),VB.ConstantNode{Float64}(:τ0,Symbol[],[:j],[2.0,2.0,2.0,2.0,2.0,2.0]),VB.FactorInds([:j],[6],Dict(:τ0=>[1],:μ=>[1],:μ0=>[1]),Dict(:τ0=>[1],:μ=>[1],:μ0=>[1])),Dict(:τ0=>:τ,:μ=>:x,:μ0=>:μ)),VB.LogGammaFactor{1}(VB.RandomNode{Distributions.Gamma}(:τ,Symbol[],[:j],[Distributions.Gamma(α=1.1, θ=1.0),Distributions.Gamma(α=1.1, θ=1.0),Distributions.Gamma(α=1.1, θ=1.0),Distributions.Gamma(α=1.1, θ=1.0),Distributions.Gamma(α=1.1, θ=1.0),Distributions.Gamma(α=1.1, θ=1.0)]),VB.ConstantNode{Float64}(:a0,Symbol[],[:j],[1.1,1.1,1.1,1.1,1.1,1.1]),VB.ConstantNode{Float64}(:b0,Symbol[],[:j],[1.0,1.0,1.0,1.0,1.0,1.0]),VB.FactorInds([:j],[6],Dict(:τ=>[1],:b0=>[1],:a0=>[1]),Dict(:τ=>[1],:b0=>[1],:a0=>[1])),Dict(:τ=>:x,:b0=>:β,:a0=>:α))],Dict{VB.Node,Array{Tuple{VB.Factor{N},Symbol},1}}(VB.RandomNode{Distributions.Gamma}(:τ,Symbol[],[:j],[Distributions.Gamma(α=1.1, θ=1.0),Distributions.Gamma(α=1.1, θ=1.0),Distributions.Gamma(α=1.1, θ=1.0),Distributions.Gamma(α=1.1, θ=1.0),Distributions.Gamma(α=1.1, θ=1.0),Distributions.Gamma(α=1.1, θ=1.0)])=>Tuple{VB.Factor{N},Symbol}[(VB.LogNormalFactor{2}(VB.ConstantNode{Float64}(:y,Symbol[],[:i,:j],20x6 Array{Float64,2}:\n",
       " 0.0733417  0.593968    0.54841   0.323937    0.0588273  0.45829  \n",
       " 0.307873   0.930857    0.212867  0.272107    0.46514    0.349133 \n",
       " 0.799893   0.00223848  0.690687  0.656691    0.473318   0.0232912\n",
       " 0.738889   0.311048    0.478732  0.366642    0.231588   0.397286 \n",
       " 0.03152    0.37439     0.772013  0.921361    0.902644   0.594926 \n",
       " 0.624651   0.700681    0.117461  0.34059     0.927342   0.553928 \n",
       " 0.709023   0.0387212   0.766119  0.592746    0.483269   0.0308169\n",
       " 0.744086   0.65658     0.603512  0.288501    0.297833   0.969277 \n",
       " 0.881511   0.0164742   0.235339  0.141368    0.575147   0.70981  \n",
       " 0.636991   0.676425    0.381016  0.114897    0.652371   0.399559 \n",
       " 0.868193   0.0909983   0.332177  0.911059    0.667415   0.851067 \n",
       " 0.527216   0.73745     0.972512  0.775838    0.849346   0.831606 \n",
       " 0.78436    0.426522    0.833167  0.70197     0.628288   0.536338 \n",
       " 0.0417828  0.872993    0.917187  0.932481    0.354574   0.463994 \n",
       " 0.0719662  0.231756    0.541593  0.541216    0.852249   0.548334 \n",
       " 0.0689804  0.886836    0.27382   0.843869    0.207225   0.215935 \n",
       " 0.619974   0.0489559   0.449304  0.846662    0.779064   0.049725 \n",
       " 0.264477   0.545123    0.969575  0.00174284  0.408251   0.919598 \n",
       " 0.109967   0.704448    0.787915  0.700465    0.506182   0.8122   \n",
       " 0.221807   0.984778    0.635146  0.486996    0.624884   0.617092 ),VB.RandomNode{Distributions.Normal}(:μ,Symbol[],[:j],[Distributions.Normal(μ=0.0, σ=1.0),Distributions.Normal(μ=0.0, σ=1.0),Distributions.Normal(μ=0.0, σ=1.0),Distributions.Normal(μ=0.0, σ=1.0),Distributions.Normal(μ=0.0, σ=1.0),Distributions.Normal(μ=0.0, σ=1.0)]),VB.RandomNode{Distributions.Gamma}(:τ,Symbol[],[:j],[Distributions.Gamma(α=1.1, θ=1.0),Distributions.Gamma(α=1.1, θ=1.0),Distributions.Gamma(α=1.1, θ=1.0),Distributions.Gamma(α=1.1, θ=1.0),Distributions.Gamma(α=1.1, θ=1.0),Distributions.Gamma(α=1.1, θ=1.0)]),VB.FactorInds([:i,:j],[20,6],Dict(:τ=>[2],:μ=>[2],:y=>[1,2]),Dict(:τ=>[1],:μ=>[1],:y=>[1,2])),Dict(:τ=>:τ,:μ=>:μ,:y=>:x)),:τ),(VB.LogGammaFactor{1}(VB.RandomNode{Distributions.Gamma}(:τ,Symbol[],[:j],[Distributions.Gamma(α=1.1, θ=1.0),Distributions.Gamma(α=1.1, θ=1.0),Distributions.Gamma(α=1.1, θ=1.0),Distributions.Gamma(α=1.1, θ=1.0),Distributions.Gamma(α=1.1, θ=1.0),Distributions.Gamma(α=1.1, θ=1.0)]),VB.ConstantNode{Float64}(:a0,Symbol[],[:j],[1.1,1.1,1.1,1.1,1.1,1.1]),VB.ConstantNode{Float64}(:b0,Symbol[],[:j],[1.0,1.0,1.0,1.0,1.0,1.0]),VB.FactorInds([:j],[6],Dict(:τ=>[1],:b0=>[1],:a0=>[1]),Dict(:τ=>[1],:b0=>[1],:a0=>[1])),Dict(:τ=>:x,:b0=>:β,:a0=>:α)),:x)],VB.ConstantNode{Float64}(:μ0,Symbol[],[:j],[0.0,0.0,0.0,0.0,0.0,0.0])=>Tuple{VB.Factor{N},Symbol}[(VB.LogNormalFactor{1}(VB.RandomNode{Distributions.Normal}(:μ,Symbol[],[:j],[Distributions.Normal(μ=0.0, σ=1.0),Distributions.Normal(μ=0.0, σ=1.0),Distributions.Normal(μ=0.0, σ=1.0),Distributions.Normal(μ=0.0, σ=1.0),Distributions.Normal(μ=0.0, σ=1.0),Distributions.Normal(μ=0.0, σ=1.0)]),VB.ConstantNode{Float64}(:μ0,Symbol[],[:j],[0.0,0.0,0.0,0.0,0.0,0.0]),VB.ConstantNode{Float64}(:τ0,Symbol[],[:j],[2.0,2.0,2.0,2.0,2.0,2.0]),VB.FactorInds([:j],[6],Dict(:τ0=>[1],:μ=>[1],:μ0=>[1]),Dict(:τ0=>[1],:μ=>[1],:μ0=>[1])),Dict(:τ0=>:τ,:μ=>:x,:μ0=>:μ)),:μ)],VB.RandomNode{Distributions.Normal}(:μ,Symbol[],[:j],[Distributions.Normal(μ=0.0, σ=1.0),Distributions.Normal(μ=0.0, σ=1.0),Distributions.Normal(μ=0.0, σ=1.0),Distributions.Normal(μ=0.0, σ=1.0),Distributions.Normal(μ=0.0, σ=1.0),Distributions.Normal(μ=0.0, σ=1.0)])=>Tuple{VB.Factor{N},Symbol}[(VB.LogNormalFactor{2}(VB.ConstantNode{Float64}(:y,Symbol[],[:i,:j],20x6 Array{Float64,2}:\n",
       " 0.0733417  0.593968    0.54841   0.323937    0.0588273  0.45829  \n",
       " 0.307873   0.930857    0.212867  0.272107    0.46514    0.349133 \n",
       " 0.799893   0.00223848  0.690687  0.656691    0.473318   0.0232912\n",
       " 0.738889   0.311048    0.478732  0.366642    0.231588   0.397286 \n",
       " 0.03152    0.37439     0.772013  0.921361    0.902644   0.594926 \n",
       " 0.624651   0.700681    0.117461  0.34059     0.927342   0.553928 \n",
       " 0.709023   0.0387212   0.766119  0.592746    0.483269   0.0308169\n",
       " 0.744086   0.65658     0.603512  0.288501    0.297833   0.969277 \n",
       " 0.881511   0.0164742   0.235339  0.141368    0.575147   0.70981  \n",
       " 0.636991   0.676425    0.381016  0.114897    0.652371   0.399559 \n",
       " 0.868193   0.0909983   0.332177  0.911059    0.667415   0.851067 \n",
       " 0.527216   0.73745     0.972512  0.775838    0.849346   0.831606 \n",
       " 0.78436    0.426522    0.833167  0.70197     0.628288   0.536338 \n",
       " 0.0417828  0.872993    0.917187  0.932481    0.354574   0.463994 \n",
       " 0.0719662  0.231756    0.541593  0.541216    0.852249   0.548334 \n",
       " 0.0689804  0.886836    0.27382   0.843869    0.207225   0.215935 \n",
       " 0.619974   0.0489559   0.449304  0.846662    0.779064   0.049725 \n",
       " 0.264477   0.545123    0.969575  0.00174284  0.408251   0.919598 \n",
       " 0.109967   0.704448    0.787915  0.700465    0.506182   0.8122   \n",
       " 0.221807   0.984778    0.635146  0.486996    0.624884   0.617092 ),VB.RandomNode{Distributions.Normal}(:μ,Symbol[],[:j],[Distributions.Normal(μ=0.0, σ=1.0),Distributions.Normal(μ=0.0, σ=1.0),Distributions.Normal(μ=0.0, σ=1.0),Distributions.Normal(μ=0.0, σ=1.0),Distributions.Normal(μ=0.0, σ=1.0),Distributions.Normal(μ=0.0, σ=1.0)]),VB.RandomNode{Distributions.Gamma}(:τ,Symbol[],[:j],[Distributions.Gamma(α=1.1, θ=1.0),Distributions.Gamma(α=1.1, θ=1.0),Distributions.Gamma(α=1.1, θ=1.0),Distributions.Gamma(α=1.1, θ=1.0),Distributions.Gamma(α=1.1, θ=1.0),Distributions.Gamma(α=1.1, θ=1.0)]),VB.FactorInds([:i,:j],[20,6],Dict(:τ=>[2],:μ=>[2],:y=>[1,2]),Dict(:τ=>[1],:μ=>[1],:y=>[1,2])),Dict(:τ=>:τ,:μ=>:μ,:y=>:x)),:μ),(VB.LogNormalFactor{1}(VB.RandomNode{Distributions.Normal}(:μ,Symbol[],[:j],[Distributions.Normal(μ=0.0, σ=1.0),Distributions.Normal(μ=0.0, σ=1.0),Distributions.Normal(μ=0.0, σ=1.0),Distributions.Normal(μ=0.0, σ=1.0),Distributions.Normal(μ=0.0, σ=1.0),Distributions.Normal(μ=0.0, σ=1.0)]),VB.ConstantNode{Float64}(:μ0,Symbol[],[:j],[0.0,0.0,0.0,0.0,0.0,0.0]),VB.ConstantNode{Float64}(:τ0,Symbol[],[:j],[2.0,2.0,2.0,2.0,2.0,2.0]),VB.FactorInds([:j],[6],Dict(:τ0=>[1],:μ=>[1],:μ0=>[1]),Dict(:τ0=>[1],:μ=>[1],:μ0=>[1])),Dict(:τ0=>:τ,:μ=>:x,:μ0=>:μ)),:x)],VB.ConstantNode{Float64}(:y,Symbol[],[:i,:j],20x6 Array{Float64,2}:\n",
       " 0.0733417  0.593968    0.54841   0.323937    0.0588273  0.45829  \n",
       " 0.307873   0.930857    0.212867  0.272107    0.46514    0.349133 \n",
       " 0.799893   0.00223848  0.690687  0.656691    0.473318   0.0232912\n",
       " 0.738889   0.311048    0.478732  0.366642    0.231588   0.397286 \n",
       " 0.03152    0.37439     0.772013  0.921361    0.902644   0.594926 \n",
       " 0.624651   0.700681    0.117461  0.34059     0.927342   0.553928 \n",
       " 0.709023   0.0387212   0.766119  0.592746    0.483269   0.0308169\n",
       " 0.744086   0.65658     0.603512  0.288501    0.297833   0.969277 \n",
       " 0.881511   0.0164742   0.235339  0.141368    0.575147   0.70981  \n",
       " 0.636991   0.676425    0.381016  0.114897    0.652371   0.399559 \n",
       " 0.868193   0.0909983   0.332177  0.911059    0.667415   0.851067 \n",
       " 0.527216   0.73745     0.972512  0.775838    0.849346   0.831606 \n",
       " 0.78436    0.426522    0.833167  0.70197     0.628288   0.536338 \n",
       " 0.0417828  0.872993    0.917187  0.932481    0.354574   0.463994 \n",
       " 0.0719662  0.231756    0.541593  0.541216    0.852249   0.548334 \n",
       " 0.0689804  0.886836    0.27382   0.843869    0.207225   0.215935 \n",
       " 0.619974   0.0489559   0.449304  0.846662    0.779064   0.049725 \n",
       " 0.264477   0.545123    0.969575  0.00174284  0.408251   0.919598 \n",
       " 0.109967   0.704448    0.787915  0.700465    0.506182   0.8122   \n",
       " 0.221807   0.984778    0.635146  0.486996    0.624884   0.617092 )=>Tuple{VB.Factor{N},Symbol}[(VB.LogNormalFactor{2}(VB.ConstantNode{Float64}(:y,Symbol[],[:i,:j],20x6 Array{Float64,2}:\n",
       " 0.0733417  0.593968    0.54841   0.323937    0.0588273  0.45829  \n",
       " 0.307873   0.930857    0.212867  0.272107    0.46514    0.349133 \n",
       " 0.799893   0.00223848  0.690687  0.656691    0.473318   0.0232912\n",
       " 0.738889   0.311048    0.478732  0.366642    0.231588   0.397286 \n",
       " 0.03152    0.37439     0.772013  0.921361    0.902644   0.594926 \n",
       " 0.624651   0.700681    0.117461  0.34059     0.927342   0.553928 \n",
       " 0.709023   0.0387212   0.766119  0.592746    0.483269   0.0308169\n",
       " 0.744086   0.65658     0.603512  0.288501    0.297833   0.969277 \n",
       " 0.881511   0.0164742   0.235339  0.141368    0.575147   0.70981  \n",
       " 0.636991   0.676425    0.381016  0.114897    0.652371   0.399559 \n",
       " 0.868193   0.0909983   0.332177  0.911059    0.667415   0.851067 \n",
       " 0.527216   0.73745     0.972512  0.775838    0.849346   0.831606 \n",
       " 0.78436    0.426522    0.833167  0.70197     0.628288   0.536338 \n",
       " 0.0417828  0.872993    0.917187  0.932481    0.354574   0.463994 \n",
       " 0.0719662  0.231756    0.541593  0.541216    0.852249   0.548334 \n",
       " 0.0689804  0.886836    0.27382   0.843869    0.207225   0.215935 \n",
       " 0.619974   0.0489559   0.449304  0.846662    0.779064   0.049725 \n",
       " 0.264477   0.545123    0.969575  0.00174284  0.408251   0.919598 \n",
       " 0.109967   0.704448    0.787915  0.700465    0.506182   0.8122   \n",
       " 0.221807   0.984778    0.635146  0.486996    0.624884   0.617092 ),VB.RandomNode{Distributions.Normal}(:μ,Symbol[],[:j],[Distributions.Normal(μ=0.0, σ=1.0),Distributions.Normal(μ=0.0, σ=1.0),Distributions.Normal(μ=0.0, σ=1.0),Distributions.Normal(μ=0.0, σ=1.0),Distributions.Normal(μ=0.0, σ=1.0),Distributions.Normal(μ=0.0, σ=1.0)]),VB.RandomNode{Distributions.Gamma}(:τ,Symbol[],[:j],[Distributions.Gamma(α=1.1, θ=1.0),Distributions.Gamma(α=1.1, θ=1.0),Distributions.Gamma(α=1.1, θ=1.0),Distributions.Gamma(α=1.1, θ=1.0),Distributions.Gamma(α=1.1, θ=1.0),Distributions.Gamma(α=1.1, θ=1.0)]),VB.FactorInds([:i,:j],[20,6],Dict(:τ=>[2],:μ=>[2],:y=>[1,2]),Dict(:τ=>[1],:μ=>[1],:y=>[1,2])),Dict(:τ=>:τ,:μ=>:μ,:y=>:x)),:x)],VB.ConstantNode{Float64}(:τ0,Symbol[],[:j],[2.0,2.0,2.0,2.0,2.0,2.0])=>Tuple{VB.Factor{N},Symbol}[(VB.LogNormalFactor{1}(VB.RandomNode{Distributions.Normal}(:μ,Symbol[],[:j],[Distributions.Normal(μ=0.0, σ=1.0),Distributions.Normal(μ=0.0, σ=1.0),Distributions.Normal(μ=0.0, σ=1.0),Distributions.Normal(μ=0.0, σ=1.0),Distributions.Normal(μ=0.0, σ=1.0),Distributions.Normal(μ=0.0, σ=1.0)]),VB.ConstantNode{Float64}(:μ0,Symbol[],[:j],[0.0,0.0,0.0,0.0,0.0,0.0]),VB.ConstantNode{Float64}(:τ0,Symbol[],[:j],[2.0,2.0,2.0,2.0,2.0,2.0]),VB.FactorInds([:j],[6],Dict(:τ0=>[1],:μ=>[1],:μ0=>[1]),Dict(:τ0=>[1],:μ=>[1],:μ0=>[1])),Dict(:τ0=>:τ,:μ=>:x,:μ0=>:μ)),:τ)],VB.ConstantNode{Float64}(:a0,Symbol[],[:j],[1.1,1.1,1.1,1.1,1.1,1.1])=>Tuple{VB.Factor{N},Symbol}[(VB.LogGammaFactor{1}(VB.RandomNode{Distributions.Gamma}(:τ,Symbol[],[:j],[Distributions.Gamma(α=1.1, θ=1.0),Distributions.Gamma(α=1.1, θ=1.0),Distributions.Gamma(α=1.1, θ=1.0),Distributions.Gamma(α=1.1, θ=1.0),Distributions.Gamma(α=1.1, θ=1.0),Distributions.Gamma(α=1.1, θ=1.0)]),VB.ConstantNode{Float64}(:a0,Symbol[],[:j],[1.1,1.1,1.1,1.1,1.1,1.1]),VB.ConstantNode{Float64}(:b0,Symbol[],[:j],[1.0,1.0,1.0,1.0,1.0,1.0]),VB.FactorInds([:j],[6],Dict(:τ=>[1],:b0=>[1],:a0=>[1]),Dict(:τ=>[1],:b0=>[1],:a0=>[1])),Dict(:τ=>:x,:b0=>:β,:a0=>:α)),:α)],VB.ConstantNode{Float64}(:b0,Symbol[],[:j],[1.0,1.0,1.0,1.0,1.0,1.0])=>Tuple{VB.Factor{N},Symbol}[(VB.LogGammaFactor{1}(VB.RandomNode{Distributions.Gamma}(:τ,Symbol[],[:j],[Distributions.Gamma(α=1.1, θ=1.0),Distributions.Gamma(α=1.1, θ=1.0),Distributions.Gamma(α=1.1, θ=1.0),Distributions.Gamma(α=1.1, θ=1.0),Distributions.Gamma(α=1.1, θ=1.0),Distributions.Gamma(α=1.1, θ=1.0)]),VB.ConstantNode{Float64}(:a0,Symbol[],[:j],[1.1,1.1,1.1,1.1,1.1,1.1]),VB.ConstantNode{Float64}(:b0,Symbol[],[:j],[1.0,1.0,1.0,1.0,1.0,1.0]),VB.FactorInds([:j],[6],Dict(:τ=>[1],:b0=>[1],:a0=>[1]),Dict(:τ=>[1],:b0=>[1],:a0=>[1])),Dict(:τ=>:x,:b0=>:β,:a0=>:α)),:β)]),Dict{VB.Node,Symbol}(VB.RandomNode{Distributions.Gamma}(:τ,Symbol[],[:j],[Distributions.Gamma(α=1.1, θ=1.0),Distributions.Gamma(α=1.1, θ=1.0),Distributions.Gamma(α=1.1, θ=1.0),Distributions.Gamma(α=1.1, θ=1.0),Distributions.Gamma(α=1.1, θ=1.0),Distributions.Gamma(α=1.1, θ=1.0)])=>:conjugate,VB.ConstantNode{Float64}(:μ0,Symbol[],[:j],[0.0,0.0,0.0,0.0,0.0,0.0])=>:constant,VB.RandomNode{Distributions.Normal}(:μ,Symbol[],[:j],[Distributions.Normal(μ=0.0, σ=1.0),Distributions.Normal(μ=0.0, σ=1.0),Distributions.Normal(μ=0.0, σ=1.0),Distributions.Normal(μ=0.0, σ=1.0),Distributions.Normal(μ=0.0, σ=1.0),Distributions.Normal(μ=0.0, σ=1.0)])=>:conjugate,VB.ConstantNode{Float64}(:y,Symbol[],[:i,:j],20x6 Array{Float64,2}:\n",
       " 0.0733417  0.593968    0.54841   0.323937    0.0588273  0.45829  \n",
       " 0.307873   0.930857    0.212867  0.272107    0.46514    0.349133 \n",
       " 0.799893   0.00223848  0.690687  0.656691    0.473318   0.0232912\n",
       " 0.738889   0.311048    0.478732  0.366642    0.231588   0.397286 \n",
       " 0.03152    0.37439     0.772013  0.921361    0.902644   0.594926 \n",
       " 0.624651   0.700681    0.117461  0.34059     0.927342   0.553928 \n",
       " 0.709023   0.0387212   0.766119  0.592746    0.483269   0.0308169\n",
       " 0.744086   0.65658     0.603512  0.288501    0.297833   0.969277 \n",
       " 0.881511   0.0164742   0.235339  0.141368    0.575147   0.70981  \n",
       " 0.636991   0.676425    0.381016  0.114897    0.652371   0.399559 \n",
       " 0.868193   0.0909983   0.332177  0.911059    0.667415   0.851067 \n",
       " 0.527216   0.73745     0.972512  0.775838    0.849346   0.831606 \n",
       " 0.78436    0.426522    0.833167  0.70197     0.628288   0.536338 \n",
       " 0.0417828  0.872993    0.917187  0.932481    0.354574   0.463994 \n",
       " 0.0719662  0.231756    0.541593  0.541216    0.852249   0.548334 \n",
       " 0.0689804  0.886836    0.27382   0.843869    0.207225   0.215935 \n",
       " 0.619974   0.0489559   0.449304  0.846662    0.779064   0.049725 \n",
       " 0.264477   0.545123    0.969575  0.00174284  0.408251   0.919598 \n",
       " 0.109967   0.704448    0.787915  0.700465    0.506182   0.8122   \n",
       " 0.221807   0.984778    0.635146  0.486996    0.624884   0.617092 )=>:constant,VB.ConstantNode{Float64}(:τ0,Symbol[],[:j],[2.0,2.0,2.0,2.0,2.0,2.0])=>:constant,VB.ConstantNode{Float64}(:a0,Symbol[],[:j],[1.1,1.1,1.1,1.1,1.1,1.1])=>:constant,VB.ConstantNode{Float64}(:b0,Symbol[],[:j],[1.0,1.0,1.0,1.0,1.0,1.0])=>:constant))"
      ]
     },
     "execution_count": 19,
     "metadata": {},
     "output_type": "execute_result"
    }
   ],
   "source": [
    "m = VBModel([μ, τ, μ0, τ0, a0, b0, y], [obs, μ_prior, τ_prior])"
   ]
  },
  {
   "cell_type": "code",
   "execution_count": 20,
   "metadata": {
    "collapsed": false
   },
   "outputs": [
    {
     "data": {
      "text/plain": [
       "7-element Array{Any,1}:\n",
       " :μ \n",
       " :τ \n",
       " :μ0\n",
       " :τ0\n",
       " :a0\n",
       " :b0\n",
       " :y "
      ]
     },
     "execution_count": 20,
     "metadata": {},
     "output_type": "execute_result"
    }
   ],
   "source": [
    "[n.name for n in m.nodes]"
   ]
  },
  {
   "cell_type": "code",
   "execution_count": 21,
   "metadata": {
    "collapsed": false
   },
   "outputs": [
    {
     "data": {
      "text/plain": [
       "3-element Array{DataType,1}:\n",
       " VB.LogNormalFactor{2}\n",
       " VB.LogNormalFactor{1}\n",
       " VB.LogGammaFactor{1} "
      ]
     },
     "execution_count": 21,
     "metadata": {},
     "output_type": "execute_result"
    }
   ],
   "source": [
    "[typeof(f) for f in m.factors]"
   ]
  },
  {
   "cell_type": "code",
   "execution_count": 22,
   "metadata": {
    "collapsed": false
   },
   "outputs": [
    {
     "data": {
      "text/plain": [
       "Dict{VB.Node,Array{Tuple{VB.Factor{N},Symbol},1}} with 7 entries:\n",
       "  VB.RandomNode{Distribut… => Tuple{VB.Factor{N},Symbol}[(VB.LogNormalFactor{2}…\n",
       "  VB.ConstantNode{Float64… => Tuple{VB.Factor{N},Symbol}[(VB.LogNormalFactor{1}…\n",
       "  VB.RandomNode{Distribut… => Tuple{VB.Factor{N},Symbol}[(VB.LogNormalFactor{2}…\n",
       "  VB.ConstantNode{Float64… => Tuple{VB.Factor{N},Symbol}[(VB.LogNormalFactor{2}…\n",
       "  VB.ConstantNode{Float64… => Tuple{VB.Factor{N},Symbol}[(VB.LogNormalFactor{1}…\n",
       "  VB.ConstantNode{Float64… => Tuple{VB.Factor{N},Symbol}[(VB.LogGammaFactor{1}(…\n",
       "  VB.ConstantNode{Float64… => Tuple{VB.Factor{N},Symbol}[(VB.LogGammaFactor{1}(…"
      ]
     },
     "execution_count": 22,
     "metadata": {},
     "output_type": "execute_result"
    }
   ],
   "source": [
    "m.graph"
   ]
  },
  {
   "cell_type": "code",
   "execution_count": 23,
   "metadata": {
    "collapsed": false
   },
   "outputs": [
    {
     "data": {
      "text/plain": [
       "6-element Array{Tuple{Float64,Float64},1}:\n",
       " (10.039151872457056,-11.000000000000002)\n",
       " (10.814368111401961,-11.000000000000002)\n",
       " (12.67040485711798,-11.000000000000002) \n",
       " (11.837253077636348,-11.000000000000002)\n",
       " (12.039452279806952,-11.000000000000002)\n",
       " (11.365427183892832,-11.000000000000002)"
      ]
     },
     "execution_count": 23,
     "metadata": {},
     "output_type": "execute_result"
    }
   ],
   "source": [
    "naturals(obs, μ)"
   ]
  },
  {
   "cell_type": "code",
   "execution_count": 24,
   "metadata": {
    "collapsed": false
   },
   "outputs": [
    {
     "data": {
      "text/plain": [
       "6-element Array{Tuple{Float64,Float64},1}:\n",
       " (10.0,13.045277834716133)\n",
       " (10.0,13.469760036780878)\n",
       " (10.0,13.96990553016444) \n",
       " (10.0,13.710621354707342)\n",
       " (10.0,13.56386184870914) \n",
       " (10.0,13.454868412549605)"
      ]
     },
     "execution_count": 24,
     "metadata": {},
     "output_type": "execute_result"
    }
   ],
   "source": [
    "naturals(obs, τ)"
   ]
  },
  {
   "cell_type": "code",
   "execution_count": 25,
   "metadata": {
    "collapsed": false
   },
   "outputs": [
    {
     "data": {
      "text/plain": [
       "true"
      ]
     },
     "execution_count": 25,
     "metadata": {},
     "output_type": "execute_result"
    }
   ],
   "source": [
    "check_conjugate(τ, m)"
   ]
  },
  {
   "cell_type": "code",
   "execution_count": 26,
   "metadata": {
    "collapsed": false
   },
   "outputs": [
    {
     "data": {
      "text/plain": [
       "true"
      ]
     },
     "execution_count": 26,
     "metadata": {},
     "output_type": "execute_result"
    }
   ],
   "source": [
    "check_conjugate(μ, m)"
   ]
  },
  {
   "cell_type": "code",
   "execution_count": 27,
   "metadata": {
    "collapsed": false
   },
   "outputs": [
    {
     "data": {
      "text/plain": [
       "6-element Array{Distributions.Normal,1}:\n",
       " Distributions.Normal(μ=0.0, σ=1.0)\n",
       " Distributions.Normal(μ=0.0, σ=1.0)\n",
       " Distributions.Normal(μ=0.0, σ=1.0)\n",
       " Distributions.Normal(μ=0.0, σ=1.0)\n",
       " Distributions.Normal(μ=0.0, σ=1.0)\n",
       " Distributions.Normal(μ=0.0, σ=1.0)"
      ]
     },
     "execution_count": 27,
     "metadata": {},
     "output_type": "execute_result"
    }
   ],
   "source": [
    "μ.data"
   ]
  },
  {
   "cell_type": "code",
   "execution_count": 28,
   "metadata": {
    "collapsed": false
   },
   "outputs": [
    {
     "data": {
      "text/plain": [
       "6-element Array{Distributions.Gamma,1}:\n",
       " Distributions.Gamma(α=1.1, θ=1.0)\n",
       " Distributions.Gamma(α=1.1, θ=1.0)\n",
       " Distributions.Gamma(α=1.1, θ=1.0)\n",
       " Distributions.Gamma(α=1.1, θ=1.0)\n",
       " Distributions.Gamma(α=1.1, θ=1.0)\n",
       " Distributions.Gamma(α=1.1, θ=1.0)"
      ]
     },
     "execution_count": 28,
     "metadata": {},
     "output_type": "execute_result"
    }
   ],
   "source": [
    "τ.data"
   ]
  },
  {
   "cell_type": "code",
   "execution_count": 29,
   "metadata": {
    "collapsed": false
   },
   "outputs": [],
   "source": [
    "update!(m)"
   ]
  },
  {
   "cell_type": "code",
   "execution_count": 30,
   "metadata": {
    "collapsed": false
   },
   "outputs": [
    {
     "data": {
      "text/plain": [
       "6-element Array{Distributions.Normal,1}:\n",
       " Distributions.Normal(μ=-0.6794222266760135, σ=0.7071067811865476)\n",
       " Distributions.Normal(μ=-0.1312615672321401, σ=0.7071067811865476)\n",
       " Distributions.Normal(μ=1.1811546017950683, σ=0.7071067811865476) \n",
       " Distributions.Normal(μ=0.5920273287659671, σ=0.7071067811865476) \n",
       " Distributions.Normal(μ=0.7350037557713109, σ=0.7071067811865476) \n",
       " Distributions.Normal(μ=0.2583960397605238, σ=0.7071067811865476) "
      ]
     },
     "execution_count": 30,
     "metadata": {},
     "output_type": "execute_result"
    }
   ],
   "source": [
    "μ.data"
   ]
  },
  {
   "cell_type": "code",
   "execution_count": 31,
   "metadata": {
    "collapsed": false
   },
   "outputs": [
    {
     "data": {
      "text/plain": [
       "6-element Array{Distributions.Gamma,1}:\n",
       " Distributions.Gamma(α=29.862171564024095, θ=0.8999999999999999)\n",
       " Distributions.Gamma(α=20.932520487946803, θ=0.8999999999999999)\n",
       " Distributions.Gamma(α=20.31597927849793, θ=0.8999999999999999) \n",
       " Distributions.Gamma(α=16.84469646251067, θ=0.8999999999999999) \n",
       " Distributions.Gamma(α=16.92158283769976, θ=0.8999999999999999) \n",
       " Distributions.Gamma(α=17.45275229663927, θ=0.8999999999999999) "
      ]
     },
     "execution_count": 31,
     "metadata": {},
     "output_type": "execute_result"
    }
   ],
   "source": [
    "τ.data"
   ]
  },
  {
   "cell_type": "markdown",
   "metadata": {},
   "source": [
    "# A Multivariate Model"
   ]
  },
  {
   "cell_type": "markdown",
   "metadata": {},
   "source": [
    "We want a simple model of inference for a multivariate normal distribution:\n",
    "\n",
    "$$\n",
    "\\begin{aligned}\n",
    "    y \\sim \\mathcal{N}(\\pmb{\\mu}, \\Sigma) \\\\\n",
    "    \\mu_i \\sim \\mathcal{N}(\\mu_0, \\tau_0) \\\\\n",
    "    \\tau \\sim \\mathrm{Ga}(\\alpha, \\beta) \\\\\n",
    "    q(\\mu) = \\mathcal{N}(m, t) \\\\\n",
    "    q(\\tau) = \\mathrm{Ga}(a, b)\n",
    "\\end{aligned}\n",
    "$$\n",
    "\n",
    "This model is conjugate, and can be solved by straightforward updates of the natural parameters of the posterior."
   ]
  },
  {
   "cell_type": "code",
   "execution_count": 32,
   "metadata": {
    "collapsed": false
   },
   "outputs": [
    {
     "data": {
      "text/plain": [
       "VB.LogMvNormalCanonFactor{2}(VB.ConstantNode{Float64}(:x,Symbol[],[:i,:j],5x20 Array{Float64,2}:\n",
       " -1.82061    0.755927   -0.329262  …  -0.565857  -2.16483     0.611639\n",
       "  0.495277  -1.12082    -0.935893      0.911396   0.945788   -0.775987\n",
       "  0.875223   1.30076     0.335687      3.30343    0.0965557   0.436796\n",
       "  0.270513  -0.227459    0.673672     -0.682049   0.878979   -0.565615\n",
       " -0.78557    0.0686703  -0.663341     -1.5172     0.084306    0.888977),VB.RandomNode{Distributions.MvNormalCanon{P<:PDMats.AbstractPDMat,V<:Union{Array{Float64,1},Distributions.ZeroVector{Float64}}}}(:μ,[:i],[:scalar],Distributions.MvNormalCanon[FullNormalCanon(\n",
       "μ: [0.0,0.0,0.0,0.0,0.0]\n",
       "h: [0.0,0.0,0.0,0.0,0.0]\n",
       "J: PDMats.PDMat(5,5x5 Array{Float64,2}:\n",
       " 1.0  0.0  0.0  0.0  0.0\n",
       " 0.0  1.0  0.0  0.0  0.0\n",
       " 0.0  0.0  1.0  0.0  0.0\n",
       " 0.0  0.0  0.0  1.0  0.0\n",
       " 0.0  0.0  0.0  0.0  1.0,5x5 UpperTriangular{Float64,Array{Float64,2}}:\n",
       " 1.0  0.0  0.0  0.0  0.0\n",
       " 0.0  1.0  0.0  0.0  0.0\n",
       " 0.0  0.0  1.0  0.0  0.0\n",
       " 0.0  0.0  0.0  1.0  0.0\n",
       " 0.0  0.0  0.0  0.0  1.0)\n",
       ")\n",
       "]),VB.RandomNode{Distributions.Wishart{ST<:PDMats.AbstractPDMat}}(:Λ,[:i,:i],[:scalar],Distributions.Wishart[Distributions.Wishart{PDMats.PDMat}(\n",
       "df: 5.0\n",
       "S: 5x5 Array{Float64,2}:\n",
       " 1.0  0.0  0.0  0.0  0.0\n",
       " 0.0  1.0  0.0  0.0  0.0\n",
       " 0.0  0.0  1.0  0.0  0.0\n",
       " 0.0  0.0  0.0  1.0  0.0\n",
       " 0.0  0.0  0.0  0.0  1.0\n",
       ")\n",
       "]),VB.FactorInds([:j,:scalar],[20,1],Dict(:μ=>[2],:x=>[1],:Λ=>[2]),Dict(:μ=>[1],:x=>[2],:Λ=>[1])),Dict(:μ=>:μ,:x=>:x,:Λ=>:Λ))"
      ]
     },
     "execution_count": 32,
     "metadata": {},
     "output_type": "execute_result"
    }
   ],
   "source": [
    "d = 5\n",
    "μ[i] ~ MvNormalCanon(zeros(d), diagm(ones(d)))\n",
    "Λ[i, i] ~ Wishart(float(d), diagm(ones(d)))\n",
    "x[i, j] ~ Const(randn(d, 20))\n",
    "f = @factor LogMvNormalCanonFactor x μ Λ"
   ]
  },
  {
   "cell_type": "code",
   "execution_count": 33,
   "metadata": {
    "collapsed": false
   },
   "outputs": [
    {
     "name": "stdout",
     "output_type": "stream",
     "text": [
      "Base.LinAlg.Cholesky{Float64,Array{Float64,2}} with factor:\n"
     ]
    },
    {
     "data": {
      "text/plain": [
       "1-element Array{Tuple{Array{Float64,1},Array{Float64,2}},1}:\n",
       " ([-25.272632117027484,13.251963801349682,-0.13821469649748241,12.150865909430395,-7.36725448150872],\n",
       "5x5 Array{Float64,2}:\n",
       " -50.0    0.0    0.0    0.0    0.0\n",
       "   0.0  -50.0    0.0    0.0    0.0\n",
       "   0.0    0.0  -50.0    0.0    0.0\n",
       "   0.0    0.0    0.0  -50.0    0.0\n",
       "   0.0    0.0    0.0    0.0  -50.0)"
      ]
     },
     "execution_count": 33,
     "metadata": {},
     "output_type": "execute_result"
    }
   ],
   "source": [
    "naturals(f, μ)"
   ]
  },
  {
   "cell_type": "code",
   "execution_count": 34,
   "metadata": {
    "collapsed": false
   },
   "outputs": [
    {
     "data": {
      "text/plain": [
       "1-element Array{Tuple{Array{Float64,2},Float64},1}:\n",
       " (\n",
       "5x5 Array{Float64,2}:\n",
       " 20.7311   -2.42402   -2.96336   -2.05337    3.20577 \n",
       " -2.42402  20.8515     0.804205   2.51913    0.621038\n",
       " -2.96336   0.804205  23.0868    -1.80806   -5.6423  \n",
       " -2.05337   2.51913   -1.80806   15.4567     0.931111\n",
       "  3.20577   0.621038  -5.6423     0.931111  23.3147  ,\n",
       "\n",
       "0.0)"
      ]
     },
     "execution_count": 34,
     "metadata": {},
     "output_type": "execute_result"
    }
   ],
   "source": [
    "naturals(f, Λ)"
   ]
  },
  {
   "cell_type": "code",
   "execution_count": 35,
   "metadata": {
    "collapsed": false
   },
   "outputs": [
    {
     "data": {
      "text/plain": [
       "VB.LogMvNormalCanonFactor{2}(VB.ConstantNode{Float64}(:x,Symbol[],[:i,:j],5x20 Array{Float64,2}:\n",
       "  0.836846   -0.636024  -0.867001   …   1.72327    0.6047     1.10175 \n",
       "  0.618945    0.512347   0.302512       0.188388  -0.219246  -0.665331\n",
       " -2.12245    -0.839831   0.0751357      2.09441   -1.16972   -1.21739 \n",
       " -0.0506269  -0.606255  -0.0562736      1.05356    1.36972   -1.09185 \n",
       " -0.749102    0.911933   0.630095      -2.68685    1.14404    0.253561),VB.RandomNode{Distributions.MvNormal{Cov<:PDMats.AbstractPDMat,Mean<:Union{Array{Float64,1},Distributions.ZeroVector{Float64}}}}(:μ,[:i],[:scalar],Distributions.MvNormal[FullNormal(\n",
       "dim: 5\n",
       "μ: [0.0,0.0,0.0,0.0,0.0]\n",
       "Σ: 5x5 Array{Float64,2}:\n",
       " 1.0  0.0  0.0  0.0  0.0\n",
       " 0.0  1.0  0.0  0.0  0.0\n",
       " 0.0  0.0  1.0  0.0  0.0\n",
       " 0.0  0.0  0.0  1.0  0.0\n",
       " 0.0  0.0  0.0  0.0  1.0\n",
       ")\n",
       "]),VB.RandomNode{Distributions.Gamma}(:τ,Symbol[],[:i],[Distributions.Gamma(α=1.1, θ=1.0),Distributions.Gamma(α=1.1, θ=1.0),Distributions.Gamma(α=1.1, θ=1.0),Distributions.Gamma(α=1.1, θ=1.0),Distributions.Gamma(α=1.1, θ=1.0)]),VB.FactorInds([:j,:scalar],[20,1],Dict(:τ=>Int64[],:μ=>[2],:x=>[1]),Dict(:τ=>Int64[],:μ=>[1],:x=>[2])),Dict(:τ=>:Λ,:μ=>:μ,:x=>:x))"
      ]
     },
     "execution_count": 35,
     "metadata": {},
     "output_type": "execute_result"
    }
   ],
   "source": [
    "d = 5\n",
    "μ[i] ~ MvNormal(zeros(d), diagm(ones(d)))\n",
    "        τ[i] ~ Gamma(1.1 * ones(d), ones(d))\n",
    "        x[i, j] ~ Const(randn(d, 20))\n",
    "        f = @factor LogMvNormalCanonFactor x μ τ\n"
   ]
  },
  {
   "cell_type": "code",
   "execution_count": 36,
   "metadata": {
    "collapsed": false
   },
   "outputs": [
    {
     "data": {
      "text/plain": [
       "2-element Array{Tuple{Float64,Float64,Float64,Float64,Float64},1}:\n",
       " (1.1,1.1,1.1,1.1,1.1)\n",
       " (1.0,1.0,1.0,1.0,1.0)"
      ]
     },
     "execution_count": 36,
     "metadata": {},
     "output_type": "execute_result"
    }
   ],
   "source": [
    "aa = map(params, τ.data)\n",
    "bb = collect(zip(aa...))"
   ]
  },
  {
   "cell_type": "code",
   "execution_count": 37,
   "metadata": {
    "collapsed": false
   },
   "outputs": [
    {
     "data": {
      "text/plain": [
       "2-element Array{Any,1}:\n",
       " [1.1,1.1,1.1,1.1,1.1]\n",
       " [1.0,1.0,1.0,1.0,1.0]"
      ]
     },
     "execution_count": 37,
     "metadata": {},
     "output_type": "execute_result"
    }
   ],
   "source": [
    "map(collect, zip(aa...))"
   ]
  },
  {
   "cell_type": "code",
   "execution_count": 38,
   "metadata": {
    "collapsed": false
   },
   "outputs": [
    {
     "ename": "LoadError",
     "evalue": "LoadError: MethodError: `convert` has no method matching convert(::Type{Array{T,N}}, ::Tuple{Float64,Float64,Float64,Float64,Float64})\nThis may have arisen from a call to the constructor Array{T,N}(...),\nsince type constructors fall back to convert methods.\nClosest candidates are:\n  call{T}(::Type{T}, ::Any)\n  convert(::Type{Array{T,N}}, !Matched::SharedArray{T,N})\n  convert{T,N}(::Type{Array{T,N}}, !Matched::AbstractArray{T,N})\n  ...\nwhile loading In[38], in expression starting on line 1",
     "output_type": "error",
     "traceback": [
      "LoadError: MethodError: `convert` has no method matching convert(::Type{Array{T,N}}, ::Tuple{Float64,Float64,Float64,Float64,Float64})\nThis may have arisen from a call to the constructor Array{T,N}(...),\nsince type constructors fall back to convert methods.\nClosest candidates are:\n  call{T}(::Type{T}, ::Any)\n  convert(::Type{Array{T,N}}, !Matched::SharedArray{T,N})\n  convert{T,N}(::Type{Array{T,N}}, !Matched::AbstractArray{T,N})\n  ...\nwhile loading In[38], in expression starting on line 1",
      "",
      " in call at essentials.jl:56"
     ]
    }
   ],
   "source": [
    "Array(collect(bb)[1])"
   ]
  },
  {
   "cell_type": "code",
   "execution_count": 39,
   "metadata": {
    "collapsed": false
   },
   "outputs": [
    {
     "data": {
      "text/plain": [
       "5-element Array{Distributions.Gamma,1}:\n",
       " Distributions.Gamma(α=1.1, θ=1.0)\n",
       " Distributions.Gamma(α=1.1, θ=1.0)\n",
       " Distributions.Gamma(α=1.1, θ=1.0)\n",
       " Distributions.Gamma(α=1.1, θ=1.0)\n",
       " Distributions.Gamma(α=1.1, θ=1.0)"
      ]
     },
     "execution_count": 39,
     "metadata": {},
     "output_type": "execute_result"
    }
   ],
   "source": [
    "aa = copy(τ.data)"
   ]
  },
  {
   "cell_type": "code",
   "execution_count": 40,
   "metadata": {
    "collapsed": false
   },
   "outputs": [
    {
     "data": {
      "text/plain": [
       "VB.VBModel(VB.Node[VB.RandomNode{Distributions.Normal}(:μ,Symbol[],[:j],[Distributions.Normal(μ=0.0, σ=1.0),Distributions.Normal(μ=0.0, σ=1.0),Distributions.Normal(μ=0.0, σ=1.0),Distributions.Normal(μ=0.0, σ=1.0),Distributions.Normal(μ=0.0, σ=1.0),Distributions.Normal(μ=0.0, σ=1.0)]),VB.RandomNode{Distributions.Gamma}(:τ,Symbol[],[:j],[Distributions.Gamma(α=1.1, θ=1.0),Distributions.Gamma(α=1.1, θ=1.0),Distributions.Gamma(α=1.1, θ=1.0),Distributions.Gamma(α=1.1, θ=1.0),Distributions.Gamma(α=1.1, θ=1.0),Distributions.Gamma(α=1.1, θ=1.0)]),VB.ConstantNode{Float64}(:μ0,Symbol[],[:j],[0.0,0.0,0.0,0.0,0.0,0.0]),VB.ConstantNode{Float64}(:τ0,Symbol[],[:j],[2.0,2.0,2.0,2.0,2.0,2.0]),VB.ConstantNode{Float64}(:a0,Symbol[],[:j],[1.1,1.1,1.1,1.1,1.1,1.1]),VB.ConstantNode{Float64}(:b0,Symbol[],[:j],[1.0,1.0,1.0,1.0,1.0,1.0]),VB.ConstantNode{Float64}(:y,Symbol[],[:i,:j],20x6 Array{Float64,2}:\n",
       " 0.174979   0.476362   0.958364   0.200436  0.877307   0.927996 \n",
       " 0.671342   0.962711   0.0109708  0.51822   0.766578   0.245776 \n",
       " 0.762796   0.152463   0.773449   0.81986   0.0288218  0.370747 \n",
       " 0.566535   0.978326   0.810247   0.88814   0.0529904  0.707288 \n",
       " 0.362009   0.643451   0.876974   0.224138  0.568146   0.775013 \n",
       " 0.613516   0.36666    0.109847   0.707322  0.935852   0.262842 \n",
       " 0.743304   0.0525595  0.342771   0.519311  0.160207   0.287362 \n",
       " 0.101816   0.434516   0.670546   0.37054   0.712331   0.300785 \n",
       " 0.555468   0.651766   0.0900904  0.33636   0.906065   0.762981 \n",
       " 0.396511   0.257627   0.381817   0.501072  0.268144   0.782325 \n",
       " 0.595941   0.325318   0.986943   0.661126  0.395845   0.934101 \n",
       " 0.649952   0.516907   0.130588   0.78217   0.308638   0.881358 \n",
       " 0.611428   0.935661   0.51812    0.988675  0.261661   0.897617 \n",
       " 0.997662   0.572318   0.987925   0.545279  0.543712   0.0430122\n",
       " 0.690129   0.165212   0.508456   0.248383  0.0661098  0.86706  \n",
       " 0.924356   0.844466   0.589223   0.882851  0.0740432  0.785417 \n",
       " 0.160532   0.449782   0.532119   0.618498  0.892887   0.429122 \n",
       " 0.65807    0.382844   0.394554   0.719385  0.346383   0.770398 \n",
       " 0.80114    0.845138   0.528312   0.831376  0.0859161  0.341727 \n",
       " 0.0601891  0.896505   0.766909   0.642533  0.0968621  0.39992  )],VB.Factor[VB.LogNormalFactor{2}(VB.ConstantNode{Float64}(:y,Symbol[],[:i,:j],20x6 Array{Float64,2}:\n",
       " 0.174979   0.476362   0.958364   0.200436  0.877307   0.927996 \n",
       " 0.671342   0.962711   0.0109708  0.51822   0.766578   0.245776 \n",
       " 0.762796   0.152463   0.773449   0.81986   0.0288218  0.370747 \n",
       " 0.566535   0.978326   0.810247   0.88814   0.0529904  0.707288 \n",
       " 0.362009   0.643451   0.876974   0.224138  0.568146   0.775013 \n",
       " 0.613516   0.36666    0.109847   0.707322  0.935852   0.262842 \n",
       " 0.743304   0.0525595  0.342771   0.519311  0.160207   0.287362 \n",
       " 0.101816   0.434516   0.670546   0.37054   0.712331   0.300785 \n",
       " 0.555468   0.651766   0.0900904  0.33636   0.906065   0.762981 \n",
       " 0.396511   0.257627   0.381817   0.501072  0.268144   0.782325 \n",
       " 0.595941   0.325318   0.986943   0.661126  0.395845   0.934101 \n",
       " 0.649952   0.516907   0.130588   0.78217   0.308638   0.881358 \n",
       " 0.611428   0.935661   0.51812    0.988675  0.261661   0.897617 \n",
       " 0.997662   0.572318   0.987925   0.545279  0.543712   0.0430122\n",
       " 0.690129   0.165212   0.508456   0.248383  0.0661098  0.86706  \n",
       " 0.924356   0.844466   0.589223   0.882851  0.0740432  0.785417 \n",
       " 0.160532   0.449782   0.532119   0.618498  0.892887   0.429122 \n",
       " 0.65807    0.382844   0.394554   0.719385  0.346383   0.770398 \n",
       " 0.80114    0.845138   0.528312   0.831376  0.0859161  0.341727 \n",
       " 0.0601891  0.896505   0.766909   0.642533  0.0968621  0.39992  ),VB.RandomNode{Distributions.Normal}(:μ,Symbol[],[:j],[Distributions.Normal(μ=0.0, σ=1.0),Distributions.Normal(μ=0.0, σ=1.0),Distributions.Normal(μ=0.0, σ=1.0),Distributions.Normal(μ=0.0, σ=1.0),Distributions.Normal(μ=0.0, σ=1.0),Distributions.Normal(μ=0.0, σ=1.0)]),VB.RandomNode{Distributions.Gamma}(:τ,Symbol[],[:j],[Distributions.Gamma(α=1.1, θ=1.0),Distributions.Gamma(α=1.1, θ=1.0),Distributions.Gamma(α=1.1, θ=1.0),Distributions.Gamma(α=1.1, θ=1.0),Distributions.Gamma(α=1.1, θ=1.0),Distributions.Gamma(α=1.1, θ=1.0)]),VB.FactorInds([:i,:j],[20,6],Dict(:τ=>[2],:μ=>[2],:y=>[1,2]),Dict(:τ=>[1],:μ=>[1],:y=>[1,2])),Dict(:τ=>:τ,:μ=>:μ,:y=>:x)),VB.LogNormalFactor{1}(VB.RandomNode{Distributions.Normal}(:μ,Symbol[],[:j],[Distributions.Normal(μ=0.0, σ=1.0),Distributions.Normal(μ=0.0, σ=1.0),Distributions.Normal(μ=0.0, σ=1.0),Distributions.Normal(μ=0.0, σ=1.0),Distributions.Normal(μ=0.0, σ=1.0),Distributions.Normal(μ=0.0, σ=1.0)]),VB.ConstantNode{Float64}(:μ0,Symbol[],[:j],[0.0,0.0,0.0,0.0,0.0,0.0]),VB.ConstantNode{Float64}(:τ0,Symbol[],[:j],[2.0,2.0,2.0,2.0,2.0,2.0]),VB.FactorInds([:j],[6],Dict(:τ0=>[1],:μ=>[1],:μ0=>[1]),Dict(:τ0=>[1],:μ=>[1],:μ0=>[1])),Dict(:τ0=>:τ,:μ=>:x,:μ0=>:μ)),VB.LogGammaFactor{1}(VB.RandomNode{Distributions.Gamma}(:τ,Symbol[],[:j],[Distributions.Gamma(α=1.1, θ=1.0),Distributions.Gamma(α=1.1, θ=1.0),Distributions.Gamma(α=1.1, θ=1.0),Distributions.Gamma(α=1.1, θ=1.0),Distributions.Gamma(α=1.1, θ=1.0),Distributions.Gamma(α=1.1, θ=1.0)]),VB.ConstantNode{Float64}(:a0,Symbol[],[:j],[1.1,1.1,1.1,1.1,1.1,1.1]),VB.ConstantNode{Float64}(:b0,Symbol[],[:j],[1.0,1.0,1.0,1.0,1.0,1.0]),VB.FactorInds([:j],[6],Dict(:τ=>[1],:b0=>[1],:a0=>[1]),Dict(:τ=>[1],:b0=>[1],:a0=>[1])),Dict(:τ=>:x,:b0=>:β,:a0=>:α))],Dict{VB.Node,Array{Tuple{VB.Factor{N},Symbol},1}}(VB.RandomNode{Distributions.Normal}(:μ,Symbol[],[:j],[Distributions.Normal(μ=0.0, σ=1.0),Distributions.Normal(μ=0.0, σ=1.0),Distributions.Normal(μ=0.0, σ=1.0),Distributions.Normal(μ=0.0, σ=1.0),Distributions.Normal(μ=0.0, σ=1.0),Distributions.Normal(μ=0.0, σ=1.0)])=>Tuple{VB.Factor{N},Symbol}[(VB.LogNormalFactor{2}(VB.ConstantNode{Float64}(:y,Symbol[],[:i,:j],20x6 Array{Float64,2}:\n",
       " 0.174979   0.476362   0.958364   0.200436  0.877307   0.927996 \n",
       " 0.671342   0.962711   0.0109708  0.51822   0.766578   0.245776 \n",
       " 0.762796   0.152463   0.773449   0.81986   0.0288218  0.370747 \n",
       " 0.566535   0.978326   0.810247   0.88814   0.0529904  0.707288 \n",
       " 0.362009   0.643451   0.876974   0.224138  0.568146   0.775013 \n",
       " 0.613516   0.36666    0.109847   0.707322  0.935852   0.262842 \n",
       " 0.743304   0.0525595  0.342771   0.519311  0.160207   0.287362 \n",
       " 0.101816   0.434516   0.670546   0.37054   0.712331   0.300785 \n",
       " 0.555468   0.651766   0.0900904  0.33636   0.906065   0.762981 \n",
       " 0.396511   0.257627   0.381817   0.501072  0.268144   0.782325 \n",
       " 0.595941   0.325318   0.986943   0.661126  0.395845   0.934101 \n",
       " 0.649952   0.516907   0.130588   0.78217   0.308638   0.881358 \n",
       " 0.611428   0.935661   0.51812    0.988675  0.261661   0.897617 \n",
       " 0.997662   0.572318   0.987925   0.545279  0.543712   0.0430122\n",
       " 0.690129   0.165212   0.508456   0.248383  0.0661098  0.86706  \n",
       " 0.924356   0.844466   0.589223   0.882851  0.0740432  0.785417 \n",
       " 0.160532   0.449782   0.532119   0.618498  0.892887   0.429122 \n",
       " 0.65807    0.382844   0.394554   0.719385  0.346383   0.770398 \n",
       " 0.80114    0.845138   0.528312   0.831376  0.0859161  0.341727 \n",
       " 0.0601891  0.896505   0.766909   0.642533  0.0968621  0.39992  ),VB.RandomNode{Distributions.Normal}(:μ,Symbol[],[:j],[Distributions.Normal(μ=0.0, σ=1.0),Distributions.Normal(μ=0.0, σ=1.0),Distributions.Normal(μ=0.0, σ=1.0),Distributions.Normal(μ=0.0, σ=1.0),Distributions.Normal(μ=0.0, σ=1.0),Distributions.Normal(μ=0.0, σ=1.0)]),VB.RandomNode{Distributions.Gamma}(:τ,Symbol[],[:j],[Distributions.Gamma(α=1.1, θ=1.0),Distributions.Gamma(α=1.1, θ=1.0),Distributions.Gamma(α=1.1, θ=1.0),Distributions.Gamma(α=1.1, θ=1.0),Distributions.Gamma(α=1.1, θ=1.0),Distributions.Gamma(α=1.1, θ=1.0)]),VB.FactorInds([:i,:j],[20,6],Dict(:τ=>[2],:μ=>[2],:y=>[1,2]),Dict(:τ=>[1],:μ=>[1],:y=>[1,2])),Dict(:τ=>:τ,:μ=>:μ,:y=>:x)),:μ),(VB.LogNormalFactor{1}(VB.RandomNode{Distributions.Normal}(:μ,Symbol[],[:j],[Distributions.Normal(μ=0.0, σ=1.0),Distributions.Normal(μ=0.0, σ=1.0),Distributions.Normal(μ=0.0, σ=1.0),Distributions.Normal(μ=0.0, σ=1.0),Distributions.Normal(μ=0.0, σ=1.0),Distributions.Normal(μ=0.0, σ=1.0)]),VB.ConstantNode{Float64}(:μ0,Symbol[],[:j],[0.0,0.0,0.0,0.0,0.0,0.0]),VB.ConstantNode{Float64}(:τ0,Symbol[],[:j],[2.0,2.0,2.0,2.0,2.0,2.0]),VB.FactorInds([:j],[6],Dict(:τ0=>[1],:μ=>[1],:μ0=>[1]),Dict(:τ0=>[1],:μ=>[1],:μ0=>[1])),Dict(:τ0=>:τ,:μ=>:x,:μ0=>:μ)),:x)],VB.RandomNode{Distributions.Gamma}(:τ,Symbol[],[:j],[Distributions.Gamma(α=1.1, θ=1.0),Distributions.Gamma(α=1.1, θ=1.0),Distributions.Gamma(α=1.1, θ=1.0),Distributions.Gamma(α=1.1, θ=1.0),Distributions.Gamma(α=1.1, θ=1.0),Distributions.Gamma(α=1.1, θ=1.0)])=>Tuple{VB.Factor{N},Symbol}[(VB.LogNormalFactor{2}(VB.ConstantNode{Float64}(:y,Symbol[],[:i,:j],20x6 Array{Float64,2}:\n",
       " 0.174979   0.476362   0.958364   0.200436  0.877307   0.927996 \n",
       " 0.671342   0.962711   0.0109708  0.51822   0.766578   0.245776 \n",
       " 0.762796   0.152463   0.773449   0.81986   0.0288218  0.370747 \n",
       " 0.566535   0.978326   0.810247   0.88814   0.0529904  0.707288 \n",
       " 0.362009   0.643451   0.876974   0.224138  0.568146   0.775013 \n",
       " 0.613516   0.36666    0.109847   0.707322  0.935852   0.262842 \n",
       " 0.743304   0.0525595  0.342771   0.519311  0.160207   0.287362 \n",
       " 0.101816   0.434516   0.670546   0.37054   0.712331   0.300785 \n",
       " 0.555468   0.651766   0.0900904  0.33636   0.906065   0.762981 \n",
       " 0.396511   0.257627   0.381817   0.501072  0.268144   0.782325 \n",
       " 0.595941   0.325318   0.986943   0.661126  0.395845   0.934101 \n",
       " 0.649952   0.516907   0.130588   0.78217   0.308638   0.881358 \n",
       " 0.611428   0.935661   0.51812    0.988675  0.261661   0.897617 \n",
       " 0.997662   0.572318   0.987925   0.545279  0.543712   0.0430122\n",
       " 0.690129   0.165212   0.508456   0.248383  0.0661098  0.86706  \n",
       " 0.924356   0.844466   0.589223   0.882851  0.0740432  0.785417 \n",
       " 0.160532   0.449782   0.532119   0.618498  0.892887   0.429122 \n",
       " 0.65807    0.382844   0.394554   0.719385  0.346383   0.770398 \n",
       " 0.80114    0.845138   0.528312   0.831376  0.0859161  0.341727 \n",
       " 0.0601891  0.896505   0.766909   0.642533  0.0968621  0.39992  ),VB.RandomNode{Distributions.Normal}(:μ,Symbol[],[:j],[Distributions.Normal(μ=0.0, σ=1.0),Distributions.Normal(μ=0.0, σ=1.0),Distributions.Normal(μ=0.0, σ=1.0),Distributions.Normal(μ=0.0, σ=1.0),Distributions.Normal(μ=0.0, σ=1.0),Distributions.Normal(μ=0.0, σ=1.0)]),VB.RandomNode{Distributions.Gamma}(:τ,Symbol[],[:j],[Distributions.Gamma(α=1.1, θ=1.0),Distributions.Gamma(α=1.1, θ=1.0),Distributions.Gamma(α=1.1, θ=1.0),Distributions.Gamma(α=1.1, θ=1.0),Distributions.Gamma(α=1.1, θ=1.0),Distributions.Gamma(α=1.1, θ=1.0)]),VB.FactorInds([:i,:j],[20,6],Dict(:τ=>[2],:μ=>[2],:y=>[1,2]),Dict(:τ=>[1],:μ=>[1],:y=>[1,2])),Dict(:τ=>:τ,:μ=>:μ,:y=>:x)),:τ),(VB.LogGammaFactor{1}(VB.RandomNode{Distributions.Gamma}(:τ,Symbol[],[:j],[Distributions.Gamma(α=1.1, θ=1.0),Distributions.Gamma(α=1.1, θ=1.0),Distributions.Gamma(α=1.1, θ=1.0),Distributions.Gamma(α=1.1, θ=1.0),Distributions.Gamma(α=1.1, θ=1.0),Distributions.Gamma(α=1.1, θ=1.0)]),VB.ConstantNode{Float64}(:a0,Symbol[],[:j],[1.1,1.1,1.1,1.1,1.1,1.1]),VB.ConstantNode{Float64}(:b0,Symbol[],[:j],[1.0,1.0,1.0,1.0,1.0,1.0]),VB.FactorInds([:j],[6],Dict(:τ=>[1],:b0=>[1],:a0=>[1]),Dict(:τ=>[1],:b0=>[1],:a0=>[1])),Dict(:τ=>:x,:b0=>:β,:a0=>:α)),:x)],VB.ConstantNode{Float64}(:τ0,Symbol[],[:j],[2.0,2.0,2.0,2.0,2.0,2.0])=>Tuple{VB.Factor{N},Symbol}[(VB.LogNormalFactor{1}(VB.RandomNode{Distributions.Normal}(:μ,Symbol[],[:j],[Distributions.Normal(μ=0.0, σ=1.0),Distributions.Normal(μ=0.0, σ=1.0),Distributions.Normal(μ=0.0, σ=1.0),Distributions.Normal(μ=0.0, σ=1.0),Distributions.Normal(μ=0.0, σ=1.0),Distributions.Normal(μ=0.0, σ=1.0)]),VB.ConstantNode{Float64}(:μ0,Symbol[],[:j],[0.0,0.0,0.0,0.0,0.0,0.0]),VB.ConstantNode{Float64}(:τ0,Symbol[],[:j],[2.0,2.0,2.0,2.0,2.0,2.0]),VB.FactorInds([:j],[6],Dict(:τ0=>[1],:μ=>[1],:μ0=>[1]),Dict(:τ0=>[1],:μ=>[1],:μ0=>[1])),Dict(:τ0=>:τ,:μ=>:x,:μ0=>:μ)),:τ)],VB.ConstantNode{Float64}(:μ0,Symbol[],[:j],[0.0,0.0,0.0,0.0,0.0,0.0])=>Tuple{VB.Factor{N},Symbol}[(VB.LogNormalFactor{1}(VB.RandomNode{Distributions.Normal}(:μ,Symbol[],[:j],[Distributions.Normal(μ=0.0, σ=1.0),Distributions.Normal(μ=0.0, σ=1.0),Distributions.Normal(μ=0.0, σ=1.0),Distributions.Normal(μ=0.0, σ=1.0),Distributions.Normal(μ=0.0, σ=1.0),Distributions.Normal(μ=0.0, σ=1.0)]),VB.ConstantNode{Float64}(:μ0,Symbol[],[:j],[0.0,0.0,0.0,0.0,0.0,0.0]),VB.ConstantNode{Float64}(:τ0,Symbol[],[:j],[2.0,2.0,2.0,2.0,2.0,2.0]),VB.FactorInds([:j],[6],Dict(:τ0=>[1],:μ=>[1],:μ0=>[1]),Dict(:τ0=>[1],:μ=>[1],:μ0=>[1])),Dict(:τ0=>:τ,:μ=>:x,:μ0=>:μ)),:μ)],VB.ConstantNode{Float64}(:y,Symbol[],[:i,:j],20x6 Array{Float64,2}:\n",
       " 0.174979   0.476362   0.958364   0.200436  0.877307   0.927996 \n",
       " 0.671342   0.962711   0.0109708  0.51822   0.766578   0.245776 \n",
       " 0.762796   0.152463   0.773449   0.81986   0.0288218  0.370747 \n",
       " 0.566535   0.978326   0.810247   0.88814   0.0529904  0.707288 \n",
       " 0.362009   0.643451   0.876974   0.224138  0.568146   0.775013 \n",
       " 0.613516   0.36666    0.109847   0.707322  0.935852   0.262842 \n",
       " 0.743304   0.0525595  0.342771   0.519311  0.160207   0.287362 \n",
       " 0.101816   0.434516   0.670546   0.37054   0.712331   0.300785 \n",
       " 0.555468   0.651766   0.0900904  0.33636   0.906065   0.762981 \n",
       " 0.396511   0.257627   0.381817   0.501072  0.268144   0.782325 \n",
       " 0.595941   0.325318   0.986943   0.661126  0.395845   0.934101 \n",
       " 0.649952   0.516907   0.130588   0.78217   0.308638   0.881358 \n",
       " 0.611428   0.935661   0.51812    0.988675  0.261661   0.897617 \n",
       " 0.997662   0.572318   0.987925   0.545279  0.543712   0.0430122\n",
       " 0.690129   0.165212   0.508456   0.248383  0.0661098  0.86706  \n",
       " 0.924356   0.844466   0.589223   0.882851  0.0740432  0.785417 \n",
       " 0.160532   0.449782   0.532119   0.618498  0.892887   0.429122 \n",
       " 0.65807    0.382844   0.394554   0.719385  0.346383   0.770398 \n",
       " 0.80114    0.845138   0.528312   0.831376  0.0859161  0.341727 \n",
       " 0.0601891  0.896505   0.766909   0.642533  0.0968621  0.39992  )=>Tuple{VB.Factor{N},Symbol}[(VB.LogNormalFactor{2}(VB.ConstantNode{Float64}(:y,Symbol[],[:i,:j],20x6 Array{Float64,2}:\n",
       " 0.174979   0.476362   0.958364   0.200436  0.877307   0.927996 \n",
       " 0.671342   0.962711   0.0109708  0.51822   0.766578   0.245776 \n",
       " 0.762796   0.152463   0.773449   0.81986   0.0288218  0.370747 \n",
       " 0.566535   0.978326   0.810247   0.88814   0.0529904  0.707288 \n",
       " 0.362009   0.643451   0.876974   0.224138  0.568146   0.775013 \n",
       " 0.613516   0.36666    0.109847   0.707322  0.935852   0.262842 \n",
       " 0.743304   0.0525595  0.342771   0.519311  0.160207   0.287362 \n",
       " 0.101816   0.434516   0.670546   0.37054   0.712331   0.300785 \n",
       " 0.555468   0.651766   0.0900904  0.33636   0.906065   0.762981 \n",
       " 0.396511   0.257627   0.381817   0.501072  0.268144   0.782325 \n",
       " 0.595941   0.325318   0.986943   0.661126  0.395845   0.934101 \n",
       " 0.649952   0.516907   0.130588   0.78217   0.308638   0.881358 \n",
       " 0.611428   0.935661   0.51812    0.988675  0.261661   0.897617 \n",
       " 0.997662   0.572318   0.987925   0.545279  0.543712   0.0430122\n",
       " 0.690129   0.165212   0.508456   0.248383  0.0661098  0.86706  \n",
       " 0.924356   0.844466   0.589223   0.882851  0.0740432  0.785417 \n",
       " 0.160532   0.449782   0.532119   0.618498  0.892887   0.429122 \n",
       " 0.65807    0.382844   0.394554   0.719385  0.346383   0.770398 \n",
       " 0.80114    0.845138   0.528312   0.831376  0.0859161  0.341727 \n",
       " 0.0601891  0.896505   0.766909   0.642533  0.0968621  0.39992  ),VB.RandomNode{Distributions.Normal}(:μ,Symbol[],[:j],[Distributions.Normal(μ=0.0, σ=1.0),Distributions.Normal(μ=0.0, σ=1.0),Distributions.Normal(μ=0.0, σ=1.0),Distributions.Normal(μ=0.0, σ=1.0),Distributions.Normal(μ=0.0, σ=1.0),Distributions.Normal(μ=0.0, σ=1.0)]),VB.RandomNode{Distributions.Gamma}(:τ,Symbol[],[:j],[Distributions.Gamma(α=1.1, θ=1.0),Distributions.Gamma(α=1.1, θ=1.0),Distributions.Gamma(α=1.1, θ=1.0),Distributions.Gamma(α=1.1, θ=1.0),Distributions.Gamma(α=1.1, θ=1.0),Distributions.Gamma(α=1.1, θ=1.0)]),VB.FactorInds([:i,:j],[20,6],Dict(:τ=>[2],:μ=>[2],:y=>[1,2]),Dict(:τ=>[1],:μ=>[1],:y=>[1,2])),Dict(:τ=>:τ,:μ=>:μ,:y=>:x)),:x)],VB.ConstantNode{Float64}(:b0,Symbol[],[:j],[1.0,1.0,1.0,1.0,1.0,1.0])=>Tuple{VB.Factor{N},Symbol}[(VB.LogGammaFactor{1}(VB.RandomNode{Distributions.Gamma}(:τ,Symbol[],[:j],[Distributions.Gamma(α=1.1, θ=1.0),Distributions.Gamma(α=1.1, θ=1.0),Distributions.Gamma(α=1.1, θ=1.0),Distributions.Gamma(α=1.1, θ=1.0),Distributions.Gamma(α=1.1, θ=1.0),Distributions.Gamma(α=1.1, θ=1.0)]),VB.ConstantNode{Float64}(:a0,Symbol[],[:j],[1.1,1.1,1.1,1.1,1.1,1.1]),VB.ConstantNode{Float64}(:b0,Symbol[],[:j],[1.0,1.0,1.0,1.0,1.0,1.0]),VB.FactorInds([:j],[6],Dict(:τ=>[1],:b0=>[1],:a0=>[1]),Dict(:τ=>[1],:b0=>[1],:a0=>[1])),Dict(:τ=>:x,:b0=>:β,:a0=>:α)),:β)],VB.ConstantNode{Float64}(:a0,Symbol[],[:j],[1.1,1.1,1.1,1.1,1.1,1.1])=>Tuple{VB.Factor{N},Symbol}[(VB.LogGammaFactor{1}(VB.RandomNode{Distributions.Gamma}(:τ,Symbol[],[:j],[Distributions.Gamma(α=1.1, θ=1.0),Distributions.Gamma(α=1.1, θ=1.0),Distributions.Gamma(α=1.1, θ=1.0),Distributions.Gamma(α=1.1, θ=1.0),Distributions.Gamma(α=1.1, θ=1.0),Distributions.Gamma(α=1.1, θ=1.0)]),VB.ConstantNode{Float64}(:a0,Symbol[],[:j],[1.1,1.1,1.1,1.1,1.1,1.1]),VB.ConstantNode{Float64}(:b0,Symbol[],[:j],[1.0,1.0,1.0,1.0,1.0,1.0]),VB.FactorInds([:j],[6],Dict(:τ=>[1],:b0=>[1],:a0=>[1]),Dict(:τ=>[1],:b0=>[1],:a0=>[1])),Dict(:τ=>:x,:b0=>:β,:a0=>:α)),:α)]),Dict{VB.Node,Symbol}(VB.RandomNode{Distributions.Normal}(:μ,Symbol[],[:j],[Distributions.Normal(μ=0.0, σ=1.0),Distributions.Normal(μ=0.0, σ=1.0),Distributions.Normal(μ=0.0, σ=1.0),Distributions.Normal(μ=0.0, σ=1.0),Distributions.Normal(μ=0.0, σ=1.0),Distributions.Normal(μ=0.0, σ=1.0)])=>:conjugate,VB.RandomNode{Distributions.Gamma}(:τ,Symbol[],[:j],[Distributions.Gamma(α=1.1, θ=1.0),Distributions.Gamma(α=1.1, θ=1.0),Distributions.Gamma(α=1.1, θ=1.0),Distributions.Gamma(α=1.1, θ=1.0),Distributions.Gamma(α=1.1, θ=1.0),Distributions.Gamma(α=1.1, θ=1.0)])=>:conjugate,VB.ConstantNode{Float64}(:τ0,Symbol[],[:j],[2.0,2.0,2.0,2.0,2.0,2.0])=>:constant,VB.ConstantNode{Float64}(:μ0,Symbol[],[:j],[0.0,0.0,0.0,0.0,0.0,0.0])=>:constant,VB.ConstantNode{Float64}(:y,Symbol[],[:i,:j],20x6 Array{Float64,2}:\n",
       " 0.174979   0.476362   0.958364   0.200436  0.877307   0.927996 \n",
       " 0.671342   0.962711   0.0109708  0.51822   0.766578   0.245776 \n",
       " 0.762796   0.152463   0.773449   0.81986   0.0288218  0.370747 \n",
       " 0.566535   0.978326   0.810247   0.88814   0.0529904  0.707288 \n",
       " 0.362009   0.643451   0.876974   0.224138  0.568146   0.775013 \n",
       " 0.613516   0.36666    0.109847   0.707322  0.935852   0.262842 \n",
       " 0.743304   0.0525595  0.342771   0.519311  0.160207   0.287362 \n",
       " 0.101816   0.434516   0.670546   0.37054   0.712331   0.300785 \n",
       " 0.555468   0.651766   0.0900904  0.33636   0.906065   0.762981 \n",
       " 0.396511   0.257627   0.381817   0.501072  0.268144   0.782325 \n",
       " 0.595941   0.325318   0.986943   0.661126  0.395845   0.934101 \n",
       " 0.649952   0.516907   0.130588   0.78217   0.308638   0.881358 \n",
       " 0.611428   0.935661   0.51812    0.988675  0.261661   0.897617 \n",
       " 0.997662   0.572318   0.987925   0.545279  0.543712   0.0430122\n",
       " 0.690129   0.165212   0.508456   0.248383  0.0661098  0.86706  \n",
       " 0.924356   0.844466   0.589223   0.882851  0.0740432  0.785417 \n",
       " 0.160532   0.449782   0.532119   0.618498  0.892887   0.429122 \n",
       " 0.65807    0.382844   0.394554   0.719385  0.346383   0.770398 \n",
       " 0.80114    0.845138   0.528312   0.831376  0.0859161  0.341727 \n",
       " 0.0601891  0.896505   0.766909   0.642533  0.0968621  0.39992  )=>:constant,VB.ConstantNode{Float64}(:b0,Symbol[],[:j],[1.0,1.0,1.0,1.0,1.0,1.0])=>:constant,VB.ConstantNode{Float64}(:a0,Symbol[],[:j],[1.1,1.1,1.1,1.1,1.1,1.1])=>:constant))"
      ]
     },
     "execution_count": 40,
     "metadata": {},
     "output_type": "execute_result"
    }
   ],
   "source": [
    "dims = (20, 6)\n",
    "\n",
    "    # note: it won't matter much how we initialize here\n",
    "    μ[j] ~ Normal(zeros(dims[2]), ones(dims[2]))\n",
    "    τ[j] ~ Gamma(1.1 * ones(dims[2]), ones(dims[2]))\n",
    "    μ0[j] ~ Const(zeros(dims[2]))\n",
    "    τ0[j] ~ Const(2 * ones(dims[2]))\n",
    "    a0[j] ~ Const(1.1 * ones(dims[2]))\n",
    "    b0[j] ~ Const(ones(dims[2]))\n",
    "\n",
    "    y[i, j] ~ Const(rand(dims))\n",
    "\n",
    "    # make factors\n",
    "    obs = @factor LogNormalFactor y μ τ\n",
    "    μ_prior = @factor LogNormalFactor μ μ0 τ0\n",
    "    τ_prior = @factor LogGammaFactor τ a0 b0\n",
    "\n",
    "    m = VBModel([μ, τ, μ0, τ0, a0, b0, y], [obs, μ_prior, τ_prior])"
   ]
  },
  {
   "cell_type": "code",
   "execution_count": 41,
   "metadata": {
    "collapsed": false
   },
   "outputs": [
    {
     "data": {
      "text/plain": [
       "objgrad! (generic function with 1 method)"
      ]
     },
     "execution_count": 41,
     "metadata": {},
     "output_type": "execute_result"
    }
   ],
   "source": [
    "n = μ\n",
    "pars_old = copy(n.data)\n",
    "\n",
    "# use const here so that the closure below can be optimized\n",
    "const fac_list = [f for (f, _) in m.graph[n]]\n",
    "\n",
    "const x0 = unroll_pars(n)\n",
    "# TODO: get lower and upper bounds from each variable in x from n\n",
    "\n",
    "# make an objective function that sets the parameters of n to x\n",
    "# and sums the values of all factors containing n\n",
    "function objfun(x)\n",
    "    update_pars!(n, x)\n",
    "    val = 0\n",
    "    for f in fac_list\n",
    "        val += value(f)\n",
    "    end\n",
    "    val\n",
    "end\n",
    "\n",
    "gradf! = ForwardDiff.gradient(objfun, mutates=true)\n",
    "\n",
    "# define mutating gradient; store gradient in storage array\n",
    "objgrad!(x, storage) = gradf!(storage, x)\n"
   ]
  },
  {
   "cell_type": "code",
   "execution_count": 46,
   "metadata": {
    "collapsed": false
   },
   "outputs": [
    {
     "ename": "LoadError",
     "evalue": "LoadError: InexactError()\nwhile loading In[46], in expression starting on line 2",
     "output_type": "error",
     "traceback": [
      "LoadError: InexactError()\nwhile loading In[46], in expression starting on line 2",
      "",
      " [inlined code] from /Users/jmxp/.julia/v0.4/Distributions/src/utils.jl:6",
      " in call at /Users/jmxp/.julia/v0.4/Distributions/src/univariate/continuous/normal.jl:5",
      " in reroll_pars at /Users/jmxp/code/vbgraph/types.jl:684",
      " in update_pars! at /Users/jmxp/code/vbgraph/types.jl:693",
      " in objfun at In[41]:13",
      " in _calc_gradient at /Users/jmxp/.julia/v0.4/ForwardDiff/src/api/gradient.jl:86",
      " in g! at /Users/jmxp/.julia/v0.4/ForwardDiff/src/api/gradient.jl:47",
      " in objgrad! at In[41]:24"
     ]
    }
   ],
   "source": [
    "x2 = similar(x0)\n",
    "objgrad!(x0, x2)\n",
    "\n",
    "x2"
   ]
  },
  {
   "cell_type": "code",
   "execution_count": null,
   "metadata": {
    "collapsed": true
   },
   "outputs": [],
   "source": []
  }
 ],
 "metadata": {
  "kernelspec": {
   "display_name": "Julia 0.4.1",
   "language": "julia",
   "name": "julia-0.4"
  },
  "language_info": {
   "file_extension": ".jl",
   "mimetype": "application/julia",
   "name": "julia",
   "version": "0.4.1"
  }
 },
 "nbformat": 4,
 "nbformat_minor": 0
}
